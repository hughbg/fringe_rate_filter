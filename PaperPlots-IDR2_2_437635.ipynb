{
 "cells": [
  {
   "cell_type": "code",
   "execution_count": 1,
   "id": "b4823f35",
   "metadata": {
    "execution": {
     "iopub.execute_input": "2022-03-10T16:46:12.450643Z",
     "iopub.status.busy": "2022-03-10T16:46:12.449442Z",
     "iopub.status.idle": "2022-03-10T16:46:12.466087Z",
     "shell.execute_reply": "2022-03-10T16:46:12.466880Z"
    },
    "papermill": {
     "duration": 0.122062,
     "end_time": "2022-03-10T16:46:12.467153",
     "exception": false,
     "start_time": "2022-03-10T16:46:12.345091",
     "status": "completed"
    },
    "tags": []
   },
   "outputs": [
    {
     "data": {
      "text/html": [
       "\n",
       "<style>\n",
       "    div#notebook-container    { width: 95%; }\n",
       "    div#menubar-container     { width: 65%; }\n",
       "    div#maintoolbar-container { width: 99%; }\n",
       "</style>ilter\n"
      ],
      "text/plain": [
       "<IPython.core.display.HTML object>"
      ]
     },
     "metadata": {},
     "output_type": "display_data"
    },
    {
     "data": {
      "text/html": [
       "<style>div.output_scroll { height: 200em; }</style>"
      ],
      "text/plain": [
       "<IPython.core.display.HTML object>"
      ]
     },
     "metadata": {},
     "output_type": "display_data"
    }
   ],
   "source": [
    "from IPython.display import display, HTML\n",
    "\n",
    "display(HTML(data=\"\"\"\n",
    "<style>\n",
    "    div#notebook-container    { width: 95%; }\n",
    "    div#menubar-container     { width: 65%; }\n",
    "    div#maintoolbar-container { width: 99%; }\n",
    "</style>ilter\n",
    "\"\"\"))\n",
    "display(HTML(\"<style>div.output_scroll { height: 200em; }</style>\"))\n"
   ]
  },
  {
   "cell_type": "code",
   "execution_count": 2,
   "id": "788855ae",
   "metadata": {
    "execution": {
     "iopub.execute_input": "2022-03-10T16:46:12.594213Z",
     "iopub.status.busy": "2022-03-10T16:46:12.593541Z",
     "iopub.status.idle": "2022-03-10T16:46:12.596071Z",
     "shell.execute_reply": "2022-03-10T16:46:12.594738Z"
    },
    "papermill": {
     "duration": 0.068242,
     "end_time": "2022-03-10T16:46:12.596225",
     "exception": false,
     "start_time": "2022-03-10T16:46:12.527983",
     "status": "completed"
    },
    "tags": []
   },
   "outputs": [
    {
     "data": {
      "text/plain": [
       "'/lustre/aoc/projects/hera/hgarsden'"
      ]
     },
     "execution_count": 2,
     "metadata": {},
     "output_type": "execute_result"
    }
   ],
   "source": [
    "pwd"
   ]
  },
  {
   "cell_type": "code",
   "execution_count": 3,
   "id": "d1662743",
   "metadata": {
    "execution": {
     "iopub.execute_input": "2022-03-10T16:46:12.724939Z",
     "iopub.status.busy": "2022-03-10T16:46:12.724364Z",
     "iopub.status.idle": "2022-03-10T16:46:12.852587Z",
     "shell.execute_reply": "2022-03-10T16:46:12.851334Z"
    },
    "papermill": {
     "duration": 0.196446,
     "end_time": "2022-03-10T16:46:12.852783",
     "exception": false,
     "start_time": "2022-03-10T16:46:12.656337",
     "status": "completed"
    },
    "tags": []
   },
   "outputs": [
    {
     "name": "stdout",
     "output_type": "stream",
     "text": [
      "PaperPlots-IDR2_2_437335.ipynb\r\n",
      "PaperPlots-IDR2_2_437336.ipynb\r\n",
      "PaperPlots-IDR2_2_437495.ipynb\r\n",
      "PaperPlots-IDR2_2_437503.ipynb\r\n",
      "PaperPlots-IDR2_2_437626.ipynb\r\n",
      "PaperPlots-IDR2_2_437635.ipynb\r\n",
      "PaperPlots-IDR2_2.ipynb\r\n",
      "PaperPlots-IDR2_2_orig.ipynb\r\n",
      "PaperPlots-IDR2_2_out.ipynb\r\n",
      "PaperPlots-IDR2_2_sim_to_match_orig.ipynb\r\n",
      "PaperPlots-null_test_for_histed_noise_dominated_bandpowers.ipynb\r\n",
      "PaperPlots-null_test_for_histed_noise_dominated_bandpowers_orig.ipynb\r\n",
      "PaperPlots-null_test_for_histed_noise_dominated_bandpowers_out.ipynb\r\n",
      "Untitled.ipynb\r\n"
     ]
    }
   ],
   "source": [
    "ls *ipynb"
   ]
  },
  {
   "cell_type": "code",
   "execution_count": 4,
   "id": "ba5d4675",
   "metadata": {
    "execution": {
     "iopub.execute_input": "2022-03-10T16:46:12.994562Z",
     "iopub.status.busy": "2022-03-10T16:46:12.993892Z",
     "iopub.status.idle": "2022-03-10T16:46:12.995577Z",
     "shell.execute_reply": "2022-03-10T16:46:12.995033Z"
    },
    "papermill": {
     "duration": 0.070468,
     "end_time": "2022-03-10T16:46:12.995725",
     "exception": false,
     "start_time": "2022-03-10T16:46:12.925257",
     "status": "completed"
    },
    "tags": []
   },
   "outputs": [],
   "source": [
    "import sys\n",
    "sys.path.append(\"/users/hgarsden/.local/lib/python3.9/site-packages\")"
   ]
  },
  {
   "cell_type": "code",
   "execution_count": 5,
   "id": "2620773a",
   "metadata": {
    "execution": {
     "iopub.execute_input": "2022-03-10T16:46:13.125998Z",
     "iopub.status.busy": "2022-03-10T16:46:13.125412Z",
     "iopub.status.idle": "2022-03-10T16:46:18.577657Z",
     "shell.execute_reply": "2022-03-10T16:46:18.578405Z"
    },
    "papermill": {
     "duration": 5.520846,
     "end_time": "2022-03-10T16:46:18.578568",
     "exception": false,
     "start_time": "2022-03-10T16:46:13.057722",
     "status": "completed"
    },
    "scrolled": true,
    "tags": []
   },
   "outputs": [],
   "source": [
    "%matplotlib inline\n",
    "#%load_ext line_profiler\n",
    "import numpy as np\n",
    "import matplotlib\n",
    "import matplotlib.pyplot as plt\n",
    "import glob\n",
    "import hera_cal as hc\n",
    "import hera_pspec as hp\n",
    "from hera_pspec.data import DATA_PATH\n",
    "from pyuvdata import UVData, UVCal, UVFlag, utils as uvutils\n",
    "from scipy import stats, signal, interpolate\n",
    "import copy\n",
    "import matplotlib.gridspec as gridspec\n",
    "from astropy import constants\n",
    "import uvtools as uvt\n",
    "import cycler\n",
    "import itertools\n",
    "import os\n",
    "from collections import OrderedDict as odict"
   ]
  },
  {
   "cell_type": "code",
   "execution_count": 6,
   "id": "b94c2487",
   "metadata": {
    "execution": {
     "iopub.execute_input": "2022-03-10T16:46:18.705329Z",
     "iopub.status.busy": "2022-03-10T16:46:18.704553Z",
     "iopub.status.idle": "2022-03-10T16:46:18.719343Z",
     "shell.execute_reply": "2022-03-10T16:46:18.719780Z"
    },
    "papermill": {
     "duration": 0.080387,
     "end_time": "2022-03-10T16:46:18.719945",
     "exception": false,
     "start_time": "2022-03-10T16:46:18.639558",
     "status": "completed"
    },
    "tags": []
   },
   "outputs": [],
   "source": [
    "from mpl_toolkits.axes_grid1.inset_locator import inset_axes"
   ]
  },
  {
   "cell_type": "code",
   "execution_count": 7,
   "id": "46abedaf",
   "metadata": {
    "execution": {
     "iopub.execute_input": "2022-03-10T16:46:18.845360Z",
     "iopub.status.busy": "2022-03-10T16:46:18.844732Z",
     "iopub.status.idle": "2022-03-10T16:46:18.846368Z",
     "shell.execute_reply": "2022-03-10T16:46:18.845880Z"
    },
    "papermill": {
     "duration": 0.066289,
     "end_time": "2022-03-10T16:46:18.846494",
     "exception": false,
     "start_time": "2022-03-10T16:46:18.780205",
     "status": "completed"
    },
    "tags": []
   },
   "outputs": [],
   "source": [
    "import matplotlib.ticker as ticker"
   ]
  },
  {
   "cell_type": "code",
   "execution_count": 8,
   "id": "2a7fe893",
   "metadata": {
    "execution": {
     "iopub.execute_input": "2022-03-10T16:46:18.974227Z",
     "iopub.status.busy": "2022-03-10T16:46:18.973524Z",
     "iopub.status.idle": "2022-03-10T16:46:18.975249Z",
     "shell.execute_reply": "2022-03-10T16:46:18.974760Z"
    },
    "papermill": {
     "duration": 0.068399,
     "end_time": "2022-03-10T16:46:18.975392",
     "exception": false,
     "start_time": "2022-03-10T16:46:18.906993",
     "status": "completed"
    },
    "tags": []
   },
   "outputs": [],
   "source": [
    "def fmt(x, pos):\n",
    "    a, b = '{:.2e}'.format(x).split('e')\n",
    "    b = int(b)\n",
    "    return r'${} \\times 10^{{{}}}$'.format(a, b)"
   ]
  },
  {
   "cell_type": "code",
   "execution_count": 9,
   "id": "f4307894",
   "metadata": {
    "execution": {
     "iopub.execute_input": "2022-03-10T16:46:19.102898Z",
     "iopub.status.busy": "2022-03-10T16:46:19.102256Z",
     "iopub.status.idle": "2022-03-10T16:46:19.103898Z",
     "shell.execute_reply": "2022-03-10T16:46:19.103415Z"
    },
    "papermill": {
     "duration": 0.068113,
     "end_time": "2022-03-10T16:46:19.104025",
     "exception": false,
     "start_time": "2022-03-10T16:46:19.035912",
     "status": "completed"
    },
    "tags": []
   },
   "outputs": [],
   "source": [
    "import matplotlib.font_manager\n",
    "\n",
    "sim_file = \"fringe_rate_filter/cleaned_sim_1000_256.uvh5\""
   ]
  },
  {
   "cell_type": "markdown",
   "id": "94d893e6",
   "metadata": {
    "papermill": {
     "duration": 0.059837,
     "end_time": "2022-03-10T16:46:19.224012",
     "exception": false,
     "start_time": "2022-03-10T16:46:19.164175",
     "status": "completed"
    },
    "tags": []
   },
   "source": [
    "### noise error bar"
   ]
  },
  {
   "cell_type": "code",
   "execution_count": 10,
   "id": "563e7e84",
   "metadata": {
    "execution": {
     "iopub.execute_input": "2022-03-10T16:46:19.352956Z",
     "iopub.status.busy": "2022-03-10T16:46:19.350886Z",
     "iopub.status.idle": "2022-03-10T16:46:19.353994Z",
     "shell.execute_reply": "2022-03-10T16:46:19.353538Z"
    },
    "papermill": {
     "duration": 0.069862,
     "end_time": "2022-03-10T16:46:19.354126",
     "exception": false,
     "start_time": "2022-03-10T16:46:19.284264",
     "status": "completed"
    },
    "tags": []
   },
   "outputs": [],
   "source": [
    "# LST binned, Inpainted & xtalk subtracted files\n",
    "root = \"/lustre/aoc/projects/hera/H1C_IDR2/IDR2_2_pspec/v2/one_group/data/\"\n",
    "dfiles = sorted(glob.glob(root + \"zen.grp1.of1.LST.1*.HH.OCRSLP2X.uvh5\"))\n",
    "dfiles[5] = sim_file"
   ]
  },
  {
   "cell_type": "code",
   "execution_count": 11,
   "id": "3ef2b243",
   "metadata": {
    "execution": {
     "iopub.execute_input": "2022-03-10T16:46:19.484448Z",
     "iopub.status.busy": "2022-03-10T16:46:19.481869Z",
     "iopub.status.idle": "2022-03-10T16:46:21.306969Z",
     "shell.execute_reply": "2022-03-10T16:46:21.307688Z"
    },
    "papermill": {
     "duration": 1.893251,
     "end_time": "2022-03-10T16:46:21.307849",
     "exception": false,
     "start_time": "2022-03-10T16:46:19.414598",
     "status": "completed"
    },
    "tags": []
   },
   "outputs": [
    {
     "name": "stdout",
     "output_type": "stream",
     "text": [
      "fringe_rate_filter/cleaned_sim_1000_256.uvh5\n"
     ]
    },
    {
     "name": "stderr",
     "output_type": "stream",
     "text": [
      "Telescope hera_sim is not in known_telescopes.\n"
     ]
    }
   ],
   "source": [
    "uvd_ = UVData()\n",
    "print(dfiles[5])\n",
    "uvd_.read(dfiles[5], read_data=False)"
   ]
  },
  {
   "cell_type": "code",
   "execution_count": 12,
   "id": "2a1e4b01",
   "metadata": {
    "execution": {
     "iopub.execute_input": "2022-03-10T16:46:21.456833Z",
     "iopub.status.busy": "2022-03-10T16:46:21.456263Z",
     "iopub.status.idle": "2022-03-10T16:46:21.471423Z",
     "shell.execute_reply": "2022-03-10T16:46:21.472148Z"
    },
    "papermill": {
     "duration": 0.102473,
     "end_time": "2022-03-10T16:46:21.472324",
     "exception": false,
     "start_time": "2022-03-10T16:46:21.369851",
     "status": "completed"
    },
    "tags": []
   },
   "outputs": [],
   "source": [
    "ntimes = 60      # Use this many\n",
    "times = np.unique(uvd_.time_array)\n",
    "time_range = (times[times.size//2-ntimes//2], times[times.size//2+ntimes//2-1])\n",
    "\n",
    "xants = [0,2,11,24,50,53,54,67,69,98,122,136,139]"
   ]
  },
  {
   "cell_type": "code",
   "execution_count": 13,
   "id": "552a6c36",
   "metadata": {
    "execution": {
     "iopub.execute_input": "2022-03-10T16:46:21.620805Z",
     "iopub.status.busy": "2022-03-10T16:46:21.620254Z",
     "iopub.status.idle": "2022-03-10T16:46:21.672657Z",
     "shell.execute_reply": "2022-03-10T16:46:21.673364Z"
    },
    "papermill": {
     "duration": 0.138203,
     "end_time": "2022-03-10T16:46:21.673529",
     "exception": false,
     "start_time": "2022-03-10T16:46:21.535326",
     "status": "completed"
    },
    "tags": []
   },
   "outputs": [],
   "source": [
    "# short baseline group\n",
    "bl_len_range = (14, 15)\n",
    "bl_deg_range = (0, 1)\n",
    "reds, lens, angs = hp.utils.get_reds(uvd_, bl_len_range=bl_len_range, bl_deg_range=bl_deg_range, xants=xants)\n",
    "bls = hp.utils.flatten(reds)"
   ]
  },
  {
   "cell_type": "code",
   "execution_count": 14,
   "id": "6ab1b673",
   "metadata": {
    "execution": {
     "iopub.execute_input": "2022-03-10T16:46:21.802861Z",
     "iopub.status.busy": "2022-03-10T16:46:21.802189Z",
     "iopub.status.idle": "2022-03-10T16:46:21.803870Z",
     "shell.execute_reply": "2022-03-10T16:46:21.803389Z"
    },
    "papermill": {
     "duration": 0.068714,
     "end_time": "2022-03-10T16:46:21.804003",
     "exception": false,
     "start_time": "2022-03-10T16:46:21.735289",
     "status": "completed"
    },
    "tags": []
   },
   "outputs": [],
   "source": [
    "#uvd_.get"
   ]
  },
  {
   "cell_type": "code",
   "execution_count": 15,
   "id": "09196fcc",
   "metadata": {
    "execution": {
     "iopub.execute_input": "2022-03-10T16:46:21.946829Z",
     "iopub.status.busy": "2022-03-10T16:46:21.946262Z",
     "iopub.status.idle": "2022-03-10T16:48:40.633670Z",
     "shell.execute_reply": "2022-03-10T16:48:40.634479Z"
    },
    "papermill": {
     "duration": 138.76844,
     "end_time": "2022-03-10T16:48:40.634646",
     "exception": false,
     "start_time": "2022-03-10T16:46:21.866206",
     "status": "completed"
    },
    "tags": []
   },
   "outputs": [
    {
     "name": "stdout",
     "output_type": "stream",
     "text": [
      "fringe_rate_filter/cleaned_sim_1000_256.uvh5\n"
     ]
    }
   ],
   "source": [
    "print(dfiles[5])\n",
    "uvd_.read(dfiles[5], time_range=time_range, antenna_nums=np.array(bls).flatten(), polarizations=['xx','yy'])"
   ]
  },
  {
   "cell_type": "code",
   "execution_count": 16,
   "id": "278abb3d",
   "metadata": {
    "execution": {
     "iopub.execute_input": "2022-03-10T16:48:40.769096Z",
     "iopub.status.busy": "2022-03-10T16:48:40.768353Z",
     "iopub.status.idle": "2022-03-10T16:48:40.938727Z",
     "shell.execute_reply": "2022-03-10T16:48:40.939480Z"
    },
    "papermill": {
     "duration": 0.24015,
     "end_time": "2022-03-10T16:48:40.939645",
     "exception": false,
     "start_time": "2022-03-10T16:48:40.699495",
     "status": "completed"
    },
    "tags": []
   },
   "outputs": [],
   "source": [
    "beam = hp.PSpecBeamUV(\"/lustre/aoc/projects/hera/nkern/beams/NF_HERA_IQ_power_beam_healpix128.fits\")"
   ]
  },
  {
   "cell_type": "code",
   "execution_count": 17,
   "id": "3da2ce3d",
   "metadata": {
    "execution": {
     "iopub.execute_input": "2022-03-10T16:48:41.088817Z",
     "iopub.status.busy": "2022-03-10T16:48:41.088257Z",
     "iopub.status.idle": "2022-03-10T16:48:41.508684Z",
     "shell.execute_reply": "2022-03-10T16:48:41.509501Z"
    },
    "papermill": {
     "duration": 0.506171,
     "end_time": "2022-03-10T16:48:41.509673",
     "exception": false,
     "start_time": "2022-03-10T16:48:41.003502",
     "status": "completed"
    },
    "tags": []
   },
   "outputs": [],
   "source": [
    "uvd = hp.pstokes.construct_pstokes(uvd_, uvd_, pstokes='pI')"
   ]
  },
  {
   "cell_type": "code",
   "execution_count": 18,
   "id": "e973c398",
   "metadata": {
    "execution": {
     "iopub.execute_input": "2022-03-10T16:48:41.658857Z",
     "iopub.status.busy": "2022-03-10T16:48:41.658278Z",
     "iopub.status.idle": "2022-03-10T16:54:12.891844Z",
     "shell.execute_reply": "2022-03-10T16:54:12.892333Z"
    },
    "papermill": {
     "duration": 331.319007,
     "end_time": "2022-03-10T16:54:12.892610",
     "exception": false,
     "start_time": "2022-03-10T16:48:41.573603",
     "status": "completed"
    },
    "tags": []
   },
   "outputs": [
    {
     "name": "stdout",
     "output_type": "stream",
     "text": [
      "bl range for pI_shortbl (14, 15)\n",
      "Warning: LST bins in dsets misaligned by more than 15 seconds\n"
     ]
    },
    {
     "name": "stdout",
     "output_type": "stream",
     "text": [
      "Warning: LST bins in dsets misaligned by more than 15 seconds\n"
     ]
    },
    {
     "name": "stderr",
     "output_type": "stream",
     "text": [
      "Producing time-uniform covariance matrices between bandpowers.\n",
      "Casting complex values to real discards the imaginary part\n"
     ]
    },
    {
     "name": "stdout",
     "output_type": "stream",
     "text": [
      "\n"
     ]
    }
   ],
   "source": [
    "# pspec at cross time, short baseline group\n",
    "print(\"bl range for pI_shortbl\", bl_len_range)\n",
    "\n",
    "hp.pspecdata.pspec_run([copy.deepcopy(uvd)], 'pspec_nulltest.h5', groupname='pI_shortbl', spw_ranges=[(0, 180)],\n",
    "                       dset_pairs=[(0,0)], pol_pairs=['pI'], input_data_weight='identity', norm='I',\n",
    "                       rephase_to_dset=True, interleave_times=True, Jy2mK=True, overwrite=True, verbose=False,\n",
    "                       bl_len_range=bl_len_range, bl_deg_range=bl_deg_range, beam=beam, taper='bh',\n",
    "                       broadcast_dset_flags=True, time_thresh=0.99, store_cov_diag=True, cov_model='autos', \n",
    "                       exclude_auto_bls=True, exclude_cross_bls=False, exclude_permutations=True)\n",
    "\n",
    "print()"
   ]
  },
  {
   "cell_type": "code",
   "execution_count": 19,
   "id": "f7543174",
   "metadata": {
    "execution": {
     "iopub.execute_input": "2022-03-10T16:54:13.115870Z",
     "iopub.status.busy": "2022-03-10T16:54:13.115280Z",
     "iopub.status.idle": "2022-03-10T16:54:13.140526Z",
     "shell.execute_reply": "2022-03-10T16:54:13.141251Z"
    },
    "papermill": {
     "duration": 0.16684,
     "end_time": "2022-03-10T16:54:13.141425",
     "exception": false,
     "start_time": "2022-03-10T16:54:12.974585",
     "status": "completed"
    },
    "tags": []
   },
   "outputs": [],
   "source": [
    "# intermediate baseline group\n",
    "bl_len_range = (40, 45)\n",
    "bl_deg_range = (0, 1)\n",
    "reds, lens, angs = hp.utils.get_reds(uvd_, bl_len_range=bl_len_range, bl_deg_range=bl_deg_range, xants=xants)\n",
    "bls = hp.utils.flatten(reds)"
   ]
  },
  {
   "cell_type": "code",
   "execution_count": 20,
   "id": "153362e3",
   "metadata": {
    "execution": {
     "iopub.execute_input": "2022-03-10T16:54:13.337813Z",
     "iopub.status.busy": "2022-03-10T16:54:13.337246Z",
     "iopub.status.idle": "2022-03-10T16:55:42.839751Z",
     "shell.execute_reply": "2022-03-10T16:55:42.840276Z"
    },
    "papermill": {
     "duration": 89.596283,
     "end_time": "2022-03-10T16:55:42.840449",
     "exception": false,
     "start_time": "2022-03-10T16:54:13.244166",
     "status": "completed"
    },
    "tags": []
   },
   "outputs": [
    {
     "name": "stdout",
     "output_type": "stream",
     "text": [
      "bls range for pI_medbl (40, 45)\n"
     ]
    },
    {
     "name": "stdout",
     "output_type": "stream",
     "text": [
      "Warning: LST bins in dsets misaligned by more than 15 seconds\n"
     ]
    },
    {
     "name": "stdout",
     "output_type": "stream",
     "text": [
      "Warning: LST bins in dsets misaligned by more than 15 seconds\n"
     ]
    },
    {
     "name": "stderr",
     "output_type": "stream",
     "text": [
      "Producing time-uniform covariance matrices between bandpowers.\n",
      "Casting complex values to real discards the imaginary part\n"
     ]
    },
    {
     "name": "stdout",
     "output_type": "stream",
     "text": [
      "\n"
     ]
    }
   ],
   "source": [
    "# pspec at cross time, med baseline group\n",
    "print(\"bls range for pI_medbl\", bl_len_range)\n",
    "\n",
    "hp.pspecdata.pspec_run([copy.deepcopy(uvd)], 'pspec_nulltest.h5', groupname='pI_medbl', spw_ranges=[(0, 180)],\n",
    "                       dset_pairs=[(0,0)], pol_pairs=['pI'], input_data_weight='identity', norm='I',\n",
    "                       rephase_to_dset=True, interleave_times=True, Jy2mK=True, overwrite=True, verbose=False,\n",
    "                       bl_len_range=bl_len_range, bl_deg_range=bl_deg_range, beam=beam, taper='bh',\n",
    "                       broadcast_dset_flags=True, time_thresh=0.99, store_cov_diag=True, cov_model='autos', \n",
    "                       exclude_auto_bls=True, exclude_cross_bls=False, exclude_permutations=True)\n",
    "                       \n",
    "print()"
   ]
  },
  {
   "cell_type": "markdown",
   "id": "478dc89f",
   "metadata": {
    "papermill": {
     "duration": 0.06386,
     "end_time": "2022-03-10T16:55:42.968652",
     "exception": false,
     "start_time": "2022-03-10T16:55:42.904792",
     "status": "completed"
    },
    "tags": []
   },
   "source": [
    "### foreground_dependent error bar"
   ]
  },
  {
   "cell_type": "code",
   "execution_count": 21,
   "id": "72afa86c",
   "metadata": {
    "execution": {
     "iopub.execute_input": "2022-03-10T16:55:43.122727Z",
     "iopub.status.busy": "2022-03-10T16:55:43.122174Z",
     "iopub.status.idle": "2022-03-10T16:55:43.150310Z",
     "shell.execute_reply": "2022-03-10T16:55:43.149833Z"
    },
    "papermill": {
     "duration": 0.118344,
     "end_time": "2022-03-10T16:55:43.150446",
     "exception": false,
     "start_time": "2022-03-10T16:55:43.032102",
     "status": "completed"
    },
    "tags": []
   },
   "outputs": [],
   "source": [
    "# LST binned, Inpainted & xtalk subtracted files\n",
    "root = \"/lustre/aoc/projects/hera/H1C_IDR2/IDR2_2_pspec/v2/one_group/data/\"\n",
    "dfiles = sorted(glob.glob(root + \"zen.grp1.of1.LST.1*.HH.OCRSLP2X.uvh5\"))\n",
    "dfiles[5] = sim_file"
   ]
  },
  {
   "cell_type": "code",
   "execution_count": 22,
   "id": "d30e2f19",
   "metadata": {
    "execution": {
     "iopub.execute_input": "2022-03-10T16:55:43.285914Z",
     "iopub.status.busy": "2022-03-10T16:55:43.285273Z",
     "iopub.status.idle": "2022-03-10T16:55:43.287736Z",
     "shell.execute_reply": "2022-03-10T16:55:43.286434Z"
    },
    "papermill": {
     "duration": 0.073297,
     "end_time": "2022-03-10T16:55:43.287866",
     "exception": false,
     "start_time": "2022-03-10T16:55:43.214569",
     "status": "completed"
    },
    "tags": []
   },
   "outputs": [
    {
     "data": {
      "text/plain": [
       "'fringe_rate_filter/cleaned_sim_1000_256.uvh5'"
      ]
     },
     "execution_count": 22,
     "metadata": {},
     "output_type": "execute_result"
    }
   ],
   "source": [
    "dfiles[5]"
   ]
  },
  {
   "cell_type": "code",
   "execution_count": 23,
   "id": "c447f0d6",
   "metadata": {
    "execution": {
     "iopub.execute_input": "2022-03-10T16:55:43.436770Z",
     "iopub.status.busy": "2022-03-10T16:55:43.436218Z",
     "iopub.status.idle": "2022-03-10T16:55:43.774919Z",
     "shell.execute_reply": "2022-03-10T16:55:43.775623Z"
    },
    "papermill": {
     "duration": 0.423658,
     "end_time": "2022-03-10T16:55:43.775783",
     "exception": false,
     "start_time": "2022-03-10T16:55:43.352125",
     "status": "completed"
    },
    "tags": []
   },
   "outputs": [
    {
     "name": "stdout",
     "output_type": "stream",
     "text": [
      "fringe_rate_filter/cleaned_sim_1000_256.uvh5\n"
     ]
    },
    {
     "name": "stderr",
     "output_type": "stream",
     "text": [
      "Telescope hera_sim is not in known_telescopes.\n"
     ]
    }
   ],
   "source": [
    "uvd_ = UVData()\n",
    "print(dfiles[5])\n",
    "uvd_.read(dfiles[5], read_data=False)"
   ]
  },
  {
   "cell_type": "code",
   "execution_count": 24,
   "id": "a6d5caab",
   "metadata": {
    "execution": {
     "iopub.execute_input": "2022-03-10T16:55:43.946390Z",
     "iopub.status.busy": "2022-03-10T16:55:43.945680Z",
     "iopub.status.idle": "2022-03-10T16:55:43.947381Z",
     "shell.execute_reply": "2022-03-10T16:55:43.946897Z"
    },
    "papermill": {
     "duration": 0.072921,
     "end_time": "2022-03-10T16:55:43.947513",
     "exception": false,
     "start_time": "2022-03-10T16:55:43.874592",
     "status": "completed"
    },
    "tags": []
   },
   "outputs": [],
   "source": [
    "xants = [0,2,11,24,50,53,54,67,69,98,122,136,139]"
   ]
  },
  {
   "cell_type": "code",
   "execution_count": 25,
   "id": "0e365db2",
   "metadata": {
    "execution": {
     "iopub.execute_input": "2022-03-10T16:55:44.098544Z",
     "iopub.status.busy": "2022-03-10T16:55:44.097978Z",
     "iopub.status.idle": "2022-03-10T16:55:44.127534Z",
     "shell.execute_reply": "2022-03-10T16:55:44.128227Z"
    },
    "papermill": {
     "duration": 0.115838,
     "end_time": "2022-03-10T16:55:44.128395",
     "exception": false,
     "start_time": "2022-03-10T16:55:44.012557",
     "status": "completed"
    },
    "tags": []
   },
   "outputs": [],
   "source": [
    "# short baseline group\n",
    "bl_len_range = (14, 15)\n",
    "bl_deg_range = (0, 1)\n",
    "reds, lens, angs = hp.utils.get_reds(uvd_, bl_len_range=bl_len_range, bl_deg_range=bl_deg_range, xants=xants)\n",
    "bls = hp.utils.flatten(reds)"
   ]
  },
  {
   "cell_type": "code",
   "execution_count": 26,
   "id": "7eb942cc",
   "metadata": {
    "execution": {
     "iopub.execute_input": "2022-03-10T16:55:44.266040Z",
     "iopub.status.busy": "2022-03-10T16:55:44.265411Z",
     "iopub.status.idle": "2022-03-10T16:55:44.267039Z",
     "shell.execute_reply": "2022-03-10T16:55:44.266562Z"
    },
    "papermill": {
     "duration": 0.072906,
     "end_time": "2022-03-10T16:55:44.267167",
     "exception": false,
     "start_time": "2022-03-10T16:55:44.194261",
     "status": "completed"
    },
    "tags": []
   },
   "outputs": [],
   "source": [
    "refcal = '/lustre/aoc/projects/hera/H1C_IDR2/IDR2_2_pspec/v2/one_group/data/zen.grp1.of1.LST.1.50345.HH.OCRSLP2.allspws.refcal_smooth.calfits'"
   ]
  },
  {
   "cell_type": "code",
   "execution_count": 27,
   "id": "d166fbfe",
   "metadata": {
    "execution": {
     "iopub.execute_input": "2022-03-10T16:55:44.404761Z",
     "iopub.status.busy": "2022-03-10T16:55:44.404145Z",
     "iopub.status.idle": "2022-03-10T16:55:44.405732Z",
     "shell.execute_reply": "2022-03-10T16:55:44.405263Z"
    },
    "papermill": {
     "duration": 0.072066,
     "end_time": "2022-03-10T16:55:44.405853",
     "exception": false,
     "start_time": "2022-03-10T16:55:44.333787",
     "status": "completed"
    },
    "tags": []
   },
   "outputs": [],
   "source": [
    "# intermediate baseline group\n",
    "#bl_len_range = (40, 45)\n",
    "#bl_deg_range = (0, 1)\n",
    "#reds, lens, angs = hp.utils.get_reds(uvd_, bl_len_range=bl_len_range, bl_deg_range=bl_deg_range, xants=xants)\n",
    "#bls = hp.utils.flatten(reds)"
   ]
  },
  {
   "cell_type": "code",
   "execution_count": 28,
   "id": "433e5d13",
   "metadata": {
    "execution": {
     "iopub.execute_input": "2022-03-10T16:55:44.564007Z",
     "iopub.status.busy": "2022-03-10T16:55:44.563326Z",
     "iopub.status.idle": "2022-03-10T16:58:12.032729Z",
     "shell.execute_reply": "2022-03-10T16:58:12.033614Z"
    },
    "papermill": {
     "duration": 147.561649,
     "end_time": "2022-03-10T16:58:12.033796",
     "exception": false,
     "start_time": "2022-03-10T16:55:44.472147",
     "status": "completed"
    },
    "tags": []
   },
   "outputs": [
    {
     "name": "stdout",
     "output_type": "stream",
     "text": [
      "fringe_rate_filter/cleaned_sim_1000_256.uvh5\n"
     ]
    }
   ],
   "source": [
    "print(dfiles[5])\n",
    "uvd_.read(dfiles[5], time_range=time_range, antenna_nums=np.array(bls).flatten(), polarizations=['xx','yy'])"
   ]
  },
  {
   "cell_type": "markdown",
   "id": "13636877",
   "metadata": {
    "papermill": {
     "duration": 0.070019,
     "end_time": "2022-03-10T16:58:12.174994",
     "exception": false,
     "start_time": "2022-03-10T16:58:12.104975",
     "status": "completed"
    },
    "tags": []
   },
   "source": [
    "### some parameters"
   ]
  },
  {
   "cell_type": "code",
   "execution_count": 29,
   "id": "cab0a8b0",
   "metadata": {
    "execution": {
     "iopub.execute_input": "2022-03-10T16:58:12.322535Z",
     "iopub.status.busy": "2022-03-10T16:58:12.321762Z",
     "iopub.status.idle": "2022-03-10T16:58:12.324413Z",
     "shell.execute_reply": "2022-03-10T16:58:12.323081Z"
    },
    "papermill": {
     "duration": 0.080579,
     "end_time": "2022-03-10T16:58:12.324557",
     "exception": false,
     "start_time": "2022-03-10T16:58:12.243978",
     "status": "completed"
    },
    "tags": []
   },
   "outputs": [
    {
     "name": "stdout",
     "output_type": "stream",
     "text": [
      "21.48000037266036\n"
     ]
    }
   ],
   "source": [
    "print(np.mean(np.diff(np.unique(uvd_.time_array)))*24*3600)"
   ]
  },
  {
   "cell_type": "code",
   "execution_count": 30,
   "id": "64641a88",
   "metadata": {
    "execution": {
     "iopub.execute_input": "2022-03-10T16:58:12.473916Z",
     "iopub.status.busy": "2022-03-10T16:58:12.473232Z",
     "iopub.status.idle": "2022-03-10T16:58:12.475717Z",
     "shell.execute_reply": "2022-03-10T16:58:12.474453Z"
    },
    "papermill": {
     "duration": 0.082613,
     "end_time": "2022-03-10T16:58:12.475854",
     "exception": false,
     "start_time": "2022-03-10T16:58:12.393241",
     "status": "completed"
    },
    "tags": []
   },
   "outputs": [
    {
     "name": "stdout",
     "output_type": "stream",
     "text": [
      "21.538810908041622\n"
     ]
    }
   ],
   "source": [
    "print(np.mean(np.diff(np.unique(uvd_.lst_array)))*24*3600/2/np.pi)"
   ]
  },
  {
   "cell_type": "code",
   "execution_count": 31,
   "id": "eeb42d5b",
   "metadata": {
    "execution": {
     "iopub.execute_input": "2022-03-10T16:58:12.625624Z",
     "iopub.status.busy": "2022-03-10T16:58:12.624871Z",
     "iopub.status.idle": "2022-03-10T16:58:12.627539Z",
     "shell.execute_reply": "2022-03-10T16:58:12.626169Z"
    },
    "papermill": {
     "duration": 0.080646,
     "end_time": "2022-03-10T16:58:12.627682",
     "exception": false,
     "start_time": "2022-03-10T16:58:12.547036",
     "status": "completed"
    },
    "tags": []
   },
   "outputs": [
    {
     "data": {
      "text/plain": [
       "(8.55777389548382, 8.9107710742545)"
      ]
     },
     "execution_count": 31,
     "metadata": {},
     "output_type": "execute_result"
    }
   ],
   "source": [
    "np.unique(uvd_.lst_array)[0]/2/np.pi*24, np.unique(uvd_.lst_array)[-1]/2/np.pi*24"
   ]
  },
  {
   "cell_type": "code",
   "execution_count": 32,
   "id": "606af27c",
   "metadata": {
    "execution": {
     "iopub.execute_input": "2022-03-10T16:58:12.775968Z",
     "iopub.status.busy": "2022-03-10T16:58:12.775241Z",
     "iopub.status.idle": "2022-03-10T16:58:12.777888Z",
     "shell.execute_reply": "2022-03-10T16:58:12.776515Z"
    },
    "papermill": {
     "duration": 0.081818,
     "end_time": "2022-03-10T16:58:12.778028",
     "exception": false,
     "start_time": "2022-03-10T16:58:12.696210",
     "status": "completed"
    },
    "tags": []
   },
   "outputs": [
    {
     "data": {
      "text/plain": [
       "60"
      ]
     },
     "execution_count": 32,
     "metadata": {},
     "output_type": "execute_result"
    }
   ],
   "source": [
    "uvd_.Ntimes"
   ]
  },
  {
   "cell_type": "code",
   "execution_count": 33,
   "id": "4799f66a",
   "metadata": {
    "execution": {
     "iopub.execute_input": "2022-03-10T16:58:12.925010Z",
     "iopub.status.busy": "2022-03-10T16:58:12.924237Z",
     "iopub.status.idle": "2022-03-10T16:58:12.926965Z",
     "shell.execute_reply": "2022-03-10T16:58:12.925565Z"
    },
    "papermill": {
     "duration": 0.079641,
     "end_time": "2022-03-10T16:58:12.927111",
     "exception": false,
     "start_time": "2022-03-10T16:58:12.847470",
     "status": "completed"
    },
    "tags": []
   },
   "outputs": [
    {
     "data": {
      "text/plain": [
       "array([21.4799881, 21.4799881, 21.4799881, ..., 21.4799881, 21.4799881,\n",
       "       21.4799881])"
      ]
     },
     "execution_count": 33,
     "metadata": {},
     "output_type": "execute_result"
    }
   ],
   "source": [
    "uvd_.integration_time"
   ]
  },
  {
   "cell_type": "code",
   "execution_count": 34,
   "id": "675834e7",
   "metadata": {
    "execution": {
     "iopub.execute_input": "2022-03-10T16:58:13.073413Z",
     "iopub.status.busy": "2022-03-10T16:58:13.072723Z",
     "iopub.status.idle": "2022-03-10T16:58:13.075213Z",
     "shell.execute_reply": "2022-03-10T16:58:13.073923Z"
    },
    "papermill": {
     "duration": 0.078906,
     "end_time": "2022-03-10T16:58:13.075359",
     "exception": false,
     "start_time": "2022-03-10T16:58:12.996453",
     "status": "completed"
    },
    "tags": []
   },
   "outputs": [
    {
     "data": {
      "text/plain": [
       "(21.47998809814453,)"
      ]
     },
     "execution_count": 34,
     "metadata": {},
     "output_type": "execute_result"
    }
   ],
   "source": [
    "np.mean(uvd_.integration_time), "
   ]
  },
  {
   "cell_type": "code",
   "execution_count": 35,
   "id": "49455031",
   "metadata": {
    "execution": {
     "iopub.execute_input": "2022-03-10T16:58:13.226454Z",
     "iopub.status.busy": "2022-03-10T16:58:13.225415Z",
     "iopub.status.idle": "2022-03-10T16:58:13.831218Z",
     "shell.execute_reply": "2022-03-10T16:58:13.832028Z"
    },
    "papermill": {
     "duration": 0.687556,
     "end_time": "2022-03-10T16:58:13.832207",
     "exception": false,
     "start_time": "2022-03-10T16:58:13.144651",
     "status": "completed"
    },
    "tags": []
   },
   "outputs": [
    {
     "name": "stderr",
     "output_type": "stream",
     "text": [
      "telescope_location is not set. Using known values for HERA.\n",
      "antenna_positions is not set. Using known values for HERA.\n"
     ]
    }
   ],
   "source": [
    "uvcal_ref = UVCal()\n",
    "uvcal_ref.read_calfits(refcal)"
   ]
  },
  {
   "cell_type": "code",
   "execution_count": 36,
   "id": "377e3950",
   "metadata": {
    "execution": {
     "iopub.execute_input": "2022-03-10T16:58:13.996014Z",
     "iopub.status.busy": "2022-03-10T16:58:13.995252Z",
     "iopub.status.idle": "2022-03-10T16:58:13.997041Z",
     "shell.execute_reply": "2022-03-10T16:58:13.996557Z"
    },
    "papermill": {
     "duration": 0.090849,
     "end_time": "2022-03-10T16:58:13.997178",
     "exception": false,
     "start_time": "2022-03-10T16:58:13.906329",
     "status": "completed"
    },
    "tags": []
   },
   "outputs": [],
   "source": [
    "uvd_PXC_ = uvd_ #uvutils.uvcalibrate(uvd_, uvcal_ref, inplace=False, prop_flags=True, flag_missing=False)"
   ]
  },
  {
   "cell_type": "code",
   "execution_count": 37,
   "id": "2e7478cf",
   "metadata": {
    "execution": {
     "iopub.execute_input": "2022-03-10T16:58:14.157077Z",
     "iopub.status.busy": "2022-03-10T16:58:14.156527Z",
     "iopub.status.idle": "2022-03-10T16:58:14.784472Z",
     "shell.execute_reply": "2022-03-10T16:58:14.785186Z"
    },
    "papermill": {
     "duration": 0.716492,
     "end_time": "2022-03-10T16:58:14.785366",
     "exception": false,
     "start_time": "2022-03-10T16:58:14.068874",
     "status": "completed"
    },
    "tags": []
   },
   "outputs": [],
   "source": [
    "uvd_PXC =hp.pstokes.construct_pstokes(uvd_PXC_, uvd_PXC_, pstokes='pI')"
   ]
  },
  {
   "cell_type": "code",
   "execution_count": 38,
   "id": "8ae1e514",
   "metadata": {
    "execution": {
     "iopub.execute_input": "2022-03-10T16:58:14.944373Z",
     "iopub.status.busy": "2022-03-10T16:58:14.943702Z",
     "iopub.status.idle": "2022-03-10T16:58:15.413188Z",
     "shell.execute_reply": "2022-03-10T16:58:15.414088Z"
    },
    "papermill": {
     "duration": 0.558463,
     "end_time": "2022-03-10T16:58:15.414321",
     "exception": false,
     "start_time": "2022-03-10T16:58:14.855858",
     "status": "completed"
    },
    "tags": []
   },
   "outputs": [],
   "source": [
    "uvd = hp.pstokes.construct_pstokes(uvd_, uvd_, pstokes='pI')"
   ]
  },
  {
   "cell_type": "code",
   "execution_count": 39,
   "id": "04a34967",
   "metadata": {
    "execution": {
     "iopub.execute_input": "2022-03-10T16:58:15.578000Z",
     "iopub.status.busy": "2022-03-10T16:58:15.577377Z",
     "iopub.status.idle": "2022-03-10T16:58:15.593888Z",
     "shell.execute_reply": "2022-03-10T16:58:15.594781Z"
    },
    "papermill": {
     "duration": 0.105931,
     "end_time": "2022-03-10T16:58:15.595032",
     "exception": false,
     "start_time": "2022-03-10T16:58:15.489101",
     "status": "completed"
    },
    "tags": []
   },
   "outputs": [],
   "source": [
    "beam = hp.PSpecBeamUV(\"/lustre/aoc/projects/hera/nkern/beams/NF_HERA_IQ_power_beam_healpix128.fits\")"
   ]
  },
  {
   "cell_type": "markdown",
   "id": "0d099928",
   "metadata": {
    "papermill": {
     "duration": 0.076231,
     "end_time": "2022-03-10T16:58:15.742667",
     "exception": false,
     "start_time": "2022-03-10T16:58:15.666436",
     "status": "completed"
    },
    "tags": []
   },
   "source": [
    "get the differenced visibility"
   ]
  },
  {
   "cell_type": "code",
   "execution_count": 40,
   "id": "81b95392",
   "metadata": {
    "execution": {
     "iopub.execute_input": "2022-03-10T16:58:15.911173Z",
     "iopub.status.busy": "2022-03-10T16:58:15.910488Z",
     "iopub.status.idle": "2022-03-10T16:58:16.190973Z",
     "shell.execute_reply": "2022-03-10T16:58:16.191782Z"
    },
    "papermill": {
     "duration": 0.374975,
     "end_time": "2022-03-10T16:58:16.191956",
     "exception": false,
     "start_time": "2022-03-10T16:58:15.816981",
     "status": "completed"
    },
    "tags": []
   },
   "outputs": [],
   "source": [
    "uvd1 = uvd.select(times=np.unique(uvd.time_array)[0:-1:2],inplace=False)\n",
    "uvd2 = uvd.select(times=np.unique(uvd.time_array)[1::2],inplace=False)\n",
    "uvd_td = copy.deepcopy(uvd1)\n",
    "uvd_td.data_array = (uvd2.data_array - uvd1.data_array)/np.sqrt(2)"
   ]
  },
  {
   "cell_type": "code",
   "execution_count": 41,
   "id": "ed7a0df3",
   "metadata": {
    "execution": {
     "iopub.execute_input": "2022-03-10T16:58:16.349389Z",
     "iopub.status.busy": "2022-03-10T16:58:16.348756Z",
     "iopub.status.idle": "2022-03-10T16:59:06.439998Z",
     "shell.execute_reply": "2022-03-10T16:59:06.440471Z"
    },
    "papermill": {
     "duration": 50.177474,
     "end_time": "2022-03-10T16:59:06.440622",
     "exception": false,
     "start_time": "2022-03-10T16:58:16.263148",
     "status": "completed"
    },
    "tags": []
   },
   "outputs": [
    {
     "name": "stderr",
     "output_type": "stream",
     "text": [
      "Casting complex values to real discards the imaginary part\n"
     ]
    },
    {
     "data": {
      "text/plain": [
       "<hera_pspec.pspecdata.PSpecData at 0x7fa5dab648e0>"
      ]
     },
     "execution_count": 41,
     "metadata": {},
     "output_type": "execute_result"
    }
   ],
   "source": [
    "# pspec at cross time\n",
    "hp.pspecdata.pspec_run([copy.deepcopy(uvd_td)], 'pspec_crosstime.h5', groupname='pI_shortbl_timediff', spw_ranges=[(0, 180)],\n",
    "                       dset_pairs=[(0,0)], pol_pairs=['pI'], input_data_weight='identity', norm='I',\n",
    "                       rephase_to_dset=False, interleave_times=False, Jy2mK=True, overwrite=True, verbose=False,\n",
    "                       bl_len_range=bl_len_range, bl_deg_range=bl_deg_range, beam=beam, taper='bh',\n",
    "                       broadcast_dset_flags=True, time_thresh=0.99, exclude_auto_bls=True, exclude_cross_bls=False, exclude_permutations=True)"
   ]
  },
  {
   "cell_type": "code",
   "execution_count": 42,
   "id": "1e57dcbe",
   "metadata": {
    "execution": {
     "iopub.execute_input": "2022-03-10T16:59:06.596875Z",
     "iopub.status.busy": "2022-03-10T16:59:06.596288Z",
     "iopub.status.idle": "2022-03-10T17:59:41.243123Z",
     "shell.execute_reply": "2022-03-10T17:59:41.242635Z"
    },
    "papermill": {
     "duration": 3634.731603,
     "end_time": "2022-03-10T17:59:41.243258",
     "exception": false,
     "start_time": "2022-03-10T16:59:06.511655",
     "status": "completed"
    },
    "scrolled": true,
    "tags": []
   },
   "outputs": [
    {
     "name": "stdout",
     "output_type": "stream",
     "text": [
      "Warning: LST bins in dsets misaligned by more than 15 seconds\n"
     ]
    },
    {
     "name": "stdout",
     "output_type": "stream",
     "text": [
      "Warning: LST bins in dsets misaligned by more than 15 seconds\n"
     ]
    },
    {
     "name": "stderr",
     "output_type": "stream",
     "text": [
      "Casting complex values to real discards the imaginary part\n"
     ]
    },
    {
     "data": {
      "text/plain": [
       "<hera_pspec.pspecdata.PSpecData at 0x7fa5d96523a0>"
      ]
     },
     "execution_count": 42,
     "metadata": {},
     "output_type": "execute_result"
    }
   ],
   "source": [
    "# pspec at cross time\n",
    "hp.pspecdata.pspec_run([copy.deepcopy(uvd)], 'pspec_crosstime.h5', groupname='pI_shortbl', spw_ranges=[(0, 180)],\n",
    "                       dset_pairs=[(0,0)], pol_pairs=['pI'], input_data_weight='identity', norm='I',\n",
    "                       rephase_to_dset=True, interleave_times=True, Jy2mK=True, overwrite=True, verbose=False,\n",
    "                       bl_len_range=bl_len_range, bl_deg_range=bl_deg_range, beam=beam, taper='bh',\n",
    "                       broadcast_dset_flags=True, time_thresh=0.99, store_cov_diag=True, cov_model='foreground_dependent', \n",
    "                       exclude_auto_bls=True, exclude_cross_bls=False, exclude_permutations=True)"
   ]
  },
  {
   "cell_type": "code",
   "execution_count": 43,
   "id": "ef89d914",
   "metadata": {
    "execution": {
     "iopub.execute_input": "2022-03-10T17:59:41.469929Z",
     "iopub.status.busy": "2022-03-10T17:59:41.469009Z",
     "iopub.status.idle": "2022-03-10T17:59:42.336124Z",
     "shell.execute_reply": "2022-03-10T17:59:42.336909Z"
    },
    "papermill": {
     "duration": 1.011563,
     "end_time": "2022-03-10T17:59:42.337074",
     "exception": false,
     "start_time": "2022-03-10T17:59:41.325511",
     "status": "completed"
    },
    "tags": []
   },
   "outputs": [],
   "source": [
    "psc = hp.PSpecContainer('pspec_crosstime.h5', mode='rw', keep_open=True)\n",
    "uvp_cov_fg = psc.get_pspec('pI_shortbl', 'dset0_x_dset1')"
   ]
  },
  {
   "cell_type": "code",
   "execution_count": 44,
   "id": "cfdcac95",
   "metadata": {
    "execution": {
     "iopub.execute_input": "2022-03-10T17:59:42.498737Z",
     "iopub.status.busy": "2022-03-10T17:59:42.498218Z",
     "iopub.status.idle": "2022-03-10T17:59:44.240047Z",
     "shell.execute_reply": "2022-03-10T17:59:44.240796Z"
    },
    "papermill": {
     "duration": 1.83215,
     "end_time": "2022-03-10T17:59:44.240958",
     "exception": false,
     "start_time": "2022-03-10T17:59:42.408808",
     "status": "completed"
    },
    "tags": []
   },
   "outputs": [],
   "source": [
    "auto_Tsys = hp.utils.uvd_to_Tsys(uvd, beam)\n",
    "hp.utils.uvp_noise_error(uvp_cov_fg, auto_Tsys, err_type=['P_N','P_SN'])"
   ]
  },
  {
   "cell_type": "code",
   "execution_count": 45,
   "id": "c47d778c",
   "metadata": {
    "execution": {
     "iopub.execute_input": "2022-03-10T17:59:44.541832Z",
     "iopub.status.busy": "2022-03-10T17:59:44.541308Z",
     "iopub.status.idle": "2022-03-10T17:59:46.587523Z",
     "shell.execute_reply": "2022-03-10T17:59:46.588290Z"
    },
    "papermill": {
     "duration": 2.139044,
     "end_time": "2022-03-10T17:59:46.588478",
     "exception": false,
     "start_time": "2022-03-10T17:59:44.449434",
     "status": "completed"
    },
    "tags": []
   },
   "outputs": [],
   "source": [
    "psc.set_pspec('pI_shortbl', 'dset0_x_dset1', uvp_cov_fg, overwrite=True)"
   ]
  },
  {
   "cell_type": "markdown",
   "id": "ccdcb3ed",
   "metadata": {
    "papermill": {
     "duration": 0.071249,
     "end_time": "2022-03-10T17:59:46.732414",
     "exception": false,
     "start_time": "2022-03-10T17:59:46.661165",
     "status": "completed"
    },
    "tags": []
   },
   "source": [
    "## load power spectra"
   ]
  },
  {
   "cell_type": "code",
   "execution_count": 46,
   "id": "84c2e43e",
   "metadata": {
    "execution": {
     "iopub.execute_input": "2022-03-10T17:59:46.892267Z",
     "iopub.status.busy": "2022-03-10T17:59:46.891597Z",
     "iopub.status.idle": "2022-03-10T17:59:51.976800Z",
     "shell.execute_reply": "2022-03-10T17:59:51.977652Z"
    },
    "papermill": {
     "duration": 5.175301,
     "end_time": "2022-03-10T17:59:51.977827",
     "exception": false,
     "start_time": "2022-03-10T17:59:46.802526",
     "status": "completed"
    },
    "tags": []
   },
   "outputs": [],
   "source": [
    "psc = hp.PSpecContainer('pspec_crosstime.h5', keep_open=False)\n",
    "uvp_cov_fg = psc.get_pspec('pI_shortbl', 'dset0_x_dset1')\n",
    "uvp_td = psc.get_pspec('pI_shortbl_timediff', 'dset0_x_dset0')"
   ]
  },
  {
   "cell_type": "code",
   "execution_count": 47,
   "id": "8f70c719",
   "metadata": {
    "execution": {
     "iopub.execute_input": "2022-03-10T17:59:52.139170Z",
     "iopub.status.busy": "2022-03-10T17:59:52.138605Z",
     "iopub.status.idle": "2022-03-10T17:59:56.941162Z",
     "shell.execute_reply": "2022-03-10T17:59:56.942135Z"
    },
    "papermill": {
     "duration": 4.892932,
     "end_time": "2022-03-10T17:59:56.942362",
     "exception": false,
     "start_time": "2022-03-10T17:59:52.049430",
     "status": "completed"
    },
    "tags": []
   },
   "outputs": [],
   "source": [
    "psc_ = hp.PSpecContainer('pspec_nulltest.h5', keep_open=False)\n",
    "uvp_cov_n = psc_.get_pspec('pI_shortbl', 'dset0_x_dset1')"
   ]
  },
  {
   "cell_type": "code",
   "execution_count": 48,
   "id": "77970e73",
   "metadata": {
    "execution": {
     "iopub.execute_input": "2022-03-10T17:59:57.103068Z",
     "iopub.status.busy": "2022-03-10T17:59:57.102452Z",
     "iopub.status.idle": "2022-03-10T17:59:57.104056Z",
     "shell.execute_reply": "2022-03-10T17:59:57.103590Z"
    },
    "papermill": {
     "duration": 0.078293,
     "end_time": "2022-03-10T17:59:57.104180",
     "exception": false,
     "start_time": "2022-03-10T17:59:57.025887",
     "status": "completed"
    },
    "tags": []
   },
   "outputs": [],
   "source": [
    "delay_resolution = 1 / (uvp_cov_fg.freq_array[-1]-uvp_cov_fg.freq_array[0])*1e9"
   ]
  },
  {
   "cell_type": "markdown",
   "id": "d53c0245",
   "metadata": {
    "papermill": {
     "duration": 0.071689,
     "end_time": "2022-03-10T17:59:57.245406",
     "exception": false,
     "start_time": "2022-03-10T17:59:57.173717",
     "status": "completed"
    },
    "tags": []
   },
   "source": [
    "#### other systematics"
   ]
  },
  {
   "cell_type": "markdown",
   "id": "84fde7ff",
   "metadata": {
    "papermill": {
     "duration": 0.071964,
     "end_time": "2022-03-10T17:59:57.387983",
     "exception": false,
     "start_time": "2022-03-10T17:59:57.316019",
     "status": "completed"
    },
    "tags": []
   },
   "source": [
    "PXC"
   ]
  },
  {
   "cell_type": "code",
   "execution_count": 49,
   "id": "88d1ed7c",
   "metadata": {
    "execution": {
     "iopub.execute_input": "2022-03-10T17:59:57.551836Z",
     "iopub.status.busy": "2022-03-10T17:59:57.551257Z",
     "iopub.status.idle": "2022-03-10T18:57:31.574109Z",
     "shell.execute_reply": "2022-03-10T18:57:31.574546Z"
    },
    "papermill": {
     "duration": 3454.115002,
     "end_time": "2022-03-10T18:57:31.574705",
     "exception": false,
     "start_time": "2022-03-10T17:59:57.459703",
     "status": "completed"
    },
    "tags": []
   },
   "outputs": [
    {
     "name": "stdout",
     "output_type": "stream",
     "text": [
      "Warning: LST bins in dsets misaligned by more than 15 seconds\n"
     ]
    },
    {
     "name": "stdout",
     "output_type": "stream",
     "text": [
      "Warning: LST bins in dsets misaligned by more than 15 seconds\n"
     ]
    },
    {
     "name": "stderr",
     "output_type": "stream",
     "text": [
      "Casting complex values to real discards the imaginary part\n"
     ]
    },
    {
     "data": {
      "text/plain": [
       "<hera_pspec.pspecdata.PSpecData at 0x7fa5da7b6ca0>"
      ]
     },
     "execution_count": 49,
     "metadata": {},
     "output_type": "execute_result"
    }
   ],
   "source": [
    "# pspec at cross time\n",
    "hp.pspecdata.pspec_run([copy.deepcopy(uvd_PXC)], 'pspec_systematics.h5', groupname='pI_shortbl_fg_PXC', spw_ranges=[(0, 180)],\n",
    "                       dset_pairs=[(0,0)], pol_pairs=['pI'], input_data_weight='identity', norm='I',\n",
    "                       rephase_to_dset=True, interleave_times=True, Jy2mK=True, overwrite=True, verbose=False,\n",
    "                       bl_len_range=bl_len_range, bl_deg_range=bl_deg_range, beam=beam, taper='bh',\n",
    "                       broadcast_dset_flags=True, time_thresh=0.99, store_cov_diag=True, cov_model='foreground_dependent', \n",
    "                       exclude_auto_bls=True, exclude_cross_bls=False, exclude_permutations=True)"
   ]
  },
  {
   "cell_type": "code",
   "execution_count": 50,
   "id": "e505baef",
   "metadata": {
    "execution": {
     "iopub.execute_input": "2022-03-10T18:57:31.741500Z",
     "iopub.status.busy": "2022-03-10T18:57:31.740985Z",
     "iopub.status.idle": "2022-03-10T19:02:29.723029Z",
     "shell.execute_reply": "2022-03-10T19:02:29.723517Z"
    },
    "papermill": {
     "duration": 298.083908,
     "end_time": "2022-03-10T19:02:29.723680",
     "exception": false,
     "start_time": "2022-03-10T18:57:31.639772",
     "status": "completed"
    },
    "tags": []
   },
   "outputs": [
    {
     "name": "stdout",
     "output_type": "stream",
     "text": [
      "Warning: LST bins in dsets misaligned by more than 15 seconds\n"
     ]
    },
    {
     "name": "stdout",
     "output_type": "stream",
     "text": [
      "Warning: LST bins in dsets misaligned by more than 15 seconds\n"
     ]
    },
    {
     "name": "stderr",
     "output_type": "stream",
     "text": [
      "Producing time-uniform covariance matrices between bandpowers.\n",
      "Casting complex values to real discards the imaginary part\n"
     ]
    },
    {
     "data": {
      "text/plain": [
       "<hera_pspec.pspecdata.PSpecData at 0x7fa5d9eb2610>"
      ]
     },
     "execution_count": 50,
     "metadata": {},
     "output_type": "execute_result"
    }
   ],
   "source": [
    "# pspec at cross time\n",
    "hp.pspecdata.pspec_run([copy.deepcopy(uvd_PXC)], 'pspec_systematics.h5', groupname='pI_shortbl_noise_PXC', spw_ranges=[(0, 180)],\n",
    "                       dset_pairs=[(0,0)], pol_pairs=['pI'], input_data_weight='identity', norm='I',\n",
    "                       rephase_to_dset=True, interleave_times=True, Jy2mK=True, overwrite=True, verbose=False,\n",
    "                       bl_len_range=bl_len_range, bl_deg_range=bl_deg_range, beam=beam, taper='bh',\n",
    "                       broadcast_dset_flags=True, time_thresh=0.99, store_cov_diag=True, cov_model='autos', \n",
    "                       exclude_auto_bls=True, exclude_cross_bls=False, exclude_permutations=True)"
   ]
  },
  {
   "cell_type": "markdown",
   "id": "ec87817d",
   "metadata": {
    "papermill": {
     "duration": 0.068702,
     "end_time": "2022-03-10T19:02:29.861052",
     "exception": false,
     "start_time": "2022-03-10T19:02:29.792350",
     "status": "completed"
    },
    "tags": []
   },
   "source": [
    "P and PC"
   ]
  },
  {
   "cell_type": "code",
   "execution_count": 51,
   "id": "64ad2fd8",
   "metadata": {
    "execution": {
     "iopub.execute_input": "2022-03-10T19:02:30.002746Z",
     "iopub.status.busy": "2022-03-10T19:02:30.001210Z",
     "iopub.status.idle": "2022-03-10T19:02:30.003671Z",
     "shell.execute_reply": "2022-03-10T19:02:30.003229Z"
    },
    "papermill": {
     "duration": 0.075043,
     "end_time": "2022-03-10T19:02:30.003781",
     "exception": false,
     "start_time": "2022-03-10T19:02:29.928738",
     "status": "completed"
    },
    "tags": []
   },
   "outputs": [],
   "source": [
    "# LST binned, Inpainted files\n",
    "root = \"/lustre/aoc/projects/hera/H1C_IDR2/IDR2_2_pspec/v2/one_group/data/\"\n",
    "dfiles = sorted(glob.glob(root + \"zen.grp1.of1.LST.1*.HH.OCRSLP2.uvh5\"))\n",
    "dfiles[5] = sim_file"
   ]
  },
  {
   "cell_type": "code",
   "execution_count": 52,
   "id": "256dd0a7",
   "metadata": {
    "execution": {
     "iopub.execute_input": "2022-03-10T19:02:30.145579Z",
     "iopub.status.busy": "2022-03-10T19:02:30.144997Z",
     "iopub.status.idle": "2022-03-10T19:02:30.147220Z",
     "shell.execute_reply": "2022-03-10T19:02:30.146037Z"
    },
    "papermill": {
     "duration": 0.075658,
     "end_time": "2022-03-10T19:02:30.147358",
     "exception": false,
     "start_time": "2022-03-10T19:02:30.071700",
     "status": "completed"
    },
    "tags": []
   },
   "outputs": [
    {
     "data": {
      "text/plain": [
       "'fringe_rate_filter/cleaned_sim_1000_256.uvh5'"
      ]
     },
     "execution_count": 52,
     "metadata": {},
     "output_type": "execute_result"
    }
   ],
   "source": [
    "dfiles[5]"
   ]
  },
  {
   "cell_type": "code",
   "execution_count": 53,
   "id": "4e4bbb81",
   "metadata": {
    "execution": {
     "iopub.execute_input": "2022-03-10T19:02:30.291377Z",
     "iopub.status.busy": "2022-03-10T19:02:30.290846Z",
     "iopub.status.idle": "2022-03-10T19:02:30.951164Z",
     "shell.execute_reply": "2022-03-10T19:02:30.951867Z"
    },
    "papermill": {
     "duration": 0.734731,
     "end_time": "2022-03-10T19:02:30.952017",
     "exception": false,
     "start_time": "2022-03-10T19:02:30.217286",
     "status": "completed"
    },
    "tags": []
   },
   "outputs": [
    {
     "name": "stdout",
     "output_type": "stream",
     "text": [
      "fringe_rate_filter/cleaned_sim_1000_256.uvh5\n"
     ]
    },
    {
     "name": "stderr",
     "output_type": "stream",
     "text": [
      "Telescope hera_sim is not in known_telescopes.\n"
     ]
    }
   ],
   "source": [
    "uvd_P_ = UVData()\n",
    "print(dfiles[5])\n",
    "uvd_P_ .read(dfiles[5], read_data=False)"
   ]
  },
  {
   "cell_type": "code",
   "execution_count": 54,
   "id": "875772c4",
   "metadata": {
    "execution": {
     "iopub.execute_input": "2022-03-10T19:02:31.111031Z",
     "iopub.status.busy": "2022-03-10T19:02:31.110369Z",
     "iopub.status.idle": "2022-03-10T19:02:31.111984Z",
     "shell.execute_reply": "2022-03-10T19:02:31.111538Z"
    },
    "papermill": {
     "duration": 0.081835,
     "end_time": "2022-03-10T19:02:31.112127",
     "exception": false,
     "start_time": "2022-03-10T19:02:31.030292",
     "status": "completed"
    },
    "tags": []
   },
   "outputs": [],
   "source": [
    "xants = [0,2,11,24,50,53,54,67,69,98,122,136,139]"
   ]
  },
  {
   "cell_type": "code",
   "execution_count": 55,
   "id": "f18f2a40",
   "metadata": {
    "execution": {
     "iopub.execute_input": "2022-03-10T19:02:31.279821Z",
     "iopub.status.busy": "2022-03-10T19:02:31.279254Z",
     "iopub.status.idle": "2022-03-10T19:02:31.308745Z",
     "shell.execute_reply": "2022-03-10T19:02:31.309487Z"
    },
    "papermill": {
     "duration": 0.12554,
     "end_time": "2022-03-10T19:02:31.309657",
     "exception": false,
     "start_time": "2022-03-10T19:02:31.184117",
     "status": "completed"
    },
    "tags": []
   },
   "outputs": [],
   "source": [
    "# short baseline group\n",
    "bl_len_range = (14, 15)\n",
    "bl_deg_range = (0, 1)\n",
    "reds, lens, angs = hp.utils.get_reds(uvd_P_, bl_len_range=bl_len_range, bl_deg_range=bl_deg_range, xants=xants)\n",
    "bls = hp.utils.flatten(reds)"
   ]
  },
  {
   "cell_type": "code",
   "execution_count": 56,
   "id": "566e5a2a",
   "metadata": {
    "execution": {
     "iopub.execute_input": "2022-03-10T19:02:31.460771Z",
     "iopub.status.busy": "2022-03-10T19:02:31.460186Z",
     "iopub.status.idle": "2022-03-10T19:02:31.461666Z",
     "shell.execute_reply": "2022-03-10T19:02:31.461226Z"
    },
    "papermill": {
     "duration": 0.077275,
     "end_time": "2022-03-10T19:02:31.461791",
     "exception": false,
     "start_time": "2022-03-10T19:02:31.384516",
     "status": "completed"
    },
    "tags": []
   },
   "outputs": [],
   "source": [
    "refcal = '/lustre/aoc/projects/hera/H1C_IDR2/IDR2_2_pspec/v2/one_group/data/zen.grp1.of1.LST.1.50345.HH.OCRSLP2.allspws.refcal_smooth.calfits'"
   ]
  },
  {
   "cell_type": "code",
   "execution_count": 57,
   "id": "4721fe80",
   "metadata": {
    "execution": {
     "iopub.execute_input": "2022-03-10T19:02:31.615673Z",
     "iopub.status.busy": "2022-03-10T19:02:31.615162Z",
     "iopub.status.idle": "2022-03-10T19:04:43.467438Z",
     "shell.execute_reply": "2022-03-10T19:04:43.468089Z"
    },
    "papermill": {
     "duration": 131.940387,
     "end_time": "2022-03-10T19:04:43.468235",
     "exception": false,
     "start_time": "2022-03-10T19:02:31.527848",
     "status": "completed"
    },
    "tags": []
   },
   "outputs": [
    {
     "name": "stdout",
     "output_type": "stream",
     "text": [
      "fringe_rate_filter/cleaned_sim_1000_256.uvh5\n"
     ]
    }
   ],
   "source": [
    "print(dfiles[5])\n",
    "uvd_P_.read(dfiles[5], time_range=time_range, antenna_nums=np.array(bls).flatten(), polarizations=['xx','yy'])"
   ]
  },
  {
   "cell_type": "code",
   "execution_count": 58,
   "id": "520434b0",
   "metadata": {
    "execution": {
     "iopub.execute_input": "2022-03-10T19:04:43.627591Z",
     "iopub.status.busy": "2022-03-10T19:04:43.627089Z",
     "iopub.status.idle": "2022-03-10T19:04:44.703331Z",
     "shell.execute_reply": "2022-03-10T19:04:44.704064Z"
    },
    "papermill": {
     "duration": 1.165946,
     "end_time": "2022-03-10T19:04:44.704283",
     "exception": false,
     "start_time": "2022-03-10T19:04:43.538337",
     "status": "completed"
    },
    "tags": []
   },
   "outputs": [
    {
     "name": "stderr",
     "output_type": "stream",
     "text": [
      "telescope_location is not set. Using known values for HERA.\n",
      "antenna_positions is not set. Using known values for HERA.\n"
     ]
    }
   ],
   "source": [
    "uvcal_ref = UVCal()\n",
    "uvcal_ref.read_calfits(refcal)"
   ]
  },
  {
   "cell_type": "code",
   "execution_count": 59,
   "id": "94acd094",
   "metadata": {
    "execution": {
     "iopub.execute_input": "2022-03-10T19:04:44.954216Z",
     "iopub.status.busy": "2022-03-10T19:04:44.953546Z",
     "iopub.status.idle": "2022-03-10T19:04:44.955291Z",
     "shell.execute_reply": "2022-03-10T19:04:44.954789Z"
    },
    "papermill": {
     "duration": 0.111598,
     "end_time": "2022-03-10T19:04:44.955440",
     "exception": false,
     "start_time": "2022-03-10T19:04:44.843842",
     "status": "completed"
    },
    "tags": []
   },
   "outputs": [],
   "source": [
    "uvd_PC_ = uvd_P_ #uvutils.uvcalibrate(uvd_P_, uvcal_ref, inplace=False, prop_flags=True, flag_missing=True)"
   ]
  },
  {
   "cell_type": "code",
   "execution_count": 60,
   "id": "7b87af33",
   "metadata": {
    "execution": {
     "iopub.execute_input": "2022-03-10T19:04:45.120686Z",
     "iopub.status.busy": "2022-03-10T19:04:45.120177Z",
     "iopub.status.idle": "2022-03-10T19:04:45.694356Z",
     "shell.execute_reply": "2022-03-10T19:04:45.694995Z"
    },
    "papermill": {
     "duration": 0.669403,
     "end_time": "2022-03-10T19:04:45.695142",
     "exception": false,
     "start_time": "2022-03-10T19:04:45.025739",
     "status": "completed"
    },
    "tags": []
   },
   "outputs": [],
   "source": [
    "uvd_PC =hp.pstokes.construct_pstokes(uvd_PC_, uvd_PC_, pstokes='pI')"
   ]
  },
  {
   "cell_type": "code",
   "execution_count": 61,
   "id": "99813091",
   "metadata": {
    "execution": {
     "iopub.execute_input": "2022-03-10T19:04:45.877481Z",
     "iopub.status.busy": "2022-03-10T19:04:45.876996Z",
     "iopub.status.idle": "2022-03-10T19:04:46.261778Z",
     "shell.execute_reply": "2022-03-10T19:04:46.262454Z"
    },
    "papermill": {
     "duration": 0.494394,
     "end_time": "2022-03-10T19:04:46.262624",
     "exception": false,
     "start_time": "2022-03-10T19:04:45.768230",
     "status": "completed"
    },
    "tags": []
   },
   "outputs": [],
   "source": [
    "uvd_P = hp.pstokes.construct_pstokes(uvd_P_, uvd_P_, pstokes='pI')"
   ]
  },
  {
   "cell_type": "code",
   "execution_count": 62,
   "id": "fe3e84c6",
   "metadata": {
    "execution": {
     "iopub.execute_input": "2022-03-10T19:04:46.416736Z",
     "iopub.status.busy": "2022-03-10T19:04:46.416188Z",
     "iopub.status.idle": "2022-03-10T19:04:46.525646Z",
     "shell.execute_reply": "2022-03-10T19:04:46.527061Z"
    },
    "papermill": {
     "duration": 0.19047,
     "end_time": "2022-03-10T19:04:46.527351",
     "exception": false,
     "start_time": "2022-03-10T19:04:46.336881",
     "status": "completed"
    },
    "tags": []
   },
   "outputs": [],
   "source": [
    "beam = hp.PSpecBeamUV(\"/lustre/aoc/projects/hera/nkern/beams/NF_HERA_IQ_power_beam_healpix128.fits\")"
   ]
  },
  {
   "cell_type": "code",
   "execution_count": 63,
   "id": "6c418cd6",
   "metadata": {
    "execution": {
     "iopub.execute_input": "2022-03-10T19:04:46.738734Z",
     "iopub.status.busy": "2022-03-10T19:04:46.738204Z",
     "iopub.status.idle": "2022-03-10T20:19:31.346292Z",
     "shell.execute_reply": "2022-03-10T20:19:31.345815Z"
    },
    "papermill": {
     "duration": 4484.706564,
     "end_time": "2022-03-10T20:19:31.346466",
     "exception": false,
     "start_time": "2022-03-10T19:04:46.639902",
     "status": "completed"
    },
    "tags": []
   },
   "outputs": [
    {
     "name": "stdout",
     "output_type": "stream",
     "text": [
      "Warning: LST bins in dsets misaligned by more than 15 seconds\n"
     ]
    },
    {
     "name": "stdout",
     "output_type": "stream",
     "text": [
      "Warning: LST bins in dsets misaligned by more than 15 seconds\n"
     ]
    },
    {
     "name": "stderr",
     "output_type": "stream",
     "text": [
      "Casting complex values to real discards the imaginary part\n"
     ]
    },
    {
     "data": {
      "text/plain": [
       "<hera_pspec.pspecdata.PSpecData at 0x7fa5d9dbfe80>"
      ]
     },
     "execution_count": 63,
     "metadata": {},
     "output_type": "execute_result"
    }
   ],
   "source": [
    "# pspec at cross time\n",
    "hp.pspecdata.pspec_run([copy.deepcopy(uvd_P)], 'pspec_systematics.h5', groupname='pI_shortbl_fg_P', spw_ranges=[(0, 180)],\n",
    "                       dset_pairs=[(0,0)], pol_pairs=['pI'], input_data_weight='identity', norm='I',\n",
    "                       rephase_to_dset=True, interleave_times=True, Jy2mK=True, overwrite=True, verbose=False,\n",
    "                       bl_len_range=bl_len_range, bl_deg_range=bl_deg_range, beam=beam, taper='bh',\n",
    "                       broadcast_dset_flags=True, time_thresh=0.99, store_cov_diag=True, cov_model='foreground_dependent', \n",
    "                       exclude_auto_bls=True, exclude_cross_bls=False, exclude_permutations=True)"
   ]
  },
  {
   "cell_type": "code",
   "execution_count": 64,
   "id": "778b226e",
   "metadata": {
    "execution": {
     "iopub.execute_input": "2022-03-10T20:19:31.721547Z",
     "iopub.status.busy": "2022-03-10T20:19:31.720939Z",
     "iopub.status.idle": "2022-03-10T20:24:27.726821Z",
     "shell.execute_reply": "2022-03-10T20:24:27.727305Z"
    },
    "papermill": {
     "duration": 296.217128,
     "end_time": "2022-03-10T20:24:27.727479",
     "exception": false,
     "start_time": "2022-03-10T20:19:31.510351",
     "status": "completed"
    },
    "tags": []
   },
   "outputs": [
    {
     "name": "stdout",
     "output_type": "stream",
     "text": [
      "Warning: LST bins in dsets misaligned by more than 15 seconds\n"
     ]
    },
    {
     "name": "stdout",
     "output_type": "stream",
     "text": [
      "Warning: LST bins in dsets misaligned by more than 15 seconds\n"
     ]
    },
    {
     "name": "stderr",
     "output_type": "stream",
     "text": [
      "Producing time-uniform covariance matrices between bandpowers.\n",
      "Casting complex values to real discards the imaginary part\n"
     ]
    },
    {
     "data": {
      "text/plain": [
       "<hera_pspec.pspecdata.PSpecData at 0x7fa5d9dcaf40>"
      ]
     },
     "execution_count": 64,
     "metadata": {},
     "output_type": "execute_result"
    }
   ],
   "source": [
    "# pspec at cross time\n",
    "hp.pspecdata.pspec_run([copy.deepcopy(uvd_P)], 'pspec_systematics.h5', groupname='pI_shortbl_noise_P', spw_ranges=[(0, 180)],\n",
    "                       dset_pairs=[(0,0)], pol_pairs=['pI'], input_data_weight='identity', norm='I',\n",
    "                       rephase_to_dset=True, interleave_times=True, Jy2mK=True, overwrite=True, verbose=False,\n",
    "                       bl_len_range=bl_len_range, bl_deg_range=bl_deg_range, beam=beam, taper='bh',\n",
    "                       broadcast_dset_flags=True, time_thresh=0.99, store_cov_diag=True, cov_model='autos', \n",
    "                       exclude_auto_bls=True, exclude_cross_bls=False, exclude_permutations=True)"
   ]
  },
  {
   "cell_type": "code",
   "execution_count": 65,
   "id": "b9513e3b",
   "metadata": {
    "execution": {
     "iopub.execute_input": "2022-03-10T20:24:27.890718Z",
     "iopub.status.busy": "2022-03-10T20:24:27.890208Z",
     "iopub.status.idle": "2022-03-10T21:19:15.364410Z",
     "shell.execute_reply": "2022-03-10T21:19:15.363948Z"
    },
    "papermill": {
     "duration": 3287.56547,
     "end_time": "2022-03-10T21:19:15.364553",
     "exception": false,
     "start_time": "2022-03-10T20:24:27.799083",
     "status": "completed"
    },
    "tags": []
   },
   "outputs": [
    {
     "name": "stdout",
     "output_type": "stream",
     "text": [
      "Warning: LST bins in dsets misaligned by more than 15 seconds\n"
     ]
    },
    {
     "name": "stdout",
     "output_type": "stream",
     "text": [
      "Warning: LST bins in dsets misaligned by more than 15 seconds\n"
     ]
    },
    {
     "name": "stderr",
     "output_type": "stream",
     "text": [
      "Casting complex values to real discards the imaginary part\n"
     ]
    },
    {
     "data": {
      "text/plain": [
       "<hera_pspec.pspecdata.PSpecData at 0x7fa5da9b2f10>"
      ]
     },
     "execution_count": 65,
     "metadata": {},
     "output_type": "execute_result"
    }
   ],
   "source": [
    "# pspec at cross time\n",
    "hp.pspecdata.pspec_run([copy.deepcopy(uvd_PC)], 'pspec_systematics.h5', groupname='pI_shortbl_fg_PC', spw_ranges=[(0, 180)],\n",
    "                       dset_pairs=[(0,0)], pol_pairs=['pI'], input_data_weight='identity', norm='I',\n",
    "                       rephase_to_dset=True, interleave_times=True, Jy2mK=True, overwrite=True, verbose=False,\n",
    "                       bl_len_range=bl_len_range, bl_deg_range=bl_deg_range, beam=beam, taper='bh',\n",
    "                       broadcast_dset_flags=True, time_thresh=0.99, store_cov_diag=True, cov_model='foreground_dependent', \n",
    "                       exclude_auto_bls=True, exclude_cross_bls=False, exclude_permutations=True)"
   ]
  },
  {
   "cell_type": "code",
   "execution_count": 66,
   "id": "8971533a",
   "metadata": {
    "execution": {
     "iopub.execute_input": "2022-03-10T21:19:15.582515Z",
     "iopub.status.busy": "2022-03-10T21:19:15.582000Z",
     "iopub.status.idle": "2022-03-10T21:23:58.522443Z",
     "shell.execute_reply": "2022-03-10T21:23:58.522845Z"
    },
    "papermill": {
     "duration": 283.048226,
     "end_time": "2022-03-10T21:23:58.522995",
     "exception": false,
     "start_time": "2022-03-10T21:19:15.474769",
     "status": "completed"
    },
    "tags": []
   },
   "outputs": [
    {
     "name": "stdout",
     "output_type": "stream",
     "text": [
      "Warning: LST bins in dsets misaligned by more than 15 seconds\n"
     ]
    },
    {
     "name": "stdout",
     "output_type": "stream",
     "text": [
      "Warning: LST bins in dsets misaligned by more than 15 seconds\n"
     ]
    },
    {
     "name": "stderr",
     "output_type": "stream",
     "text": [
      "Producing time-uniform covariance matrices between bandpowers.\n",
      "Casting complex values to real discards the imaginary part\n"
     ]
    },
    {
     "data": {
      "text/plain": [
       "<hera_pspec.pspecdata.PSpecData at 0x7fa5d96574c0>"
      ]
     },
     "execution_count": 66,
     "metadata": {},
     "output_type": "execute_result"
    }
   ],
   "source": [
    "# pspec at cross time\n",
    "hp.pspecdata.pspec_run([copy.deepcopy(uvd_PC)], 'pspec_systematics.h5', groupname='pI_shortbl_noise_PC', spw_ranges=[(0, 180)],\n",
    "                       dset_pairs=[(0,0)], pol_pairs=['pI'], input_data_weight='identity', norm='I',\n",
    "                       rephase_to_dset=True, interleave_times=True, Jy2mK=True, overwrite=True, verbose=False,\n",
    "                       bl_len_range=bl_len_range, bl_deg_range=bl_deg_range, beam=beam, taper='bh',\n",
    "                       broadcast_dset_flags=True, time_thresh=0.99, store_cov_diag=True, cov_model='autos', \n",
    "                       exclude_auto_bls=True, exclude_cross_bls=False, exclude_permutations=True)"
   ]
  },
  {
   "cell_type": "markdown",
   "id": "ec820a44",
   "metadata": {
    "papermill": {
     "duration": 0.072514,
     "end_time": "2022-03-10T21:23:58.667144",
     "exception": false,
     "start_time": "2022-03-10T21:23:58.594630",
     "status": "completed"
    },
    "tags": []
   },
   "source": [
    "### some parameters"
   ]
  },
  {
   "cell_type": "code",
   "execution_count": 67,
   "id": "c649c088",
   "metadata": {
    "execution": {
     "iopub.execute_input": "2022-03-10T21:23:58.817088Z",
     "iopub.status.busy": "2022-03-10T21:23:58.816549Z",
     "iopub.status.idle": "2022-03-10T21:23:58.818666Z",
     "shell.execute_reply": "2022-03-10T21:23:58.817539Z"
    },
    "papermill": {
     "duration": 0.079889,
     "end_time": "2022-03-10T21:23:58.818782",
     "exception": false,
     "start_time": "2022-03-10T21:23:58.738893",
     "status": "completed"
    },
    "tags": []
   },
   "outputs": [
    {
     "data": {
      "text/plain": [
       "30"
      ]
     },
     "execution_count": 67,
     "metadata": {},
     "output_type": "execute_result"
    }
   ],
   "source": [
    "uvp_cov_fg.Ntimes"
   ]
  },
  {
   "cell_type": "code",
   "execution_count": 68,
   "id": "55b99dc4",
   "metadata": {
    "execution": {
     "iopub.execute_input": "2022-03-10T21:23:58.969856Z",
     "iopub.status.busy": "2022-03-10T21:23:58.969310Z",
     "iopub.status.idle": "2022-03-10T21:23:58.971487Z",
     "shell.execute_reply": "2022-03-10T21:23:58.970321Z"
    },
    "papermill": {
     "duration": 0.081067,
     "end_time": "2022-03-10T21:23:58.971600",
     "exception": false,
     "start_time": "2022-03-10T21:23:58.890533",
     "status": "completed"
    },
    "tags": []
   },
   "outputs": [
    {
     "data": {
      "text/plain": [
       "array([2458116.52588191, 2458116.52637913, 2458116.52687635,\n",
       "       2458116.52737358, 2458116.5278708 , 2458116.52836802,\n",
       "       2458116.52886524, 2458116.52936246, 2458116.52985969,\n",
       "       2458116.53035691, 2458116.53085413, 2458116.53135135,\n",
       "       2458116.53184857, 2458116.5323458 , 2458116.53284302,\n",
       "       2458116.53334024, 2458116.53383746, 2458116.53433469,\n",
       "       2458116.53483191, 2458116.53532913, 2458116.53582635,\n",
       "       2458116.53632358, 2458116.5368208 , 2458116.53731802,\n",
       "       2458116.53781524, 2458116.53831246, 2458116.53880969,\n",
       "       2458116.53930691, 2458116.53980413, 2458116.54030135])"
      ]
     },
     "execution_count": 68,
     "metadata": {},
     "output_type": "execute_result"
    }
   ],
   "source": [
    "np.unique(uvp_cov_fg.time_avg_array)"
   ]
  },
  {
   "cell_type": "code",
   "execution_count": 69,
   "id": "dc4ee0b0",
   "metadata": {
    "execution": {
     "iopub.execute_input": "2022-03-10T21:23:59.122866Z",
     "iopub.status.busy": "2022-03-10T21:23:59.122282Z",
     "iopub.status.idle": "2022-03-10T21:23:59.124519Z",
     "shell.execute_reply": "2022-03-10T21:23:59.123333Z"
    },
    "papermill": {
     "duration": 0.081582,
     "end_time": "2022-03-10T21:23:59.124648",
     "exception": false,
     "start_time": "2022-03-10T21:23:59.043066",
     "status": "completed"
    },
    "tags": []
   },
   "outputs": [
    {
     "data": {
      "text/plain": [
       "42.9599997812304"
      ]
     },
     "execution_count": 69,
     "metadata": {},
     "output_type": "execute_result"
    }
   ],
   "source": [
    "np.mean(np.diff(np.unique(uvp_cov_fg.time_avg_array)))*24*3600"
   ]
  },
  {
   "cell_type": "code",
   "execution_count": 70,
   "id": "8127bf46",
   "metadata": {
    "execution": {
     "iopub.execute_input": "2022-03-10T21:23:59.276202Z",
     "iopub.status.busy": "2022-03-10T21:23:59.275670Z",
     "iopub.status.idle": "2022-03-10T21:23:59.277768Z",
     "shell.execute_reply": "2022-03-10T21:23:59.276656Z"
    },
    "papermill": {
     "duration": 0.080907,
     "end_time": "2022-03-10T21:23:59.277877",
     "exception": false,
     "start_time": "2022-03-10T21:23:59.196970",
     "status": "completed"
    },
    "tags": []
   },
   "outputs": [
    {
     "data": {
      "text/plain": [
       "43.07762154491905"
      ]
     },
     "execution_count": 70,
     "metadata": {},
     "output_type": "execute_result"
    }
   ],
   "source": [
    "np.mean(np.diff(np.unique(uvp_cov_fg.lst_avg_array)))/2/np.pi*24*3600"
   ]
  },
  {
   "cell_type": "code",
   "execution_count": 71,
   "id": "2c0dcae1",
   "metadata": {
    "execution": {
     "iopub.execute_input": "2022-03-10T21:23:59.429477Z",
     "iopub.status.busy": "2022-03-10T21:23:59.428929Z",
     "iopub.status.idle": "2022-03-10T21:23:59.431065Z",
     "shell.execute_reply": "2022-03-10T21:23:59.429918Z"
    },
    "papermill": {
     "duration": 0.08089,
     "end_time": "2022-03-10T21:23:59.431172",
     "exception": false,
     "start_time": "2022-03-10T21:23:59.350282",
     "status": "completed"
    },
    "tags": []
   },
   "outputs": [
    {
     "data": {
      "text/plain": [
       "array([8.5607654 , 8.57273141, 8.58469741, 8.59666342, 8.60862942,\n",
       "       8.62059543, 8.63256144, 8.64452744, 8.65649345, 8.66845945,\n",
       "       8.68042545, 8.69239147, 8.70435747, 8.71632347, 8.72828948,\n",
       "       8.74025548, 8.75222149, 8.76418749, 8.7761535 , 8.78811951,\n",
       "       8.80008551, 8.81205152, 8.82401752, 8.83598353, 8.84794954,\n",
       "       8.85991554, 8.87188155, 8.88384755, 8.89581356, 8.90777957])"
      ]
     },
     "execution_count": 71,
     "metadata": {},
     "output_type": "execute_result"
    }
   ],
   "source": [
    "np.unique(uvp_cov_fg.lst_avg_array)/2/np.pi*24"
   ]
  },
  {
   "cell_type": "code",
   "execution_count": 72,
   "id": "7cb53f20",
   "metadata": {
    "execution": {
     "iopub.execute_input": "2022-03-10T21:23:59.582909Z",
     "iopub.status.busy": "2022-03-10T21:23:59.582369Z",
     "iopub.status.idle": "2022-03-10T21:23:59.584489Z",
     "shell.execute_reply": "2022-03-10T21:23:59.583361Z"
    },
    "papermill": {
     "duration": 0.080389,
     "end_time": "2022-03-10T21:23:59.584600",
     "exception": false,
     "start_time": "2022-03-10T21:23:59.504211",
     "status": "completed"
    },
    "tags": []
   },
   "outputs": [
    {
     "data": {
      "text/plain": [
       "(117.48046875, 100.0)"
      ]
     },
     "execution_count": 72,
     "metadata": {},
     "output_type": "execute_result"
    }
   ],
   "source": [
    "uvp_cov_fg.freq_array[-1]/1e6, uvp_cov_fg.freq_array[0]/1e6"
   ]
  },
  {
   "cell_type": "markdown",
   "id": "d99c79d3",
   "metadata": {
    "papermill": {
     "duration": 0.073434,
     "end_time": "2022-03-10T21:23:59.731207",
     "exception": false,
     "start_time": "2022-03-10T21:23:59.657773",
     "status": "completed"
    },
    "tags": []
   },
   "source": [
    "## make plots"
   ]
  },
  {
   "cell_type": "code",
   "execution_count": 73,
   "id": "b75a0867",
   "metadata": {
    "execution": {
     "iopub.execute_input": "2022-03-10T21:23:59.965118Z",
     "iopub.status.busy": "2022-03-10T21:23:59.964408Z",
     "iopub.status.idle": "2022-03-10T21:23:59.968483Z",
     "shell.execute_reply": "2022-03-10T21:23:59.969026Z"
    },
    "papermill": {
     "duration": 0.165165,
     "end_time": "2022-03-10T21:23:59.969230",
     "exception": false,
     "start_time": "2022-03-10T21:23:59.804065",
     "status": "completed"
    },
    "tags": []
   },
   "outputs": [
    {
     "name": "stderr",
     "output_type": "stream",
     "text": [
      "invalid value encountered in true_divide\n"
     ]
    }
   ],
   "source": [
    "key = uvp_cov_fg.get_all_keys()[0]\n",
    "dlys = uvp_cov_fg.get_dlys(key[0]) * 1e9\n",
    "kparas = uvp_cov_fg.get_kparas(key[0])\n",
    "tau2k = (kparas/dlys)[0]"
   ]
  },
  {
   "cell_type": "code",
   "execution_count": 74,
   "id": "e3d6a096",
   "metadata": {
    "execution": {
     "iopub.execute_input": "2022-03-10T21:24:00.145789Z",
     "iopub.status.busy": "2022-03-10T21:24:00.145181Z",
     "iopub.status.idle": "2022-03-10T21:24:00.147475Z",
     "shell.execute_reply": "2022-03-10T21:24:00.146247Z"
    },
    "papermill": {
     "duration": 0.088844,
     "end_time": "2022-03-10T21:24:00.147600",
     "exception": false,
     "start_time": "2022-03-10T21:24:00.058756",
     "status": "completed"
    },
    "tags": []
   },
   "outputs": [
    {
     "data": {
      "text/plain": [
       "276"
      ]
     },
     "execution_count": 74,
     "metadata": {},
     "output_type": "execute_result"
    }
   ],
   "source": [
    "len(uvp_cov_fg.get_all_keys())"
   ]
  },
  {
   "cell_type": "code",
   "execution_count": 75,
   "id": "e73b2c0d",
   "metadata": {
    "execution": {
     "iopub.execute_input": "2022-03-10T21:24:00.300847Z",
     "iopub.status.busy": "2022-03-10T21:24:00.300246Z",
     "iopub.status.idle": "2022-03-10T21:24:00.302415Z",
     "shell.execute_reply": "2022-03-10T21:24:00.301327Z"
    },
    "papermill": {
     "duration": 0.080882,
     "end_time": "2022-03-10T21:24:00.302524",
     "exception": false,
     "start_time": "2022-03-10T21:24:00.221642",
     "status": "completed"
    },
    "tags": []
   },
   "outputs": [
    {
     "name": "stdout",
     "output_type": "stream",
     "text": [
      "(0, ((12, 13), (13, 14)), ('pI', 'pI'))\n"
     ]
    }
   ],
   "source": [
    "print(key)"
   ]
  },
  {
   "cell_type": "code",
   "execution_count": 76,
   "id": "04c2fee4",
   "metadata": {
    "execution": {
     "iopub.execute_input": "2022-03-10T21:24:00.457502Z",
     "iopub.status.busy": "2022-03-10T21:24:00.456926Z",
     "iopub.status.idle": "2022-03-10T21:24:00.458386Z",
     "shell.execute_reply": "2022-03-10T21:24:00.457963Z"
    },
    "papermill": {
     "duration": 0.080759,
     "end_time": "2022-03-10T21:24:00.458491",
     "exception": false,
     "start_time": "2022-03-10T21:24:00.377732",
     "status": "completed"
    },
    "tags": []
   },
   "outputs": [],
   "source": [
    "def tau2k_(x):\n",
    "    return x * tau2k\n",
    "def k2tau_(x):\n",
    "    return x / tau2k"
   ]
  },
  {
   "cell_type": "code",
   "execution_count": 77,
   "id": "fc437d5c",
   "metadata": {
    "execution": {
     "iopub.execute_input": "2022-03-10T21:24:00.615535Z",
     "iopub.status.busy": "2022-03-10T21:24:00.614959Z",
     "iopub.status.idle": "2022-03-10T21:24:00.616410Z",
     "shell.execute_reply": "2022-03-10T21:24:00.615986Z"
    },
    "papermill": {
     "duration": 0.083428,
     "end_time": "2022-03-10T21:24:00.616518",
     "exception": false,
     "start_time": "2022-03-10T21:24:00.533090",
     "status": "completed"
    },
    "tags": []
   },
   "outputs": [],
   "source": [
    "from matplotlib.ticker import Locator\n",
    "class MinorSymLogLocator(Locator):\n",
    "    \"\"\"\n",
    "    Dynamically find minor tick positions based on the positions of\n",
    "    major ticks for a symlog scaling.\n",
    "    \"\"\"\n",
    "    def __init__(self, linthresh):\n",
    "        \"\"\"\n",
    "        Ticks will be placed between the major ticks.\n",
    "        The placement is linear for x between -linthresh and linthresh,\n",
    "        otherwise its logarithmically\n",
    "        \"\"\"\n",
    "        self.linthresh = linthresh\n",
    "\n",
    "    def __call__(self):\n",
    "        'Return the locations of the ticks'\n",
    "        majorlocs = self.axis.get_majorticklocs()\n",
    "\n",
    "        # iterate through minor locs\n",
    "        minorlocs = []\n",
    "\n",
    "        # handle the lowest part\n",
    "        for i in range(1, len(majorlocs)):\n",
    "            majorstep = majorlocs[i] - majorlocs[i-1]\n",
    "            if abs(majorlocs[i-1] + majorstep/2) < self.linthresh:\n",
    "                ndivs = 10\n",
    "            else:\n",
    "                ndivs = 9\n",
    "            minorstep = majorstep / ndivs\n",
    "            locs = np.arange(majorlocs[i-1], majorlocs[i], minorstep)[1:]\n",
    "            minorlocs.extend(locs)\n",
    "\n",
    "        return self.raise_if_exceeds(np.array(minorlocs))\n",
    "\n",
    "    def tick_values(self, vmin, vmax):\n",
    "        raise NotImplementedError('Cannot get tick locations for a '\n",
    "                                  '%s type.' % type(self))"
   ]
  },
  {
   "cell_type": "code",
   "execution_count": 78,
   "id": "485c1026",
   "metadata": {
    "execution": {
     "iopub.execute_input": "2022-03-10T21:24:00.777413Z",
     "iopub.status.busy": "2022-03-10T21:24:00.776829Z",
     "iopub.status.idle": "2022-03-10T21:24:00.778315Z",
     "shell.execute_reply": "2022-03-10T21:24:00.777882Z"
    },
    "papermill": {
     "duration": 0.087146,
     "end_time": "2022-03-10T21:24:00.778433",
     "exception": false,
     "start_time": "2022-03-10T21:24:00.691287",
     "status": "completed"
    },
    "tags": []
   },
   "outputs": [],
   "source": [
    "time_index = 0\n",
    "# Dicts of colors\n",
    "color_list = odict()\n",
    "# Dicts of labels\n",
    "label_list = odict()\n",
    "# Dicts of error bars\n",
    "error_list = odict()\n",
    "linestyle_list = odict()\n",
    "\n",
    "# The extra kinds of error bars\n",
    "error_list['PSN'] = uvp_cov_fg.get_stats('P_SN', key)[time_index].real\n",
    "label_list['PSN'] = r'$P_\\mathrm{SN}$'\n",
    "color_list['PSN'] = 'darkcyan' \n",
    "linestyle_list['PSN'] = \"-\"\n",
    "error_list['PN'] = uvp_cov_fg.get_stats('P_N', key)[time_index].real\n",
    "label_list['PN'] = r'$P_\\mathrm{N}$'\n",
    "color_list['PN'] = 'tomato' \n",
    "linestyle_list['PN'] = \"-\"\n",
    "# The power spectra of time difference data as error bars in noise dominant regions, \n",
    "error_list['fg'] = uvp_cov_fg.get_stats('foreground_dependent_diag', key)[time_index].real\n",
    "label_list['fg'] = r\"$\\sigma_\\mathrm{QE-SN}$\"\n",
    "color_list['fg'] = 'limegreen' \n",
    "linestyle_list['fg'] = \"-\"\n",
    "error_list['noise'] = uvp_cov_n.get_stats('autos_diag', key)[time_index].real\n",
    "label_list['noise'] = r\"$\\sigma_\\mathrm{QE-N}$\"\n",
    "color_list['noise'] = 'darkred' \n",
    "linestyle_list['noise'] = \"-\"\n",
    "error_list['Pdiff'] = np.abs(uvp_td.get_data(key)[time_index].real)\n",
    "color_list['Pdiff'] = 'orange' \n",
    "label_list['Pdiff'] = r'$P_\\mathrm{diff}$'\n",
    "linestyle_list['Pdiff'] = \"-.\"\n",
    "for error_type in error_list.keys():  \n",
    "    error_list[error_type] = np.array(error_list[error_type]).reshape(-1)\n",
    "\n",
    "# The power spectrum\n",
    "ps = (uvp_cov_fg.get_data(key)[time_index].real).reshape(-1)"
   ]
  },
  {
   "cell_type": "code",
   "execution_count": 79,
   "id": "5ac59ffc",
   "metadata": {
    "execution": {
     "iopub.execute_input": "2022-03-10T21:24:00.948485Z",
     "iopub.status.busy": "2022-03-10T21:24:00.947910Z",
     "iopub.status.idle": "2022-03-10T21:24:04.914399Z",
     "shell.execute_reply": "2022-03-10T21:24:04.913482Z"
    },
    "papermill": {
     "duration": 4.059688,
     "end_time": "2022-03-10T21:24:04.914645",
     "exception": false,
     "start_time": "2022-03-10T21:24:00.854957",
     "status": "completed"
    },
    "tags": []
   },
   "outputs": [
    {
     "name": "stderr",
     "output_type": "stream",
     "text": [
      "divide by zero encountered in true_divide\n",
      "invalid value encountered in true_divide\n",
      "invalid value encountered in true_divide\n",
      "invalid value encountered in true_divide\n"
     ]
    },
    {
     "data": {
      "text/plain": [
       "<matplotlib.lines.Line2D at 0x7fa5d9c0d3a0>"
      ]
     },
     "execution_count": 79,
     "metadata": {},
     "output_type": "execute_result"
    },
    {
     "data": {
      "image/png": "[encoded data removed]",
      "text/plain": [
       "<Figure size 1152x1080 with 3 Axes>"
      ]
     },
     "metadata": {
      "needs_background": "light"
     },
     "output_type": "display_data"
    }
   ],
   "source": [
    "fig = plt.figure(figsize=(16,15), constrained_layout=True)\n",
    "gs = fig.add_gridspec(3, 2, wspace=0.02)\n",
    "psunits = uvp_cov_fg.units\n",
    "if \"h^-1\" in psunits: psunits = psunits.replace(\"h^-1\", \"h^{-1}\")\n",
    "if \"h^-3\" in psunits: psunits = psunits.replace(\"h^-3\", \"h^{-3}\")\n",
    "if \"Mpc\" in psunits and \"\\\\rm\" not in psunits: \n",
    "    psunits = psunits.replace(\"Mpc\", r\"{\\rm Mpc}\")\n",
    "if \"pi\" in psunits and \"\\\\pi\" not in psunits: \n",
    "    psunits = psunits.replace(\"pi\", r\"\\pi\")\n",
    "    \n",
    "# Plot different kinds of error bars\n",
    "ax = fig.add_subplot(gs[0,:])\n",
    "ax.plot(dlys[ps>=0.], ps[ps>=0.], \".\", label='power spectra'+ r'$(+)$', c='k', markersize=8, alpha = 0.6)\n",
    "ax.plot(dlys[ps<0.], np.abs(ps[ps<0.]), \".\", fillstyle='none', label='power spectra'+ r'$(-)$', c='k', markersize=8, alpha = 0.6)\n",
    "ax.set_xlim(-3000,3000)\n",
    "for error_type in error_list.keys():\n",
    "    ax.plot(dlys, error_list[error_type], ls=linestyle_list[error_type],label=label_list[error_type], c=color_list[error_type], lw=2)\n",
    "ax.set_ylabel(\"$P(k_\\parallel)$ $[%s]$\" % psunits, fontsize=16)\n",
    "#ax.set_xlabel(r\"$\\tau$ $[{\\rm ns}]$\", fontsize=20)\n",
    "ax.set_xticklabels([])\n",
    "ax.tick_params(axis='both', which='both', labelsize=16)\n",
    "ax.xaxis.set_minor_locator(ticker.MultipleLocator(500))\n",
    "ax.semilogy()\n",
    "ax.minorticks_on()\n",
    "ax.yaxis.set_minor_locator(ticker.LogLocator(base=10, subs=[0.2,0.4,0.6,0.8], numticks=20))\n",
    "ax.yaxis.set_minor_formatter(ticker.NullFormatter())\n",
    "ax.grid()\n",
    "ax.legend(loc='upper right', fontsize=14, ncol=3)\n",
    "ax.set_title('A single-time instance of power spectra from the HERA Phase I Data', bbox=dict(fc='wheat', alpha=0.5), fontsize=20, pad=15)\n",
    "ax.axvspan(-200, -20, facecolor='#2ca02c', alpha=0.2)\n",
    "ax.axvspan(20, 200, facecolor='#2ca02c', alpha=0.2)\n",
    "\n",
    "ax1 = ax.secondary_xaxis('top', functions=(tau2k_, k2tau_))\n",
    "ax1.tick_params(axis='both', which='both', labelsize=16, direction='out')\n",
    "ax1.xaxis.set_major_locator(ticker.MultipleLocator(1))\n",
    "ax1.xaxis.set_minor_locator(ticker.MultipleLocator(0.2))\n",
    "ax1.set_xlabel(r\"$k_\\parallel [h {\\rm Mpc}^{-1}]$\", fontsize=16)\n",
    "\n",
    "#handles, labels = ax.get_legend_handles_labels()\n",
    "#fig.legend(handles, labels, bbox_to_anchor=(0.53,1.15), loc='upper center', fontsize=14, ncol=3,)\n",
    "#fig.tight_layout()\n",
    "\n",
    "# Plot ratios of different kinds of error bars\n",
    "ax = fig.add_subplot(gs[1,:])\n",
    "for error_type in ['Pdiff','PN','fg']:\n",
    "    ax.plot(dlys, np.abs(error_list[error_type]/error_list['noise']-1), ls=linestyle_list[error_type],label=label_list[error_type], c=color_list[error_type], lw=2)\n",
    "ax.set_xticklabels([])\n",
    "ax.tick_params(axis='both', which='both', labelsize=16)\n",
    "ax.grid()\n",
    "ax.semilogy()\n",
    "ax.set_ylim(1e-3,1)\n",
    "ax.set_xlim(-3000,3000)\n",
    "ax.set_ylabel(\"abs\" + r\"$\\left(\\frac{\\sigma-\\sigma_{\\rm QE-N}}{\\sigma_{\\rm QE-N}}\\right)$\", fontsize=20)\n",
    "#ax.yaxis.set_minor_locator(MinorSymLogLocator(0.01))\n",
    "#ax.yaxis.set_minor_formatter(ticker.NullFormatter())\n",
    "ax.xaxis.set_minor_locator(ticker.MultipleLocator(500))\n",
    "ax.axvspan(-200, -20, facecolor='#2ca02c', alpha=0.2)\n",
    "ax.axvspan(20, 200, facecolor='#2ca02c', alpha=0.2)\n",
    "ax.axhline(y=0, c='k', lw=3)\n",
    "\n",
    "ax = fig.add_subplot(gs[2,:])\n",
    "for error_type in ['PSN']:\n",
    "    ax.plot(dlys, np.abs(error_list[error_type]/error_list['fg']-1), ls=linestyle_list[error_type], label=label_list[error_type], c=color_list[error_type], lw=2)\n",
    "ax.set_xlabel(r\"$\\tau$ $[{\\rm ns}]$\", fontsize=16)\n",
    "ax.tick_params(axis='both', which='both', labelsize=16)\n",
    "ax.grid()\n",
    "ax.set_xlim(-3000,3000)\n",
    "ax.semilogy()\n",
    "ax.set_ylim(1e-3,1)\n",
    "ax.xaxis.set_minor_locator(ticker.MultipleLocator(500))\n",
    "ax.set_ylabel(\"abs\" + r\"$\\left(\\frac{\\sigma-\\sigma_{\\rm QE-SN}}{\\sigma_{\\rm QE-SN}}\\right)$\", fontsize=20)\n",
    "ax.axvspan(-200, -20, facecolor='#2ca02c', alpha=0.2)\n",
    "ax.axvspan(20, 200, facecolor='#2ca02c', alpha=0.2)\n",
    "ax.axhline(y=0, c='k', lw=3)"
   ]
  },
  {
   "cell_type": "markdown",
   "id": "7fe628e3",
   "metadata": {
    "papermill": {
     "duration": 0.081145,
     "end_time": "2022-03-10T21:24:05.119133",
     "exception": false,
     "start_time": "2022-03-10T21:24:05.037988",
     "status": "completed"
    },
    "tags": []
   },
   "source": [
    "get the time average"
   ]
  },
  {
   "cell_type": "code",
   "execution_count": 80,
   "id": "c4427d13",
   "metadata": {
    "execution": {
     "iopub.execute_input": "2022-03-10T21:24:05.293096Z",
     "iopub.status.busy": "2022-03-10T21:24:05.292619Z",
     "iopub.status.idle": "2022-03-10T21:24:05.294860Z",
     "shell.execute_reply": "2022-03-10T21:24:05.295223Z"
    },
    "papermill": {
     "duration": 0.097894,
     "end_time": "2022-03-10T21:24:05.295363",
     "exception": false,
     "start_time": "2022-03-10T21:24:05.197469",
     "status": "completed"
    },
    "tags": []
   },
   "outputs": [],
   "source": [
    "new_stats_array = odict()\n",
    "new_stats_array.update({'Pdiff_err': {0: np.abs(uvp_td.data_array[0].real)}})\n",
    "new_stats_array.update(uvp_cov_fg.stats_array)"
   ]
  },
  {
   "cell_type": "code",
   "execution_count": 81,
   "id": "08e16512",
   "metadata": {
    "execution": {
     "iopub.execute_input": "2022-03-10T21:24:05.455094Z",
     "iopub.status.busy": "2022-03-10T21:24:05.454562Z",
     "iopub.status.idle": "2022-03-10T21:24:05.455986Z",
     "shell.execute_reply": "2022-03-10T21:24:05.455569Z"
    },
    "papermill": {
     "duration": 0.08385,
     "end_time": "2022-03-10T21:24:05.456091",
     "exception": false,
     "start_time": "2022-03-10T21:24:05.372241",
     "status": "completed"
    },
    "tags": []
   },
   "outputs": [],
   "source": [
    "uvp_cov_fg.stats_array = new_stats_array"
   ]
  },
  {
   "cell_type": "code",
   "execution_count": 82,
   "id": "4428ab36",
   "metadata": {
    "execution": {
     "iopub.execute_input": "2022-03-10T21:24:05.616145Z",
     "iopub.status.busy": "2022-03-10T21:24:05.615581Z",
     "iopub.status.idle": "2022-03-10T21:24:05.617670Z",
     "shell.execute_reply": "2022-03-10T21:24:05.616599Z"
    },
    "papermill": {
     "duration": 0.084745,
     "end_time": "2022-03-10T21:24:05.617787",
     "exception": false,
     "start_time": "2022-03-10T21:24:05.533042",
     "status": "completed"
    },
    "tags": []
   },
   "outputs": [
    {
     "name": "stdout",
     "output_type": "stream",
     "text": [
      "30\n"
     ]
    }
   ],
   "source": [
    "print(uvp_cov_fg.Ntimes)"
   ]
  },
  {
   "cell_type": "code",
   "execution_count": 83,
   "id": "05e29a73",
   "metadata": {
    "execution": {
     "iopub.execute_input": "2022-03-10T21:24:05.794634Z",
     "iopub.status.busy": "2022-03-10T21:24:05.794146Z",
     "iopub.status.idle": "2022-03-10T21:24:08.381867Z",
     "shell.execute_reply": "2022-03-10T21:24:08.382506Z"
    },
    "papermill": {
     "duration": 2.687086,
     "end_time": "2022-03-10T21:24:08.382657",
     "exception": false,
     "start_time": "2022-03-10T21:24:05.695571",
     "status": "completed"
    },
    "tags": []
   },
   "outputs": [],
   "source": [
    "uvp_cov_fg_uni = uvp_cov_fg.average_spectra(time_avg=True, error_weights=None, error_field=['Pdiff_err',\"foreground_dependent_diag\", \"P_N\",\"P_SN\"],\n",
    "                              inplace=False)"
   ]
  },
  {
   "cell_type": "code",
   "execution_count": 84,
   "id": "dd0a9c70",
   "metadata": {
    "execution": {
     "iopub.execute_input": "2022-03-10T21:24:08.561645Z",
     "iopub.status.busy": "2022-03-10T21:24:08.561154Z",
     "iopub.status.idle": "2022-03-10T21:24:11.280720Z",
     "shell.execute_reply": "2022-03-10T21:24:11.281360Z"
    },
    "papermill": {
     "duration": 2.820095,
     "end_time": "2022-03-10T21:24:11.281506",
     "exception": false,
     "start_time": "2022-03-10T21:24:08.461411",
     "status": "completed"
    },
    "tags": []
   },
   "outputs": [],
   "source": [
    "uvp_cov_n_uni = uvp_cov_n.average_spectra(time_avg=True, error_weights=None, error_field=[\"autos_diag\"], inplace=False)"
   ]
  },
  {
   "cell_type": "code",
   "execution_count": 85,
   "id": "c61a53f3",
   "metadata": {
    "execution": {
     "iopub.execute_input": "2022-03-10T21:24:11.467645Z",
     "iopub.status.busy": "2022-03-10T21:24:11.467151Z",
     "iopub.status.idle": "2022-03-10T21:24:11.469443Z",
     "shell.execute_reply": "2022-03-10T21:24:11.469872Z"
    },
    "papermill": {
     "duration": 0.109973,
     "end_time": "2022-03-10T21:24:11.470028",
     "exception": false,
     "start_time": "2022-03-10T21:24:11.360055",
     "status": "completed"
    },
    "tags": []
   },
   "outputs": [],
   "source": [
    "key = uvp_cov_fg_uni.get_all_keys()[0]\n",
    "error_tavg_list = odict()\n",
    "error_tavg_list['PSN'] = uvp_cov_fg_uni.get_stats('P_SN', key)[0].real\n",
    "error_tavg_list['PN'] = uvp_cov_fg_uni.get_stats('P_N', key)[0].real\n",
    "error_tavg_list['fg'] = uvp_cov_fg_uni.get_stats('foreground_dependent_diag', key)[0].real\n",
    "error_tavg_list['noise'] = uvp_cov_n_uni.get_stats('autos_diag', key)[0].real\n",
    "error_tavg_list['Pdiff'] = uvp_cov_fg_uni.get_stats('Pdiff_err', key)[0].real\n",
    "# The power spectrum\n",
    "ps_tavg = (uvp_cov_fg_uni.get_data(key)[0].real).reshape(-1)"
   ]
  },
  {
   "cell_type": "markdown",
   "id": "3a4f355a",
   "metadata": {
    "papermill": {
     "duration": 0.081676,
     "end_time": "2022-03-10T21:24:11.630579",
     "exception": false,
     "start_time": "2022-03-10T21:24:11.548903",
     "status": "completed"
    },
    "tags": []
   },
   "source": [
    "bootstrap"
   ]
  },
  {
   "cell_type": "code",
   "execution_count": 86,
   "id": "c1e6bf65",
   "metadata": {
    "execution": {
     "iopub.execute_input": "2022-03-10T21:24:11.813940Z",
     "iopub.status.busy": "2022-03-10T21:24:11.813358Z",
     "iopub.status.idle": "2022-03-10T21:24:11.941760Z",
     "shell.execute_reply": "2022-03-10T21:24:11.942799Z"
    },
    "papermill": {
     "duration": 0.229802,
     "end_time": "2022-03-10T21:24:11.942958",
     "exception": false,
     "start_time": "2022-03-10T21:24:11.713156",
     "status": "completed"
    },
    "tags": []
   },
   "outputs": [],
   "source": [
    "boots = []\n",
    "spectra = uvp_cov_fg.get_data(key)\n",
    "for i in range(2000):\n",
    "    _select = np.random.choice(np.arange(spectra.shape[0]), spectra.shape[0], replace=True)\n",
    "    boots.append(np.mean(spectra[_select,:], axis=0))\n",
    "error_tavg_list['boot'] = np.std(np.real(boots), axis=0)"
   ]
  },
  {
   "cell_type": "code",
   "execution_count": 87,
   "id": "50d3fa11",
   "metadata": {
    "execution": {
     "iopub.execute_input": "2022-03-10T21:24:12.112912Z",
     "iopub.status.busy": "2022-03-10T21:24:12.112331Z",
     "iopub.status.idle": "2022-03-10T21:24:12.113837Z",
     "shell.execute_reply": "2022-03-10T21:24:12.113393Z"
    },
    "papermill": {
     "duration": 0.088774,
     "end_time": "2022-03-10T21:24:12.113953",
     "exception": false,
     "start_time": "2022-03-10T21:24:12.025179",
     "status": "completed"
    },
    "tags": []
   },
   "outputs": [],
   "source": [
    "label_list['boot'] = r\"$\\sigma_\\mathrm{bs}$\"\n",
    "color_list['boot'] = 'indigo'\n",
    "linestyle_list['boot'] = '-.'"
   ]
  },
  {
   "cell_type": "code",
   "execution_count": 88,
   "id": "713f8a15",
   "metadata": {
    "execution": {
     "iopub.execute_input": "2022-03-10T21:24:12.278930Z",
     "iopub.status.busy": "2022-03-10T21:24:12.278360Z",
     "iopub.status.idle": "2022-03-10T21:24:12.279799Z",
     "shell.execute_reply": "2022-03-10T21:24:12.279384Z"
    },
    "papermill": {
     "duration": 0.085733,
     "end_time": "2022-03-10T21:24:12.279909",
     "exception": false,
     "start_time": "2022-03-10T21:24:12.194176",
     "status": "completed"
    },
    "tags": []
   },
   "outputs": [],
   "source": [
    "for error_type in error_tavg_list.keys():  \n",
    "    error_tavg_list[error_type] = np.array(error_tavg_list[error_type]).reshape(-1)"
   ]
  },
  {
   "cell_type": "code",
   "execution_count": 89,
   "id": "88054ce5",
   "metadata": {
    "execution": {
     "iopub.execute_input": "2022-03-10T21:24:12.466672Z",
     "iopub.status.busy": "2022-03-10T21:24:12.466142Z",
     "iopub.status.idle": "2022-03-10T21:24:14.786392Z",
     "shell.execute_reply": "2022-03-10T21:24:14.787001Z"
    },
    "papermill": {
     "duration": 2.427704,
     "end_time": "2022-03-10T21:24:14.787144",
     "exception": false,
     "start_time": "2022-03-10T21:24:12.359440",
     "status": "completed"
    },
    "tags": []
   },
   "outputs": [
    {
     "data": {
      "text/plain": [
       "<matplotlib.lines.Line2D at 0x7fa5d9897640>"
      ]
     },
     "execution_count": 89,
     "metadata": {},
     "output_type": "execute_result"
    },
    {
     "data": {
      "image/png": "[encoded data removed]",
      "text/plain": [
       "<Figure size 1152x1080 with 3 Axes>"
      ]
     },
     "metadata": {
      "needs_background": "light"
     },
     "output_type": "display_data"
    }
   ],
   "source": [
    "fig = plt.figure(figsize=(16,15), constrained_layout=True)\n",
    "gs = fig.add_gridspec(3, 2, wspace=0.02)\n",
    "psunits = uvp_cov_fg.units\n",
    "if \"h^-1\" in psunits: psunits = psunits.replace(\"h^-1\", \"h^{-1}\")\n",
    "if \"h^-3\" in psunits: psunits = psunits.replace(\"h^-3\", \"h^{-3}\")\n",
    "if \"Mpc\" in psunits and \"\\\\rm\" not in psunits: \n",
    "    psunits = psunits.replace(\"Mpc\", r\"{\\rm Mpc}\")\n",
    "if \"pi\" in psunits and \"\\\\pi\" not in psunits: \n",
    "    psunits = psunits.replace(\"pi\", r\"\\pi\")\n",
    "    \n",
    "# Plot different kinds of error bars\n",
    "ax = fig.add_subplot(gs[0,:])\n",
    "ax.plot(dlys[ps_tavg>=0.], ps_tavg[ps_tavg>=0.], \".\", label='power spectra'+ r'$(+)$', c='k', markersize=8, alpha = 0.6)\n",
    "ax.plot(dlys[ps_tavg<0.], np.abs(ps_tavg[ps_tavg<0.]), \".\", fillstyle='none', label='power spectra'+ r'$(-)$', c='k', markersize=8, alpha = 0.6)\n",
    "ax.set_xlim(-3000,3000)\n",
    "for error_type in error_tavg_list.keys():\n",
    "    ax.plot(dlys, error_tavg_list[error_type], ls=linestyle_list[error_type],label=label_list[error_type], c=color_list[error_type], lw=2)\n",
    "error_modified_fg = error_tavg_list['fg']-(np.sqrt(1+1/np.sqrt(np.pi))-1)*error_tavg_list['noise']\n",
    "ax.plot(dlys, error_modified_fg, label=r\"$\\tilde{\\sigma}_\\mathrm{QE-SN}$\", c=\"green\", ls=\"--\", lw=2)\n",
    "ax.set_ylabel(\"$P(k_\\parallel)$ $[%s]$\" % psunits, fontsize=16)\n",
    "#ax.set_xlabel(r\"$\\tau$ $[{\\rm ns}]$\", fontsize=20)\n",
    "ax.set_xticklabels([])\n",
    "ax.tick_params(axis='both', which='both', labelsize=16)\n",
    "ax.xaxis.set_minor_locator(ticker.MultipleLocator(500))\n",
    "ax.semilogy()\n",
    "ax.minorticks_on()\n",
    "ax.yaxis.set_minor_locator(ticker.LogLocator(base=10, subs=[0.2,0.4,0.6,0.8], numticks=20))\n",
    "ax.yaxis.set_minor_formatter(ticker.NullFormatter())\n",
    "ax.grid()\n",
    "ax.legend(loc='upper right', fontsize=14, ncol=3)\n",
    "ax.set_title('Time-averaged power spectra from the HERA Phase I Data', bbox=dict(fc='wheat', alpha=0.5), fontsize=20, pad=15)\n",
    "ax.axvspan(-200, -20, facecolor='#2ca02c', alpha=0.2)\n",
    "ax.axvspan(20, 200, facecolor='#2ca02c', alpha=0.2)\n",
    "\n",
    "ax1 = ax.secondary_xaxis('top', functions=(tau2k_, k2tau_))\n",
    "ax1.tick_params(axis='both', which='both', labelsize=16, direction='out')\n",
    "ax1.xaxis.set_major_locator(ticker.MultipleLocator(1))\n",
    "ax1.xaxis.set_minor_locator(ticker.MultipleLocator(0.2))\n",
    "ax1.set_xlabel(r\"$k_\\parallel [h {\\rm Mpc}^{-1}]$\", fontsize=16)\n",
    "\n",
    "#handles, labels = ax.get_legend_handles_labels()\n",
    "#fig.legend(handles, labels, bbox_to_anchor=(0.53,1.15), loc='upper center', fontsize=14, ncol=3,)\n",
    "#fig.tight_layout()\n",
    "\n",
    "# Plot ratios of different kinds of error bars\n",
    "ax = fig.add_subplot(gs[1,:])\n",
    "for error_type in ['Pdiff','PN','fg','boot']:\n",
    "    ax.plot(dlys, np.abs(error_tavg_list[error_type]/error_tavg_list['noise']-1), ls=linestyle_list[error_type], label=label_list[error_type], c=color_list[error_type], lw=2)\n",
    "ax.plot(dlys, np.abs(error_modified_fg/error_tavg_list['noise']-1), label=r\"$\\tilde{\\sigma}_\\mathrm{QE-SN}$\", c=\"green\", ls=\"--\", lw=2)\n",
    "ax.set_xticklabels([])\n",
    "ax.tick_params(axis='both', which='both', labelsize=16)\n",
    "ax.grid()\n",
    "ax.semilogy()\n",
    "ax.set_ylim(1e-3,1)\n",
    "ax.set_xlim(-3000,3000)\n",
    "ax.set_ylabel(\"abs\" + r\"$\\left(\\frac{\\sigma-\\sigma_{\\rm QE-N}}{\\sigma_{\\rm QE-N}}\\right)$\", fontsize=20)\n",
    "#ax.yaxis.set_minor_locator(MinorSymLogLocator(0.01))\n",
    "#ax.yaxis.set_minor_formatter(ticker.NullFormatter())\n",
    "ax.xaxis.set_minor_locator(ticker.MultipleLocator(500))\n",
    "ax.axvspan(-200, -20, facecolor='#2ca02c', alpha=0.2)\n",
    "ax.axvspan(20, 200, facecolor='#2ca02c', alpha=0.2)\n",
    "ax.axhline(y=0, c='k', lw=3)\n",
    "\n",
    "ax = fig.add_subplot(gs[2,:])\n",
    "for error_type in ['PSN','boot']:\n",
    "    ax.plot(dlys, np.abs(error_tavg_list[error_type]/error_tavg_list['fg']-1), ls=linestyle_list[error_type], label=label_list[error_type], c=color_list[error_type], lw=2)\n",
    "ax.plot(dlys, np.abs(error_modified_fg/error_tavg_list['fg']-1), label=r\"$\\tilde{\\sigma}_\\mathrm{QE-SN}$\", c=\"green\", ls=\"--\", lw=2)\n",
    "ax.set_xlabel(r\"$\\tau$ $[{\\rm ns}]$\", fontsize=16)\n",
    "ax.tick_params(axis='both', which='both', labelsize=16)\n",
    "ax.grid()\n",
    "ax.set_xlim(-3000,3000)\n",
    "ax.semilogy()\n",
    "ax.set_ylim(1e-3,1)\n",
    "ax.xaxis.set_minor_locator(ticker.MultipleLocator(500))\n",
    "ax.set_ylabel(\"abs\" + r\"$\\left(\\frac{\\sigma-\\sigma_{\\rm QE-SN}}{\\sigma_{\\rm QE-SN}}\\right)$\", fontsize=20)\n",
    "ax.axvspan(-200, -20, facecolor='#2ca02c', alpha=0.2)\n",
    "ax.axvspan(20, 200, facecolor='#2ca02c', alpha=0.2)\n",
    "ax.axhline(y=0, c='k', lw=3)"
   ]
  },
  {
   "cell_type": "markdown",
   "id": "2b25a9d1",
   "metadata": {
    "papermill": {
     "duration": 0.0845,
     "end_time": "2022-03-10T21:24:14.956421",
     "exception": false,
     "start_time": "2022-03-10T21:24:14.871921",
     "status": "completed"
    },
    "tags": []
   },
   "source": [
    "#### comparing systematics"
   ]
  },
  {
   "cell_type": "code",
   "execution_count": 90,
   "id": "39c2e980",
   "metadata": {
    "execution": {
     "iopub.execute_input": "2022-03-10T21:24:15.138091Z",
     "iopub.status.busy": "2022-03-10T21:24:15.137610Z",
     "iopub.status.idle": "2022-03-10T21:24:20.879002Z",
     "shell.execute_reply": "2022-03-10T21:24:20.879898Z"
    },
    "papermill": {
     "duration": 5.83988,
     "end_time": "2022-03-10T21:24:20.880092",
     "exception": false,
     "start_time": "2022-03-10T21:24:15.040212",
     "status": "completed"
    },
    "tags": []
   },
   "outputs": [],
   "source": [
    "psc = hp.PSpecContainer('pspec_crosstime.h5', keep_open=False)\n",
    "uvp_PX_cov_fg = psc.get_pspec('pI_shortbl', 'dset0_x_dset1')"
   ]
  },
  {
   "cell_type": "code",
   "execution_count": 91,
   "id": "15f9518c",
   "metadata": {
    "execution": {
     "iopub.execute_input": "2022-03-10T21:24:21.101636Z",
     "iopub.status.busy": "2022-03-10T21:24:21.100495Z",
     "iopub.status.idle": "2022-03-10T21:24:26.773912Z",
     "shell.execute_reply": "2022-03-10T21:24:26.774953Z"
    },
    "papermill": {
     "duration": 5.801896,
     "end_time": "2022-03-10T21:24:26.775175",
     "exception": false,
     "start_time": "2022-03-10T21:24:20.973279",
     "status": "completed"
    },
    "tags": []
   },
   "outputs": [],
   "source": [
    "# load power spectra\n",
    "psc_ = hp.PSpecContainer('pspec_nulltest.h5', keep_open=False)\n",
    "uvp_PX_cov_n = psc_.get_pspec('pI_shortbl', 'dset0_x_dset1')"
   ]
  },
  {
   "cell_type": "code",
   "execution_count": 92,
   "id": "927bd45e",
   "metadata": {
    "execution": {
     "iopub.execute_input": "2022-03-10T21:24:26.969526Z",
     "iopub.status.busy": "2022-03-10T21:24:26.968949Z",
     "iopub.status.idle": "2022-03-10T21:24:26.970438Z",
     "shell.execute_reply": "2022-03-10T21:24:26.969994Z"
    },
    "papermill": {
     "duration": 0.091163,
     "end_time": "2022-03-10T21:24:26.970548",
     "exception": false,
     "start_time": "2022-03-10T21:24:26.879385",
     "status": "completed"
    },
    "tags": []
   },
   "outputs": [],
   "source": [
    "psc = hp.PSpecContainer('pspec_systematics.h5', keep_open=False)"
   ]
  },
  {
   "cell_type": "code",
   "execution_count": 93,
   "id": "3a94df4d",
   "metadata": {
    "execution": {
     "iopub.execute_input": "2022-03-10T21:24:27.154835Z",
     "iopub.status.busy": "2022-03-10T21:24:27.154315Z",
     "iopub.status.idle": "2022-03-10T21:24:37.676162Z",
     "shell.execute_reply": "2022-03-10T21:24:37.677001Z"
    },
    "papermill": {
     "duration": 10.622996,
     "end_time": "2022-03-10T21:24:37.677198",
     "exception": false,
     "start_time": "2022-03-10T21:24:27.054202",
     "status": "completed"
    },
    "tags": []
   },
   "outputs": [],
   "source": [
    "uvp_P_cov_fg = psc.get_pspec('pI_shortbl_fg_P', 'dset0_x_dset1')\n",
    "uvp_P_cov_n = psc.get_pspec('pI_shortbl_noise_P', 'dset0_x_dset1')"
   ]
  },
  {
   "cell_type": "code",
   "execution_count": 94,
   "id": "7a41eef3",
   "metadata": {
    "execution": {
     "iopub.execute_input": "2022-03-10T21:24:37.877629Z",
     "iopub.status.busy": "2022-03-10T21:24:37.877061Z",
     "iopub.status.idle": "2022-03-10T21:24:40.601583Z",
     "shell.execute_reply": "2022-03-10T21:24:40.602252Z"
    },
    "papermill": {
     "duration": 2.834515,
     "end_time": "2022-03-10T21:24:40.602408",
     "exception": false,
     "start_time": "2022-03-10T21:24:37.767893",
     "status": "completed"
    },
    "tags": []
   },
   "outputs": [],
   "source": [
    "uvp_PC_cov_fg = psc.get_pspec('pI_shortbl_fg_PC', 'dset0_x_dset1')\n",
    "uvp_PC_cov_n = psc.get_pspec('pI_shortbl_noise_PC', 'dset0_x_dset1')"
   ]
  },
  {
   "cell_type": "code",
   "execution_count": 95,
   "id": "45200083",
   "metadata": {
    "execution": {
     "iopub.execute_input": "2022-03-10T21:24:40.813141Z",
     "iopub.status.busy": "2022-03-10T21:24:40.812338Z",
     "iopub.status.idle": "2022-03-10T21:24:50.242907Z",
     "shell.execute_reply": "2022-03-10T21:24:50.244098Z"
    },
    "papermill": {
     "duration": 9.561323,
     "end_time": "2022-03-10T21:24:50.244403",
     "exception": false,
     "start_time": "2022-03-10T21:24:40.683080",
     "status": "completed"
    },
    "tags": []
   },
   "outputs": [],
   "source": [
    "uvp_PXC_cov_fg = psc.get_pspec('pI_shortbl_fg_PXC', 'dset0_x_dset1')\n",
    "uvp_PXC_cov_n = psc.get_pspec('pI_shortbl_noise_PXC', 'dset0_x_dset1')"
   ]
  },
  {
   "cell_type": "markdown",
   "id": "887b700f",
   "metadata": {
    "papermill": {
     "duration": 0.083443,
     "end_time": "2022-03-10T21:24:50.457262",
     "exception": false,
     "start_time": "2022-03-10T21:24:50.373819",
     "status": "completed"
    },
    "tags": []
   },
   "source": [
    "check match in timestamps"
   ]
  },
  {
   "cell_type": "code",
   "execution_count": 96,
   "id": "515e2996",
   "metadata": {
    "execution": {
     "iopub.execute_input": "2022-03-10T21:24:50.625642Z",
     "iopub.status.busy": "2022-03-10T21:24:50.625105Z",
     "iopub.status.idle": "2022-03-10T21:24:50.627159Z",
     "shell.execute_reply": "2022-03-10T21:24:50.626079Z"
    },
    "papermill": {
     "duration": 0.088282,
     "end_time": "2022-03-10T21:24:50.627272",
     "exception": false,
     "start_time": "2022-03-10T21:24:50.538990",
     "status": "completed"
    },
    "tags": []
   },
   "outputs": [
    {
     "name": "stdout",
     "output_type": "stream",
     "text": [
      "[2.24120314 2.24433583 2.24746853 2.25060122 2.25373391 2.2568666\n",
      " 2.2599993  2.26313199 2.26626468 2.26939738 2.27253007 2.27566276\n",
      " 2.27879546 2.28192815 2.28506084 2.28819354 2.29132623 2.29445892\n",
      " 2.29759161 2.30072431 2.303857   2.30698969 2.31012239 2.31325508\n",
      " 2.31638777 2.31952047 2.32265316 2.32578585 2.32891855 2.33205124]\n"
     ]
    }
   ],
   "source": [
    "print(np.unique(uvp_P_cov_fg.lst_avg_array))"
   ]
  },
  {
   "cell_type": "code",
   "execution_count": 97,
   "id": "a1c0e094",
   "metadata": {
    "execution": {
     "iopub.execute_input": "2022-03-10T21:24:50.795020Z",
     "iopub.status.busy": "2022-03-10T21:24:50.794476Z",
     "iopub.status.idle": "2022-03-10T21:24:50.796538Z",
     "shell.execute_reply": "2022-03-10T21:24:50.795466Z"
    },
    "papermill": {
     "duration": 0.088417,
     "end_time": "2022-03-10T21:24:50.796668",
     "exception": false,
     "start_time": "2022-03-10T21:24:50.708251",
     "status": "completed"
    },
    "tags": []
   },
   "outputs": [
    {
     "name": "stdout",
     "output_type": "stream",
     "text": [
      "[2.24120314 2.24433583 2.24746853 2.25060122 2.25373391 2.2568666\n",
      " 2.2599993  2.26313199 2.26626468 2.26939738 2.27253007 2.27566276\n",
      " 2.27879546 2.28192815 2.28506084 2.28819354 2.29132623 2.29445892\n",
      " 2.29759161 2.30072431 2.303857   2.30698969 2.31012239 2.31325508\n",
      " 2.31638777 2.31952047 2.32265316 2.32578585 2.32891855 2.33205124]\n"
     ]
    }
   ],
   "source": [
    "print(np.unique(uvp_PX_cov_fg.lst_avg_array))"
   ]
  },
  {
   "cell_type": "code",
   "execution_count": 98,
   "id": "ee44bd52",
   "metadata": {
    "execution": {
     "iopub.execute_input": "2022-03-10T21:24:50.973404Z",
     "iopub.status.busy": "2022-03-10T21:24:50.972862Z",
     "iopub.status.idle": "2022-03-10T21:24:50.974907Z",
     "shell.execute_reply": "2022-03-10T21:24:50.973837Z"
    },
    "papermill": {
     "duration": 0.089653,
     "end_time": "2022-03-10T21:24:50.975018",
     "exception": false,
     "start_time": "2022-03-10T21:24:50.885365",
     "status": "completed"
    },
    "tags": []
   },
   "outputs": [
    {
     "name": "stdout",
     "output_type": "stream",
     "text": [
      "[2.24120314 2.24433583 2.24746853 2.25060122 2.25373391 2.2568666\n",
      " 2.2599993  2.26313199 2.26626468 2.26939738 2.27253007 2.27566276\n",
      " 2.27879546 2.28192815 2.28506084 2.28819354 2.29132623 2.29445892\n",
      " 2.29759161 2.30072431 2.303857   2.30698969 2.31012239 2.31325508\n",
      " 2.31638777 2.31952047 2.32265316 2.32578585 2.32891855 2.33205124]\n"
     ]
    }
   ],
   "source": [
    "print(np.unique(uvp_PC_cov_fg.lst_avg_array))"
   ]
  },
  {
   "cell_type": "code",
   "execution_count": 99,
   "id": "8183d892",
   "metadata": {
    "execution": {
     "iopub.execute_input": "2022-03-10T21:24:51.144616Z",
     "iopub.status.busy": "2022-03-10T21:24:51.144043Z",
     "iopub.status.idle": "2022-03-10T21:24:51.146138Z",
     "shell.execute_reply": "2022-03-10T21:24:51.145049Z"
    },
    "papermill": {
     "duration": 0.089722,
     "end_time": "2022-03-10T21:24:51.146247",
     "exception": false,
     "start_time": "2022-03-10T21:24:51.056525",
     "status": "completed"
    },
    "tags": []
   },
   "outputs": [
    {
     "name": "stdout",
     "output_type": "stream",
     "text": [
      "[2.24120314 2.24433583 2.24746853 2.25060122 2.25373391 2.2568666\n",
      " 2.2599993  2.26313199 2.26626468 2.26939738 2.27253007 2.27566276\n",
      " 2.27879546 2.28192815 2.28506084 2.28819354 2.29132623 2.29445892\n",
      " 2.29759161 2.30072431 2.303857   2.30698969 2.31012239 2.31325508\n",
      " 2.31638777 2.31952047 2.32265316 2.32578585 2.32891855 2.33205124]\n"
     ]
    }
   ],
   "source": [
    "print(np.unique(uvp_PXC_cov_fg.lst_avg_array))"
   ]
  },
  {
   "cell_type": "markdown",
   "id": "67379ea9",
   "metadata": {
    "papermill": {
     "duration": 0.088247,
     "end_time": "2022-03-10T21:24:51.316279",
     "exception": false,
     "start_time": "2022-03-10T21:24:51.228032",
     "status": "completed"
    },
    "tags": []
   },
   "source": [
    "#### inpainted data"
   ]
  },
  {
   "cell_type": "code",
   "execution_count": 100,
   "id": "661e132e",
   "metadata": {
    "execution": {
     "iopub.execute_input": "2022-03-10T21:24:51.526760Z",
     "iopub.status.busy": "2022-03-10T21:24:51.526205Z",
     "iopub.status.idle": "2022-03-10T21:30:10.335561Z",
     "shell.execute_reply": "2022-03-10T21:30:10.336186Z"
    },
    "papermill": {
     "duration": 318.925153,
     "end_time": "2022-03-10T21:30:10.336331",
     "exception": false,
     "start_time": "2022-03-10T21:24:51.411178",
     "status": "completed"
    },
    "tags": []
   },
   "outputs": [
    {
     "name": "stderr",
     "output_type": "stream",
     "text": [
      "invalid value encountered in cdouble_scalars\n"
     ]
    },
    {
     "name": "stderr",
     "output_type": "stream",
     "text": [
      "invalid value encountered in true_divide\n",
      "Attempting to set identical left == right == -0.0 results in singular transformations; automatically expanding.\n",
      "invalid value encountered in true_divide\n",
      "invalid value encountered in true_divide\n",
      "FixedFormatter should only be used together with FixedLocator\n",
      "invalid value encountered in cdouble_scalars\n"
     ]
    },
    {
     "name": "stdout",
     "output_type": "stream",
     "text": [
      "beyond 3sigma nan Gauss nan Laplacian nan\n"
     ]
    },
    {
     "name": "stderr",
     "output_type": "stream",
     "text": [
      "invalid value encountered in true_divide\n",
      "Attempting to set identical left == right == -0.0 results in singular transformations; automatically expanding.\n",
      "invalid value encountered in double_scalars\n",
      "invalid value encountered in true_divide\n",
      "invalid value encountered in true_divide\n",
      "FixedFormatter should only be used together with FixedLocator\n",
      "invalid value encountered in cdouble_scalars\n"
     ]
    },
    {
     "name": "stdout",
     "output_type": "stream",
     "text": [
      "beyond 3sigma nan Gauss nan Laplacian nan\n"
     ]
    },
    {
     "name": "stderr",
     "output_type": "stream",
     "text": [
      "invalid value encountered in true_divide\n",
      "Attempting to set identical left == right == -0.0 results in singular transformations; automatically expanding.\n",
      "invalid value encountered in double_scalars\n",
      "invalid value encountered in true_divide\n",
      "invalid value encountered in true_divide\n",
      "FixedFormatter should only be used together with FixedLocator\n"
     ]
    },
    {
     "name": "stdout",
     "output_type": "stream",
     "text": [
      "beyond 3sigma nan Gauss nan Laplacian nan\n",
      "30084\n"
     ]
    },
    {
     "data": {
      "image/png": "[encoded data removed]",
      "text/plain": [
       "<Figure size 1440x432 with 3 Axes>"
      ]
     },
     "metadata": {
      "needs_background": "light"
     },
     "output_type": "display_data"
    }
   ],
   "source": [
    "# used in paper\n",
    "# A larger window (2000), with normalization\n",
    "uvp_plot = uvp_P_cov_n\n",
    "num_time_samples_list = [1,5,15]\n",
    "ylim = (5*1e-13,1e-9)\n",
    "dlys = uvp_plot.get_dlys(0) * 1e9\n",
    "delay_args = np.append(np.argwhere(dlys< -2000), np.argwhere(dlys> 2000))\n",
    "suptitle = \"Inpainted HERA Phase I Data, \"+r\"$|\\tau|>2000 {\\rm ns}$\"\n",
    "\n",
    "fig, axes = plt.subplots(figsize=(20,6), ncols=3, nrows=1)\n",
    "for ax_idx, num_time_samples in enumerate(num_time_samples_list):\n",
    "    col_idx = ax_idx%3\n",
    "    times = np.arange(num_time_samples)\n",
    "   \n",
    "    # Get all keys\n",
    "    keys = uvp_plot.get_all_keys()\n",
    "    blpt_weights = np.array([[1. for item in times] for key in keys])\n",
    "    ps_real_time_avg = []\n",
    "    for dly in delay_args:\n",
    "        ps = np.array([[uvp_plot.get_data(key)[time, dly]*uvp_plot.get_stats(\"autos_diag\", keys[0])[time,0].real\\\n",
    "                        /uvp_plot.get_stats(\"autos_diag\", key)[time, dly].real for time in times] for key in keys])\n",
    "        ps_real_time_avg.extend((np.sum(ps.real*blpt_weights, axis=1)/np.sum(blpt_weights, axis=1).clip(1e-10, np.inf)).flatten())\n",
    "    ps_real_time_avg = np.array(ps_real_time_avg) - np.mean(ps_real_time_avg)\n",
    "    # The ratio of error bars to the original one\n",
    "    psunits = uvp_plot.units\n",
    "    if \"h^-1\" in psunits: psunits = psunits.replace(\"h^-1\", \"h^{-1}\")\n",
    "    if \"h^-3\" in psunits: psunits = psunits.replace(\"h^-3\", \"h^{-3}\")\n",
    "    if \"Mpc\" in psunits and \"\\\\rm\" not in psunits: \n",
    "        psunits = psunits.replace(\"Mpc\", r\"{\\rm Mpc}\")\n",
    "    if \"pi\" in psunits and \"\\\\pi\" not in psunits: \n",
    "        psunits = psunits.replace(\"pi\", r\"\\pi\")\n",
    "    \n",
    "    ax = axes[col_idx]\n",
    "    Lap_sigma_list = np.zeros(num_time_samples)\n",
    "    for time in times:\n",
    "        Lap_sigma_list[time] = uvp_plot.get_stats(\"autos_diag\", keys[0])[time, 0].real \n",
    "    Gauss_sigma = np.sqrt(np.sum(Lap_sigma_list**2))/num_time_samples\n",
    "    vlim = 6*Gauss_sigma\n",
    "    n_in_bins, bins_edge, _ = ax.hist(ps_real_time_avg, log=True, density=True, bins=61, range=(-vlim, vlim), alpha=0.75,\n",
    "                           color='pink')\n",
    "    ax.set_xlim(-vlim, vlim)\n",
    "    ax.set_ylim(*ylim)\n",
    "    \n",
    "    px = np.linspace(-vlim, vlim, 100)\n",
    "    Lap_curve = np.zeros_like(px)\n",
    "    normalized_factor = 0\n",
    "    for time in times:\n",
    "        scale_factor = 1\n",
    "        for time_ in times:\n",
    "            if time_ != time:\n",
    "                scale_factor *= Lap_sigma_list[time]**2/(Lap_sigma_list[time]**2-Lap_sigma_list[time_]**2)\n",
    "        normalized_factor += scale_factor   \n",
    "        Lap_curve += np.exp(-np.sqrt(2)*np.abs(px)/Lap_sigma_list[time]*num_time_samples)/np.sqrt(2)/Lap_sigma_list[time]*num_time_samples*scale_factor\n",
    "    \n",
    "    # Calculate the equivalent Gaussian pdf\n",
    "    Gauss_curve = np.exp(-px**2/2/Gauss_sigma**2)/np.sqrt(2*np.pi*Gauss_sigma**2)\n",
    "    \n",
    "    if np.isclose(normalized_factor,1,rtol=5e-1):\n",
    "        ax.plot(px, Lap_curve, ls='-', lw=2, label=\"Sum of Laplacians\", c='cyan')\n",
    "    ax.plot(px, Gauss_curve, ls='--', lw=2, label='Gaussian', c='slategrey')\n",
    "    bins_center = (bins_edge[1:] + bins_edge[0:-1])/2\n",
    "    outlier_3sigma = (np.sum(n_in_bins)-np.sum(n_in_bins[(-3*Gauss_sigma<=bins_center)*(bins_center<=3*Gauss_sigma)]))/np.sum(n_in_bins)\n",
    "    print(\"beyond 3sigma {}\".format(outlier_3sigma), \\\n",
    "          \"Gauss {}\".format((np.sum(Gauss_curve)-np.sum(Gauss_curve[(-3*Gauss_sigma<=px)*(px<=3*Gauss_sigma)]))/np.sum(Gauss_curve)), \\\n",
    "          \"Laplacian {}\".format((np.sum(Lap_curve)-np.sum(Lap_curve[(-3*Gauss_sigma<=px)*(px<=3*Gauss_sigma)]))/np.sum(Lap_curve)))\n",
    "    \n",
    "    # confidence interval\n",
    "    ax.axvline(x=3*Gauss_sigma, c='k', lw=1, ls=':')\n",
    "    ax.axvline(x=-3*Gauss_sigma, c='k', lw=1, ls=':')\n",
    "    ax.axvline(x=5*Gauss_sigma, c='navy', lw=1, ls=':')\n",
    "    ax.axvline(x=-5*Gauss_sigma, c='navy', lw=1, ls=':')\n",
    "    if ax_idx == 0:\n",
    "        ax.text(2.2*Gauss_sigma, 9*1e-12, r'$3 \\sigma$', ha=\"center\", va=\"center\", rotation=0,\n",
    "            fontsize=14,\n",
    "            bbox=dict(boxstyle=\"rarrow\", fc=\"green\", alpha=0.5))\n",
    "        ax.text(4.2*Gauss_sigma, 1e-10, r'$5 \\sigma$', ha=\"center\", va=\"center\", rotation=0,\n",
    "            fontsize=14,\n",
    "            bbox=dict(boxstyle=\"rarrow\", fc=\"green\", alpha=0.5))\n",
    "        ax.text(-2.2*Gauss_sigma, 9*1e-12, r'$3 \\sigma$', ha=\"center\", va=\"center\", rotation=0,\n",
    "            fontsize=14,\n",
    "            bbox=dict(boxstyle=\"larrow\", fc=\"green\", alpha=0.5))\n",
    "        ax.text(-4.2*Gauss_sigma, 1e-10, r'$5 \\sigma$', ha=\"center\", va=\"center\", rotation=0,\n",
    "            fontsize=14,\n",
    "            bbox=dict(boxstyle=\"larrow\", fc=\"green\", alpha=0.5))\n",
    "    \n",
    "    ax.tick_params(which='both', labelsize=16, length=3, width=0.5)\n",
    "    ax.xaxis.set_minor_locator(ticker.MultipleLocator(1e9))\n",
    "    xticks = ax.get_xticks()\n",
    "    ax.set_xticklabels(xticks/1e10)\n",
    "    ax.set_xlabel(\"$P(k_\\parallel)$ $[\\\\times 10^{10}\\,%s]$\" % psunits, fontsize=16)\n",
    "    if col_idx == 0: \n",
    "        ax.set_ylabel(\"pdf\", fontsize=16)\n",
    "    if ax_idx == 0:\n",
    "        ax.legend(loc='lower right', fontsize=14)\n",
    "    ax.set_title(\"Average over \\n{} timestamp(s)\".format(num_time_samples),bbox=dict(fc='wheat', alpha=0.5), fontsize=16, pad=15)\n",
    "fig.subplots_adjust(top=0.8)\n",
    "fig.suptitle(suptitle, fontsize=20, bbox=dict(fc='gold', alpha=0.5), x=0.5, y=0.99)\n",
    "print(len(uvp_plot.get_all_keys())*len(delay_args))"
   ]
  },
  {
   "cell_type": "code",
   "execution_count": 101,
   "id": "576120b7",
   "metadata": {
    "execution": {
     "iopub.execute_input": "2022-03-10T21:30:10.536385Z",
     "iopub.status.busy": "2022-03-10T21:30:10.535650Z",
     "iopub.status.idle": "2022-03-10T21:31:58.467482Z",
     "shell.execute_reply": "2022-03-10T21:31:58.468067Z"
    },
    "papermill": {
     "duration": 108.052549,
     "end_time": "2022-03-10T21:31:58.468204",
     "exception": false,
     "start_time": "2022-03-10T21:30:10.415655",
     "status": "completed"
    },
    "tags": []
   },
   "outputs": [
    {
     "name": "stderr",
     "output_type": "stream",
     "text": [
      "invalid value encountered in cdouble_scalars\n"
     ]
    },
    {
     "name": "stderr",
     "output_type": "stream",
     "text": [
      "invalid value encountered in true_divide\n",
      "Attempting to set identical left == right == -0.0 results in singular transformations; automatically expanding.\n",
      "invalid value encountered in true_divide\n",
      "invalid value encountered in true_divide\n",
      "FixedFormatter should only be used together with FixedLocator\n",
      "invalid value encountered in cdouble_scalars\n"
     ]
    },
    {
     "name": "stdout",
     "output_type": "stream",
     "text": [
      "beyond 3sigma nan Gauss nan Laplacian nan\n"
     ]
    },
    {
     "name": "stderr",
     "output_type": "stream",
     "text": [
      "invalid value encountered in true_divide\n",
      "Attempting to set identical left == right == -0.0 results in singular transformations; automatically expanding.\n",
      "invalid value encountered in double_scalars\n",
      "invalid value encountered in true_divide\n",
      "invalid value encountered in true_divide\n",
      "FixedFormatter should only be used together with FixedLocator\n",
      "invalid value encountered in cdouble_scalars\n"
     ]
    },
    {
     "name": "stdout",
     "output_type": "stream",
     "text": [
      "beyond 3sigma nan Gauss nan Laplacian nan\n"
     ]
    },
    {
     "name": "stderr",
     "output_type": "stream",
     "text": [
      "invalid value encountered in true_divide\n",
      "Attempting to set identical left == right == -0.0 results in singular transformations; automatically expanding.\n",
      "invalid value encountered in double_scalars\n",
      "invalid value encountered in true_divide\n",
      "invalid value encountered in true_divide\n",
      "FixedFormatter should only be used together with FixedLocator\n"
     ]
    },
    {
     "name": "stdout",
     "output_type": "stream",
     "text": [
      "beyond 3sigma nan Gauss nan Laplacian nan\n",
      "9936\n"
     ]
    },
    {
     "data": {
      "image/png": "[encoded data removed]",
      "text/plain": [
       "<Figure size 1440x432 with 3 Axes>"
      ]
     },
     "metadata": {
      "needs_background": "light"
     },
     "output_type": "display_data"
    }
   ],
   "source": [
    "# used in paper\n",
    "# A larger window (500-1500), with normalization\n",
    "uvp_plot = uvp_P_cov_n\n",
    "num_time_samples_list = [1,5,15]\n",
    "ylim = (5*1e-13,1e-9)\n",
    "dlys = uvp_plot.get_dlys(0) * 1e9\n",
    "delay_args = np.append(np.argwhere((dlys< -500)*(dlys>-1500)), np.argwhere((dlys< 1500)*(dlys>500)))\n",
    "suptitle = \"Inpainted HERA Phase I Data, \" + r\"$500\\,{\\rm ns}<|\\tau|<1500\\,{\\rm ns}$\"\n",
    "\n",
    "fig, axes = plt.subplots(figsize=(20,6), ncols=3, nrows=1)\n",
    "for ax_idx, num_time_samples in enumerate(num_time_samples_list):\n",
    "    col_idx = ax_idx%3\n",
    "    times = np.arange(num_time_samples)\n",
    "   \n",
    "    # Get all keys\n",
    "    keys = uvp_plot.get_all_keys()\n",
    "    blpt_weights = np.array([[1. for item in times] for key in keys])\n",
    "    ps_real_time_avg = []\n",
    "    for dly in delay_args:\n",
    "        ps = np.array([[uvp_plot.get_data(key)[time, dly]*uvp_plot.get_stats(\"autos_diag\", keys[0])[time,0].real\\\n",
    "                        /uvp_plot.get_stats(\"autos_diag\", key)[time, dly].real for time in times] for key in keys])\n",
    "        ps_real_time_avg.extend((np.sum(ps.real*blpt_weights, axis=1)/np.sum(blpt_weights, axis=1).clip(1e-10, np.inf)).flatten())\n",
    "    ps_real_time_avg = np.array(ps_real_time_avg) - np.mean(ps_real_time_avg)\n",
    "    # The ratio of error bars to the original one\n",
    "    psunits = uvp_plot.units\n",
    "    if \"h^-1\" in psunits: psunits = psunits.replace(\"h^-1\", \"h^{-1}\")\n",
    "    if \"h^-3\" in psunits: psunits = psunits.replace(\"h^-3\", \"h^{-3}\")\n",
    "    if \"Mpc\" in psunits and \"\\\\rm\" not in psunits: \n",
    "        psunits = psunits.replace(\"Mpc\", r\"{\\rm Mpc}\")\n",
    "    if \"pi\" in psunits and \"\\\\pi\" not in psunits: \n",
    "        psunits = psunits.replace(\"pi\", r\"\\pi\")\n",
    "    \n",
    "    ax = axes[col_idx]\n",
    "    Lap_sigma_list = np.zeros(num_time_samples)\n",
    "    for time in times:\n",
    "        Lap_sigma_list[time] = uvp_plot.get_stats(\"autos_diag\", keys[0])[time, 0].real \n",
    "    Gauss_sigma = np.sqrt(np.sum(Lap_sigma_list**2))/num_time_samples\n",
    "    vlim = 6*Gauss_sigma\n",
    "    n_in_bins, bins_edge, _ = ax.hist(ps_real_time_avg, log=True, density=True, bins=61, range=(-vlim, vlim), alpha=0.75,\n",
    "                           color='pink')\n",
    "    ax.set_xlim(-vlim, vlim)\n",
    "    ax.set_ylim(*ylim)\n",
    "    \n",
    "    px = np.linspace(-vlim, vlim, 100)\n",
    "    Lap_curve = np.zeros_like(px)\n",
    "    normalized_factor = 0\n",
    "    for time in times:\n",
    "        scale_factor = 1\n",
    "        for time_ in times:\n",
    "            if time_ != time:\n",
    "                scale_factor *= Lap_sigma_list[time]**2/(Lap_sigma_list[time]**2-Lap_sigma_list[time_]**2)\n",
    "        normalized_factor += scale_factor   \n",
    "        Lap_curve += np.exp(-np.sqrt(2)*np.abs(px)/Lap_sigma_list[time]*num_time_samples)/np.sqrt(2)/Lap_sigma_list[time]*num_time_samples*scale_factor\n",
    "    \n",
    "    # Calculate the equivalent Gaussian pdf\n",
    "    Gauss_curve = np.exp(-px**2/2/Gauss_sigma**2)/np.sqrt(2*np.pi*Gauss_sigma**2)\n",
    "    \n",
    "    if np.isclose(normalized_factor,1,rtol=5e-1):\n",
    "        ax.plot(px, Lap_curve, ls='-', lw=2, label=\"Sum of Laplacians\", c='cyan')\n",
    "    ax.plot(px, Gauss_curve, ls='--', lw=2, label='Gaussian', c='slategrey')\n",
    "    bins_center = (bins_edge[1:] + bins_edge[0:-1])/2\n",
    "    outlier_3sigma = (np.sum(n_in_bins)-np.sum(n_in_bins[(-3*Gauss_sigma<=bins_center)*(bins_center<=3*Gauss_sigma)]))/np.sum(n_in_bins)\n",
    "    print(\"beyond 3sigma {}\".format(outlier_3sigma), \\\n",
    "          \"Gauss {}\".format((np.sum(Gauss_curve)-np.sum(Gauss_curve[(-3*Gauss_sigma<=px)*(px<=3*Gauss_sigma)]))/np.sum(Gauss_curve)), \\\n",
    "          \"Laplacian {}\".format((np.sum(Lap_curve)-np.sum(Lap_curve[(-3*Gauss_sigma<=px)*(px<=3*Gauss_sigma)]))/np.sum(Lap_curve)))\n",
    "    # confidence interval\n",
    "    ax.axvline(x=3*Gauss_sigma, c='k', lw=1, ls=':')\n",
    "    ax.axvline(x=-3*Gauss_sigma, c='k', lw=1, ls=':')\n",
    "    ax.axvline(x=5*Gauss_sigma, c='navy', lw=1, ls=':')\n",
    "    ax.axvline(x=-5*Gauss_sigma, c='navy', lw=1, ls=':')\n",
    "    if ax_idx == 0:\n",
    "        ax.text(2.2*Gauss_sigma, 9*1e-12, r'$3 \\sigma$', ha=\"center\", va=\"center\", rotation=0,\n",
    "            fontsize=14,\n",
    "            bbox=dict(boxstyle=\"rarrow\", fc=\"green\", alpha=0.5))\n",
    "        ax.text(4.2*Gauss_sigma, 1e-10, r'$5 \\sigma$', ha=\"center\", va=\"center\", rotation=0,\n",
    "            fontsize=14,\n",
    "            bbox=dict(boxstyle=\"rarrow\", fc=\"green\", alpha=0.5))\n",
    "        ax.text(-2.2*Gauss_sigma, 9*1e-12, r'$3 \\sigma$', ha=\"center\", va=\"center\", rotation=0,\n",
    "            fontsize=14,\n",
    "            bbox=dict(boxstyle=\"larrow\", fc=\"green\", alpha=0.5))\n",
    "        ax.text(-4.2*Gauss_sigma, 1e-10, r'$5 \\sigma$', ha=\"center\", va=\"center\", rotation=0,\n",
    "            fontsize=14,\n",
    "            bbox=dict(boxstyle=\"larrow\", fc=\"green\", alpha=0.5))\n",
    "    \n",
    "    ax.tick_params(which='both', labelsize=16, length=3, width=0.5)\n",
    "    ax.xaxis.set_minor_locator(ticker.MultipleLocator(1e9))\n",
    "    xticks = ax.get_xticks()\n",
    "    ax.set_xticklabels(xticks/1e10)\n",
    "    ax.set_xlabel(\"$P(k_\\parallel)$ $[\\\\times 10^{10}\\,%s]$\" % psunits, fontsize=16)\n",
    "    if col_idx == 0: \n",
    "        ax.set_ylabel(\"pdf\", fontsize=16)\n",
    "    if ax_idx == 0:\n",
    "        ax.legend(loc='lower right', fontsize=14)\n",
    "    ax.set_title(\"Average over \\n{} timestamp(s)\".format(num_time_samples),bbox=dict(fc='wheat', alpha=0.5), fontsize=16, pad=15)\n",
    "fig.subplots_adjust(top=0.8)\n",
    "fig.suptitle(suptitle, fontsize=20, bbox=dict(fc='gold', alpha=0.5), x=0.5, y=0.99)\n",
    "print(len(uvp_plot.get_all_keys())*len(delay_args))"
   ]
  },
  {
   "cell_type": "markdown",
   "id": "2e15c534",
   "metadata": {
    "papermill": {
     "duration": 0.088258,
     "end_time": "2022-03-10T21:31:58.638790",
     "exception": false,
     "start_time": "2022-03-10T21:31:58.550532",
     "status": "completed"
    },
    "tags": []
   },
   "source": [
    "#### inpainted + reflection"
   ]
  },
  {
   "cell_type": "code",
   "execution_count": 102,
   "id": "fd6e2387",
   "metadata": {
    "execution": {
     "iopub.execute_input": "2022-03-10T21:31:58.829584Z",
     "iopub.status.busy": "2022-03-10T21:31:58.829090Z",
     "iopub.status.idle": "2022-03-10T21:37:17.213169Z",
     "shell.execute_reply": "2022-03-10T21:37:17.213830Z"
    },
    "papermill": {
     "duration": 318.492671,
     "end_time": "2022-03-10T21:37:17.213973",
     "exception": false,
     "start_time": "2022-03-10T21:31:58.721302",
     "status": "completed"
    },
    "tags": []
   },
   "outputs": [
    {
     "name": "stderr",
     "output_type": "stream",
     "text": [
      "invalid value encountered in cdouble_scalars\n"
     ]
    },
    {
     "name": "stderr",
     "output_type": "stream",
     "text": [
      "invalid value encountered in true_divide\n",
      "Attempting to set identical left == right == -0.0 results in singular transformations; automatically expanding.\n",
      "invalid value encountered in true_divide\n",
      "invalid value encountered in true_divide\n",
      "FixedFormatter should only be used together with FixedLocator\n",
      "invalid value encountered in cdouble_scalars\n"
     ]
    },
    {
     "name": "stdout",
     "output_type": "stream",
     "text": [
      "beyond 3sigma nan\n"
     ]
    },
    {
     "name": "stderr",
     "output_type": "stream",
     "text": [
      "invalid value encountered in true_divide\n",
      "Attempting to set identical left == right == -0.0 results in singular transformations; automatically expanding.\n",
      "invalid value encountered in double_scalars\n",
      "invalid value encountered in true_divide\n",
      "invalid value encountered in true_divide\n",
      "FixedFormatter should only be used together with FixedLocator\n",
      "invalid value encountered in cdouble_scalars\n"
     ]
    },
    {
     "name": "stdout",
     "output_type": "stream",
     "text": [
      "beyond 3sigma nan\n"
     ]
    },
    {
     "name": "stderr",
     "output_type": "stream",
     "text": [
      "invalid value encountered in true_divide\n",
      "Attempting to set identical left == right == -0.0 results in singular transformations; automatically expanding.\n",
      "invalid value encountered in double_scalars\n",
      "invalid value encountered in true_divide\n",
      "invalid value encountered in true_divide\n",
      "FixedFormatter should only be used together with FixedLocator\n"
     ]
    },
    {
     "name": "stdout",
     "output_type": "stream",
     "text": [
      "beyond 3sigma nan\n",
      "30084\n"
     ]
    },
    {
     "data": {
      "image/png": "[encoded data removed]",
      "text/plain": [
       "<Figure size 1440x432 with 3 Axes>"
      ]
     },
     "metadata": {
      "needs_background": "light"
     },
     "output_type": "display_data"
    }
   ],
   "source": [
    "# used in paper\n",
    "# A larger window (2000), with normalization\n",
    "uvp_plot = uvp_PC_cov_n\n",
    "num_time_samples_list = [1,5,15]\n",
    "ylim = (5*1e-13,1e-9)\n",
    "dlys = uvp_plot.get_dlys(0) * 1e9\n",
    "delay_args = np.append(np.argwhere(dlys< -2000), np.argwhere(dlys> 2000))\n",
    "suptitle = \"Inpainted+cable reflection removed, \"+r\"$|\\tau|>2000 {\\rm ns}$\"\n",
    "\n",
    "fig, axes = plt.subplots(figsize=(20,6), ncols=3, nrows=1)\n",
    "for ax_idx, num_time_samples in enumerate(num_time_samples_list):\n",
    "    col_idx = ax_idx%3\n",
    "    times = np.arange(num_time_samples)\n",
    "   \n",
    "    # Get all keys\n",
    "    keys = uvp_plot.get_all_keys()\n",
    "    blpt_weights = np.array([[1. for item in times] for key in keys])\n",
    "    ps_real_time_avg = []\n",
    "    for dly in delay_args:\n",
    "        ps = np.array([[uvp_plot.get_data(key)[time, dly]*uvp_plot.get_stats(\"autos_diag\", keys[0])[time,0].real\\\n",
    "                        /uvp_plot.get_stats(\"autos_diag\", key)[time, dly].real for time in times] for key in keys])\n",
    "        ps_real_time_avg.extend((np.sum(ps.real*blpt_weights, axis=1)/np.sum(blpt_weights, axis=1).clip(1e-10, np.inf)).flatten())\n",
    "    ps_real_time_avg = np.array(ps_real_time_avg) - np.mean(ps_real_time_avg)\n",
    "    # The ratio of error bars to the original one\n",
    "    psunits = uvp_plot.units\n",
    "    if \"h^-1\" in psunits: psunits = psunits.replace(\"h^-1\", \"h^{-1}\")\n",
    "    if \"h^-3\" in psunits: psunits = psunits.replace(\"h^-3\", \"h^{-3}\")\n",
    "    if \"Mpc\" in psunits and \"\\\\rm\" not in psunits: \n",
    "        psunits = psunits.replace(\"Mpc\", r\"{\\rm Mpc}\")\n",
    "    if \"pi\" in psunits and \"\\\\pi\" not in psunits: \n",
    "        psunits = psunits.replace(\"pi\", r\"\\pi\")\n",
    "    \n",
    "    ax = axes[col_idx]\n",
    "    Lap_sigma_list = np.zeros(num_time_samples)\n",
    "    for time in times:\n",
    "        Lap_sigma_list[time] = uvp_plot.get_stats(\"autos_diag\", keys[0])[time, 0].real \n",
    "    Gauss_sigma = np.sqrt(np.sum(Lap_sigma_list**2))/num_time_samples\n",
    "    vlim = 6*Gauss_sigma\n",
    "    n_in_bins, bins_edge, _ = ax.hist(ps_real_time_avg, log=True, density=True, bins=61, range=(-vlim, vlim), alpha=0.75,\n",
    "                           color='pink')\n",
    "    ax.set_xlim(-vlim, vlim)\n",
    "    ax.set_ylim(*ylim)\n",
    "    \n",
    "    px = np.linspace(-vlim, vlim, 100)\n",
    "    Lap_curve = np.zeros_like(px)\n",
    "    normalized_factor = 0\n",
    "    for time in times:\n",
    "        scale_factor = 1\n",
    "        for time_ in times:\n",
    "            if time_ != time:\n",
    "                scale_factor *= Lap_sigma_list[time]**2/(Lap_sigma_list[time]**2-Lap_sigma_list[time_]**2)\n",
    "        normalized_factor += scale_factor   \n",
    "        Lap_curve += np.exp(-np.sqrt(2)*np.abs(px)/Lap_sigma_list[time]*num_time_samples)/np.sqrt(2)/Lap_sigma_list[time]*num_time_samples*scale_factor\n",
    "    \n",
    "    # Calculate the equivalent Gaussian pdf\n",
    "    Gauss_curve = np.exp(-px**2/2/Gauss_sigma**2)/np.sqrt(2*np.pi*Gauss_sigma**2)\n",
    "    \n",
    "    if np.isclose(normalized_factor,1,rtol=5e-1):\n",
    "        ax.plot(px, Lap_curve, ls='-', lw=2, label=\"Sum of Laplacian\", c='cyan')\n",
    "    ax.plot(px, Gauss_curve, ls='--', lw=2, label='Gaussian', c='slategrey')\n",
    "    bins_center = (bins_edge[1:] + bins_edge[0:-1])/2\n",
    "    outlier_3sigma = (np.sum(n_in_bins)-np.sum(n_in_bins[(-3*Gauss_sigma<=bins_center)*(bins_center<=3*Gauss_sigma)]))/np.sum(n_in_bins)\n",
    "    print(\"beyond 3sigma {}\".format(outlier_3sigma))\n",
    "    \n",
    "    # confidence interval\n",
    "    ax.axvline(x=3*Gauss_sigma, c='k', lw=1, ls=':')\n",
    "    ax.axvline(x=-3*Gauss_sigma, c='k', lw=1, ls=':')\n",
    "    ax.axvline(x=5*Gauss_sigma, c='navy', lw=1, ls=':')\n",
    "    ax.axvline(x=-5*Gauss_sigma, c='navy', lw=1, ls=':')\n",
    "    if ax_idx == 0:\n",
    "        ax.text(2.2*Gauss_sigma, 9*1e-12, r'$3 \\sigma$', ha=\"center\", va=\"center\", rotation=0,\n",
    "            fontsize=14,\n",
    "            bbox=dict(boxstyle=\"rarrow\", fc=\"green\", alpha=0.5))\n",
    "        ax.text(4.2*Gauss_sigma, 1e-10, r'$5 \\sigma$', ha=\"center\", va=\"center\", rotation=0,\n",
    "            fontsize=14,\n",
    "            bbox=dict(boxstyle=\"rarrow\", fc=\"green\", alpha=0.5))\n",
    "        ax.text(-2.2*Gauss_sigma, 9*1e-12, r'$3 \\sigma$', ha=\"center\", va=\"center\", rotation=0,\n",
    "            fontsize=14,\n",
    "            bbox=dict(boxstyle=\"larrow\", fc=\"green\", alpha=0.5))\n",
    "        ax.text(-4.2*Gauss_sigma, 1e-10, r'$5 \\sigma$', ha=\"center\", va=\"center\", rotation=0,\n",
    "            fontsize=14,\n",
    "            bbox=dict(boxstyle=\"larrow\", fc=\"green\", alpha=0.5))\n",
    "    \n",
    "    ax.tick_params(which='both', labelsize=16, length=3, width=0.5)\n",
    "    ax.xaxis.set_minor_locator(ticker.MultipleLocator(1e9))\n",
    "    xticks = ax.get_xticks()\n",
    "    ax.set_xticklabels(xticks/1e10)\n",
    "    ax.set_xlabel(\"$P(k_\\parallel)$ $[\\\\times 10^{10}\\,%s]$\" % psunits, fontsize=16)\n",
    "    if col_idx == 0: \n",
    "        ax.set_ylabel(\"pdf\", fontsize=16)\n",
    "    if ax_idx == 0:\n",
    "        ax.legend(loc='lower right', fontsize=14)\n",
    "    ax.set_title(\"Average over \\n{} timestamp(s)\".format(num_time_samples),bbox=dict(fc='wheat', alpha=0.5), fontsize=16, pad=15)\n",
    "fig.subplots_adjust(top=0.8)\n",
    "fig.suptitle(suptitle, fontsize=20, bbox=dict(fc='gold', alpha=0.5), x=0.5, y=0.99)\n",
    "print(len(uvp_plot.get_all_keys())*len(delay_args))"
   ]
  },
  {
   "cell_type": "code",
   "execution_count": 103,
   "id": "73899a5b",
   "metadata": {
    "execution": {
     "iopub.execute_input": "2022-03-10T21:37:17.414576Z",
     "iopub.status.busy": "2022-03-10T21:37:17.414033Z",
     "iopub.status.idle": "2022-03-10T21:39:04.621423Z",
     "shell.execute_reply": "2022-03-10T21:39:04.622041Z"
    },
    "papermill": {
     "duration": 107.317943,
     "end_time": "2022-03-10T21:39:04.622178",
     "exception": false,
     "start_time": "2022-03-10T21:37:17.304235",
     "status": "completed"
    },
    "tags": []
   },
   "outputs": [
    {
     "name": "stderr",
     "output_type": "stream",
     "text": [
      "invalid value encountered in cdouble_scalars\n"
     ]
    },
    {
     "name": "stderr",
     "output_type": "stream",
     "text": [
      "invalid value encountered in true_divide\n",
      "Attempting to set identical left == right == -0.0 results in singular transformations; automatically expanding.\n",
      "invalid value encountered in true_divide\n",
      "invalid value encountered in true_divide\n",
      "FixedFormatter should only be used together with FixedLocator\n",
      "invalid value encountered in cdouble_scalars\n"
     ]
    },
    {
     "name": "stderr",
     "output_type": "stream",
     "text": [
      "invalid value encountered in true_divide\n"
     ]
    },
    {
     "name": "stderr",
     "output_type": "stream",
     "text": [
      "Attempting to set identical left == right == -0.0 results in singular transformations; automatically expanding.\n",
      "invalid value encountered in double_scalars\n",
      "invalid value encountered in true_divide\n",
      "invalid value encountered in true_divide\n",
      "FixedFormatter should only be used together with FixedLocator\n",
      "invalid value encountered in cdouble_scalars\n"
     ]
    },
    {
     "name": "stderr",
     "output_type": "stream",
     "text": [
      "invalid value encountered in true_divide\n",
      "Attempting to set identical left == right == -0.0 results in singular transformations; automatically expanding.\n",
      "invalid value encountered in double_scalars\n",
      "invalid value encountered in true_divide\n",
      "invalid value encountered in true_divide\n",
      "FixedFormatter should only be used together with FixedLocator\n"
     ]
    },
    {
     "name": "stdout",
     "output_type": "stream",
     "text": [
      "9936\n"
     ]
    },
    {
     "data": {
      "image/png": "[encoded data removed]",
      "text/plain": [
       "<Figure size 1440x432 with 3 Axes>"
      ]
     },
     "metadata": {
      "needs_background": "light"
     },
     "output_type": "display_data"
    }
   ],
   "source": [
    "# used in paper\n",
    "# A larger window (500-1500), with normalization\n",
    "uvp_plot = uvp_PC_cov_n\n",
    "num_time_samples_list = [1,5,15]\n",
    "ylim = (5*1e-13,1e-9)\n",
    "dlys = uvp_plot.get_dlys(0) * 1e9\n",
    "delay_args = np.append(np.argwhere((dlys< -500)*(dlys>-1500)), np.argwhere((dlys< 1500)*(dlys>500)))\n",
    "suptitle = \"Inpainted+cable reflection removed, \" + r\"$500\\,{\\rm ns}<|\\tau|<1500\\,{\\rm ns}$\"\n",
    "\n",
    "fig, axes = plt.subplots(figsize=(20,6), ncols=3, nrows=1)\n",
    "for ax_idx, num_time_samples in enumerate(num_time_samples_list):\n",
    "    col_idx = ax_idx%3\n",
    "    times = np.arange(num_time_samples)\n",
    "   \n",
    "    # Get all keys\n",
    "    keys = uvp_plot.get_all_keys()\n",
    "    blpt_weights = np.array([[1. for item in times] for key in keys])\n",
    "    ps_real_time_avg = []\n",
    "    for dly in delay_args:\n",
    "        ps = np.array([[uvp_plot.get_data(key)[time, dly]*uvp_plot.get_stats(\"autos_diag\", keys[0])[time,0].real\\\n",
    "                        /uvp_plot.get_stats(\"autos_diag\", key)[time, dly].real for time in times] for key in keys])\n",
    "        ps_real_time_avg.extend((np.sum(ps.real*blpt_weights, axis=1)/np.sum(blpt_weights, axis=1).clip(1e-10, np.inf)).flatten())\n",
    "    ps_real_time_avg = np.array(ps_real_time_avg) - np.mean(ps_real_time_avg)\n",
    "    # The ratio of error bars to the original one\n",
    "    psunits = uvp_plot.units\n",
    "    if \"h^-1\" in psunits: psunits = psunits.replace(\"h^-1\", \"h^{-1}\")\n",
    "    if \"h^-3\" in psunits: psunits = psunits.replace(\"h^-3\", \"h^{-3}\")\n",
    "    if \"Mpc\" in psunits and \"\\\\rm\" not in psunits: \n",
    "        psunits = psunits.replace(\"Mpc\", r\"{\\rm Mpc}\")\n",
    "    if \"pi\" in psunits and \"\\\\pi\" not in psunits: \n",
    "        psunits = psunits.replace(\"pi\", r\"\\pi\")\n",
    "    \n",
    "    ax = axes[col_idx]\n",
    "    Lap_sigma_list = np.zeros(num_time_samples)\n",
    "    for time in times:\n",
    "        Lap_sigma_list[time] = uvp_plot.get_stats(\"autos_diag\", keys[0])[time, 0].real \n",
    "    Gauss_sigma = np.sqrt(np.sum(Lap_sigma_list**2))/num_time_samples\n",
    "    vlim = 6*Gauss_sigma\n",
    "    n_in_bins, bins_edge, _ = ax.hist(ps_real_time_avg, log=True, density=True, bins=61, range=(-vlim, vlim), alpha=0.75,\n",
    "                           color='pink')\n",
    "    ax.set_xlim(-vlim, vlim)\n",
    "    ax.set_ylim(*ylim)\n",
    "    \n",
    "    px = np.linspace(-vlim, vlim, 100)\n",
    "    Lap_curve = np.zeros_like(px)\n",
    "    normalized_factor = 0\n",
    "    for time in times:\n",
    "        scale_factor = 1\n",
    "        for time_ in times:\n",
    "            if time_ != time:\n",
    "                scale_factor *= Lap_sigma_list[time]**2/(Lap_sigma_list[time]**2-Lap_sigma_list[time_]**2)\n",
    "        normalized_factor += scale_factor   \n",
    "        Lap_curve += np.exp(-np.sqrt(2)*np.abs(px)/Lap_sigma_list[time]*num_time_samples)/np.sqrt(2)/Lap_sigma_list[time]*num_time_samples*scale_factor\n",
    "    \n",
    "    # Calculate the equivalent Gaussian pdf\n",
    "    Gauss_curve = np.exp(-px**2/2/Gauss_sigma**2)/np.sqrt(2*np.pi*Gauss_sigma**2)\n",
    "    \n",
    "    if np.isclose(normalized_factor,1,rtol=5e-1):\n",
    "        ax.plot(px, Lap_curve, ls='-', lw=2, label=\"sum of Laplacian\", c='cyan')\n",
    "    ax.plot(px, Gauss_curve, ls='--', lw=2, label='Gaussian', c='slategrey')\n",
    "    \n",
    "    # confidence interval\n",
    "    ax.axvline(x=3*Gauss_sigma, c='k', lw=1, ls=':')\n",
    "    ax.axvline(x=-3*Gauss_sigma, c='k', lw=1, ls=':')\n",
    "    ax.axvline(x=5*Gauss_sigma, c='navy', lw=1, ls=':')\n",
    "    ax.axvline(x=-5*Gauss_sigma, c='navy', lw=1, ls=':')\n",
    "    if ax_idx == 0:\n",
    "        ax.text(2.2*Gauss_sigma, 9*1e-12, r'$3 \\sigma$', ha=\"center\", va=\"center\", rotation=0,\n",
    "            fontsize=14,\n",
    "            bbox=dict(boxstyle=\"rarrow\", fc=\"green\", alpha=0.5))\n",
    "        ax.text(4.2*Gauss_sigma, 1e-10, r'$5 \\sigma$', ha=\"center\", va=\"center\", rotation=0,\n",
    "            fontsize=14,\n",
    "            bbox=dict(boxstyle=\"rarrow\", fc=\"green\", alpha=0.5))\n",
    "        ax.text(-2.2*Gauss_sigma, 9*1e-12, r'$3 \\sigma$', ha=\"center\", va=\"center\", rotation=0,\n",
    "            fontsize=14,\n",
    "            bbox=dict(boxstyle=\"larrow\", fc=\"green\", alpha=0.5))\n",
    "        ax.text(-4.2*Gauss_sigma, 1e-10, r'$5 \\sigma$', ha=\"center\", va=\"center\", rotation=0,\n",
    "            fontsize=14,\n",
    "            bbox=dict(boxstyle=\"larrow\", fc=\"green\", alpha=0.5))\n",
    "    \n",
    "    ax.tick_params(which='both', labelsize=16, length=3, width=0.5)\n",
    "    ax.xaxis.set_minor_locator(ticker.MultipleLocator(1e9))\n",
    "    xticks = ax.get_xticks()\n",
    "    ax.set_xticklabels(xticks/1e10)\n",
    "    ax.set_xlabel(\"$P(k_\\parallel)$ $[\\\\times 10^{10}\\,%s]$\" % psunits, fontsize=16)\n",
    "    if col_idx == 0: \n",
    "        ax.set_ylabel(\"pdf\", fontsize=16)\n",
    "    if ax_idx == 0:\n",
    "        ax.legend(loc='lower right', fontsize=14)\n",
    "    ax.set_title(\"Average over \\n{} timestamp(s)\".format(num_time_samples),bbox=dict(fc='wheat', alpha=0.5), fontsize=16, pad=15)\n",
    "fig.subplots_adjust(top=0.8)\n",
    "fig.suptitle(suptitle, fontsize=20, bbox=dict(fc='gold', alpha=0.5), x=0.5, y=0.99)\n",
    "print(len(uvp_plot.get_all_keys())*len(delay_args))"
   ]
  },
  {
   "cell_type": "markdown",
   "id": "92870928",
   "metadata": {
    "papermill": {
     "duration": 0.085394,
     "end_time": "2022-03-10T21:39:04.794649",
     "exception": false,
     "start_time": "2022-03-10T21:39:04.709255",
     "status": "completed"
    },
    "tags": []
   },
   "source": [
    "#### inpainted + xtalk + reflection"
   ]
  },
  {
   "cell_type": "code",
   "execution_count": 104,
   "id": "389d7021",
   "metadata": {
    "execution": {
     "iopub.execute_input": "2022-03-10T21:39:04.990400Z",
     "iopub.status.busy": "2022-03-10T21:39:04.989920Z",
     "iopub.status.idle": "2022-03-10T21:44:30.142425Z",
     "shell.execute_reply": "2022-03-10T21:44:30.142823Z"
    },
    "papermill": {
     "duration": 325.263322,
     "end_time": "2022-03-10T21:44:30.142958",
     "exception": false,
     "start_time": "2022-03-10T21:39:04.879636",
     "status": "completed"
    },
    "tags": []
   },
   "outputs": [
    {
     "name": "stderr",
     "output_type": "stream",
     "text": [
      "invalid value encountered in cdouble_scalars\n"
     ]
    },
    {
     "name": "stderr",
     "output_type": "stream",
     "text": [
      "invalid value encountered in true_divide\n",
      "Attempting to set identical left == right == -0.0 results in singular transformations; automatically expanding.\n",
      "invalid value encountered in true_divide\n",
      "invalid value encountered in true_divide\n",
      "FixedFormatter should only be used together with FixedLocator\n",
      "invalid value encountered in cdouble_scalars\n"
     ]
    },
    {
     "name": "stderr",
     "output_type": "stream",
     "text": [
      "invalid value encountered in true_divide\n",
      "Attempting to set identical left == right == -0.0 results in singular transformations; automatically expanding.\n",
      "invalid value encountered in double_scalars\n",
      "invalid value encountered in true_divide\n",
      "invalid value encountered in true_divide\n",
      "FixedFormatter should only be used together with FixedLocator\n",
      "invalid value encountered in cdouble_scalars\n"
     ]
    },
    {
     "name": "stderr",
     "output_type": "stream",
     "text": [
      "invalid value encountered in true_divide\n",
      "Attempting to set identical left == right == -0.0 results in singular transformations; automatically expanding.\n",
      "invalid value encountered in double_scalars\n",
      "invalid value encountered in true_divide\n",
      "invalid value encountered in true_divide\n",
      "FixedFormatter should only be used together with FixedLocator\n"
     ]
    },
    {
     "name": "stdout",
     "output_type": "stream",
     "text": [
      "30084\n"
     ]
    },
    {
     "data": {
      "image/png": "[encoded data removed]",
      "text/plain": [
       "<Figure size 1440x432 with 3 Axes>"
      ]
     },
     "metadata": {
      "needs_background": "light"
     },
     "output_type": "display_data"
    }
   ],
   "source": [
    "# used in paper\n",
    "# A larger window (2000), with normalization\n",
    "uvp_plot = uvp_PXC_cov_n\n",
    "num_time_samples_list = [1,5,15]\n",
    "ylim = (5*1e-13,1e-9)\n",
    "dlys = uvp_plot.get_dlys(0) * 1e9\n",
    "delay_args = np.append(np.argwhere(dlys< -2000), np.argwhere(dlys> 2000))\n",
    "suptitle = \"Inpainted+xtalk removed+cable reflection removed, \"+r\"$|\\tau|>2000 {\\rm ns}$\"\n",
    "\n",
    "fig, axes = plt.subplots(figsize=(20,6), ncols=3, nrows=1)\n",
    "for ax_idx, num_time_samples in enumerate(num_time_samples_list):\n",
    "    col_idx = ax_idx%3\n",
    "    times = np.arange(num_time_samples)\n",
    "   \n",
    "    # Get all keys\n",
    "    keys = uvp_plot.get_all_keys()\n",
    "    blpt_weights = np.array([[1. for item in times] for key in keys])\n",
    "    ps_real_time_avg = []\n",
    "    for dly in delay_args:\n",
    "        ps = np.array([[uvp_plot.get_data(key)[time, dly]*uvp_plot.get_stats(\"autos_diag\", keys[0])[time,0].real\\\n",
    "                        /uvp_plot.get_stats(\"autos_diag\", key)[time, dly].real for time in times] for key in keys])\n",
    "        ps_real_time_avg.extend((np.sum(ps.real*blpt_weights, axis=1)/np.sum(blpt_weights, axis=1).clip(1e-10, np.inf)).flatten())\n",
    "    ps_real_time_avg = np.array(ps_real_time_avg) - np.mean(ps_real_time_avg)\n",
    "    # The ratio of error bars to the original one\n",
    "    psunits = uvp_plot.units\n",
    "    if \"h^-1\" in psunits: psunits = psunits.replace(\"h^-1\", \"h^{-1}\")\n",
    "    if \"h^-3\" in psunits: psunits = psunits.replace(\"h^-3\", \"h^{-3}\")\n",
    "    if \"Mpc\" in psunits and \"\\\\rm\" not in psunits: \n",
    "        psunits = psunits.replace(\"Mpc\", r\"{\\rm Mpc}\")\n",
    "    if \"pi\" in psunits and \"\\\\pi\" not in psunits: \n",
    "        psunits = psunits.replace(\"pi\", r\"\\pi\")\n",
    "    \n",
    "    ax = axes[col_idx]\n",
    "    Lap_sigma_list = np.zeros(num_time_samples)\n",
    "    for time in times:\n",
    "        Lap_sigma_list[time] = uvp_plot.get_stats(\"autos_diag\", keys[0])[time, 0].real \n",
    "    Gauss_sigma = np.sqrt(np.sum(Lap_sigma_list**2))/num_time_samples\n",
    "    vlim = 6*Gauss_sigma\n",
    "    n_in_bins, bins_edge, _ = ax.hist(ps_real_time_avg, log=True, density=True, bins=61, range=(-vlim, vlim), alpha=0.75,\n",
    "                           color='pink')\n",
    "    ax.set_xlim(-vlim, vlim)\n",
    "    ax.set_ylim(*ylim)\n",
    "    \n",
    "    px = np.linspace(-vlim, vlim, 100)\n",
    "    Lap_curve = np.zeros_like(px)\n",
    "    normalized_factor = 0\n",
    "    for time in times:\n",
    "        scale_factor = 1\n",
    "        for time_ in times:\n",
    "            if time_ != time:\n",
    "                scale_factor *= Lap_sigma_list[time]**2/(Lap_sigma_list[time]**2-Lap_sigma_list[time_]**2)\n",
    "        normalized_factor += scale_factor   \n",
    "        Lap_curve += np.exp(-np.sqrt(2)*np.abs(px)/Lap_sigma_list[time]*num_time_samples)/np.sqrt(2)/Lap_sigma_list[time]*num_time_samples*scale_factor\n",
    "    \n",
    "    # Calculate the equivalent Gaussian pdf\n",
    "    Gauss_curve = np.exp(-px**2/2/Gauss_sigma**2)/np.sqrt(2*np.pi*Gauss_sigma**2)\n",
    "    \n",
    "    if np.isclose(normalized_factor,1,rtol=5e-1):\n",
    "        ax.plot(px, Lap_curve, ls='-', lw=2, label=\"sum of Laplacian\", c='cyan')\n",
    "    ax.plot(px, Gauss_curve, ls='--', lw=2, label='Gaussian', c='slategrey')\n",
    "    \n",
    "    # confidence interval\n",
    "    ax.axvline(x=3*Gauss_sigma, c='k', lw=1, ls=':')\n",
    "    ax.axvline(x=-3*Gauss_sigma, c='k', lw=1, ls=':')\n",
    "    ax.axvline(x=5*Gauss_sigma, c='navy', lw=1, ls=':')\n",
    "    ax.axvline(x=-5*Gauss_sigma, c='navy', lw=1, ls=':')\n",
    "    if ax_idx == 0:\n",
    "        ax.text(2.2*Gauss_sigma, 9*1e-12, r'$3 \\sigma$', ha=\"center\", va=\"center\", rotation=0,\n",
    "            fontsize=14,\n",
    "            bbox=dict(boxstyle=\"rarrow\", fc=\"green\", alpha=0.5))\n",
    "        ax.text(4.2*Gauss_sigma, 1e-10, r'$5 \\sigma$', ha=\"center\", va=\"center\", rotation=0,\n",
    "            fontsize=14,\n",
    "            bbox=dict(boxstyle=\"rarrow\", fc=\"green\", alpha=0.5))\n",
    "        ax.text(-2.2*Gauss_sigma, 9*1e-12, r'$3 \\sigma$', ha=\"center\", va=\"center\", rotation=0,\n",
    "            fontsize=14,\n",
    "            bbox=dict(boxstyle=\"larrow\", fc=\"green\", alpha=0.5))\n",
    "        ax.text(-4.2*Gauss_sigma, 1e-10, r'$5 \\sigma$', ha=\"center\", va=\"center\", rotation=0,\n",
    "            fontsize=14,\n",
    "            bbox=dict(boxstyle=\"larrow\", fc=\"green\", alpha=0.5))\n",
    "    \n",
    "    ax.tick_params(which='both', labelsize=16, length=3, width=0.5)\n",
    "    ax.xaxis.set_minor_locator(ticker.MultipleLocator(1e9))\n",
    "    xticks = ax.get_xticks()\n",
    "    ax.set_xticklabels(xticks/1e10)\n",
    "    ax.set_xlabel(\"$P(k_\\parallel)$ $[\\\\times 10^{10}\\,%s]$\" % psunits, fontsize=16)\n",
    "    if col_idx == 0: \n",
    "        ax.set_ylabel(\"pdf\", fontsize=16)\n",
    "    if ax_idx == 0:\n",
    "        ax.legend(loc='lower right', fontsize=14)\n",
    "    ax.set_title(\"Average over \\n{} timestamp(s)\".format(num_time_samples),bbox=dict(fc='wheat', alpha=0.5), fontsize=16, pad=15)\n",
    "fig.subplots_adjust(top=0.8)\n",
    "fig.suptitle(suptitle, fontsize=20, bbox=dict(fc='gold', alpha=0.5), x=0.5, y=0.99)\n",
    "print(len(uvp_plot.get_all_keys())*len(delay_args))"
   ]
  },
  {
   "cell_type": "code",
   "execution_count": 105,
   "id": "e66c7f95",
   "metadata": {
    "execution": {
     "iopub.execute_input": "2022-03-10T21:44:30.355929Z",
     "iopub.status.busy": "2022-03-10T21:44:30.355404Z",
     "iopub.status.idle": "2022-03-10T21:46:18.927734Z",
     "shell.execute_reply": "2022-03-10T21:46:18.928355Z"
    },
    "papermill": {
     "duration": 108.683673,
     "end_time": "2022-03-10T21:46:18.928492",
     "exception": false,
     "start_time": "2022-03-10T21:44:30.244819",
     "status": "completed"
    },
    "tags": []
   },
   "outputs": [
    {
     "name": "stderr",
     "output_type": "stream",
     "text": [
      "invalid value encountered in cdouble_scalars\n"
     ]
    },
    {
     "name": "stderr",
     "output_type": "stream",
     "text": [
      "invalid value encountered in true_divide\n",
      "Attempting to set identical left == right == -0.0 results in singular transformations; automatically expanding.\n",
      "invalid value encountered in true_divide\n",
      "invalid value encountered in true_divide\n",
      "FixedFormatter should only be used together with FixedLocator\n",
      "invalid value encountered in cdouble_scalars\n"
     ]
    },
    {
     "name": "stderr",
     "output_type": "stream",
     "text": [
      "invalid value encountered in true_divide\n",
      "Attempting to set identical left == right == -0.0 results in singular transformations; automatically expanding.\n",
      "invalid value encountered in double_scalars\n",
      "invalid value encountered in true_divide\n",
      "invalid value encountered in true_divide\n",
      "FixedFormatter should only be used together with FixedLocator\n",
      "invalid value encountered in cdouble_scalars\n"
     ]
    },
    {
     "name": "stderr",
     "output_type": "stream",
     "text": [
      "invalid value encountered in true_divide\n",
      "Attempting to set identical left == right == -0.0 results in singular transformations; automatically expanding.\n",
      "invalid value encountered in double_scalars\n",
      "invalid value encountered in true_divide\n",
      "invalid value encountered in true_divide\n",
      "FixedFormatter should only be used together with FixedLocator\n"
     ]
    },
    {
     "name": "stdout",
     "output_type": "stream",
     "text": [
      "9936\n"
     ]
    },
    {
     "data": {
      "image/png": "[encoded data removed]",
      "text/plain": [
       "<Figure size 1440x432 with 3 Axes>"
      ]
     },
     "metadata": {
      "needs_background": "light"
     },
     "output_type": "display_data"
    }
   ],
   "source": [
    "# used in paper\n",
    "# A larger window (500-1500), with normalization\n",
    "uvp_plot = uvp_PXC_cov_n\n",
    "num_time_samples_list = [1,5,15]\n",
    "ylim = (5*1e-13,1e-9)\n",
    "dlys = uvp_plot.get_dlys(0) * 1e9\n",
    "delay_args = np.append(np.argwhere((dlys< -500)*(dlys>-1500)), np.argwhere((dlys< 1500)*(dlys>500)))\n",
    "suptitle = \"Inpainted+xtalk removed+cable reflection removed, \" + r\"$500\\,{\\rm ns}<|\\tau|<1500\\,{\\rm ns}$\"\n",
    "\n",
    "fig, axes = plt.subplots(figsize=(20,6), ncols=3, nrows=1)\n",
    "for ax_idx, num_time_samples in enumerate(num_time_samples_list):\n",
    "    col_idx = ax_idx%3\n",
    "    times = np.arange(num_time_samples)\n",
    "   \n",
    "    # Get all keys\n",
    "    keys = uvp_plot.get_all_keys()\n",
    "    blpt_weights = np.array([[1. for item in times] for key in keys])\n",
    "    ps_real_time_avg = []\n",
    "    for dly in delay_args:\n",
    "        ps = np.array([[uvp_plot.get_data(key)[time, dly]*uvp_plot.get_stats(\"autos_diag\", keys[0])[time,0].real\\\n",
    "                        /uvp_plot.get_stats(\"autos_diag\", key)[time, dly].real for time in times] for key in keys])\n",
    "        ps_real_time_avg.extend((np.sum(ps.real*blpt_weights, axis=1)/np.sum(blpt_weights, axis=1).clip(1e-10, np.inf)).flatten())\n",
    "    ps_real_time_avg = np.array(ps_real_time_avg) - np.mean(ps_real_time_avg)\n",
    "    # The ratio of error bars to the original one\n",
    "    psunits = uvp_plot.units\n",
    "    if \"h^-1\" in psunits: psunits = psunits.replace(\"h^-1\", \"h^{-1}\")\n",
    "    if \"h^-3\" in psunits: psunits = psunits.replace(\"h^-3\", \"h^{-3}\")\n",
    "    if \"Mpc\" in psunits and \"\\\\rm\" not in psunits: \n",
    "        psunits = psunits.replace(\"Mpc\", r\"{\\rm Mpc}\")\n",
    "    if \"pi\" in psunits and \"\\\\pi\" not in psunits: \n",
    "        psunits = psunits.replace(\"pi\", r\"\\pi\")\n",
    "    \n",
    "    ax = axes[col_idx]\n",
    "    Lap_sigma_list = np.zeros(num_time_samples)\n",
    "    for time in times:\n",
    "        Lap_sigma_list[time] = uvp_plot.get_stats(\"autos_diag\", keys[0])[time, 0].real \n",
    "    Gauss_sigma = np.sqrt(np.sum(Lap_sigma_list**2))/num_time_samples\n",
    "    vlim = 6*Gauss_sigma\n",
    "    n_in_bins, bins_edge, _ = ax.hist(ps_real_time_avg, log=True, density=True, bins=61, range=(-vlim, vlim), alpha=0.75,\n",
    "                           color='pink')\n",
    "    ax.set_xlim(-vlim, vlim)\n",
    "    ax.set_ylim(*ylim)\n",
    "    \n",
    "    px = np.linspace(-vlim, vlim, 100)\n",
    "    Lap_curve = np.zeros_like(px)\n",
    "    normalized_factor = 0\n",
    "    for time in times:\n",
    "        scale_factor = 1\n",
    "        for time_ in times:\n",
    "            if time_ != time:\n",
    "                scale_factor *= Lap_sigma_list[time]**2/(Lap_sigma_list[time]**2-Lap_sigma_list[time_]**2)\n",
    "        normalized_factor += scale_factor   \n",
    "        Lap_curve += np.exp(-np.sqrt(2)*np.abs(px)/Lap_sigma_list[time]*num_time_samples)/np.sqrt(2)/Lap_sigma_list[time]*num_time_samples*scale_factor\n",
    "    \n",
    "    # Calculate the equivalent Gaussian pdf\n",
    "    Gauss_curve = np.exp(-px**2/2/Gauss_sigma**2)/np.sqrt(2*np.pi*Gauss_sigma**2)\n",
    "    \n",
    "    if np.isclose(normalized_factor,1,rtol=5e-1):\n",
    "        ax.plot(px, Lap_curve, ls='-', lw=2, label=\"sum of Laplacian\", c='cyan')\n",
    "    ax.plot(px, Gauss_curve, ls='--', lw=2, label='Gaussian', c='slategrey')\n",
    "    \n",
    "    # confidence interval\n",
    "    ax.axvline(x=3*Gauss_sigma, c='k', lw=1, ls=':')\n",
    "    ax.axvline(x=-3*Gauss_sigma, c='k', lw=1, ls=':')\n",
    "    ax.axvline(x=5*Gauss_sigma, c='navy', lw=1, ls=':')\n",
    "    ax.axvline(x=-5*Gauss_sigma, c='navy', lw=1, ls=':')\n",
    "    if ax_idx == 0:\n",
    "        ax.text(2.2*Gauss_sigma, 9*1e-12, r'$3 \\sigma$', ha=\"center\", va=\"center\", rotation=0,\n",
    "            fontsize=14,\n",
    "            bbox=dict(boxstyle=\"rarrow\", fc=\"green\", alpha=0.5))\n",
    "        ax.text(4.2*Gauss_sigma, 1e-10, r'$5 \\sigma$', ha=\"center\", va=\"center\", rotation=0,\n",
    "            fontsize=14,\n",
    "            bbox=dict(boxstyle=\"rarrow\", fc=\"green\", alpha=0.5))\n",
    "        ax.text(-2.2*Gauss_sigma, 9*1e-12, r'$3 \\sigma$', ha=\"center\", va=\"center\", rotation=0,\n",
    "            fontsize=14,\n",
    "            bbox=dict(boxstyle=\"larrow\", fc=\"green\", alpha=0.5))\n",
    "        ax.text(-4.2*Gauss_sigma, 1e-10, r'$5 \\sigma$', ha=\"center\", va=\"center\", rotation=0,\n",
    "            fontsize=14,\n",
    "            bbox=dict(boxstyle=\"larrow\", fc=\"green\", alpha=0.5))\n",
    "    \n",
    "    ax.tick_params(which='both', labelsize=16, length=3, width=0.5)\n",
    "    ax.xaxis.set_minor_locator(ticker.MultipleLocator(1e9))\n",
    "    xticks = ax.get_xticks()\n",
    "    ax.set_xticklabels(xticks/1e10)\n",
    "    ax.set_xlabel(\"$P(k_\\parallel)$ $[\\\\times 10^{10}\\,%s]$\" % psunits, fontsize=16)\n",
    "    if col_idx == 0: \n",
    "        ax.set_ylabel(\"pdf\", fontsize=16)\n",
    "    if ax_idx == 0:\n",
    "        ax.legend(loc='lower right', fontsize=14)\n",
    "    ax.set_title(\"Average over \\n{} timestamp(s)\".format(num_time_samples),bbox=dict(fc='wheat', alpha=0.5), fontsize=16, pad=15)\n",
    "fig.subplots_adjust(top=0.8)\n",
    "fig.suptitle(suptitle, fontsize=20, bbox=dict(fc='gold', alpha=0.5), x=0.5, y=0.99)\n",
    "print(len(uvp_plot.get_all_keys())*len(delay_args))"
   ]
  },
  {
   "cell_type": "code",
   "execution_count": null,
   "id": "a81351ae",
   "metadata": {
    "papermill": {
     "duration": 0.096911,
     "end_time": "2022-03-10T21:46:19.119498",
     "exception": false,
     "start_time": "2022-03-10T21:46:19.022587",
     "status": "completed"
    },
    "tags": []
   },
   "outputs": [],
   "source": []
  }
 ],
 "metadata": {
  "kernelspec": {
   "display_name": "Python 3 (ipykernel)",
   "language": "python",
   "name": "python3"
  },
  "language_info": {
   "codemirror_mode": {
    "name": "ipython",
    "version": 3
   },
   "file_extension": ".py",
   "mimetype": "text/x-python",
   "name": "python",
   "nbconvert_exporter": "python",
   "pygments_lexer": "ipython3",
   "version": "3.9.6"
  },
  "papermill": {
   "default_parameters": {},
   "duration": 18016.274222,
   "end_time": "2022-03-10T21:46:23.205743",
   "environment_variables": {},
   "exception": null,
   "input_path": "PaperPlots-IDR2_2.ipynb",
   "output_path": "PaperPlots-IDR2_2_437635.ipynb",
   "parameters": {},
   "start_time": "2022-03-10T16:46:06.931521",
   "version": "2.3.4"
  }
 },
 "nbformat": 4,
 "nbformat_minor": 5
}