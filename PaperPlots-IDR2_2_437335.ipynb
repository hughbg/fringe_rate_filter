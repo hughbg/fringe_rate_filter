{
 "cells": [
  {
   "cell_type": "code",
   "execution_count": 1,
   "id": "37f31eeb",
   "metadata": {
    "execution": {
     "iopub.execute_input": "2022-03-10T14:53:15.153864Z",
     "iopub.status.busy": "2022-03-10T14:53:15.152687Z",
     "iopub.status.idle": "2022-03-10T14:53:15.161703Z",
     "shell.execute_reply": "2022-03-10T14:53:15.162455Z"
    },
    "papermill": {
     "duration": 0.12434,
     "end_time": "2022-03-10T14:53:15.162728",
     "exception": false,
     "start_time": "2022-03-10T14:53:15.038388",
     "status": "completed"
    },
    "tags": []
   },
   "outputs": [
    {
     "data": {
      "text/html": [
       "\n",
       "<style>\n",
       "    div#notebook-container    { width: 95%; }\n",
       "    div#menubar-container     { width: 65%; }\n",
       "    div#maintoolbar-container { width: 99%; }\n",
       "</style>ilter\n"
      ],
      "text/plain": [
       "<IPython.core.display.HTML object>"
      ]
     },
     "metadata": {},
     "output_type": "display_data"
    },
    {
     "data": {
      "text/html": [
       "<style>div.output_scroll { height: 200em; }</style>"
      ],
      "text/plain": [
       "<IPython.core.display.HTML object>"
      ]
     },
     "metadata": {},
     "output_type": "display_data"
    }
   ],
   "source": [
    "from IPython.display import display, HTML\n",
    "\n",
    "display(HTML(data=\"\"\"\n",
    "<style>\n",
    "    div#notebook-container    { width: 95%; }\n",
    "    div#menubar-container     { width: 65%; }\n",
    "    div#maintoolbar-container { width: 99%; }\n",
    "</style>ilter\n",
    "\"\"\"))\n",
    "display(HTML(\"<style>div.output_scroll { height: 200em; }</style>\"))\n"
   ]
  },
  {
   "cell_type": "code",
   "execution_count": 2,
   "id": "a6025fcf",
   "metadata": {
    "execution": {
     "iopub.execute_input": "2022-03-10T14:53:15.279164Z",
     "iopub.status.busy": "2022-03-10T14:53:15.278616Z",
     "iopub.status.idle": "2022-03-10T14:53:15.280745Z",
     "shell.execute_reply": "2022-03-10T14:53:15.279597Z"
    },
    "papermill": {
     "duration": 0.059053,
     "end_time": "2022-03-10T14:53:15.280864",
     "exception": false,
     "start_time": "2022-03-10T14:53:15.221811",
     "status": "completed"
    },
    "tags": []
   },
   "outputs": [
    {
     "data": {
      "text/plain": [
       "'/lustre/aoc/projects/hera/hgarsden'"
      ]
     },
     "execution_count": 2,
     "metadata": {},
     "output_type": "execute_result"
    }
   ],
   "source": [
    "pwd"
   ]
  },
  {
   "cell_type": "code",
   "execution_count": 3,
   "id": "ae023dc9",
   "metadata": {
    "execution": {
     "iopub.execute_input": "2022-03-10T14:53:15.391692Z",
     "iopub.status.busy": "2022-03-10T14:53:15.391196Z",
     "iopub.status.idle": "2022-03-10T14:53:15.519496Z",
     "shell.execute_reply": "2022-03-10T14:53:15.518216Z"
    },
    "papermill": {
     "duration": 0.187086,
     "end_time": "2022-03-10T14:53:15.519708",
     "exception": false,
     "start_time": "2022-03-10T14:53:15.332622",
     "status": "completed"
    },
    "tags": []
   },
   "outputs": [
    {
     "name": "stdout",
     "output_type": "stream",
     "text": [
      "PaperPlots-IDR2_2_437335.ipynb\r\n",
      "PaperPlots-IDR2_2.ipynb\r\n",
      "PaperPlots-IDR2_2_orig.ipynb\r\n",
      "PaperPlots-IDR2_2_out.ipynb\r\n",
      "PaperPlots-IDR2_2_sim_to_match_orig.ipynb\r\n",
      "PaperPlots-null_test_for_histed_noise_dominated_bandpowers.ipynb\r\n",
      "PaperPlots-null_test_for_histed_noise_dominated_bandpowers_orig.ipynb\r\n",
      "PaperPlots-null_test_for_histed_noise_dominated_bandpowers_out.ipynb\r\n",
      "Untitled.ipynb\r\n"
     ]
    }
   ],
   "source": [
    "ls *ipynb"
   ]
  },
  {
   "cell_type": "code",
   "execution_count": 4,
   "id": "8b83aa1c",
   "metadata": {
    "execution": {
     "iopub.execute_input": "2022-03-10T14:53:15.661101Z",
     "iopub.status.busy": "2022-03-10T14:53:15.660540Z",
     "iopub.status.idle": "2022-03-10T14:53:15.661939Z",
     "shell.execute_reply": "2022-03-10T14:53:15.661530Z"
    },
    "papermill": {
     "duration": 0.059764,
     "end_time": "2022-03-10T14:53:15.662050",
     "exception": false,
     "start_time": "2022-03-10T14:53:15.602286",
     "status": "completed"
    },
    "tags": []
   },
   "outputs": [],
   "source": [
    "import sys\n",
    "sys.path.append(\"/users/hgarsden/.local/lib/python3.9/site-packages\")"
   ]
  },
  {
   "cell_type": "code",
   "execution_count": 5,
   "id": "6a9e1376",
   "metadata": {
    "execution": {
     "iopub.execute_input": "2022-03-10T14:53:15.771573Z",
     "iopub.status.busy": "2022-03-10T14:53:15.770608Z",
     "iopub.status.idle": "2022-03-10T14:53:21.810177Z",
     "shell.execute_reply": "2022-03-10T14:53:21.810842Z"
    },
    "papermill": {
     "duration": 6.09751,
     "end_time": "2022-03-10T14:53:21.810976",
     "exception": false,
     "start_time": "2022-03-10T14:53:15.713466",
     "status": "completed"
    },
    "scrolled": true,
    "tags": []
   },
   "outputs": [],
   "source": [
    "%matplotlib inline\n",
    "#%load_ext line_profiler\n",
    "import numpy as np\n",
    "import matplotlib\n",
    "import matplotlib.pyplot as plt\n",
    "import glob\n",
    "import hera_cal as hc\n",
    "import hera_pspec as hp\n",
    "from hera_pspec.data import DATA_PATH\n",
    "from pyuvdata import UVData, UVCal, UVFlag, utils as uvutils\n",
    "from scipy import stats, signal, interpolate\n",
    "import copy\n",
    "import matplotlib.gridspec as gridspec\n",
    "from astropy import constants\n",
    "import uvtools as uvt\n",
    "import cycler\n",
    "import itertools\n",
    "import os\n",
    "from collections import OrderedDict as odict"
   ]
  },
  {
   "cell_type": "code",
   "execution_count": 6,
   "id": "09ebe136",
   "metadata": {
    "execution": {
     "iopub.execute_input": "2022-03-10T14:53:21.922081Z",
     "iopub.status.busy": "2022-03-10T14:53:21.921389Z",
     "iopub.status.idle": "2022-03-10T14:53:21.935596Z",
     "shell.execute_reply": "2022-03-10T14:53:21.935989Z"
    },
    "papermill": {
     "duration": 0.069613,
     "end_time": "2022-03-10T14:53:21.936112",
     "exception": false,
     "start_time": "2022-03-10T14:53:21.866499",
     "status": "completed"
    },
    "tags": []
   },
   "outputs": [],
   "source": [
    "from mpl_toolkits.axes_grid1.inset_locator import inset_axes"
   ]
  },
  {
   "cell_type": "code",
   "execution_count": 7,
   "id": "085b27e0",
   "metadata": {
    "execution": {
     "iopub.execute_input": "2022-03-10T14:53:22.042944Z",
     "iopub.status.busy": "2022-03-10T14:53:22.042433Z",
     "iopub.status.idle": "2022-03-10T14:53:22.043755Z",
     "shell.execute_reply": "2022-03-10T14:53:22.043363Z"
    },
    "papermill": {
     "duration": 0.054954,
     "end_time": "2022-03-10T14:53:22.043846",
     "exception": false,
     "start_time": "2022-03-10T14:53:21.988892",
     "status": "completed"
    },
    "tags": []
   },
   "outputs": [],
   "source": [
    "import matplotlib.ticker as ticker"
   ]
  },
  {
   "cell_type": "code",
   "execution_count": 8,
   "id": "48b3834e",
   "metadata": {
    "execution": {
     "iopub.execute_input": "2022-03-10T14:53:22.147405Z",
     "iopub.status.busy": "2022-03-10T14:53:22.146892Z",
     "iopub.status.idle": "2022-03-10T14:53:22.148246Z",
     "shell.execute_reply": "2022-03-10T14:53:22.147850Z"
    },
    "papermill": {
     "duration": 0.055104,
     "end_time": "2022-03-10T14:53:22.148336",
     "exception": false,
     "start_time": "2022-03-10T14:53:22.093232",
     "status": "completed"
    },
    "tags": []
   },
   "outputs": [],
   "source": [
    "def fmt(x, pos):\n",
    "    a, b = '{:.2e}'.format(x).split('e')\n",
    "    b = int(b)\n",
    "    return r'${} \\times 10^{{{}}}$'.format(a, b)"
   ]
  },
  {
   "cell_type": "code",
   "execution_count": 9,
   "id": "8cca6e61",
   "metadata": {
    "execution": {
     "iopub.execute_input": "2022-03-10T14:53:22.252686Z",
     "iopub.status.busy": "2022-03-10T14:53:22.251327Z",
     "iopub.status.idle": "2022-03-10T14:53:22.253481Z",
     "shell.execute_reply": "2022-03-10T14:53:22.253102Z"
    },
    "papermill": {
     "duration": 0.054504,
     "end_time": "2022-03-10T14:53:22.253570",
     "exception": false,
     "start_time": "2022-03-10T14:53:22.199066",
     "status": "completed"
    },
    "tags": []
   },
   "outputs": [],
   "source": [
    "import matplotlib.font_manager\n",
    "\n",
    "sim_file = \"fringe_rate_filter/sim_1000_256.uvh5\""
   ]
  },
  {
   "cell_type": "markdown",
   "id": "92e8e542",
   "metadata": {
    "papermill": {
     "duration": 0.05043,
     "end_time": "2022-03-10T14:53:22.353624",
     "exception": false,
     "start_time": "2022-03-10T14:53:22.303194",
     "status": "completed"
    },
    "tags": []
   },
   "source": [
    "### noise error bar"
   ]
  },
  {
   "cell_type": "code",
   "execution_count": 10,
   "id": "0c72c48f",
   "metadata": {
    "execution": {
     "iopub.execute_input": "2022-03-10T14:53:22.457703Z",
     "iopub.status.busy": "2022-03-10T14:53:22.457251Z",
     "iopub.status.idle": "2022-03-10T14:53:22.461651Z",
     "shell.execute_reply": "2022-03-10T14:53:22.461289Z"
    },
    "papermill": {
     "duration": 0.05805,
     "end_time": "2022-03-10T14:53:22.461756",
     "exception": false,
     "start_time": "2022-03-10T14:53:22.403706",
     "status": "completed"
    },
    "tags": []
   },
   "outputs": [],
   "source": [
    "# LST binned, Inpainted & xtalk subtracted files\n",
    "root = \"/lustre/aoc/projects/hera/H1C_IDR2/IDR2_2_pspec/v2/one_group/data/\"\n",
    "dfiles = sorted(glob.glob(root + \"zen.grp1.of1.LST.1*.HH.OCRSLP2X.uvh5\"))\n",
    "dfiles[5] = sim_file"
   ]
  },
  {
   "cell_type": "code",
   "execution_count": 11,
   "id": "3d211726",
   "metadata": {
    "execution": {
     "iopub.execute_input": "2022-03-10T14:53:22.566717Z",
     "iopub.status.busy": "2022-03-10T14:53:22.566063Z",
     "iopub.status.idle": "2022-03-10T14:53:24.603452Z",
     "shell.execute_reply": "2022-03-10T14:53:24.604046Z"
    },
    "papermill": {
     "duration": 2.092414,
     "end_time": "2022-03-10T14:53:24.604182",
     "exception": false,
     "start_time": "2022-03-10T14:53:22.511768",
     "status": "completed"
    },
    "tags": []
   },
   "outputs": [
    {
     "name": "stdout",
     "output_type": "stream",
     "text": [
      "fringe_rate_filter/sim_1000_256.uvh5\n"
     ]
    },
    {
     "name": "stderr",
     "output_type": "stream",
     "text": [
      "Telescope hera_sim is not in known_telescopes.\n"
     ]
    }
   ],
   "source": [
    "uvd_ = UVData()\n",
    "print(dfiles[5])\n",
    "uvd_.read(dfiles[5], read_data=False)"
   ]
  },
  {
   "cell_type": "code",
   "execution_count": 12,
   "id": "83b236bd",
   "metadata": {
    "execution": {
     "iopub.execute_input": "2022-03-10T14:53:24.710396Z",
     "iopub.status.busy": "2022-03-10T14:53:24.709884Z",
     "iopub.status.idle": "2022-03-10T14:53:24.711238Z",
     "shell.execute_reply": "2022-03-10T14:53:24.710842Z"
    },
    "papermill": {
     "duration": 0.055615,
     "end_time": "2022-03-10T14:53:24.711332",
     "exception": false,
     "start_time": "2022-03-10T14:53:24.655717",
     "status": "completed"
    },
    "tags": []
   },
   "outputs": [],
   "source": [
    "xants = [0,2,11,24,50,53,54,67,69,98,122,136,139]"
   ]
  },
  {
   "cell_type": "code",
   "execution_count": 13,
   "id": "79dd031e",
   "metadata": {
    "execution": {
     "iopub.execute_input": "2022-03-10T14:53:24.835960Z",
     "iopub.status.busy": "2022-03-10T14:53:24.835506Z",
     "iopub.status.idle": "2022-03-10T14:53:24.875485Z",
     "shell.execute_reply": "2022-03-10T14:53:24.876070Z"
    },
    "papermill": {
     "duration": 0.114695,
     "end_time": "2022-03-10T14:53:24.876207",
     "exception": false,
     "start_time": "2022-03-10T14:53:24.761512",
     "status": "completed"
    },
    "tags": []
   },
   "outputs": [],
   "source": [
    "# short baseline group\n",
    "bl_len_range = (14, 15)\n",
    "bl_deg_range = (0, 1)\n",
    "reds, lens, angs = hp.utils.get_reds(uvd_, bl_len_range=bl_len_range, bl_deg_range=bl_deg_range, xants=xants)\n",
    "bls = hp.utils.flatten(reds)"
   ]
  },
  {
   "cell_type": "code",
   "execution_count": 14,
   "id": "19bcb4b6",
   "metadata": {
    "execution": {
     "iopub.execute_input": "2022-03-10T14:53:24.991485Z",
     "iopub.status.busy": "2022-03-10T14:53:24.990984Z",
     "iopub.status.idle": "2022-03-10T14:53:24.992295Z",
     "shell.execute_reply": "2022-03-10T14:53:24.991912Z"
    },
    "papermill": {
     "duration": 0.060303,
     "end_time": "2022-03-10T14:53:24.992390",
     "exception": false,
     "start_time": "2022-03-10T14:53:24.932087",
     "status": "completed"
    },
    "tags": []
   },
   "outputs": [],
   "source": [
    "#uvd_.get"
   ]
  },
  {
   "cell_type": "code",
   "execution_count": null,
   "id": "a01bcc06",
   "metadata": {
    "papermill": {
     "duration": null,
     "end_time": null,
     "exception": false,
     "start_time": "2022-03-10T14:53:25.044969",
     "status": "running"
    },
    "tags": []
   },
   "outputs": [],
   "source": [
    "print(dfiles[5])\n",
    "uvd_.read(dfiles[5], antenna_nums=np.array(bls).flatten(), polarizations=['xx','yy'])"
   ]
  },
  {
   "cell_type": "code",
   "execution_count": null,
   "id": "29107aed",
   "metadata": {
    "papermill": {
     "duration": null,
     "end_time": null,
     "exception": null,
     "start_time": null,
     "status": "pending"
    },
    "tags": []
   },
   "outputs": [],
   "source": [
    "beam = hp.PSpecBeamUV(\"/lustre/aoc/projects/hera/nkern/beams/NF_HERA_IQ_power_beam_healpix128.fits\")"
   ]
  },
  {
   "cell_type": "code",
   "execution_count": null,
   "id": "22a08fad",
   "metadata": {
    "papermill": {
     "duration": null,
     "end_time": null,
     "exception": null,
     "start_time": null,
     "status": "pending"
    },
    "tags": []
   },
   "outputs": [],
   "source": [
    "uvd = hp.pstokes.construct_pstokes(uvd_, uvd_, pstokes='pI')"
   ]
  },
  {
   "cell_type": "code",
   "execution_count": null,
   "id": "8d0841e7",
   "metadata": {
    "papermill": {
     "duration": null,
     "end_time": null,
     "exception": null,
     "start_time": null,
     "status": "pending"
    },
    "tags": []
   },
   "outputs": [],
   "source": [
    "# pspec at cross time, short baseline group\n",
    "print(\"bl range for pI_shortbl\", bl_len_range)\n",
    "\n",
    "hp.pspecdata.pspec_run([copy.deepcopy(uvd)], 'pspec_nulltest.h5', groupname='pI_shortbl', spw_ranges=[(515,695)],\n",
    "                       dset_pairs=[(0,0)], pol_pairs=['pI'], input_data_weight='identity', norm='I',\n",
    "                       rephase_to_dset=True, interleave_times=True, Jy2mK=True, overwrite=True, verbose=False,\n",
    "                       bl_len_range=bl_len_range, bl_deg_range=bl_deg_range, beam=beam, taper='bh',\n",
    "                       broadcast_dset_flags=True, time_thresh=0.99, store_cov_diag=True, cov_model='autos', \n",
    "                       exclude_auto_bls=True, exclude_cross_bls=False, exclude_permutations=True)\n",
    "\n",
    "print()"
   ]
  },
  {
   "cell_type": "code",
   "execution_count": null,
   "id": "c30b5bee",
   "metadata": {
    "papermill": {
     "duration": null,
     "end_time": null,
     "exception": null,
     "start_time": null,
     "status": "pending"
    },
    "tags": []
   },
   "outputs": [],
   "source": [
    "# intermediate baseline group\n",
    "bl_len_range = (40, 45)\n",
    "bl_deg_range = (0, 1)\n",
    "reds, lens, angs = hp.utils.get_reds(uvd_, bl_len_range=bl_len_range, bl_deg_range=bl_deg_range, xants=xants)\n",
    "bls = hp.utils.flatten(reds)"
   ]
  },
  {
   "cell_type": "code",
   "execution_count": null,
   "id": "037c49d4",
   "metadata": {
    "papermill": {
     "duration": null,
     "end_time": null,
     "exception": null,
     "start_time": null,
     "status": "pending"
    },
    "tags": []
   },
   "outputs": [],
   "source": [
    "# pspec at cross time, med baseline group\n",
    "print(\"bls range for pI_medbl\", bl_len_range)\n",
    "\n",
    "hp.pspecdata.pspec_run([copy.deepcopy(uvd)], 'pspec_nulltest.h5', groupname='pI_medbl', spw_ranges=[(515,695)],\n",
    "                       dset_pairs=[(0,0)], pol_pairs=['pI'], input_data_weight='identity', norm='I',\n",
    "                       rephase_to_dset=True, interleave_times=True, Jy2mK=True, overwrite=True, verbose=False,\n",
    "                       bl_len_range=bl_len_range, bl_deg_range=bl_deg_range, beam=beam, taper='bh',\n",
    "                       broadcast_dset_flags=True, time_thresh=0.99, store_cov_diag=True, cov_model='autos', \n",
    "                       exclude_auto_bls=True, exclude_cross_bls=False, exclude_permutations=True)\n",
    "                       \n",
    "print()"
   ]
  },
  {
   "cell_type": "markdown",
   "id": "c34c5b3d",
   "metadata": {
    "papermill": {
     "duration": null,
     "end_time": null,
     "exception": null,
     "start_time": null,
     "status": "pending"
    },
    "tags": []
   },
   "source": [
    "### foreground_dependent error bar"
   ]
  },
  {
   "cell_type": "code",
   "execution_count": null,
   "id": "d33bf9f0",
   "metadata": {
    "papermill": {
     "duration": null,
     "end_time": null,
     "exception": null,
     "start_time": null,
     "status": "pending"
    },
    "tags": []
   },
   "outputs": [],
   "source": [
    "# LST binned, Inpainted & xtalk subtracted files\n",
    "root = \"/lustre/aoc/projects/hera/H1C_IDR2/IDR2_2_pspec/v2/one_group/data/\"\n",
    "dfiles = sorted(glob.glob(root + \"zen.grp1.of1.LST.1*.HH.OCRSLP2X.uvh5\"))\n",
    "dfiles[5] = sim_file"
   ]
  },
  {
   "cell_type": "code",
   "execution_count": null,
   "id": "4a9762b4",
   "metadata": {
    "papermill": {
     "duration": null,
     "end_time": null,
     "exception": null,
     "start_time": null,
     "status": "pending"
    },
    "tags": []
   },
   "outputs": [],
   "source": [
    "dfiles[5]"
   ]
  },
  {
   "cell_type": "code",
   "execution_count": null,
   "id": "2872a33d",
   "metadata": {
    "papermill": {
     "duration": null,
     "end_time": null,
     "exception": null,
     "start_time": null,
     "status": "pending"
    },
    "tags": []
   },
   "outputs": [],
   "source": [
    "uvd_ = UVData()\n",
    "print(dfiles[5])\n",
    "uvd_.read(dfiles[5], read_data=False)"
   ]
  },
  {
   "cell_type": "code",
   "execution_count": null,
   "id": "f343a2bc",
   "metadata": {
    "papermill": {
     "duration": null,
     "end_time": null,
     "exception": null,
     "start_time": null,
     "status": "pending"
    },
    "tags": []
   },
   "outputs": [],
   "source": [
    "xants = [0,2,11,24,50,53,54,67,69,98,122,136,139]"
   ]
  },
  {
   "cell_type": "code",
   "execution_count": null,
   "id": "bca5eca1",
   "metadata": {
    "papermill": {
     "duration": null,
     "end_time": null,
     "exception": null,
     "start_time": null,
     "status": "pending"
    },
    "tags": []
   },
   "outputs": [],
   "source": [
    "# short baseline group\n",
    "bl_len_range = (14, 15)\n",
    "bl_deg_range = (0, 1)\n",
    "reds, lens, angs = hp.utils.get_reds(uvd_, bl_len_range=bl_len_range, bl_deg_range=bl_deg_range, xants=xants)\n",
    "bls = hp.utils.flatten(reds)"
   ]
  },
  {
   "cell_type": "code",
   "execution_count": null,
   "id": "6ee5959b",
   "metadata": {
    "papermill": {
     "duration": null,
     "end_time": null,
     "exception": null,
     "start_time": null,
     "status": "pending"
    },
    "tags": []
   },
   "outputs": [],
   "source": [
    "refcal = '/lustre/aoc/projects/hera/H1C_IDR2/IDR2_2_pspec/v2/one_group/data/zen.grp1.of1.LST.1.50345.HH.OCRSLP2.allspws.refcal_smooth.calfits'"
   ]
  },
  {
   "cell_type": "code",
   "execution_count": null,
   "id": "aff661b5",
   "metadata": {
    "papermill": {
     "duration": null,
     "end_time": null,
     "exception": null,
     "start_time": null,
     "status": "pending"
    },
    "tags": []
   },
   "outputs": [],
   "source": [
    "# intermediate baseline group\n",
    "#bl_len_range = (40, 45)\n",
    "#bl_deg_range = (0, 1)\n",
    "#reds, lens, angs = hp.utils.get_reds(uvd_, bl_len_range=bl_len_range, bl_deg_range=bl_deg_range, xants=xants)\n",
    "#bls = hp.utils.flatten(reds)"
   ]
  },
  {
   "cell_type": "code",
   "execution_count": null,
   "id": "b2aa7ed8",
   "metadata": {
    "papermill": {
     "duration": null,
     "end_time": null,
     "exception": null,
     "start_time": null,
     "status": "pending"
    },
    "tags": []
   },
   "outputs": [],
   "source": [
    "print(dfiles[5])\n",
    "uvd_.read(dfiles[5], antenna_nums=np.array(bls).flatten(), polarizations=['xx','yy'])"
   ]
  },
  {
   "cell_type": "markdown",
   "id": "cd850431",
   "metadata": {
    "papermill": {
     "duration": null,
     "end_time": null,
     "exception": null,
     "start_time": null,
     "status": "pending"
    },
    "tags": []
   },
   "source": [
    "### some parameters"
   ]
  },
  {
   "cell_type": "code",
   "execution_count": null,
   "id": "bb839731",
   "metadata": {
    "papermill": {
     "duration": null,
     "end_time": null,
     "exception": null,
     "start_time": null,
     "status": "pending"
    },
    "tags": []
   },
   "outputs": [],
   "source": [
    "print(np.mean(np.diff(np.unique(uvd_.time_array)))*24*3600)"
   ]
  },
  {
   "cell_type": "code",
   "execution_count": null,
   "id": "49019605",
   "metadata": {
    "papermill": {
     "duration": null,
     "end_time": null,
     "exception": null,
     "start_time": null,
     "status": "pending"
    },
    "tags": []
   },
   "outputs": [],
   "source": [
    "print(np.mean(np.diff(np.unique(uvd_.lst_array)))*24*3600/2/np.pi)"
   ]
  },
  {
   "cell_type": "code",
   "execution_count": null,
   "id": "6b264dda",
   "metadata": {
    "papermill": {
     "duration": null,
     "end_time": null,
     "exception": null,
     "start_time": null,
     "status": "pending"
    },
    "tags": []
   },
   "outputs": [],
   "source": [
    "np.unique(uvd_.lst_array)[0]/2/np.pi*24, np.unique(uvd_.lst_array)[-1]/2/np.pi*24"
   ]
  },
  {
   "cell_type": "code",
   "execution_count": null,
   "id": "7cbbc9ba",
   "metadata": {
    "papermill": {
     "duration": null,
     "end_time": null,
     "exception": null,
     "start_time": null,
     "status": "pending"
    },
    "tags": []
   },
   "outputs": [],
   "source": [
    "uvd_.Ntimes"
   ]
  },
  {
   "cell_type": "code",
   "execution_count": null,
   "id": "c3e7255e",
   "metadata": {
    "papermill": {
     "duration": null,
     "end_time": null,
     "exception": null,
     "start_time": null,
     "status": "pending"
    },
    "tags": []
   },
   "outputs": [],
   "source": [
    "uvd_.integration_time"
   ]
  },
  {
   "cell_type": "code",
   "execution_count": null,
   "id": "6e6e965b",
   "metadata": {
    "papermill": {
     "duration": null,
     "end_time": null,
     "exception": null,
     "start_time": null,
     "status": "pending"
    },
    "tags": []
   },
   "outputs": [],
   "source": [
    "np.mean(uvd_.integration_time), "
   ]
  },
  {
   "cell_type": "code",
   "execution_count": null,
   "id": "21e97b88",
   "metadata": {
    "papermill": {
     "duration": null,
     "end_time": null,
     "exception": null,
     "start_time": null,
     "status": "pending"
    },
    "tags": []
   },
   "outputs": [],
   "source": [
    "uvcal_ref = UVCal()\n",
    "uvcal_ref.read_calfits(refcal)"
   ]
  },
  {
   "cell_type": "code",
   "execution_count": null,
   "id": "47b5b5ea",
   "metadata": {
    "papermill": {
     "duration": null,
     "end_time": null,
     "exception": null,
     "start_time": null,
     "status": "pending"
    },
    "tags": []
   },
   "outputs": [],
   "source": [
    "uvd_PXC_ = uvd_ #uvutils.uvcalibrate(uvd_, uvcal_ref, inplace=False, prop_flags=True, flag_missing=False)"
   ]
  },
  {
   "cell_type": "code",
   "execution_count": null,
   "id": "34df90ec",
   "metadata": {
    "papermill": {
     "duration": null,
     "end_time": null,
     "exception": null,
     "start_time": null,
     "status": "pending"
    },
    "tags": []
   },
   "outputs": [],
   "source": [
    "uvd_PXC =hp.pstokes.construct_pstokes(uvd_PXC_, uvd_PXC_, pstokes='pI')"
   ]
  },
  {
   "cell_type": "code",
   "execution_count": null,
   "id": "7e27b13e",
   "metadata": {
    "papermill": {
     "duration": null,
     "end_time": null,
     "exception": null,
     "start_time": null,
     "status": "pending"
    },
    "tags": []
   },
   "outputs": [],
   "source": [
    "uvd = hp.pstokes.construct_pstokes(uvd_, uvd_, pstokes='pI')"
   ]
  },
  {
   "cell_type": "code",
   "execution_count": null,
   "id": "2744e5a0",
   "metadata": {
    "papermill": {
     "duration": null,
     "end_time": null,
     "exception": null,
     "start_time": null,
     "status": "pending"
    },
    "tags": []
   },
   "outputs": [],
   "source": [
    "beam = hp.PSpecBeamUV(\"/lustre/aoc/projects/hera/nkern/beams/NF_HERA_IQ_power_beam_healpix128.fits\")"
   ]
  },
  {
   "cell_type": "markdown",
   "id": "ca95d49d",
   "metadata": {
    "papermill": {
     "duration": null,
     "end_time": null,
     "exception": null,
     "start_time": null,
     "status": "pending"
    },
    "tags": []
   },
   "source": [
    "get the differenced visibility"
   ]
  },
  {
   "cell_type": "code",
   "execution_count": null,
   "id": "b3a36684",
   "metadata": {
    "papermill": {
     "duration": null,
     "end_time": null,
     "exception": null,
     "start_time": null,
     "status": "pending"
    },
    "tags": []
   },
   "outputs": [],
   "source": [
    "uvd1 = uvd.select(times=np.unique(uvd.time_array)[0:-1:2],inplace=False)\n",
    "uvd2 = uvd.select(times=np.unique(uvd.time_array)[1::2],inplace=False)\n",
    "uvd_td = copy.deepcopy(uvd1)\n",
    "uvd_td.data_array = (uvd2.data_array - uvd1.data_array)/np.sqrt(2)"
   ]
  },
  {
   "cell_type": "code",
   "execution_count": null,
   "id": "a74edf68",
   "metadata": {
    "papermill": {
     "duration": null,
     "end_time": null,
     "exception": null,
     "start_time": null,
     "status": "pending"
    },
    "tags": []
   },
   "outputs": [],
   "source": [
    "# pspec at cross time\n",
    "hp.pspecdata.pspec_run([copy.deepcopy(uvd_td)], 'pspec_crosstime.h5', groupname='pI_shortbl_timediff', spw_ranges=[(515,695)],\n",
    "                       dset_pairs=[(0,0)], pol_pairs=['pI'], input_data_weight='identity', norm='I',\n",
    "                       rephase_to_dset=False, interleave_times=False, Jy2mK=True, overwrite=True, verbose=False,\n",
    "                       bl_len_range=bl_len_range, bl_deg_range=bl_deg_range, beam=beam, taper='bh',\n",
    "                       broadcast_dset_flags=True, time_thresh=0.99, exclude_auto_bls=True, exclude_cross_bls=False, exclude_permutations=True)"
   ]
  },
  {
   "cell_type": "code",
   "execution_count": null,
   "id": "0e68cab7",
   "metadata": {
    "papermill": {
     "duration": null,
     "end_time": null,
     "exception": null,
     "start_time": null,
     "status": "pending"
    },
    "scrolled": true,
    "tags": []
   },
   "outputs": [],
   "source": [
    "# pspec at cross time\n",
    "hp.pspecdata.pspec_run([copy.deepcopy(uvd)], 'pspec_crosstime.h5', groupname='pI_shortbl', spw_ranges=[(515,695)],\n",
    "                       dset_pairs=[(0,0)], pol_pairs=['pI'], input_data_weight='identity', norm='I',\n",
    "                       rephase_to_dset=True, interleave_times=True, Jy2mK=True, overwrite=True, verbose=False,\n",
    "                       bl_len_range=bl_len_range, bl_deg_range=bl_deg_range, beam=beam, taper='bh',\n",
    "                       broadcast_dset_flags=True, time_thresh=0.99, store_cov_diag=True, cov_model='foreground_dependent', \n",
    "                       exclude_auto_bls=True, exclude_cross_bls=False, exclude_permutations=True)"
   ]
  },
  {
   "cell_type": "code",
   "execution_count": null,
   "id": "6984017d",
   "metadata": {
    "papermill": {
     "duration": null,
     "end_time": null,
     "exception": null,
     "start_time": null,
     "status": "pending"
    },
    "tags": []
   },
   "outputs": [],
   "source": [
    "psc = hp.PSpecContainer('pspec_crosstime.h5', mode='rw', keep_open=True)\n",
    "uvp_cov_fg = psc.get_pspec('pI_shortbl', 'dset0_x_dset1')"
   ]
  },
  {
   "cell_type": "code",
   "execution_count": null,
   "id": "9468be61",
   "metadata": {
    "papermill": {
     "duration": null,
     "end_time": null,
     "exception": null,
     "start_time": null,
     "status": "pending"
    },
    "tags": []
   },
   "outputs": [],
   "source": [
    "auto_Tsys = hp.utils.uvd_to_Tsys(uvd, beam)\n",
    "hp.utils.uvp_noise_error(uvp_cov_fg, auto_Tsys, err_type=['P_N','P_SN'])"
   ]
  },
  {
   "cell_type": "code",
   "execution_count": null,
   "id": "fe53ad90",
   "metadata": {
    "papermill": {
     "duration": null,
     "end_time": null,
     "exception": null,
     "start_time": null,
     "status": "pending"
    },
    "tags": []
   },
   "outputs": [],
   "source": [
    "psc.set_pspec('pI_shortbl', 'dset0_x_dset1', uvp_cov_fg, overwrite=True)"
   ]
  },
  {
   "cell_type": "markdown",
   "id": "faf770ab",
   "metadata": {
    "papermill": {
     "duration": null,
     "end_time": null,
     "exception": null,
     "start_time": null,
     "status": "pending"
    },
    "tags": []
   },
   "source": [
    "## load power spectra"
   ]
  },
  {
   "cell_type": "code",
   "execution_count": null,
   "id": "c4b08c0a",
   "metadata": {
    "papermill": {
     "duration": null,
     "end_time": null,
     "exception": null,
     "start_time": null,
     "status": "pending"
    },
    "tags": []
   },
   "outputs": [],
   "source": [
    "psc = hp.PSpecContainer('pspec_crosstime.h5', keep_open=False)\n",
    "uvp_cov_fg = psc.get_pspec('pI_shortbl', 'dset0_x_dset1')\n",
    "uvp_td = psc.get_pspec('pI_shortbl_timediff', 'dset0_x_dset0')"
   ]
  },
  {
   "cell_type": "code",
   "execution_count": null,
   "id": "ef726981",
   "metadata": {
    "papermill": {
     "duration": null,
     "end_time": null,
     "exception": null,
     "start_time": null,
     "status": "pending"
    },
    "tags": []
   },
   "outputs": [],
   "source": [
    "psc_ = hp.PSpecContainer('pspec_nulltest.h5', keep_open=False)\n",
    "uvp_cov_n = psc_.get_pspec('pI_shortbl', 'dset0_x_dset1')"
   ]
  },
  {
   "cell_type": "code",
   "execution_count": null,
   "id": "cc68a74e",
   "metadata": {
    "papermill": {
     "duration": null,
     "end_time": null,
     "exception": null,
     "start_time": null,
     "status": "pending"
    },
    "tags": []
   },
   "outputs": [],
   "source": [
    "delay_resolution = 1 / (uvp_cov_fg.freq_array[-1]-uvp_cov_fg.freq_array[0])*1e9"
   ]
  },
  {
   "cell_type": "markdown",
   "id": "0591d641",
   "metadata": {
    "papermill": {
     "duration": null,
     "end_time": null,
     "exception": null,
     "start_time": null,
     "status": "pending"
    },
    "tags": []
   },
   "source": [
    "#### other systematics"
   ]
  },
  {
   "cell_type": "markdown",
   "id": "3b1f6c03",
   "metadata": {
    "papermill": {
     "duration": null,
     "end_time": null,
     "exception": null,
     "start_time": null,
     "status": "pending"
    },
    "tags": []
   },
   "source": [
    "PXC"
   ]
  },
  {
   "cell_type": "code",
   "execution_count": null,
   "id": "e61e404a",
   "metadata": {
    "papermill": {
     "duration": null,
     "end_time": null,
     "exception": null,
     "start_time": null,
     "status": "pending"
    },
    "tags": []
   },
   "outputs": [],
   "source": [
    "# pspec at cross time\n",
    "hp.pspecdata.pspec_run([copy.deepcopy(uvd_PXC)], 'pspec_systematics.h5', groupname='pI_shortbl_fg_PXC', spw_ranges=[(515,695)],\n",
    "                       dset_pairs=[(0,0)], pol_pairs=['pI'], input_data_weight='identity', norm='I',\n",
    "                       rephase_to_dset=True, interleave_times=True, Jy2mK=True, overwrite=True, verbose=False,\n",
    "                       bl_len_range=bl_len_range, bl_deg_range=bl_deg_range, beam=beam, taper='bh',\n",
    "                       broadcast_dset_flags=True, time_thresh=0.99, store_cov_diag=True, cov_model='foreground_dependent', \n",
    "                       exclude_auto_bls=True, exclude_cross_bls=False, exclude_permutations=True)"
   ]
  },
  {
   "cell_type": "code",
   "execution_count": null,
   "id": "177c9acb",
   "metadata": {
    "papermill": {
     "duration": null,
     "end_time": null,
     "exception": null,
     "start_time": null,
     "status": "pending"
    },
    "tags": []
   },
   "outputs": [],
   "source": [
    "# pspec at cross time\n",
    "hp.pspecdata.pspec_run([copy.deepcopy(uvd_PXC)], 'pspec_systematics.h5', groupname='pI_shortbl_noise_PXC', spw_ranges=[(515,695)],\n",
    "                       dset_pairs=[(0,0)], pol_pairs=['pI'], input_data_weight='identity', norm='I',\n",
    "                       rephase_to_dset=True, interleave_times=True, Jy2mK=True, overwrite=True, verbose=False,\n",
    "                       bl_len_range=bl_len_range, bl_deg_range=bl_deg_range, beam=beam, taper='bh',\n",
    "                       broadcast_dset_flags=True, time_thresh=0.99, store_cov_diag=True, cov_model='autos', \n",
    "                       exclude_auto_bls=True, exclude_cross_bls=False, exclude_permutations=True)"
   ]
  },
  {
   "cell_type": "markdown",
   "id": "a29cbc6e",
   "metadata": {
    "papermill": {
     "duration": null,
     "end_time": null,
     "exception": null,
     "start_time": null,
     "status": "pending"
    },
    "tags": []
   },
   "source": [
    "P and PC"
   ]
  },
  {
   "cell_type": "code",
   "execution_count": null,
   "id": "f8d9aea8",
   "metadata": {
    "papermill": {
     "duration": null,
     "end_time": null,
     "exception": null,
     "start_time": null,
     "status": "pending"
    },
    "tags": []
   },
   "outputs": [],
   "source": [
    "# LST binned, Inpainted files\n",
    "root = \"/lustre/aoc/projects/hera/H1C_IDR2/IDR2_2_pspec/v2/one_group/data/\"\n",
    "dfiles = sorted(glob.glob(root + \"zen.grp1.of1.LST.1*.HH.OCRSLP2.uvh5\"))\n",
    "dfiles[5] = sim_file"
   ]
  },
  {
   "cell_type": "code",
   "execution_count": null,
   "id": "e57923fd",
   "metadata": {
    "papermill": {
     "duration": null,
     "end_time": null,
     "exception": null,
     "start_time": null,
     "status": "pending"
    },
    "tags": []
   },
   "outputs": [],
   "source": [
    "dfiles[5]"
   ]
  },
  {
   "cell_type": "code",
   "execution_count": null,
   "id": "dd72aa82",
   "metadata": {
    "papermill": {
     "duration": null,
     "end_time": null,
     "exception": null,
     "start_time": null,
     "status": "pending"
    },
    "tags": []
   },
   "outputs": [],
   "source": [
    "uvd_P_ = UVData()\n",
    "print(dfiles[5])\n",
    "uvd_P_ .read(dfiles[5], read_data=False)"
   ]
  },
  {
   "cell_type": "code",
   "execution_count": null,
   "id": "1d300555",
   "metadata": {
    "papermill": {
     "duration": null,
     "end_time": null,
     "exception": null,
     "start_time": null,
     "status": "pending"
    },
    "tags": []
   },
   "outputs": [],
   "source": [
    "xants = [0,2,11,24,50,53,54,67,69,98,122,136,139]"
   ]
  },
  {
   "cell_type": "code",
   "execution_count": null,
   "id": "215856a6",
   "metadata": {
    "papermill": {
     "duration": null,
     "end_time": null,
     "exception": null,
     "start_time": null,
     "status": "pending"
    },
    "tags": []
   },
   "outputs": [],
   "source": [
    "# short baseline group\n",
    "bl_len_range = (14, 15)\n",
    "bl_deg_range = (0, 1)\n",
    "reds, lens, angs = hp.utils.get_reds(uvd_P_, bl_len_range=bl_len_range, bl_deg_range=bl_deg_range, xants=xants)\n",
    "bls = hp.utils.flatten(reds)"
   ]
  },
  {
   "cell_type": "code",
   "execution_count": null,
   "id": "d043f663",
   "metadata": {
    "papermill": {
     "duration": null,
     "end_time": null,
     "exception": null,
     "start_time": null,
     "status": "pending"
    },
    "tags": []
   },
   "outputs": [],
   "source": [
    "refcal = '/lustre/aoc/projects/hera/H1C_IDR2/IDR2_2_pspec/v2/one_group/data/zen.grp1.of1.LST.1.50345.HH.OCRSLP2.allspws.refcal_smooth.calfits'"
   ]
  },
  {
   "cell_type": "code",
   "execution_count": null,
   "id": "b0cfe26c",
   "metadata": {
    "papermill": {
     "duration": null,
     "end_time": null,
     "exception": null,
     "start_time": null,
     "status": "pending"
    },
    "tags": []
   },
   "outputs": [],
   "source": [
    "print(dfiles[5])\n",
    "uvd_P_.read(dfiles[5], antenna_nums=np.array(bls).flatten(), polarizations=['xx','yy'])"
   ]
  },
  {
   "cell_type": "code",
   "execution_count": null,
   "id": "3d68c8b2",
   "metadata": {
    "papermill": {
     "duration": null,
     "end_time": null,
     "exception": null,
     "start_time": null,
     "status": "pending"
    },
    "tags": []
   },
   "outputs": [],
   "source": [
    "uvcal_ref = UVCal()\n",
    "uvcal_ref.read_calfits(refcal)"
   ]
  },
  {
   "cell_type": "code",
   "execution_count": null,
   "id": "f1054a79",
   "metadata": {
    "papermill": {
     "duration": null,
     "end_time": null,
     "exception": null,
     "start_time": null,
     "status": "pending"
    },
    "tags": []
   },
   "outputs": [],
   "source": [
    "uvd_PC_ = uvd_P_ #uvutils.uvcalibrate(uvd_P_, uvcal_ref, inplace=False, prop_flags=True, flag_missing=True)"
   ]
  },
  {
   "cell_type": "code",
   "execution_count": null,
   "id": "bba0ddc6",
   "metadata": {
    "papermill": {
     "duration": null,
     "end_time": null,
     "exception": null,
     "start_time": null,
     "status": "pending"
    },
    "tags": []
   },
   "outputs": [],
   "source": [
    "uvd_PC =hp.pstokes.construct_pstokes(uvd_PC_, uvd_PC_, pstokes='pI')"
   ]
  },
  {
   "cell_type": "code",
   "execution_count": null,
   "id": "67f95fde",
   "metadata": {
    "papermill": {
     "duration": null,
     "end_time": null,
     "exception": null,
     "start_time": null,
     "status": "pending"
    },
    "tags": []
   },
   "outputs": [],
   "source": [
    "uvd_P = hp.pstokes.construct_pstokes(uvd_P_, uvd_P_, pstokes='pI')"
   ]
  },
  {
   "cell_type": "code",
   "execution_count": null,
   "id": "3b461023",
   "metadata": {
    "papermill": {
     "duration": null,
     "end_time": null,
     "exception": null,
     "start_time": null,
     "status": "pending"
    },
    "tags": []
   },
   "outputs": [],
   "source": [
    "beam = hp.PSpecBeamUV(\"/lustre/aoc/projects/hera/nkern/beams/NF_HERA_IQ_power_beam_healpix128.fits\")"
   ]
  },
  {
   "cell_type": "code",
   "execution_count": null,
   "id": "7e23b229",
   "metadata": {
    "papermill": {
     "duration": null,
     "end_time": null,
     "exception": null,
     "start_time": null,
     "status": "pending"
    },
    "tags": []
   },
   "outputs": [],
   "source": [
    "# pspec at cross time\n",
    "hp.pspecdata.pspec_run([copy.deepcopy(uvd_P)], 'pspec_systematics.h5', groupname='pI_shortbl_fg_P', spw_ranges=[(515,695)],\n",
    "                       dset_pairs=[(0,0)], pol_pairs=['pI'], input_data_weight='identity', norm='I',\n",
    "                       rephase_to_dset=True, interleave_times=True, Jy2mK=True, overwrite=True, verbose=False,\n",
    "                       bl_len_range=bl_len_range, bl_deg_range=bl_deg_range, beam=beam, taper='bh',\n",
    "                       broadcast_dset_flags=True, time_thresh=0.99, store_cov_diag=True, cov_model='foreground_dependent', \n",
    "                       exclude_auto_bls=True, exclude_cross_bls=False, exclude_permutations=True)"
   ]
  },
  {
   "cell_type": "code",
   "execution_count": null,
   "id": "55a0d87a",
   "metadata": {
    "papermill": {
     "duration": null,
     "end_time": null,
     "exception": null,
     "start_time": null,
     "status": "pending"
    },
    "tags": []
   },
   "outputs": [],
   "source": [
    "# pspec at cross time\n",
    "hp.pspecdata.pspec_run([copy.deepcopy(uvd_P)], 'pspec_systematics.h5', groupname='pI_shortbl_noise_P', spw_ranges=[(515,695)],\n",
    "                       dset_pairs=[(0,0)], pol_pairs=['pI'], input_data_weight='identity', norm='I',\n",
    "                       rephase_to_dset=True, interleave_times=True, Jy2mK=True, overwrite=True, verbose=False,\n",
    "                       bl_len_range=bl_len_range, bl_deg_range=bl_deg_range, beam=beam, taper='bh',\n",
    "                       broadcast_dset_flags=True, time_thresh=0.99, store_cov_diag=True, cov_model='autos', \n",
    "                       exclude_auto_bls=True, exclude_cross_bls=False, exclude_permutations=True)"
   ]
  },
  {
   "cell_type": "code",
   "execution_count": null,
   "id": "722bdd49",
   "metadata": {
    "papermill": {
     "duration": null,
     "end_time": null,
     "exception": null,
     "start_time": null,
     "status": "pending"
    },
    "tags": []
   },
   "outputs": [],
   "source": [
    "# pspec at cross time\n",
    "hp.pspecdata.pspec_run([copy.deepcopy(uvd_PC)], 'pspec_systematics.h5', groupname='pI_shortbl_fg_PC', spw_ranges=[(515,695)],\n",
    "                       dset_pairs=[(0,0)], pol_pairs=['pI'], input_data_weight='identity', norm='I',\n",
    "                       rephase_to_dset=True, interleave_times=True, Jy2mK=True, overwrite=True, verbose=False,\n",
    "                       bl_len_range=bl_len_range, bl_deg_range=bl_deg_range, beam=beam, taper='bh',\n",
    "                       broadcast_dset_flags=True, time_thresh=0.99, store_cov_diag=True, cov_model='foreground_dependent', \n",
    "                       exclude_auto_bls=True, exclude_cross_bls=False, exclude_permutations=True)"
   ]
  },
  {
   "cell_type": "code",
   "execution_count": null,
   "id": "1cb44a7c",
   "metadata": {
    "papermill": {
     "duration": null,
     "end_time": null,
     "exception": null,
     "start_time": null,
     "status": "pending"
    },
    "tags": []
   },
   "outputs": [],
   "source": [
    "# pspec at cross time\n",
    "hp.pspecdata.pspec_run([copy.deepcopy(uvd_PC)], 'pspec_systematics.h5', groupname='pI_shortbl_noise_PC', spw_ranges=[(515,695)],\n",
    "                       dset_pairs=[(0,0)], pol_pairs=['pI'], input_data_weight='identity', norm='I',\n",
    "                       rephase_to_dset=True, interleave_times=True, Jy2mK=True, overwrite=True, verbose=False,\n",
    "                       bl_len_range=bl_len_range, bl_deg_range=bl_deg_range, beam=beam, taper='bh',\n",
    "                       broadcast_dset_flags=True, time_thresh=0.99, store_cov_diag=True, cov_model='autos', \n",
    "                       exclude_auto_bls=True, exclude_cross_bls=False, exclude_permutations=True)"
   ]
  },
  {
   "cell_type": "markdown",
   "id": "e95d2c31",
   "metadata": {
    "papermill": {
     "duration": null,
     "end_time": null,
     "exception": null,
     "start_time": null,
     "status": "pending"
    },
    "tags": []
   },
   "source": [
    "### some parameters"
   ]
  },
  {
   "cell_type": "code",
   "execution_count": null,
   "id": "82258726",
   "metadata": {
    "papermill": {
     "duration": null,
     "end_time": null,
     "exception": null,
     "start_time": null,
     "status": "pending"
    },
    "tags": []
   },
   "outputs": [],
   "source": [
    "uvp_cov_fg.Ntimes"
   ]
  },
  {
   "cell_type": "code",
   "execution_count": null,
   "id": "3782ff71",
   "metadata": {
    "papermill": {
     "duration": null,
     "end_time": null,
     "exception": null,
     "start_time": null,
     "status": "pending"
    },
    "tags": []
   },
   "outputs": [],
   "source": [
    "np.unique(uvp_cov_fg.time_avg_array)"
   ]
  },
  {
   "cell_type": "code",
   "execution_count": null,
   "id": "75e0f738",
   "metadata": {
    "papermill": {
     "duration": null,
     "end_time": null,
     "exception": null,
     "start_time": null,
     "status": "pending"
    },
    "tags": []
   },
   "outputs": [],
   "source": [
    "np.mean(np.diff(np.unique(uvp_cov_fg.time_avg_array)))*24*3600"
   ]
  },
  {
   "cell_type": "code",
   "execution_count": null,
   "id": "6fd2d9d7",
   "metadata": {
    "papermill": {
     "duration": null,
     "end_time": null,
     "exception": null,
     "start_time": null,
     "status": "pending"
    },
    "tags": []
   },
   "outputs": [],
   "source": [
    "np.mean(np.diff(np.unique(uvp_cov_fg.lst_avg_array)))/2/np.pi*24*3600"
   ]
  },
  {
   "cell_type": "code",
   "execution_count": null,
   "id": "14c39283",
   "metadata": {
    "papermill": {
     "duration": null,
     "end_time": null,
     "exception": null,
     "start_time": null,
     "status": "pending"
    },
    "tags": []
   },
   "outputs": [],
   "source": [
    "np.unique(uvp_cov_fg.lst_avg_array)/2/np.pi*24"
   ]
  },
  {
   "cell_type": "code",
   "execution_count": null,
   "id": "86d0ea9e",
   "metadata": {
    "papermill": {
     "duration": null,
     "end_time": null,
     "exception": null,
     "start_time": null,
     "status": "pending"
    },
    "tags": []
   },
   "outputs": [],
   "source": [
    "uvp_cov_fg.freq_array[-1]/1e6, uvp_cov_fg.freq_array[0]/1e6"
   ]
  },
  {
   "cell_type": "markdown",
   "id": "b3a265ad",
   "metadata": {
    "papermill": {
     "duration": null,
     "end_time": null,
     "exception": null,
     "start_time": null,
     "status": "pending"
    },
    "tags": []
   },
   "source": [
    "## make plots"
   ]
  },
  {
   "cell_type": "code",
   "execution_count": null,
   "id": "7e459fcf",
   "metadata": {
    "papermill": {
     "duration": null,
     "end_time": null,
     "exception": null,
     "start_time": null,
     "status": "pending"
    },
    "tags": []
   },
   "outputs": [],
   "source": [
    "key = uvp_cov_fg.get_all_keys()[0]\n",
    "dlys = uvp_cov_fg.get_dlys(key[0]) * 1e9\n",
    "kparas = uvp_cov_fg.get_kparas(key[0])\n",
    "tau2k = (kparas/dlys)[0]"
   ]
  },
  {
   "cell_type": "code",
   "execution_count": null,
   "id": "341ff4c1",
   "metadata": {
    "papermill": {
     "duration": null,
     "end_time": null,
     "exception": null,
     "start_time": null,
     "status": "pending"
    },
    "tags": []
   },
   "outputs": [],
   "source": [
    "len(uvp_cov_fg.get_all_keys())"
   ]
  },
  {
   "cell_type": "code",
   "execution_count": null,
   "id": "11faa602",
   "metadata": {
    "papermill": {
     "duration": null,
     "end_time": null,
     "exception": null,
     "start_time": null,
     "status": "pending"
    },
    "tags": []
   },
   "outputs": [],
   "source": [
    "print(key)"
   ]
  },
  {
   "cell_type": "code",
   "execution_count": null,
   "id": "b13d2e45",
   "metadata": {
    "papermill": {
     "duration": null,
     "end_time": null,
     "exception": null,
     "start_time": null,
     "status": "pending"
    },
    "tags": []
   },
   "outputs": [],
   "source": [
    "def tau2k_(x):\n",
    "    return x * tau2k\n",
    "def k2tau_(x):\n",
    "    return x / tau2k"
   ]
  },
  {
   "cell_type": "code",
   "execution_count": null,
   "id": "5061d0a9",
   "metadata": {
    "papermill": {
     "duration": null,
     "end_time": null,
     "exception": null,
     "start_time": null,
     "status": "pending"
    },
    "tags": []
   },
   "outputs": [],
   "source": [
    "from matplotlib.ticker import Locator\n",
    "class MinorSymLogLocator(Locator):\n",
    "    \"\"\"\n",
    "    Dynamically find minor tick positions based on the positions of\n",
    "    major ticks for a symlog scaling.\n",
    "    \"\"\"\n",
    "    def __init__(self, linthresh):\n",
    "        \"\"\"\n",
    "        Ticks will be placed between the major ticks.\n",
    "        The placement is linear for x between -linthresh and linthresh,\n",
    "        otherwise its logarithmically\n",
    "        \"\"\"\n",
    "        self.linthresh = linthresh\n",
    "\n",
    "    def __call__(self):\n",
    "        'Return the locations of the ticks'\n",
    "        majorlocs = self.axis.get_majorticklocs()\n",
    "\n",
    "        # iterate through minor locs\n",
    "        minorlocs = []\n",
    "\n",
    "        # handle the lowest part\n",
    "        for i in range(1, len(majorlocs)):\n",
    "            majorstep = majorlocs[i] - majorlocs[i-1]\n",
    "            if abs(majorlocs[i-1] + majorstep/2) < self.linthresh:\n",
    "                ndivs = 10\n",
    "            else:\n",
    "                ndivs = 9\n",
    "            minorstep = majorstep / ndivs\n",
    "            locs = np.arange(majorlocs[i-1], majorlocs[i], minorstep)[1:]\n",
    "            minorlocs.extend(locs)\n",
    "\n",
    "        return self.raise_if_exceeds(np.array(minorlocs))\n",
    "\n",
    "    def tick_values(self, vmin, vmax):\n",
    "        raise NotImplementedError('Cannot get tick locations for a '\n",
    "                                  '%s type.' % type(self))"
   ]
  },
  {
   "cell_type": "code",
   "execution_count": null,
   "id": "feae05f1",
   "metadata": {
    "papermill": {
     "duration": null,
     "end_time": null,
     "exception": null,
     "start_time": null,
     "status": "pending"
    },
    "tags": []
   },
   "outputs": [],
   "source": [
    "time_index = 0\n",
    "# Dicts of colors\n",
    "color_list = odict()\n",
    "# Dicts of labels\n",
    "label_list = odict()\n",
    "# Dicts of error bars\n",
    "error_list = odict()\n",
    "linestyle_list = odict()\n",
    "\n",
    "# The extra kinds of error bars\n",
    "error_list['PSN'] = uvp_cov_fg.get_stats('P_SN', key)[time_index].real\n",
    "label_list['PSN'] = r'$P_\\mathrm{SN}$'\n",
    "color_list['PSN'] = 'darkcyan' \n",
    "linestyle_list['PSN'] = \"-\"\n",
    "error_list['PN'] = uvp_cov_fg.get_stats('P_N', key)[time_index].real\n",
    "label_list['PN'] = r'$P_\\mathrm{N}$'\n",
    "color_list['PN'] = 'tomato' \n",
    "linestyle_list['PN'] = \"-\"\n",
    "# The power spectra of time difference data as error bars in noise dominant regions, \n",
    "error_list['fg'] = uvp_cov_fg.get_stats('foreground_dependent_diag', key)[time_index].real\n",
    "label_list['fg'] = r\"$\\sigma_\\mathrm{QE-SN}$\"\n",
    "color_list['fg'] = 'limegreen' \n",
    "linestyle_list['fg'] = \"-\"\n",
    "error_list['noise'] = uvp_cov_n.get_stats('autos_diag', key)[time_index].real\n",
    "label_list['noise'] = r\"$\\sigma_\\mathrm{QE-N}$\"\n",
    "color_list['noise'] = 'darkred' \n",
    "linestyle_list['noise'] = \"-\"\n",
    "error_list['Pdiff'] = np.abs(uvp_td.get_data(key)[time_index].real)\n",
    "color_list['Pdiff'] = 'orange' \n",
    "label_list['Pdiff'] = r'$P_\\mathrm{diff}$'\n",
    "linestyle_list['Pdiff'] = \"-.\"\n",
    "for error_type in error_list.keys():  \n",
    "    error_list[error_type] = np.array(error_list[error_type]).reshape(-1)\n",
    "\n",
    "# The power spectrum\n",
    "ps = (uvp_cov_fg.get_data(key)[time_index].real).reshape(-1)"
   ]
  },
  {
   "cell_type": "code",
   "execution_count": null,
   "id": "b136daa4",
   "metadata": {
    "papermill": {
     "duration": null,
     "end_time": null,
     "exception": null,
     "start_time": null,
     "status": "pending"
    },
    "tags": []
   },
   "outputs": [],
   "source": [
    "fig = plt.figure(figsize=(16,15), constrained_layout=True)\n",
    "gs = fig.add_gridspec(3, 2, wspace=0.02)\n",
    "psunits = uvp_cov_fg.units\n",
    "if \"h^-1\" in psunits: psunits = psunits.replace(\"h^-1\", \"h^{-1}\")\n",
    "if \"h^-3\" in psunits: psunits = psunits.replace(\"h^-3\", \"h^{-3}\")\n",
    "if \"Mpc\" in psunits and \"\\\\rm\" not in psunits: \n",
    "    psunits = psunits.replace(\"Mpc\", r\"{\\rm Mpc}\")\n",
    "if \"pi\" in psunits and \"\\\\pi\" not in psunits: \n",
    "    psunits = psunits.replace(\"pi\", r\"\\pi\")\n",
    "    \n",
    "# Plot different kinds of error bars\n",
    "ax = fig.add_subplot(gs[0,:])\n",
    "ax.plot(dlys[ps>=0.], ps[ps>=0.], \".\", label='power spectra'+ r'$(+)$', c='k', markersize=8, alpha = 0.6)\n",
    "ax.plot(dlys[ps<0.], np.abs(ps[ps<0.]), \".\", fillstyle='none', label='power spectra'+ r'$(-)$', c='k', markersize=8, alpha = 0.6)\n",
    "ax.set_xlim(-3000,3000)\n",
    "for error_type in error_list.keys():\n",
    "    ax.plot(dlys, error_list[error_type], ls=linestyle_list[error_type],label=label_list[error_type], c=color_list[error_type], lw=2)\n",
    "ax.set_ylabel(\"$P(k_\\parallel)$ $[%s]$\" % psunits, fontsize=16)\n",
    "#ax.set_xlabel(r\"$\\tau$ $[{\\rm ns}]$\", fontsize=20)\n",
    "ax.set_xticklabels([])\n",
    "ax.tick_params(axis='both', which='both', labelsize=16)\n",
    "ax.xaxis.set_minor_locator(ticker.MultipleLocator(500))\n",
    "ax.semilogy()\n",
    "ax.minorticks_on()\n",
    "ax.yaxis.set_minor_locator(ticker.LogLocator(base=10, subs=[0.2,0.4,0.6,0.8], numticks=20))\n",
    "ax.yaxis.set_minor_formatter(ticker.NullFormatter())\n",
    "ax.grid()\n",
    "ax.legend(loc='upper right', fontsize=14, ncol=3)\n",
    "ax.set_title('A single-time instance of power spectra from the HERA Phase I Data', bbox=dict(fc='wheat', alpha=0.5), fontsize=20, pad=15)\n",
    "ax.axvspan(-200, -20, facecolor='#2ca02c', alpha=0.2)\n",
    "ax.axvspan(20, 200, facecolor='#2ca02c', alpha=0.2)\n",
    "\n",
    "ax1 = ax.secondary_xaxis('top', functions=(tau2k_, k2tau_))\n",
    "ax1.tick_params(axis='both', which='both', labelsize=16, direction='out')\n",
    "ax1.xaxis.set_major_locator(ticker.MultipleLocator(1))\n",
    "ax1.xaxis.set_minor_locator(ticker.MultipleLocator(0.2))\n",
    "ax1.set_xlabel(r\"$k_\\parallel [h {\\rm Mpc}^{-1}]$\", fontsize=16)\n",
    "\n",
    "#handles, labels = ax.get_legend_handles_labels()\n",
    "#fig.legend(handles, labels, bbox_to_anchor=(0.53,1.15), loc='upper center', fontsize=14, ncol=3,)\n",
    "#fig.tight_layout()\n",
    "\n",
    "# Plot ratios of different kinds of error bars\n",
    "ax = fig.add_subplot(gs[1,:])\n",
    "for error_type in ['Pdiff','PN','fg']:\n",
    "    ax.plot(dlys, np.abs(error_list[error_type]/error_list['noise']-1), ls=linestyle_list[error_type],label=label_list[error_type], c=color_list[error_type], lw=2)\n",
    "ax.set_xticklabels([])\n",
    "ax.tick_params(axis='both', which='both', labelsize=16)\n",
    "ax.grid()\n",
    "ax.semilogy()\n",
    "ax.set_ylim(1e-3,1)\n",
    "ax.set_xlim(-3000,3000)\n",
    "ax.set_ylabel(\"abs\" + r\"$\\left(\\frac{\\sigma-\\sigma_{\\rm QE-N}}{\\sigma_{\\rm QE-N}}\\right)$\", fontsize=20)\n",
    "#ax.yaxis.set_minor_locator(MinorSymLogLocator(0.01))\n",
    "#ax.yaxis.set_minor_formatter(ticker.NullFormatter())\n",
    "ax.xaxis.set_minor_locator(ticker.MultipleLocator(500))\n",
    "ax.axvspan(-200, -20, facecolor='#2ca02c', alpha=0.2)\n",
    "ax.axvspan(20, 200, facecolor='#2ca02c', alpha=0.2)\n",
    "ax.axhline(y=0, c='k', lw=3)\n",
    "\n",
    "ax = fig.add_subplot(gs[2,:])\n",
    "for error_type in ['PSN']:\n",
    "    ax.plot(dlys, np.abs(error_list[error_type]/error_list['fg']-1), ls=linestyle_list[error_type], label=label_list[error_type], c=color_list[error_type], lw=2)\n",
    "ax.set_xlabel(r\"$\\tau$ $[{\\rm ns}]$\", fontsize=16)\n",
    "ax.tick_params(axis='both', which='both', labelsize=16)\n",
    "ax.grid()\n",
    "ax.set_xlim(-3000,3000)\n",
    "ax.semilogy()\n",
    "ax.set_ylim(1e-3,1)\n",
    "ax.xaxis.set_minor_locator(ticker.MultipleLocator(500))\n",
    "ax.set_ylabel(\"abs\" + r\"$\\left(\\frac{\\sigma-\\sigma_{\\rm QE-SN}}{\\sigma_{\\rm QE-SN}}\\right)$\", fontsize=20)\n",
    "ax.axvspan(-200, -20, facecolor='#2ca02c', alpha=0.2)\n",
    "ax.axvspan(20, 200, facecolor='#2ca02c', alpha=0.2)\n",
    "ax.axhline(y=0, c='k', lw=3)"
   ]
  },
  {
   "cell_type": "markdown",
   "id": "63ac36ae",
   "metadata": {
    "papermill": {
     "duration": null,
     "end_time": null,
     "exception": null,
     "start_time": null,
     "status": "pending"
    },
    "tags": []
   },
   "source": [
    "get the time average"
   ]
  },
  {
   "cell_type": "code",
   "execution_count": null,
   "id": "a0d08837",
   "metadata": {
    "papermill": {
     "duration": null,
     "end_time": null,
     "exception": null,
     "start_time": null,
     "status": "pending"
    },
    "tags": []
   },
   "outputs": [],
   "source": [
    "new_stats_array = odict()\n",
    "new_stats_array.update({'Pdiff_err': {0: np.abs(uvp_td.data_array[0].real)}})\n",
    "new_stats_array.update(uvp_cov_fg.stats_array)"
   ]
  },
  {
   "cell_type": "code",
   "execution_count": null,
   "id": "38797ef0",
   "metadata": {
    "papermill": {
     "duration": null,
     "end_time": null,
     "exception": null,
     "start_time": null,
     "status": "pending"
    },
    "tags": []
   },
   "outputs": [],
   "source": [
    "uvp_cov_fg.stats_array = new_stats_array"
   ]
  },
  {
   "cell_type": "code",
   "execution_count": null,
   "id": "ea8a1ac8",
   "metadata": {
    "papermill": {
     "duration": null,
     "end_time": null,
     "exception": null,
     "start_time": null,
     "status": "pending"
    },
    "tags": []
   },
   "outputs": [],
   "source": [
    "print(uvp_cov_fg.Ntimes)"
   ]
  },
  {
   "cell_type": "code",
   "execution_count": null,
   "id": "5a4915a1",
   "metadata": {
    "papermill": {
     "duration": null,
     "end_time": null,
     "exception": null,
     "start_time": null,
     "status": "pending"
    },
    "tags": []
   },
   "outputs": [],
   "source": [
    "uvp_cov_fg_uni = uvp_cov_fg.average_spectra(time_avg=True, error_weights=None, error_field=['Pdiff_err',\"foreground_dependent_diag\", \"P_N\",\"P_SN\"],\n",
    "                              inplace=False)"
   ]
  },
  {
   "cell_type": "code",
   "execution_count": null,
   "id": "b737c655",
   "metadata": {
    "papermill": {
     "duration": null,
     "end_time": null,
     "exception": null,
     "start_time": null,
     "status": "pending"
    },
    "tags": []
   },
   "outputs": [],
   "source": [
    "uvp_cov_n_uni = uvp_cov_n.average_spectra(time_avg=True, error_weights=None, error_field=[\"autos_diag\"], inplace=False)"
   ]
  },
  {
   "cell_type": "code",
   "execution_count": null,
   "id": "e891956f",
   "metadata": {
    "papermill": {
     "duration": null,
     "end_time": null,
     "exception": null,
     "start_time": null,
     "status": "pending"
    },
    "tags": []
   },
   "outputs": [],
   "source": [
    "key = uvp_cov_fg_uni.get_all_keys()[0]\n",
    "error_tavg_list = odict()\n",
    "error_tavg_list['PSN'] = uvp_cov_fg_uni.get_stats('P_SN', key)[0].real\n",
    "error_tavg_list['PN'] = uvp_cov_fg_uni.get_stats('P_N', key)[0].real\n",
    "error_tavg_list['fg'] = uvp_cov_fg_uni.get_stats('foreground_dependent_diag', key)[0].real\n",
    "error_tavg_list['noise'] = uvp_cov_n_uni.get_stats('autos_diag', key)[0].real\n",
    "error_tavg_list['Pdiff'] = uvp_cov_fg_uni.get_stats('Pdiff_err', key)[0].real\n",
    "# The power spectrum\n",
    "ps_tavg = (uvp_cov_fg_uni.get_data(key)[0].real).reshape(-1)"
   ]
  },
  {
   "cell_type": "markdown",
   "id": "db5e4d20",
   "metadata": {
    "papermill": {
     "duration": null,
     "end_time": null,
     "exception": null,
     "start_time": null,
     "status": "pending"
    },
    "tags": []
   },
   "source": [
    "bootstrap"
   ]
  },
  {
   "cell_type": "code",
   "execution_count": null,
   "id": "2e22b0ed",
   "metadata": {
    "papermill": {
     "duration": null,
     "end_time": null,
     "exception": null,
     "start_time": null,
     "status": "pending"
    },
    "tags": []
   },
   "outputs": [],
   "source": [
    "boots = []\n",
    "spectra = uvp_cov_fg.get_data(key)\n",
    "for i in range(2000):\n",
    "    _select = np.random.choice(np.arange(spectra.shape[0]), spectra.shape[0], replace=True)\n",
    "    boots.append(np.mean(spectra[_select,:], axis=0))\n",
    "error_tavg_list['boot'] = np.std(np.real(boots), axis=0)"
   ]
  },
  {
   "cell_type": "code",
   "execution_count": null,
   "id": "7627a5b7",
   "metadata": {
    "papermill": {
     "duration": null,
     "end_time": null,
     "exception": null,
     "start_time": null,
     "status": "pending"
    },
    "tags": []
   },
   "outputs": [],
   "source": [
    "label_list['boot'] = r\"$\\sigma_\\mathrm{bs}$\"\n",
    "color_list['boot'] = 'indigo'\n",
    "linestyle_list['boot'] = '-.'"
   ]
  },
  {
   "cell_type": "code",
   "execution_count": null,
   "id": "ff796113",
   "metadata": {
    "papermill": {
     "duration": null,
     "end_time": null,
     "exception": null,
     "start_time": null,
     "status": "pending"
    },
    "tags": []
   },
   "outputs": [],
   "source": [
    "for error_type in error_tavg_list.keys():  \n",
    "    error_tavg_list[error_type] = np.array(error_tavg_list[error_type]).reshape(-1)"
   ]
  },
  {
   "cell_type": "code",
   "execution_count": null,
   "id": "e3748e6f",
   "metadata": {
    "papermill": {
     "duration": null,
     "end_time": null,
     "exception": null,
     "start_time": null,
     "status": "pending"
    },
    "tags": []
   },
   "outputs": [],
   "source": [
    "fig = plt.figure(figsize=(16,15), constrained_layout=True)\n",
    "gs = fig.add_gridspec(3, 2, wspace=0.02)\n",
    "psunits = uvp_cov_fg.units\n",
    "if \"h^-1\" in psunits: psunits = psunits.replace(\"h^-1\", \"h^{-1}\")\n",
    "if \"h^-3\" in psunits: psunits = psunits.replace(\"h^-3\", \"h^{-3}\")\n",
    "if \"Mpc\" in psunits and \"\\\\rm\" not in psunits: \n",
    "    psunits = psunits.replace(\"Mpc\", r\"{\\rm Mpc}\")\n",
    "if \"pi\" in psunits and \"\\\\pi\" not in psunits: \n",
    "    psunits = psunits.replace(\"pi\", r\"\\pi\")\n",
    "    \n",
    "# Plot different kinds of error bars\n",
    "ax = fig.add_subplot(gs[0,:])\n",
    "ax.plot(dlys[ps_tavg>=0.], ps_tavg[ps_tavg>=0.], \".\", label='power spectra'+ r'$(+)$', c='k', markersize=8, alpha = 0.6)\n",
    "ax.plot(dlys[ps_tavg<0.], np.abs(ps_tavg[ps_tavg<0.]), \".\", fillstyle='none', label='power spectra'+ r'$(-)$', c='k', markersize=8, alpha = 0.6)\n",
    "ax.set_xlim(-3000,3000)\n",
    "for error_type in error_tavg_list.keys():\n",
    "    ax.plot(dlys, error_tavg_list[error_type], ls=linestyle_list[error_type],label=label_list[error_type], c=color_list[error_type], lw=2)\n",
    "error_modified_fg = error_tavg_list['fg']-(np.sqrt(1+1/np.sqrt(np.pi))-1)*error_tavg_list['noise']\n",
    "ax.plot(dlys, error_modified_fg, label=r\"$\\tilde{\\sigma}_\\mathrm{QE-SN}$\", c=\"green\", ls=\"--\", lw=2)\n",
    "ax.set_ylabel(\"$P(k_\\parallel)$ $[%s]$\" % psunits, fontsize=16)\n",
    "#ax.set_xlabel(r\"$\\tau$ $[{\\rm ns}]$\", fontsize=20)\n",
    "ax.set_xticklabels([])\n",
    "ax.tick_params(axis='both', which='both', labelsize=16)\n",
    "ax.xaxis.set_minor_locator(ticker.MultipleLocator(500))\n",
    "ax.semilogy()\n",
    "ax.minorticks_on()\n",
    "ax.yaxis.set_minor_locator(ticker.LogLocator(base=10, subs=[0.2,0.4,0.6,0.8], numticks=20))\n",
    "ax.yaxis.set_minor_formatter(ticker.NullFormatter())\n",
    "ax.grid()\n",
    "ax.legend(loc='upper right', fontsize=14, ncol=3)\n",
    "ax.set_title('Time-averaged power spectra from the HERA Phase I Data', bbox=dict(fc='wheat', alpha=0.5), fontsize=20, pad=15)\n",
    "ax.axvspan(-200, -20, facecolor='#2ca02c', alpha=0.2)\n",
    "ax.axvspan(20, 200, facecolor='#2ca02c', alpha=0.2)\n",
    "\n",
    "ax1 = ax.secondary_xaxis('top', functions=(tau2k_, k2tau_))\n",
    "ax1.tick_params(axis='both', which='both', labelsize=16, direction='out')\n",
    "ax1.xaxis.set_major_locator(ticker.MultipleLocator(1))\n",
    "ax1.xaxis.set_minor_locator(ticker.MultipleLocator(0.2))\n",
    "ax1.set_xlabel(r\"$k_\\parallel [h {\\rm Mpc}^{-1}]$\", fontsize=16)\n",
    "\n",
    "#handles, labels = ax.get_legend_handles_labels()\n",
    "#fig.legend(handles, labels, bbox_to_anchor=(0.53,1.15), loc='upper center', fontsize=14, ncol=3,)\n",
    "#fig.tight_layout()\n",
    "\n",
    "# Plot ratios of different kinds of error bars\n",
    "ax = fig.add_subplot(gs[1,:])\n",
    "for error_type in ['Pdiff','PN','fg','boot']:\n",
    "    ax.plot(dlys, np.abs(error_tavg_list[error_type]/error_tavg_list['noise']-1), ls=linestyle_list[error_type], label=label_list[error_type], c=color_list[error_type], lw=2)\n",
    "ax.plot(dlys, np.abs(error_modified_fg/error_tavg_list['noise']-1), label=r\"$\\tilde{\\sigma}_\\mathrm{QE-SN}$\", c=\"green\", ls=\"--\", lw=2)\n",
    "ax.set_xticklabels([])\n",
    "ax.tick_params(axis='both', which='both', labelsize=16)\n",
    "ax.grid()\n",
    "ax.semilogy()\n",
    "ax.set_ylim(1e-3,1)\n",
    "ax.set_xlim(-3000,3000)\n",
    "ax.set_ylabel(\"abs\" + r\"$\\left(\\frac{\\sigma-\\sigma_{\\rm QE-N}}{\\sigma_{\\rm QE-N}}\\right)$\", fontsize=20)\n",
    "#ax.yaxis.set_minor_locator(MinorSymLogLocator(0.01))\n",
    "#ax.yaxis.set_minor_formatter(ticker.NullFormatter())\n",
    "ax.xaxis.set_minor_locator(ticker.MultipleLocator(500))\n",
    "ax.axvspan(-200, -20, facecolor='#2ca02c', alpha=0.2)\n",
    "ax.axvspan(20, 200, facecolor='#2ca02c', alpha=0.2)\n",
    "ax.axhline(y=0, c='k', lw=3)\n",
    "\n",
    "ax = fig.add_subplot(gs[2,:])\n",
    "for error_type in ['PSN','boot']:\n",
    "    ax.plot(dlys, np.abs(error_tavg_list[error_type]/error_tavg_list['fg']-1), ls=linestyle_list[error_type], label=label_list[error_type], c=color_list[error_type], lw=2)\n",
    "ax.plot(dlys, np.abs(error_modified_fg/error_tavg_list['fg']-1), label=r\"$\\tilde{\\sigma}_\\mathrm{QE-SN}$\", c=\"green\", ls=\"--\", lw=2)\n",
    "ax.set_xlabel(r\"$\\tau$ $[{\\rm ns}]$\", fontsize=16)\n",
    "ax.tick_params(axis='both', which='both', labelsize=16)\n",
    "ax.grid()\n",
    "ax.set_xlim(-3000,3000)\n",
    "ax.semilogy()\n",
    "ax.set_ylim(1e-3,1)\n",
    "ax.xaxis.set_minor_locator(ticker.MultipleLocator(500))\n",
    "ax.set_ylabel(\"abs\" + r\"$\\left(\\frac{\\sigma-\\sigma_{\\rm QE-SN}}{\\sigma_{\\rm QE-SN}}\\right)$\", fontsize=20)\n",
    "ax.axvspan(-200, -20, facecolor='#2ca02c', alpha=0.2)\n",
    "ax.axvspan(20, 200, facecolor='#2ca02c', alpha=0.2)\n",
    "ax.axhline(y=0, c='k', lw=3)"
   ]
  },
  {
   "cell_type": "markdown",
   "id": "40551fa8",
   "metadata": {
    "papermill": {
     "duration": null,
     "end_time": null,
     "exception": null,
     "start_time": null,
     "status": "pending"
    },
    "tags": []
   },
   "source": [
    "#### comparing systematics"
   ]
  },
  {
   "cell_type": "code",
   "execution_count": null,
   "id": "44bf587f",
   "metadata": {
    "papermill": {
     "duration": null,
     "end_time": null,
     "exception": null,
     "start_time": null,
     "status": "pending"
    },
    "tags": []
   },
   "outputs": [],
   "source": [
    "psc = hp.PSpecContainer('pspec_crosstime.h5', keep_open=False)\n",
    "uvp_PX_cov_fg = psc.get_pspec('pI_shortbl', 'dset0_x_dset1')"
   ]
  },
  {
   "cell_type": "code",
   "execution_count": null,
   "id": "b2617492",
   "metadata": {
    "papermill": {
     "duration": null,
     "end_time": null,
     "exception": null,
     "start_time": null,
     "status": "pending"
    },
    "tags": []
   },
   "outputs": [],
   "source": [
    "# load power spectra\n",
    "psc_ = hp.PSpecContainer('pspec_nulltest.h5', keep_open=False)\n",
    "uvp_PX_cov_n = psc_.get_pspec('pI_shortbl', 'dset0_x_dset1')"
   ]
  },
  {
   "cell_type": "code",
   "execution_count": null,
   "id": "dfc4e003",
   "metadata": {
    "papermill": {
     "duration": null,
     "end_time": null,
     "exception": null,
     "start_time": null,
     "status": "pending"
    },
    "tags": []
   },
   "outputs": [],
   "source": [
    "psc = hp.PSpecContainer('pspec_systematics.h5', keep_open=False)"
   ]
  },
  {
   "cell_type": "code",
   "execution_count": null,
   "id": "b179f3ec",
   "metadata": {
    "papermill": {
     "duration": null,
     "end_time": null,
     "exception": null,
     "start_time": null,
     "status": "pending"
    },
    "tags": []
   },
   "outputs": [],
   "source": [
    "uvp_P_cov_fg = psc.get_pspec('pI_shortbl_fg_P', 'dset0_x_dset1')\n",
    "uvp_P_cov_n = psc.get_pspec('pI_shortbl_noise_P', 'dset0_x_dset1')"
   ]
  },
  {
   "cell_type": "code",
   "execution_count": null,
   "id": "5599dd50",
   "metadata": {
    "papermill": {
     "duration": null,
     "end_time": null,
     "exception": null,
     "start_time": null,
     "status": "pending"
    },
    "tags": []
   },
   "outputs": [],
   "source": [
    "uvp_PC_cov_fg = psc.get_pspec('pI_shortbl_fg_PC', 'dset0_x_dset1')\n",
    "uvp_PC_cov_n = psc.get_pspec('pI_shortbl_noise_PC', 'dset0_x_dset1')"
   ]
  },
  {
   "cell_type": "code",
   "execution_count": null,
   "id": "986cbc73",
   "metadata": {
    "papermill": {
     "duration": null,
     "end_time": null,
     "exception": null,
     "start_time": null,
     "status": "pending"
    },
    "tags": []
   },
   "outputs": [],
   "source": [
    "uvp_PXC_cov_fg = psc.get_pspec('pI_shortbl_fg_PXC', 'dset0_x_dset1')\n",
    "uvp_PXC_cov_n = psc.get_pspec('pI_shortbl_noise_PXC', 'dset0_x_dset1')"
   ]
  },
  {
   "cell_type": "markdown",
   "id": "96b45f2c",
   "metadata": {
    "papermill": {
     "duration": null,
     "end_time": null,
     "exception": null,
     "start_time": null,
     "status": "pending"
    },
    "tags": []
   },
   "source": [
    "check match in timestamps"
   ]
  },
  {
   "cell_type": "code",
   "execution_count": null,
   "id": "0527a107",
   "metadata": {
    "papermill": {
     "duration": null,
     "end_time": null,
     "exception": null,
     "start_time": null,
     "status": "pending"
    },
    "tags": []
   },
   "outputs": [],
   "source": [
    "print(np.unique(uvp_P_cov_fg.lst_avg_array))"
   ]
  },
  {
   "cell_type": "code",
   "execution_count": null,
   "id": "0713d192",
   "metadata": {
    "papermill": {
     "duration": null,
     "end_time": null,
     "exception": null,
     "start_time": null,
     "status": "pending"
    },
    "tags": []
   },
   "outputs": [],
   "source": [
    "print(np.unique(uvp_PX_cov_fg.lst_avg_array))"
   ]
  },
  {
   "cell_type": "code",
   "execution_count": null,
   "id": "e1f65435",
   "metadata": {
    "papermill": {
     "duration": null,
     "end_time": null,
     "exception": null,
     "start_time": null,
     "status": "pending"
    },
    "tags": []
   },
   "outputs": [],
   "source": [
    "print(np.unique(uvp_PC_cov_fg.lst_avg_array))"
   ]
  },
  {
   "cell_type": "code",
   "execution_count": null,
   "id": "6d0547c7",
   "metadata": {
    "papermill": {
     "duration": null,
     "end_time": null,
     "exception": null,
     "start_time": null,
     "status": "pending"
    },
    "tags": []
   },
   "outputs": [],
   "source": [
    "print(np.unique(uvp_PXC_cov_fg.lst_avg_array))"
   ]
  },
  {
   "cell_type": "markdown",
   "id": "c11f0b0c",
   "metadata": {
    "papermill": {
     "duration": null,
     "end_time": null,
     "exception": null,
     "start_time": null,
     "status": "pending"
    },
    "tags": []
   },
   "source": [
    "#### inpainted data"
   ]
  },
  {
   "cell_type": "code",
   "execution_count": null,
   "id": "f37d88dc",
   "metadata": {
    "papermill": {
     "duration": null,
     "end_time": null,
     "exception": null,
     "start_time": null,
     "status": "pending"
    },
    "tags": []
   },
   "outputs": [],
   "source": [
    "# used in paper\n",
    "# A larger window (2000), with normalization\n",
    "uvp_plot = uvp_P_cov_n\n",
    "num_time_samples_list = [1,5,15]\n",
    "ylim = (5*1e-13,1e-9)\n",
    "dlys = uvp_plot.get_dlys(0) * 1e9\n",
    "delay_args = np.append(np.argwhere(dlys< -2000), np.argwhere(dlys> 2000))\n",
    "suptitle = \"Inpainted HERA Phase I Data, \"+r\"$|\\tau|>2000 {\\rm ns}$\"\n",
    "\n",
    "fig, axes = plt.subplots(figsize=(20,6), ncols=3, nrows=1)\n",
    "for ax_idx, num_time_samples in enumerate(num_time_samples_list):\n",
    "    col_idx = ax_idx%3\n",
    "    times = np.arange(num_time_samples)\n",
    "   \n",
    "    # Get all keys\n",
    "    keys = uvp_plot.get_all_keys()\n",
    "    blpt_weights = np.array([[1. for item in times] for key in keys])\n",
    "    ps_real_time_avg = []\n",
    "    for dly in delay_args:\n",
    "        ps = np.array([[uvp_plot.get_data(key)[time, dly]*uvp_plot.get_stats(\"autos_diag\", keys[0])[time,0].real\\\n",
    "                        /uvp_plot.get_stats(\"autos_diag\", key)[time, dly].real for time in times] for key in keys])\n",
    "        ps_real_time_avg.extend((np.sum(ps.real*blpt_weights, axis=1)/np.sum(blpt_weights, axis=1).clip(1e-10, np.inf)).flatten())\n",
    "    ps_real_time_avg = np.array(ps_real_time_avg) - np.mean(ps_real_time_avg)\n",
    "    # The ratio of error bars to the original one\n",
    "    psunits = uvp_plot.units\n",
    "    if \"h^-1\" in psunits: psunits = psunits.replace(\"h^-1\", \"h^{-1}\")\n",
    "    if \"h^-3\" in psunits: psunits = psunits.replace(\"h^-3\", \"h^{-3}\")\n",
    "    if \"Mpc\" in psunits and \"\\\\rm\" not in psunits: \n",
    "        psunits = psunits.replace(\"Mpc\", r\"{\\rm Mpc}\")\n",
    "    if \"pi\" in psunits and \"\\\\pi\" not in psunits: \n",
    "        psunits = psunits.replace(\"pi\", r\"\\pi\")\n",
    "    \n",
    "    ax = axes[col_idx]\n",
    "    Lap_sigma_list = np.zeros(num_time_samples)\n",
    "    for time in times:\n",
    "        Lap_sigma_list[time] = uvp_plot.get_stats(\"autos_diag\", keys[0])[time, 0].real \n",
    "    Gauss_sigma = np.sqrt(np.sum(Lap_sigma_list**2))/num_time_samples\n",
    "    vlim = 6*Gauss_sigma\n",
    "    n_in_bins, bins_edge, _ = ax.hist(ps_real_time_avg, log=True, density=True, bins=61, range=(-vlim, vlim), alpha=0.75,\n",
    "                           color='pink')\n",
    "    ax.set_xlim(-vlim, vlim)\n",
    "    ax.set_ylim(*ylim)\n",
    "    \n",
    "    px = np.linspace(-vlim, vlim, 100)\n",
    "    Lap_curve = np.zeros_like(px)\n",
    "    normalized_factor = 0\n",
    "    for time in times:\n",
    "        scale_factor = 1\n",
    "        for time_ in times:\n",
    "            if time_ != time:\n",
    "                scale_factor *= Lap_sigma_list[time]**2/(Lap_sigma_list[time]**2-Lap_sigma_list[time_]**2)\n",
    "        normalized_factor += scale_factor   \n",
    "        Lap_curve += np.exp(-np.sqrt(2)*np.abs(px)/Lap_sigma_list[time]*num_time_samples)/np.sqrt(2)/Lap_sigma_list[time]*num_time_samples*scale_factor\n",
    "    \n",
    "    # Calculate the equivalent Gaussian pdf\n",
    "    Gauss_curve = np.exp(-px**2/2/Gauss_sigma**2)/np.sqrt(2*np.pi*Gauss_sigma**2)\n",
    "    \n",
    "    if np.isclose(normalized_factor,1,rtol=5e-1):\n",
    "        ax.plot(px, Lap_curve, ls='-', lw=2, label=\"Sum of Laplacians\", c='cyan')\n",
    "    ax.plot(px, Gauss_curve, ls='--', lw=2, label='Gaussian', c='slategrey')\n",
    "    bins_center = (bins_edge[1:] + bins_edge[0:-1])/2\n",
    "    outlier_3sigma = (np.sum(n_in_bins)-np.sum(n_in_bins[(-3*Gauss_sigma<=bins_center)*(bins_center<=3*Gauss_sigma)]))/np.sum(n_in_bins)\n",
    "    print(\"beyond 3sigma {}\".format(outlier_3sigma), \\\n",
    "          \"Gauss {}\".format((np.sum(Gauss_curve)-np.sum(Gauss_curve[(-3*Gauss_sigma<=px)*(px<=3*Gauss_sigma)]))/np.sum(Gauss_curve)), \\\n",
    "          \"Laplacian {}\".format((np.sum(Lap_curve)-np.sum(Lap_curve[(-3*Gauss_sigma<=px)*(px<=3*Gauss_sigma)]))/np.sum(Lap_curve)))\n",
    "    \n",
    "    # confidence interval\n",
    "    ax.axvline(x=3*Gauss_sigma, c='k', lw=1, ls=':')\n",
    "    ax.axvline(x=-3*Gauss_sigma, c='k', lw=1, ls=':')\n",
    "    ax.axvline(x=5*Gauss_sigma, c='navy', lw=1, ls=':')\n",
    "    ax.axvline(x=-5*Gauss_sigma, c='navy', lw=1, ls=':')\n",
    "    if ax_idx == 0:\n",
    "        ax.text(2.2*Gauss_sigma, 9*1e-12, r'$3 \\sigma$', ha=\"center\", va=\"center\", rotation=0,\n",
    "            fontsize=14,\n",
    "            bbox=dict(boxstyle=\"rarrow\", fc=\"green\", alpha=0.5))\n",
    "        ax.text(4.2*Gauss_sigma, 1e-10, r'$5 \\sigma$', ha=\"center\", va=\"center\", rotation=0,\n",
    "            fontsize=14,\n",
    "            bbox=dict(boxstyle=\"rarrow\", fc=\"green\", alpha=0.5))\n",
    "        ax.text(-2.2*Gauss_sigma, 9*1e-12, r'$3 \\sigma$', ha=\"center\", va=\"center\", rotation=0,\n",
    "            fontsize=14,\n",
    "            bbox=dict(boxstyle=\"larrow\", fc=\"green\", alpha=0.5))\n",
    "        ax.text(-4.2*Gauss_sigma, 1e-10, r'$5 \\sigma$', ha=\"center\", va=\"center\", rotation=0,\n",
    "            fontsize=14,\n",
    "            bbox=dict(boxstyle=\"larrow\", fc=\"green\", alpha=0.5))\n",
    "    \n",
    "    ax.tick_params(which='both', labelsize=16, length=3, width=0.5)\n",
    "    ax.xaxis.set_minor_locator(ticker.MultipleLocator(1e9))\n",
    "    xticks = ax.get_xticks()\n",
    "    ax.set_xticklabels(xticks/1e10)\n",
    "    ax.set_xlabel(\"$P(k_\\parallel)$ $[\\\\times 10^{10}\\,%s]$\" % psunits, fontsize=16)\n",
    "    if col_idx == 0: \n",
    "        ax.set_ylabel(\"pdf\", fontsize=16)\n",
    "    if ax_idx == 0:\n",
    "        ax.legend(loc='lower right', fontsize=14)\n",
    "    ax.set_title(\"Average over \\n{} timestamp(s)\".format(num_time_samples),bbox=dict(fc='wheat', alpha=0.5), fontsize=16, pad=15)\n",
    "fig.subplots_adjust(top=0.8)\n",
    "fig.suptitle(suptitle, fontsize=20, bbox=dict(fc='gold', alpha=0.5), x=0.5, y=0.99)\n",
    "print(len(uvp_plot.get_all_keys())*len(delay_args))"
   ]
  },
  {
   "cell_type": "code",
   "execution_count": null,
   "id": "cc51e98d",
   "metadata": {
    "papermill": {
     "duration": null,
     "end_time": null,
     "exception": null,
     "start_time": null,
     "status": "pending"
    },
    "tags": []
   },
   "outputs": [],
   "source": [
    "# used in paper\n",
    "# A larger window (500-1500), with normalization\n",
    "uvp_plot = uvp_P_cov_n\n",
    "num_time_samples_list = [1,5,15]\n",
    "ylim = (5*1e-13,1e-9)\n",
    "dlys = uvp_plot.get_dlys(0) * 1e9\n",
    "delay_args = np.append(np.argwhere((dlys< -500)*(dlys>-1500)), np.argwhere((dlys< 1500)*(dlys>500)))\n",
    "suptitle = \"Inpainted HERA Phase I Data, \" + r\"$500\\,{\\rm ns}<|\\tau|<1500\\,{\\rm ns}$\"\n",
    "\n",
    "fig, axes = plt.subplots(figsize=(20,6), ncols=3, nrows=1)\n",
    "for ax_idx, num_time_samples in enumerate(num_time_samples_list):\n",
    "    col_idx = ax_idx%3\n",
    "    times = np.arange(num_time_samples)\n",
    "   \n",
    "    # Get all keys\n",
    "    keys = uvp_plot.get_all_keys()\n",
    "    blpt_weights = np.array([[1. for item in times] for key in keys])\n",
    "    ps_real_time_avg = []\n",
    "    for dly in delay_args:\n",
    "        ps = np.array([[uvp_plot.get_data(key)[time, dly]*uvp_plot.get_stats(\"autos_diag\", keys[0])[time,0].real\\\n",
    "                        /uvp_plot.get_stats(\"autos_diag\", key)[time, dly].real for time in times] for key in keys])\n",
    "        ps_real_time_avg.extend((np.sum(ps.real*blpt_weights, axis=1)/np.sum(blpt_weights, axis=1).clip(1e-10, np.inf)).flatten())\n",
    "    ps_real_time_avg = np.array(ps_real_time_avg) - np.mean(ps_real_time_avg)\n",
    "    # The ratio of error bars to the original one\n",
    "    psunits = uvp_plot.units\n",
    "    if \"h^-1\" in psunits: psunits = psunits.replace(\"h^-1\", \"h^{-1}\")\n",
    "    if \"h^-3\" in psunits: psunits = psunits.replace(\"h^-3\", \"h^{-3}\")\n",
    "    if \"Mpc\" in psunits and \"\\\\rm\" not in psunits: \n",
    "        psunits = psunits.replace(\"Mpc\", r\"{\\rm Mpc}\")\n",
    "    if \"pi\" in psunits and \"\\\\pi\" not in psunits: \n",
    "        psunits = psunits.replace(\"pi\", r\"\\pi\")\n",
    "    \n",
    "    ax = axes[col_idx]\n",
    "    Lap_sigma_list = np.zeros(num_time_samples)\n",
    "    for time in times:\n",
    "        Lap_sigma_list[time] = uvp_plot.get_stats(\"autos_diag\", keys[0])[time, 0].real \n",
    "    Gauss_sigma = np.sqrt(np.sum(Lap_sigma_list**2))/num_time_samples\n",
    "    vlim = 6*Gauss_sigma\n",
    "    n_in_bins, bins_edge, _ = ax.hist(ps_real_time_avg, log=True, density=True, bins=61, range=(-vlim, vlim), alpha=0.75,\n",
    "                           color='pink')\n",
    "    ax.set_xlim(-vlim, vlim)\n",
    "    ax.set_ylim(*ylim)\n",
    "    \n",
    "    px = np.linspace(-vlim, vlim, 100)\n",
    "    Lap_curve = np.zeros_like(px)\n",
    "    normalized_factor = 0\n",
    "    for time in times:\n",
    "        scale_factor = 1\n",
    "        for time_ in times:\n",
    "            if time_ != time:\n",
    "                scale_factor *= Lap_sigma_list[time]**2/(Lap_sigma_list[time]**2-Lap_sigma_list[time_]**2)\n",
    "        normalized_factor += scale_factor   \n",
    "        Lap_curve += np.exp(-np.sqrt(2)*np.abs(px)/Lap_sigma_list[time]*num_time_samples)/np.sqrt(2)/Lap_sigma_list[time]*num_time_samples*scale_factor\n",
    "    \n",
    "    # Calculate the equivalent Gaussian pdf\n",
    "    Gauss_curve = np.exp(-px**2/2/Gauss_sigma**2)/np.sqrt(2*np.pi*Gauss_sigma**2)\n",
    "    \n",
    "    if np.isclose(normalized_factor,1,rtol=5e-1):\n",
    "        ax.plot(px, Lap_curve, ls='-', lw=2, label=\"Sum of Laplacians\", c='cyan')\n",
    "    ax.plot(px, Gauss_curve, ls='--', lw=2, label='Gaussian', c='slategrey')\n",
    "    bins_center = (bins_edge[1:] + bins_edge[0:-1])/2\n",
    "    outlier_3sigma = (np.sum(n_in_bins)-np.sum(n_in_bins[(-3*Gauss_sigma<=bins_center)*(bins_center<=3*Gauss_sigma)]))/np.sum(n_in_bins)\n",
    "    print(\"beyond 3sigma {}\".format(outlier_3sigma), \\\n",
    "          \"Gauss {}\".format((np.sum(Gauss_curve)-np.sum(Gauss_curve[(-3*Gauss_sigma<=px)*(px<=3*Gauss_sigma)]))/np.sum(Gauss_curve)), \\\n",
    "          \"Laplacian {}\".format((np.sum(Lap_curve)-np.sum(Lap_curve[(-3*Gauss_sigma<=px)*(px<=3*Gauss_sigma)]))/np.sum(Lap_curve)))\n",
    "    # confidence interval\n",
    "    ax.axvline(x=3*Gauss_sigma, c='k', lw=1, ls=':')\n",
    "    ax.axvline(x=-3*Gauss_sigma, c='k', lw=1, ls=':')\n",
    "    ax.axvline(x=5*Gauss_sigma, c='navy', lw=1, ls=':')\n",
    "    ax.axvline(x=-5*Gauss_sigma, c='navy', lw=1, ls=':')\n",
    "    if ax_idx == 0:\n",
    "        ax.text(2.2*Gauss_sigma, 9*1e-12, r'$3 \\sigma$', ha=\"center\", va=\"center\", rotation=0,\n",
    "            fontsize=14,\n",
    "            bbox=dict(boxstyle=\"rarrow\", fc=\"green\", alpha=0.5))\n",
    "        ax.text(4.2*Gauss_sigma, 1e-10, r'$5 \\sigma$', ha=\"center\", va=\"center\", rotation=0,\n",
    "            fontsize=14,\n",
    "            bbox=dict(boxstyle=\"rarrow\", fc=\"green\", alpha=0.5))\n",
    "        ax.text(-2.2*Gauss_sigma, 9*1e-12, r'$3 \\sigma$', ha=\"center\", va=\"center\", rotation=0,\n",
    "            fontsize=14,\n",
    "            bbox=dict(boxstyle=\"larrow\", fc=\"green\", alpha=0.5))\n",
    "        ax.text(-4.2*Gauss_sigma, 1e-10, r'$5 \\sigma$', ha=\"center\", va=\"center\", rotation=0,\n",
    "            fontsize=14,\n",
    "            bbox=dict(boxstyle=\"larrow\", fc=\"green\", alpha=0.5))\n",
    "    \n",
    "    ax.tick_params(which='both', labelsize=16, length=3, width=0.5)\n",
    "    ax.xaxis.set_minor_locator(ticker.MultipleLocator(1e9))\n",
    "    xticks = ax.get_xticks()\n",
    "    ax.set_xticklabels(xticks/1e10)\n",
    "    ax.set_xlabel(\"$P(k_\\parallel)$ $[\\\\times 10^{10}\\,%s]$\" % psunits, fontsize=16)\n",
    "    if col_idx == 0: \n",
    "        ax.set_ylabel(\"pdf\", fontsize=16)\n",
    "    if ax_idx == 0:\n",
    "        ax.legend(loc='lower right', fontsize=14)\n",
    "    ax.set_title(\"Average over \\n{} timestamp(s)\".format(num_time_samples),bbox=dict(fc='wheat', alpha=0.5), fontsize=16, pad=15)\n",
    "fig.subplots_adjust(top=0.8)\n",
    "fig.suptitle(suptitle, fontsize=20, bbox=dict(fc='gold', alpha=0.5), x=0.5, y=0.99)\n",
    "print(len(uvp_plot.get_all_keys())*len(delay_args))"
   ]
  },
  {
   "cell_type": "markdown",
   "id": "e55104a8",
   "metadata": {
    "papermill": {
     "duration": null,
     "end_time": null,
     "exception": null,
     "start_time": null,
     "status": "pending"
    },
    "tags": []
   },
   "source": [
    "#### inpainted + reflection"
   ]
  },
  {
   "cell_type": "code",
   "execution_count": null,
   "id": "5af80060",
   "metadata": {
    "papermill": {
     "duration": null,
     "end_time": null,
     "exception": null,
     "start_time": null,
     "status": "pending"
    },
    "tags": []
   },
   "outputs": [],
   "source": [
    "# used in paper\n",
    "# A larger window (2000), with normalization\n",
    "uvp_plot = uvp_PC_cov_n\n",
    "num_time_samples_list = [1,5,15]\n",
    "ylim = (5*1e-13,1e-9)\n",
    "dlys = uvp_plot.get_dlys(0) * 1e9\n",
    "delay_args = np.append(np.argwhere(dlys< -2000), np.argwhere(dlys> 2000))\n",
    "suptitle = \"Inpainted+cable reflection removed, \"+r\"$|\\tau|>2000 {\\rm ns}$\"\n",
    "\n",
    "fig, axes = plt.subplots(figsize=(20,6), ncols=3, nrows=1)\n",
    "for ax_idx, num_time_samples in enumerate(num_time_samples_list):\n",
    "    col_idx = ax_idx%3\n",
    "    times = np.arange(num_time_samples)\n",
    "   \n",
    "    # Get all keys\n",
    "    keys = uvp_plot.get_all_keys()\n",
    "    blpt_weights = np.array([[1. for item in times] for key in keys])\n",
    "    ps_real_time_avg = []\n",
    "    for dly in delay_args:\n",
    "        ps = np.array([[uvp_plot.get_data(key)[time, dly]*uvp_plot.get_stats(\"autos_diag\", keys[0])[time,0].real\\\n",
    "                        /uvp_plot.get_stats(\"autos_diag\", key)[time, dly].real for time in times] for key in keys])\n",
    "        ps_real_time_avg.extend((np.sum(ps.real*blpt_weights, axis=1)/np.sum(blpt_weights, axis=1).clip(1e-10, np.inf)).flatten())\n",
    "    ps_real_time_avg = np.array(ps_real_time_avg) - np.mean(ps_real_time_avg)\n",
    "    # The ratio of error bars to the original one\n",
    "    psunits = uvp_plot.units\n",
    "    if \"h^-1\" in psunits: psunits = psunits.replace(\"h^-1\", \"h^{-1}\")\n",
    "    if \"h^-3\" in psunits: psunits = psunits.replace(\"h^-3\", \"h^{-3}\")\n",
    "    if \"Mpc\" in psunits and \"\\\\rm\" not in psunits: \n",
    "        psunits = psunits.replace(\"Mpc\", r\"{\\rm Mpc}\")\n",
    "    if \"pi\" in psunits and \"\\\\pi\" not in psunits: \n",
    "        psunits = psunits.replace(\"pi\", r\"\\pi\")\n",
    "    \n",
    "    ax = axes[col_idx]\n",
    "    Lap_sigma_list = np.zeros(num_time_samples)\n",
    "    for time in times:\n",
    "        Lap_sigma_list[time] = uvp_plot.get_stats(\"autos_diag\", keys[0])[time, 0].real \n",
    "    Gauss_sigma = np.sqrt(np.sum(Lap_sigma_list**2))/num_time_samples\n",
    "    vlim = 6*Gauss_sigma\n",
    "    n_in_bins, bins_edge, _ = ax.hist(ps_real_time_avg, log=True, density=True, bins=61, range=(-vlim, vlim), alpha=0.75,\n",
    "                           color='pink')\n",
    "    ax.set_xlim(-vlim, vlim)\n",
    "    ax.set_ylim(*ylim)\n",
    "    \n",
    "    px = np.linspace(-vlim, vlim, 100)\n",
    "    Lap_curve = np.zeros_like(px)\n",
    "    normalized_factor = 0\n",
    "    for time in times:\n",
    "        scale_factor = 1\n",
    "        for time_ in times:\n",
    "            if time_ != time:\n",
    "                scale_factor *= Lap_sigma_list[time]**2/(Lap_sigma_list[time]**2-Lap_sigma_list[time_]**2)\n",
    "        normalized_factor += scale_factor   \n",
    "        Lap_curve += np.exp(-np.sqrt(2)*np.abs(px)/Lap_sigma_list[time]*num_time_samples)/np.sqrt(2)/Lap_sigma_list[time]*num_time_samples*scale_factor\n",
    "    \n",
    "    # Calculate the equivalent Gaussian pdf\n",
    "    Gauss_curve = np.exp(-px**2/2/Gauss_sigma**2)/np.sqrt(2*np.pi*Gauss_sigma**2)\n",
    "    \n",
    "    if np.isclose(normalized_factor,1,rtol=5e-1):\n",
    "        ax.plot(px, Lap_curve, ls='-', lw=2, label=\"Sum of Laplacian\", c='cyan')\n",
    "    ax.plot(px, Gauss_curve, ls='--', lw=2, label='Gaussian', c='slategrey')\n",
    "    bins_center = (bins_edge[1:] + bins_edge[0:-1])/2\n",
    "    outlier_3sigma = (np.sum(n_in_bins)-np.sum(n_in_bins[(-3*Gauss_sigma<=bins_center)*(bins_center<=3*Gauss_sigma)]))/np.sum(n_in_bins)\n",
    "    print(\"beyond 3sigma {}\".format(outlier_3sigma))\n",
    "    \n",
    "    # confidence interval\n",
    "    ax.axvline(x=3*Gauss_sigma, c='k', lw=1, ls=':')\n",
    "    ax.axvline(x=-3*Gauss_sigma, c='k', lw=1, ls=':')\n",
    "    ax.axvline(x=5*Gauss_sigma, c='navy', lw=1, ls=':')\n",
    "    ax.axvline(x=-5*Gauss_sigma, c='navy', lw=1, ls=':')\n",
    "    if ax_idx == 0:\n",
    "        ax.text(2.2*Gauss_sigma, 9*1e-12, r'$3 \\sigma$', ha=\"center\", va=\"center\", rotation=0,\n",
    "            fontsize=14,\n",
    "            bbox=dict(boxstyle=\"rarrow\", fc=\"green\", alpha=0.5))\n",
    "        ax.text(4.2*Gauss_sigma, 1e-10, r'$5 \\sigma$', ha=\"center\", va=\"center\", rotation=0,\n",
    "            fontsize=14,\n",
    "            bbox=dict(boxstyle=\"rarrow\", fc=\"green\", alpha=0.5))\n",
    "        ax.text(-2.2*Gauss_sigma, 9*1e-12, r'$3 \\sigma$', ha=\"center\", va=\"center\", rotation=0,\n",
    "            fontsize=14,\n",
    "            bbox=dict(boxstyle=\"larrow\", fc=\"green\", alpha=0.5))\n",
    "        ax.text(-4.2*Gauss_sigma, 1e-10, r'$5 \\sigma$', ha=\"center\", va=\"center\", rotation=0,\n",
    "            fontsize=14,\n",
    "            bbox=dict(boxstyle=\"larrow\", fc=\"green\", alpha=0.5))\n",
    "    \n",
    "    ax.tick_params(which='both', labelsize=16, length=3, width=0.5)\n",
    "    ax.xaxis.set_minor_locator(ticker.MultipleLocator(1e9))\n",
    "    xticks = ax.get_xticks()\n",
    "    ax.set_xticklabels(xticks/1e10)\n",
    "    ax.set_xlabel(\"$P(k_\\parallel)$ $[\\\\times 10^{10}\\,%s]$\" % psunits, fontsize=16)\n",
    "    if col_idx == 0: \n",
    "        ax.set_ylabel(\"pdf\", fontsize=16)\n",
    "    if ax_idx == 0:\n",
    "        ax.legend(loc='lower right', fontsize=14)\n",
    "    ax.set_title(\"Average over \\n{} timestamp(s)\".format(num_time_samples),bbox=dict(fc='wheat', alpha=0.5), fontsize=16, pad=15)\n",
    "fig.subplots_adjust(top=0.8)\n",
    "fig.suptitle(suptitle, fontsize=20, bbox=dict(fc='gold', alpha=0.5), x=0.5, y=0.99)\n",
    "print(len(uvp_plot.get_all_keys())*len(delay_args))"
   ]
  },
  {
   "cell_type": "code",
   "execution_count": null,
   "id": "c6692819",
   "metadata": {
    "papermill": {
     "duration": null,
     "end_time": null,
     "exception": null,
     "start_time": null,
     "status": "pending"
    },
    "tags": []
   },
   "outputs": [],
   "source": [
    "# used in paper\n",
    "# A larger window (500-1500), with normalization\n",
    "uvp_plot = uvp_PC_cov_n\n",
    "num_time_samples_list = [1,5,15]\n",
    "ylim = (5*1e-13,1e-9)\n",
    "dlys = uvp_plot.get_dlys(0) * 1e9\n",
    "delay_args = np.append(np.argwhere((dlys< -500)*(dlys>-1500)), np.argwhere((dlys< 1500)*(dlys>500)))\n",
    "suptitle = \"Inpainted+cable reflection removed, \" + r\"$500\\,{\\rm ns}<|\\tau|<1500\\,{\\rm ns}$\"\n",
    "\n",
    "fig, axes = plt.subplots(figsize=(20,6), ncols=3, nrows=1)\n",
    "for ax_idx, num_time_samples in enumerate(num_time_samples_list):\n",
    "    col_idx = ax_idx%3\n",
    "    times = np.arange(num_time_samples)\n",
    "   \n",
    "    # Get all keys\n",
    "    keys = uvp_plot.get_all_keys()\n",
    "    blpt_weights = np.array([[1. for item in times] for key in keys])\n",
    "    ps_real_time_avg = []\n",
    "    for dly in delay_args:\n",
    "        ps = np.array([[uvp_plot.get_data(key)[time, dly]*uvp_plot.get_stats(\"autos_diag\", keys[0])[time,0].real\\\n",
    "                        /uvp_plot.get_stats(\"autos_diag\", key)[time, dly].real for time in times] for key in keys])\n",
    "        ps_real_time_avg.extend((np.sum(ps.real*blpt_weights, axis=1)/np.sum(blpt_weights, axis=1).clip(1e-10, np.inf)).flatten())\n",
    "    ps_real_time_avg = np.array(ps_real_time_avg) - np.mean(ps_real_time_avg)\n",
    "    # The ratio of error bars to the original one\n",
    "    psunits = uvp_plot.units\n",
    "    if \"h^-1\" in psunits: psunits = psunits.replace(\"h^-1\", \"h^{-1}\")\n",
    "    if \"h^-3\" in psunits: psunits = psunits.replace(\"h^-3\", \"h^{-3}\")\n",
    "    if \"Mpc\" in psunits and \"\\\\rm\" not in psunits: \n",
    "        psunits = psunits.replace(\"Mpc\", r\"{\\rm Mpc}\")\n",
    "    if \"pi\" in psunits and \"\\\\pi\" not in psunits: \n",
    "        psunits = psunits.replace(\"pi\", r\"\\pi\")\n",
    "    \n",
    "    ax = axes[col_idx]\n",
    "    Lap_sigma_list = np.zeros(num_time_samples)\n",
    "    for time in times:\n",
    "        Lap_sigma_list[time] = uvp_plot.get_stats(\"autos_diag\", keys[0])[time, 0].real \n",
    "    Gauss_sigma = np.sqrt(np.sum(Lap_sigma_list**2))/num_time_samples\n",
    "    vlim = 6*Gauss_sigma\n",
    "    n_in_bins, bins_edge, _ = ax.hist(ps_real_time_avg, log=True, density=True, bins=61, range=(-vlim, vlim), alpha=0.75,\n",
    "                           color='pink')\n",
    "    ax.set_xlim(-vlim, vlim)\n",
    "    ax.set_ylim(*ylim)\n",
    "    \n",
    "    px = np.linspace(-vlim, vlim, 100)\n",
    "    Lap_curve = np.zeros_like(px)\n",
    "    normalized_factor = 0\n",
    "    for time in times:\n",
    "        scale_factor = 1\n",
    "        for time_ in times:\n",
    "            if time_ != time:\n",
    "                scale_factor *= Lap_sigma_list[time]**2/(Lap_sigma_list[time]**2-Lap_sigma_list[time_]**2)\n",
    "        normalized_factor += scale_factor   \n",
    "        Lap_curve += np.exp(-np.sqrt(2)*np.abs(px)/Lap_sigma_list[time]*num_time_samples)/np.sqrt(2)/Lap_sigma_list[time]*num_time_samples*scale_factor\n",
    "    \n",
    "    # Calculate the equivalent Gaussian pdf\n",
    "    Gauss_curve = np.exp(-px**2/2/Gauss_sigma**2)/np.sqrt(2*np.pi*Gauss_sigma**2)\n",
    "    \n",
    "    if np.isclose(normalized_factor,1,rtol=5e-1):\n",
    "        ax.plot(px, Lap_curve, ls='-', lw=2, label=\"sum of Laplacian\", c='cyan')\n",
    "    ax.plot(px, Gauss_curve, ls='--', lw=2, label='Gaussian', c='slategrey')\n",
    "    \n",
    "    # confidence interval\n",
    "    ax.axvline(x=3*Gauss_sigma, c='k', lw=1, ls=':')\n",
    "    ax.axvline(x=-3*Gauss_sigma, c='k', lw=1, ls=':')\n",
    "    ax.axvline(x=5*Gauss_sigma, c='navy', lw=1, ls=':')\n",
    "    ax.axvline(x=-5*Gauss_sigma, c='navy', lw=1, ls=':')\n",
    "    if ax_idx == 0:\n",
    "        ax.text(2.2*Gauss_sigma, 9*1e-12, r'$3 \\sigma$', ha=\"center\", va=\"center\", rotation=0,\n",
    "            fontsize=14,\n",
    "            bbox=dict(boxstyle=\"rarrow\", fc=\"green\", alpha=0.5))\n",
    "        ax.text(4.2*Gauss_sigma, 1e-10, r'$5 \\sigma$', ha=\"center\", va=\"center\", rotation=0,\n",
    "            fontsize=14,\n",
    "            bbox=dict(boxstyle=\"rarrow\", fc=\"green\", alpha=0.5))\n",
    "        ax.text(-2.2*Gauss_sigma, 9*1e-12, r'$3 \\sigma$', ha=\"center\", va=\"center\", rotation=0,\n",
    "            fontsize=14,\n",
    "            bbox=dict(boxstyle=\"larrow\", fc=\"green\", alpha=0.5))\n",
    "        ax.text(-4.2*Gauss_sigma, 1e-10, r'$5 \\sigma$', ha=\"center\", va=\"center\", rotation=0,\n",
    "            fontsize=14,\n",
    "            bbox=dict(boxstyle=\"larrow\", fc=\"green\", alpha=0.5))\n",
    "    \n",
    "    ax.tick_params(which='both', labelsize=16, length=3, width=0.5)\n",
    "    ax.xaxis.set_minor_locator(ticker.MultipleLocator(1e9))\n",
    "    xticks = ax.get_xticks()\n",
    "    ax.set_xticklabels(xticks/1e10)\n",
    "    ax.set_xlabel(\"$P(k_\\parallel)$ $[\\\\times 10^{10}\\,%s]$\" % psunits, fontsize=16)\n",
    "    if col_idx == 0: \n",
    "        ax.set_ylabel(\"pdf\", fontsize=16)\n",
    "    if ax_idx == 0:\n",
    "        ax.legend(loc='lower right', fontsize=14)\n",
    "    ax.set_title(\"Average over \\n{} timestamp(s)\".format(num_time_samples),bbox=dict(fc='wheat', alpha=0.5), fontsize=16, pad=15)\n",
    "fig.subplots_adjust(top=0.8)\n",
    "fig.suptitle(suptitle, fontsize=20, bbox=dict(fc='gold', alpha=0.5), x=0.5, y=0.99)\n",
    "print(len(uvp_plot.get_all_keys())*len(delay_args))"
   ]
  },
  {
   "cell_type": "markdown",
   "id": "a04dcb77",
   "metadata": {
    "papermill": {
     "duration": null,
     "end_time": null,
     "exception": null,
     "start_time": null,
     "status": "pending"
    },
    "tags": []
   },
   "source": [
    "#### inpainted + xtalk + reflection"
   ]
  },
  {
   "cell_type": "code",
   "execution_count": null,
   "id": "3c6aef32",
   "metadata": {
    "papermill": {
     "duration": null,
     "end_time": null,
     "exception": null,
     "start_time": null,
     "status": "pending"
    },
    "tags": []
   },
   "outputs": [],
   "source": [
    "# used in paper\n",
    "# A larger window (2000), with normalization\n",
    "uvp_plot = uvp_PXC_cov_n\n",
    "num_time_samples_list = [1,5,15]\n",
    "ylim = (5*1e-13,1e-9)\n",
    "dlys = uvp_plot.get_dlys(0) * 1e9\n",
    "delay_args = np.append(np.argwhere(dlys< -2000), np.argwhere(dlys> 2000))\n",
    "suptitle = \"Inpainted+xtalk removed+cable reflection removed, \"+r\"$|\\tau|>2000 {\\rm ns}$\"\n",
    "\n",
    "fig, axes = plt.subplots(figsize=(20,6), ncols=3, nrows=1)\n",
    "for ax_idx, num_time_samples in enumerate(num_time_samples_list):\n",
    "    col_idx = ax_idx%3\n",
    "    times = np.arange(num_time_samples)\n",
    "   \n",
    "    # Get all keys\n",
    "    keys = uvp_plot.get_all_keys()\n",
    "    blpt_weights = np.array([[1. for item in times] for key in keys])\n",
    "    ps_real_time_avg = []\n",
    "    for dly in delay_args:\n",
    "        ps = np.array([[uvp_plot.get_data(key)[time, dly]*uvp_plot.get_stats(\"autos_diag\", keys[0])[time,0].real\\\n",
    "                        /uvp_plot.get_stats(\"autos_diag\", key)[time, dly].real for time in times] for key in keys])\n",
    "        ps_real_time_avg.extend((np.sum(ps.real*blpt_weights, axis=1)/np.sum(blpt_weights, axis=1).clip(1e-10, np.inf)).flatten())\n",
    "    ps_real_time_avg = np.array(ps_real_time_avg) - np.mean(ps_real_time_avg)\n",
    "    # The ratio of error bars to the original one\n",
    "    psunits = uvp_plot.units\n",
    "    if \"h^-1\" in psunits: psunits = psunits.replace(\"h^-1\", \"h^{-1}\")\n",
    "    if \"h^-3\" in psunits: psunits = psunits.replace(\"h^-3\", \"h^{-3}\")\n",
    "    if \"Mpc\" in psunits and \"\\\\rm\" not in psunits: \n",
    "        psunits = psunits.replace(\"Mpc\", r\"{\\rm Mpc}\")\n",
    "    if \"pi\" in psunits and \"\\\\pi\" not in psunits: \n",
    "        psunits = psunits.replace(\"pi\", r\"\\pi\")\n",
    "    \n",
    "    ax = axes[col_idx]\n",
    "    Lap_sigma_list = np.zeros(num_time_samples)\n",
    "    for time in times:\n",
    "        Lap_sigma_list[time] = uvp_plot.get_stats(\"autos_diag\", keys[0])[time, 0].real \n",
    "    Gauss_sigma = np.sqrt(np.sum(Lap_sigma_list**2))/num_time_samples\n",
    "    vlim = 6*Gauss_sigma\n",
    "    n_in_bins, bins_edge, _ = ax.hist(ps_real_time_avg, log=True, density=True, bins=61, range=(-vlim, vlim), alpha=0.75,\n",
    "                           color='pink')\n",
    "    ax.set_xlim(-vlim, vlim)\n",
    "    ax.set_ylim(*ylim)\n",
    "    \n",
    "    px = np.linspace(-vlim, vlim, 100)\n",
    "    Lap_curve = np.zeros_like(px)\n",
    "    normalized_factor = 0\n",
    "    for time in times:\n",
    "        scale_factor = 1\n",
    "        for time_ in times:\n",
    "            if time_ != time:\n",
    "                scale_factor *= Lap_sigma_list[time]**2/(Lap_sigma_list[time]**2-Lap_sigma_list[time_]**2)\n",
    "        normalized_factor += scale_factor   \n",
    "        Lap_curve += np.exp(-np.sqrt(2)*np.abs(px)/Lap_sigma_list[time]*num_time_samples)/np.sqrt(2)/Lap_sigma_list[time]*num_time_samples*scale_factor\n",
    "    \n",
    "    # Calculate the equivalent Gaussian pdf\n",
    "    Gauss_curve = np.exp(-px**2/2/Gauss_sigma**2)/np.sqrt(2*np.pi*Gauss_sigma**2)\n",
    "    \n",
    "    if np.isclose(normalized_factor,1,rtol=5e-1):\n",
    "        ax.plot(px, Lap_curve, ls='-', lw=2, label=\"sum of Laplacian\", c='cyan')\n",
    "    ax.plot(px, Gauss_curve, ls='--', lw=2, label='Gaussian', c='slategrey')\n",
    "    \n",
    "    # confidence interval\n",
    "    ax.axvline(x=3*Gauss_sigma, c='k', lw=1, ls=':')\n",
    "    ax.axvline(x=-3*Gauss_sigma, c='k', lw=1, ls=':')\n",
    "    ax.axvline(x=5*Gauss_sigma, c='navy', lw=1, ls=':')\n",
    "    ax.axvline(x=-5*Gauss_sigma, c='navy', lw=1, ls=':')\n",
    "    if ax_idx == 0:\n",
    "        ax.text(2.2*Gauss_sigma, 9*1e-12, r'$3 \\sigma$', ha=\"center\", va=\"center\", rotation=0,\n",
    "            fontsize=14,\n",
    "            bbox=dict(boxstyle=\"rarrow\", fc=\"green\", alpha=0.5))\n",
    "        ax.text(4.2*Gauss_sigma, 1e-10, r'$5 \\sigma$', ha=\"center\", va=\"center\", rotation=0,\n",
    "            fontsize=14,\n",
    "            bbox=dict(boxstyle=\"rarrow\", fc=\"green\", alpha=0.5))\n",
    "        ax.text(-2.2*Gauss_sigma, 9*1e-12, r'$3 \\sigma$', ha=\"center\", va=\"center\", rotation=0,\n",
    "            fontsize=14,\n",
    "            bbox=dict(boxstyle=\"larrow\", fc=\"green\", alpha=0.5))\n",
    "        ax.text(-4.2*Gauss_sigma, 1e-10, r'$5 \\sigma$', ha=\"center\", va=\"center\", rotation=0,\n",
    "            fontsize=14,\n",
    "            bbox=dict(boxstyle=\"larrow\", fc=\"green\", alpha=0.5))\n",
    "    \n",
    "    ax.tick_params(which='both', labelsize=16, length=3, width=0.5)\n",
    "    ax.xaxis.set_minor_locator(ticker.MultipleLocator(1e9))\n",
    "    xticks = ax.get_xticks()\n",
    "    ax.set_xticklabels(xticks/1e10)\n",
    "    ax.set_xlabel(\"$P(k_\\parallel)$ $[\\\\times 10^{10}\\,%s]$\" % psunits, fontsize=16)\n",
    "    if col_idx == 0: \n",
    "        ax.set_ylabel(\"pdf\", fontsize=16)\n",
    "    if ax_idx == 0:\n",
    "        ax.legend(loc='lower right', fontsize=14)\n",
    "    ax.set_title(\"Average over \\n{} timestamp(s)\".format(num_time_samples),bbox=dict(fc='wheat', alpha=0.5), fontsize=16, pad=15)\n",
    "fig.subplots_adjust(top=0.8)\n",
    "fig.suptitle(suptitle, fontsize=20, bbox=dict(fc='gold', alpha=0.5), x=0.5, y=0.99)\n",
    "print(len(uvp_plot.get_all_keys())*len(delay_args))"
   ]
  },
  {
   "cell_type": "code",
   "execution_count": null,
   "id": "73754bb3",
   "metadata": {
    "papermill": {
     "duration": null,
     "end_time": null,
     "exception": null,
     "start_time": null,
     "status": "pending"
    },
    "tags": []
   },
   "outputs": [],
   "source": [
    "# used in paper\n",
    "# A larger window (500-1500), with normalization\n",
    "uvp_plot = uvp_PXC_cov_n\n",
    "num_time_samples_list = [1,5,15]\n",
    "ylim = (5*1e-13,1e-9)\n",
    "dlys = uvp_plot.get_dlys(0) * 1e9\n",
    "delay_args = np.append(np.argwhere((dlys< -500)*(dlys>-1500)), np.argwhere((dlys< 1500)*(dlys>500)))\n",
    "suptitle = \"Inpainted+xtalk removed+cable reflection removed, \" + r\"$500\\,{\\rm ns}<|\\tau|<1500\\,{\\rm ns}$\"\n",
    "\n",
    "fig, axes = plt.subplots(figsize=(20,6), ncols=3, nrows=1)\n",
    "for ax_idx, num_time_samples in enumerate(num_time_samples_list):\n",
    "    col_idx = ax_idx%3\n",
    "    times = np.arange(num_time_samples)\n",
    "   \n",
    "    # Get all keys\n",
    "    keys = uvp_plot.get_all_keys()\n",
    "    blpt_weights = np.array([[1. for item in times] for key in keys])\n",
    "    ps_real_time_avg = []\n",
    "    for dly in delay_args:\n",
    "        ps = np.array([[uvp_plot.get_data(key)[time, dly]*uvp_plot.get_stats(\"autos_diag\", keys[0])[time,0].real\\\n",
    "                        /uvp_plot.get_stats(\"autos_diag\", key)[time, dly].real for time in times] for key in keys])\n",
    "        ps_real_time_avg.extend((np.sum(ps.real*blpt_weights, axis=1)/np.sum(blpt_weights, axis=1).clip(1e-10, np.inf)).flatten())\n",
    "    ps_real_time_avg = np.array(ps_real_time_avg) - np.mean(ps_real_time_avg)\n",
    "    # The ratio of error bars to the original one\n",
    "    psunits = uvp_plot.units\n",
    "    if \"h^-1\" in psunits: psunits = psunits.replace(\"h^-1\", \"h^{-1}\")\n",
    "    if \"h^-3\" in psunits: psunits = psunits.replace(\"h^-3\", \"h^{-3}\")\n",
    "    if \"Mpc\" in psunits and \"\\\\rm\" not in psunits: \n",
    "        psunits = psunits.replace(\"Mpc\", r\"{\\rm Mpc}\")\n",
    "    if \"pi\" in psunits and \"\\\\pi\" not in psunits: \n",
    "        psunits = psunits.replace(\"pi\", r\"\\pi\")\n",
    "    \n",
    "    ax = axes[col_idx]\n",
    "    Lap_sigma_list = np.zeros(num_time_samples)\n",
    "    for time in times:\n",
    "        Lap_sigma_list[time] = uvp_plot.get_stats(\"autos_diag\", keys[0])[time, 0].real \n",
    "    Gauss_sigma = np.sqrt(np.sum(Lap_sigma_list**2))/num_time_samples\n",
    "    vlim = 6*Gauss_sigma\n",
    "    n_in_bins, bins_edge, _ = ax.hist(ps_real_time_avg, log=True, density=True, bins=61, range=(-vlim, vlim), alpha=0.75,\n",
    "                           color='pink')\n",
    "    ax.set_xlim(-vlim, vlim)\n",
    "    ax.set_ylim(*ylim)\n",
    "    \n",
    "    px = np.linspace(-vlim, vlim, 100)\n",
    "    Lap_curve = np.zeros_like(px)\n",
    "    normalized_factor = 0\n",
    "    for time in times:\n",
    "        scale_factor = 1\n",
    "        for time_ in times:\n",
    "            if time_ != time:\n",
    "                scale_factor *= Lap_sigma_list[time]**2/(Lap_sigma_list[time]**2-Lap_sigma_list[time_]**2)\n",
    "        normalized_factor += scale_factor   \n",
    "        Lap_curve += np.exp(-np.sqrt(2)*np.abs(px)/Lap_sigma_list[time]*num_time_samples)/np.sqrt(2)/Lap_sigma_list[time]*num_time_samples*scale_factor\n",
    "    \n",
    "    # Calculate the equivalent Gaussian pdf\n",
    "    Gauss_curve = np.exp(-px**2/2/Gauss_sigma**2)/np.sqrt(2*np.pi*Gauss_sigma**2)\n",
    "    \n",
    "    if np.isclose(normalized_factor,1,rtol=5e-1):\n",
    "        ax.plot(px, Lap_curve, ls='-', lw=2, label=\"sum of Laplacian\", c='cyan')\n",
    "    ax.plot(px, Gauss_curve, ls='--', lw=2, label='Gaussian', c='slategrey')\n",
    "    \n",
    "    # confidence interval\n",
    "    ax.axvline(x=3*Gauss_sigma, c='k', lw=1, ls=':')\n",
    "    ax.axvline(x=-3*Gauss_sigma, c='k', lw=1, ls=':')\n",
    "    ax.axvline(x=5*Gauss_sigma, c='navy', lw=1, ls=':')\n",
    "    ax.axvline(x=-5*Gauss_sigma, c='navy', lw=1, ls=':')\n",
    "    if ax_idx == 0:\n",
    "        ax.text(2.2*Gauss_sigma, 9*1e-12, r'$3 \\sigma$', ha=\"center\", va=\"center\", rotation=0,\n",
    "            fontsize=14,\n",
    "            bbox=dict(boxstyle=\"rarrow\", fc=\"green\", alpha=0.5))\n",
    "        ax.text(4.2*Gauss_sigma, 1e-10, r'$5 \\sigma$', ha=\"center\", va=\"center\", rotation=0,\n",
    "            fontsize=14,\n",
    "            bbox=dict(boxstyle=\"rarrow\", fc=\"green\", alpha=0.5))\n",
    "        ax.text(-2.2*Gauss_sigma, 9*1e-12, r'$3 \\sigma$', ha=\"center\", va=\"center\", rotation=0,\n",
    "            fontsize=14,\n",
    "            bbox=dict(boxstyle=\"larrow\", fc=\"green\", alpha=0.5))\n",
    "        ax.text(-4.2*Gauss_sigma, 1e-10, r'$5 \\sigma$', ha=\"center\", va=\"center\", rotation=0,\n",
    "            fontsize=14,\n",
    "            bbox=dict(boxstyle=\"larrow\", fc=\"green\", alpha=0.5))\n",
    "    \n",
    "    ax.tick_params(which='both', labelsize=16, length=3, width=0.5)\n",
    "    ax.xaxis.set_minor_locator(ticker.MultipleLocator(1e9))\n",
    "    xticks = ax.get_xticks()\n",
    "    ax.set_xticklabels(xticks/1e10)\n",
    "    ax.set_xlabel(\"$P(k_\\parallel)$ $[\\\\times 10^{10}\\,%s]$\" % psunits, fontsize=16)\n",
    "    if col_idx == 0: \n",
    "        ax.set_ylabel(\"pdf\", fontsize=16)\n",
    "    if ax_idx == 0:\n",
    "        ax.legend(loc='lower right', fontsize=14)\n",
    "    ax.set_title(\"Average over \\n{} timestamp(s)\".format(num_time_samples),bbox=dict(fc='wheat', alpha=0.5), fontsize=16, pad=15)\n",
    "fig.subplots_adjust(top=0.8)\n",
    "fig.suptitle(suptitle, fontsize=20, bbox=dict(fc='gold', alpha=0.5), x=0.5, y=0.99)\n",
    "print(len(uvp_plot.get_all_keys())*len(delay_args))"
   ]
  },
  {
   "cell_type": "code",
   "execution_count": null,
   "id": "d1ae11d8",
   "metadata": {
    "papermill": {
     "duration": null,
     "end_time": null,
     "exception": null,
     "start_time": null,
     "status": "pending"
    },
    "tags": []
   },
   "outputs": [],
   "source": []
  }
 ],
 "metadata": {
  "kernelspec": {
   "display_name": "Python 3 (ipykernel)",
   "language": "python",
   "name": "python3"
  },
  "language_info": {
   "codemirror_mode": {
    "name": "ipython",
    "version": 3
   },
   "file_extension": ".py",
   "mimetype": "text/x-python",
   "name": "python",
   "nbconvert_exporter": "python",
   "pygments_lexer": "ipython3",
   "version": "3.9.6"
  },
  "papermill": {
   "default_parameters": {},
   "duration": null,
   "end_time": null,
   "environment_variables": {},
   "exception": null,
   "input_path": "PaperPlots-IDR2_2.ipynb",
   "output_path": "PaperPlots-IDR2_2_437335.ipynb",
   "parameters": {},
   "start_time": "2022-03-10T14:53:05.961148",
   "version": "2.3.4"
  }
 },
 "nbformat": 4,
 "nbformat_minor": 5
}