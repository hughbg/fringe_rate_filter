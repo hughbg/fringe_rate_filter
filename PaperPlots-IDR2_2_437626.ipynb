{
 "cells": [
  {
   "cell_type": "code",
   "execution_count": 1,
   "id": "ab4d1af5",
   "metadata": {
    "execution": {
     "iopub.execute_input": "2022-03-10T16:39:04.542471Z",
     "iopub.status.busy": "2022-03-10T16:39:04.541259Z",
     "iopub.status.idle": "2022-03-10T16:39:04.550522Z",
     "shell.execute_reply": "2022-03-10T16:39:04.551308Z"
    },
    "papermill": {
     "duration": 0.119387,
     "end_time": "2022-03-10T16:39:04.551573",
     "exception": false,
     "start_time": "2022-03-10T16:39:04.432186",
     "status": "completed"
    },
    "tags": []
   },
   "outputs": [
    {
     "data": {
      "text/html": [
       "\n",
       "<style>\n",
       "    div#notebook-container    { width: 95%; }\n",
       "    div#menubar-container     { width: 65%; }\n",
       "    div#maintoolbar-container { width: 99%; }\n",
       "</style>ilter\n"
      ],
      "text/plain": [
       "<IPython.core.display.HTML object>"
      ]
     },
     "metadata": {},
     "output_type": "display_data"
    },
    {
     "data": {
      "text/html": [
       "<style>div.output_scroll { height: 200em; }</style>"
      ],
      "text/plain": [
       "<IPython.core.display.HTML object>"
      ]
     },
     "metadata": {},
     "output_type": "display_data"
    }
   ],
   "source": [
    "from IPython.display import display, HTML\n",
    "\n",
    "display(HTML(data=\"\"\"\n",
    "<style>\n",
    "    div#notebook-container    { width: 95%; }\n",
    "    div#menubar-container     { width: 65%; }\n",
    "    div#maintoolbar-container { width: 99%; }\n",
    "</style>ilter\n",
    "\"\"\"))\n",
    "display(HTML(\"<style>div.output_scroll { height: 200em; }</style>\"))\n"
   ]
  },
  {
   "cell_type": "code",
   "execution_count": 2,
   "id": "9bc7726b",
   "metadata": {
    "execution": {
     "iopub.execute_input": "2022-03-10T16:39:04.681828Z",
     "iopub.status.busy": "2022-03-10T16:39:04.680725Z",
     "iopub.status.idle": "2022-03-10T16:39:04.683310Z",
     "shell.execute_reply": "2022-03-10T16:39:04.681308Z"
    },
    "papermill": {
     "duration": 0.071682,
     "end_time": "2022-03-10T16:39:04.683453",
     "exception": false,
     "start_time": "2022-03-10T16:39:04.611771",
     "status": "completed"
    },
    "tags": []
   },
   "outputs": [
    {
     "data": {
      "text/plain": [
       "'/lustre/aoc/projects/hera/hgarsden'"
      ]
     },
     "execution_count": 2,
     "metadata": {},
     "output_type": "execute_result"
    }
   ],
   "source": [
    "pwd"
   ]
  },
  {
   "cell_type": "code",
   "execution_count": 3,
   "id": "8105087c",
   "metadata": {
    "execution": {
     "iopub.execute_input": "2022-03-10T16:39:04.814111Z",
     "iopub.status.busy": "2022-03-10T16:39:04.813521Z",
     "iopub.status.idle": "2022-03-10T16:39:04.943815Z",
     "shell.execute_reply": "2022-03-10T16:39:04.942431Z"
    },
    "papermill": {
     "duration": 0.198811,
     "end_time": "2022-03-10T16:39:04.944033",
     "exception": false,
     "start_time": "2022-03-10T16:39:04.745222",
     "status": "completed"
    },
    "tags": []
   },
   "outputs": [
    {
     "name": "stdout",
     "output_type": "stream",
     "text": [
      "PaperPlots-IDR2_2_437335.ipynb\r\n",
      "PaperPlots-IDR2_2_437336.ipynb\r\n",
      "PaperPlots-IDR2_2_437495.ipynb\r\n",
      "PaperPlots-IDR2_2_437503.ipynb\r\n",
      "PaperPlots-IDR2_2_437626.ipynb\r\n",
      "PaperPlots-IDR2_2.ipynb\r\n",
      "PaperPlots-IDR2_2_orig.ipynb\r\n",
      "PaperPlots-IDR2_2_out.ipynb\r\n",
      "PaperPlots-IDR2_2_sim_to_match_orig.ipynb\r\n",
      "PaperPlots-null_test_for_histed_noise_dominated_bandpowers.ipynb\r\n",
      "PaperPlots-null_test_for_histed_noise_dominated_bandpowers_orig.ipynb\r\n",
      "PaperPlots-null_test_for_histed_noise_dominated_bandpowers_out.ipynb\r\n",
      "Untitled.ipynb\r\n"
     ]
    }
   ],
   "source": [
    "ls *ipynb"
   ]
  },
  {
   "cell_type": "code",
   "execution_count": 4,
   "id": "377680b1",
   "metadata": {
    "execution": {
     "iopub.execute_input": "2022-03-10T16:39:05.097569Z",
     "iopub.status.busy": "2022-03-10T16:39:05.096888Z",
     "iopub.status.idle": "2022-03-10T16:39:05.098593Z",
     "shell.execute_reply": "2022-03-10T16:39:05.098106Z"
    },
    "papermill": {
     "duration": 0.070069,
     "end_time": "2022-03-10T16:39:05.098740",
     "exception": false,
     "start_time": "2022-03-10T16:39:05.028671",
     "status": "completed"
    },
    "tags": []
   },
   "outputs": [],
   "source": [
    "import sys\n",
    "sys.path.append(\"/users/hgarsden/.local/lib/python3.9/site-packages\")"
   ]
  },
  {
   "cell_type": "code",
   "execution_count": 5,
   "id": "59bc8d26",
   "metadata": {
    "execution": {
     "iopub.execute_input": "2022-03-10T16:39:05.227960Z",
     "iopub.status.busy": "2022-03-10T16:39:05.226841Z",
     "iopub.status.idle": "2022-03-10T16:39:10.314057Z",
     "shell.execute_reply": "2022-03-10T16:39:10.314850Z"
    },
    "papermill": {
     "duration": 5.156132,
     "end_time": "2022-03-10T16:39:10.315031",
     "exception": false,
     "start_time": "2022-03-10T16:39:05.158899",
     "status": "completed"
    },
    "scrolled": true,
    "tags": []
   },
   "outputs": [],
   "source": [
    "%matplotlib inline\n",
    "#%load_ext line_profiler\n",
    "import numpy as np\n",
    "import matplotlib\n",
    "import matplotlib.pyplot as plt\n",
    "import glob\n",
    "import hera_cal as hc\n",
    "import hera_pspec as hp\n",
    "from hera_pspec.data import DATA_PATH\n",
    "from pyuvdata import UVData, UVCal, UVFlag, utils as uvutils\n",
    "from scipy import stats, signal, interpolate\n",
    "import copy\n",
    "import matplotlib.gridspec as gridspec\n",
    "from astropy import constants\n",
    "import uvtools as uvt\n",
    "import cycler\n",
    "import itertools\n",
    "import os\n",
    "from collections import OrderedDict as odict"
   ]
  },
  {
   "cell_type": "code",
   "execution_count": 6,
   "id": "5dec0191",
   "metadata": {
    "execution": {
     "iopub.execute_input": "2022-03-10T16:39:10.443855Z",
     "iopub.status.busy": "2022-03-10T16:39:10.442362Z",
     "iopub.status.idle": "2022-03-10T16:39:10.453799Z",
     "shell.execute_reply": "2022-03-10T16:39:10.454235Z"
    },
    "papermill": {
     "duration": 0.077094,
     "end_time": "2022-03-10T16:39:10.454402",
     "exception": false,
     "start_time": "2022-03-10T16:39:10.377308",
     "status": "completed"
    },
    "tags": []
   },
   "outputs": [],
   "source": [
    "from mpl_toolkits.axes_grid1.inset_locator import inset_axes"
   ]
  },
  {
   "cell_type": "code",
   "execution_count": 7,
   "id": "3140c1c5",
   "metadata": {
    "execution": {
     "iopub.execute_input": "2022-03-10T16:39:10.579615Z",
     "iopub.status.busy": "2022-03-10T16:39:10.578914Z",
     "iopub.status.idle": "2022-03-10T16:39:10.580624Z",
     "shell.execute_reply": "2022-03-10T16:39:10.580163Z"
    },
    "papermill": {
     "duration": 0.066476,
     "end_time": "2022-03-10T16:39:10.580774",
     "exception": false,
     "start_time": "2022-03-10T16:39:10.514298",
     "status": "completed"
    },
    "tags": []
   },
   "outputs": [],
   "source": [
    "import matplotlib.ticker as ticker"
   ]
  },
  {
   "cell_type": "code",
   "execution_count": 8,
   "id": "448cf779",
   "metadata": {
    "execution": {
     "iopub.execute_input": "2022-03-10T16:39:10.707431Z",
     "iopub.status.busy": "2022-03-10T16:39:10.706743Z",
     "iopub.status.idle": "2022-03-10T16:39:10.708422Z",
     "shell.execute_reply": "2022-03-10T16:39:10.707948Z"
    },
    "papermill": {
     "duration": 0.067829,
     "end_time": "2022-03-10T16:39:10.708553",
     "exception": false,
     "start_time": "2022-03-10T16:39:10.640724",
     "status": "completed"
    },
    "tags": []
   },
   "outputs": [],
   "source": [
    "def fmt(x, pos):\n",
    "    a, b = '{:.2e}'.format(x).split('e')\n",
    "    b = int(b)\n",
    "    return r'${} \\times 10^{{{}}}$'.format(a, b)"
   ]
  },
  {
   "cell_type": "code",
   "execution_count": 9,
   "id": "f0ceaaf4",
   "metadata": {
    "execution": {
     "iopub.execute_input": "2022-03-10T16:39:10.834996Z",
     "iopub.status.busy": "2022-03-10T16:39:10.834338Z",
     "iopub.status.idle": "2022-03-10T16:39:10.835976Z",
     "shell.execute_reply": "2022-03-10T16:39:10.835493Z"
    },
    "papermill": {
     "duration": 0.067445,
     "end_time": "2022-03-10T16:39:10.836108",
     "exception": false,
     "start_time": "2022-03-10T16:39:10.768663",
     "status": "completed"
    },
    "tags": []
   },
   "outputs": [],
   "source": [
    "import matplotlib.font_manager\n",
    "\n",
    "sim_file = \"fringe_rate_filter/cleaned_sim_1000_256.uvh5\""
   ]
  },
  {
   "cell_type": "markdown",
   "id": "b52ba324",
   "metadata": {
    "papermill": {
     "duration": 0.060987,
     "end_time": "2022-03-10T16:39:10.956575",
     "exception": false,
     "start_time": "2022-03-10T16:39:10.895588",
     "status": "completed"
    },
    "tags": []
   },
   "source": [
    "### noise error bar"
   ]
  },
  {
   "cell_type": "code",
   "execution_count": 10,
   "id": "414fc384",
   "metadata": {
    "execution": {
     "iopub.execute_input": "2022-03-10T16:39:11.082649Z",
     "iopub.status.busy": "2022-03-10T16:39:11.079947Z",
     "iopub.status.idle": "2022-03-10T16:39:11.085300Z",
     "shell.execute_reply": "2022-03-10T16:39:11.084833Z"
    },
    "papermill": {
     "duration": 0.06994,
     "end_time": "2022-03-10T16:39:11.085438",
     "exception": false,
     "start_time": "2022-03-10T16:39:11.015498",
     "status": "completed"
    },
    "tags": []
   },
   "outputs": [],
   "source": [
    "# LST binned, Inpainted & xtalk subtracted files\n",
    "root = \"/lustre/aoc/projects/hera/H1C_IDR2/IDR2_2_pspec/v2/one_group/data/\"\n",
    "dfiles = sorted(glob.glob(root + \"zen.grp1.of1.LST.1*.HH.OCRSLP2X.uvh5\"))\n",
    "dfiles[5] = sim_file"
   ]
  },
  {
   "cell_type": "code",
   "execution_count": 11,
   "id": "32fa387e",
   "metadata": {
    "execution": {
     "iopub.execute_input": "2022-03-10T16:39:11.217263Z",
     "iopub.status.busy": "2022-03-10T16:39:11.216007Z",
     "iopub.status.idle": "2022-03-10T16:39:12.763581Z",
     "shell.execute_reply": "2022-03-10T16:39:12.764300Z"
    },
    "papermill": {
     "duration": 1.6185,
     "end_time": "2022-03-10T16:39:12.764458",
     "exception": false,
     "start_time": "2022-03-10T16:39:11.145958",
     "status": "completed"
    },
    "tags": []
   },
   "outputs": [
    {
     "name": "stdout",
     "output_type": "stream",
     "text": [
      "fringe_rate_filter/cleaned_sim_1000_256.uvh5\n"
     ]
    },
    {
     "name": "stderr",
     "output_type": "stream",
     "text": [
      "Telescope hera_sim is not in known_telescopes.\n"
     ]
    }
   ],
   "source": [
    "uvd_ = UVData()\n",
    "print(dfiles[5])\n",
    "uvd_.read(dfiles[5], read_data=False)"
   ]
  },
  {
   "cell_type": "code",
   "execution_count": 12,
   "id": "7a0a247e",
   "metadata": {
    "execution": {
     "iopub.execute_input": "2022-03-10T16:39:12.905218Z",
     "iopub.status.busy": "2022-03-10T16:39:12.904694Z",
     "iopub.status.idle": "2022-03-10T16:39:12.922668Z",
     "shell.execute_reply": "2022-03-10T16:39:12.923407Z"
    },
    "papermill": {
     "duration": 0.099242,
     "end_time": "2022-03-10T16:39:12.923570",
     "exception": false,
     "start_time": "2022-03-10T16:39:12.824328",
     "status": "completed"
    },
    "tags": []
   },
   "outputs": [],
   "source": [
    "ntimes = 60      # Use this many\n",
    "times = np.unique(uvd_.time_array)\n",
    "time_range = (times[times.size//2-ntimes//2], times[times.size//2+ntimes//2-1])\n",
    "\n",
    "xants = [0,2,11,24,50,53,54,67,69,98,122,136,139]"
   ]
  },
  {
   "cell_type": "code",
   "execution_count": 13,
   "id": "9aeda576",
   "metadata": {
    "execution": {
     "iopub.execute_input": "2022-03-10T16:39:13.066228Z",
     "iopub.status.busy": "2022-03-10T16:39:13.065663Z",
     "iopub.status.idle": "2022-03-10T16:39:13.119391Z",
     "shell.execute_reply": "2022-03-10T16:39:13.120070Z"
    },
    "papermill": {
     "duration": 0.135928,
     "end_time": "2022-03-10T16:39:13.120224",
     "exception": false,
     "start_time": "2022-03-10T16:39:12.984296",
     "status": "completed"
    },
    "tags": []
   },
   "outputs": [],
   "source": [
    "# short baseline group\n",
    "bl_len_range = (14, 15)\n",
    "bl_deg_range = (0, 1)\n",
    "reds, lens, angs = hp.utils.get_reds(uvd_, bl_len_range=bl_len_range, bl_deg_range=bl_deg_range, xants=xants)\n",
    "bls = hp.utils.flatten(reds)"
   ]
  },
  {
   "cell_type": "code",
   "execution_count": 14,
   "id": "ede1ae53",
   "metadata": {
    "execution": {
     "iopub.execute_input": "2022-03-10T16:39:13.245298Z",
     "iopub.status.busy": "2022-03-10T16:39:13.244700Z",
     "iopub.status.idle": "2022-03-10T16:39:13.246247Z",
     "shell.execute_reply": "2022-03-10T16:39:13.245793Z"
    },
    "papermill": {
     "duration": 0.06618,
     "end_time": "2022-03-10T16:39:13.246367",
     "exception": false,
     "start_time": "2022-03-10T16:39:13.180187",
     "status": "completed"
    },
    "tags": []
   },
   "outputs": [],
   "source": [
    "#uvd_.get"
   ]
  },
  {
   "cell_type": "code",
   "execution_count": 15,
   "id": "e9d70158",
   "metadata": {
    "execution": {
     "iopub.execute_input": "2022-03-10T16:39:13.386073Z",
     "iopub.status.busy": "2022-03-10T16:39:13.385515Z",
     "iopub.status.idle": "2022-03-10T16:41:25.943133Z",
     "shell.execute_reply": "2022-03-10T16:41:25.943858Z"
    },
    "papermill": {
     "duration": 132.638228,
     "end_time": "2022-03-10T16:41:25.944038",
     "exception": false,
     "start_time": "2022-03-10T16:39:13.305810",
     "status": "completed"
    },
    "tags": []
   },
   "outputs": [
    {
     "name": "stdout",
     "output_type": "stream",
     "text": [
      "fringe_rate_filter/cleaned_sim_1000_256.uvh5\n"
     ]
    }
   ],
   "source": [
    "print(dfiles[5])\n",
    "uvd_.read(dfiles[5], time_range=time_range, antenna_nums=np.array(bls).flatten(), polarizations=['xx','yy'])"
   ]
  },
  {
   "cell_type": "code",
   "execution_count": 16,
   "id": "0665255a",
   "metadata": {
    "execution": {
     "iopub.execute_input": "2022-03-10T16:41:26.073865Z",
     "iopub.status.busy": "2022-03-10T16:41:26.072875Z",
     "iopub.status.idle": "2022-03-10T16:41:26.176050Z",
     "shell.execute_reply": "2022-03-10T16:41:26.176807Z"
    },
    "papermill": {
     "duration": 0.17039,
     "end_time": "2022-03-10T16:41:26.176971",
     "exception": false,
     "start_time": "2022-03-10T16:41:26.006581",
     "status": "completed"
    },
    "tags": []
   },
   "outputs": [],
   "source": [
    "beam = hp.PSpecBeamUV(\"/lustre/aoc/projects/hera/nkern/beams/NF_HERA_IQ_power_beam_healpix128.fits\")"
   ]
  },
  {
   "cell_type": "code",
   "execution_count": 17,
   "id": "f642e79a",
   "metadata": {
    "execution": {
     "iopub.execute_input": "2022-03-10T16:41:26.324459Z",
     "iopub.status.busy": "2022-03-10T16:41:26.323913Z",
     "iopub.status.idle": "2022-03-10T16:41:26.719398Z",
     "shell.execute_reply": "2022-03-10T16:41:26.720161Z"
    },
    "papermill": {
     "duration": 0.47963,
     "end_time": "2022-03-10T16:41:26.720360",
     "exception": false,
     "start_time": "2022-03-10T16:41:26.240730",
     "status": "completed"
    },
    "tags": []
   },
   "outputs": [],
   "source": [
    "uvd = hp.pstokes.construct_pstokes(uvd_, uvd_, pstokes='pI')"
   ]
  },
  {
   "cell_type": "code",
   "execution_count": 18,
   "id": "052dbbe9",
   "metadata": {
    "execution": {
     "iopub.execute_input": "2022-03-10T16:41:26.863183Z",
     "iopub.status.busy": "2022-03-10T16:41:26.862629Z",
     "iopub.status.idle": "2022-03-10T16:46:20.281201Z",
     "shell.execute_reply": "2022-03-10T16:46:20.281577Z"
    },
    "papermill": {
     "duration": 293.499398,
     "end_time": "2022-03-10T16:46:20.281735",
     "exception": false,
     "start_time": "2022-03-10T16:41:26.782337",
     "status": "completed"
    },
    "tags": []
   },
   "outputs": [
    {
     "name": "stdout",
     "output_type": "stream",
     "text": [
      "bl range for pI_shortbl (14, 15)\n",
      "Warning: LST bins in dsets misaligned by more than 15 seconds\n"
     ]
    },
    {
     "name": "stdout",
     "output_type": "stream",
     "text": [
      "Warning: LST bins in dsets misaligned by more than 15 seconds\n"
     ]
    },
    {
     "name": "stderr",
     "output_type": "stream",
     "text": [
      "Producing time-uniform covariance matrices between bandpowers.\n",
      "Casting complex values to real discards the imaginary part\n"
     ]
    },
    {
     "name": "stdout",
     "output_type": "stream",
     "text": [
      "\n"
     ]
    }
   ],
   "source": [
    "# pspec at cross time, short baseline group\n",
    "print(\"bl range for pI_shortbl\", bl_len_range)\n",
    "\n",
    "hp.pspecdata.pspec_run([copy.deepcopy(uvd)], 'pspec_nulltest.h5', groupname='pI_shortbl', spw_ranges=[(0, 180)],\n",
    "                       dset_pairs=[(0,0)], pol_pairs=['pI'], input_data_weight='identity', norm='I',\n",
    "                       rephase_to_dset=True, interleave_times=True, Jy2mK=True, overwrite=True, verbose=False,\n",
    "                       bl_len_range=bl_len_range, bl_deg_range=bl_deg_range, beam=beam, taper='bh',\n",
    "                       broadcast_dset_flags=True, time_thresh=0.99, store_cov_diag=True, cov_model='autos', \n",
    "                       exclude_auto_bls=True, exclude_cross_bls=False, exclude_permutations=True)\n",
    "\n",
    "print()"
   ]
  },
  {
   "cell_type": "code",
   "execution_count": 19,
   "id": "870ad55a",
   "metadata": {
    "execution": {
     "iopub.execute_input": "2022-03-10T16:46:20.407700Z",
     "iopub.status.busy": "2022-03-10T16:46:20.407250Z",
     "iopub.status.idle": "2022-03-10T16:46:20.428725Z",
     "shell.execute_reply": "2022-03-10T16:46:20.429281Z"
    },
    "papermill": {
     "duration": 0.094231,
     "end_time": "2022-03-10T16:46:20.429389",
     "exception": false,
     "start_time": "2022-03-10T16:46:20.335158",
     "status": "completed"
    },
    "tags": []
   },
   "outputs": [],
   "source": [
    "# intermediate baseline group\n",
    "bl_len_range = (40, 45)\n",
    "bl_deg_range = (0, 1)\n",
    "reds, lens, angs = hp.utils.get_reds(uvd_, bl_len_range=bl_len_range, bl_deg_range=bl_deg_range, xants=xants)\n",
    "bls = hp.utils.flatten(reds)"
   ]
  },
  {
   "cell_type": "code",
   "execution_count": 20,
   "id": "ca7ece6f",
   "metadata": {
    "execution": {
     "iopub.execute_input": "2022-03-10T16:46:20.553972Z",
     "iopub.status.busy": "2022-03-10T16:46:20.553490Z",
     "iopub.status.idle": "2022-03-10T16:47:35.061288Z",
     "shell.execute_reply": "2022-03-10T16:47:35.061664Z"
    },
    "papermill": {
     "duration": 74.580934,
     "end_time": "2022-03-10T16:47:35.061829",
     "exception": false,
     "start_time": "2022-03-10T16:46:20.480895",
     "status": "completed"
    },
    "tags": []
   },
   "outputs": [
    {
     "name": "stdout",
     "output_type": "stream",
     "text": [
      "bls range for pI_medbl (40, 45)\n"
     ]
    },
    {
     "name": "stdout",
     "output_type": "stream",
     "text": [
      "Warning: LST bins in dsets misaligned by more than 15 seconds\n"
     ]
    },
    {
     "name": "stdout",
     "output_type": "stream",
     "text": [
      "Warning: LST bins in dsets misaligned by more than 15 seconds\n"
     ]
    },
    {
     "name": "stderr",
     "output_type": "stream",
     "text": [
      "Producing time-uniform covariance matrices between bandpowers.\n",
      "Casting complex values to real discards the imaginary part\n"
     ]
    },
    {
     "name": "stdout",
     "output_type": "stream",
     "text": [
      "\n"
     ]
    }
   ],
   "source": [
    "# pspec at cross time, med baseline group\n",
    "print(\"bls range for pI_medbl\", bl_len_range)\n",
    "\n",
    "hp.pspecdata.pspec_run([copy.deepcopy(uvd)], 'pspec_nulltest.h5', groupname='pI_medbl', spw_ranges=[(0, 180)],\n",
    "                       dset_pairs=[(0,0)], pol_pairs=['pI'], input_data_weight='identity', norm='I',\n",
    "                       rephase_to_dset=True, interleave_times=True, Jy2mK=True, overwrite=True, verbose=False,\n",
    "                       bl_len_range=bl_len_range, bl_deg_range=bl_deg_range, beam=beam, taper='bh',\n",
    "                       broadcast_dset_flags=True, time_thresh=0.99, store_cov_diag=True, cov_model='autos', \n",
    "                       exclude_auto_bls=True, exclude_cross_bls=False, exclude_permutations=True)\n",
    "                       \n",
    "print()"
   ]
  },
  {
   "cell_type": "markdown",
   "id": "afb0448a",
   "metadata": {
    "papermill": {
     "duration": 0.052258,
     "end_time": "2022-03-10T16:47:35.168827",
     "exception": false,
     "start_time": "2022-03-10T16:47:35.116569",
     "status": "completed"
    },
    "tags": []
   },
   "source": [
    "### foreground_dependent error bar"
   ]
  },
  {
   "cell_type": "code",
   "execution_count": 21,
   "id": "a11f749a",
   "metadata": {
    "execution": {
     "iopub.execute_input": "2022-03-10T16:47:35.279898Z",
     "iopub.status.busy": "2022-03-10T16:47:35.279371Z",
     "iopub.status.idle": "2022-03-10T16:47:35.280709Z",
     "shell.execute_reply": "2022-03-10T16:47:35.280314Z"
    },
    "papermill": {
     "duration": 0.059478,
     "end_time": "2022-03-10T16:47:35.280806",
     "exception": false,
     "start_time": "2022-03-10T16:47:35.221328",
     "status": "completed"
    },
    "tags": []
   },
   "outputs": [],
   "source": [
    "# LST binned, Inpainted & xtalk subtracted files\n",
    "root = \"/lustre/aoc/projects/hera/H1C_IDR2/IDR2_2_pspec/v2/one_group/data/\"\n",
    "dfiles = sorted(glob.glob(root + \"zen.grp1.of1.LST.1*.HH.OCRSLP2X.uvh5\"))\n",
    "dfiles[5] = sim_file"
   ]
  },
  {
   "cell_type": "code",
   "execution_count": 22,
   "id": "eae7808e",
   "metadata": {
    "execution": {
     "iopub.execute_input": "2022-03-10T16:47:35.393219Z",
     "iopub.status.busy": "2022-03-10T16:47:35.392670Z",
     "iopub.status.idle": "2022-03-10T16:47:35.394725Z",
     "shell.execute_reply": "2022-03-10T16:47:35.393631Z"
    },
    "papermill": {
     "duration": 0.060609,
     "end_time": "2022-03-10T16:47:35.394823",
     "exception": false,
     "start_time": "2022-03-10T16:47:35.334214",
     "status": "completed"
    },
    "tags": []
   },
   "outputs": [
    {
     "data": {
      "text/plain": [
       "'fringe_rate_filter/cleaned_sim_1000_256.uvh5'"
      ]
     },
     "execution_count": 22,
     "metadata": {},
     "output_type": "execute_result"
    }
   ],
   "source": [
    "dfiles[5]"
   ]
  },
  {
   "cell_type": "code",
   "execution_count": 23,
   "id": "8e9a5645",
   "metadata": {
    "execution": {
     "iopub.execute_input": "2022-03-10T16:47:35.522871Z",
     "iopub.status.busy": "2022-03-10T16:47:35.522404Z",
     "iopub.status.idle": "2022-03-10T16:47:35.814994Z",
     "shell.execute_reply": "2022-03-10T16:47:35.815577Z"
    },
    "papermill": {
     "duration": 0.367386,
     "end_time": "2022-03-10T16:47:35.815730",
     "exception": false,
     "start_time": "2022-03-10T16:47:35.448344",
     "status": "completed"
    },
    "tags": []
   },
   "outputs": [
    {
     "name": "stdout",
     "output_type": "stream",
     "text": [
      "fringe_rate_filter/cleaned_sim_1000_256.uvh5\n"
     ]
    },
    {
     "name": "stderr",
     "output_type": "stream",
     "text": [
      "Telescope hera_sim is not in known_telescopes.\n"
     ]
    }
   ],
   "source": [
    "uvd_ = UVData()\n",
    "print(dfiles[5])\n",
    "uvd_.read(dfiles[5], read_data=False)"
   ]
  },
  {
   "cell_type": "code",
   "execution_count": 24,
   "id": "2adb490c",
   "metadata": {
    "execution": {
     "iopub.execute_input": "2022-03-10T16:47:35.952396Z",
     "iopub.status.busy": "2022-03-10T16:47:35.951896Z",
     "iopub.status.idle": "2022-03-10T16:47:35.953230Z",
     "shell.execute_reply": "2022-03-10T16:47:35.952834Z"
    },
    "papermill": {
     "duration": 0.083362,
     "end_time": "2022-03-10T16:47:35.953326",
     "exception": false,
     "start_time": "2022-03-10T16:47:35.869964",
     "status": "completed"
    },
    "tags": []
   },
   "outputs": [],
   "source": [
    "xants = [0,2,11,24,50,53,54,67,69,98,122,136,139]"
   ]
  },
  {
   "cell_type": "code",
   "execution_count": 25,
   "id": "231a6e25",
   "metadata": {
    "execution": {
     "iopub.execute_input": "2022-03-10T16:47:36.083799Z",
     "iopub.status.busy": "2022-03-10T16:47:36.083335Z",
     "iopub.status.idle": "2022-03-10T16:47:36.104024Z",
     "shell.execute_reply": "2022-03-10T16:47:36.104582Z"
    },
    "papermill": {
     "duration": 0.098208,
     "end_time": "2022-03-10T16:47:36.104712",
     "exception": false,
     "start_time": "2022-03-10T16:47:36.006504",
     "status": "completed"
    },
    "tags": []
   },
   "outputs": [],
   "source": [
    "# short baseline group\n",
    "bl_len_range = (14, 15)\n",
    "bl_deg_range = (0, 1)\n",
    "reds, lens, angs = hp.utils.get_reds(uvd_, bl_len_range=bl_len_range, bl_deg_range=bl_deg_range, xants=xants)\n",
    "bls = hp.utils.flatten(reds)"
   ]
  },
  {
   "cell_type": "code",
   "execution_count": 26,
   "id": "1a412066",
   "metadata": {
    "execution": {
     "iopub.execute_input": "2022-03-10T16:47:36.215600Z",
     "iopub.status.busy": "2022-03-10T16:47:36.215091Z",
     "iopub.status.idle": "2022-03-10T16:47:36.216412Z",
     "shell.execute_reply": "2022-03-10T16:47:36.216034Z"
    },
    "papermill": {
     "duration": 0.058148,
     "end_time": "2022-03-10T16:47:36.216503",
     "exception": false,
     "start_time": "2022-03-10T16:47:36.158355",
     "status": "completed"
    },
    "tags": []
   },
   "outputs": [],
   "source": [
    "refcal = '/lustre/aoc/projects/hera/H1C_IDR2/IDR2_2_pspec/v2/one_group/data/zen.grp1.of1.LST.1.50345.HH.OCRSLP2.allspws.refcal_smooth.calfits'"
   ]
  },
  {
   "cell_type": "code",
   "execution_count": 27,
   "id": "dd60a129",
   "metadata": {
    "execution": {
     "iopub.execute_input": "2022-03-10T16:47:36.330433Z",
     "iopub.status.busy": "2022-03-10T16:47:36.329920Z",
     "iopub.status.idle": "2022-03-10T16:47:36.331287Z",
     "shell.execute_reply": "2022-03-10T16:47:36.330887Z"
    },
    "papermill": {
     "duration": 0.060768,
     "end_time": "2022-03-10T16:47:36.331390",
     "exception": false,
     "start_time": "2022-03-10T16:47:36.270622",
     "status": "completed"
    },
    "tags": []
   },
   "outputs": [],
   "source": [
    "# intermediate baseline group\n",
    "#bl_len_range = (40, 45)\n",
    "#bl_deg_range = (0, 1)\n",
    "#reds, lens, angs = hp.utils.get_reds(uvd_, bl_len_range=bl_len_range, bl_deg_range=bl_deg_range, xants=xants)\n",
    "#bls = hp.utils.flatten(reds)"
   ]
  },
  {
   "cell_type": "code",
   "execution_count": 28,
   "id": "c496b695",
   "metadata": {
    "execution": {
     "iopub.execute_input": "2022-03-10T16:47:36.460860Z",
     "iopub.status.busy": "2022-03-10T16:47:36.460392Z",
     "iopub.status.idle": "2022-03-10T16:49:35.170815Z",
     "shell.execute_reply": "2022-03-10T16:49:35.171442Z"
    },
    "papermill": {
     "duration": 118.785369,
     "end_time": "2022-03-10T16:49:35.171581",
     "exception": false,
     "start_time": "2022-03-10T16:47:36.386212",
     "status": "completed"
    },
    "tags": []
   },
   "outputs": [
    {
     "name": "stdout",
     "output_type": "stream",
     "text": [
      "fringe_rate_filter/cleaned_sim_1000_256.uvh5\n"
     ]
    }
   ],
   "source": [
    "print(dfiles[5])\n",
    "uvd_.read(dfiles[5], time_range=time_range, antenna_nums=np.array(bls).flatten(), polarizations=['xx','yy'])"
   ]
  },
  {
   "cell_type": "markdown",
   "id": "b6749912",
   "metadata": {
    "papermill": {
     "duration": 0.055557,
     "end_time": "2022-03-10T16:49:35.284931",
     "exception": false,
     "start_time": "2022-03-10T16:49:35.229374",
     "status": "completed"
    },
    "tags": []
   },
   "source": [
    "### some parameters"
   ]
  },
  {
   "cell_type": "code",
   "execution_count": 29,
   "id": "1dc5d631",
   "metadata": {
    "execution": {
     "iopub.execute_input": "2022-03-10T16:49:35.404057Z",
     "iopub.status.busy": "2022-03-10T16:49:35.403502Z",
     "iopub.status.idle": "2022-03-10T16:49:35.405514Z",
     "shell.execute_reply": "2022-03-10T16:49:35.404475Z"
    },
    "papermill": {
     "duration": 0.065135,
     "end_time": "2022-03-10T16:49:35.405621",
     "exception": false,
     "start_time": "2022-03-10T16:49:35.340486",
     "status": "completed"
    },
    "tags": []
   },
   "outputs": [
    {
     "name": "stdout",
     "output_type": "stream",
     "text": [
      "21.48000037266036\n"
     ]
    }
   ],
   "source": [
    "print(np.mean(np.diff(np.unique(uvd_.time_array)))*24*3600)"
   ]
  },
  {
   "cell_type": "code",
   "execution_count": 30,
   "id": "308c8f82",
   "metadata": {
    "execution": {
     "iopub.execute_input": "2022-03-10T16:49:35.523215Z",
     "iopub.status.busy": "2022-03-10T16:49:35.522690Z",
     "iopub.status.idle": "2022-03-10T16:49:35.524642Z",
     "shell.execute_reply": "2022-03-10T16:49:35.523635Z"
    },
    "papermill": {
     "duration": 0.063761,
     "end_time": "2022-03-10T16:49:35.524775",
     "exception": false,
     "start_time": "2022-03-10T16:49:35.461014",
     "status": "completed"
    },
    "tags": []
   },
   "outputs": [
    {
     "name": "stdout",
     "output_type": "stream",
     "text": [
      "21.538810908041622\n"
     ]
    }
   ],
   "source": [
    "print(np.mean(np.diff(np.unique(uvd_.lst_array)))*24*3600/2/np.pi)"
   ]
  },
  {
   "cell_type": "code",
   "execution_count": 31,
   "id": "8738313f",
   "metadata": {
    "execution": {
     "iopub.execute_input": "2022-03-10T16:49:35.645041Z",
     "iopub.status.busy": "2022-03-10T16:49:35.644505Z",
     "iopub.status.idle": "2022-03-10T16:49:35.646562Z",
     "shell.execute_reply": "2022-03-10T16:49:35.645457Z"
    },
    "papermill": {
     "duration": 0.06591,
     "end_time": "2022-03-10T16:49:35.646668",
     "exception": false,
     "start_time": "2022-03-10T16:49:35.580758",
     "status": "completed"
    },
    "tags": []
   },
   "outputs": [
    {
     "data": {
      "text/plain": [
       "(8.55777389548382, 8.9107710742545)"
      ]
     },
     "execution_count": 31,
     "metadata": {},
     "output_type": "execute_result"
    }
   ],
   "source": [
    "np.unique(uvd_.lst_array)[0]/2/np.pi*24, np.unique(uvd_.lst_array)[-1]/2/np.pi*24"
   ]
  },
  {
   "cell_type": "code",
   "execution_count": 32,
   "id": "c394d8ba",
   "metadata": {
    "execution": {
     "iopub.execute_input": "2022-03-10T16:49:35.764805Z",
     "iopub.status.busy": "2022-03-10T16:49:35.764272Z",
     "iopub.status.idle": "2022-03-10T16:49:35.766305Z",
     "shell.execute_reply": "2022-03-10T16:49:35.765226Z"
    },
    "papermill": {
     "duration": 0.063318,
     "end_time": "2022-03-10T16:49:35.766412",
     "exception": false,
     "start_time": "2022-03-10T16:49:35.703094",
     "status": "completed"
    },
    "tags": []
   },
   "outputs": [
    {
     "data": {
      "text/plain": [
       "60"
      ]
     },
     "execution_count": 32,
     "metadata": {},
     "output_type": "execute_result"
    }
   ],
   "source": [
    "uvd_.Ntimes"
   ]
  },
  {
   "cell_type": "code",
   "execution_count": 33,
   "id": "cae03d78",
   "metadata": {
    "execution": {
     "iopub.execute_input": "2022-03-10T16:49:35.885048Z",
     "iopub.status.busy": "2022-03-10T16:49:35.884525Z",
     "iopub.status.idle": "2022-03-10T16:49:35.886534Z",
     "shell.execute_reply": "2022-03-10T16:49:35.885466Z"
    },
    "papermill": {
     "duration": 0.063798,
     "end_time": "2022-03-10T16:49:35.886639",
     "exception": false,
     "start_time": "2022-03-10T16:49:35.822841",
     "status": "completed"
    },
    "tags": []
   },
   "outputs": [
    {
     "data": {
      "text/plain": [
       "array([21.4799881, 21.4799881, 21.4799881, ..., 21.4799881, 21.4799881,\n",
       "       21.4799881])"
      ]
     },
     "execution_count": 33,
     "metadata": {},
     "output_type": "execute_result"
    }
   ],
   "source": [
    "uvd_.integration_time"
   ]
  },
  {
   "cell_type": "code",
   "execution_count": 34,
   "id": "a557cc9d",
   "metadata": {
    "execution": {
     "iopub.execute_input": "2022-03-10T16:49:36.005988Z",
     "iopub.status.busy": "2022-03-10T16:49:36.005460Z",
     "iopub.status.idle": "2022-03-10T16:49:36.007481Z",
     "shell.execute_reply": "2022-03-10T16:49:36.006406Z"
    },
    "papermill": {
     "duration": 0.063961,
     "end_time": "2022-03-10T16:49:36.007587",
     "exception": false,
     "start_time": "2022-03-10T16:49:35.943626",
     "status": "completed"
    },
    "tags": []
   },
   "outputs": [
    {
     "data": {
      "text/plain": [
       "(21.47998809814453,)"
      ]
     },
     "execution_count": 34,
     "metadata": {},
     "output_type": "execute_result"
    }
   ],
   "source": [
    "np.mean(uvd_.integration_time), "
   ]
  },
  {
   "cell_type": "code",
   "execution_count": 35,
   "id": "e93baa1f",
   "metadata": {
    "execution": {
     "iopub.execute_input": "2022-03-10T16:49:36.127638Z",
     "iopub.status.busy": "2022-03-10T16:49:36.126830Z",
     "iopub.status.idle": "2022-03-10T16:49:36.751526Z",
     "shell.execute_reply": "2022-03-10T16:49:36.752118Z"
    },
    "papermill": {
     "duration": 0.687444,
     "end_time": "2022-03-10T16:49:36.752260",
     "exception": false,
     "start_time": "2022-03-10T16:49:36.064816",
     "status": "completed"
    },
    "tags": []
   },
   "outputs": [
    {
     "name": "stderr",
     "output_type": "stream",
     "text": [
      "telescope_location is not set. Using known values for HERA.\n",
      "antenna_positions is not set. Using known values for HERA.\n"
     ]
    }
   ],
   "source": [
    "uvcal_ref = UVCal()\n",
    "uvcal_ref.read_calfits(refcal)"
   ]
  },
  {
   "cell_type": "code",
   "execution_count": 36,
   "id": "ccc9e651",
   "metadata": {
    "execution": {
     "iopub.execute_input": "2022-03-10T16:49:36.872484Z",
     "iopub.status.busy": "2022-03-10T16:49:36.871957Z",
     "iopub.status.idle": "2022-03-10T16:49:36.873363Z",
     "shell.execute_reply": "2022-03-10T16:49:36.872945Z"
    },
    "papermill": {
     "duration": 0.063418,
     "end_time": "2022-03-10T16:49:36.873468",
     "exception": false,
     "start_time": "2022-03-10T16:49:36.810050",
     "status": "completed"
    },
    "tags": []
   },
   "outputs": [],
   "source": [
    "uvd_PXC_ = uvd_ #uvutils.uvcalibrate(uvd_, uvcal_ref, inplace=False, prop_flags=True, flag_missing=False)"
   ]
  },
  {
   "cell_type": "code",
   "execution_count": 37,
   "id": "44be0fa1",
   "metadata": {
    "execution": {
     "iopub.execute_input": "2022-03-10T16:49:37.009972Z",
     "iopub.status.busy": "2022-03-10T16:49:37.009513Z",
     "iopub.status.idle": "2022-03-10T16:49:37.496054Z",
     "shell.execute_reply": "2022-03-10T16:49:37.496638Z"
    },
    "papermill": {
     "duration": 0.565739,
     "end_time": "2022-03-10T16:49:37.496785",
     "exception": false,
     "start_time": "2022-03-10T16:49:36.931046",
     "status": "completed"
    },
    "tags": []
   },
   "outputs": [],
   "source": [
    "uvd_PXC =hp.pstokes.construct_pstokes(uvd_PXC_, uvd_PXC_, pstokes='pI')"
   ]
  },
  {
   "cell_type": "code",
   "execution_count": 38,
   "id": "e374738c",
   "metadata": {
    "execution": {
     "iopub.execute_input": "2022-03-10T16:49:37.630954Z",
     "iopub.status.busy": "2022-03-10T16:49:37.630499Z",
     "iopub.status.idle": "2022-03-10T16:49:37.975914Z",
     "shell.execute_reply": "2022-03-10T16:49:37.976503Z"
    },
    "papermill": {
     "duration": 0.42254,
     "end_time": "2022-03-10T16:49:37.976643",
     "exception": false,
     "start_time": "2022-03-10T16:49:37.554103",
     "status": "completed"
    },
    "tags": []
   },
   "outputs": [],
   "source": [
    "uvd = hp.pstokes.construct_pstokes(uvd_, uvd_, pstokes='pI')"
   ]
  },
  {
   "cell_type": "code",
   "execution_count": 39,
   "id": "c4c058d7",
   "metadata": {
    "execution": {
     "iopub.execute_input": "2022-03-10T16:49:38.110061Z",
     "iopub.status.busy": "2022-03-10T16:49:38.109609Z",
     "iopub.status.idle": "2022-03-10T16:49:38.112000Z",
     "shell.execute_reply": "2022-03-10T16:49:38.112562Z"
    },
    "papermill": {
     "duration": 0.079116,
     "end_time": "2022-03-10T16:49:38.112687",
     "exception": false,
     "start_time": "2022-03-10T16:49:38.033571",
     "status": "completed"
    },
    "tags": []
   },
   "outputs": [],
   "source": [
    "beam = hp.PSpecBeamUV(\"/lustre/aoc/projects/hera/nkern/beams/NF_HERA_IQ_power_beam_healpix128.fits\")"
   ]
  },
  {
   "cell_type": "markdown",
   "id": "03879ea1",
   "metadata": {
    "papermill": {
     "duration": 0.056513,
     "end_time": "2022-03-10T16:49:38.226287",
     "exception": false,
     "start_time": "2022-03-10T16:49:38.169774",
     "status": "completed"
    },
    "tags": []
   },
   "source": [
    "get the differenced visibility"
   ]
  },
  {
   "cell_type": "code",
   "execution_count": 40,
   "id": "fbda9e77",
   "metadata": {
    "execution": {
     "iopub.execute_input": "2022-03-10T16:49:38.361033Z",
     "iopub.status.busy": "2022-03-10T16:49:38.360564Z",
     "iopub.status.idle": "2022-03-10T16:49:38.564821Z",
     "shell.execute_reply": "2022-03-10T16:49:38.565411Z"
    },
    "papermill": {
     "duration": 0.282587,
     "end_time": "2022-03-10T16:49:38.565550",
     "exception": false,
     "start_time": "2022-03-10T16:49:38.282963",
     "status": "completed"
    },
    "tags": []
   },
   "outputs": [],
   "source": [
    "uvd1 = uvd.select(times=np.unique(uvd.time_array)[0:-1:2],inplace=False)\n",
    "uvd2 = uvd.select(times=np.unique(uvd.time_array)[1::2],inplace=False)\n",
    "uvd_td = copy.deepcopy(uvd1)\n",
    "uvd_td.data_array = (uvd2.data_array - uvd1.data_array)/np.sqrt(2)"
   ]
  },
  {
   "cell_type": "code",
   "execution_count": 41,
   "id": "c1a5c2aa",
   "metadata": {
    "execution": {
     "iopub.execute_input": "2022-03-10T16:49:38.699938Z",
     "iopub.status.busy": "2022-03-10T16:49:38.699475Z",
     "iopub.status.idle": "2022-03-10T16:50:20.235333Z",
     "shell.execute_reply": "2022-03-10T16:50:20.235876Z"
    },
    "papermill": {
     "duration": 41.613307,
     "end_time": "2022-03-10T16:50:20.236174",
     "exception": false,
     "start_time": "2022-03-10T16:49:38.622867",
     "status": "completed"
    },
    "tags": []
   },
   "outputs": [
    {
     "name": "stderr",
     "output_type": "stream",
     "text": [
      "Casting complex values to real discards the imaginary part\n"
     ]
    },
    {
     "data": {
      "text/plain": [
       "<hera_pspec.pspecdata.PSpecData at 0x7fbe5be4aee0>"
      ]
     },
     "execution_count": 41,
     "metadata": {},
     "output_type": "execute_result"
    }
   ],
   "source": [
    "# pspec at cross time\n",
    "hp.pspecdata.pspec_run([copy.deepcopy(uvd_td)], 'pspec_crosstime.h5', groupname='pI_shortbl_timediff', spw_ranges=[(0, 180)],\n",
    "                       dset_pairs=[(0,0)], pol_pairs=['pI'], input_data_weight='identity', norm='I',\n",
    "                       rephase_to_dset=False, interleave_times=False, Jy2mK=True, overwrite=True, verbose=False,\n",
    "                       bl_len_range=bl_len_range, bl_deg_range=bl_deg_range, beam=beam, taper='bh',\n",
    "                       broadcast_dset_flags=True, time_thresh=0.99, exclude_auto_bls=True, exclude_cross_bls=False, exclude_permutations=True)"
   ]
  },
  {
   "cell_type": "code",
   "execution_count": 42,
   "id": "68c49667",
   "metadata": {
    "execution": {
     "iopub.execute_input": "2022-03-10T16:50:20.373984Z",
     "iopub.status.busy": "2022-03-10T16:50:20.373504Z",
     "iopub.status.idle": "2022-03-10T17:45:49.090916Z",
     "shell.execute_reply": "2022-03-10T17:45:49.090365Z"
    },
    "papermill": {
     "duration": 3328.795481,
     "end_time": "2022-03-10T17:45:49.091065",
     "exception": false,
     "start_time": "2022-03-10T16:50:20.295584",
     "status": "completed"
    },
    "scrolled": true,
    "tags": []
   },
   "outputs": [
    {
     "name": "stdout",
     "output_type": "stream",
     "text": [
      "Warning: LST bins in dsets misaligned by more than 15 seconds\n"
     ]
    },
    {
     "name": "stdout",
     "output_type": "stream",
     "text": [
      "Warning: LST bins in dsets misaligned by more than 15 seconds\n"
     ]
    },
    {
     "name": "stderr",
     "output_type": "stream",
     "text": [
      "Casting complex values to real discards the imaginary part\n"
     ]
    },
    {
     "data": {
      "text/plain": [
       "<hera_pspec.pspecdata.PSpecData at 0x7fbe5bc8d730>"
      ]
     },
     "execution_count": 42,
     "metadata": {},
     "output_type": "execute_result"
    }
   ],
   "source": [
    "# pspec at cross time\n",
    "hp.pspecdata.pspec_run([copy.deepcopy(uvd)], 'pspec_crosstime.h5', groupname='pI_shortbl', spw_ranges=[(0, 180)],\n",
    "                       dset_pairs=[(0,0)], pol_pairs=['pI'], input_data_weight='identity', norm='I',\n",
    "                       rephase_to_dset=True, interleave_times=True, Jy2mK=True, overwrite=True, verbose=False,\n",
    "                       bl_len_range=bl_len_range, bl_deg_range=bl_deg_range, beam=beam, taper='bh',\n",
    "                       broadcast_dset_flags=True, time_thresh=0.99, store_cov_diag=True, cov_model='foreground_dependent', \n",
    "                       exclude_auto_bls=True, exclude_cross_bls=False, exclude_permutations=True)"
   ]
  },
  {
   "cell_type": "code",
   "execution_count": 43,
   "id": "9a0d3f74",
   "metadata": {
    "execution": {
     "iopub.execute_input": "2022-03-10T17:45:49.452065Z",
     "iopub.status.busy": "2022-03-10T17:45:49.451438Z",
     "iopub.status.idle": "2022-03-10T17:45:50.264130Z",
     "shell.execute_reply": "2022-03-10T17:45:50.264825Z"
    },
    "papermill": {
     "duration": 0.958507,
     "end_time": "2022-03-10T17:45:50.264993",
     "exception": false,
     "start_time": "2022-03-10T17:45:49.306486",
     "status": "completed"
    },
    "tags": []
   },
   "outputs": [],
   "source": [
    "psc = hp.PSpecContainer('pspec_crosstime.h5', mode='rw', keep_open=True)\n",
    "uvp_cov_fg = psc.get_pspec('pI_shortbl', 'dset0_x_dset1')"
   ]
  },
  {
   "cell_type": "code",
   "execution_count": 44,
   "id": "cba3a658",
   "metadata": {
    "execution": {
     "iopub.execute_input": "2022-03-10T17:45:50.411993Z",
     "iopub.status.busy": "2022-03-10T17:45:50.411511Z",
     "iopub.status.idle": "2022-03-10T17:45:51.903791Z",
     "shell.execute_reply": "2022-03-10T17:45:51.904475Z"
    },
    "papermill": {
     "duration": 1.575289,
     "end_time": "2022-03-10T17:45:51.904640",
     "exception": false,
     "start_time": "2022-03-10T17:45:50.329351",
     "status": "completed"
    },
    "tags": []
   },
   "outputs": [],
   "source": [
    "auto_Tsys = hp.utils.uvd_to_Tsys(uvd, beam)\n",
    "hp.utils.uvp_noise_error(uvp_cov_fg, auto_Tsys, err_type=['P_N','P_SN'])"
   ]
  },
  {
   "cell_type": "code",
   "execution_count": 45,
   "id": "33b4ddf5",
   "metadata": {
    "execution": {
     "iopub.execute_input": "2022-03-10T17:45:52.059137Z",
     "iopub.status.busy": "2022-03-10T17:45:52.058599Z",
     "iopub.status.idle": "2022-03-10T17:45:54.047729Z",
     "shell.execute_reply": "2022-03-10T17:45:54.048502Z"
    },
    "papermill": {
     "duration": 2.078625,
     "end_time": "2022-03-10T17:45:54.048692",
     "exception": false,
     "start_time": "2022-03-10T17:45:51.970067",
     "status": "completed"
    },
    "tags": []
   },
   "outputs": [],
   "source": [
    "psc.set_pspec('pI_shortbl', 'dset0_x_dset1', uvp_cov_fg, overwrite=True)"
   ]
  },
  {
   "cell_type": "markdown",
   "id": "72a416ae",
   "metadata": {
    "papermill": {
     "duration": 0.062977,
     "end_time": "2022-03-10T17:45:54.177151",
     "exception": false,
     "start_time": "2022-03-10T17:45:54.114174",
     "status": "completed"
    },
    "tags": []
   },
   "source": [
    "## load power spectra"
   ]
  },
  {
   "cell_type": "code",
   "execution_count": 46,
   "id": "ba7f11cc",
   "metadata": {
    "execution": {
     "iopub.execute_input": "2022-03-10T17:45:54.554930Z",
     "iopub.status.busy": "2022-03-10T17:45:54.554411Z",
     "iopub.status.idle": "2022-03-10T17:45:59.902906Z",
     "shell.execute_reply": "2022-03-10T17:45:59.903534Z"
    },
    "papermill": {
     "duration": 5.450321,
     "end_time": "2022-03-10T17:45:59.903696",
     "exception": false,
     "start_time": "2022-03-10T17:45:54.453375",
     "status": "completed"
    },
    "tags": []
   },
   "outputs": [],
   "source": [
    "psc = hp.PSpecContainer('pspec_crosstime.h5', keep_open=False)\n",
    "uvp_cov_fg = psc.get_pspec('pI_shortbl', 'dset0_x_dset1')\n",
    "uvp_td = psc.get_pspec('pI_shortbl_timediff', 'dset0_x_dset0')"
   ]
  },
  {
   "cell_type": "code",
   "execution_count": 47,
   "id": "40608cb2",
   "metadata": {
    "execution": {
     "iopub.execute_input": "2022-03-10T17:46:00.049513Z",
     "iopub.status.busy": "2022-03-10T17:46:00.049022Z",
     "iopub.status.idle": "2022-03-10T17:46:04.975265Z",
     "shell.execute_reply": "2022-03-10T17:46:04.976186Z"
    },
    "papermill": {
     "duration": 5.009686,
     "end_time": "2022-03-10T17:46:04.976381",
     "exception": false,
     "start_time": "2022-03-10T17:45:59.966695",
     "status": "completed"
    },
    "tags": []
   },
   "outputs": [],
   "source": [
    "psc_ = hp.PSpecContainer('pspec_nulltest.h5', keep_open=False)\n",
    "uvp_cov_n = psc_.get_pspec('pI_shortbl', 'dset0_x_dset1')"
   ]
  },
  {
   "cell_type": "code",
   "execution_count": 48,
   "id": "eb9472fb",
   "metadata": {
    "execution": {
     "iopub.execute_input": "2022-03-10T17:46:05.122441Z",
     "iopub.status.busy": "2022-03-10T17:46:05.121911Z",
     "iopub.status.idle": "2022-03-10T17:46:05.123368Z",
     "shell.execute_reply": "2022-03-10T17:46:05.122891Z"
    },
    "papermill": {
     "duration": 0.068734,
     "end_time": "2022-03-10T17:46:05.123484",
     "exception": false,
     "start_time": "2022-03-10T17:46:05.054750",
     "status": "completed"
    },
    "tags": []
   },
   "outputs": [],
   "source": [
    "delay_resolution = 1 / (uvp_cov_fg.freq_array[-1]-uvp_cov_fg.freq_array[0])*1e9"
   ]
  },
  {
   "cell_type": "markdown",
   "id": "e03ae111",
   "metadata": {
    "papermill": {
     "duration": 0.063773,
     "end_time": "2022-03-10T17:46:05.250965",
     "exception": false,
     "start_time": "2022-03-10T17:46:05.187192",
     "status": "completed"
    },
    "tags": []
   },
   "source": [
    "#### other systematics"
   ]
  },
  {
   "cell_type": "markdown",
   "id": "43bbe11b",
   "metadata": {
    "papermill": {
     "duration": 0.063156,
     "end_time": "2022-03-10T17:46:05.378020",
     "exception": false,
     "start_time": "2022-03-10T17:46:05.314864",
     "status": "completed"
    },
    "tags": []
   },
   "source": [
    "PXC"
   ]
  },
  {
   "cell_type": "code",
   "execution_count": 49,
   "id": "b01520d4",
   "metadata": {
    "execution": {
     "iopub.execute_input": "2022-03-10T17:46:05.528080Z",
     "iopub.status.busy": "2022-03-10T17:46:05.527558Z",
     "iopub.status.idle": "2022-03-10T18:37:31.166531Z",
     "shell.execute_reply": "2022-03-10T18:37:31.166015Z"
    },
    "papermill": {
     "duration": 3085.723292,
     "end_time": "2022-03-10T18:37:31.166662",
     "exception": false,
     "start_time": "2022-03-10T17:46:05.443370",
     "status": "completed"
    },
    "tags": []
   },
   "outputs": [
    {
     "name": "stdout",
     "output_type": "stream",
     "text": [
      "Warning: LST bins in dsets misaligned by more than 15 seconds\n"
     ]
    },
    {
     "name": "stdout",
     "output_type": "stream",
     "text": [
      "Warning: LST bins in dsets misaligned by more than 15 seconds\n"
     ]
    },
    {
     "name": "stderr",
     "output_type": "stream",
     "text": [
      "Casting complex values to real discards the imaginary part\n"
     ]
    },
    {
     "data": {
      "text/plain": [
       "<hera_pspec.pspecdata.PSpecData at 0x7fbe61a166a0>"
      ]
     },
     "execution_count": 49,
     "metadata": {},
     "output_type": "execute_result"
    }
   ],
   "source": [
    "# pspec at cross time\n",
    "hp.pspecdata.pspec_run([copy.deepcopy(uvd_PXC)], 'pspec_systematics.h5', groupname='pI_shortbl_fg_PXC', spw_ranges=[(0, 180)],\n",
    "                       dset_pairs=[(0,0)], pol_pairs=['pI'], input_data_weight='identity', norm='I',\n",
    "                       rephase_to_dset=True, interleave_times=True, Jy2mK=True, overwrite=True, verbose=False,\n",
    "                       bl_len_range=bl_len_range, bl_deg_range=bl_deg_range, beam=beam, taper='bh',\n",
    "                       broadcast_dset_flags=True, time_thresh=0.99, store_cov_diag=True, cov_model='foreground_dependent', \n",
    "                       exclude_auto_bls=True, exclude_cross_bls=False, exclude_permutations=True)"
   ]
  },
  {
   "cell_type": "code",
   "execution_count": 50,
   "id": "1eaa20e3",
   "metadata": {
    "execution": {
     "iopub.execute_input": "2022-03-10T18:37:31.521239Z",
     "iopub.status.busy": "2022-03-10T18:37:31.520548Z",
     "iopub.status.idle": "2022-03-10T18:41:52.534960Z",
     "shell.execute_reply": "2022-03-10T18:41:52.535429Z"
    },
    "papermill": {
     "duration": 261.173433,
     "end_time": "2022-03-10T18:41:52.535587",
     "exception": false,
     "start_time": "2022-03-10T18:37:31.362154",
     "status": "completed"
    },
    "tags": []
   },
   "outputs": [
    {
     "name": "stdout",
     "output_type": "stream",
     "text": [
      "Warning: LST bins in dsets misaligned by more than 15 seconds\n"
     ]
    },
    {
     "name": "stdout",
     "output_type": "stream",
     "text": [
      "Warning: LST bins in dsets misaligned by more than 15 seconds\n"
     ]
    },
    {
     "name": "stderr",
     "output_type": "stream",
     "text": [
      "Producing time-uniform covariance matrices between bandpowers.\n",
      "Casting complex values to real discards the imaginary part\n"
     ]
    },
    {
     "data": {
      "text/plain": [
       "<hera_pspec.pspecdata.PSpecData at 0x7fbe61a16940>"
      ]
     },
     "execution_count": 50,
     "metadata": {},
     "output_type": "execute_result"
    }
   ],
   "source": [
    "# pspec at cross time\n",
    "hp.pspecdata.pspec_run([copy.deepcopy(uvd_PXC)], 'pspec_systematics.h5', groupname='pI_shortbl_noise_PXC', spw_ranges=[(0, 180)],\n",
    "                       dset_pairs=[(0,0)], pol_pairs=['pI'], input_data_weight='identity', norm='I',\n",
    "                       rephase_to_dset=True, interleave_times=True, Jy2mK=True, overwrite=True, verbose=False,\n",
    "                       bl_len_range=bl_len_range, bl_deg_range=bl_deg_range, beam=beam, taper='bh',\n",
    "                       broadcast_dset_flags=True, time_thresh=0.99, store_cov_diag=True, cov_model='autos', \n",
    "                       exclude_auto_bls=True, exclude_cross_bls=False, exclude_permutations=True)"
   ]
  },
  {
   "cell_type": "markdown",
   "id": "64ccef10",
   "metadata": {
    "papermill": {
     "duration": 0.065272,
     "end_time": "2022-03-10T18:41:52.671011",
     "exception": false,
     "start_time": "2022-03-10T18:41:52.605739",
     "status": "completed"
    },
    "tags": []
   },
   "source": [
    "P and PC"
   ]
  },
  {
   "cell_type": "code",
   "execution_count": 51,
   "id": "5719e2d1",
   "metadata": {
    "execution": {
     "iopub.execute_input": "2022-03-10T18:41:52.804242Z",
     "iopub.status.busy": "2022-03-10T18:41:52.803780Z",
     "iopub.status.idle": "2022-03-10T18:41:52.900804Z",
     "shell.execute_reply": "2022-03-10T18:41:52.901447Z"
    },
    "papermill": {
     "duration": 0.16631,
     "end_time": "2022-03-10T18:41:52.901691",
     "exception": false,
     "start_time": "2022-03-10T18:41:52.735381",
     "status": "completed"
    },
    "tags": []
   },
   "outputs": [],
   "source": [
    "# LST binned, Inpainted files\n",
    "root = \"/lustre/aoc/projects/hera/H1C_IDR2/IDR2_2_pspec/v2/one_group/data/\"\n",
    "dfiles = sorted(glob.glob(root + \"zen.grp1.of1.LST.1*.HH.OCRSLP2.uvh5\"))\n",
    "dfiles[5] = sim_file"
   ]
  },
  {
   "cell_type": "code",
   "execution_count": 52,
   "id": "2c61b658",
   "metadata": {
    "execution": {
     "iopub.execute_input": "2022-03-10T18:41:53.062453Z",
     "iopub.status.busy": "2022-03-10T18:41:53.061939Z",
     "iopub.status.idle": "2022-03-10T18:41:53.064043Z",
     "shell.execute_reply": "2022-03-10T18:41:53.062929Z"
    },
    "papermill": {
     "duration": 0.071596,
     "end_time": "2022-03-10T18:41:53.064141",
     "exception": false,
     "start_time": "2022-03-10T18:41:52.992545",
     "status": "completed"
    },
    "tags": []
   },
   "outputs": [
    {
     "data": {
      "text/plain": [
       "'fringe_rate_filter/cleaned_sim_1000_256.uvh5'"
      ]
     },
     "execution_count": 52,
     "metadata": {},
     "output_type": "execute_result"
    }
   ],
   "source": [
    "dfiles[5]"
   ]
  },
  {
   "cell_type": "code",
   "execution_count": 53,
   "id": "262f9539",
   "metadata": {
    "execution": {
     "iopub.execute_input": "2022-03-10T18:41:53.189908Z",
     "iopub.status.busy": "2022-03-10T18:41:53.189454Z",
     "iopub.status.idle": "2022-03-10T18:41:53.990909Z",
     "shell.execute_reply": "2022-03-10T18:41:53.991546Z"
    },
    "papermill": {
     "duration": 0.866321,
     "end_time": "2022-03-10T18:41:53.991710",
     "exception": false,
     "start_time": "2022-03-10T18:41:53.125389",
     "status": "completed"
    },
    "tags": []
   },
   "outputs": [
    {
     "name": "stdout",
     "output_type": "stream",
     "text": [
      "fringe_rate_filter/cleaned_sim_1000_256.uvh5\n"
     ]
    },
    {
     "name": "stderr",
     "output_type": "stream",
     "text": [
      "Telescope hera_sim is not in known_telescopes.\n"
     ]
    }
   ],
   "source": [
    "uvd_P_ = UVData()\n",
    "print(dfiles[5])\n",
    "uvd_P_ .read(dfiles[5], read_data=False)"
   ]
  },
  {
   "cell_type": "code",
   "execution_count": 54,
   "id": "2aa48c19",
   "metadata": {
    "execution": {
     "iopub.execute_input": "2022-03-10T18:41:54.122227Z",
     "iopub.status.busy": "2022-03-10T18:41:54.121729Z",
     "iopub.status.idle": "2022-03-10T18:41:54.123035Z",
     "shell.execute_reply": "2022-03-10T18:41:54.122642Z"
    },
    "papermill": {
     "duration": 0.065661,
     "end_time": "2022-03-10T18:41:54.123128",
     "exception": false,
     "start_time": "2022-03-10T18:41:54.057467",
     "status": "completed"
    },
    "tags": []
   },
   "outputs": [],
   "source": [
    "xants = [0,2,11,24,50,53,54,67,69,98,122,136,139]"
   ]
  },
  {
   "cell_type": "code",
   "execution_count": 55,
   "id": "cfe23130",
   "metadata": {
    "execution": {
     "iopub.execute_input": "2022-03-10T18:41:54.267659Z",
     "iopub.status.busy": "2022-03-10T18:41:54.267224Z",
     "iopub.status.idle": "2022-03-10T18:41:54.285506Z",
     "shell.execute_reply": "2022-03-10T18:41:54.286064Z"
    },
    "papermill": {
     "duration": 0.102304,
     "end_time": "2022-03-10T18:41:54.286169",
     "exception": false,
     "start_time": "2022-03-10T18:41:54.183865",
     "status": "completed"
    },
    "tags": []
   },
   "outputs": [],
   "source": [
    "# short baseline group\n",
    "bl_len_range = (14, 15)\n",
    "bl_deg_range = (0, 1)\n",
    "reds, lens, angs = hp.utils.get_reds(uvd_P_, bl_len_range=bl_len_range, bl_deg_range=bl_deg_range, xants=xants)\n",
    "bls = hp.utils.flatten(reds)"
   ]
  },
  {
   "cell_type": "code",
   "execution_count": 56,
   "id": "a9f483d0",
   "metadata": {
    "execution": {
     "iopub.execute_input": "2022-03-10T18:41:54.415472Z",
     "iopub.status.busy": "2022-03-10T18:41:54.414926Z",
     "iopub.status.idle": "2022-03-10T18:41:54.416356Z",
     "shell.execute_reply": "2022-03-10T18:41:54.415942Z"
    },
    "papermill": {
     "duration": 0.067923,
     "end_time": "2022-03-10T18:41:54.416454",
     "exception": false,
     "start_time": "2022-03-10T18:41:54.348531",
     "status": "completed"
    },
    "tags": []
   },
   "outputs": [],
   "source": [
    "refcal = '/lustre/aoc/projects/hera/H1C_IDR2/IDR2_2_pspec/v2/one_group/data/zen.grp1.of1.LST.1.50345.HH.OCRSLP2.allspws.refcal_smooth.calfits'"
   ]
  },
  {
   "cell_type": "code",
   "execution_count": 57,
   "id": "bfdfeb2d",
   "metadata": {
    "execution": {
     "iopub.execute_input": "2022-03-10T18:41:54.562911Z",
     "iopub.status.busy": "2022-03-10T18:41:54.562422Z",
     "iopub.status.idle": "2022-03-10T18:43:39.820149Z",
     "shell.execute_reply": "2022-03-10T18:43:39.770487Z"
    },
    "papermill": {
     "duration": 105.3406,
     "end_time": "2022-03-10T18:43:39.820377",
     "exception": false,
     "start_time": "2022-03-10T18:41:54.479777",
     "status": "completed"
    },
    "tags": []
   },
   "outputs": [
    {
     "name": "stdout",
     "output_type": "stream",
     "text": [
      "fringe_rate_filter/cleaned_sim_1000_256.uvh5\n"
     ]
    }
   ],
   "source": [
    "print(dfiles[5])\n",
    "uvd_P_.read(dfiles[5], time_range=time_range, antenna_nums=np.array(bls).flatten(), polarizations=['xx','yy'])"
   ]
  },
  {
   "cell_type": "code",
   "execution_count": 58,
   "id": "bff69521",
   "metadata": {
    "execution": {
     "iopub.execute_input": "2022-03-10T18:43:40.023629Z",
     "iopub.status.busy": "2022-03-10T18:43:40.023153Z",
     "iopub.status.idle": "2022-03-10T18:43:40.637509Z",
     "shell.execute_reply": "2022-03-10T18:43:40.638100Z"
    },
    "papermill": {
     "duration": 0.698914,
     "end_time": "2022-03-10T18:43:40.638237",
     "exception": false,
     "start_time": "2022-03-10T18:43:39.939323",
     "status": "completed"
    },
    "tags": []
   },
   "outputs": [
    {
     "name": "stderr",
     "output_type": "stream",
     "text": [
      "telescope_location is not set. Using known values for HERA.\n",
      "antenna_positions is not set. Using known values for HERA.\n"
     ]
    }
   ],
   "source": [
    "uvcal_ref = UVCal()\n",
    "uvcal_ref.read_calfits(refcal)"
   ]
  },
  {
   "cell_type": "code",
   "execution_count": 59,
   "id": "9167bdf2",
   "metadata": {
    "execution": {
     "iopub.execute_input": "2022-03-10T18:43:40.766127Z",
     "iopub.status.busy": "2022-03-10T18:43:40.765620Z",
     "iopub.status.idle": "2022-03-10T18:43:40.766934Z",
     "shell.execute_reply": "2022-03-10T18:43:40.766541Z"
    },
    "papermill": {
     "duration": 0.066554,
     "end_time": "2022-03-10T18:43:40.767025",
     "exception": false,
     "start_time": "2022-03-10T18:43:40.700471",
     "status": "completed"
    },
    "tags": []
   },
   "outputs": [],
   "source": [
    "uvd_PC_ = uvd_P_ #uvutils.uvcalibrate(uvd_P_, uvcal_ref, inplace=False, prop_flags=True, flag_missing=True)"
   ]
  },
  {
   "cell_type": "code",
   "execution_count": 60,
   "id": "36e69a02",
   "metadata": {
    "execution": {
     "iopub.execute_input": "2022-03-10T18:43:40.910957Z",
     "iopub.status.busy": "2022-03-10T18:43:40.910499Z",
     "iopub.status.idle": "2022-03-10T18:43:41.248342Z",
     "shell.execute_reply": "2022-03-10T18:43:41.248935Z"
    },
    "papermill": {
     "duration": 0.420462,
     "end_time": "2022-03-10T18:43:41.249074",
     "exception": false,
     "start_time": "2022-03-10T18:43:40.828612",
     "status": "completed"
    },
    "tags": []
   },
   "outputs": [],
   "source": [
    "uvd_PC =hp.pstokes.construct_pstokes(uvd_PC_, uvd_PC_, pstokes='pI')"
   ]
  },
  {
   "cell_type": "code",
   "execution_count": 61,
   "id": "1cdaff81",
   "metadata": {
    "execution": {
     "iopub.execute_input": "2022-03-10T18:43:41.393953Z",
     "iopub.status.busy": "2022-03-10T18:43:41.393500Z",
     "iopub.status.idle": "2022-03-10T18:43:41.728445Z",
     "shell.execute_reply": "2022-03-10T18:43:41.729037Z"
    },
    "papermill": {
     "duration": 0.417314,
     "end_time": "2022-03-10T18:43:41.729174",
     "exception": false,
     "start_time": "2022-03-10T18:43:41.311860",
     "status": "completed"
    },
    "tags": []
   },
   "outputs": [],
   "source": [
    "uvd_P = hp.pstokes.construct_pstokes(uvd_P_, uvd_P_, pstokes='pI')"
   ]
  },
  {
   "cell_type": "code",
   "execution_count": 62,
   "id": "44a6a818",
   "metadata": {
    "execution": {
     "iopub.execute_input": "2022-03-10T18:43:41.857253Z",
     "iopub.status.busy": "2022-03-10T18:43:41.856820Z",
     "iopub.status.idle": "2022-03-10T18:43:41.966193Z",
     "shell.execute_reply": "2022-03-10T18:43:41.967258Z"
    },
    "papermill": {
     "duration": 0.175827,
     "end_time": "2022-03-10T18:43:41.967480",
     "exception": false,
     "start_time": "2022-03-10T18:43:41.791653",
     "status": "completed"
    },
    "tags": []
   },
   "outputs": [],
   "source": [
    "beam = hp.PSpecBeamUV(\"/lustre/aoc/projects/hera/nkern/beams/NF_HERA_IQ_power_beam_healpix128.fits\")"
   ]
  },
  {
   "cell_type": "code",
   "execution_count": 63,
   "id": "4d7db016",
   "metadata": {
    "execution": {
     "iopub.execute_input": "2022-03-10T18:43:42.142969Z",
     "iopub.status.busy": "2022-03-10T18:43:42.142499Z",
     "iopub.status.idle": "2022-03-10T19:38:52.396084Z",
     "shell.execute_reply": "2022-03-10T19:38:52.396548Z"
    },
    "papermill": {
     "duration": 3310.336913,
     "end_time": "2022-03-10T19:38:52.396824",
     "exception": false,
     "start_time": "2022-03-10T18:43:42.059911",
     "status": "completed"
    },
    "tags": []
   },
   "outputs": [
    {
     "name": "stdout",
     "output_type": "stream",
     "text": [
      "Warning: LST bins in dsets misaligned by more than 15 seconds\n"
     ]
    },
    {
     "name": "stdout",
     "output_type": "stream",
     "text": [
      "Warning: LST bins in dsets misaligned by more than 15 seconds\n"
     ]
    },
    {
     "name": "stderr",
     "output_type": "stream",
     "text": [
      "Casting complex values to real discards the imaginary part\n"
     ]
    },
    {
     "data": {
      "text/plain": [
       "<hera_pspec.pspecdata.PSpecData at 0x7fbe60e97fd0>"
      ]
     },
     "execution_count": 63,
     "metadata": {},
     "output_type": "execute_result"
    }
   ],
   "source": [
    "# pspec at cross time\n",
    "hp.pspecdata.pspec_run([copy.deepcopy(uvd_P)], 'pspec_systematics.h5', groupname='pI_shortbl_fg_P', spw_ranges=[(0, 180)],\n",
    "                       dset_pairs=[(0,0)], pol_pairs=['pI'], input_data_weight='identity', norm='I',\n",
    "                       rephase_to_dset=True, interleave_times=True, Jy2mK=True, overwrite=True, verbose=False,\n",
    "                       bl_len_range=bl_len_range, bl_deg_range=bl_deg_range, beam=beam, taper='bh',\n",
    "                       broadcast_dset_flags=True, time_thresh=0.99, store_cov_diag=True, cov_model='foreground_dependent', \n",
    "                       exclude_auto_bls=True, exclude_cross_bls=False, exclude_permutations=True)"
   ]
  },
  {
   "cell_type": "code",
   "execution_count": 64,
   "id": "121da61a",
   "metadata": {
    "execution": {
     "iopub.execute_input": "2022-03-10T19:38:52.662998Z",
     "iopub.status.busy": "2022-03-10T19:38:52.662437Z",
     "iopub.status.idle": "2022-03-10T19:43:58.076088Z",
     "shell.execute_reply": "2022-03-10T19:43:58.075595Z"
    },
    "papermill": {
     "duration": 305.534003,
     "end_time": "2022-03-10T19:43:58.076202",
     "exception": false,
     "start_time": "2022-03-10T19:38:52.542199",
     "status": "completed"
    },
    "tags": []
   },
   "outputs": [
    {
     "name": "stdout",
     "output_type": "stream",
     "text": [
      "Warning: LST bins in dsets misaligned by more than 15 seconds\n"
     ]
    },
    {
     "name": "stdout",
     "output_type": "stream",
     "text": [
      "Warning: LST bins in dsets misaligned by more than 15 seconds\n"
     ]
    },
    {
     "name": "stderr",
     "output_type": "stream",
     "text": [
      "Producing time-uniform covariance matrices between bandpowers.\n",
      "Casting complex values to real discards the imaginary part\n"
     ]
    },
    {
     "data": {
      "text/plain": [
       "<hera_pspec.pspecdata.PSpecData at 0x7fbe6187ab80>"
      ]
     },
     "execution_count": 64,
     "metadata": {},
     "output_type": "execute_result"
    }
   ],
   "source": [
    "# pspec at cross time\n",
    "hp.pspecdata.pspec_run([copy.deepcopy(uvd_P)], 'pspec_systematics.h5', groupname='pI_shortbl_noise_P', spw_ranges=[(0, 180)],\n",
    "                       dset_pairs=[(0,0)], pol_pairs=['pI'], input_data_weight='identity', norm='I',\n",
    "                       rephase_to_dset=True, interleave_times=True, Jy2mK=True, overwrite=True, verbose=False,\n",
    "                       bl_len_range=bl_len_range, bl_deg_range=bl_deg_range, beam=beam, taper='bh',\n",
    "                       broadcast_dset_flags=True, time_thresh=0.99, store_cov_diag=True, cov_model='autos', \n",
    "                       exclude_auto_bls=True, exclude_cross_bls=False, exclude_permutations=True)"
   ]
  },
  {
   "cell_type": "code",
   "execution_count": 65,
   "id": "829c96af",
   "metadata": {
    "execution": {
     "iopub.execute_input": "2022-03-10T19:43:58.244098Z",
     "iopub.status.busy": "2022-03-10T19:43:58.243570Z",
     "iopub.status.idle": "2022-03-10T20:37:23.451208Z",
     "shell.execute_reply": "2022-03-10T20:37:23.452170Z"
    },
    "papermill": {
     "duration": 3205.299177,
     "end_time": "2022-03-10T20:37:23.452475",
     "exception": false,
     "start_time": "2022-03-10T19:43:58.153298",
     "status": "completed"
    },
    "tags": []
   },
   "outputs": [
    {
     "name": "stdout",
     "output_type": "stream",
     "text": [
      "Warning: LST bins in dsets misaligned by more than 15 seconds\n"
     ]
    },
    {
     "name": "stdout",
     "output_type": "stream",
     "text": [
      "Warning: LST bins in dsets misaligned by more than 15 seconds\n"
     ]
    },
    {
     "name": "stderr",
     "output_type": "stream",
     "text": [
      "Casting complex values to real discards the imaginary part\n"
     ]
    },
    {
     "data": {
      "text/plain": [
       "<hera_pspec.pspecdata.PSpecData at 0x7fbe60d434f0>"
      ]
     },
     "execution_count": 65,
     "metadata": {},
     "output_type": "execute_result"
    }
   ],
   "source": [
    "# pspec at cross time\n",
    "hp.pspecdata.pspec_run([copy.deepcopy(uvd_PC)], 'pspec_systematics.h5', groupname='pI_shortbl_fg_PC', spw_ranges=[(0, 180)],\n",
    "                       dset_pairs=[(0,0)], pol_pairs=['pI'], input_data_weight='identity', norm='I',\n",
    "                       rephase_to_dset=True, interleave_times=True, Jy2mK=True, overwrite=True, verbose=False,\n",
    "                       bl_len_range=bl_len_range, bl_deg_range=bl_deg_range, beam=beam, taper='bh',\n",
    "                       broadcast_dset_flags=True, time_thresh=0.99, store_cov_diag=True, cov_model='foreground_dependent', \n",
    "                       exclude_auto_bls=True, exclude_cross_bls=False, exclude_permutations=True)"
   ]
  },
  {
   "cell_type": "code",
   "execution_count": 66,
   "id": "04695ead",
   "metadata": {
    "execution": {
     "iopub.execute_input": "2022-03-10T20:37:23.802413Z",
     "iopub.status.busy": "2022-03-10T20:37:23.801654Z",
     "iopub.status.idle": "2022-03-10T20:42:33.913992Z",
     "shell.execute_reply": "2022-03-10T20:42:33.914451Z"
    },
    "papermill": {
     "duration": 310.263953,
     "end_time": "2022-03-10T20:42:33.914612",
     "exception": false,
     "start_time": "2022-03-10T20:37:23.650659",
     "status": "completed"
    },
    "tags": []
   },
   "outputs": [
    {
     "name": "stdout",
     "output_type": "stream",
     "text": [
      "Warning: LST bins in dsets misaligned by more than 15 seconds\n"
     ]
    },
    {
     "name": "stdout",
     "output_type": "stream",
     "text": [
      "Warning: LST bins in dsets misaligned by more than 15 seconds\n"
     ]
    },
    {
     "name": "stderr",
     "output_type": "stream",
     "text": [
      "Producing time-uniform covariance matrices between bandpowers.\n",
      "Casting complex values to real discards the imaginary part\n"
     ]
    },
    {
     "data": {
      "text/plain": [
       "<hera_pspec.pspecdata.PSpecData at 0x7fbe60c47760>"
      ]
     },
     "execution_count": 66,
     "metadata": {},
     "output_type": "execute_result"
    }
   ],
   "source": [
    "# pspec at cross time\n",
    "hp.pspecdata.pspec_run([copy.deepcopy(uvd_PC)], 'pspec_systematics.h5', groupname='pI_shortbl_noise_PC', spw_ranges=[(0, 180)],\n",
    "                       dset_pairs=[(0,0)], pol_pairs=['pI'], input_data_weight='identity', norm='I',\n",
    "                       rephase_to_dset=True, interleave_times=True, Jy2mK=True, overwrite=True, verbose=False,\n",
    "                       bl_len_range=bl_len_range, bl_deg_range=bl_deg_range, beam=beam, taper='bh',\n",
    "                       broadcast_dset_flags=True, time_thresh=0.99, store_cov_diag=True, cov_model='autos', \n",
    "                       exclude_auto_bls=True, exclude_cross_bls=False, exclude_permutations=True)"
   ]
  },
  {
   "cell_type": "markdown",
   "id": "3ad0953e",
   "metadata": {
    "papermill": {
     "duration": 0.078913,
     "end_time": "2022-03-10T20:42:34.074434",
     "exception": false,
     "start_time": "2022-03-10T20:42:33.995521",
     "status": "completed"
    },
    "tags": []
   },
   "source": [
    "### some parameters"
   ]
  },
  {
   "cell_type": "code",
   "execution_count": 67,
   "id": "fd631af2",
   "metadata": {
    "execution": {
     "iopub.execute_input": "2022-03-10T20:42:34.238949Z",
     "iopub.status.busy": "2022-03-10T20:42:34.238252Z",
     "iopub.status.idle": "2022-03-10T20:42:34.240788Z",
     "shell.execute_reply": "2022-03-10T20:42:34.239484Z"
    },
    "papermill": {
     "duration": 0.087874,
     "end_time": "2022-03-10T20:42:34.240907",
     "exception": false,
     "start_time": "2022-03-10T20:42:34.153033",
     "status": "completed"
    },
    "tags": []
   },
   "outputs": [
    {
     "data": {
      "text/plain": [
       "30"
      ]
     },
     "execution_count": 67,
     "metadata": {},
     "output_type": "execute_result"
    }
   ],
   "source": [
    "uvp_cov_fg.Ntimes"
   ]
  },
  {
   "cell_type": "code",
   "execution_count": 68,
   "id": "5684bdf6",
   "metadata": {
    "execution": {
     "iopub.execute_input": "2022-03-10T20:42:34.406304Z",
     "iopub.status.busy": "2022-03-10T20:42:34.405664Z",
     "iopub.status.idle": "2022-03-10T20:42:34.408053Z",
     "shell.execute_reply": "2022-03-10T20:42:34.406838Z"
    },
    "papermill": {
     "duration": 0.08856,
     "end_time": "2022-03-10T20:42:34.408173",
     "exception": false,
     "start_time": "2022-03-10T20:42:34.319613",
     "status": "completed"
    },
    "tags": []
   },
   "outputs": [
    {
     "data": {
      "text/plain": [
       "array([2458116.52588191, 2458116.52637913, 2458116.52687635,\n",
       "       2458116.52737358, 2458116.5278708 , 2458116.52836802,\n",
       "       2458116.52886524, 2458116.52936246, 2458116.52985969,\n",
       "       2458116.53035691, 2458116.53085413, 2458116.53135135,\n",
       "       2458116.53184857, 2458116.5323458 , 2458116.53284302,\n",
       "       2458116.53334024, 2458116.53383746, 2458116.53433469,\n",
       "       2458116.53483191, 2458116.53532913, 2458116.53582635,\n",
       "       2458116.53632358, 2458116.5368208 , 2458116.53731802,\n",
       "       2458116.53781524, 2458116.53831246, 2458116.53880969,\n",
       "       2458116.53930691, 2458116.53980413, 2458116.54030135])"
      ]
     },
     "execution_count": 68,
     "metadata": {},
     "output_type": "execute_result"
    }
   ],
   "source": [
    "np.unique(uvp_cov_fg.time_avg_array)"
   ]
  },
  {
   "cell_type": "code",
   "execution_count": 69,
   "id": "92be4252",
   "metadata": {
    "execution": {
     "iopub.execute_input": "2022-03-10T20:42:34.610487Z",
     "iopub.status.busy": "2022-03-10T20:42:34.609912Z",
     "iopub.status.idle": "2022-03-10T20:42:34.612260Z",
     "shell.execute_reply": "2022-03-10T20:42:34.611014Z"
    },
    "papermill": {
     "duration": 0.088614,
     "end_time": "2022-03-10T20:42:34.612386",
     "exception": false,
     "start_time": "2022-03-10T20:42:34.523772",
     "status": "completed"
    },
    "tags": []
   },
   "outputs": [
    {
     "data": {
      "text/plain": [
       "42.9599997812304"
      ]
     },
     "execution_count": 69,
     "metadata": {},
     "output_type": "execute_result"
    }
   ],
   "source": [
    "np.mean(np.diff(np.unique(uvp_cov_fg.time_avg_array)))*24*3600"
   ]
  },
  {
   "cell_type": "code",
   "execution_count": 70,
   "id": "2207f78f",
   "metadata": {
    "execution": {
     "iopub.execute_input": "2022-03-10T20:42:34.776632Z",
     "iopub.status.busy": "2022-03-10T20:42:34.776068Z",
     "iopub.status.idle": "2022-03-10T20:42:34.778354Z",
     "shell.execute_reply": "2022-03-10T20:42:34.777142Z"
    },
    "papermill": {
     "duration": 0.086828,
     "end_time": "2022-03-10T20:42:34.778467",
     "exception": false,
     "start_time": "2022-03-10T20:42:34.691639",
     "status": "completed"
    },
    "tags": []
   },
   "outputs": [
    {
     "data": {
      "text/plain": [
       "43.07762154491905"
      ]
     },
     "execution_count": 70,
     "metadata": {},
     "output_type": "execute_result"
    }
   ],
   "source": [
    "np.mean(np.diff(np.unique(uvp_cov_fg.lst_avg_array)))/2/np.pi*24*3600"
   ]
  },
  {
   "cell_type": "code",
   "execution_count": 71,
   "id": "6216960c",
   "metadata": {
    "execution": {
     "iopub.execute_input": "2022-03-10T20:42:34.939161Z",
     "iopub.status.busy": "2022-03-10T20:42:34.938496Z",
     "iopub.status.idle": "2022-03-10T20:42:34.940910Z",
     "shell.execute_reply": "2022-03-10T20:42:34.939642Z"
    },
    "papermill": {
     "duration": 0.08615,
     "end_time": "2022-03-10T20:42:34.941041",
     "exception": false,
     "start_time": "2022-03-10T20:42:34.854891",
     "status": "completed"
    },
    "tags": []
   },
   "outputs": [
    {
     "data": {
      "text/plain": [
       "array([8.5607654 , 8.57273141, 8.58469741, 8.59666342, 8.60862942,\n",
       "       8.62059543, 8.63256144, 8.64452744, 8.65649345, 8.66845945,\n",
       "       8.68042545, 8.69239147, 8.70435747, 8.71632347, 8.72828948,\n",
       "       8.74025548, 8.75222149, 8.76418749, 8.7761535 , 8.78811951,\n",
       "       8.80008551, 8.81205152, 8.82401752, 8.83598353, 8.84794954,\n",
       "       8.85991554, 8.87188155, 8.88384755, 8.89581356, 8.90777957])"
      ]
     },
     "execution_count": 71,
     "metadata": {},
     "output_type": "execute_result"
    }
   ],
   "source": [
    "np.unique(uvp_cov_fg.lst_avg_array)/2/np.pi*24"
   ]
  },
  {
   "cell_type": "code",
   "execution_count": 72,
   "id": "1058cb69",
   "metadata": {
    "execution": {
     "iopub.execute_input": "2022-03-10T20:42:35.102388Z",
     "iopub.status.busy": "2022-03-10T20:42:35.101765Z",
     "iopub.status.idle": "2022-03-10T20:42:35.104121Z",
     "shell.execute_reply": "2022-03-10T20:42:35.102878Z"
    },
    "papermill": {
     "duration": 0.085466,
     "end_time": "2022-03-10T20:42:35.104241",
     "exception": false,
     "start_time": "2022-03-10T20:42:35.018775",
     "status": "completed"
    },
    "tags": []
   },
   "outputs": [
    {
     "data": {
      "text/plain": [
       "(117.48046875, 100.0)"
      ]
     },
     "execution_count": 72,
     "metadata": {},
     "output_type": "execute_result"
    }
   ],
   "source": [
    "uvp_cov_fg.freq_array[-1]/1e6, uvp_cov_fg.freq_array[0]/1e6"
   ]
  },
  {
   "cell_type": "markdown",
   "id": "75c48143",
   "metadata": {
    "papermill": {
     "duration": 0.077704,
     "end_time": "2022-03-10T20:42:35.264076",
     "exception": false,
     "start_time": "2022-03-10T20:42:35.186372",
     "status": "completed"
    },
    "tags": []
   },
   "source": [
    "## make plots"
   ]
  },
  {
   "cell_type": "code",
   "execution_count": 73,
   "id": "b6100929",
   "metadata": {
    "execution": {
     "iopub.execute_input": "2022-03-10T20:42:35.433802Z",
     "iopub.status.busy": "2022-03-10T20:42:35.433201Z",
     "iopub.status.idle": "2022-03-10T20:42:35.435439Z",
     "shell.execute_reply": "2022-03-10T20:42:35.434285Z"
    },
    "papermill": {
     "duration": 0.091859,
     "end_time": "2022-03-10T20:42:35.435557",
     "exception": false,
     "start_time": "2022-03-10T20:42:35.343698",
     "status": "completed"
    },
    "tags": []
   },
   "outputs": [
    {
     "name": "stderr",
     "output_type": "stream",
     "text": [
      "invalid value encountered in true_divide\n"
     ]
    }
   ],
   "source": [
    "key = uvp_cov_fg.get_all_keys()[0]\n",
    "dlys = uvp_cov_fg.get_dlys(key[0]) * 1e9\n",
    "kparas = uvp_cov_fg.get_kparas(key[0])\n",
    "tau2k = (kparas/dlys)[0]"
   ]
  },
  {
   "cell_type": "code",
   "execution_count": 74,
   "id": "2bf34ee9",
   "metadata": {
    "execution": {
     "iopub.execute_input": "2022-03-10T20:42:35.606531Z",
     "iopub.status.busy": "2022-03-10T20:42:35.605936Z",
     "iopub.status.idle": "2022-03-10T20:42:35.608213Z",
     "shell.execute_reply": "2022-03-10T20:42:35.607009Z"
    },
    "papermill": {
     "duration": 0.093679,
     "end_time": "2022-03-10T20:42:35.608331",
     "exception": false,
     "start_time": "2022-03-10T20:42:35.514652",
     "status": "completed"
    },
    "tags": []
   },
   "outputs": [
    {
     "data": {
      "text/plain": [
       "276"
      ]
     },
     "execution_count": 74,
     "metadata": {},
     "output_type": "execute_result"
    }
   ],
   "source": [
    "len(uvp_cov_fg.get_all_keys())"
   ]
  },
  {
   "cell_type": "code",
   "execution_count": 75,
   "id": "3f4f74fc",
   "metadata": {
    "execution": {
     "iopub.execute_input": "2022-03-10T20:42:35.781076Z",
     "iopub.status.busy": "2022-03-10T20:42:35.780412Z",
     "iopub.status.idle": "2022-03-10T20:42:35.782713Z",
     "shell.execute_reply": "2022-03-10T20:42:35.781545Z"
    },
    "papermill": {
     "duration": 0.095701,
     "end_time": "2022-03-10T20:42:35.782834",
     "exception": false,
     "start_time": "2022-03-10T20:42:35.687133",
     "status": "completed"
    },
    "tags": []
   },
   "outputs": [
    {
     "name": "stdout",
     "output_type": "stream",
     "text": [
      "(0, ((12, 13), (13, 14)), ('pI', 'pI'))\n"
     ]
    }
   ],
   "source": [
    "print(key)"
   ]
  },
  {
   "cell_type": "code",
   "execution_count": 76,
   "id": "006641d3",
   "metadata": {
    "execution": {
     "iopub.execute_input": "2022-03-10T20:42:35.952236Z",
     "iopub.status.busy": "2022-03-10T20:42:35.951575Z",
     "iopub.status.idle": "2022-03-10T20:42:35.953253Z",
     "shell.execute_reply": "2022-03-10T20:42:35.952778Z"
    },
    "papermill": {
     "duration": 0.090377,
     "end_time": "2022-03-10T20:42:35.953396",
     "exception": false,
     "start_time": "2022-03-10T20:42:35.863019",
     "status": "completed"
    },
    "tags": []
   },
   "outputs": [],
   "source": [
    "def tau2k_(x):\n",
    "    return x * tau2k\n",
    "def k2tau_(x):\n",
    "    return x / tau2k"
   ]
  },
  {
   "cell_type": "code",
   "execution_count": 77,
   "id": "9c45ec9d",
   "metadata": {
    "execution": {
     "iopub.execute_input": "2022-03-10T20:42:36.195967Z",
     "iopub.status.busy": "2022-03-10T20:42:36.195329Z",
     "iopub.status.idle": "2022-03-10T20:42:36.196932Z",
     "shell.execute_reply": "2022-03-10T20:42:36.196456Z"
    },
    "papermill": {
     "duration": 0.159302,
     "end_time": "2022-03-10T20:42:36.197055",
     "exception": false,
     "start_time": "2022-03-10T20:42:36.037753",
     "status": "completed"
    },
    "tags": []
   },
   "outputs": [],
   "source": [
    "from matplotlib.ticker import Locator\n",
    "class MinorSymLogLocator(Locator):\n",
    "    \"\"\"\n",
    "    Dynamically find minor tick positions based on the positions of\n",
    "    major ticks for a symlog scaling.\n",
    "    \"\"\"\n",
    "    def __init__(self, linthresh):\n",
    "        \"\"\"\n",
    "        Ticks will be placed between the major ticks.\n",
    "        The placement is linear for x between -linthresh and linthresh,\n",
    "        otherwise its logarithmically\n",
    "        \"\"\"\n",
    "        self.linthresh = linthresh\n",
    "\n",
    "    def __call__(self):\n",
    "        'Return the locations of the ticks'\n",
    "        majorlocs = self.axis.get_majorticklocs()\n",
    "\n",
    "        # iterate through minor locs\n",
    "        minorlocs = []\n",
    "\n",
    "        # handle the lowest part\n",
    "        for i in range(1, len(majorlocs)):\n",
    "            majorstep = majorlocs[i] - majorlocs[i-1]\n",
    "            if abs(majorlocs[i-1] + majorstep/2) < self.linthresh:\n",
    "                ndivs = 10\n",
    "            else:\n",
    "                ndivs = 9\n",
    "            minorstep = majorstep / ndivs\n",
    "            locs = np.arange(majorlocs[i-1], majorlocs[i], minorstep)[1:]\n",
    "            minorlocs.extend(locs)\n",
    "\n",
    "        return self.raise_if_exceeds(np.array(minorlocs))\n",
    "\n",
    "    def tick_values(self, vmin, vmax):\n",
    "        raise NotImplementedError('Cannot get tick locations for a '\n",
    "                                  '%s type.' % type(self))"
   ]
  },
  {
   "cell_type": "code",
   "execution_count": 78,
   "id": "f8cca7c2",
   "metadata": {
    "execution": {
     "iopub.execute_input": "2022-03-10T20:42:36.375938Z",
     "iopub.status.busy": "2022-03-10T20:42:36.374190Z",
     "iopub.status.idle": "2022-03-10T20:42:36.376552Z",
     "shell.execute_reply": "2022-03-10T20:42:36.376995Z"
    },
    "papermill": {
     "duration": 0.097241,
     "end_time": "2022-03-10T20:42:36.377144",
     "exception": false,
     "start_time": "2022-03-10T20:42:36.279903",
     "status": "completed"
    },
    "tags": []
   },
   "outputs": [],
   "source": [
    "time_index = 0\n",
    "# Dicts of colors\n",
    "color_list = odict()\n",
    "# Dicts of labels\n",
    "label_list = odict()\n",
    "# Dicts of error bars\n",
    "error_list = odict()\n",
    "linestyle_list = odict()\n",
    "\n",
    "# The extra kinds of error bars\n",
    "error_list['PSN'] = uvp_cov_fg.get_stats('P_SN', key)[time_index].real\n",
    "label_list['PSN'] = r'$P_\\mathrm{SN}$'\n",
    "color_list['PSN'] = 'darkcyan' \n",
    "linestyle_list['PSN'] = \"-\"\n",
    "error_list['PN'] = uvp_cov_fg.get_stats('P_N', key)[time_index].real\n",
    "label_list['PN'] = r'$P_\\mathrm{N}$'\n",
    "color_list['PN'] = 'tomato' \n",
    "linestyle_list['PN'] = \"-\"\n",
    "# The power spectra of time difference data as error bars in noise dominant regions, \n",
    "error_list['fg'] = uvp_cov_fg.get_stats('foreground_dependent_diag', key)[time_index].real\n",
    "label_list['fg'] = r\"$\\sigma_\\mathrm{QE-SN}$\"\n",
    "color_list['fg'] = 'limegreen' \n",
    "linestyle_list['fg'] = \"-\"\n",
    "error_list['noise'] = uvp_cov_n.get_stats('autos_diag', key)[time_index].real\n",
    "label_list['noise'] = r\"$\\sigma_\\mathrm{QE-N}$\"\n",
    "color_list['noise'] = 'darkred' \n",
    "linestyle_list['noise'] = \"-\"\n",
    "error_list['Pdiff'] = np.abs(uvp_td.get_data(key)[time_index].real)\n",
    "color_list['Pdiff'] = 'orange' \n",
    "label_list['Pdiff'] = r'$P_\\mathrm{diff}$'\n",
    "linestyle_list['Pdiff'] = \"-.\"\n",
    "for error_type in error_list.keys():  \n",
    "    error_list[error_type] = np.array(error_list[error_type]).reshape(-1)\n",
    "\n",
    "# The power spectrum\n",
    "ps = (uvp_cov_fg.get_data(key)[time_index].real).reshape(-1)"
   ]
  },
  {
   "cell_type": "code",
   "execution_count": 79,
   "id": "488c5dc9",
   "metadata": {
    "execution": {
     "iopub.execute_input": "2022-03-10T20:42:36.557277Z",
     "iopub.status.busy": "2022-03-10T20:42:36.556697Z",
     "iopub.status.idle": "2022-03-10T20:42:40.949350Z",
     "shell.execute_reply": "2022-03-10T20:42:40.584019Z"
    },
    "papermill": {
     "duration": 4.492043,
     "end_time": "2022-03-10T20:42:40.949482",
     "exception": false,
     "start_time": "2022-03-10T20:42:36.457439",
     "status": "completed"
    },
    "tags": []
   },
   "outputs": [
    {
     "name": "stderr",
     "output_type": "stream",
     "text": [
      "divide by zero encountered in true_divide\n",
      "invalid value encountered in true_divide\n",
      "invalid value encountered in true_divide\n",
      "invalid value encountered in true_divide\n"
     ]
    },
    {
     "data": {
      "text/plain": [
       "<matplotlib.lines.Line2D at 0x7fbe60cd5b50>"
      ]
     },
     "execution_count": 79,
     "metadata": {},
     "output_type": "execute_result"
    },
    {
     "data": {
      "image/png": "[encoded data removed]",
      "text/plain": [
       "<Figure size 1152x1080 with 3 Axes>"
      ]
     },
     "metadata": {
      "needs_background": "light"
     },
     "output_type": "display_data"
    }
   ],
   "source": [
    "fig = plt.figure(figsize=(16,15), constrained_layout=True)\n",
    "gs = fig.add_gridspec(3, 2, wspace=0.02)\n",
    "psunits = uvp_cov_fg.units\n",
    "if \"h^-1\" in psunits: psunits = psunits.replace(\"h^-1\", \"h^{-1}\")\n",
    "if \"h^-3\" in psunits: psunits = psunits.replace(\"h^-3\", \"h^{-3}\")\n",
    "if \"Mpc\" in psunits and \"\\\\rm\" not in psunits: \n",
    "    psunits = psunits.replace(\"Mpc\", r\"{\\rm Mpc}\")\n",
    "if \"pi\" in psunits and \"\\\\pi\" not in psunits: \n",
    "    psunits = psunits.replace(\"pi\", r\"\\pi\")\n",
    "    \n",
    "# Plot different kinds of error bars\n",
    "ax = fig.add_subplot(gs[0,:])\n",
    "ax.plot(dlys[ps>=0.], ps[ps>=0.], \".\", label='power spectra'+ r'$(+)$', c='k', markersize=8, alpha = 0.6)\n",
    "ax.plot(dlys[ps<0.], np.abs(ps[ps<0.]), \".\", fillstyle='none', label='power spectra'+ r'$(-)$', c='k', markersize=8, alpha = 0.6)\n",
    "ax.set_xlim(-3000,3000)\n",
    "for error_type in error_list.keys():\n",
    "    ax.plot(dlys, error_list[error_type], ls=linestyle_list[error_type],label=label_list[error_type], c=color_list[error_type], lw=2)\n",
    "ax.set_ylabel(\"$P(k_\\parallel)$ $[%s]$\" % psunits, fontsize=16)\n",
    "#ax.set_xlabel(r\"$\\tau$ $[{\\rm ns}]$\", fontsize=20)\n",
    "ax.set_xticklabels([])\n",
    "ax.tick_params(axis='both', which='both', labelsize=16)\n",
    "ax.xaxis.set_minor_locator(ticker.MultipleLocator(500))\n",
    "ax.semilogy()\n",
    "ax.minorticks_on()\n",
    "ax.yaxis.set_minor_locator(ticker.LogLocator(base=10, subs=[0.2,0.4,0.6,0.8], numticks=20))\n",
    "ax.yaxis.set_minor_formatter(ticker.NullFormatter())\n",
    "ax.grid()\n",
    "ax.legend(loc='upper right', fontsize=14, ncol=3)\n",
    "ax.set_title('A single-time instance of power spectra from the HERA Phase I Data', bbox=dict(fc='wheat', alpha=0.5), fontsize=20, pad=15)\n",
    "ax.axvspan(-200, -20, facecolor='#2ca02c', alpha=0.2)\n",
    "ax.axvspan(20, 200, facecolor='#2ca02c', alpha=0.2)\n",
    "\n",
    "ax1 = ax.secondary_xaxis('top', functions=(tau2k_, k2tau_))\n",
    "ax1.tick_params(axis='both', which='both', labelsize=16, direction='out')\n",
    "ax1.xaxis.set_major_locator(ticker.MultipleLocator(1))\n",
    "ax1.xaxis.set_minor_locator(ticker.MultipleLocator(0.2))\n",
    "ax1.set_xlabel(r\"$k_\\parallel [h {\\rm Mpc}^{-1}]$\", fontsize=16)\n",
    "\n",
    "#handles, labels = ax.get_legend_handles_labels()\n",
    "#fig.legend(handles, labels, bbox_to_anchor=(0.53,1.15), loc='upper center', fontsize=14, ncol=3,)\n",
    "#fig.tight_layout()\n",
    "\n",
    "# Plot ratios of different kinds of error bars\n",
    "ax = fig.add_subplot(gs[1,:])\n",
    "for error_type in ['Pdiff','PN','fg']:\n",
    "    ax.plot(dlys, np.abs(error_list[error_type]/error_list['noise']-1), ls=linestyle_list[error_type],label=label_list[error_type], c=color_list[error_type], lw=2)\n",
    "ax.set_xticklabels([])\n",
    "ax.tick_params(axis='both', which='both', labelsize=16)\n",
    "ax.grid()\n",
    "ax.semilogy()\n",
    "ax.set_ylim(1e-3,1)\n",
    "ax.set_xlim(-3000,3000)\n",
    "ax.set_ylabel(\"abs\" + r\"$\\left(\\frac{\\sigma-\\sigma_{\\rm QE-N}}{\\sigma_{\\rm QE-N}}\\right)$\", fontsize=20)\n",
    "#ax.yaxis.set_minor_locator(MinorSymLogLocator(0.01))\n",
    "#ax.yaxis.set_minor_formatter(ticker.NullFormatter())\n",
    "ax.xaxis.set_minor_locator(ticker.MultipleLocator(500))\n",
    "ax.axvspan(-200, -20, facecolor='#2ca02c', alpha=0.2)\n",
    "ax.axvspan(20, 200, facecolor='#2ca02c', alpha=0.2)\n",
    "ax.axhline(y=0, c='k', lw=3)\n",
    "\n",
    "ax = fig.add_subplot(gs[2,:])\n",
    "for error_type in ['PSN']:\n",
    "    ax.plot(dlys, np.abs(error_list[error_type]/error_list['fg']-1), ls=linestyle_list[error_type], label=label_list[error_type], c=color_list[error_type], lw=2)\n",
    "ax.set_xlabel(r\"$\\tau$ $[{\\rm ns}]$\", fontsize=16)\n",
    "ax.tick_params(axis='both', which='both', labelsize=16)\n",
    "ax.grid()\n",
    "ax.set_xlim(-3000,3000)\n",
    "ax.semilogy()\n",
    "ax.set_ylim(1e-3,1)\n",
    "ax.xaxis.set_minor_locator(ticker.MultipleLocator(500))\n",
    "ax.set_ylabel(\"abs\" + r\"$\\left(\\frac{\\sigma-\\sigma_{\\rm QE-SN}}{\\sigma_{\\rm QE-SN}}\\right)$\", fontsize=20)\n",
    "ax.axvspan(-200, -20, facecolor='#2ca02c', alpha=0.2)\n",
    "ax.axvspan(20, 200, facecolor='#2ca02c', alpha=0.2)\n",
    "ax.axhline(y=0, c='k', lw=3)"
   ]
  },
  {
   "cell_type": "markdown",
   "id": "4c615c75",
   "metadata": {
    "papermill": {
     "duration": 0.086789,
     "end_time": "2022-03-10T20:42:41.124879",
     "exception": false,
     "start_time": "2022-03-10T20:42:41.038090",
     "status": "completed"
    },
    "tags": []
   },
   "source": [
    "get the time average"
   ]
  },
  {
   "cell_type": "code",
   "execution_count": 80,
   "id": "3a155e60",
   "metadata": {
    "execution": {
     "iopub.execute_input": "2022-03-10T20:42:41.310284Z",
     "iopub.status.busy": "2022-03-10T20:42:41.309766Z",
     "iopub.status.idle": "2022-03-10T20:42:41.312116Z",
     "shell.execute_reply": "2022-03-10T20:42:41.312498Z"
    },
    "papermill": {
     "duration": 0.100202,
     "end_time": "2022-03-10T20:42:41.312659",
     "exception": false,
     "start_time": "2022-03-10T20:42:41.212457",
     "status": "completed"
    },
    "tags": []
   },
   "outputs": [],
   "source": [
    "new_stats_array = odict()\n",
    "new_stats_array.update({'Pdiff_err': {0: np.abs(uvp_td.data_array[0].real)}})\n",
    "new_stats_array.update(uvp_cov_fg.stats_array)"
   ]
  },
  {
   "cell_type": "code",
   "execution_count": 81,
   "id": "304bb468",
   "metadata": {
    "execution": {
     "iopub.execute_input": "2022-03-10T20:42:41.489335Z",
     "iopub.status.busy": "2022-03-10T20:42:41.488690Z",
     "iopub.status.idle": "2022-03-10T20:42:41.490359Z",
     "shell.execute_reply": "2022-03-10T20:42:41.489888Z"
    },
    "papermill": {
     "duration": 0.092287,
     "end_time": "2022-03-10T20:42:41.490480",
     "exception": false,
     "start_time": "2022-03-10T20:42:41.398193",
     "status": "completed"
    },
    "tags": []
   },
   "outputs": [],
   "source": [
    "uvp_cov_fg.stats_array = new_stats_array"
   ]
  },
  {
   "cell_type": "code",
   "execution_count": 82,
   "id": "7c42465b",
   "metadata": {
    "execution": {
     "iopub.execute_input": "2022-03-10T20:42:41.662041Z",
     "iopub.status.busy": "2022-03-10T20:42:41.661440Z",
     "iopub.status.idle": "2022-03-10T20:42:41.663630Z",
     "shell.execute_reply": "2022-03-10T20:42:41.662509Z"
    },
    "papermill": {
     "duration": 0.088725,
     "end_time": "2022-03-10T20:42:41.663762",
     "exception": false,
     "start_time": "2022-03-10T20:42:41.575037",
     "status": "completed"
    },
    "tags": []
   },
   "outputs": [
    {
     "name": "stdout",
     "output_type": "stream",
     "text": [
      "30\n"
     ]
    }
   ],
   "source": [
    "print(uvp_cov_fg.Ntimes)"
   ]
  },
  {
   "cell_type": "code",
   "execution_count": 83,
   "id": "bb684da9",
   "metadata": {
    "execution": {
     "iopub.execute_input": "2022-03-10T20:42:41.851100Z",
     "iopub.status.busy": "2022-03-10T20:42:41.850583Z",
     "iopub.status.idle": "2022-03-10T20:42:44.712778Z",
     "shell.execute_reply": "2022-03-10T20:42:44.713413Z"
    },
    "papermill": {
     "duration": 2.966418,
     "end_time": "2022-03-10T20:42:44.713558",
     "exception": false,
     "start_time": "2022-03-10T20:42:41.747140",
     "status": "completed"
    },
    "tags": []
   },
   "outputs": [],
   "source": [
    "uvp_cov_fg_uni = uvp_cov_fg.average_spectra(time_avg=True, error_weights=None, error_field=['Pdiff_err',\"foreground_dependent_diag\", \"P_N\",\"P_SN\"],\n",
    "                              inplace=False)"
   ]
  },
  {
   "cell_type": "code",
   "execution_count": 84,
   "id": "579da4d1",
   "metadata": {
    "execution": {
     "iopub.execute_input": "2022-03-10T20:42:44.894136Z",
     "iopub.status.busy": "2022-03-10T20:42:44.893587Z",
     "iopub.status.idle": "2022-03-10T20:42:47.320356Z",
     "shell.execute_reply": "2022-03-10T20:42:47.321066Z"
    },
    "papermill": {
     "duration": 2.527461,
     "end_time": "2022-03-10T20:42:47.321223",
     "exception": false,
     "start_time": "2022-03-10T20:42:44.793762",
     "status": "completed"
    },
    "tags": []
   },
   "outputs": [],
   "source": [
    "uvp_cov_n_uni = uvp_cov_n.average_spectra(time_avg=True, error_weights=None, error_field=[\"autos_diag\"], inplace=False)"
   ]
  },
  {
   "cell_type": "code",
   "execution_count": 85,
   "id": "6f84886a",
   "metadata": {
    "execution": {
     "iopub.execute_input": "2022-03-10T20:42:47.505898Z",
     "iopub.status.busy": "2022-03-10T20:42:47.505319Z",
     "iopub.status.idle": "2022-03-10T20:42:47.507895Z",
     "shell.execute_reply": "2022-03-10T20:42:47.508300Z"
    },
    "papermill": {
     "duration": 0.100949,
     "end_time": "2022-03-10T20:42:47.508452",
     "exception": false,
     "start_time": "2022-03-10T20:42:47.407503",
     "status": "completed"
    },
    "tags": []
   },
   "outputs": [],
   "source": [
    "key = uvp_cov_fg_uni.get_all_keys()[0]\n",
    "error_tavg_list = odict()\n",
    "error_tavg_list['PSN'] = uvp_cov_fg_uni.get_stats('P_SN', key)[0].real\n",
    "error_tavg_list['PN'] = uvp_cov_fg_uni.get_stats('P_N', key)[0].real\n",
    "error_tavg_list['fg'] = uvp_cov_fg_uni.get_stats('foreground_dependent_diag', key)[0].real\n",
    "error_tavg_list['noise'] = uvp_cov_n_uni.get_stats('autos_diag', key)[0].real\n",
    "error_tavg_list['Pdiff'] = uvp_cov_fg_uni.get_stats('Pdiff_err', key)[0].real\n",
    "# The power spectrum\n",
    "ps_tavg = (uvp_cov_fg_uni.get_data(key)[0].real).reshape(-1)"
   ]
  },
  {
   "cell_type": "markdown",
   "id": "3b23c058",
   "metadata": {
    "papermill": {
     "duration": 0.116734,
     "end_time": "2022-03-10T20:42:47.713576",
     "exception": false,
     "start_time": "2022-03-10T20:42:47.596842",
     "status": "completed"
    },
    "tags": []
   },
   "source": [
    "bootstrap"
   ]
  },
  {
   "cell_type": "code",
   "execution_count": 86,
   "id": "9c427c4c",
   "metadata": {
    "execution": {
     "iopub.execute_input": "2022-03-10T20:42:47.940062Z",
     "iopub.status.busy": "2022-03-10T20:42:47.939563Z",
     "iopub.status.idle": "2022-03-10T20:42:48.079084Z",
     "shell.execute_reply": "2022-03-10T20:42:48.079730Z"
    },
    "papermill": {
     "duration": 0.245462,
     "end_time": "2022-03-10T20:42:48.079881",
     "exception": false,
     "start_time": "2022-03-10T20:42:47.834419",
     "status": "completed"
    },
    "tags": []
   },
   "outputs": [],
   "source": [
    "boots = []\n",
    "spectra = uvp_cov_fg.get_data(key)\n",
    "for i in range(2000):\n",
    "    _select = np.random.choice(np.arange(spectra.shape[0]), spectra.shape[0], replace=True)\n",
    "    boots.append(np.mean(spectra[_select,:], axis=0))\n",
    "error_tavg_list['boot'] = np.std(np.real(boots), axis=0)"
   ]
  },
  {
   "cell_type": "code",
   "execution_count": 87,
   "id": "bc90fba2",
   "metadata": {
    "execution": {
     "iopub.execute_input": "2022-03-10T20:42:48.245760Z",
     "iopub.status.busy": "2022-03-10T20:42:48.245198Z",
     "iopub.status.idle": "2022-03-10T20:42:48.246640Z",
     "shell.execute_reply": "2022-03-10T20:42:48.246235Z"
    },
    "papermill": {
     "duration": 0.087068,
     "end_time": "2022-03-10T20:42:48.246753",
     "exception": false,
     "start_time": "2022-03-10T20:42:48.159685",
     "status": "completed"
    },
    "tags": []
   },
   "outputs": [],
   "source": [
    "label_list['boot'] = r\"$\\sigma_\\mathrm{bs}$\"\n",
    "color_list['boot'] = 'indigo'\n",
    "linestyle_list['boot'] = '-.'"
   ]
  },
  {
   "cell_type": "code",
   "execution_count": 88,
   "id": "57b45679",
   "metadata": {
    "execution": {
     "iopub.execute_input": "2022-03-10T20:42:48.407274Z",
     "iopub.status.busy": "2022-03-10T20:42:48.406726Z",
     "iopub.status.idle": "2022-03-10T20:42:48.408150Z",
     "shell.execute_reply": "2022-03-10T20:42:48.407733Z"
    },
    "papermill": {
     "duration": 0.083794,
     "end_time": "2022-03-10T20:42:48.408254",
     "exception": false,
     "start_time": "2022-03-10T20:42:48.324460",
     "status": "completed"
    },
    "tags": []
   },
   "outputs": [],
   "source": [
    "for error_type in error_tavg_list.keys():  \n",
    "    error_tavg_list[error_type] = np.array(error_tavg_list[error_type]).reshape(-1)"
   ]
  },
  {
   "cell_type": "code",
   "execution_count": 89,
   "id": "2a851a4f",
   "metadata": {
    "execution": {
     "iopub.execute_input": "2022-03-10T20:42:48.598081Z",
     "iopub.status.busy": "2022-03-10T20:42:48.597522Z",
     "iopub.status.idle": "2022-03-10T20:42:51.150586Z",
     "shell.execute_reply": "2022-03-10T20:42:51.151296Z"
    },
    "papermill": {
     "duration": 2.660729,
     "end_time": "2022-03-10T20:42:51.151446",
     "exception": false,
     "start_time": "2022-03-10T20:42:48.490717",
     "status": "completed"
    },
    "tags": []
   },
   "outputs": [
    {
     "data": {
      "text/plain": [
       "<matplotlib.lines.Line2D at 0x7fbe60801ca0>"
      ]
     },
     "execution_count": 89,
     "metadata": {},
     "output_type": "execute_result"
    },
    {
     "data": {
      "image/png": "[encoded data removed]",
      "text/plain": [
       "<Figure size 1152x1080 with 3 Axes>"
      ]
     },
     "metadata": {
      "needs_background": "light"
     },
     "output_type": "display_data"
    }
   ],
   "source": [
    "fig = plt.figure(figsize=(16,15), constrained_layout=True)\n",
    "gs = fig.add_gridspec(3, 2, wspace=0.02)\n",
    "psunits = uvp_cov_fg.units\n",
    "if \"h^-1\" in psunits: psunits = psunits.replace(\"h^-1\", \"h^{-1}\")\n",
    "if \"h^-3\" in psunits: psunits = psunits.replace(\"h^-3\", \"h^{-3}\")\n",
    "if \"Mpc\" in psunits and \"\\\\rm\" not in psunits: \n",
    "    psunits = psunits.replace(\"Mpc\", r\"{\\rm Mpc}\")\n",
    "if \"pi\" in psunits and \"\\\\pi\" not in psunits: \n",
    "    psunits = psunits.replace(\"pi\", r\"\\pi\")\n",
    "    \n",
    "# Plot different kinds of error bars\n",
    "ax = fig.add_subplot(gs[0,:])\n",
    "ax.plot(dlys[ps_tavg>=0.], ps_tavg[ps_tavg>=0.], \".\", label='power spectra'+ r'$(+)$', c='k', markersize=8, alpha = 0.6)\n",
    "ax.plot(dlys[ps_tavg<0.], np.abs(ps_tavg[ps_tavg<0.]), \".\", fillstyle='none', label='power spectra'+ r'$(-)$', c='k', markersize=8, alpha = 0.6)\n",
    "ax.set_xlim(-3000,3000)\n",
    "for error_type in error_tavg_list.keys():\n",
    "    ax.plot(dlys, error_tavg_list[error_type], ls=linestyle_list[error_type],label=label_list[error_type], c=color_list[error_type], lw=2)\n",
    "error_modified_fg = error_tavg_list['fg']-(np.sqrt(1+1/np.sqrt(np.pi))-1)*error_tavg_list['noise']\n",
    "ax.plot(dlys, error_modified_fg, label=r\"$\\tilde{\\sigma}_\\mathrm{QE-SN}$\", c=\"green\", ls=\"--\", lw=2)\n",
    "ax.set_ylabel(\"$P(k_\\parallel)$ $[%s]$\" % psunits, fontsize=16)\n",
    "#ax.set_xlabel(r\"$\\tau$ $[{\\rm ns}]$\", fontsize=20)\n",
    "ax.set_xticklabels([])\n",
    "ax.tick_params(axis='both', which='both', labelsize=16)\n",
    "ax.xaxis.set_minor_locator(ticker.MultipleLocator(500))\n",
    "ax.semilogy()\n",
    "ax.minorticks_on()\n",
    "ax.yaxis.set_minor_locator(ticker.LogLocator(base=10, subs=[0.2,0.4,0.6,0.8], numticks=20))\n",
    "ax.yaxis.set_minor_formatter(ticker.NullFormatter())\n",
    "ax.grid()\n",
    "ax.legend(loc='upper right', fontsize=14, ncol=3)\n",
    "ax.set_title('Time-averaged power spectra from the HERA Phase I Data', bbox=dict(fc='wheat', alpha=0.5), fontsize=20, pad=15)\n",
    "ax.axvspan(-200, -20, facecolor='#2ca02c', alpha=0.2)\n",
    "ax.axvspan(20, 200, facecolor='#2ca02c', alpha=0.2)\n",
    "\n",
    "ax1 = ax.secondary_xaxis('top', functions=(tau2k_, k2tau_))\n",
    "ax1.tick_params(axis='both', which='both', labelsize=16, direction='out')\n",
    "ax1.xaxis.set_major_locator(ticker.MultipleLocator(1))\n",
    "ax1.xaxis.set_minor_locator(ticker.MultipleLocator(0.2))\n",
    "ax1.set_xlabel(r\"$k_\\parallel [h {\\rm Mpc}^{-1}]$\", fontsize=16)\n",
    "\n",
    "#handles, labels = ax.get_legend_handles_labels()\n",
    "#fig.legend(handles, labels, bbox_to_anchor=(0.53,1.15), loc='upper center', fontsize=14, ncol=3,)\n",
    "#fig.tight_layout()\n",
    "\n",
    "# Plot ratios of different kinds of error bars\n",
    "ax = fig.add_subplot(gs[1,:])\n",
    "for error_type in ['Pdiff','PN','fg','boot']:\n",
    "    ax.plot(dlys, np.abs(error_tavg_list[error_type]/error_tavg_list['noise']-1), ls=linestyle_list[error_type], label=label_list[error_type], c=color_list[error_type], lw=2)\n",
    "ax.plot(dlys, np.abs(error_modified_fg/error_tavg_list['noise']-1), label=r\"$\\tilde{\\sigma}_\\mathrm{QE-SN}$\", c=\"green\", ls=\"--\", lw=2)\n",
    "ax.set_xticklabels([])\n",
    "ax.tick_params(axis='both', which='both', labelsize=16)\n",
    "ax.grid()\n",
    "ax.semilogy()\n",
    "ax.set_ylim(1e-3,1)\n",
    "ax.set_xlim(-3000,3000)\n",
    "ax.set_ylabel(\"abs\" + r\"$\\left(\\frac{\\sigma-\\sigma_{\\rm QE-N}}{\\sigma_{\\rm QE-N}}\\right)$\", fontsize=20)\n",
    "#ax.yaxis.set_minor_locator(MinorSymLogLocator(0.01))\n",
    "#ax.yaxis.set_minor_formatter(ticker.NullFormatter())\n",
    "ax.xaxis.set_minor_locator(ticker.MultipleLocator(500))\n",
    "ax.axvspan(-200, -20, facecolor='#2ca02c', alpha=0.2)\n",
    "ax.axvspan(20, 200, facecolor='#2ca02c', alpha=0.2)\n",
    "ax.axhline(y=0, c='k', lw=3)\n",
    "\n",
    "ax = fig.add_subplot(gs[2,:])\n",
    "for error_type in ['PSN','boot']:\n",
    "    ax.plot(dlys, np.abs(error_tavg_list[error_type]/error_tavg_list['fg']-1), ls=linestyle_list[error_type], label=label_list[error_type], c=color_list[error_type], lw=2)\n",
    "ax.plot(dlys, np.abs(error_modified_fg/error_tavg_list['fg']-1), label=r\"$\\tilde{\\sigma}_\\mathrm{QE-SN}$\", c=\"green\", ls=\"--\", lw=2)\n",
    "ax.set_xlabel(r\"$\\tau$ $[{\\rm ns}]$\", fontsize=16)\n",
    "ax.tick_params(axis='both', which='both', labelsize=16)\n",
    "ax.grid()\n",
    "ax.set_xlim(-3000,3000)\n",
    "ax.semilogy()\n",
    "ax.set_ylim(1e-3,1)\n",
    "ax.xaxis.set_minor_locator(ticker.MultipleLocator(500))\n",
    "ax.set_ylabel(\"abs\" + r\"$\\left(\\frac{\\sigma-\\sigma_{\\rm QE-SN}}{\\sigma_{\\rm QE-SN}}\\right)$\", fontsize=20)\n",
    "ax.axvspan(-200, -20, facecolor='#2ca02c', alpha=0.2)\n",
    "ax.axvspan(20, 200, facecolor='#2ca02c', alpha=0.2)\n",
    "ax.axhline(y=0, c='k', lw=3)"
   ]
  },
  {
   "cell_type": "markdown",
   "id": "9a2238c5",
   "metadata": {
    "papermill": {
     "duration": 0.12959,
     "end_time": "2022-03-10T20:42:51.800030",
     "exception": false,
     "start_time": "2022-03-10T20:42:51.670440",
     "status": "completed"
    },
    "tags": []
   },
   "source": [
    "#### comparing systematics"
   ]
  },
  {
   "cell_type": "code",
   "execution_count": 90,
   "id": "e42abb51",
   "metadata": {
    "execution": {
     "iopub.execute_input": "2022-03-10T20:42:51.994364Z",
     "iopub.status.busy": "2022-03-10T20:42:51.993837Z",
     "iopub.status.idle": "2022-03-10T20:42:57.147917Z",
     "shell.execute_reply": "2022-03-10T20:42:57.148609Z"
    },
    "papermill": {
     "duration": 5.2641,
     "end_time": "2022-03-10T20:42:57.148774",
     "exception": false,
     "start_time": "2022-03-10T20:42:51.884674",
     "status": "completed"
    },
    "tags": []
   },
   "outputs": [],
   "source": [
    "psc = hp.PSpecContainer('pspec_crosstime.h5', keep_open=False)\n",
    "uvp_PX_cov_fg = psc.get_pspec('pI_shortbl', 'dset0_x_dset1')"
   ]
  },
  {
   "cell_type": "code",
   "execution_count": 91,
   "id": "a7d4f0f2",
   "metadata": {
    "execution": {
     "iopub.execute_input": "2022-03-10T20:42:57.366080Z",
     "iopub.status.busy": "2022-03-10T20:42:57.365505Z",
     "iopub.status.idle": "2022-03-10T20:43:02.848127Z",
     "shell.execute_reply": "2022-03-10T20:43:02.848859Z"
    },
    "papermill": {
     "duration": 5.615595,
     "end_time": "2022-03-10T20:43:02.849025",
     "exception": false,
     "start_time": "2022-03-10T20:42:57.233430",
     "status": "completed"
    },
    "tags": []
   },
   "outputs": [],
   "source": [
    "# load power spectra\n",
    "psc_ = hp.PSpecContainer('pspec_nulltest.h5', keep_open=False)\n",
    "uvp_PX_cov_n = psc_.get_pspec('pI_shortbl', 'dset0_x_dset1')"
   ]
  },
  {
   "cell_type": "code",
   "execution_count": 92,
   "id": "710a3153",
   "metadata": {
    "execution": {
     "iopub.execute_input": "2022-03-10T20:43:03.039651Z",
     "iopub.status.busy": "2022-03-10T20:43:03.039035Z",
     "iopub.status.idle": "2022-03-10T20:43:03.040626Z",
     "shell.execute_reply": "2022-03-10T20:43:03.040161Z"
    },
    "papermill": {
     "duration": 0.098792,
     "end_time": "2022-03-10T20:43:03.040757",
     "exception": false,
     "start_time": "2022-03-10T20:43:02.941965",
     "status": "completed"
    },
    "tags": []
   },
   "outputs": [],
   "source": [
    "psc = hp.PSpecContainer('pspec_systematics.h5', keep_open=False)"
   ]
  },
  {
   "cell_type": "code",
   "execution_count": 93,
   "id": "c0732047",
   "metadata": {
    "execution": {
     "iopub.execute_input": "2022-03-10T20:43:03.259756Z",
     "iopub.status.busy": "2022-03-10T20:43:03.259137Z",
     "iopub.status.idle": "2022-03-10T20:43:12.525249Z",
     "shell.execute_reply": "2022-03-10T20:43:12.525895Z"
    },
    "papermill": {
     "duration": 9.394737,
     "end_time": "2022-03-10T20:43:12.526042",
     "exception": false,
     "start_time": "2022-03-10T20:43:03.131305",
     "status": "completed"
    },
    "tags": []
   },
   "outputs": [],
   "source": [
    "uvp_P_cov_fg = psc.get_pspec('pI_shortbl_fg_P', 'dset0_x_dset1')\n",
    "uvp_P_cov_n = psc.get_pspec('pI_shortbl_noise_P', 'dset0_x_dset1')"
   ]
  },
  {
   "cell_type": "code",
   "execution_count": 94,
   "id": "ec80f529",
   "metadata": {
    "execution": {
     "iopub.execute_input": "2022-03-10T20:43:12.728119Z",
     "iopub.status.busy": "2022-03-10T20:43:12.727550Z",
     "iopub.status.idle": "2022-03-10T20:43:14.414431Z",
     "shell.execute_reply": "2022-03-10T20:43:14.415168Z"
    },
    "papermill": {
     "duration": 1.79897,
     "end_time": "2022-03-10T20:43:14.415326",
     "exception": false,
     "start_time": "2022-03-10T20:43:12.616356",
     "status": "completed"
    },
    "tags": []
   },
   "outputs": [],
   "source": [
    "uvp_PC_cov_fg = psc.get_pspec('pI_shortbl_fg_PC', 'dset0_x_dset1')\n",
    "uvp_PC_cov_n = psc.get_pspec('pI_shortbl_noise_PC', 'dset0_x_dset1')"
   ]
  },
  {
   "cell_type": "code",
   "execution_count": 95,
   "id": "1a9f5ac9",
   "metadata": {
    "execution": {
     "iopub.execute_input": "2022-03-10T20:43:14.598272Z",
     "iopub.status.busy": "2022-03-10T20:43:14.597769Z",
     "iopub.status.idle": "2022-03-10T20:43:23.907061Z",
     "shell.execute_reply": "2022-03-10T20:43:23.908409Z"
    },
    "papermill": {
     "duration": 9.406157,
     "end_time": "2022-03-10T20:43:23.908706",
     "exception": false,
     "start_time": "2022-03-10T20:43:14.502549",
     "status": "completed"
    },
    "tags": []
   },
   "outputs": [],
   "source": [
    "uvp_PXC_cov_fg = psc.get_pspec('pI_shortbl_fg_PXC', 'dset0_x_dset1')\n",
    "uvp_PXC_cov_n = psc.get_pspec('pI_shortbl_noise_PXC', 'dset0_x_dset1')"
   ]
  },
  {
   "cell_type": "markdown",
   "id": "894cb941",
   "metadata": {
    "papermill": {
     "duration": 0.088903,
     "end_time": "2022-03-10T20:43:24.122369",
     "exception": false,
     "start_time": "2022-03-10T20:43:24.033466",
     "status": "completed"
    },
    "tags": []
   },
   "source": [
    "check match in timestamps"
   ]
  },
  {
   "cell_type": "code",
   "execution_count": 96,
   "id": "52534676",
   "metadata": {
    "execution": {
     "iopub.execute_input": "2022-03-10T20:43:24.305846Z",
     "iopub.status.busy": "2022-03-10T20:43:24.305214Z",
     "iopub.status.idle": "2022-03-10T20:43:24.307539Z",
     "shell.execute_reply": "2022-03-10T20:43:24.306340Z"
    },
    "papermill": {
     "duration": 0.097624,
     "end_time": "2022-03-10T20:43:24.307665",
     "exception": false,
     "start_time": "2022-03-10T20:43:24.210041",
     "status": "completed"
    },
    "tags": []
   },
   "outputs": [
    {
     "name": "stdout",
     "output_type": "stream",
     "text": [
      "[2.24120314 2.24433583 2.24746853 2.25060122 2.25373391 2.2568666\n",
      " 2.2599993  2.26313199 2.26626468 2.26939738 2.27253007 2.27566276\n",
      " 2.27879546 2.28192815 2.28506084 2.28819354 2.29132623 2.29445892\n",
      " 2.29759161 2.30072431 2.303857   2.30698969 2.31012239 2.31325508\n",
      " 2.31638777 2.31952047 2.32265316 2.32578585 2.32891855 2.33205124]\n"
     ]
    }
   ],
   "source": [
    "print(np.unique(uvp_P_cov_fg.lst_avg_array))"
   ]
  },
  {
   "cell_type": "code",
   "execution_count": 97,
   "id": "a52fa772",
   "metadata": {
    "execution": {
     "iopub.execute_input": "2022-03-10T20:43:24.493515Z",
     "iopub.status.busy": "2022-03-10T20:43:24.492853Z",
     "iopub.status.idle": "2022-03-10T20:43:24.495238Z",
     "shell.execute_reply": "2022-03-10T20:43:24.494027Z"
    },
    "papermill": {
     "duration": 0.097511,
     "end_time": "2022-03-10T20:43:24.495379",
     "exception": false,
     "start_time": "2022-03-10T20:43:24.397868",
     "status": "completed"
    },
    "tags": []
   },
   "outputs": [
    {
     "name": "stdout",
     "output_type": "stream",
     "text": [
      "[2.24120314 2.24433583 2.24746853 2.25060122 2.25373391 2.2568666\n",
      " 2.2599993  2.26313199 2.26626468 2.26939738 2.27253007 2.27566276\n",
      " 2.27879546 2.28192815 2.28506084 2.28819354 2.29132623 2.29445892\n",
      " 2.29759161 2.30072431 2.303857   2.30698969 2.31012239 2.31325508\n",
      " 2.31638777 2.31952047 2.32265316 2.32578585 2.32891855 2.33205124]\n"
     ]
    }
   ],
   "source": [
    "print(np.unique(uvp_PX_cov_fg.lst_avg_array))"
   ]
  },
  {
   "cell_type": "code",
   "execution_count": 98,
   "id": "ccc2e9b2",
   "metadata": {
    "execution": {
     "iopub.execute_input": "2022-03-10T20:43:24.684630Z",
     "iopub.status.busy": "2022-03-10T20:43:24.684059Z",
     "iopub.status.idle": "2022-03-10T20:43:24.686305Z",
     "shell.execute_reply": "2022-03-10T20:43:24.685147Z"
    },
    "papermill": {
     "duration": 0.099369,
     "end_time": "2022-03-10T20:43:24.686420",
     "exception": false,
     "start_time": "2022-03-10T20:43:24.587051",
     "status": "completed"
    },
    "tags": []
   },
   "outputs": [
    {
     "name": "stdout",
     "output_type": "stream",
     "text": [
      "[2.24120314 2.24433583 2.24746853 2.25060122 2.25373391 2.2568666\n",
      " 2.2599993  2.26313199 2.26626468 2.26939738 2.27253007 2.27566276\n",
      " 2.27879546 2.28192815 2.28506084 2.28819354 2.29132623 2.29445892\n",
      " 2.29759161 2.30072431 2.303857   2.30698969 2.31012239 2.31325508\n",
      " 2.31638777 2.31952047 2.32265316 2.32578585 2.32891855 2.33205124]\n"
     ]
    }
   ],
   "source": [
    "print(np.unique(uvp_PC_cov_fg.lst_avg_array))"
   ]
  },
  {
   "cell_type": "code",
   "execution_count": 99,
   "id": "30658752",
   "metadata": {
    "execution": {
     "iopub.execute_input": "2022-03-10T20:43:24.878164Z",
     "iopub.status.busy": "2022-03-10T20:43:24.877555Z",
     "iopub.status.idle": "2022-03-10T20:43:24.879860Z",
     "shell.execute_reply": "2022-03-10T20:43:24.878685Z"
    },
    "papermill": {
     "duration": 0.102132,
     "end_time": "2022-03-10T20:43:24.879987",
     "exception": false,
     "start_time": "2022-03-10T20:43:24.777855",
     "status": "completed"
    },
    "tags": []
   },
   "outputs": [
    {
     "name": "stdout",
     "output_type": "stream",
     "text": [
      "[2.24120314 2.24433583 2.24746853 2.25060122 2.25373391 2.2568666\n",
      " 2.2599993  2.26313199 2.26626468 2.26939738 2.27253007 2.27566276\n",
      " 2.27879546 2.28192815 2.28506084 2.28819354 2.29132623 2.29445892\n",
      " 2.29759161 2.30072431 2.303857   2.30698969 2.31012239 2.31325508\n",
      " 2.31638777 2.31952047 2.32265316 2.32578585 2.32891855 2.33205124]\n"
     ]
    }
   ],
   "source": [
    "print(np.unique(uvp_PXC_cov_fg.lst_avg_array))"
   ]
  },
  {
   "cell_type": "markdown",
   "id": "9d91d9f2",
   "metadata": {
    "papermill": {
     "duration": 0.091532,
     "end_time": "2022-03-10T20:43:25.062533",
     "exception": false,
     "start_time": "2022-03-10T20:43:24.971001",
     "status": "completed"
    },
    "tags": []
   },
   "source": [
    "#### inpainted data"
   ]
  },
  {
   "cell_type": "code",
   "execution_count": 100,
   "id": "06f6fcee",
   "metadata": {
    "execution": {
     "iopub.execute_input": "2022-03-10T20:43:25.270236Z",
     "iopub.status.busy": "2022-03-10T20:43:25.269626Z",
     "iopub.status.idle": "2022-03-10T20:49:38.147460Z",
     "shell.execute_reply": "2022-03-10T20:49:38.148306Z"
    },
    "papermill": {
     "duration": 372.995242,
     "end_time": "2022-03-10T20:49:38.148462",
     "exception": false,
     "start_time": "2022-03-10T20:43:25.153220",
     "status": "completed"
    },
    "tags": []
   },
   "outputs": [
    {
     "name": "stderr",
     "output_type": "stream",
     "text": [
      "invalid value encountered in cdouble_scalars\n"
     ]
    },
    {
     "name": "stderr",
     "output_type": "stream",
     "text": [
      "invalid value encountered in true_divide\n",
      "Attempting to set identical left == right == -0.0 results in singular transformations; automatically expanding.\n",
      "invalid value encountered in true_divide\n",
      "invalid value encountered in true_divide\n",
      "FixedFormatter should only be used together with FixedLocator\n"
     ]
    },
    {
     "name": "stdout",
     "output_type": "stream",
     "text": [
      "beyond 3sigma nan Gauss nan Laplacian nan\n"
     ]
    },
    {
     "name": "stderr",
     "output_type": "stream",
     "text": [
      "invalid value encountered in cdouble_scalars\n"
     ]
    },
    {
     "name": "stderr",
     "output_type": "stream",
     "text": [
      "invalid value encountered in true_divide\n",
      "Attempting to set identical left == right == -0.0 results in singular transformations; automatically expanding.\n",
      "invalid value encountered in double_scalars\n",
      "invalid value encountered in true_divide\n",
      "invalid value encountered in true_divide\n",
      "FixedFormatter should only be used together with FixedLocator\n",
      "invalid value encountered in cdouble_scalars\n"
     ]
    },
    {
     "name": "stdout",
     "output_type": "stream",
     "text": [
      "beyond 3sigma nan Gauss nan Laplacian nan\n"
     ]
    },
    {
     "name": "stderr",
     "output_type": "stream",
     "text": [
      "invalid value encountered in true_divide\n",
      "Attempting to set identical left == right == -0.0 results in singular transformations; automatically expanding.\n",
      "invalid value encountered in double_scalars\n",
      "invalid value encountered in true_divide\n",
      "invalid value encountered in true_divide\n",
      "FixedFormatter should only be used together with FixedLocator\n"
     ]
    },
    {
     "name": "stdout",
     "output_type": "stream",
     "text": [
      "beyond 3sigma nan Gauss nan Laplacian nan\n",
      "30084\n"
     ]
    },
    {
     "data": {
      "image/png": "[encoded data removed]",
      "text/plain": [
       "<Figure size 1440x432 with 3 Axes>"
      ]
     },
     "metadata": {
      "needs_background": "light"
     },
     "output_type": "display_data"
    }
   ],
   "source": [
    "# used in paper\n",
    "# A larger window (2000), with normalization\n",
    "uvp_plot = uvp_P_cov_n\n",
    "num_time_samples_list = [1,5,15]\n",
    "ylim = (5*1e-13,1e-9)\n",
    "dlys = uvp_plot.get_dlys(0) * 1e9\n",
    "delay_args = np.append(np.argwhere(dlys< -2000), np.argwhere(dlys> 2000))\n",
    "suptitle = \"Inpainted HERA Phase I Data, \"+r\"$|\\tau|>2000 {\\rm ns}$\"\n",
    "\n",
    "fig, axes = plt.subplots(figsize=(20,6), ncols=3, nrows=1)\n",
    "for ax_idx, num_time_samples in enumerate(num_time_samples_list):\n",
    "    col_idx = ax_idx%3\n",
    "    times = np.arange(num_time_samples)\n",
    "   \n",
    "    # Get all keys\n",
    "    keys = uvp_plot.get_all_keys()\n",
    "    blpt_weights = np.array([[1. for item in times] for key in keys])\n",
    "    ps_real_time_avg = []\n",
    "    for dly in delay_args:\n",
    "        ps = np.array([[uvp_plot.get_data(key)[time, dly]*uvp_plot.get_stats(\"autos_diag\", keys[0])[time,0].real\\\n",
    "                        /uvp_plot.get_stats(\"autos_diag\", key)[time, dly].real for time in times] for key in keys])\n",
    "        ps_real_time_avg.extend((np.sum(ps.real*blpt_weights, axis=1)/np.sum(blpt_weights, axis=1).clip(1e-10, np.inf)).flatten())\n",
    "    ps_real_time_avg = np.array(ps_real_time_avg) - np.mean(ps_real_time_avg)\n",
    "    # The ratio of error bars to the original one\n",
    "    psunits = uvp_plot.units\n",
    "    if \"h^-1\" in psunits: psunits = psunits.replace(\"h^-1\", \"h^{-1}\")\n",
    "    if \"h^-3\" in psunits: psunits = psunits.replace(\"h^-3\", \"h^{-3}\")\n",
    "    if \"Mpc\" in psunits and \"\\\\rm\" not in psunits: \n",
    "        psunits = psunits.replace(\"Mpc\", r\"{\\rm Mpc}\")\n",
    "    if \"pi\" in psunits and \"\\\\pi\" not in psunits: \n",
    "        psunits = psunits.replace(\"pi\", r\"\\pi\")\n",
    "    \n",
    "    ax = axes[col_idx]\n",
    "    Lap_sigma_list = np.zeros(num_time_samples)\n",
    "    for time in times:\n",
    "        Lap_sigma_list[time] = uvp_plot.get_stats(\"autos_diag\", keys[0])[time, 0].real \n",
    "    Gauss_sigma = np.sqrt(np.sum(Lap_sigma_list**2))/num_time_samples\n",
    "    vlim = 6*Gauss_sigma\n",
    "    n_in_bins, bins_edge, _ = ax.hist(ps_real_time_avg, log=True, density=True, bins=61, range=(-vlim, vlim), alpha=0.75,\n",
    "                           color='pink')\n",
    "    ax.set_xlim(-vlim, vlim)\n",
    "    ax.set_ylim(*ylim)\n",
    "    \n",
    "    px = np.linspace(-vlim, vlim, 100)\n",
    "    Lap_curve = np.zeros_like(px)\n",
    "    normalized_factor = 0\n",
    "    for time in times:\n",
    "        scale_factor = 1\n",
    "        for time_ in times:\n",
    "            if time_ != time:\n",
    "                scale_factor *= Lap_sigma_list[time]**2/(Lap_sigma_list[time]**2-Lap_sigma_list[time_]**2)\n",
    "        normalized_factor += scale_factor   \n",
    "        Lap_curve += np.exp(-np.sqrt(2)*np.abs(px)/Lap_sigma_list[time]*num_time_samples)/np.sqrt(2)/Lap_sigma_list[time]*num_time_samples*scale_factor\n",
    "    \n",
    "    # Calculate the equivalent Gaussian pdf\n",
    "    Gauss_curve = np.exp(-px**2/2/Gauss_sigma**2)/np.sqrt(2*np.pi*Gauss_sigma**2)\n",
    "    \n",
    "    if np.isclose(normalized_factor,1,rtol=5e-1):\n",
    "        ax.plot(px, Lap_curve, ls='-', lw=2, label=\"Sum of Laplacians\", c='cyan')\n",
    "    ax.plot(px, Gauss_curve, ls='--', lw=2, label='Gaussian', c='slategrey')\n",
    "    bins_center = (bins_edge[1:] + bins_edge[0:-1])/2\n",
    "    outlier_3sigma = (np.sum(n_in_bins)-np.sum(n_in_bins[(-3*Gauss_sigma<=bins_center)*(bins_center<=3*Gauss_sigma)]))/np.sum(n_in_bins)\n",
    "    print(\"beyond 3sigma {}\".format(outlier_3sigma), \\\n",
    "          \"Gauss {}\".format((np.sum(Gauss_curve)-np.sum(Gauss_curve[(-3*Gauss_sigma<=px)*(px<=3*Gauss_sigma)]))/np.sum(Gauss_curve)), \\\n",
    "          \"Laplacian {}\".format((np.sum(Lap_curve)-np.sum(Lap_curve[(-3*Gauss_sigma<=px)*(px<=3*Gauss_sigma)]))/np.sum(Lap_curve)))\n",
    "    \n",
    "    # confidence interval\n",
    "    ax.axvline(x=3*Gauss_sigma, c='k', lw=1, ls=':')\n",
    "    ax.axvline(x=-3*Gauss_sigma, c='k', lw=1, ls=':')\n",
    "    ax.axvline(x=5*Gauss_sigma, c='navy', lw=1, ls=':')\n",
    "    ax.axvline(x=-5*Gauss_sigma, c='navy', lw=1, ls=':')\n",
    "    if ax_idx == 0:\n",
    "        ax.text(2.2*Gauss_sigma, 9*1e-12, r'$3 \\sigma$', ha=\"center\", va=\"center\", rotation=0,\n",
    "            fontsize=14,\n",
    "            bbox=dict(boxstyle=\"rarrow\", fc=\"green\", alpha=0.5))\n",
    "        ax.text(4.2*Gauss_sigma, 1e-10, r'$5 \\sigma$', ha=\"center\", va=\"center\", rotation=0,\n",
    "            fontsize=14,\n",
    "            bbox=dict(boxstyle=\"rarrow\", fc=\"green\", alpha=0.5))\n",
    "        ax.text(-2.2*Gauss_sigma, 9*1e-12, r'$3 \\sigma$', ha=\"center\", va=\"center\", rotation=0,\n",
    "            fontsize=14,\n",
    "            bbox=dict(boxstyle=\"larrow\", fc=\"green\", alpha=0.5))\n",
    "        ax.text(-4.2*Gauss_sigma, 1e-10, r'$5 \\sigma$', ha=\"center\", va=\"center\", rotation=0,\n",
    "            fontsize=14,\n",
    "            bbox=dict(boxstyle=\"larrow\", fc=\"green\", alpha=0.5))\n",
    "    \n",
    "    ax.tick_params(which='both', labelsize=16, length=3, width=0.5)\n",
    "    ax.xaxis.set_minor_locator(ticker.MultipleLocator(1e9))\n",
    "    xticks = ax.get_xticks()\n",
    "    ax.set_xticklabels(xticks/1e10)\n",
    "    ax.set_xlabel(\"$P(k_\\parallel)$ $[\\\\times 10^{10}\\,%s]$\" % psunits, fontsize=16)\n",
    "    if col_idx == 0: \n",
    "        ax.set_ylabel(\"pdf\", fontsize=16)\n",
    "    if ax_idx == 0:\n",
    "        ax.legend(loc='lower right', fontsize=14)\n",
    "    ax.set_title(\"Average over \\n{} timestamp(s)\".format(num_time_samples),bbox=dict(fc='wheat', alpha=0.5), fontsize=16, pad=15)\n",
    "fig.subplots_adjust(top=0.8)\n",
    "fig.suptitle(suptitle, fontsize=20, bbox=dict(fc='gold', alpha=0.5), x=0.5, y=0.99)\n",
    "print(len(uvp_plot.get_all_keys())*len(delay_args))"
   ]
  },
  {
   "cell_type": "code",
   "execution_count": 101,
   "id": "6c297789",
   "metadata": {
    "execution": {
     "iopub.execute_input": "2022-03-10T20:49:38.364320Z",
     "iopub.status.busy": "2022-03-10T20:49:38.363695Z",
     "iopub.status.idle": "2022-03-10T20:51:41.667167Z",
     "shell.execute_reply": "2022-03-10T20:51:41.667812Z"
    },
    "papermill": {
     "duration": 123.422268,
     "end_time": "2022-03-10T20:51:41.667954",
     "exception": false,
     "start_time": "2022-03-10T20:49:38.245686",
     "status": "completed"
    },
    "tags": []
   },
   "outputs": [
    {
     "name": "stderr",
     "output_type": "stream",
     "text": [
      "invalid value encountered in cdouble_scalars\n"
     ]
    },
    {
     "name": "stderr",
     "output_type": "stream",
     "text": [
      "invalid value encountered in true_divide\n",
      "Attempting to set identical left == right == -0.0 results in singular transformations; automatically expanding.\n",
      "invalid value encountered in true_divide\n",
      "invalid value encountered in true_divide\n",
      "FixedFormatter should only be used together with FixedLocator\n",
      "invalid value encountered in cdouble_scalars\n"
     ]
    },
    {
     "name": "stdout",
     "output_type": "stream",
     "text": [
      "beyond 3sigma nan Gauss nan Laplacian nan\n"
     ]
    },
    {
     "name": "stderr",
     "output_type": "stream",
     "text": [
      "invalid value encountered in true_divide\n",
      "Attempting to set identical left == right == -0.0 results in singular transformations; automatically expanding.\n",
      "invalid value encountered in double_scalars\n",
      "invalid value encountered in true_divide\n",
      "invalid value encountered in true_divide\n",
      "FixedFormatter should only be used together with FixedLocator\n",
      "invalid value encountered in cdouble_scalars\n"
     ]
    },
    {
     "name": "stdout",
     "output_type": "stream",
     "text": [
      "beyond 3sigma nan Gauss nan Laplacian nan\n"
     ]
    },
    {
     "name": "stderr",
     "output_type": "stream",
     "text": [
      "invalid value encountered in true_divide\n",
      "Attempting to set identical left == right == -0.0 results in singular transformations; automatically expanding.\n",
      "invalid value encountered in double_scalars\n",
      "invalid value encountered in true_divide\n",
      "invalid value encountered in true_divide\n",
      "FixedFormatter should only be used together with FixedLocator\n"
     ]
    },
    {
     "name": "stdout",
     "output_type": "stream",
     "text": [
      "beyond 3sigma nan Gauss nan Laplacian nan\n",
      "9936\n"
     ]
    },
    {
     "data": {
      "image/png": "[encoded data removed]",
      "text/plain": [
       "<Figure size 1440x432 with 3 Axes>"
      ]
     },
     "metadata": {
      "needs_background": "light"
     },
     "output_type": "display_data"
    }
   ],
   "source": [
    "# used in paper\n",
    "# A larger window (500-1500), with normalization\n",
    "uvp_plot = uvp_P_cov_n\n",
    "num_time_samples_list = [1,5,15]\n",
    "ylim = (5*1e-13,1e-9)\n",
    "dlys = uvp_plot.get_dlys(0) * 1e9\n",
    "delay_args = np.append(np.argwhere((dlys< -500)*(dlys>-1500)), np.argwhere((dlys< 1500)*(dlys>500)))\n",
    "suptitle = \"Inpainted HERA Phase I Data, \" + r\"$500\\,{\\rm ns}<|\\tau|<1500\\,{\\rm ns}$\"\n",
    "\n",
    "fig, axes = plt.subplots(figsize=(20,6), ncols=3, nrows=1)\n",
    "for ax_idx, num_time_samples in enumerate(num_time_samples_list):\n",
    "    col_idx = ax_idx%3\n",
    "    times = np.arange(num_time_samples)\n",
    "   \n",
    "    # Get all keys\n",
    "    keys = uvp_plot.get_all_keys()\n",
    "    blpt_weights = np.array([[1. for item in times] for key in keys])\n",
    "    ps_real_time_avg = []\n",
    "    for dly in delay_args:\n",
    "        ps = np.array([[uvp_plot.get_data(key)[time, dly]*uvp_plot.get_stats(\"autos_diag\", keys[0])[time,0].real\\\n",
    "                        /uvp_plot.get_stats(\"autos_diag\", key)[time, dly].real for time in times] for key in keys])\n",
    "        ps_real_time_avg.extend((np.sum(ps.real*blpt_weights, axis=1)/np.sum(blpt_weights, axis=1).clip(1e-10, np.inf)).flatten())\n",
    "    ps_real_time_avg = np.array(ps_real_time_avg) - np.mean(ps_real_time_avg)\n",
    "    # The ratio of error bars to the original one\n",
    "    psunits = uvp_plot.units\n",
    "    if \"h^-1\" in psunits: psunits = psunits.replace(\"h^-1\", \"h^{-1}\")\n",
    "    if \"h^-3\" in psunits: psunits = psunits.replace(\"h^-3\", \"h^{-3}\")\n",
    "    if \"Mpc\" in psunits and \"\\\\rm\" not in psunits: \n",
    "        psunits = psunits.replace(\"Mpc\", r\"{\\rm Mpc}\")\n",
    "    if \"pi\" in psunits and \"\\\\pi\" not in psunits: \n",
    "        psunits = psunits.replace(\"pi\", r\"\\pi\")\n",
    "    \n",
    "    ax = axes[col_idx]\n",
    "    Lap_sigma_list = np.zeros(num_time_samples)\n",
    "    for time in times:\n",
    "        Lap_sigma_list[time] = uvp_plot.get_stats(\"autos_diag\", keys[0])[time, 0].real \n",
    "    Gauss_sigma = np.sqrt(np.sum(Lap_sigma_list**2))/num_time_samples\n",
    "    vlim = 6*Gauss_sigma\n",
    "    n_in_bins, bins_edge, _ = ax.hist(ps_real_time_avg, log=True, density=True, bins=61, range=(-vlim, vlim), alpha=0.75,\n",
    "                           color='pink')\n",
    "    ax.set_xlim(-vlim, vlim)\n",
    "    ax.set_ylim(*ylim)\n",
    "    \n",
    "    px = np.linspace(-vlim, vlim, 100)\n",
    "    Lap_curve = np.zeros_like(px)\n",
    "    normalized_factor = 0\n",
    "    for time in times:\n",
    "        scale_factor = 1\n",
    "        for time_ in times:\n",
    "            if time_ != time:\n",
    "                scale_factor *= Lap_sigma_list[time]**2/(Lap_sigma_list[time]**2-Lap_sigma_list[time_]**2)\n",
    "        normalized_factor += scale_factor   \n",
    "        Lap_curve += np.exp(-np.sqrt(2)*np.abs(px)/Lap_sigma_list[time]*num_time_samples)/np.sqrt(2)/Lap_sigma_list[time]*num_time_samples*scale_factor\n",
    "    \n",
    "    # Calculate the equivalent Gaussian pdf\n",
    "    Gauss_curve = np.exp(-px**2/2/Gauss_sigma**2)/np.sqrt(2*np.pi*Gauss_sigma**2)\n",
    "    \n",
    "    if np.isclose(normalized_factor,1,rtol=5e-1):\n",
    "        ax.plot(px, Lap_curve, ls='-', lw=2, label=\"Sum of Laplacians\", c='cyan')\n",
    "    ax.plot(px, Gauss_curve, ls='--', lw=2, label='Gaussian', c='slategrey')\n",
    "    bins_center = (bins_edge[1:] + bins_edge[0:-1])/2\n",
    "    outlier_3sigma = (np.sum(n_in_bins)-np.sum(n_in_bins[(-3*Gauss_sigma<=bins_center)*(bins_center<=3*Gauss_sigma)]))/np.sum(n_in_bins)\n",
    "    print(\"beyond 3sigma {}\".format(outlier_3sigma), \\\n",
    "          \"Gauss {}\".format((np.sum(Gauss_curve)-np.sum(Gauss_curve[(-3*Gauss_sigma<=px)*(px<=3*Gauss_sigma)]))/np.sum(Gauss_curve)), \\\n",
    "          \"Laplacian {}\".format((np.sum(Lap_curve)-np.sum(Lap_curve[(-3*Gauss_sigma<=px)*(px<=3*Gauss_sigma)]))/np.sum(Lap_curve)))\n",
    "    # confidence interval\n",
    "    ax.axvline(x=3*Gauss_sigma, c='k', lw=1, ls=':')\n",
    "    ax.axvline(x=-3*Gauss_sigma, c='k', lw=1, ls=':')\n",
    "    ax.axvline(x=5*Gauss_sigma, c='navy', lw=1, ls=':')\n",
    "    ax.axvline(x=-5*Gauss_sigma, c='navy', lw=1, ls=':')\n",
    "    if ax_idx == 0:\n",
    "        ax.text(2.2*Gauss_sigma, 9*1e-12, r'$3 \\sigma$', ha=\"center\", va=\"center\", rotation=0,\n",
    "            fontsize=14,\n",
    "            bbox=dict(boxstyle=\"rarrow\", fc=\"green\", alpha=0.5))\n",
    "        ax.text(4.2*Gauss_sigma, 1e-10, r'$5 \\sigma$', ha=\"center\", va=\"center\", rotation=0,\n",
    "            fontsize=14,\n",
    "            bbox=dict(boxstyle=\"rarrow\", fc=\"green\", alpha=0.5))\n",
    "        ax.text(-2.2*Gauss_sigma, 9*1e-12, r'$3 \\sigma$', ha=\"center\", va=\"center\", rotation=0,\n",
    "            fontsize=14,\n",
    "            bbox=dict(boxstyle=\"larrow\", fc=\"green\", alpha=0.5))\n",
    "        ax.text(-4.2*Gauss_sigma, 1e-10, r'$5 \\sigma$', ha=\"center\", va=\"center\", rotation=0,\n",
    "            fontsize=14,\n",
    "            bbox=dict(boxstyle=\"larrow\", fc=\"green\", alpha=0.5))\n",
    "    \n",
    "    ax.tick_params(which='both', labelsize=16, length=3, width=0.5)\n",
    "    ax.xaxis.set_minor_locator(ticker.MultipleLocator(1e9))\n",
    "    xticks = ax.get_xticks()\n",
    "    ax.set_xticklabels(xticks/1e10)\n",
    "    ax.set_xlabel(\"$P(k_\\parallel)$ $[\\\\times 10^{10}\\,%s]$\" % psunits, fontsize=16)\n",
    "    if col_idx == 0: \n",
    "        ax.set_ylabel(\"pdf\", fontsize=16)\n",
    "    if ax_idx == 0:\n",
    "        ax.legend(loc='lower right', fontsize=14)\n",
    "    ax.set_title(\"Average over \\n{} timestamp(s)\".format(num_time_samples),bbox=dict(fc='wheat', alpha=0.5), fontsize=16, pad=15)\n",
    "fig.subplots_adjust(top=0.8)\n",
    "fig.suptitle(suptitle, fontsize=20, bbox=dict(fc='gold', alpha=0.5), x=0.5, y=0.99)\n",
    "print(len(uvp_plot.get_all_keys())*len(delay_args))"
   ]
  },
  {
   "cell_type": "markdown",
   "id": "549fc57c",
   "metadata": {
    "papermill": {
     "duration": 0.088734,
     "end_time": "2022-03-10T20:51:41.852722",
     "exception": false,
     "start_time": "2022-03-10T20:51:41.763988",
     "status": "completed"
    },
    "tags": []
   },
   "source": [
    "#### inpainted + reflection"
   ]
  },
  {
   "cell_type": "code",
   "execution_count": 102,
   "id": "74e39aa0",
   "metadata": {
    "execution": {
     "iopub.execute_input": "2022-03-10T20:51:42.056016Z",
     "iopub.status.busy": "2022-03-10T20:51:42.055450Z",
     "iopub.status.idle": "2022-03-10T20:57:46.790321Z",
     "shell.execute_reply": "2022-03-10T20:57:46.791055Z"
    },
    "papermill": {
     "duration": 364.84926,
     "end_time": "2022-03-10T20:57:46.791261",
     "exception": false,
     "start_time": "2022-03-10T20:51:41.942001",
     "status": "completed"
    },
    "tags": []
   },
   "outputs": [
    {
     "name": "stderr",
     "output_type": "stream",
     "text": [
      "invalid value encountered in cdouble_scalars\n"
     ]
    },
    {
     "name": "stderr",
     "output_type": "stream",
     "text": [
      "invalid value encountered in true_divide\n",
      "Attempting to set identical left == right == -0.0 results in singular transformations; automatically expanding.\n",
      "invalid value encountered in true_divide\n",
      "invalid value encountered in true_divide\n",
      "FixedFormatter should only be used together with FixedLocator\n",
      "invalid value encountered in cdouble_scalars\n"
     ]
    },
    {
     "name": "stdout",
     "output_type": "stream",
     "text": [
      "beyond 3sigma nan\n"
     ]
    },
    {
     "name": "stderr",
     "output_type": "stream",
     "text": [
      "invalid value encountered in true_divide\n",
      "Attempting to set identical left == right == -0.0 results in singular transformations; automatically expanding.\n",
      "invalid value encountered in double_scalars\n",
      "invalid value encountered in true_divide\n",
      "invalid value encountered in true_divide\n",
      "FixedFormatter should only be used together with FixedLocator\n",
      "invalid value encountered in cdouble_scalars\n"
     ]
    },
    {
     "name": "stdout",
     "output_type": "stream",
     "text": [
      "beyond 3sigma nan\n"
     ]
    },
    {
     "name": "stderr",
     "output_type": "stream",
     "text": [
      "invalid value encountered in true_divide\n",
      "Attempting to set identical left == right == -0.0 results in singular transformations; automatically expanding.\n",
      "invalid value encountered in double_scalars\n",
      "invalid value encountered in true_divide\n",
      "invalid value encountered in true_divide\n",
      "FixedFormatter should only be used together with FixedLocator\n"
     ]
    },
    {
     "name": "stdout",
     "output_type": "stream",
     "text": [
      "beyond 3sigma nan\n",
      "30084\n"
     ]
    },
    {
     "data": {
      "image/png": "[encoded data removed]",
      "text/plain": [
       "<Figure size 1440x432 with 3 Axes>"
      ]
     },
     "metadata": {
      "needs_background": "light"
     },
     "output_type": "display_data"
    }
   ],
   "source": [
    "# used in paper\n",
    "# A larger window (2000), with normalization\n",
    "uvp_plot = uvp_PC_cov_n\n",
    "num_time_samples_list = [1,5,15]\n",
    "ylim = (5*1e-13,1e-9)\n",
    "dlys = uvp_plot.get_dlys(0) * 1e9\n",
    "delay_args = np.append(np.argwhere(dlys< -2000), np.argwhere(dlys> 2000))\n",
    "suptitle = \"Inpainted+cable reflection removed, \"+r\"$|\\tau|>2000 {\\rm ns}$\"\n",
    "\n",
    "fig, axes = plt.subplots(figsize=(20,6), ncols=3, nrows=1)\n",
    "for ax_idx, num_time_samples in enumerate(num_time_samples_list):\n",
    "    col_idx = ax_idx%3\n",
    "    times = np.arange(num_time_samples)\n",
    "   \n",
    "    # Get all keys\n",
    "    keys = uvp_plot.get_all_keys()\n",
    "    blpt_weights = np.array([[1. for item in times] for key in keys])\n",
    "    ps_real_time_avg = []\n",
    "    for dly in delay_args:\n",
    "        ps = np.array([[uvp_plot.get_data(key)[time, dly]*uvp_plot.get_stats(\"autos_diag\", keys[0])[time,0].real\\\n",
    "                        /uvp_plot.get_stats(\"autos_diag\", key)[time, dly].real for time in times] for key in keys])\n",
    "        ps_real_time_avg.extend((np.sum(ps.real*blpt_weights, axis=1)/np.sum(blpt_weights, axis=1).clip(1e-10, np.inf)).flatten())\n",
    "    ps_real_time_avg = np.array(ps_real_time_avg) - np.mean(ps_real_time_avg)\n",
    "    # The ratio of error bars to the original one\n",
    "    psunits = uvp_plot.units\n",
    "    if \"h^-1\" in psunits: psunits = psunits.replace(\"h^-1\", \"h^{-1}\")\n",
    "    if \"h^-3\" in psunits: psunits = psunits.replace(\"h^-3\", \"h^{-3}\")\n",
    "    if \"Mpc\" in psunits and \"\\\\rm\" not in psunits: \n",
    "        psunits = psunits.replace(\"Mpc\", r\"{\\rm Mpc}\")\n",
    "    if \"pi\" in psunits and \"\\\\pi\" not in psunits: \n",
    "        psunits = psunits.replace(\"pi\", r\"\\pi\")\n",
    "    \n",
    "    ax = axes[col_idx]\n",
    "    Lap_sigma_list = np.zeros(num_time_samples)\n",
    "    for time in times:\n",
    "        Lap_sigma_list[time] = uvp_plot.get_stats(\"autos_diag\", keys[0])[time, 0].real \n",
    "    Gauss_sigma = np.sqrt(np.sum(Lap_sigma_list**2))/num_time_samples\n",
    "    vlim = 6*Gauss_sigma\n",
    "    n_in_bins, bins_edge, _ = ax.hist(ps_real_time_avg, log=True, density=True, bins=61, range=(-vlim, vlim), alpha=0.75,\n",
    "                           color='pink')\n",
    "    ax.set_xlim(-vlim, vlim)\n",
    "    ax.set_ylim(*ylim)\n",
    "    \n",
    "    px = np.linspace(-vlim, vlim, 100)\n",
    "    Lap_curve = np.zeros_like(px)\n",
    "    normalized_factor = 0\n",
    "    for time in times:\n",
    "        scale_factor = 1\n",
    "        for time_ in times:\n",
    "            if time_ != time:\n",
    "                scale_factor *= Lap_sigma_list[time]**2/(Lap_sigma_list[time]**2-Lap_sigma_list[time_]**2)\n",
    "        normalized_factor += scale_factor   \n",
    "        Lap_curve += np.exp(-np.sqrt(2)*np.abs(px)/Lap_sigma_list[time]*num_time_samples)/np.sqrt(2)/Lap_sigma_list[time]*num_time_samples*scale_factor\n",
    "    \n",
    "    # Calculate the equivalent Gaussian pdf\n",
    "    Gauss_curve = np.exp(-px**2/2/Gauss_sigma**2)/np.sqrt(2*np.pi*Gauss_sigma**2)\n",
    "    \n",
    "    if np.isclose(normalized_factor,1,rtol=5e-1):\n",
    "        ax.plot(px, Lap_curve, ls='-', lw=2, label=\"Sum of Laplacian\", c='cyan')\n",
    "    ax.plot(px, Gauss_curve, ls='--', lw=2, label='Gaussian', c='slategrey')\n",
    "    bins_center = (bins_edge[1:] + bins_edge[0:-1])/2\n",
    "    outlier_3sigma = (np.sum(n_in_bins)-np.sum(n_in_bins[(-3*Gauss_sigma<=bins_center)*(bins_center<=3*Gauss_sigma)]))/np.sum(n_in_bins)\n",
    "    print(\"beyond 3sigma {}\".format(outlier_3sigma))\n",
    "    \n",
    "    # confidence interval\n",
    "    ax.axvline(x=3*Gauss_sigma, c='k', lw=1, ls=':')\n",
    "    ax.axvline(x=-3*Gauss_sigma, c='k', lw=1, ls=':')\n",
    "    ax.axvline(x=5*Gauss_sigma, c='navy', lw=1, ls=':')\n",
    "    ax.axvline(x=-5*Gauss_sigma, c='navy', lw=1, ls=':')\n",
    "    if ax_idx == 0:\n",
    "        ax.text(2.2*Gauss_sigma, 9*1e-12, r'$3 \\sigma$', ha=\"center\", va=\"center\", rotation=0,\n",
    "            fontsize=14,\n",
    "            bbox=dict(boxstyle=\"rarrow\", fc=\"green\", alpha=0.5))\n",
    "        ax.text(4.2*Gauss_sigma, 1e-10, r'$5 \\sigma$', ha=\"center\", va=\"center\", rotation=0,\n",
    "            fontsize=14,\n",
    "            bbox=dict(boxstyle=\"rarrow\", fc=\"green\", alpha=0.5))\n",
    "        ax.text(-2.2*Gauss_sigma, 9*1e-12, r'$3 \\sigma$', ha=\"center\", va=\"center\", rotation=0,\n",
    "            fontsize=14,\n",
    "            bbox=dict(boxstyle=\"larrow\", fc=\"green\", alpha=0.5))\n",
    "        ax.text(-4.2*Gauss_sigma, 1e-10, r'$5 \\sigma$', ha=\"center\", va=\"center\", rotation=0,\n",
    "            fontsize=14,\n",
    "            bbox=dict(boxstyle=\"larrow\", fc=\"green\", alpha=0.5))\n",
    "    \n",
    "    ax.tick_params(which='both', labelsize=16, length=3, width=0.5)\n",
    "    ax.xaxis.set_minor_locator(ticker.MultipleLocator(1e9))\n",
    "    xticks = ax.get_xticks()\n",
    "    ax.set_xticklabels(xticks/1e10)\n",
    "    ax.set_xlabel(\"$P(k_\\parallel)$ $[\\\\times 10^{10}\\,%s]$\" % psunits, fontsize=16)\n",
    "    if col_idx == 0: \n",
    "        ax.set_ylabel(\"pdf\", fontsize=16)\n",
    "    if ax_idx == 0:\n",
    "        ax.legend(loc='lower right', fontsize=14)\n",
    "    ax.set_title(\"Average over \\n{} timestamp(s)\".format(num_time_samples),bbox=dict(fc='wheat', alpha=0.5), fontsize=16, pad=15)\n",
    "fig.subplots_adjust(top=0.8)\n",
    "fig.suptitle(suptitle, fontsize=20, bbox=dict(fc='gold', alpha=0.5), x=0.5, y=0.99)\n",
    "print(len(uvp_plot.get_all_keys())*len(delay_args))"
   ]
  },
  {
   "cell_type": "code",
   "execution_count": 103,
   "id": "6d1b4251",
   "metadata": {
    "execution": {
     "iopub.execute_input": "2022-03-10T20:57:47.011149Z",
     "iopub.status.busy": "2022-03-10T20:57:47.010575Z",
     "iopub.status.idle": "2022-03-10T20:59:48.484751Z",
     "shell.execute_reply": "2022-03-10T20:59:48.485459Z"
    },
    "papermill": {
     "duration": 121.596343,
     "end_time": "2022-03-10T20:59:48.485617",
     "exception": false,
     "start_time": "2022-03-10T20:57:46.889274",
     "status": "completed"
    },
    "tags": []
   },
   "outputs": [
    {
     "name": "stderr",
     "output_type": "stream",
     "text": [
      "invalid value encountered in cdouble_scalars\n"
     ]
    },
    {
     "name": "stderr",
     "output_type": "stream",
     "text": [
      "invalid value encountered in true_divide\n",
      "Attempting to set identical left == right == -0.0 results in singular transformations; automatically expanding.\n",
      "invalid value encountered in true_divide\n",
      "invalid value encountered in true_divide\n",
      "FixedFormatter should only be used together with FixedLocator\n",
      "invalid value encountered in cdouble_scalars\n"
     ]
    },
    {
     "name": "stderr",
     "output_type": "stream",
     "text": [
      "invalid value encountered in true_divide\n"
     ]
    },
    {
     "name": "stderr",
     "output_type": "stream",
     "text": [
      "Attempting to set identical left == right == -0.0 results in singular transformations; automatically expanding.\n",
      "invalid value encountered in double_scalars\n",
      "invalid value encountered in true_divide\n",
      "invalid value encountered in true_divide\n",
      "FixedFormatter should only be used together with FixedLocator\n",
      "invalid value encountered in cdouble_scalars\n"
     ]
    },
    {
     "name": "stderr",
     "output_type": "stream",
     "text": [
      "invalid value encountered in true_divide\n",
      "Attempting to set identical left == right == -0.0 results in singular transformations; automatically expanding.\n",
      "invalid value encountered in double_scalars\n",
      "invalid value encountered in true_divide\n",
      "invalid value encountered in true_divide\n",
      "FixedFormatter should only be used together with FixedLocator\n"
     ]
    },
    {
     "name": "stdout",
     "output_type": "stream",
     "text": [
      "9936\n"
     ]
    },
    {
     "data": {
      "image/png": "[encoded data removed]",
      "text/plain": [
       "<Figure size 1440x432 with 3 Axes>"
      ]
     },
     "metadata": {
      "needs_background": "light"
     },
     "output_type": "display_data"
    }
   ],
   "source": [
    "# used in paper\n",
    "# A larger window (500-1500), with normalization\n",
    "uvp_plot = uvp_PC_cov_n\n",
    "num_time_samples_list = [1,5,15]\n",
    "ylim = (5*1e-13,1e-9)\n",
    "dlys = uvp_plot.get_dlys(0) * 1e9\n",
    "delay_args = np.append(np.argwhere((dlys< -500)*(dlys>-1500)), np.argwhere((dlys< 1500)*(dlys>500)))\n",
    "suptitle = \"Inpainted+cable reflection removed, \" + r\"$500\\,{\\rm ns}<|\\tau|<1500\\,{\\rm ns}$\"\n",
    "\n",
    "fig, axes = plt.subplots(figsize=(20,6), ncols=3, nrows=1)\n",
    "for ax_idx, num_time_samples in enumerate(num_time_samples_list):\n",
    "    col_idx = ax_idx%3\n",
    "    times = np.arange(num_time_samples)\n",
    "   \n",
    "    # Get all keys\n",
    "    keys = uvp_plot.get_all_keys()\n",
    "    blpt_weights = np.array([[1. for item in times] for key in keys])\n",
    "    ps_real_time_avg = []\n",
    "    for dly in delay_args:\n",
    "        ps = np.array([[uvp_plot.get_data(key)[time, dly]*uvp_plot.get_stats(\"autos_diag\", keys[0])[time,0].real\\\n",
    "                        /uvp_plot.get_stats(\"autos_diag\", key)[time, dly].real for time in times] for key in keys])\n",
    "        ps_real_time_avg.extend((np.sum(ps.real*blpt_weights, axis=1)/np.sum(blpt_weights, axis=1).clip(1e-10, np.inf)).flatten())\n",
    "    ps_real_time_avg = np.array(ps_real_time_avg) - np.mean(ps_real_time_avg)\n",
    "    # The ratio of error bars to the original one\n",
    "    psunits = uvp_plot.units\n",
    "    if \"h^-1\" in psunits: psunits = psunits.replace(\"h^-1\", \"h^{-1}\")\n",
    "    if \"h^-3\" in psunits: psunits = psunits.replace(\"h^-3\", \"h^{-3}\")\n",
    "    if \"Mpc\" in psunits and \"\\\\rm\" not in psunits: \n",
    "        psunits = psunits.replace(\"Mpc\", r\"{\\rm Mpc}\")\n",
    "    if \"pi\" in psunits and \"\\\\pi\" not in psunits: \n",
    "        psunits = psunits.replace(\"pi\", r\"\\pi\")\n",
    "    \n",
    "    ax = axes[col_idx]\n",
    "    Lap_sigma_list = np.zeros(num_time_samples)\n",
    "    for time in times:\n",
    "        Lap_sigma_list[time] = uvp_plot.get_stats(\"autos_diag\", keys[0])[time, 0].real \n",
    "    Gauss_sigma = np.sqrt(np.sum(Lap_sigma_list**2))/num_time_samples\n",
    "    vlim = 6*Gauss_sigma\n",
    "    n_in_bins, bins_edge, _ = ax.hist(ps_real_time_avg, log=True, density=True, bins=61, range=(-vlim, vlim), alpha=0.75,\n",
    "                           color='pink')\n",
    "    ax.set_xlim(-vlim, vlim)\n",
    "    ax.set_ylim(*ylim)\n",
    "    \n",
    "    px = np.linspace(-vlim, vlim, 100)\n",
    "    Lap_curve = np.zeros_like(px)\n",
    "    normalized_factor = 0\n",
    "    for time in times:\n",
    "        scale_factor = 1\n",
    "        for time_ in times:\n",
    "            if time_ != time:\n",
    "                scale_factor *= Lap_sigma_list[time]**2/(Lap_sigma_list[time]**2-Lap_sigma_list[time_]**2)\n",
    "        normalized_factor += scale_factor   \n",
    "        Lap_curve += np.exp(-np.sqrt(2)*np.abs(px)/Lap_sigma_list[time]*num_time_samples)/np.sqrt(2)/Lap_sigma_list[time]*num_time_samples*scale_factor\n",
    "    \n",
    "    # Calculate the equivalent Gaussian pdf\n",
    "    Gauss_curve = np.exp(-px**2/2/Gauss_sigma**2)/np.sqrt(2*np.pi*Gauss_sigma**2)\n",
    "    \n",
    "    if np.isclose(normalized_factor,1,rtol=5e-1):\n",
    "        ax.plot(px, Lap_curve, ls='-', lw=2, label=\"sum of Laplacian\", c='cyan')\n",
    "    ax.plot(px, Gauss_curve, ls='--', lw=2, label='Gaussian', c='slategrey')\n",
    "    \n",
    "    # confidence interval\n",
    "    ax.axvline(x=3*Gauss_sigma, c='k', lw=1, ls=':')\n",
    "    ax.axvline(x=-3*Gauss_sigma, c='k', lw=1, ls=':')\n",
    "    ax.axvline(x=5*Gauss_sigma, c='navy', lw=1, ls=':')\n",
    "    ax.axvline(x=-5*Gauss_sigma, c='navy', lw=1, ls=':')\n",
    "    if ax_idx == 0:\n",
    "        ax.text(2.2*Gauss_sigma, 9*1e-12, r'$3 \\sigma$', ha=\"center\", va=\"center\", rotation=0,\n",
    "            fontsize=14,\n",
    "            bbox=dict(boxstyle=\"rarrow\", fc=\"green\", alpha=0.5))\n",
    "        ax.text(4.2*Gauss_sigma, 1e-10, r'$5 \\sigma$', ha=\"center\", va=\"center\", rotation=0,\n",
    "            fontsize=14,\n",
    "            bbox=dict(boxstyle=\"rarrow\", fc=\"green\", alpha=0.5))\n",
    "        ax.text(-2.2*Gauss_sigma, 9*1e-12, r'$3 \\sigma$', ha=\"center\", va=\"center\", rotation=0,\n",
    "            fontsize=14,\n",
    "            bbox=dict(boxstyle=\"larrow\", fc=\"green\", alpha=0.5))\n",
    "        ax.text(-4.2*Gauss_sigma, 1e-10, r'$5 \\sigma$', ha=\"center\", va=\"center\", rotation=0,\n",
    "            fontsize=14,\n",
    "            bbox=dict(boxstyle=\"larrow\", fc=\"green\", alpha=0.5))\n",
    "    \n",
    "    ax.tick_params(which='both', labelsize=16, length=3, width=0.5)\n",
    "    ax.xaxis.set_minor_locator(ticker.MultipleLocator(1e9))\n",
    "    xticks = ax.get_xticks()\n",
    "    ax.set_xticklabels(xticks/1e10)\n",
    "    ax.set_xlabel(\"$P(k_\\parallel)$ $[\\\\times 10^{10}\\,%s]$\" % psunits, fontsize=16)\n",
    "    if col_idx == 0: \n",
    "        ax.set_ylabel(\"pdf\", fontsize=16)\n",
    "    if ax_idx == 0:\n",
    "        ax.legend(loc='lower right', fontsize=14)\n",
    "    ax.set_title(\"Average over \\n{} timestamp(s)\".format(num_time_samples),bbox=dict(fc='wheat', alpha=0.5), fontsize=16, pad=15)\n",
    "fig.subplots_adjust(top=0.8)\n",
    "fig.suptitle(suptitle, fontsize=20, bbox=dict(fc='gold', alpha=0.5), x=0.5, y=0.99)\n",
    "print(len(uvp_plot.get_all_keys())*len(delay_args))"
   ]
  },
  {
   "cell_type": "markdown",
   "id": "23f50e94",
   "metadata": {
    "papermill": {
     "duration": 0.099241,
     "end_time": "2022-03-10T20:59:48.683632",
     "exception": false,
     "start_time": "2022-03-10T20:59:48.584391",
     "status": "completed"
    },
    "tags": []
   },
   "source": [
    "#### inpainted + xtalk + reflection"
   ]
  },
  {
   "cell_type": "code",
   "execution_count": 104,
   "id": "616e1417",
   "metadata": {
    "execution": {
     "iopub.execute_input": "2022-03-10T20:59:48.913622Z",
     "iopub.status.busy": "2022-03-10T20:59:48.913050Z",
     "iopub.status.idle": "2022-03-10T21:05:54.294942Z",
     "shell.execute_reply": "2022-03-10T21:05:54.295603Z"
    },
    "papermill": {
     "duration": 365.507546,
     "end_time": "2022-03-10T21:05:54.295776",
     "exception": false,
     "start_time": "2022-03-10T20:59:48.788230",
     "status": "completed"
    },
    "tags": []
   },
   "outputs": [
    {
     "name": "stderr",
     "output_type": "stream",
     "text": [
      "invalid value encountered in cdouble_scalars\n"
     ]
    },
    {
     "name": "stderr",
     "output_type": "stream",
     "text": [
      "invalid value encountered in true_divide\n",
      "Attempting to set identical left == right == -0.0 results in singular transformations; automatically expanding.\n",
      "invalid value encountered in true_divide\n",
      "invalid value encountered in true_divide\n",
      "FixedFormatter should only be used together with FixedLocator\n",
      "invalid value encountered in cdouble_scalars\n"
     ]
    },
    {
     "name": "stderr",
     "output_type": "stream",
     "text": [
      "invalid value encountered in true_divide\n",
      "Attempting to set identical left == right == -0.0 results in singular transformations; automatically expanding.\n",
      "invalid value encountered in double_scalars\n",
      "invalid value encountered in true_divide\n",
      "invalid value encountered in true_divide\n",
      "FixedFormatter should only be used together with FixedLocator\n",
      "invalid value encountered in cdouble_scalars\n"
     ]
    },
    {
     "name": "stderr",
     "output_type": "stream",
     "text": [
      "invalid value encountered in true_divide\n",
      "Attempting to set identical left == right == -0.0 results in singular transformations; automatically expanding.\n",
      "invalid value encountered in double_scalars\n",
      "invalid value encountered in true_divide\n",
      "invalid value encountered in true_divide\n",
      "FixedFormatter should only be used together with FixedLocator\n"
     ]
    },
    {
     "name": "stdout",
     "output_type": "stream",
     "text": [
      "30084\n"
     ]
    },
    {
     "data": {
      "image/png": "[encoded data removed]",
      "text/plain": [
       "<Figure size 1440x432 with 3 Axes>"
      ]
     },
     "metadata": {
      "needs_background": "light"
     },
     "output_type": "display_data"
    }
   ],
   "source": [
    "# used in paper\n",
    "# A larger window (2000), with normalization\n",
    "uvp_plot = uvp_PXC_cov_n\n",
    "num_time_samples_list = [1,5,15]\n",
    "ylim = (5*1e-13,1e-9)\n",
    "dlys = uvp_plot.get_dlys(0) * 1e9\n",
    "delay_args = np.append(np.argwhere(dlys< -2000), np.argwhere(dlys> 2000))\n",
    "suptitle = \"Inpainted+xtalk removed+cable reflection removed, \"+r\"$|\\tau|>2000 {\\rm ns}$\"\n",
    "\n",
    "fig, axes = plt.subplots(figsize=(20,6), ncols=3, nrows=1)\n",
    "for ax_idx, num_time_samples in enumerate(num_time_samples_list):\n",
    "    col_idx = ax_idx%3\n",
    "    times = np.arange(num_time_samples)\n",
    "   \n",
    "    # Get all keys\n",
    "    keys = uvp_plot.get_all_keys()\n",
    "    blpt_weights = np.array([[1. for item in times] for key in keys])\n",
    "    ps_real_time_avg = []\n",
    "    for dly in delay_args:\n",
    "        ps = np.array([[uvp_plot.get_data(key)[time, dly]*uvp_plot.get_stats(\"autos_diag\", keys[0])[time,0].real\\\n",
    "                        /uvp_plot.get_stats(\"autos_diag\", key)[time, dly].real for time in times] for key in keys])\n",
    "        ps_real_time_avg.extend((np.sum(ps.real*blpt_weights, axis=1)/np.sum(blpt_weights, axis=1).clip(1e-10, np.inf)).flatten())\n",
    "    ps_real_time_avg = np.array(ps_real_time_avg) - np.mean(ps_real_time_avg)\n",
    "    # The ratio of error bars to the original one\n",
    "    psunits = uvp_plot.units\n",
    "    if \"h^-1\" in psunits: psunits = psunits.replace(\"h^-1\", \"h^{-1}\")\n",
    "    if \"h^-3\" in psunits: psunits = psunits.replace(\"h^-3\", \"h^{-3}\")\n",
    "    if \"Mpc\" in psunits and \"\\\\rm\" not in psunits: \n",
    "        psunits = psunits.replace(\"Mpc\", r\"{\\rm Mpc}\")\n",
    "    if \"pi\" in psunits and \"\\\\pi\" not in psunits: \n",
    "        psunits = psunits.replace(\"pi\", r\"\\pi\")\n",
    "    \n",
    "    ax = axes[col_idx]\n",
    "    Lap_sigma_list = np.zeros(num_time_samples)\n",
    "    for time in times:\n",
    "        Lap_sigma_list[time] = uvp_plot.get_stats(\"autos_diag\", keys[0])[time, 0].real \n",
    "    Gauss_sigma = np.sqrt(np.sum(Lap_sigma_list**2))/num_time_samples\n",
    "    vlim = 6*Gauss_sigma\n",
    "    n_in_bins, bins_edge, _ = ax.hist(ps_real_time_avg, log=True, density=True, bins=61, range=(-vlim, vlim), alpha=0.75,\n",
    "                           color='pink')\n",
    "    ax.set_xlim(-vlim, vlim)\n",
    "    ax.set_ylim(*ylim)\n",
    "    \n",
    "    px = np.linspace(-vlim, vlim, 100)\n",
    "    Lap_curve = np.zeros_like(px)\n",
    "    normalized_factor = 0\n",
    "    for time in times:\n",
    "        scale_factor = 1\n",
    "        for time_ in times:\n",
    "            if time_ != time:\n",
    "                scale_factor *= Lap_sigma_list[time]**2/(Lap_sigma_list[time]**2-Lap_sigma_list[time_]**2)\n",
    "        normalized_factor += scale_factor   \n",
    "        Lap_curve += np.exp(-np.sqrt(2)*np.abs(px)/Lap_sigma_list[time]*num_time_samples)/np.sqrt(2)/Lap_sigma_list[time]*num_time_samples*scale_factor\n",
    "    \n",
    "    # Calculate the equivalent Gaussian pdf\n",
    "    Gauss_curve = np.exp(-px**2/2/Gauss_sigma**2)/np.sqrt(2*np.pi*Gauss_sigma**2)\n",
    "    \n",
    "    if np.isclose(normalized_factor,1,rtol=5e-1):\n",
    "        ax.plot(px, Lap_curve, ls='-', lw=2, label=\"sum of Laplacian\", c='cyan')\n",
    "    ax.plot(px, Gauss_curve, ls='--', lw=2, label='Gaussian', c='slategrey')\n",
    "    \n",
    "    # confidence interval\n",
    "    ax.axvline(x=3*Gauss_sigma, c='k', lw=1, ls=':')\n",
    "    ax.axvline(x=-3*Gauss_sigma, c='k', lw=1, ls=':')\n",
    "    ax.axvline(x=5*Gauss_sigma, c='navy', lw=1, ls=':')\n",
    "    ax.axvline(x=-5*Gauss_sigma, c='navy', lw=1, ls=':')\n",
    "    if ax_idx == 0:\n",
    "        ax.text(2.2*Gauss_sigma, 9*1e-12, r'$3 \\sigma$', ha=\"center\", va=\"center\", rotation=0,\n",
    "            fontsize=14,\n",
    "            bbox=dict(boxstyle=\"rarrow\", fc=\"green\", alpha=0.5))\n",
    "        ax.text(4.2*Gauss_sigma, 1e-10, r'$5 \\sigma$', ha=\"center\", va=\"center\", rotation=0,\n",
    "            fontsize=14,\n",
    "            bbox=dict(boxstyle=\"rarrow\", fc=\"green\", alpha=0.5))\n",
    "        ax.text(-2.2*Gauss_sigma, 9*1e-12, r'$3 \\sigma$', ha=\"center\", va=\"center\", rotation=0,\n",
    "            fontsize=14,\n",
    "            bbox=dict(boxstyle=\"larrow\", fc=\"green\", alpha=0.5))\n",
    "        ax.text(-4.2*Gauss_sigma, 1e-10, r'$5 \\sigma$', ha=\"center\", va=\"center\", rotation=0,\n",
    "            fontsize=14,\n",
    "            bbox=dict(boxstyle=\"larrow\", fc=\"green\", alpha=0.5))\n",
    "    \n",
    "    ax.tick_params(which='both', labelsize=16, length=3, width=0.5)\n",
    "    ax.xaxis.set_minor_locator(ticker.MultipleLocator(1e9))\n",
    "    xticks = ax.get_xticks()\n",
    "    ax.set_xticklabels(xticks/1e10)\n",
    "    ax.set_xlabel(\"$P(k_\\parallel)$ $[\\\\times 10^{10}\\,%s]$\" % psunits, fontsize=16)\n",
    "    if col_idx == 0: \n",
    "        ax.set_ylabel(\"pdf\", fontsize=16)\n",
    "    if ax_idx == 0:\n",
    "        ax.legend(loc='lower right', fontsize=14)\n",
    "    ax.set_title(\"Average over \\n{} timestamp(s)\".format(num_time_samples),bbox=dict(fc='wheat', alpha=0.5), fontsize=16, pad=15)\n",
    "fig.subplots_adjust(top=0.8)\n",
    "fig.suptitle(suptitle, fontsize=20, bbox=dict(fc='gold', alpha=0.5), x=0.5, y=0.99)\n",
    "print(len(uvp_plot.get_all_keys())*len(delay_args))"
   ]
  },
  {
   "cell_type": "code",
   "execution_count": 105,
   "id": "bb6876d1",
   "metadata": {
    "execution": {
     "iopub.execute_input": "2022-03-10T21:05:54.520134Z",
     "iopub.status.busy": "2022-03-10T21:05:54.519548Z",
     "iopub.status.idle": "2022-03-10T21:07:55.116296Z",
     "shell.execute_reply": "2022-03-10T21:07:55.117006Z"
    },
    "papermill": {
     "duration": 120.72182,
     "end_time": "2022-03-10T21:07:55.117161",
     "exception": false,
     "start_time": "2022-03-10T21:05:54.395341",
     "status": "completed"
    },
    "tags": []
   },
   "outputs": [
    {
     "name": "stderr",
     "output_type": "stream",
     "text": [
      "invalid value encountered in cdouble_scalars\n"
     ]
    },
    {
     "name": "stderr",
     "output_type": "stream",
     "text": [
      "invalid value encountered in true_divide\n",
      "Attempting to set identical left == right == -0.0 results in singular transformations; automatically expanding.\n",
      "invalid value encountered in true_divide\n",
      "invalid value encountered in true_divide\n",
      "FixedFormatter should only be used together with FixedLocator\n",
      "invalid value encountered in cdouble_scalars\n"
     ]
    },
    {
     "name": "stderr",
     "output_type": "stream",
     "text": [
      "invalid value encountered in true_divide\n",
      "Attempting to set identical left == right == -0.0 results in singular transformations; automatically expanding.\n",
      "invalid value encountered in double_scalars\n",
      "invalid value encountered in true_divide\n",
      "invalid value encountered in true_divide\n",
      "FixedFormatter should only be used together with FixedLocator\n",
      "invalid value encountered in cdouble_scalars\n"
     ]
    },
    {
     "name": "stderr",
     "output_type": "stream",
     "text": [
      "invalid value encountered in true_divide\n",
      "Attempting to set identical left == right == -0.0 results in singular transformations; automatically expanding.\n",
      "invalid value encountered in double_scalars\n",
      "invalid value encountered in true_divide\n",
      "invalid value encountered in true_divide\n",
      "FixedFormatter should only be used together with FixedLocator\n"
     ]
    },
    {
     "name": "stdout",
     "output_type": "stream",
     "text": [
      "9936\n"
     ]
    },
    {
     "data": {
      "image/png": "[encoded data removed]",
      "text/plain": [
       "<Figure size 1440x432 with 3 Axes>"
      ]
     },
     "metadata": {
      "needs_background": "light"
     },
     "output_type": "display_data"
    }
   ],
   "source": [
    "# used in paper\n",
    "# A larger window (500-1500), with normalization\n",
    "uvp_plot = uvp_PXC_cov_n\n",
    "num_time_samples_list = [1,5,15]\n",
    "ylim = (5*1e-13,1e-9)\n",
    "dlys = uvp_plot.get_dlys(0) * 1e9\n",
    "delay_args = np.append(np.argwhere((dlys< -500)*(dlys>-1500)), np.argwhere((dlys< 1500)*(dlys>500)))\n",
    "suptitle = \"Inpainted+xtalk removed+cable reflection removed, \" + r\"$500\\,{\\rm ns}<|\\tau|<1500\\,{\\rm ns}$\"\n",
    "\n",
    "fig, axes = plt.subplots(figsize=(20,6), ncols=3, nrows=1)\n",
    "for ax_idx, num_time_samples in enumerate(num_time_samples_list):\n",
    "    col_idx = ax_idx%3\n",
    "    times = np.arange(num_time_samples)\n",
    "   \n",
    "    # Get all keys\n",
    "    keys = uvp_plot.get_all_keys()\n",
    "    blpt_weights = np.array([[1. for item in times] for key in keys])\n",
    "    ps_real_time_avg = []\n",
    "    for dly in delay_args:\n",
    "        ps = np.array([[uvp_plot.get_data(key)[time, dly]*uvp_plot.get_stats(\"autos_diag\", keys[0])[time,0].real\\\n",
    "                        /uvp_plot.get_stats(\"autos_diag\", key)[time, dly].real for time in times] for key in keys])\n",
    "        ps_real_time_avg.extend((np.sum(ps.real*blpt_weights, axis=1)/np.sum(blpt_weights, axis=1).clip(1e-10, np.inf)).flatten())\n",
    "    ps_real_time_avg = np.array(ps_real_time_avg) - np.mean(ps_real_time_avg)\n",
    "    # The ratio of error bars to the original one\n",
    "    psunits = uvp_plot.units\n",
    "    if \"h^-1\" in psunits: psunits = psunits.replace(\"h^-1\", \"h^{-1}\")\n",
    "    if \"h^-3\" in psunits: psunits = psunits.replace(\"h^-3\", \"h^{-3}\")\n",
    "    if \"Mpc\" in psunits and \"\\\\rm\" not in psunits: \n",
    "        psunits = psunits.replace(\"Mpc\", r\"{\\rm Mpc}\")\n",
    "    if \"pi\" in psunits and \"\\\\pi\" not in psunits: \n",
    "        psunits = psunits.replace(\"pi\", r\"\\pi\")\n",
    "    \n",
    "    ax = axes[col_idx]\n",
    "    Lap_sigma_list = np.zeros(num_time_samples)\n",
    "    for time in times:\n",
    "        Lap_sigma_list[time] = uvp_plot.get_stats(\"autos_diag\", keys[0])[time, 0].real \n",
    "    Gauss_sigma = np.sqrt(np.sum(Lap_sigma_list**2))/num_time_samples\n",
    "    vlim = 6*Gauss_sigma\n",
    "    n_in_bins, bins_edge, _ = ax.hist(ps_real_time_avg, log=True, density=True, bins=61, range=(-vlim, vlim), alpha=0.75,\n",
    "                           color='pink')\n",
    "    ax.set_xlim(-vlim, vlim)\n",
    "    ax.set_ylim(*ylim)\n",
    "    \n",
    "    px = np.linspace(-vlim, vlim, 100)\n",
    "    Lap_curve = np.zeros_like(px)\n",
    "    normalized_factor = 0\n",
    "    for time in times:\n",
    "        scale_factor = 1\n",
    "        for time_ in times:\n",
    "            if time_ != time:\n",
    "                scale_factor *= Lap_sigma_list[time]**2/(Lap_sigma_list[time]**2-Lap_sigma_list[time_]**2)\n",
    "        normalized_factor += scale_factor   \n",
    "        Lap_curve += np.exp(-np.sqrt(2)*np.abs(px)/Lap_sigma_list[time]*num_time_samples)/np.sqrt(2)/Lap_sigma_list[time]*num_time_samples*scale_factor\n",
    "    \n",
    "    # Calculate the equivalent Gaussian pdf\n",
    "    Gauss_curve = np.exp(-px**2/2/Gauss_sigma**2)/np.sqrt(2*np.pi*Gauss_sigma**2)\n",
    "    \n",
    "    if np.isclose(normalized_factor,1,rtol=5e-1):\n",
    "        ax.plot(px, Lap_curve, ls='-', lw=2, label=\"sum of Laplacian\", c='cyan')\n",
    "    ax.plot(px, Gauss_curve, ls='--', lw=2, label='Gaussian', c='slategrey')\n",
    "    \n",
    "    # confidence interval\n",
    "    ax.axvline(x=3*Gauss_sigma, c='k', lw=1, ls=':')\n",
    "    ax.axvline(x=-3*Gauss_sigma, c='k', lw=1, ls=':')\n",
    "    ax.axvline(x=5*Gauss_sigma, c='navy', lw=1, ls=':')\n",
    "    ax.axvline(x=-5*Gauss_sigma, c='navy', lw=1, ls=':')\n",
    "    if ax_idx == 0:\n",
    "        ax.text(2.2*Gauss_sigma, 9*1e-12, r'$3 \\sigma$', ha=\"center\", va=\"center\", rotation=0,\n",
    "            fontsize=14,\n",
    "            bbox=dict(boxstyle=\"rarrow\", fc=\"green\", alpha=0.5))\n",
    "        ax.text(4.2*Gauss_sigma, 1e-10, r'$5 \\sigma$', ha=\"center\", va=\"center\", rotation=0,\n",
    "            fontsize=14,\n",
    "            bbox=dict(boxstyle=\"rarrow\", fc=\"green\", alpha=0.5))\n",
    "        ax.text(-2.2*Gauss_sigma, 9*1e-12, r'$3 \\sigma$', ha=\"center\", va=\"center\", rotation=0,\n",
    "            fontsize=14,\n",
    "            bbox=dict(boxstyle=\"larrow\", fc=\"green\", alpha=0.5))\n",
    "        ax.text(-4.2*Gauss_sigma, 1e-10, r'$5 \\sigma$', ha=\"center\", va=\"center\", rotation=0,\n",
    "            fontsize=14,\n",
    "            bbox=dict(boxstyle=\"larrow\", fc=\"green\", alpha=0.5))\n",
    "    \n",
    "    ax.tick_params(which='both', labelsize=16, length=3, width=0.5)\n",
    "    ax.xaxis.set_minor_locator(ticker.MultipleLocator(1e9))\n",
    "    xticks = ax.get_xticks()\n",
    "    ax.set_xticklabels(xticks/1e10)\n",
    "    ax.set_xlabel(\"$P(k_\\parallel)$ $[\\\\times 10^{10}\\,%s]$\" % psunits, fontsize=16)\n",
    "    if col_idx == 0: \n",
    "        ax.set_ylabel(\"pdf\", fontsize=16)\n",
    "    if ax_idx == 0:\n",
    "        ax.legend(loc='lower right', fontsize=14)\n",
    "    ax.set_title(\"Average over \\n{} timestamp(s)\".format(num_time_samples),bbox=dict(fc='wheat', alpha=0.5), fontsize=16, pad=15)\n",
    "fig.subplots_adjust(top=0.8)\n",
    "fig.suptitle(suptitle, fontsize=20, bbox=dict(fc='gold', alpha=0.5), x=0.5, y=0.99)\n",
    "print(len(uvp_plot.get_all_keys())*len(delay_args))"
   ]
  },
  {
   "cell_type": "code",
   "execution_count": null,
   "id": "5c42a3f9",
   "metadata": {
    "papermill": {
     "duration": 0.103688,
     "end_time": "2022-03-10T21:07:55.326988",
     "exception": false,
     "start_time": "2022-03-10T21:07:55.223300",
     "status": "completed"
    },
    "tags": []
   },
   "outputs": [],
   "source": []
  }
 ],
 "metadata": {
  "kernelspec": {
   "display_name": "Python 3 (ipykernel)",
   "language": "python",
   "name": "python3"
  },
  "language_info": {
   "codemirror_mode": {
    "name": "ipython",
    "version": 3
   },
   "file_extension": ".py",
   "mimetype": "text/x-python",
   "name": "python",
   "nbconvert_exporter": "python",
   "pygments_lexer": "ipython3",
   "version": "3.9.6"
  },
  "papermill": {
   "default_parameters": {},
   "duration": 16146.846869,
   "end_time": "2022-03-10T21:07:58.485767",
   "environment_variables": {},
   "exception": null,
   "input_path": "PaperPlots-IDR2_2.ipynb",
   "output_path": "PaperPlots-IDR2_2_437626.ipynb",
   "parameters": {},
   "start_time": "2022-03-10T16:38:51.638898",
   "version": "2.3.4"
  }
 },
 "nbformat": 4,
 "nbformat_minor": 5
}