{
 "cells": [
  {
   "cell_type": "code",
   "execution_count": 1,
   "id": "3239c5fd",
   "metadata": {
    "execution": {
     "iopub.execute_input": "2022-03-24T13:09:18.208561Z",
     "iopub.status.busy": "2022-03-24T13:09:18.207358Z",
     "iopub.status.idle": "2022-03-24T13:09:18.224628Z",
     "shell.execute_reply": "2022-03-24T13:09:18.225448Z"
    },
    "papermill": {
     "duration": 0.12802,
     "end_time": "2022-03-24T13:09:18.225711",
     "exception": false,
     "start_time": "2022-03-24T13:09:18.097691",
     "status": "completed"
    },
    "tags": []
   },
   "outputs": [
    {
     "data": {
      "text/html": [
       "\n",
       "<style>\n",
       "    div#notebook-container    { width: 95%; }\n",
       "    div#menubar-container     { width: 65%; }\n",
       "    div#maintoolbar-container { width: 99%; }\n",
       "</style>ilter\n"
      ],
      "text/plain": [
       "<IPython.core.display.HTML object>"
      ]
     },
     "metadata": {},
     "output_type": "display_data"
    },
    {
     "data": {
      "text/html": [
       "<style>div.output_scroll { height: 200em; }</style>"
      ],
      "text/plain": [
       "<IPython.core.display.HTML object>"
      ]
     },
     "metadata": {},
     "output_type": "display_data"
    }
   ],
   "source": [
    "from IPython.display import display, HTML\n",
    "\n",
    "display(HTML(data=\"\"\"\n",
    "<style>\n",
    "    div#notebook-container    { width: 95%; }\n",
    "    div#menubar-container     { width: 65%; }\n",
    "    div#maintoolbar-container { width: 99%; }\n",
    "</style>ilter\n",
    "\"\"\"))\n",
    "display(HTML(\"<style>div.output_scroll { height: 200em; }</style>\"))\n"
   ]
  },
  {
   "cell_type": "code",
   "execution_count": 2,
   "id": "a6a28d60",
   "metadata": {
    "execution": {
     "iopub.execute_input": "2022-03-24T13:09:18.358616Z",
     "iopub.status.busy": "2022-03-24T13:09:18.357955Z",
     "iopub.status.idle": "2022-03-24T13:09:18.360503Z",
     "shell.execute_reply": "2022-03-24T13:09:18.359146Z"
    },
    "papermill": {
     "duration": 0.070114,
     "end_time": "2022-03-24T13:09:18.360642",
     "exception": false,
     "start_time": "2022-03-24T13:09:18.290528",
     "status": "completed"
    },
    "tags": []
   },
   "outputs": [
    {
     "data": {
      "text/plain": [
       "'/lustre/aoc/projects/hera/hgarsden'"
      ]
     },
     "execution_count": 2,
     "metadata": {},
     "output_type": "execute_result"
    }
   ],
   "source": [
    "pwd"
   ]
  },
  {
   "cell_type": "code",
   "execution_count": 3,
   "id": "d919a4f4",
   "metadata": {
    "execution": {
     "iopub.execute_input": "2022-03-24T13:09:18.492337Z",
     "iopub.status.busy": "2022-03-24T13:09:18.491752Z",
     "iopub.status.idle": "2022-03-24T13:09:18.624588Z",
     "shell.execute_reply": "2022-03-24T13:09:18.622906Z"
    },
    "papermill": {
     "duration": 0.202134,
     "end_time": "2022-03-24T13:09:18.624835",
     "exception": false,
     "start_time": "2022-03-24T13:09:18.422701",
     "status": "completed"
    },
    "tags": []
   },
   "outputs": [
    {
     "name": "stdout",
     "output_type": "stream",
     "text": [
      "PaperPlots-IDR2_2_437335.ipynb\r\n",
      "PaperPlots-IDR2_2_437336.ipynb\r\n",
      "PaperPlots-IDR2_2_437495.ipynb\r\n",
      "PaperPlots-IDR2_2_437503.ipynb\r\n",
      "PaperPlots-IDR2_2_437626.ipynb\r\n",
      "PaperPlots-IDR2_2_437635.ipynb\r\n",
      "PaperPlots-IDR2_2_463719.ipynb\r\n",
      "PaperPlots-IDR2_2_463726.ipynb\r\n",
      "PaperPlots-IDR2_2_478159.ipynb\r\n",
      "PaperPlots-IDR2_2_518135.ipynb\r\n",
      "PaperPlots-IDR2_2.ipynb\r\n",
      "PaperPlots-IDR2_2_orig.ipynb\r\n",
      "PaperPlots-IDR2_2_out.ipynb\r\n",
      "PaperPlots-IDR2_2_sim_to_match_orig.ipynb\r\n",
      "PaperPlots-null_test_for_histed_noise_dominated_bandpowers.ipynb\r\n",
      "PaperPlots-null_test_for_histed_noise_dominated_bandpowers_orig.ipynb\r\n",
      "PaperPlots-null_test_for_histed_noise_dominated_bandpowers_out.ipynb\r\n",
      "Untitled.ipynb\r\n"
     ]
    }
   ],
   "source": [
    "ls *ipynb"
   ]
  },
  {
   "cell_type": "code",
   "execution_count": 4,
   "id": "1bfe6382",
   "metadata": {
    "execution": {
     "iopub.execute_input": "2022-03-24T13:09:18.791664Z",
     "iopub.status.busy": "2022-03-24T13:09:18.791022Z",
     "iopub.status.idle": "2022-03-24T13:09:18.792690Z",
     "shell.execute_reply": "2022-03-24T13:09:18.792178Z"
    },
    "papermill": {
     "duration": 0.073769,
     "end_time": "2022-03-24T13:09:18.793144",
     "exception": false,
     "start_time": "2022-03-24T13:09:18.719375",
     "status": "completed"
    },
    "tags": []
   },
   "outputs": [],
   "source": [
    "import sys\n",
    "sys.path.append(\"/users/hgarsden/.local/lib/python3.9/site-packages\")"
   ]
  },
  {
   "cell_type": "code",
   "execution_count": 5,
   "id": "3d767492",
   "metadata": {
    "execution": {
     "iopub.execute_input": "2022-03-24T13:09:18.923988Z",
     "iopub.status.busy": "2022-03-24T13:09:18.923430Z",
     "iopub.status.idle": "2022-03-24T13:09:26.649001Z",
     "shell.execute_reply": "2022-03-24T13:09:26.649778Z"
    },
    "papermill": {
     "duration": 7.795544,
     "end_time": "2022-03-24T13:09:26.649941",
     "exception": false,
     "start_time": "2022-03-24T13:09:18.854397",
     "status": "completed"
    },
    "scrolled": true,
    "tags": []
   },
   "outputs": [],
   "source": [
    "%matplotlib inline\n",
    "#%load_ext line_profiler\n",
    "import numpy as np\n",
    "import matplotlib\n",
    "import matplotlib.pyplot as plt\n",
    "import glob\n",
    "import hera_cal as hc\n",
    "import hera_pspec as hp\n",
    "from hera_pspec.data import DATA_PATH\n",
    "from pyuvdata import UVData, UVCal, UVFlag, utils as uvutils\n",
    "from scipy import stats, signal, interpolate\n",
    "import copy\n",
    "import matplotlib.gridspec as gridspec\n",
    "from astropy import constants\n",
    "import uvtools as uvt\n",
    "import cycler\n",
    "import itertools\n",
    "import os\n",
    "from collections import OrderedDict as odict"
   ]
  },
  {
   "cell_type": "code",
   "execution_count": 6,
   "id": "f14262a9",
   "metadata": {
    "execution": {
     "iopub.execute_input": "2022-03-24T13:09:26.780008Z",
     "iopub.status.busy": "2022-03-24T13:09:26.779379Z",
     "iopub.status.idle": "2022-03-24T13:09:26.799913Z",
     "shell.execute_reply": "2022-03-24T13:09:26.800343Z"
    },
    "papermill": {
     "duration": 0.087938,
     "end_time": "2022-03-24T13:09:26.800504",
     "exception": false,
     "start_time": "2022-03-24T13:09:26.712566",
     "status": "completed"
    },
    "tags": []
   },
   "outputs": [],
   "source": [
    "from mpl_toolkits.axes_grid1.inset_locator import inset_axes"
   ]
  },
  {
   "cell_type": "code",
   "execution_count": 7,
   "id": "8abe2cfe",
   "metadata": {
    "execution": {
     "iopub.execute_input": "2022-03-24T13:09:26.929308Z",
     "iopub.status.busy": "2022-03-24T13:09:26.928628Z",
     "iopub.status.idle": "2022-03-24T13:09:26.930320Z",
     "shell.execute_reply": "2022-03-24T13:09:26.929820Z"
    },
    "papermill": {
     "duration": 0.068325,
     "end_time": "2022-03-24T13:09:26.930446",
     "exception": false,
     "start_time": "2022-03-24T13:09:26.862121",
     "status": "completed"
    },
    "tags": []
   },
   "outputs": [],
   "source": [
    "import matplotlib.ticker as ticker"
   ]
  },
  {
   "cell_type": "code",
   "execution_count": 8,
   "id": "ddcff321",
   "metadata": {
    "execution": {
     "iopub.execute_input": "2022-03-24T13:09:27.060748Z",
     "iopub.status.busy": "2022-03-24T13:09:27.060074Z",
     "iopub.status.idle": "2022-03-24T13:09:27.061744Z",
     "shell.execute_reply": "2022-03-24T13:09:27.061267Z"
    },
    "papermill": {
     "duration": 0.069778,
     "end_time": "2022-03-24T13:09:27.061873",
     "exception": false,
     "start_time": "2022-03-24T13:09:26.992095",
     "status": "completed"
    },
    "tags": []
   },
   "outputs": [],
   "source": [
    "def fmt(x, pos):\n",
    "    a, b = '{:.2e}'.format(x).split('e')\n",
    "    b = int(b)\n",
    "    return r'${} \\times 10^{{{}}}$'.format(a, b)"
   ]
  },
  {
   "cell_type": "code",
   "execution_count": 9,
   "id": "341aa4e4",
   "metadata": {
    "execution": {
     "iopub.execute_input": "2022-03-24T13:09:27.190520Z",
     "iopub.status.busy": "2022-03-24T13:09:27.189860Z",
     "iopub.status.idle": "2022-03-24T13:09:27.191510Z",
     "shell.execute_reply": "2022-03-24T13:09:27.191032Z"
    },
    "papermill": {
     "duration": 0.068533,
     "end_time": "2022-03-24T13:09:27.191635",
     "exception": false,
     "start_time": "2022-03-24T13:09:27.123102",
     "status": "completed"
    },
    "tags": []
   },
   "outputs": [],
   "source": [
    "import matplotlib.font_manager\n",
    "\n",
    "np.seterr(all=\"raise\")\n",
    "sim_file = \"fringe_rate_filter/cleaned_sim_1000_256_noise.uvh5\""
   ]
  },
  {
   "cell_type": "markdown",
   "id": "e92d0d75",
   "metadata": {
    "papermill": {
     "duration": 0.070355,
     "end_time": "2022-03-24T13:09:27.323631",
     "exception": false,
     "start_time": "2022-03-24T13:09:27.253276",
     "status": "completed"
    },
    "tags": []
   },
   "source": [
    "### noise error bar"
   ]
  },
  {
   "cell_type": "code",
   "execution_count": 10,
   "id": "a81c42a5",
   "metadata": {
    "execution": {
     "iopub.execute_input": "2022-03-24T13:09:27.450891Z",
     "iopub.status.busy": "2022-03-24T13:09:27.450351Z",
     "iopub.status.idle": "2022-03-24T13:09:27.722824Z",
     "shell.execute_reply": "2022-03-24T13:09:27.723645Z"
    },
    "papermill": {
     "duration": 0.338717,
     "end_time": "2022-03-24T13:09:27.723935",
     "exception": false,
     "start_time": "2022-03-24T13:09:27.385218",
     "status": "completed"
    },
    "tags": []
   },
   "outputs": [],
   "source": [
    "# LST binned, Inpainted & xtalk subtracted files\n",
    "root = \"/lustre/aoc/projects/hera/H1C_IDR2/IDR2_2_pspec/v2/one_group/data/\"\n",
    "dfiles = sorted(glob.glob(root + \"zen.grp1.of1.LST.1*.HH.OCRSLP2X.uvh5\"))\n",
    "dfiles[5] = sim_file"
   ]
  },
  {
   "cell_type": "code",
   "execution_count": 11,
   "id": "e6beab28",
   "metadata": {
    "execution": {
     "iopub.execute_input": "2022-03-24T13:09:27.888302Z",
     "iopub.status.busy": "2022-03-24T13:09:27.887752Z",
     "iopub.status.idle": "2022-03-24T13:09:30.376405Z",
     "shell.execute_reply": "2022-03-24T13:09:30.377122Z"
    },
    "papermill": {
     "duration": 2.561987,
     "end_time": "2022-03-24T13:09:30.377284",
     "exception": false,
     "start_time": "2022-03-24T13:09:27.815297",
     "status": "completed"
    },
    "tags": []
   },
   "outputs": [
    {
     "name": "stdout",
     "output_type": "stream",
     "text": [
      "fringe_rate_filter/cleaned_sim_1000_256_noise.uvh5\n"
     ]
    },
    {
     "name": "stderr",
     "output_type": "stream",
     "text": [
      "Telescope hera_sim is not in known_telescopes.\n"
     ]
    }
   ],
   "source": [
    "uvd_ = UVData()\n",
    "print(dfiles[5])\n",
    "uvd_.read(dfiles[5], read_data=False)"
   ]
  },
  {
   "cell_type": "code",
   "execution_count": 12,
   "id": "94b2dabe",
   "metadata": {
    "execution": {
     "iopub.execute_input": "2022-03-24T13:09:30.523454Z",
     "iopub.status.busy": "2022-03-24T13:09:30.522899Z",
     "iopub.status.idle": "2022-03-24T13:09:30.541745Z",
     "shell.execute_reply": "2022-03-24T13:09:30.542493Z"
    },
    "papermill": {
     "duration": 0.102551,
     "end_time": "2022-03-24T13:09:30.542661",
     "exception": false,
     "start_time": "2022-03-24T13:09:30.440110",
     "status": "completed"
    },
    "tags": []
   },
   "outputs": [],
   "source": [
    "ntimes = 60      # Use this many\n",
    "times = np.unique(uvd_.time_array)\n",
    "time_range = (times[times.size//2-ntimes//2], times[times.size//2+ntimes//2-1])\n",
    "\n",
    "xants = [0,2,11,24,50,53,54,67,69,98,122,136,139]"
   ]
  },
  {
   "cell_type": "code",
   "execution_count": 13,
   "id": "5bd8af84",
   "metadata": {
    "execution": {
     "iopub.execute_input": "2022-03-24T13:09:30.689469Z",
     "iopub.status.busy": "2022-03-24T13:09:30.688914Z",
     "iopub.status.idle": "2022-03-24T13:09:30.744902Z",
     "shell.execute_reply": "2022-03-24T13:09:30.745687Z"
    },
    "papermill": {
     "duration": 0.140747,
     "end_time": "2022-03-24T13:09:30.745857",
     "exception": false,
     "start_time": "2022-03-24T13:09:30.605110",
     "status": "completed"
    },
    "tags": []
   },
   "outputs": [],
   "source": [
    "# short baseline group\n",
    "bl_len_range = (14, 15)\n",
    "bl_deg_range = (0, 1)\n",
    "reds, lens, angs = hp.utils.get_reds(uvd_, bl_len_range=bl_len_range, bl_deg_range=bl_deg_range, xants=xants)\n",
    "bls = hp.utils.flatten(reds)"
   ]
  },
  {
   "cell_type": "code",
   "execution_count": 14,
   "id": "e12bee62",
   "metadata": {
    "execution": {
     "iopub.execute_input": "2022-03-24T13:09:30.877828Z",
     "iopub.status.busy": "2022-03-24T13:09:30.877170Z",
     "iopub.status.idle": "2022-03-24T13:09:30.878815Z",
     "shell.execute_reply": "2022-03-24T13:09:30.878337Z"
    },
    "papermill": {
     "duration": 0.069225,
     "end_time": "2022-03-24T13:09:30.878939",
     "exception": false,
     "start_time": "2022-03-24T13:09:30.809714",
     "status": "completed"
    },
    "tags": []
   },
   "outputs": [],
   "source": [
    "#uvd_.get"
   ]
  },
  {
   "cell_type": "code",
   "execution_count": 15,
   "id": "c654712a",
   "metadata": {
    "execution": {
     "iopub.execute_input": "2022-03-24T13:09:31.027387Z",
     "iopub.status.busy": "2022-03-24T13:09:31.026830Z",
     "iopub.status.idle": "2022-03-24T13:11:52.611675Z",
     "shell.execute_reply": "2022-03-24T13:11:52.612433Z"
    },
    "papermill": {
     "duration": 141.671559,
     "end_time": "2022-03-24T13:11:52.612596",
     "exception": false,
     "start_time": "2022-03-24T13:09:30.941037",
     "status": "completed"
    },
    "tags": []
   },
   "outputs": [
    {
     "name": "stdout",
     "output_type": "stream",
     "text": [
      "fringe_rate_filter/cleaned_sim_1000_256_noise.uvh5\n"
     ]
    }
   ],
   "source": [
    "print(dfiles[5])\n",
    "uvd_.read(dfiles[5], time_range=time_range, antenna_nums=np.array(bls).flatten(), polarizations=['xx','yy'])"
   ]
  },
  {
   "cell_type": "code",
   "execution_count": 16,
   "id": "a684e89e",
   "metadata": {
    "execution": {
     "iopub.execute_input": "2022-03-24T13:11:52.752206Z",
     "iopub.status.busy": "2022-03-24T13:11:52.751324Z",
     "iopub.status.idle": "2022-03-24T13:11:53.027690Z",
     "shell.execute_reply": "2022-03-24T13:11:53.028730Z"
    },
    "papermill": {
     "duration": 0.347198,
     "end_time": "2022-03-24T13:11:53.028984",
     "exception": false,
     "start_time": "2022-03-24T13:11:52.681786",
     "status": "completed"
    },
    "tags": []
   },
   "outputs": [],
   "source": [
    "beam = hp.PSpecBeamUV(\"/lustre/aoc/projects/hera/nkern/beams/NF_HERA_IQ_power_beam_healpix128.fits\")"
   ]
  },
  {
   "cell_type": "code",
   "execution_count": 17,
   "id": "6373d1f1",
   "metadata": {
    "execution": {
     "iopub.execute_input": "2022-03-24T13:11:53.189470Z",
     "iopub.status.busy": "2022-03-24T13:11:53.188914Z",
     "iopub.status.idle": "2022-03-24T13:11:53.590458Z",
     "shell.execute_reply": "2022-03-24T13:11:53.591176Z"
    },
    "papermill": {
     "duration": 0.485762,
     "end_time": "2022-03-24T13:11:53.591336",
     "exception": false,
     "start_time": "2022-03-24T13:11:53.105574",
     "status": "completed"
    },
    "tags": []
   },
   "outputs": [],
   "source": [
    "uvd = hp.pstokes.construct_pstokes(uvd_, uvd_, pstokes='pI')"
   ]
  },
  {
   "cell_type": "code",
   "execution_count": 18,
   "id": "f31b23c7",
   "metadata": {
    "execution": {
     "iopub.execute_input": "2022-03-24T13:11:53.739479Z",
     "iopub.status.busy": "2022-03-24T13:11:53.738914Z",
     "iopub.status.idle": "2022-03-24T13:17:24.397358Z",
     "shell.execute_reply": "2022-03-24T13:17:24.397806Z"
    },
    "papermill": {
     "duration": 330.742945,
     "end_time": "2022-03-24T13:17:24.397989",
     "exception": false,
     "start_time": "2022-03-24T13:11:53.655044",
     "status": "completed"
    },
    "tags": []
   },
   "outputs": [
    {
     "name": "stdout",
     "output_type": "stream",
     "text": [
      "bl range for pI_shortbl (14, 15)\n",
      "Warning: LST bins in dsets misaligned by more than 15 seconds\n"
     ]
    },
    {
     "name": "stdout",
     "output_type": "stream",
     "text": [
      "Warning: LST bins in dsets misaligned by more than 15 seconds\n"
     ]
    },
    {
     "name": "stderr",
     "output_type": "stream",
     "text": [
      "Producing time-uniform covariance matrices between bandpowers.\n",
      "Casting complex values to real discards the imaginary part\n"
     ]
    },
    {
     "name": "stdout",
     "output_type": "stream",
     "text": [
      "\n"
     ]
    }
   ],
   "source": [
    "# pspec at cross time, short baseline group\n",
    "print(\"bl range for pI_shortbl\", bl_len_range)\n",
    "\n",
    "hp.pspecdata.pspec_run([copy.deepcopy(uvd)], 'pspec_nulltest.h5', groupname='pI_shortbl', spw_ranges=[(0, 180)],\n",
    "                       dset_pairs=[(0,0)], pol_pairs=['pI'], input_data_weight='identity', norm='I',\n",
    "                       rephase_to_dset=True, interleave_times=True, Jy2mK=True, overwrite=True, verbose=False,\n",
    "                       bl_len_range=bl_len_range, bl_deg_range=bl_deg_range, beam=beam, taper='bh',\n",
    "                       broadcast_dset_flags=True, time_thresh=0.99, store_cov_diag=True, cov_model='autos', \n",
    "                       exclude_auto_bls=True, exclude_cross_bls=False, exclude_permutations=True)\n",
    "\n",
    "print()"
   ]
  },
  {
   "cell_type": "code",
   "execution_count": 19,
   "id": "674b635f",
   "metadata": {
    "execution": {
     "iopub.execute_input": "2022-03-24T13:17:24.549469Z",
     "iopub.status.busy": "2022-03-24T13:17:24.548909Z",
     "iopub.status.idle": "2022-03-24T13:17:24.579858Z",
     "shell.execute_reply": "2022-03-24T13:17:24.580565Z"
    },
    "papermill": {
     "duration": 0.117001,
     "end_time": "2022-03-24T13:17:24.580729",
     "exception": false,
     "start_time": "2022-03-24T13:17:24.463728",
     "status": "completed"
    },
    "tags": []
   },
   "outputs": [],
   "source": [
    "# intermediate baseline group\n",
    "bl_len_range = (40, 45)\n",
    "bl_deg_range = (0, 1)\n",
    "reds, lens, angs = hp.utils.get_reds(uvd_, bl_len_range=bl_len_range, bl_deg_range=bl_deg_range, xants=xants)\n",
    "bls = hp.utils.flatten(reds)"
   ]
  },
  {
   "cell_type": "code",
   "execution_count": 20,
   "id": "73eafff3",
   "metadata": {
    "execution": {
     "iopub.execute_input": "2022-03-24T13:17:24.732463Z",
     "iopub.status.busy": "2022-03-24T13:17:24.731894Z",
     "iopub.status.idle": "2022-03-24T13:18:54.899294Z",
     "shell.execute_reply": "2022-03-24T13:18:54.899791Z"
    },
    "papermill": {
     "duration": 90.253965,
     "end_time": "2022-03-24T13:18:54.900255",
     "exception": false,
     "start_time": "2022-03-24T13:17:24.646290",
     "status": "completed"
    },
    "tags": []
   },
   "outputs": [
    {
     "name": "stdout",
     "output_type": "stream",
     "text": [
      "bls range for pI_medbl (40, 45)\n"
     ]
    },
    {
     "name": "stdout",
     "output_type": "stream",
     "text": [
      "Warning: LST bins in dsets misaligned by more than 15 seconds\n"
     ]
    },
    {
     "name": "stdout",
     "output_type": "stream",
     "text": [
      "Warning: LST bins in dsets misaligned by more than 15 seconds\n"
     ]
    },
    {
     "name": "stderr",
     "output_type": "stream",
     "text": [
      "Producing time-uniform covariance matrices between bandpowers.\n",
      "Casting complex values to real discards the imaginary part\n"
     ]
    },
    {
     "name": "stdout",
     "output_type": "stream",
     "text": [
      "\n"
     ]
    }
   ],
   "source": [
    "# pspec at cross time, med baseline group\n",
    "print(\"bls range for pI_medbl\", bl_len_range)\n",
    "\n",
    "hp.pspecdata.pspec_run([copy.deepcopy(uvd)], 'pspec_nulltest.h5', groupname='pI_medbl', spw_ranges=[(0, 180)],\n",
    "                       dset_pairs=[(0,0)], pol_pairs=['pI'], input_data_weight='identity', norm='I',\n",
    "                       rephase_to_dset=True, interleave_times=True, Jy2mK=True, overwrite=True, verbose=False,\n",
    "                       bl_len_range=bl_len_range, bl_deg_range=bl_deg_range, beam=beam, taper='bh',\n",
    "                       broadcast_dset_flags=True, time_thresh=0.99, store_cov_diag=True, cov_model='autos', \n",
    "                       exclude_auto_bls=True, exclude_cross_bls=False, exclude_permutations=True)\n",
    "                       \n",
    "print()"
   ]
  },
  {
   "cell_type": "markdown",
   "id": "f57c48fd",
   "metadata": {
    "papermill": {
     "duration": 0.066263,
     "end_time": "2022-03-24T13:18:55.034509",
     "exception": false,
     "start_time": "2022-03-24T13:18:54.968246",
     "status": "completed"
    },
    "tags": []
   },
   "source": [
    "### foreground_dependent error bar"
   ]
  },
  {
   "cell_type": "code",
   "execution_count": 21,
   "id": "073f5978",
   "metadata": {
    "execution": {
     "iopub.execute_input": "2022-03-24T13:18:55.174904Z",
     "iopub.status.busy": "2022-03-24T13:18:55.174295Z",
     "iopub.status.idle": "2022-03-24T13:18:55.175931Z",
     "shell.execute_reply": "2022-03-24T13:18:55.175439Z"
    },
    "papermill": {
     "duration": 0.07493,
     "end_time": "2022-03-24T13:18:55.176064",
     "exception": false,
     "start_time": "2022-03-24T13:18:55.101134",
     "status": "completed"
    },
    "tags": []
   },
   "outputs": [],
   "source": [
    "# LST binned, Inpainted & xtalk subtracted files\n",
    "root = \"/lustre/aoc/projects/hera/H1C_IDR2/IDR2_2_pspec/v2/one_group/data/\"\n",
    "dfiles = sorted(glob.glob(root + \"zen.grp1.of1.LST.1*.HH.OCRSLP2X.uvh5\"))\n",
    "dfiles[5] = sim_file"
   ]
  },
  {
   "cell_type": "code",
   "execution_count": 22,
   "id": "f3b4b3ed",
   "metadata": {
    "execution": {
     "iopub.execute_input": "2022-03-24T13:18:55.314830Z",
     "iopub.status.busy": "2022-03-24T13:18:55.314233Z",
     "iopub.status.idle": "2022-03-24T13:18:55.316603Z",
     "shell.execute_reply": "2022-03-24T13:18:55.315338Z"
    },
    "papermill": {
     "duration": 0.074539,
     "end_time": "2022-03-24T13:18:55.316722",
     "exception": false,
     "start_time": "2022-03-24T13:18:55.242183",
     "status": "completed"
    },
    "tags": []
   },
   "outputs": [
    {
     "data": {
      "text/plain": [
       "'fringe_rate_filter/cleaned_sim_1000_256_noise.uvh5'"
      ]
     },
     "execution_count": 22,
     "metadata": {},
     "output_type": "execute_result"
    }
   ],
   "source": [
    "dfiles[5]"
   ]
  },
  {
   "cell_type": "code",
   "execution_count": 23,
   "id": "6b9cf685",
   "metadata": {
    "execution": {
     "iopub.execute_input": "2022-03-24T13:18:55.481136Z",
     "iopub.status.busy": "2022-03-24T13:18:55.480570Z",
     "iopub.status.idle": "2022-03-24T13:18:55.875564Z",
     "shell.execute_reply": "2022-03-24T13:18:55.876269Z"
    },
    "papermill": {
     "duration": 0.493659,
     "end_time": "2022-03-24T13:18:55.876428",
     "exception": false,
     "start_time": "2022-03-24T13:18:55.382769",
     "status": "completed"
    },
    "tags": []
   },
   "outputs": [
    {
     "name": "stdout",
     "output_type": "stream",
     "text": [
      "fringe_rate_filter/cleaned_sim_1000_256_noise.uvh5\n"
     ]
    },
    {
     "name": "stderr",
     "output_type": "stream",
     "text": [
      "Telescope hera_sim is not in known_telescopes.\n"
     ]
    }
   ],
   "source": [
    "uvd_ = UVData()\n",
    "print(dfiles[5])\n",
    "uvd_.read(dfiles[5], read_data=False)"
   ]
  },
  {
   "cell_type": "code",
   "execution_count": 24,
   "id": "608a3682",
   "metadata": {
    "execution": {
     "iopub.execute_input": "2022-03-24T13:18:56.051538Z",
     "iopub.status.busy": "2022-03-24T13:18:56.050927Z",
     "iopub.status.idle": "2022-03-24T13:18:56.052516Z",
     "shell.execute_reply": "2022-03-24T13:18:56.052057Z"
    },
    "papermill": {
     "duration": 0.108697,
     "end_time": "2022-03-24T13:18:56.052633",
     "exception": false,
     "start_time": "2022-03-24T13:18:55.943936",
     "status": "completed"
    },
    "tags": []
   },
   "outputs": [],
   "source": [
    "xants = [0,2,11,24,50,53,54,67,69,98,122,136,139]"
   ]
  },
  {
   "cell_type": "code",
   "execution_count": 25,
   "id": "4b119c48",
   "metadata": {
    "execution": {
     "iopub.execute_input": "2022-03-24T13:18:56.206451Z",
     "iopub.status.busy": "2022-03-24T13:18:56.205888Z",
     "iopub.status.idle": "2022-03-24T13:18:56.236606Z",
     "shell.execute_reply": "2022-03-24T13:18:56.237307Z"
    },
    "papermill": {
     "duration": 0.11829,
     "end_time": "2022-03-24T13:18:56.237470",
     "exception": false,
     "start_time": "2022-03-24T13:18:56.119180",
     "status": "completed"
    },
    "tags": []
   },
   "outputs": [],
   "source": [
    "# short baseline group\n",
    "bl_len_range = (14, 15)\n",
    "bl_deg_range = (0, 1)\n",
    "reds, lens, angs = hp.utils.get_reds(uvd_, bl_len_range=bl_len_range, bl_deg_range=bl_deg_range, xants=xants)\n",
    "bls = hp.utils.flatten(reds)"
   ]
  },
  {
   "cell_type": "code",
   "execution_count": 26,
   "id": "2c4d21ea",
   "metadata": {
    "execution": {
     "iopub.execute_input": "2022-03-24T13:18:56.376137Z",
     "iopub.status.busy": "2022-03-24T13:18:56.375524Z",
     "iopub.status.idle": "2022-03-24T13:18:56.377108Z",
     "shell.execute_reply": "2022-03-24T13:18:56.376631Z"
    },
    "papermill": {
     "duration": 0.072903,
     "end_time": "2022-03-24T13:18:56.377225",
     "exception": false,
     "start_time": "2022-03-24T13:18:56.304322",
     "status": "completed"
    },
    "tags": []
   },
   "outputs": [],
   "source": [
    "refcal = '/lustre/aoc/projects/hera/H1C_IDR2/IDR2_2_pspec/v2/one_group/data/zen.grp1.of1.LST.1.50345.HH.OCRSLP2.allspws.refcal_smooth.calfits'"
   ]
  },
  {
   "cell_type": "code",
   "execution_count": 27,
   "id": "4bacf5db",
   "metadata": {
    "execution": {
     "iopub.execute_input": "2022-03-24T13:18:56.516956Z",
     "iopub.status.busy": "2022-03-24T13:18:56.516309Z",
     "iopub.status.idle": "2022-03-24T13:18:56.517939Z",
     "shell.execute_reply": "2022-03-24T13:18:56.517469Z"
    },
    "papermill": {
     "duration": 0.07323,
     "end_time": "2022-03-24T13:18:56.518076",
     "exception": false,
     "start_time": "2022-03-24T13:18:56.444846",
     "status": "completed"
    },
    "tags": []
   },
   "outputs": [],
   "source": [
    "# intermediate baseline group\n",
    "#bl_len_range = (40, 45)\n",
    "#bl_deg_range = (0, 1)\n",
    "#reds, lens, angs = hp.utils.get_reds(uvd_, bl_len_range=bl_len_range, bl_deg_range=bl_deg_range, xants=xants)\n",
    "#bls = hp.utils.flatten(reds)"
   ]
  },
  {
   "cell_type": "code",
   "execution_count": 28,
   "id": "74c2169d",
   "metadata": {
    "execution": {
     "iopub.execute_input": "2022-03-24T13:18:56.674373Z",
     "iopub.status.busy": "2022-03-24T13:18:56.673813Z",
     "iopub.status.idle": "2022-03-24T13:21:29.964849Z",
     "shell.execute_reply": "2022-03-24T13:21:29.965635Z"
    },
    "papermill": {
     "duration": 153.380242,
     "end_time": "2022-03-24T13:21:29.965799",
     "exception": false,
     "start_time": "2022-03-24T13:18:56.585557",
     "status": "completed"
    },
    "tags": []
   },
   "outputs": [
    {
     "name": "stdout",
     "output_type": "stream",
     "text": [
      "fringe_rate_filter/cleaned_sim_1000_256_noise.uvh5\n"
     ]
    }
   ],
   "source": [
    "print(dfiles[5])\n",
    "uvd_.read(dfiles[5], time_range=time_range, antenna_nums=np.array(bls).flatten(), polarizations=['xx','yy'])"
   ]
  },
  {
   "cell_type": "markdown",
   "id": "fbe26e2b",
   "metadata": {
    "papermill": {
     "duration": 0.069003,
     "end_time": "2022-03-24T13:21:30.105636",
     "exception": false,
     "start_time": "2022-03-24T13:21:30.036633",
     "status": "completed"
    },
    "tags": []
   },
   "source": [
    "### some parameters"
   ]
  },
  {
   "cell_type": "code",
   "execution_count": 29,
   "id": "c888805b",
   "metadata": {
    "execution": {
     "iopub.execute_input": "2022-03-24T13:21:30.252375Z",
     "iopub.status.busy": "2022-03-24T13:21:30.251630Z",
     "iopub.status.idle": "2022-03-24T13:21:30.254169Z",
     "shell.execute_reply": "2022-03-24T13:21:30.252885Z"
    },
    "papermill": {
     "duration": 0.079903,
     "end_time": "2022-03-24T13:21:30.254320",
     "exception": false,
     "start_time": "2022-03-24T13:21:30.174417",
     "status": "completed"
    },
    "tags": []
   },
   "outputs": [
    {
     "name": "stdout",
     "output_type": "stream",
     "text": [
      "21.48000037266036\n"
     ]
    }
   ],
   "source": [
    "print(np.mean(np.diff(np.unique(uvd_.time_array)))*24*3600)"
   ]
  },
  {
   "cell_type": "code",
   "execution_count": 30,
   "id": "1c901a0c",
   "metadata": {
    "execution": {
     "iopub.execute_input": "2022-03-24T13:21:30.398919Z",
     "iopub.status.busy": "2022-03-24T13:21:30.398260Z",
     "iopub.status.idle": "2022-03-24T13:21:30.400647Z",
     "shell.execute_reply": "2022-03-24T13:21:30.399430Z"
    },
    "papermill": {
     "duration": 0.077951,
     "end_time": "2022-03-24T13:21:30.400775",
     "exception": false,
     "start_time": "2022-03-24T13:21:30.322824",
     "status": "completed"
    },
    "tags": []
   },
   "outputs": [
    {
     "name": "stdout",
     "output_type": "stream",
     "text": [
      "21.538810908041622\n"
     ]
    }
   ],
   "source": [
    "print(np.mean(np.diff(np.unique(uvd_.lst_array)))*24*3600/2/np.pi)"
   ]
  },
  {
   "cell_type": "code",
   "execution_count": 31,
   "id": "93505f4f",
   "metadata": {
    "execution": {
     "iopub.execute_input": "2022-03-24T13:21:30.549210Z",
     "iopub.status.busy": "2022-03-24T13:21:30.548520Z",
     "iopub.status.idle": "2022-03-24T13:21:30.551043Z",
     "shell.execute_reply": "2022-03-24T13:21:30.549714Z"
    },
    "papermill": {
     "duration": 0.081263,
     "end_time": "2022-03-24T13:21:30.551172",
     "exception": false,
     "start_time": "2022-03-24T13:21:30.469909",
     "status": "completed"
    },
    "tags": []
   },
   "outputs": [
    {
     "data": {
      "text/plain": [
       "(8.55777389548382, 8.9107710742545)"
      ]
     },
     "execution_count": 31,
     "metadata": {},
     "output_type": "execute_result"
    }
   ],
   "source": [
    "np.unique(uvd_.lst_array)[0]/2/np.pi*24, np.unique(uvd_.lst_array)[-1]/2/np.pi*24"
   ]
  },
  {
   "cell_type": "code",
   "execution_count": 32,
   "id": "2a277c90",
   "metadata": {
    "execution": {
     "iopub.execute_input": "2022-03-24T13:21:30.696327Z",
     "iopub.status.busy": "2022-03-24T13:21:30.695608Z",
     "iopub.status.idle": "2022-03-24T13:21:30.698248Z",
     "shell.execute_reply": "2022-03-24T13:21:30.696848Z"
    },
    "papermill": {
     "duration": 0.077894,
     "end_time": "2022-03-24T13:21:30.698388",
     "exception": false,
     "start_time": "2022-03-24T13:21:30.620494",
     "status": "completed"
    },
    "tags": []
   },
   "outputs": [
    {
     "data": {
      "text/plain": [
       "60"
      ]
     },
     "execution_count": 32,
     "metadata": {},
     "output_type": "execute_result"
    }
   ],
   "source": [
    "uvd_.Ntimes"
   ]
  },
  {
   "cell_type": "code",
   "execution_count": 33,
   "id": "9405baea",
   "metadata": {
    "execution": {
     "iopub.execute_input": "2022-03-24T13:21:30.845599Z",
     "iopub.status.busy": "2022-03-24T13:21:30.844913Z",
     "iopub.status.idle": "2022-03-24T13:21:30.847425Z",
     "shell.execute_reply": "2022-03-24T13:21:30.846113Z"
    },
    "papermill": {
     "duration": 0.079355,
     "end_time": "2022-03-24T13:21:30.847551",
     "exception": false,
     "start_time": "2022-03-24T13:21:30.768196",
     "status": "completed"
    },
    "tags": []
   },
   "outputs": [
    {
     "data": {
      "text/plain": [
       "array([21.4799881, 21.4799881, 21.4799881, ..., 21.4799881, 21.4799881,\n",
       "       21.4799881])"
      ]
     },
     "execution_count": 33,
     "metadata": {},
     "output_type": "execute_result"
    }
   ],
   "source": [
    "uvd_.integration_time"
   ]
  },
  {
   "cell_type": "code",
   "execution_count": 34,
   "id": "e5069be0",
   "metadata": {
    "execution": {
     "iopub.execute_input": "2022-03-24T13:21:30.996042Z",
     "iopub.status.busy": "2022-03-24T13:21:30.995351Z",
     "iopub.status.idle": "2022-03-24T13:21:30.997871Z",
     "shell.execute_reply": "2022-03-24T13:21:30.996555Z"
    },
    "papermill": {
     "duration": 0.080405,
     "end_time": "2022-03-24T13:21:30.998015",
     "exception": false,
     "start_time": "2022-03-24T13:21:30.917610",
     "status": "completed"
    },
    "tags": []
   },
   "outputs": [
    {
     "data": {
      "text/plain": [
       "(21.47998809814453,)"
      ]
     },
     "execution_count": 34,
     "metadata": {},
     "output_type": "execute_result"
    }
   ],
   "source": [
    "np.mean(uvd_.integration_time), "
   ]
  },
  {
   "cell_type": "code",
   "execution_count": 35,
   "id": "9644469d",
   "metadata": {
    "execution": {
     "iopub.execute_input": "2022-03-24T13:21:31.145257Z",
     "iopub.status.busy": "2022-03-24T13:21:31.144276Z",
     "iopub.status.idle": "2022-03-24T13:21:32.216244Z",
     "shell.execute_reply": "2022-03-24T13:21:32.217034Z"
    },
    "papermill": {
     "duration": 1.148467,
     "end_time": "2022-03-24T13:21:32.217200",
     "exception": false,
     "start_time": "2022-03-24T13:21:31.068733",
     "status": "completed"
    },
    "tags": []
   },
   "outputs": [
    {
     "name": "stderr",
     "output_type": "stream",
     "text": [
      "telescope_location is not set. Using known values for HERA.\n",
      "antenna_positions is not set. Using known values for HERA.\n"
     ]
    }
   ],
   "source": [
    "uvcal_ref = UVCal()\n",
    "uvcal_ref.read_calfits(refcal)"
   ]
  },
  {
   "cell_type": "code",
   "execution_count": 36,
   "id": "88207f4a",
   "metadata": {
    "execution": {
     "iopub.execute_input": "2022-03-24T13:21:32.369244Z",
     "iopub.status.busy": "2022-03-24T13:21:32.368581Z",
     "iopub.status.idle": "2022-03-24T13:21:32.370256Z",
     "shell.execute_reply": "2022-03-24T13:21:32.369714Z"
    },
    "papermill": {
     "duration": 0.081508,
     "end_time": "2022-03-24T13:21:32.370400",
     "exception": false,
     "start_time": "2022-03-24T13:21:32.288892",
     "status": "completed"
    },
    "tags": []
   },
   "outputs": [],
   "source": [
    "uvd_PXC_ = uvd_ #uvutils.uvcalibrate(uvd_, uvcal_ref, inplace=False, prop_flags=True, flag_missing=False)"
   ]
  },
  {
   "cell_type": "code",
   "execution_count": 37,
   "id": "3c5b5bc0",
   "metadata": {
    "execution": {
     "iopub.execute_input": "2022-03-24T13:21:32.533509Z",
     "iopub.status.busy": "2022-03-24T13:21:32.532943Z",
     "iopub.status.idle": "2022-03-24T13:21:33.122773Z",
     "shell.execute_reply": "2022-03-24T13:21:33.123509Z"
    },
    "papermill": {
     "duration": 0.682159,
     "end_time": "2022-03-24T13:21:33.123671",
     "exception": false,
     "start_time": "2022-03-24T13:21:32.441512",
     "status": "completed"
    },
    "tags": []
   },
   "outputs": [],
   "source": [
    "uvd_PXC =hp.pstokes.construct_pstokes(uvd_PXC_, uvd_PXC_, pstokes='pI')"
   ]
  },
  {
   "cell_type": "code",
   "execution_count": 38,
   "id": "e0dd92fa",
   "metadata": {
    "execution": {
     "iopub.execute_input": "2022-03-24T13:21:33.289481Z",
     "iopub.status.busy": "2022-03-24T13:21:33.288927Z",
     "iopub.status.idle": "2022-03-24T13:21:33.727622Z",
     "shell.execute_reply": "2022-03-24T13:21:33.728399Z"
    },
    "papermill": {
     "duration": 0.53302,
     "end_time": "2022-03-24T13:21:33.728566",
     "exception": false,
     "start_time": "2022-03-24T13:21:33.195546",
     "status": "completed"
    },
    "tags": []
   },
   "outputs": [],
   "source": [
    "uvd = hp.pstokes.construct_pstokes(uvd_, uvd_, pstokes='pI')"
   ]
  },
  {
   "cell_type": "code",
   "execution_count": 39,
   "id": "d34bea5b",
   "metadata": {
    "execution": {
     "iopub.execute_input": "2022-03-24T13:21:33.894548Z",
     "iopub.status.busy": "2022-03-24T13:21:33.893984Z",
     "iopub.status.idle": "2022-03-24T13:21:33.907565Z",
     "shell.execute_reply": "2022-03-24T13:21:33.908395Z"
    },
    "papermill": {
     "duration": 0.108097,
     "end_time": "2022-03-24T13:21:33.908574",
     "exception": false,
     "start_time": "2022-03-24T13:21:33.800477",
     "status": "completed"
    },
    "tags": []
   },
   "outputs": [],
   "source": [
    "beam = hp.PSpecBeamUV(\"/lustre/aoc/projects/hera/nkern/beams/NF_HERA_IQ_power_beam_healpix128.fits\")"
   ]
  },
  {
   "cell_type": "markdown",
   "id": "ac68f0e3",
   "metadata": {
    "papermill": {
     "duration": 0.071105,
     "end_time": "2022-03-24T13:21:34.052225",
     "exception": false,
     "start_time": "2022-03-24T13:21:33.981120",
     "status": "completed"
    },
    "tags": []
   },
   "source": [
    "get the differenced visibility"
   ]
  },
  {
   "cell_type": "code",
   "execution_count": 40,
   "id": "89d7fcbc",
   "metadata": {
    "execution": {
     "iopub.execute_input": "2022-03-24T13:21:34.232552Z",
     "iopub.status.busy": "2022-03-24T13:21:34.231983Z",
     "iopub.status.idle": "2022-03-24T13:21:34.492374Z",
     "shell.execute_reply": "2022-03-24T13:21:34.493090Z"
    },
    "papermill": {
     "duration": 0.353688,
     "end_time": "2022-03-24T13:21:34.493249",
     "exception": false,
     "start_time": "2022-03-24T13:21:34.139561",
     "status": "completed"
    },
    "tags": []
   },
   "outputs": [],
   "source": [
    "uvd1 = uvd.select(times=np.unique(uvd.time_array)[0:-1:2],inplace=False)\n",
    "uvd2 = uvd.select(times=np.unique(uvd.time_array)[1::2],inplace=False)\n",
    "uvd_td = copy.deepcopy(uvd1)\n",
    "uvd_td.data_array = (uvd2.data_array - uvd1.data_array)/np.sqrt(2)"
   ]
  },
  {
   "cell_type": "code",
   "execution_count": 41,
   "id": "0fad59e2",
   "metadata": {
    "execution": {
     "iopub.execute_input": "2022-03-24T13:21:34.657518Z",
     "iopub.status.busy": "2022-03-24T13:21:34.656934Z",
     "iopub.status.idle": "2022-03-24T13:22:27.056148Z",
     "shell.execute_reply": "2022-03-24T13:22:27.056601Z"
    },
    "papermill": {
     "duration": 52.491608,
     "end_time": "2022-03-24T13:22:27.056762",
     "exception": false,
     "start_time": "2022-03-24T13:21:34.565154",
     "status": "completed"
    },
    "tags": []
   },
   "outputs": [
    {
     "name": "stderr",
     "output_type": "stream",
     "text": [
      "Casting complex values to real discards the imaginary part\n"
     ]
    },
    {
     "data": {
      "text/plain": [
       "<hera_pspec.pspecdata.PSpecData at 0x7fe29dd09d90>"
      ]
     },
     "execution_count": 41,
     "metadata": {},
     "output_type": "execute_result"
    }
   ],
   "source": [
    "# pspec at cross time\n",
    "hp.pspecdata.pspec_run([copy.deepcopy(uvd_td)], 'pspec_crosstime.h5', groupname='pI_shortbl_timediff', spw_ranges=[(0, 180)],\n",
    "                       dset_pairs=[(0,0)], pol_pairs=['pI'], input_data_weight='identity', norm='I',\n",
    "                       rephase_to_dset=False, interleave_times=False, Jy2mK=True, overwrite=True, verbose=False,\n",
    "                       bl_len_range=bl_len_range, bl_deg_range=bl_deg_range, beam=beam, taper='bh',\n",
    "                       broadcast_dset_flags=True, time_thresh=0.99, exclude_auto_bls=True, exclude_cross_bls=False, exclude_permutations=True)"
   ]
  },
  {
   "cell_type": "code",
   "execution_count": 42,
   "id": "20b4ed93",
   "metadata": {
    "execution": {
     "iopub.execute_input": "2022-03-24T13:22:27.221480Z",
     "iopub.status.busy": "2022-03-24T13:22:27.220919Z"
    },
    "papermill": {
     "duration": null,
     "end_time": null,
     "exception": false,
     "start_time": "2022-03-24T13:22:27.128238",
     "status": "running"
    },
    "scrolled": true,
    "tags": []
   },
   "outputs": [
    {
     "name": "stdout",
     "output_type": "stream",
     "text": [
      "Warning: LST bins in dsets misaligned by more than 15 seconds\n"
     ]
    },
    {
     "name": "stdout",
     "output_type": "stream",
     "text": [
      "Warning: LST bins in dsets misaligned by more than 15 seconds\n"
     ]
    },
    {
     "name": "stderr",
     "output_type": "stream",
     "text": [
      "Casting complex values to real discards the imaginary part\n"
     ]
    }
   ],
   "source": [
    "# pspec at cross time\n",
    "hp.pspecdata.pspec_run([copy.deepcopy(uvd)], 'pspec_crosstime.h5', groupname='pI_shortbl', spw_ranges=[(0, 180)],\n",
    "                       dset_pairs=[(0,0)], pol_pairs=['pI'], input_data_weight='identity', norm='I',\n",
    "                       rephase_to_dset=True, interleave_times=True, Jy2mK=True, overwrite=True, verbose=False,\n",
    "                       bl_len_range=bl_len_range, bl_deg_range=bl_deg_range, beam=beam, taper='bh',\n",
    "                       broadcast_dset_flags=True, time_thresh=0.99, store_cov_diag=True, cov_model='foreground_dependent', \n",
    "                       exclude_auto_bls=True, exclude_cross_bls=False, exclude_permutations=True)"
   ]
  },
  {
   "cell_type": "code",
   "execution_count": null,
   "id": "eb80e44d",
   "metadata": {
    "papermill": {
     "duration": null,
     "end_time": null,
     "exception": null,
     "start_time": null,
     "status": "pending"
    },
    "tags": []
   },
   "outputs": [],
   "source": [
    "psc = hp.PSpecContainer('pspec_crosstime.h5', mode='rw', keep_open=True)\n",
    "uvp_cov_fg = psc.get_pspec('pI_shortbl', 'dset0_x_dset1')"
   ]
  },
  {
   "cell_type": "code",
   "execution_count": null,
   "id": "c682b058",
   "metadata": {
    "papermill": {
     "duration": null,
     "end_time": null,
     "exception": null,
     "start_time": null,
     "status": "pending"
    },
    "tags": []
   },
   "outputs": [],
   "source": [
    "auto_Tsys = hp.utils.uvd_to_Tsys(uvd, beam)\n",
    "hp.utils.uvp_noise_error(uvp_cov_fg, auto_Tsys, err_type=['P_N','P_SN'])"
   ]
  },
  {
   "cell_type": "code",
   "execution_count": null,
   "id": "780756be",
   "metadata": {
    "papermill": {
     "duration": null,
     "end_time": null,
     "exception": null,
     "start_time": null,
     "status": "pending"
    },
    "tags": []
   },
   "outputs": [],
   "source": [
    "psc.set_pspec('pI_shortbl', 'dset0_x_dset1', uvp_cov_fg, overwrite=True)"
   ]
  },
  {
   "cell_type": "markdown",
   "id": "a5eea57f",
   "metadata": {
    "papermill": {
     "duration": null,
     "end_time": null,
     "exception": null,
     "start_time": null,
     "status": "pending"
    },
    "tags": []
   },
   "source": [
    "## load power spectra"
   ]
  },
  {
   "cell_type": "code",
   "execution_count": null,
   "id": "a358638c",
   "metadata": {
    "papermill": {
     "duration": null,
     "end_time": null,
     "exception": null,
     "start_time": null,
     "status": "pending"
    },
    "tags": []
   },
   "outputs": [],
   "source": [
    "psc = hp.PSpecContainer('pspec_crosstime.h5', keep_open=False)\n",
    "uvp_cov_fg = psc.get_pspec('pI_shortbl', 'dset0_x_dset1')\n",
    "uvp_td = psc.get_pspec('pI_shortbl_timediff', 'dset0_x_dset0')"
   ]
  },
  {
   "cell_type": "code",
   "execution_count": null,
   "id": "37c44843",
   "metadata": {
    "papermill": {
     "duration": null,
     "end_time": null,
     "exception": null,
     "start_time": null,
     "status": "pending"
    },
    "tags": []
   },
   "outputs": [],
   "source": [
    "psc_ = hp.PSpecContainer('pspec_nulltest.h5', keep_open=False)\n",
    "uvp_cov_n = psc_.get_pspec('pI_shortbl', 'dset0_x_dset1')"
   ]
  },
  {
   "cell_type": "code",
   "execution_count": null,
   "id": "79c9eacc",
   "metadata": {
    "papermill": {
     "duration": null,
     "end_time": null,
     "exception": null,
     "start_time": null,
     "status": "pending"
    },
    "tags": []
   },
   "outputs": [],
   "source": [
    "delay_resolution = 1 / (uvp_cov_fg.freq_array[-1]-uvp_cov_fg.freq_array[0])*1e9"
   ]
  },
  {
   "cell_type": "markdown",
   "id": "ace01fa3",
   "metadata": {
    "papermill": {
     "duration": null,
     "end_time": null,
     "exception": null,
     "start_time": null,
     "status": "pending"
    },
    "tags": []
   },
   "source": [
    "#### other systematics"
   ]
  },
  {
   "cell_type": "markdown",
   "id": "7b04deca",
   "metadata": {
    "papermill": {
     "duration": null,
     "end_time": null,
     "exception": null,
     "start_time": null,
     "status": "pending"
    },
    "tags": []
   },
   "source": [
    "PXC"
   ]
  },
  {
   "cell_type": "code",
   "execution_count": null,
   "id": "961b40c4",
   "metadata": {
    "papermill": {
     "duration": null,
     "end_time": null,
     "exception": null,
     "start_time": null,
     "status": "pending"
    },
    "tags": []
   },
   "outputs": [],
   "source": [
    "# pspec at cross time\n",
    "hp.pspecdata.pspec_run([copy.deepcopy(uvd_PXC)], 'pspec_systematics.h5', groupname='pI_shortbl_fg_PXC', spw_ranges=[(0, 180)],\n",
    "                       dset_pairs=[(0,0)], pol_pairs=['pI'], input_data_weight='identity', norm='I',\n",
    "                       rephase_to_dset=True, interleave_times=True, Jy2mK=True, overwrite=True, verbose=False,\n",
    "                       bl_len_range=bl_len_range, bl_deg_range=bl_deg_range, beam=beam, taper='bh',\n",
    "                       broadcast_dset_flags=True, time_thresh=0.99, store_cov_diag=True, cov_model='foreground_dependent', \n",
    "                       exclude_auto_bls=True, exclude_cross_bls=False, exclude_permutations=True)"
   ]
  },
  {
   "cell_type": "code",
   "execution_count": null,
   "id": "b1a152fb",
   "metadata": {
    "papermill": {
     "duration": null,
     "end_time": null,
     "exception": null,
     "start_time": null,
     "status": "pending"
    },
    "tags": []
   },
   "outputs": [],
   "source": [
    "# pspec at cross time\n",
    "hp.pspecdata.pspec_run([copy.deepcopy(uvd_PXC)], 'pspec_systematics.h5', groupname='pI_shortbl_noise_PXC', spw_ranges=[(0, 180)],\n",
    "                       dset_pairs=[(0,0)], pol_pairs=['pI'], input_data_weight='identity', norm='I',\n",
    "                       rephase_to_dset=True, interleave_times=True, Jy2mK=True, overwrite=True, verbose=False,\n",
    "                       bl_len_range=bl_len_range, bl_deg_range=bl_deg_range, beam=beam, taper='bh',\n",
    "                       broadcast_dset_flags=True, time_thresh=0.99, store_cov_diag=True, cov_model='autos', \n",
    "                       exclude_auto_bls=True, exclude_cross_bls=False, exclude_permutations=True)"
   ]
  },
  {
   "cell_type": "markdown",
   "id": "2d5cbb00",
   "metadata": {
    "papermill": {
     "duration": null,
     "end_time": null,
     "exception": null,
     "start_time": null,
     "status": "pending"
    },
    "tags": []
   },
   "source": [
    "P and PC"
   ]
  },
  {
   "cell_type": "code",
   "execution_count": null,
   "id": "623c864c",
   "metadata": {
    "papermill": {
     "duration": null,
     "end_time": null,
     "exception": null,
     "start_time": null,
     "status": "pending"
    },
    "tags": []
   },
   "outputs": [],
   "source": [
    "# LST binned, Inpainted files\n",
    "root = \"/lustre/aoc/projects/hera/H1C_IDR2/IDR2_2_pspec/v2/one_group/data/\"\n",
    "dfiles = sorted(glob.glob(root + \"zen.grp1.of1.LST.1*.HH.OCRSLP2.uvh5\"))\n",
    "dfiles[5] = sim_file"
   ]
  },
  {
   "cell_type": "code",
   "execution_count": null,
   "id": "fe909e29",
   "metadata": {
    "papermill": {
     "duration": null,
     "end_time": null,
     "exception": null,
     "start_time": null,
     "status": "pending"
    },
    "tags": []
   },
   "outputs": [],
   "source": [
    "dfiles[5]"
   ]
  },
  {
   "cell_type": "code",
   "execution_count": null,
   "id": "bb645c37",
   "metadata": {
    "papermill": {
     "duration": null,
     "end_time": null,
     "exception": null,
     "start_time": null,
     "status": "pending"
    },
    "tags": []
   },
   "outputs": [],
   "source": [
    "uvd_P_ = UVData()\n",
    "print(dfiles[5])\n",
    "uvd_P_ .read(dfiles[5], read_data=False)"
   ]
  },
  {
   "cell_type": "code",
   "execution_count": null,
   "id": "1677b4b5",
   "metadata": {
    "papermill": {
     "duration": null,
     "end_time": null,
     "exception": null,
     "start_time": null,
     "status": "pending"
    },
    "tags": []
   },
   "outputs": [],
   "source": [
    "xants = [0,2,11,24,50,53,54,67,69,98,122,136,139]"
   ]
  },
  {
   "cell_type": "code",
   "execution_count": null,
   "id": "ad81f2f0",
   "metadata": {
    "papermill": {
     "duration": null,
     "end_time": null,
     "exception": null,
     "start_time": null,
     "status": "pending"
    },
    "tags": []
   },
   "outputs": [],
   "source": [
    "# short baseline group\n",
    "bl_len_range = (14, 15)\n",
    "bl_deg_range = (0, 1)\n",
    "reds, lens, angs = hp.utils.get_reds(uvd_P_, bl_len_range=bl_len_range, bl_deg_range=bl_deg_range, xants=xants)\n",
    "bls = hp.utils.flatten(reds)"
   ]
  },
  {
   "cell_type": "code",
   "execution_count": null,
   "id": "d1277493",
   "metadata": {
    "papermill": {
     "duration": null,
     "end_time": null,
     "exception": null,
     "start_time": null,
     "status": "pending"
    },
    "tags": []
   },
   "outputs": [],
   "source": [
    "refcal = '/lustre/aoc/projects/hera/H1C_IDR2/IDR2_2_pspec/v2/one_group/data/zen.grp1.of1.LST.1.50345.HH.OCRSLP2.allspws.refcal_smooth.calfits'"
   ]
  },
  {
   "cell_type": "code",
   "execution_count": null,
   "id": "32cff399",
   "metadata": {
    "papermill": {
     "duration": null,
     "end_time": null,
     "exception": null,
     "start_time": null,
     "status": "pending"
    },
    "tags": []
   },
   "outputs": [],
   "source": [
    "print(dfiles[5])\n",
    "uvd_P_.read(dfiles[5], time_range=time_range, antenna_nums=np.array(bls).flatten(), polarizations=['xx','yy'])"
   ]
  },
  {
   "cell_type": "code",
   "execution_count": null,
   "id": "e98e519d",
   "metadata": {
    "papermill": {
     "duration": null,
     "end_time": null,
     "exception": null,
     "start_time": null,
     "status": "pending"
    },
    "tags": []
   },
   "outputs": [],
   "source": [
    "uvcal_ref = UVCal()\n",
    "uvcal_ref.read_calfits(refcal)"
   ]
  },
  {
   "cell_type": "code",
   "execution_count": null,
   "id": "ef2cb3b1",
   "metadata": {
    "papermill": {
     "duration": null,
     "end_time": null,
     "exception": null,
     "start_time": null,
     "status": "pending"
    },
    "tags": []
   },
   "outputs": [],
   "source": [
    "uvd_PC_ = uvd_P_ #uvutils.uvcalibrate(uvd_P_, uvcal_ref, inplace=False, prop_flags=True, flag_missing=True)"
   ]
  },
  {
   "cell_type": "code",
   "execution_count": null,
   "id": "b39afce5",
   "metadata": {
    "papermill": {
     "duration": null,
     "end_time": null,
     "exception": null,
     "start_time": null,
     "status": "pending"
    },
    "tags": []
   },
   "outputs": [],
   "source": [
    "uvd_PC =hp.pstokes.construct_pstokes(uvd_PC_, uvd_PC_, pstokes='pI')"
   ]
  },
  {
   "cell_type": "code",
   "execution_count": null,
   "id": "aa5c0053",
   "metadata": {
    "papermill": {
     "duration": null,
     "end_time": null,
     "exception": null,
     "start_time": null,
     "status": "pending"
    },
    "tags": []
   },
   "outputs": [],
   "source": [
    "uvd_P = hp.pstokes.construct_pstokes(uvd_P_, uvd_P_, pstokes='pI')"
   ]
  },
  {
   "cell_type": "code",
   "execution_count": null,
   "id": "38db8567",
   "metadata": {
    "papermill": {
     "duration": null,
     "end_time": null,
     "exception": null,
     "start_time": null,
     "status": "pending"
    },
    "tags": []
   },
   "outputs": [],
   "source": [
    "beam = hp.PSpecBeamUV(\"/lustre/aoc/projects/hera/nkern/beams/NF_HERA_IQ_power_beam_healpix128.fits\")"
   ]
  },
  {
   "cell_type": "code",
   "execution_count": null,
   "id": "8de09c6e",
   "metadata": {
    "papermill": {
     "duration": null,
     "end_time": null,
     "exception": null,
     "start_time": null,
     "status": "pending"
    },
    "tags": []
   },
   "outputs": [],
   "source": [
    "# pspec at cross time\n",
    "hp.pspecdata.pspec_run([copy.deepcopy(uvd_P)], 'pspec_systematics.h5', groupname='pI_shortbl_fg_P', spw_ranges=[(0, 180)],\n",
    "                       dset_pairs=[(0,0)], pol_pairs=['pI'], input_data_weight='identity', norm='I',\n",
    "                       rephase_to_dset=True, interleave_times=True, Jy2mK=True, overwrite=True, verbose=False,\n",
    "                       bl_len_range=bl_len_range, bl_deg_range=bl_deg_range, beam=beam, taper='bh',\n",
    "                       broadcast_dset_flags=True, time_thresh=0.99, store_cov_diag=True, cov_model='foreground_dependent', \n",
    "                       exclude_auto_bls=True, exclude_cross_bls=False, exclude_permutations=True)"
   ]
  },
  {
   "cell_type": "code",
   "execution_count": null,
   "id": "9fc24b8b",
   "metadata": {
    "papermill": {
     "duration": null,
     "end_time": null,
     "exception": null,
     "start_time": null,
     "status": "pending"
    },
    "tags": []
   },
   "outputs": [],
   "source": [
    "# pspec at cross time\n",
    "hp.pspecdata.pspec_run([copy.deepcopy(uvd_P)], 'pspec_systematics.h5', groupname='pI_shortbl_noise_P', spw_ranges=[(0, 180)],\n",
    "                       dset_pairs=[(0,0)], pol_pairs=['pI'], input_data_weight='identity', norm='I',\n",
    "                       rephase_to_dset=True, interleave_times=True, Jy2mK=True, overwrite=True, verbose=False,\n",
    "                       bl_len_range=bl_len_range, bl_deg_range=bl_deg_range, beam=beam, taper='bh',\n",
    "                       broadcast_dset_flags=True, time_thresh=0.99, store_cov_diag=True, cov_model='autos', \n",
    "                       exclude_auto_bls=True, exclude_cross_bls=False, exclude_permutations=True)"
   ]
  },
  {
   "cell_type": "code",
   "execution_count": null,
   "id": "2bf3ed71",
   "metadata": {
    "papermill": {
     "duration": null,
     "end_time": null,
     "exception": null,
     "start_time": null,
     "status": "pending"
    },
    "tags": []
   },
   "outputs": [],
   "source": [
    "# pspec at cross time\n",
    "hp.pspecdata.pspec_run([copy.deepcopy(uvd_PC)], 'pspec_systematics.h5', groupname='pI_shortbl_fg_PC', spw_ranges=[(0, 180)],\n",
    "                       dset_pairs=[(0,0)], pol_pairs=['pI'], input_data_weight='identity', norm='I',\n",
    "                       rephase_to_dset=True, interleave_times=True, Jy2mK=True, overwrite=True, verbose=False,\n",
    "                       bl_len_range=bl_len_range, bl_deg_range=bl_deg_range, beam=beam, taper='bh',\n",
    "                       broadcast_dset_flags=True, time_thresh=0.99, store_cov_diag=True, cov_model='foreground_dependent', \n",
    "                       exclude_auto_bls=True, exclude_cross_bls=False, exclude_permutations=True)"
   ]
  },
  {
   "cell_type": "code",
   "execution_count": null,
   "id": "2c4a9517",
   "metadata": {
    "papermill": {
     "duration": null,
     "end_time": null,
     "exception": null,
     "start_time": null,
     "status": "pending"
    },
    "tags": []
   },
   "outputs": [],
   "source": [
    "# pspec at cross time\n",
    "hp.pspecdata.pspec_run([copy.deepcopy(uvd_PC)], 'pspec_systematics.h5', groupname='pI_shortbl_noise_PC', spw_ranges=[(0, 180)],\n",
    "                       dset_pairs=[(0,0)], pol_pairs=['pI'], input_data_weight='identity', norm='I',\n",
    "                       rephase_to_dset=True, interleave_times=True, Jy2mK=True, overwrite=True, verbose=False,\n",
    "                       bl_len_range=bl_len_range, bl_deg_range=bl_deg_range, beam=beam, taper='bh',\n",
    "                       broadcast_dset_flags=True, time_thresh=0.99, store_cov_diag=True, cov_model='autos', \n",
    "                       exclude_auto_bls=True, exclude_cross_bls=False, exclude_permutations=True)"
   ]
  },
  {
   "cell_type": "markdown",
   "id": "0ac459f8",
   "metadata": {
    "papermill": {
     "duration": null,
     "end_time": null,
     "exception": null,
     "start_time": null,
     "status": "pending"
    },
    "tags": []
   },
   "source": [
    "### some parameters"
   ]
  },
  {
   "cell_type": "code",
   "execution_count": null,
   "id": "27935962",
   "metadata": {
    "papermill": {
     "duration": null,
     "end_time": null,
     "exception": null,
     "start_time": null,
     "status": "pending"
    },
    "tags": []
   },
   "outputs": [],
   "source": [
    "uvp_cov_fg.Ntimes"
   ]
  },
  {
   "cell_type": "code",
   "execution_count": null,
   "id": "db3408de",
   "metadata": {
    "papermill": {
     "duration": null,
     "end_time": null,
     "exception": null,
     "start_time": null,
     "status": "pending"
    },
    "tags": []
   },
   "outputs": [],
   "source": [
    "np.unique(uvp_cov_fg.time_avg_array)"
   ]
  },
  {
   "cell_type": "code",
   "execution_count": null,
   "id": "abdddd00",
   "metadata": {
    "papermill": {
     "duration": null,
     "end_time": null,
     "exception": null,
     "start_time": null,
     "status": "pending"
    },
    "tags": []
   },
   "outputs": [],
   "source": [
    "np.mean(np.diff(np.unique(uvp_cov_fg.time_avg_array)))*24*3600"
   ]
  },
  {
   "cell_type": "code",
   "execution_count": null,
   "id": "aab2a3c6",
   "metadata": {
    "papermill": {
     "duration": null,
     "end_time": null,
     "exception": null,
     "start_time": null,
     "status": "pending"
    },
    "tags": []
   },
   "outputs": [],
   "source": [
    "np.mean(np.diff(np.unique(uvp_cov_fg.lst_avg_array)))/2/np.pi*24*3600"
   ]
  },
  {
   "cell_type": "code",
   "execution_count": null,
   "id": "190b5b3d",
   "metadata": {
    "papermill": {
     "duration": null,
     "end_time": null,
     "exception": null,
     "start_time": null,
     "status": "pending"
    },
    "tags": []
   },
   "outputs": [],
   "source": [
    "np.unique(uvp_cov_fg.lst_avg_array)/2/np.pi*24"
   ]
  },
  {
   "cell_type": "code",
   "execution_count": null,
   "id": "2eb202a8",
   "metadata": {
    "papermill": {
     "duration": null,
     "end_time": null,
     "exception": null,
     "start_time": null,
     "status": "pending"
    },
    "tags": []
   },
   "outputs": [],
   "source": [
    "uvp_cov_fg.freq_array[-1]/1e6, uvp_cov_fg.freq_array[0]/1e6"
   ]
  },
  {
   "cell_type": "markdown",
   "id": "27c25bd7",
   "metadata": {
    "papermill": {
     "duration": null,
     "end_time": null,
     "exception": null,
     "start_time": null,
     "status": "pending"
    },
    "tags": []
   },
   "source": [
    "## make plots"
   ]
  },
  {
   "cell_type": "code",
   "execution_count": null,
   "id": "7a1f55df",
   "metadata": {
    "papermill": {
     "duration": null,
     "end_time": null,
     "exception": null,
     "start_time": null,
     "status": "pending"
    },
    "tags": []
   },
   "outputs": [],
   "source": [
    "key = uvp_cov_fg.get_all_keys()[0]\n",
    "dlys = uvp_cov_fg.get_dlys(key[0]) * 1e9\n",
    "kparas = uvp_cov_fg.get_kparas(key[0])\n",
    "tau2k = (kparas/dlys)[0]"
   ]
  },
  {
   "cell_type": "code",
   "execution_count": null,
   "id": "ea333c9d",
   "metadata": {
    "papermill": {
     "duration": null,
     "end_time": null,
     "exception": null,
     "start_time": null,
     "status": "pending"
    },
    "tags": []
   },
   "outputs": [],
   "source": [
    "len(uvp_cov_fg.get_all_keys())"
   ]
  },
  {
   "cell_type": "code",
   "execution_count": null,
   "id": "9595f3b7",
   "metadata": {
    "papermill": {
     "duration": null,
     "end_time": null,
     "exception": null,
     "start_time": null,
     "status": "pending"
    },
    "tags": []
   },
   "outputs": [],
   "source": [
    "print(key)"
   ]
  },
  {
   "cell_type": "code",
   "execution_count": null,
   "id": "efb90409",
   "metadata": {
    "papermill": {
     "duration": null,
     "end_time": null,
     "exception": null,
     "start_time": null,
     "status": "pending"
    },
    "tags": []
   },
   "outputs": [],
   "source": [
    "def tau2k_(x):\n",
    "    return x * tau2k\n",
    "def k2tau_(x):\n",
    "    return x / tau2k"
   ]
  },
  {
   "cell_type": "code",
   "execution_count": null,
   "id": "26365b22",
   "metadata": {
    "papermill": {
     "duration": null,
     "end_time": null,
     "exception": null,
     "start_time": null,
     "status": "pending"
    },
    "tags": []
   },
   "outputs": [],
   "source": [
    "from matplotlib.ticker import Locator\n",
    "class MinorSymLogLocator(Locator):\n",
    "    \"\"\"\n",
    "    Dynamically find minor tick positions based on the positions of\n",
    "    major ticks for a symlog scaling.\n",
    "    \"\"\"\n",
    "    def __init__(self, linthresh):\n",
    "        \"\"\"\n",
    "        Ticks will be placed between the major ticks.\n",
    "        The placement is linear for x between -linthresh and linthresh,\n",
    "        otherwise its logarithmically\n",
    "        \"\"\"\n",
    "        self.linthresh = linthresh\n",
    "\n",
    "    def __call__(self):\n",
    "        'Return the locations of the ticks'\n",
    "        majorlocs = self.axis.get_majorticklocs()\n",
    "\n",
    "        # iterate through minor locs\n",
    "        minorlocs = []\n",
    "\n",
    "        # handle the lowest part\n",
    "        for i in range(1, len(majorlocs)):\n",
    "            majorstep = majorlocs[i] - majorlocs[i-1]\n",
    "            if abs(majorlocs[i-1] + majorstep/2) < self.linthresh:\n",
    "                ndivs = 10\n",
    "            else:\n",
    "                ndivs = 9\n",
    "            minorstep = majorstep / ndivs\n",
    "            locs = np.arange(majorlocs[i-1], majorlocs[i], minorstep)[1:]\n",
    "            minorlocs.extend(locs)\n",
    "\n",
    "        return self.raise_if_exceeds(np.array(minorlocs))\n",
    "\n",
    "    def tick_values(self, vmin, vmax):\n",
    "        raise NotImplementedError('Cannot get tick locations for a '\n",
    "                                  '%s type.' % type(self))"
   ]
  },
  {
   "cell_type": "code",
   "execution_count": null,
   "id": "b5313606",
   "metadata": {
    "papermill": {
     "duration": null,
     "end_time": null,
     "exception": null,
     "start_time": null,
     "status": "pending"
    },
    "tags": []
   },
   "outputs": [],
   "source": [
    "time_index = 0\n",
    "# Dicts of colors\n",
    "color_list = odict()\n",
    "# Dicts of labels\n",
    "label_list = odict()\n",
    "# Dicts of error bars\n",
    "error_list = odict()\n",
    "linestyle_list = odict()\n",
    "\n",
    "# The extra kinds of error bars\n",
    "error_list['PSN'] = uvp_cov_fg.get_stats('P_SN', key)[time_index].real\n",
    "label_list['PSN'] = r'$P_\\mathrm{SN}$'\n",
    "color_list['PSN'] = 'darkcyan' \n",
    "linestyle_list['PSN'] = \"-\"\n",
    "error_list['PN'] = uvp_cov_fg.get_stats('P_N', key)[time_index].real\n",
    "label_list['PN'] = r'$P_\\mathrm{N}$'\n",
    "color_list['PN'] = 'tomato' \n",
    "linestyle_list['PN'] = \"-\"\n",
    "# The power spectra of time difference data as error bars in noise dominant regions, \n",
    "error_list['fg'] = uvp_cov_fg.get_stats('foreground_dependent_diag', key)[time_index].real\n",
    "label_list['fg'] = r\"$\\sigma_\\mathrm{QE-SN}$\"\n",
    "color_list['fg'] = 'limegreen' \n",
    "linestyle_list['fg'] = \"-\"\n",
    "error_list['noise'] = uvp_cov_n.get_stats('autos_diag', key)[time_index].real\n",
    "label_list['noise'] = r\"$\\sigma_\\mathrm{QE-N}$\"\n",
    "color_list['noise'] = 'darkred' \n",
    "linestyle_list['noise'] = \"-\"\n",
    "error_list['Pdiff'] = np.abs(uvp_td.get_data(key)[time_index].real)\n",
    "color_list['Pdiff'] = 'orange' \n",
    "label_list['Pdiff'] = r'$P_\\mathrm{diff}$'\n",
    "linestyle_list['Pdiff'] = \"-.\"\n",
    "for error_type in error_list.keys():  \n",
    "    error_list[error_type] = np.array(error_list[error_type]).reshape(-1)\n",
    "\n",
    "# The power spectrum\n",
    "ps = (uvp_cov_fg.get_data(key)[time_index].real).reshape(-1)"
   ]
  },
  {
   "cell_type": "code",
   "execution_count": null,
   "id": "6dbaec97",
   "metadata": {
    "papermill": {
     "duration": null,
     "end_time": null,
     "exception": null,
     "start_time": null,
     "status": "pending"
    },
    "tags": []
   },
   "outputs": [],
   "source": [
    "fig = plt.figure(figsize=(16,15), constrained_layout=True)\n",
    "gs = fig.add_gridspec(3, 2, wspace=0.02)\n",
    "psunits = uvp_cov_fg.units\n",
    "if \"h^-1\" in psunits: psunits = psunits.replace(\"h^-1\", \"h^{-1}\")\n",
    "if \"h^-3\" in psunits: psunits = psunits.replace(\"h^-3\", \"h^{-3}\")\n",
    "if \"Mpc\" in psunits and \"\\\\rm\" not in psunits: \n",
    "    psunits = psunits.replace(\"Mpc\", r\"{\\rm Mpc}\")\n",
    "if \"pi\" in psunits and \"\\\\pi\" not in psunits: \n",
    "    psunits = psunits.replace(\"pi\", r\"\\pi\")\n",
    "    \n",
    "# Plot different kinds of error bars\n",
    "ax = fig.add_subplot(gs[0,:])\n",
    "ax.plot(dlys[ps>=0.], ps[ps>=0.], \".\", label='power spectra'+ r'$(+)$', c='k', markersize=8, alpha = 0.6)\n",
    "ax.plot(dlys[ps<0.], np.abs(ps[ps<0.]), \".\", fillstyle='none', label='power spectra'+ r'$(-)$', c='k', markersize=8, alpha = 0.6)\n",
    "ax.set_xlim(-3000,3000)\n",
    "for error_type in error_list.keys():\n",
    "    ax.plot(dlys, error_list[error_type], ls=linestyle_list[error_type],label=label_list[error_type], c=color_list[error_type], lw=2)\n",
    "ax.set_ylabel(\"$P(k_\\parallel)$ $[%s]$\" % psunits, fontsize=16)\n",
    "#ax.set_xlabel(r\"$\\tau$ $[{\\rm ns}]$\", fontsize=20)\n",
    "ax.set_xticklabels([])\n",
    "ax.tick_params(axis='both', which='both', labelsize=16)\n",
    "ax.xaxis.set_minor_locator(ticker.MultipleLocator(500))\n",
    "ax.semilogy()\n",
    "ax.minorticks_on()\n",
    "ax.yaxis.set_minor_locator(ticker.LogLocator(base=10, subs=[0.2,0.4,0.6,0.8], numticks=20))\n",
    "ax.yaxis.set_minor_formatter(ticker.NullFormatter())\n",
    "ax.grid()\n",
    "ax.legend(loc='upper right', fontsize=14, ncol=3)\n",
    "ax.set_title('A single-time instance of power spectra from the HERA Phase I Data', bbox=dict(fc='wheat', alpha=0.5), fontsize=20, pad=15)\n",
    "ax.axvspan(-200, -20, facecolor='#2ca02c', alpha=0.2)\n",
    "ax.axvspan(20, 200, facecolor='#2ca02c', alpha=0.2)\n",
    "\n",
    "ax1 = ax.secondary_xaxis('top', functions=(tau2k_, k2tau_))\n",
    "ax1.tick_params(axis='both', which='both', labelsize=16, direction='out')\n",
    "ax1.xaxis.set_major_locator(ticker.MultipleLocator(1))\n",
    "ax1.xaxis.set_minor_locator(ticker.MultipleLocator(0.2))\n",
    "ax1.set_xlabel(r\"$k_\\parallel [h {\\rm Mpc}^{-1}]$\", fontsize=16)\n",
    "\n",
    "#handles, labels = ax.get_legend_handles_labels()\n",
    "#fig.legend(handles, labels, bbox_to_anchor=(0.53,1.15), loc='upper center', fontsize=14, ncol=3,)\n",
    "#fig.tight_layout()\n",
    "\n",
    "# Plot ratios of different kinds of error bars\n",
    "ax = fig.add_subplot(gs[1,:])\n",
    "for error_type in ['Pdiff','PN','fg']:\n",
    "    ax.plot(dlys, np.abs(error_list[error_type]/error_list['noise']-1), ls=linestyle_list[error_type],label=label_list[error_type], c=color_list[error_type], lw=2)\n",
    "ax.set_xticklabels([])\n",
    "ax.tick_params(axis='both', which='both', labelsize=16)\n",
    "ax.grid()\n",
    "ax.semilogy()\n",
    "ax.set_ylim(1e-3,1)\n",
    "ax.set_xlim(-3000,3000)\n",
    "ax.set_ylabel(\"abs\" + r\"$\\left(\\frac{\\sigma-\\sigma_{\\rm QE-N}}{\\sigma_{\\rm QE-N}}\\right)$\", fontsize=20)\n",
    "#ax.yaxis.set_minor_locator(MinorSymLogLocator(0.01))\n",
    "#ax.yaxis.set_minor_formatter(ticker.NullFormatter())\n",
    "ax.xaxis.set_minor_locator(ticker.MultipleLocator(500))\n",
    "ax.axvspan(-200, -20, facecolor='#2ca02c', alpha=0.2)\n",
    "ax.axvspan(20, 200, facecolor='#2ca02c', alpha=0.2)\n",
    "ax.axhline(y=0, c='k', lw=3)\n",
    "\n",
    "ax = fig.add_subplot(gs[2,:])\n",
    "for error_type in ['PSN']:\n",
    "    ax.plot(dlys, np.abs(error_list[error_type]/error_list['fg']-1), ls=linestyle_list[error_type], label=label_list[error_type], c=color_list[error_type], lw=2)\n",
    "ax.set_xlabel(r\"$\\tau$ $[{\\rm ns}]$\", fontsize=16)\n",
    "ax.tick_params(axis='both', which='both', labelsize=16)\n",
    "ax.grid()\n",
    "ax.set_xlim(-3000,3000)\n",
    "ax.semilogy()\n",
    "ax.set_ylim(1e-3,1)\n",
    "ax.xaxis.set_minor_locator(ticker.MultipleLocator(500))\n",
    "ax.set_ylabel(\"abs\" + r\"$\\left(\\frac{\\sigma-\\sigma_{\\rm QE-SN}}{\\sigma_{\\rm QE-SN}}\\right)$\", fontsize=20)\n",
    "ax.axvspan(-200, -20, facecolor='#2ca02c', alpha=0.2)\n",
    "ax.axvspan(20, 200, facecolor='#2ca02c', alpha=0.2)\n",
    "ax.axhline(y=0, c='k', lw=3)"
   ]
  },
  {
   "cell_type": "markdown",
   "id": "8743d23f",
   "metadata": {
    "papermill": {
     "duration": null,
     "end_time": null,
     "exception": null,
     "start_time": null,
     "status": "pending"
    },
    "tags": []
   },
   "source": [
    "get the time average"
   ]
  },
  {
   "cell_type": "code",
   "execution_count": null,
   "id": "0678c139",
   "metadata": {
    "papermill": {
     "duration": null,
     "end_time": null,
     "exception": null,
     "start_time": null,
     "status": "pending"
    },
    "tags": []
   },
   "outputs": [],
   "source": [
    "new_stats_array = odict()\n",
    "new_stats_array.update({'Pdiff_err': {0: np.abs(uvp_td.data_array[0].real)}})\n",
    "new_stats_array.update(uvp_cov_fg.stats_array)"
   ]
  },
  {
   "cell_type": "code",
   "execution_count": null,
   "id": "d2e8a3cb",
   "metadata": {
    "papermill": {
     "duration": null,
     "end_time": null,
     "exception": null,
     "start_time": null,
     "status": "pending"
    },
    "tags": []
   },
   "outputs": [],
   "source": [
    "uvp_cov_fg.stats_array = new_stats_array"
   ]
  },
  {
   "cell_type": "code",
   "execution_count": null,
   "id": "a8e3bb5d",
   "metadata": {
    "papermill": {
     "duration": null,
     "end_time": null,
     "exception": null,
     "start_time": null,
     "status": "pending"
    },
    "tags": []
   },
   "outputs": [],
   "source": [
    "print(uvp_cov_fg.Ntimes)"
   ]
  },
  {
   "cell_type": "code",
   "execution_count": null,
   "id": "3c0edd0a",
   "metadata": {
    "papermill": {
     "duration": null,
     "end_time": null,
     "exception": null,
     "start_time": null,
     "status": "pending"
    },
    "tags": []
   },
   "outputs": [],
   "source": [
    "uvp_cov_fg_uni = uvp_cov_fg.average_spectra(time_avg=True, error_weights=None, error_field=['Pdiff_err',\"foreground_dependent_diag\", \"P_N\",\"P_SN\"],\n",
    "                              inplace=False)"
   ]
  },
  {
   "cell_type": "code",
   "execution_count": null,
   "id": "76a9b566",
   "metadata": {
    "papermill": {
     "duration": null,
     "end_time": null,
     "exception": null,
     "start_time": null,
     "status": "pending"
    },
    "tags": []
   },
   "outputs": [],
   "source": [
    "uvp_cov_n_uni = uvp_cov_n.average_spectra(time_avg=True, error_weights=None, error_field=[\"autos_diag\"], inplace=False)"
   ]
  },
  {
   "cell_type": "code",
   "execution_count": null,
   "id": "a11feed2",
   "metadata": {
    "papermill": {
     "duration": null,
     "end_time": null,
     "exception": null,
     "start_time": null,
     "status": "pending"
    },
    "tags": []
   },
   "outputs": [],
   "source": [
    "key = uvp_cov_fg_uni.get_all_keys()[0]\n",
    "error_tavg_list = odict()\n",
    "error_tavg_list['PSN'] = uvp_cov_fg_uni.get_stats('P_SN', key)[0].real\n",
    "error_tavg_list['PN'] = uvp_cov_fg_uni.get_stats('P_N', key)[0].real\n",
    "error_tavg_list['fg'] = uvp_cov_fg_uni.get_stats('foreground_dependent_diag', key)[0].real\n",
    "error_tavg_list['noise'] = uvp_cov_n_uni.get_stats('autos_diag', key)[0].real\n",
    "error_tavg_list['Pdiff'] = uvp_cov_fg_uni.get_stats('Pdiff_err', key)[0].real\n",
    "# The power spectrum\n",
    "ps_tavg = (uvp_cov_fg_uni.get_data(key)[0].real).reshape(-1)"
   ]
  },
  {
   "cell_type": "markdown",
   "id": "48940207",
   "metadata": {
    "papermill": {
     "duration": null,
     "end_time": null,
     "exception": null,
     "start_time": null,
     "status": "pending"
    },
    "tags": []
   },
   "source": [
    "bootstrap"
   ]
  },
  {
   "cell_type": "code",
   "execution_count": null,
   "id": "3105b8a4",
   "metadata": {
    "papermill": {
     "duration": null,
     "end_time": null,
     "exception": null,
     "start_time": null,
     "status": "pending"
    },
    "tags": []
   },
   "outputs": [],
   "source": [
    "boots = []\n",
    "spectra = uvp_cov_fg.get_data(key)\n",
    "for i in range(2000):\n",
    "    _select = np.random.choice(np.arange(spectra.shape[0]), spectra.shape[0], replace=True)\n",
    "    boots.append(np.mean(spectra[_select,:], axis=0))\n",
    "error_tavg_list['boot'] = np.std(np.real(boots), axis=0)"
   ]
  },
  {
   "cell_type": "code",
   "execution_count": null,
   "id": "90668661",
   "metadata": {
    "papermill": {
     "duration": null,
     "end_time": null,
     "exception": null,
     "start_time": null,
     "status": "pending"
    },
    "tags": []
   },
   "outputs": [],
   "source": [
    "label_list['boot'] = r\"$\\sigma_\\mathrm{bs}$\"\n",
    "color_list['boot'] = 'indigo'\n",
    "linestyle_list['boot'] = '-.'"
   ]
  },
  {
   "cell_type": "code",
   "execution_count": null,
   "id": "48897599",
   "metadata": {
    "papermill": {
     "duration": null,
     "end_time": null,
     "exception": null,
     "start_time": null,
     "status": "pending"
    },
    "tags": []
   },
   "outputs": [],
   "source": [
    "for error_type in error_tavg_list.keys():  \n",
    "    error_tavg_list[error_type] = np.array(error_tavg_list[error_type]).reshape(-1)"
   ]
  },
  {
   "cell_type": "code",
   "execution_count": null,
   "id": "c1431581",
   "metadata": {
    "papermill": {
     "duration": null,
     "end_time": null,
     "exception": null,
     "start_time": null,
     "status": "pending"
    },
    "tags": []
   },
   "outputs": [],
   "source": [
    "fig = plt.figure(figsize=(16,15), constrained_layout=True)\n",
    "gs = fig.add_gridspec(3, 2, wspace=0.02)\n",
    "psunits = uvp_cov_fg.units\n",
    "if \"h^-1\" in psunits: psunits = psunits.replace(\"h^-1\", \"h^{-1}\")\n",
    "if \"h^-3\" in psunits: psunits = psunits.replace(\"h^-3\", \"h^{-3}\")\n",
    "if \"Mpc\" in psunits and \"\\\\rm\" not in psunits: \n",
    "    psunits = psunits.replace(\"Mpc\", r\"{\\rm Mpc}\")\n",
    "if \"pi\" in psunits and \"\\\\pi\" not in psunits: \n",
    "    psunits = psunits.replace(\"pi\", r\"\\pi\")\n",
    "    \n",
    "# Plot different kinds of error bars\n",
    "ax = fig.add_subplot(gs[0,:])\n",
    "ax.plot(dlys[ps_tavg>=0.], ps_tavg[ps_tavg>=0.], \".\", label='power spectra'+ r'$(+)$', c='k', markersize=8, alpha = 0.6)\n",
    "ax.plot(dlys[ps_tavg<0.], np.abs(ps_tavg[ps_tavg<0.]), \".\", fillstyle='none', label='power spectra'+ r'$(-)$', c='k', markersize=8, alpha = 0.6)\n",
    "ax.set_xlim(-3000,3000)\n",
    "for error_type in error_tavg_list.keys():\n",
    "    ax.plot(dlys, error_tavg_list[error_type], ls=linestyle_list[error_type],label=label_list[error_type], c=color_list[error_type], lw=2)\n",
    "error_modified_fg = error_tavg_list['fg']-(np.sqrt(1+1/np.sqrt(np.pi))-1)*error_tavg_list['noise']\n",
    "ax.plot(dlys, error_modified_fg, label=r\"$\\tilde{\\sigma}_\\mathrm{QE-SN}$\", c=\"green\", ls=\"--\", lw=2)\n",
    "ax.set_ylabel(\"$P(k_\\parallel)$ $[%s]$\" % psunits, fontsize=16)\n",
    "#ax.set_xlabel(r\"$\\tau$ $[{\\rm ns}]$\", fontsize=20)\n",
    "ax.set_xticklabels([])\n",
    "ax.tick_params(axis='both', which='both', labelsize=16)\n",
    "ax.xaxis.set_minor_locator(ticker.MultipleLocator(500))\n",
    "ax.semilogy()\n",
    "ax.minorticks_on()\n",
    "ax.yaxis.set_minor_locator(ticker.LogLocator(base=10, subs=[0.2,0.4,0.6,0.8], numticks=20))\n",
    "ax.yaxis.set_minor_formatter(ticker.NullFormatter())\n",
    "ax.grid()\n",
    "ax.legend(loc='upper right', fontsize=14, ncol=3)\n",
    "ax.set_title('Time-averaged power spectra from the HERA Phase I Data', bbox=dict(fc='wheat', alpha=0.5), fontsize=20, pad=15)\n",
    "ax.axvspan(-200, -20, facecolor='#2ca02c', alpha=0.2)\n",
    "ax.axvspan(20, 200, facecolor='#2ca02c', alpha=0.2)\n",
    "\n",
    "ax1 = ax.secondary_xaxis('top', functions=(tau2k_, k2tau_))\n",
    "ax1.tick_params(axis='both', which='both', labelsize=16, direction='out')\n",
    "ax1.xaxis.set_major_locator(ticker.MultipleLocator(1))\n",
    "ax1.xaxis.set_minor_locator(ticker.MultipleLocator(0.2))\n",
    "ax1.set_xlabel(r\"$k_\\parallel [h {\\rm Mpc}^{-1}]$\", fontsize=16)\n",
    "\n",
    "#handles, labels = ax.get_legend_handles_labels()\n",
    "#fig.legend(handles, labels, bbox_to_anchor=(0.53,1.15), loc='upper center', fontsize=14, ncol=3,)\n",
    "#fig.tight_layout()\n",
    "\n",
    "# Plot ratios of different kinds of error bars\n",
    "ax = fig.add_subplot(gs[1,:])\n",
    "for error_type in ['Pdiff','PN','fg','boot']:\n",
    "    ax.plot(dlys, np.abs(error_tavg_list[error_type]/error_tavg_list['noise']-1), ls=linestyle_list[error_type], label=label_list[error_type], c=color_list[error_type], lw=2)\n",
    "ax.plot(dlys, np.abs(error_modified_fg/error_tavg_list['noise']-1), label=r\"$\\tilde{\\sigma}_\\mathrm{QE-SN}$\", c=\"green\", ls=\"--\", lw=2)\n",
    "ax.set_xticklabels([])\n",
    "ax.tick_params(axis='both', which='both', labelsize=16)\n",
    "ax.grid()\n",
    "ax.semilogy()\n",
    "ax.set_ylim(1e-3,1)\n",
    "ax.set_xlim(-3000,3000)\n",
    "ax.set_ylabel(\"abs\" + r\"$\\left(\\frac{\\sigma-\\sigma_{\\rm QE-N}}{\\sigma_{\\rm QE-N}}\\right)$\", fontsize=20)\n",
    "#ax.yaxis.set_minor_locator(MinorSymLogLocator(0.01))\n",
    "#ax.yaxis.set_minor_formatter(ticker.NullFormatter())\n",
    "ax.xaxis.set_minor_locator(ticker.MultipleLocator(500))\n",
    "ax.axvspan(-200, -20, facecolor='#2ca02c', alpha=0.2)\n",
    "ax.axvspan(20, 200, facecolor='#2ca02c', alpha=0.2)\n",
    "ax.axhline(y=0, c='k', lw=3)\n",
    "\n",
    "ax = fig.add_subplot(gs[2,:])\n",
    "for error_type in ['PSN','boot']:\n",
    "    ax.plot(dlys, np.abs(error_tavg_list[error_type]/error_tavg_list['fg']-1), ls=linestyle_list[error_type], label=label_list[error_type], c=color_list[error_type], lw=2)\n",
    "ax.plot(dlys, np.abs(error_modified_fg/error_tavg_list['fg']-1), label=r\"$\\tilde{\\sigma}_\\mathrm{QE-SN}$\", c=\"green\", ls=\"--\", lw=2)\n",
    "ax.set_xlabel(r\"$\\tau$ $[{\\rm ns}]$\", fontsize=16)\n",
    "ax.tick_params(axis='both', which='both', labelsize=16)\n",
    "ax.grid()\n",
    "ax.set_xlim(-3000,3000)\n",
    "ax.semilogy()\n",
    "ax.set_ylim(1e-3,1)\n",
    "ax.xaxis.set_minor_locator(ticker.MultipleLocator(500))\n",
    "ax.set_ylabel(\"abs\" + r\"$\\left(\\frac{\\sigma-\\sigma_{\\rm QE-SN}}{\\sigma_{\\rm QE-SN}}\\right)$\", fontsize=20)\n",
    "ax.axvspan(-200, -20, facecolor='#2ca02c', alpha=0.2)\n",
    "ax.axvspan(20, 200, facecolor='#2ca02c', alpha=0.2)\n",
    "ax.axhline(y=0, c='k', lw=3)"
   ]
  },
  {
   "cell_type": "markdown",
   "id": "e6a0752d",
   "metadata": {
    "papermill": {
     "duration": null,
     "end_time": null,
     "exception": null,
     "start_time": null,
     "status": "pending"
    },
    "tags": []
   },
   "source": [
    "#### comparing systematics"
   ]
  },
  {
   "cell_type": "code",
   "execution_count": null,
   "id": "120801c1",
   "metadata": {
    "papermill": {
     "duration": null,
     "end_time": null,
     "exception": null,
     "start_time": null,
     "status": "pending"
    },
    "tags": []
   },
   "outputs": [],
   "source": [
    "psc = hp.PSpecContainer('pspec_crosstime.h5', keep_open=False)\n",
    "uvp_PX_cov_fg = psc.get_pspec('pI_shortbl', 'dset0_x_dset1')"
   ]
  },
  {
   "cell_type": "code",
   "execution_count": null,
   "id": "d1e8525a",
   "metadata": {
    "papermill": {
     "duration": null,
     "end_time": null,
     "exception": null,
     "start_time": null,
     "status": "pending"
    },
    "tags": []
   },
   "outputs": [],
   "source": [
    "# load power spectra\n",
    "psc_ = hp.PSpecContainer('pspec_nulltest.h5', keep_open=False)\n",
    "uvp_PX_cov_n = psc_.get_pspec('pI_shortbl', 'dset0_x_dset1')"
   ]
  },
  {
   "cell_type": "code",
   "execution_count": null,
   "id": "54552c13",
   "metadata": {
    "papermill": {
     "duration": null,
     "end_time": null,
     "exception": null,
     "start_time": null,
     "status": "pending"
    },
    "tags": []
   },
   "outputs": [],
   "source": [
    "psc = hp.PSpecContainer('pspec_systematics.h5', keep_open=False)"
   ]
  },
  {
   "cell_type": "code",
   "execution_count": null,
   "id": "7bf54303",
   "metadata": {
    "papermill": {
     "duration": null,
     "end_time": null,
     "exception": null,
     "start_time": null,
     "status": "pending"
    },
    "tags": []
   },
   "outputs": [],
   "source": [
    "uvp_P_cov_fg = psc.get_pspec('pI_shortbl_fg_P', 'dset0_x_dset1')\n",
    "uvp_P_cov_n = psc.get_pspec('pI_shortbl_noise_P', 'dset0_x_dset1')"
   ]
  },
  {
   "cell_type": "code",
   "execution_count": null,
   "id": "e0aa5dd7",
   "metadata": {
    "papermill": {
     "duration": null,
     "end_time": null,
     "exception": null,
     "start_time": null,
     "status": "pending"
    },
    "tags": []
   },
   "outputs": [],
   "source": [
    "uvp_PC_cov_fg = psc.get_pspec('pI_shortbl_fg_PC', 'dset0_x_dset1')\n",
    "uvp_PC_cov_n = psc.get_pspec('pI_shortbl_noise_PC', 'dset0_x_dset1')"
   ]
  },
  {
   "cell_type": "code",
   "execution_count": null,
   "id": "d2c6e93a",
   "metadata": {
    "papermill": {
     "duration": null,
     "end_time": null,
     "exception": null,
     "start_time": null,
     "status": "pending"
    },
    "tags": []
   },
   "outputs": [],
   "source": [
    "uvp_PXC_cov_fg = psc.get_pspec('pI_shortbl_fg_PXC', 'dset0_x_dset1')\n",
    "uvp_PXC_cov_n = psc.get_pspec('pI_shortbl_noise_PXC', 'dset0_x_dset1')"
   ]
  },
  {
   "cell_type": "markdown",
   "id": "31a71ba5",
   "metadata": {
    "papermill": {
     "duration": null,
     "end_time": null,
     "exception": null,
     "start_time": null,
     "status": "pending"
    },
    "tags": []
   },
   "source": [
    "check match in timestamps"
   ]
  },
  {
   "cell_type": "code",
   "execution_count": null,
   "id": "94299731",
   "metadata": {
    "papermill": {
     "duration": null,
     "end_time": null,
     "exception": null,
     "start_time": null,
     "status": "pending"
    },
    "tags": []
   },
   "outputs": [],
   "source": [
    "print(np.unique(uvp_P_cov_fg.lst_avg_array))"
   ]
  },
  {
   "cell_type": "code",
   "execution_count": null,
   "id": "042b8395",
   "metadata": {
    "papermill": {
     "duration": null,
     "end_time": null,
     "exception": null,
     "start_time": null,
     "status": "pending"
    },
    "tags": []
   },
   "outputs": [],
   "source": [
    "print(np.unique(uvp_PX_cov_fg.lst_avg_array))"
   ]
  },
  {
   "cell_type": "code",
   "execution_count": null,
   "id": "b076e750",
   "metadata": {
    "papermill": {
     "duration": null,
     "end_time": null,
     "exception": null,
     "start_time": null,
     "status": "pending"
    },
    "tags": []
   },
   "outputs": [],
   "source": [
    "print(np.unique(uvp_PC_cov_fg.lst_avg_array))"
   ]
  },
  {
   "cell_type": "code",
   "execution_count": null,
   "id": "4df77fed",
   "metadata": {
    "papermill": {
     "duration": null,
     "end_time": null,
     "exception": null,
     "start_time": null,
     "status": "pending"
    },
    "tags": []
   },
   "outputs": [],
   "source": [
    "print(np.unique(uvp_PXC_cov_fg.lst_avg_array))"
   ]
  },
  {
   "cell_type": "markdown",
   "id": "45d43c7d",
   "metadata": {
    "papermill": {
     "duration": null,
     "end_time": null,
     "exception": null,
     "start_time": null,
     "status": "pending"
    },
    "tags": []
   },
   "source": [
    "#### inpainted data"
   ]
  },
  {
   "cell_type": "code",
   "execution_count": null,
   "id": "5020e363",
   "metadata": {
    "papermill": {
     "duration": null,
     "end_time": null,
     "exception": null,
     "start_time": null,
     "status": "pending"
    },
    "tags": []
   },
   "outputs": [],
   "source": [
    "# used in paper\n",
    "# A larger window (2000), with normalization\n",
    "uvp_plot = uvp_P_cov_n\n",
    "num_time_samples_list = [1,5,15]\n",
    "ylim = (5*1e-13,1e-9)\n",
    "dlys = uvp_plot.get_dlys(0) * 1e9\n",
    "delay_args = np.append(np.argwhere(dlys< -2000), np.argwhere(dlys> 2000))\n",
    "suptitle = \"Inpainted HERA Phase I Data, \"+r\"$|\\tau|>2000 {\\rm ns}$\"\n",
    "\n",
    "fig, axes = plt.subplots(figsize=(20,6), ncols=3, nrows=1)\n",
    "for ax_idx, num_time_samples in enumerate(num_time_samples_list):\n",
    "    col_idx = ax_idx%3\n",
    "    times = np.arange(num_time_samples)\n",
    "   \n",
    "    # Get all keys\n",
    "    keys = uvp_plot.get_all_keys()\n",
    "    blpt_weights = np.array([[1. for item in times] for key in keys])\n",
    "    ps_real_time_avg = []\n",
    "    for dly in delay_args:\n",
    "        ps = np.array([[uvp_plot.get_data(key)[time, dly]*uvp_plot.get_stats(\"autos_diag\", keys[0])[time,0].real\\\n",
    "                        /uvp_plot.get_stats(\"autos_diag\", key)[time, dly].real for time in times] for key in keys])\n",
    "        ps_real_time_avg.extend((np.sum(ps.real*blpt_weights, axis=1)/np.sum(blpt_weights, axis=1).clip(1e-10, np.inf)).flatten())\n",
    "    ps_real_time_avg = np.array(ps_real_time_avg) - np.mean(ps_real_time_avg)\n",
    "    # The ratio of error bars to the original one\n",
    "    psunits = uvp_plot.units\n",
    "    if \"h^-1\" in psunits: psunits = psunits.replace(\"h^-1\", \"h^{-1}\")\n",
    "    if \"h^-3\" in psunits: psunits = psunits.replace(\"h^-3\", \"h^{-3}\")\n",
    "    if \"Mpc\" in psunits and \"\\\\rm\" not in psunits: \n",
    "        psunits = psunits.replace(\"Mpc\", r\"{\\rm Mpc}\")\n",
    "    if \"pi\" in psunits and \"\\\\pi\" not in psunits: \n",
    "        psunits = psunits.replace(\"pi\", r\"\\pi\")\n",
    "    \n",
    "    ax = axes[col_idx]\n",
    "    Lap_sigma_list = np.zeros(num_time_samples)\n",
    "    for time in times:\n",
    "        Lap_sigma_list[time] = uvp_plot.get_stats(\"autos_diag\", keys[0])[time, 0].real \n",
    "    Gauss_sigma = np.sqrt(np.sum(Lap_sigma_list**2))/num_time_samples\n",
    "    vlim = 6*Gauss_sigma\n",
    "    n_in_bins, bins_edge, _ = ax.hist(ps_real_time_avg, log=True, density=True, bins=61, range=(-vlim, vlim), alpha=0.75,\n",
    "                           color='pink')\n",
    "    ax.set_xlim(-vlim, vlim)\n",
    "    ax.set_ylim(*ylim)\n",
    "    \n",
    "    px = np.linspace(-vlim, vlim, 100)\n",
    "    Lap_curve = np.zeros_like(px)\n",
    "    normalized_factor = 0\n",
    "    for time in times:\n",
    "        scale_factor = 1\n",
    "        for time_ in times:\n",
    "            if time_ != time:\n",
    "                scale_factor *= Lap_sigma_list[time]**2/(Lap_sigma_list[time]**2-Lap_sigma_list[time_]**2)\n",
    "        normalized_factor += scale_factor   \n",
    "        Lap_curve += np.exp(-np.sqrt(2)*np.abs(px)/Lap_sigma_list[time]*num_time_samples)/np.sqrt(2)/Lap_sigma_list[time]*num_time_samples*scale_factor\n",
    "    \n",
    "    # Calculate the equivalent Gaussian pdf\n",
    "    Gauss_curve = np.exp(-px**2/2/Gauss_sigma**2)/np.sqrt(2*np.pi*Gauss_sigma**2)\n",
    "    \n",
    "    if np.isclose(normalized_factor,1,rtol=5e-1):\n",
    "        ax.plot(px, Lap_curve, ls='-', lw=2, label=\"Sum of Laplacians\", c='cyan')\n",
    "    ax.plot(px, Gauss_curve, ls='--', lw=2, label='Gaussian', c='slategrey')\n",
    "    bins_center = (bins_edge[1:] + bins_edge[0:-1])/2\n",
    "    outlier_3sigma = (np.sum(n_in_bins)-np.sum(n_in_bins[(-3*Gauss_sigma<=bins_center)*(bins_center<=3*Gauss_sigma)]))/np.sum(n_in_bins)\n",
    "    print(\"beyond 3sigma {}\".format(outlier_3sigma), \\\n",
    "          \"Gauss {}\".format((np.sum(Gauss_curve)-np.sum(Gauss_curve[(-3*Gauss_sigma<=px)*(px<=3*Gauss_sigma)]))/np.sum(Gauss_curve)), \\\n",
    "          \"Laplacian {}\".format((np.sum(Lap_curve)-np.sum(Lap_curve[(-3*Gauss_sigma<=px)*(px<=3*Gauss_sigma)]))/np.sum(Lap_curve)))\n",
    "    \n",
    "    # confidence interval\n",
    "    ax.axvline(x=3*Gauss_sigma, c='k', lw=1, ls=':')\n",
    "    ax.axvline(x=-3*Gauss_sigma, c='k', lw=1, ls=':')\n",
    "    ax.axvline(x=5*Gauss_sigma, c='navy', lw=1, ls=':')\n",
    "    ax.axvline(x=-5*Gauss_sigma, c='navy', lw=1, ls=':')\n",
    "    if ax_idx == 0:\n",
    "        ax.text(2.2*Gauss_sigma, 9*1e-12, r'$3 \\sigma$', ha=\"center\", va=\"center\", rotation=0,\n",
    "            fontsize=14,\n",
    "            bbox=dict(boxstyle=\"rarrow\", fc=\"green\", alpha=0.5))\n",
    "        ax.text(4.2*Gauss_sigma, 1e-10, r'$5 \\sigma$', ha=\"center\", va=\"center\", rotation=0,\n",
    "            fontsize=14,\n",
    "            bbox=dict(boxstyle=\"rarrow\", fc=\"green\", alpha=0.5))\n",
    "        ax.text(-2.2*Gauss_sigma, 9*1e-12, r'$3 \\sigma$', ha=\"center\", va=\"center\", rotation=0,\n",
    "            fontsize=14,\n",
    "            bbox=dict(boxstyle=\"larrow\", fc=\"green\", alpha=0.5))\n",
    "        ax.text(-4.2*Gauss_sigma, 1e-10, r'$5 \\sigma$', ha=\"center\", va=\"center\", rotation=0,\n",
    "            fontsize=14,\n",
    "            bbox=dict(boxstyle=\"larrow\", fc=\"green\", alpha=0.5))\n",
    "    \n",
    "    ax.tick_params(which='both', labelsize=16, length=3, width=0.5)\n",
    "    ax.xaxis.set_minor_locator(ticker.MultipleLocator(1e9))\n",
    "    xticks = ax.get_xticks()\n",
    "    ax.set_xticklabels(xticks/1e10)\n",
    "    ax.set_xlabel(\"$P(k_\\parallel)$ $[\\\\times 10^{10}\\,%s]$\" % psunits, fontsize=16)\n",
    "    if col_idx == 0: \n",
    "        ax.set_ylabel(\"pdf\", fontsize=16)\n",
    "    if ax_idx == 0:\n",
    "        ax.legend(loc='lower right', fontsize=14)\n",
    "    ax.set_title(\"Average over \\n{} timestamp(s)\".format(num_time_samples),bbox=dict(fc='wheat', alpha=0.5), fontsize=16, pad=15)\n",
    "fig.subplots_adjust(top=0.8)\n",
    "fig.suptitle(suptitle, fontsize=20, bbox=dict(fc='gold', alpha=0.5), x=0.5, y=0.99)\n",
    "print(len(uvp_plot.get_all_keys())*len(delay_args))"
   ]
  },
  {
   "cell_type": "code",
   "execution_count": null,
   "id": "03aa8aca",
   "metadata": {
    "papermill": {
     "duration": null,
     "end_time": null,
     "exception": null,
     "start_time": null,
     "status": "pending"
    },
    "tags": []
   },
   "outputs": [],
   "source": [
    "# used in paper\n",
    "# A larger window (500-1500), with normalization\n",
    "uvp_plot = uvp_P_cov_n\n",
    "num_time_samples_list = [1,5,15]\n",
    "ylim = (5*1e-13,1e-9)\n",
    "dlys = uvp_plot.get_dlys(0) * 1e9\n",
    "delay_args = np.append(np.argwhere((dlys< -500)*(dlys>-1500)), np.argwhere((dlys< 1500)*(dlys>500)))\n",
    "suptitle = \"Inpainted HERA Phase I Data, \" + r\"$500\\,{\\rm ns}<|\\tau|<1500\\,{\\rm ns}$\"\n",
    "\n",
    "fig, axes = plt.subplots(figsize=(20,6), ncols=3, nrows=1)\n",
    "for ax_idx, num_time_samples in enumerate(num_time_samples_list):\n",
    "    col_idx = ax_idx%3\n",
    "    times = np.arange(num_time_samples)\n",
    "   \n",
    "    # Get all keys\n",
    "    keys = uvp_plot.get_all_keys()\n",
    "    blpt_weights = np.array([[1. for item in times] for key in keys])\n",
    "    ps_real_time_avg = []\n",
    "    for dly in delay_args:\n",
    "        ps = np.array([[uvp_plot.get_data(key)[time, dly]*uvp_plot.get_stats(\"autos_diag\", keys[0])[time,0].real\\\n",
    "                        /uvp_plot.get_stats(\"autos_diag\", key)[time, dly].real for time in times] for key in keys])\n",
    "        ps_real_time_avg.extend((np.sum(ps.real*blpt_weights, axis=1)/np.sum(blpt_weights, axis=1).clip(1e-10, np.inf)).flatten())\n",
    "    ps_real_time_avg = np.array(ps_real_time_avg) - np.mean(ps_real_time_avg)\n",
    "    # The ratio of error bars to the original one\n",
    "    psunits = uvp_plot.units\n",
    "    if \"h^-1\" in psunits: psunits = psunits.replace(\"h^-1\", \"h^{-1}\")\n",
    "    if \"h^-3\" in psunits: psunits = psunits.replace(\"h^-3\", \"h^{-3}\")\n",
    "    if \"Mpc\" in psunits and \"\\\\rm\" not in psunits: \n",
    "        psunits = psunits.replace(\"Mpc\", r\"{\\rm Mpc}\")\n",
    "    if \"pi\" in psunits and \"\\\\pi\" not in psunits: \n",
    "        psunits = psunits.replace(\"pi\", r\"\\pi\")\n",
    "    \n",
    "    ax = axes[col_idx]\n",
    "    Lap_sigma_list = np.zeros(num_time_samples)\n",
    "    for time in times:\n",
    "        Lap_sigma_list[time] = uvp_plot.get_stats(\"autos_diag\", keys[0])[time, 0].real \n",
    "    Gauss_sigma = np.sqrt(np.sum(Lap_sigma_list**2))/num_time_samples\n",
    "    vlim = 6*Gauss_sigma\n",
    "    n_in_bins, bins_edge, _ = ax.hist(ps_real_time_avg, log=True, density=True, bins=61, range=(-vlim, vlim), alpha=0.75,\n",
    "                           color='pink')\n",
    "    ax.set_xlim(-vlim, vlim)\n",
    "    ax.set_ylim(*ylim)\n",
    "    \n",
    "    px = np.linspace(-vlim, vlim, 100)\n",
    "    Lap_curve = np.zeros_like(px)\n",
    "    normalized_factor = 0\n",
    "    for time in times:\n",
    "        scale_factor = 1\n",
    "        for time_ in times:\n",
    "            if time_ != time:\n",
    "                scale_factor *= Lap_sigma_list[time]**2/(Lap_sigma_list[time]**2-Lap_sigma_list[time_]**2)\n",
    "        normalized_factor += scale_factor   \n",
    "        Lap_curve += np.exp(-np.sqrt(2)*np.abs(px)/Lap_sigma_list[time]*num_time_samples)/np.sqrt(2)/Lap_sigma_list[time]*num_time_samples*scale_factor\n",
    "    \n",
    "    # Calculate the equivalent Gaussian pdf\n",
    "    Gauss_curve = np.exp(-px**2/2/Gauss_sigma**2)/np.sqrt(2*np.pi*Gauss_sigma**2)\n",
    "    \n",
    "    if np.isclose(normalized_factor,1,rtol=5e-1):\n",
    "        ax.plot(px, Lap_curve, ls='-', lw=2, label=\"Sum of Laplacians\", c='cyan')\n",
    "    ax.plot(px, Gauss_curve, ls='--', lw=2, label='Gaussian', c='slategrey')\n",
    "    bins_center = (bins_edge[1:] + bins_edge[0:-1])/2\n",
    "    outlier_3sigma = (np.sum(n_in_bins)-np.sum(n_in_bins[(-3*Gauss_sigma<=bins_center)*(bins_center<=3*Gauss_sigma)]))/np.sum(n_in_bins)\n",
    "    print(\"beyond 3sigma {}\".format(outlier_3sigma), \\\n",
    "          \"Gauss {}\".format((np.sum(Gauss_curve)-np.sum(Gauss_curve[(-3*Gauss_sigma<=px)*(px<=3*Gauss_sigma)]))/np.sum(Gauss_curve)), \\\n",
    "          \"Laplacian {}\".format((np.sum(Lap_curve)-np.sum(Lap_curve[(-3*Gauss_sigma<=px)*(px<=3*Gauss_sigma)]))/np.sum(Lap_curve)))\n",
    "    # confidence interval\n",
    "    ax.axvline(x=3*Gauss_sigma, c='k', lw=1, ls=':')\n",
    "    ax.axvline(x=-3*Gauss_sigma, c='k', lw=1, ls=':')\n",
    "    ax.axvline(x=5*Gauss_sigma, c='navy', lw=1, ls=':')\n",
    "    ax.axvline(x=-5*Gauss_sigma, c='navy', lw=1, ls=':')\n",
    "    if ax_idx == 0:\n",
    "        ax.text(2.2*Gauss_sigma, 9*1e-12, r'$3 \\sigma$', ha=\"center\", va=\"center\", rotation=0,\n",
    "            fontsize=14,\n",
    "            bbox=dict(boxstyle=\"rarrow\", fc=\"green\", alpha=0.5))\n",
    "        ax.text(4.2*Gauss_sigma, 1e-10, r'$5 \\sigma$', ha=\"center\", va=\"center\", rotation=0,\n",
    "            fontsize=14,\n",
    "            bbox=dict(boxstyle=\"rarrow\", fc=\"green\", alpha=0.5))\n",
    "        ax.text(-2.2*Gauss_sigma, 9*1e-12, r'$3 \\sigma$', ha=\"center\", va=\"center\", rotation=0,\n",
    "            fontsize=14,\n",
    "            bbox=dict(boxstyle=\"larrow\", fc=\"green\", alpha=0.5))\n",
    "        ax.text(-4.2*Gauss_sigma, 1e-10, r'$5 \\sigma$', ha=\"center\", va=\"center\", rotation=0,\n",
    "            fontsize=14,\n",
    "            bbox=dict(boxstyle=\"larrow\", fc=\"green\", alpha=0.5))\n",
    "    \n",
    "    ax.tick_params(which='both', labelsize=16, length=3, width=0.5)\n",
    "    ax.xaxis.set_minor_locator(ticker.MultipleLocator(1e9))\n",
    "    xticks = ax.get_xticks()\n",
    "    ax.set_xticklabels(xticks/1e10)\n",
    "    ax.set_xlabel(\"$P(k_\\parallel)$ $[\\\\times 10^{10}\\,%s]$\" % psunits, fontsize=16)\n",
    "    if col_idx == 0: \n",
    "        ax.set_ylabel(\"pdf\", fontsize=16)\n",
    "    if ax_idx == 0:\n",
    "        ax.legend(loc='lower right', fontsize=14)\n",
    "    ax.set_title(\"Average over \\n{} timestamp(s)\".format(num_time_samples),bbox=dict(fc='wheat', alpha=0.5), fontsize=16, pad=15)\n",
    "fig.subplots_adjust(top=0.8)\n",
    "fig.suptitle(suptitle, fontsize=20, bbox=dict(fc='gold', alpha=0.5), x=0.5, y=0.99)\n",
    "print(len(uvp_plot.get_all_keys())*len(delay_args))"
   ]
  },
  {
   "cell_type": "markdown",
   "id": "0b5b3251",
   "metadata": {
    "papermill": {
     "duration": null,
     "end_time": null,
     "exception": null,
     "start_time": null,
     "status": "pending"
    },
    "tags": []
   },
   "source": [
    "#### inpainted + reflection"
   ]
  },
  {
   "cell_type": "code",
   "execution_count": null,
   "id": "7b5abbef",
   "metadata": {
    "papermill": {
     "duration": null,
     "end_time": null,
     "exception": null,
     "start_time": null,
     "status": "pending"
    },
    "tags": []
   },
   "outputs": [],
   "source": [
    "# used in paper\n",
    "# A larger window (2000), with normalization\n",
    "uvp_plot = uvp_PC_cov_n\n",
    "num_time_samples_list = [1,5,15]\n",
    "ylim = (5*1e-13,1e-9)\n",
    "dlys = uvp_plot.get_dlys(0) * 1e9\n",
    "delay_args = np.append(np.argwhere(dlys< -2000), np.argwhere(dlys> 2000))\n",
    "suptitle = \"Inpainted+cable reflection removed, \"+r\"$|\\tau|>2000 {\\rm ns}$\"\n",
    "\n",
    "fig, axes = plt.subplots(figsize=(20,6), ncols=3, nrows=1)\n",
    "for ax_idx, num_time_samples in enumerate(num_time_samples_list):\n",
    "    col_idx = ax_idx%3\n",
    "    times = np.arange(num_time_samples)\n",
    "   \n",
    "    # Get all keys\n",
    "    keys = uvp_plot.get_all_keys()\n",
    "    blpt_weights = np.array([[1. for item in times] for key in keys])\n",
    "    ps_real_time_avg = []\n",
    "    for dly in delay_args:\n",
    "        ps = np.array([[uvp_plot.get_data(key)[time, dly]*uvp_plot.get_stats(\"autos_diag\", keys[0])[time,0].real\\\n",
    "                        /uvp_plot.get_stats(\"autos_diag\", key)[time, dly].real for time in times] for key in keys])\n",
    "        ps_real_time_avg.extend((np.sum(ps.real*blpt_weights, axis=1)/np.sum(blpt_weights, axis=1).clip(1e-10, np.inf)).flatten())\n",
    "    ps_real_time_avg = np.array(ps_real_time_avg) - np.mean(ps_real_time_avg)\n",
    "    # The ratio of error bars to the original one\n",
    "    psunits = uvp_plot.units\n",
    "    if \"h^-1\" in psunits: psunits = psunits.replace(\"h^-1\", \"h^{-1}\")\n",
    "    if \"h^-3\" in psunits: psunits = psunits.replace(\"h^-3\", \"h^{-3}\")\n",
    "    if \"Mpc\" in psunits and \"\\\\rm\" not in psunits: \n",
    "        psunits = psunits.replace(\"Mpc\", r\"{\\rm Mpc}\")\n",
    "    if \"pi\" in psunits and \"\\\\pi\" not in psunits: \n",
    "        psunits = psunits.replace(\"pi\", r\"\\pi\")\n",
    "    \n",
    "    ax = axes[col_idx]\n",
    "    Lap_sigma_list = np.zeros(num_time_samples)\n",
    "    for time in times:\n",
    "        Lap_sigma_list[time] = uvp_plot.get_stats(\"autos_diag\", keys[0])[time, 0].real \n",
    "    Gauss_sigma = np.sqrt(np.sum(Lap_sigma_list**2))/num_time_samples\n",
    "    vlim = 6*Gauss_sigma\n",
    "    n_in_bins, bins_edge, _ = ax.hist(ps_real_time_avg, log=True, density=True, bins=61, range=(-vlim, vlim), alpha=0.75,\n",
    "                           color='pink')\n",
    "    ax.set_xlim(-vlim, vlim)\n",
    "    ax.set_ylim(*ylim)\n",
    "    \n",
    "    px = np.linspace(-vlim, vlim, 100)\n",
    "    Lap_curve = np.zeros_like(px)\n",
    "    normalized_factor = 0\n",
    "    for time in times:\n",
    "        scale_factor = 1\n",
    "        for time_ in times:\n",
    "            if time_ != time:\n",
    "                scale_factor *= Lap_sigma_list[time]**2/(Lap_sigma_list[time]**2-Lap_sigma_list[time_]**2)\n",
    "        normalized_factor += scale_factor   \n",
    "        Lap_curve += np.exp(-np.sqrt(2)*np.abs(px)/Lap_sigma_list[time]*num_time_samples)/np.sqrt(2)/Lap_sigma_list[time]*num_time_samples*scale_factor\n",
    "    \n",
    "    # Calculate the equivalent Gaussian pdf\n",
    "    Gauss_curve = np.exp(-px**2/2/Gauss_sigma**2)/np.sqrt(2*np.pi*Gauss_sigma**2)\n",
    "    \n",
    "    if np.isclose(normalized_factor,1,rtol=5e-1):\n",
    "        ax.plot(px, Lap_curve, ls='-', lw=2, label=\"Sum of Laplacian\", c='cyan')\n",
    "    ax.plot(px, Gauss_curve, ls='--', lw=2, label='Gaussian', c='slategrey')\n",
    "    bins_center = (bins_edge[1:] + bins_edge[0:-1])/2\n",
    "    outlier_3sigma = (np.sum(n_in_bins)-np.sum(n_in_bins[(-3*Gauss_sigma<=bins_center)*(bins_center<=3*Gauss_sigma)]))/np.sum(n_in_bins)\n",
    "    print(\"beyond 3sigma {}\".format(outlier_3sigma))\n",
    "    \n",
    "    # confidence interval\n",
    "    ax.axvline(x=3*Gauss_sigma, c='k', lw=1, ls=':')\n",
    "    ax.axvline(x=-3*Gauss_sigma, c='k', lw=1, ls=':')\n",
    "    ax.axvline(x=5*Gauss_sigma, c='navy', lw=1, ls=':')\n",
    "    ax.axvline(x=-5*Gauss_sigma, c='navy', lw=1, ls=':')\n",
    "    if ax_idx == 0:\n",
    "        ax.text(2.2*Gauss_sigma, 9*1e-12, r'$3 \\sigma$', ha=\"center\", va=\"center\", rotation=0,\n",
    "            fontsize=14,\n",
    "            bbox=dict(boxstyle=\"rarrow\", fc=\"green\", alpha=0.5))\n",
    "        ax.text(4.2*Gauss_sigma, 1e-10, r'$5 \\sigma$', ha=\"center\", va=\"center\", rotation=0,\n",
    "            fontsize=14,\n",
    "            bbox=dict(boxstyle=\"rarrow\", fc=\"green\", alpha=0.5))\n",
    "        ax.text(-2.2*Gauss_sigma, 9*1e-12, r'$3 \\sigma$', ha=\"center\", va=\"center\", rotation=0,\n",
    "            fontsize=14,\n",
    "            bbox=dict(boxstyle=\"larrow\", fc=\"green\", alpha=0.5))\n",
    "        ax.text(-4.2*Gauss_sigma, 1e-10, r'$5 \\sigma$', ha=\"center\", va=\"center\", rotation=0,\n",
    "            fontsize=14,\n",
    "            bbox=dict(boxstyle=\"larrow\", fc=\"green\", alpha=0.5))\n",
    "    \n",
    "    ax.tick_params(which='both', labelsize=16, length=3, width=0.5)\n",
    "    ax.xaxis.set_minor_locator(ticker.MultipleLocator(1e9))\n",
    "    xticks = ax.get_xticks()\n",
    "    ax.set_xticklabels(xticks/1e10)\n",
    "    ax.set_xlabel(\"$P(k_\\parallel)$ $[\\\\times 10^{10}\\,%s]$\" % psunits, fontsize=16)\n",
    "    if col_idx == 0: \n",
    "        ax.set_ylabel(\"pdf\", fontsize=16)\n",
    "    if ax_idx == 0:\n",
    "        ax.legend(loc='lower right', fontsize=14)\n",
    "    ax.set_title(\"Average over \\n{} timestamp(s)\".format(num_time_samples),bbox=dict(fc='wheat', alpha=0.5), fontsize=16, pad=15)\n",
    "fig.subplots_adjust(top=0.8)\n",
    "fig.suptitle(suptitle, fontsize=20, bbox=dict(fc='gold', alpha=0.5), x=0.5, y=0.99)\n",
    "print(len(uvp_plot.get_all_keys())*len(delay_args))"
   ]
  },
  {
   "cell_type": "code",
   "execution_count": null,
   "id": "021d06d1",
   "metadata": {
    "papermill": {
     "duration": null,
     "end_time": null,
     "exception": null,
     "start_time": null,
     "status": "pending"
    },
    "tags": []
   },
   "outputs": [],
   "source": [
    "# used in paper\n",
    "# A larger window (500-1500), with normalization\n",
    "uvp_plot = uvp_PC_cov_n\n",
    "num_time_samples_list = [1,5,15]\n",
    "ylim = (5*1e-13,1e-9)\n",
    "dlys = uvp_plot.get_dlys(0) * 1e9\n",
    "delay_args = np.append(np.argwhere((dlys< -500)*(dlys>-1500)), np.argwhere((dlys< 1500)*(dlys>500)))\n",
    "suptitle = \"Inpainted+cable reflection removed, \" + r\"$500\\,{\\rm ns}<|\\tau|<1500\\,{\\rm ns}$\"\n",
    "\n",
    "fig, axes = plt.subplots(figsize=(20,6), ncols=3, nrows=1)\n",
    "for ax_idx, num_time_samples in enumerate(num_time_samples_list):\n",
    "    col_idx = ax_idx%3\n",
    "    times = np.arange(num_time_samples)\n",
    "   \n",
    "    # Get all keys\n",
    "    keys = uvp_plot.get_all_keys()\n",
    "    blpt_weights = np.array([[1. for item in times] for key in keys])\n",
    "    ps_real_time_avg = []\n",
    "    for dly in delay_args:\n",
    "        ps = np.array([[uvp_plot.get_data(key)[time, dly]*uvp_plot.get_stats(\"autos_diag\", keys[0])[time,0].real\\\n",
    "                        /uvp_plot.get_stats(\"autos_diag\", key)[time, dly].real for time in times] for key in keys])\n",
    "        ps_real_time_avg.extend((np.sum(ps.real*blpt_weights, axis=1)/np.sum(blpt_weights, axis=1).clip(1e-10, np.inf)).flatten())\n",
    "    ps_real_time_avg = np.array(ps_real_time_avg) - np.mean(ps_real_time_avg)\n",
    "    # The ratio of error bars to the original one\n",
    "    psunits = uvp_plot.units\n",
    "    if \"h^-1\" in psunits: psunits = psunits.replace(\"h^-1\", \"h^{-1}\")\n",
    "    if \"h^-3\" in psunits: psunits = psunits.replace(\"h^-3\", \"h^{-3}\")\n",
    "    if \"Mpc\" in psunits and \"\\\\rm\" not in psunits: \n",
    "        psunits = psunits.replace(\"Mpc\", r\"{\\rm Mpc}\")\n",
    "    if \"pi\" in psunits and \"\\\\pi\" not in psunits: \n",
    "        psunits = psunits.replace(\"pi\", r\"\\pi\")\n",
    "    \n",
    "    ax = axes[col_idx]\n",
    "    Lap_sigma_list = np.zeros(num_time_samples)\n",
    "    for time in times:\n",
    "        Lap_sigma_list[time] = uvp_plot.get_stats(\"autos_diag\", keys[0])[time, 0].real \n",
    "    Gauss_sigma = np.sqrt(np.sum(Lap_sigma_list**2))/num_time_samples\n",
    "    vlim = 6*Gauss_sigma\n",
    "    n_in_bins, bins_edge, _ = ax.hist(ps_real_time_avg, log=True, density=True, bins=61, range=(-vlim, vlim), alpha=0.75,\n",
    "                           color='pink')\n",
    "    ax.set_xlim(-vlim, vlim)\n",
    "    ax.set_ylim(*ylim)\n",
    "    \n",
    "    px = np.linspace(-vlim, vlim, 100)\n",
    "    Lap_curve = np.zeros_like(px)\n",
    "    normalized_factor = 0\n",
    "    for time in times:\n",
    "        scale_factor = 1\n",
    "        for time_ in times:\n",
    "            if time_ != time:\n",
    "                scale_factor *= Lap_sigma_list[time]**2/(Lap_sigma_list[time]**2-Lap_sigma_list[time_]**2)\n",
    "        normalized_factor += scale_factor   \n",
    "        Lap_curve += np.exp(-np.sqrt(2)*np.abs(px)/Lap_sigma_list[time]*num_time_samples)/np.sqrt(2)/Lap_sigma_list[time]*num_time_samples*scale_factor\n",
    "    \n",
    "    # Calculate the equivalent Gaussian pdf\n",
    "    Gauss_curve = np.exp(-px**2/2/Gauss_sigma**2)/np.sqrt(2*np.pi*Gauss_sigma**2)\n",
    "    \n",
    "    if np.isclose(normalized_factor,1,rtol=5e-1):\n",
    "        ax.plot(px, Lap_curve, ls='-', lw=2, label=\"sum of Laplacian\", c='cyan')\n",
    "    ax.plot(px, Gauss_curve, ls='--', lw=2, label='Gaussian', c='slategrey')\n",
    "    \n",
    "    # confidence interval\n",
    "    ax.axvline(x=3*Gauss_sigma, c='k', lw=1, ls=':')\n",
    "    ax.axvline(x=-3*Gauss_sigma, c='k', lw=1, ls=':')\n",
    "    ax.axvline(x=5*Gauss_sigma, c='navy', lw=1, ls=':')\n",
    "    ax.axvline(x=-5*Gauss_sigma, c='navy', lw=1, ls=':')\n",
    "    if ax_idx == 0:\n",
    "        ax.text(2.2*Gauss_sigma, 9*1e-12, r'$3 \\sigma$', ha=\"center\", va=\"center\", rotation=0,\n",
    "            fontsize=14,\n",
    "            bbox=dict(boxstyle=\"rarrow\", fc=\"green\", alpha=0.5))\n",
    "        ax.text(4.2*Gauss_sigma, 1e-10, r'$5 \\sigma$', ha=\"center\", va=\"center\", rotation=0,\n",
    "            fontsize=14,\n",
    "            bbox=dict(boxstyle=\"rarrow\", fc=\"green\", alpha=0.5))\n",
    "        ax.text(-2.2*Gauss_sigma, 9*1e-12, r'$3 \\sigma$', ha=\"center\", va=\"center\", rotation=0,\n",
    "            fontsize=14,\n",
    "            bbox=dict(boxstyle=\"larrow\", fc=\"green\", alpha=0.5))\n",
    "        ax.text(-4.2*Gauss_sigma, 1e-10, r'$5 \\sigma$', ha=\"center\", va=\"center\", rotation=0,\n",
    "            fontsize=14,\n",
    "            bbox=dict(boxstyle=\"larrow\", fc=\"green\", alpha=0.5))\n",
    "    \n",
    "    ax.tick_params(which='both', labelsize=16, length=3, width=0.5)\n",
    "    ax.xaxis.set_minor_locator(ticker.MultipleLocator(1e9))\n",
    "    xticks = ax.get_xticks()\n",
    "    ax.set_xticklabels(xticks/1e10)\n",
    "    ax.set_xlabel(\"$P(k_\\parallel)$ $[\\\\times 10^{10}\\,%s]$\" % psunits, fontsize=16)\n",
    "    if col_idx == 0: \n",
    "        ax.set_ylabel(\"pdf\", fontsize=16)\n",
    "    if ax_idx == 0:\n",
    "        ax.legend(loc='lower right', fontsize=14)\n",
    "    ax.set_title(\"Average over \\n{} timestamp(s)\".format(num_time_samples),bbox=dict(fc='wheat', alpha=0.5), fontsize=16, pad=15)\n",
    "fig.subplots_adjust(top=0.8)\n",
    "fig.suptitle(suptitle, fontsize=20, bbox=dict(fc='gold', alpha=0.5), x=0.5, y=0.99)\n",
    "print(len(uvp_plot.get_all_keys())*len(delay_args))"
   ]
  },
  {
   "cell_type": "markdown",
   "id": "6855baa8",
   "metadata": {
    "papermill": {
     "duration": null,
     "end_time": null,
     "exception": null,
     "start_time": null,
     "status": "pending"
    },
    "tags": []
   },
   "source": [
    "#### inpainted + xtalk + reflection"
   ]
  },
  {
   "cell_type": "code",
   "execution_count": null,
   "id": "01c6d1d2",
   "metadata": {
    "papermill": {
     "duration": null,
     "end_time": null,
     "exception": null,
     "start_time": null,
     "status": "pending"
    },
    "tags": []
   },
   "outputs": [],
   "source": [
    "# used in paper\n",
    "# A larger window (2000), with normalization\n",
    "uvp_plot = uvp_PXC_cov_n\n",
    "num_time_samples_list = [1,5,15]\n",
    "ylim = (5*1e-13,1e-9)\n",
    "dlys = uvp_plot.get_dlys(0) * 1e9\n",
    "delay_args = np.append(np.argwhere(dlys< -2000), np.argwhere(dlys> 2000))\n",
    "suptitle = \"Inpainted+xtalk removed+cable reflection removed, \"+r\"$|\\tau|>2000 {\\rm ns}$\"\n",
    "\n",
    "fig, axes = plt.subplots(figsize=(20,6), ncols=3, nrows=1)\n",
    "for ax_idx, num_time_samples in enumerate(num_time_samples_list):\n",
    "    col_idx = ax_idx%3\n",
    "    times = np.arange(num_time_samples)\n",
    "   \n",
    "    # Get all keys\n",
    "    keys = uvp_plot.get_all_keys()\n",
    "    blpt_weights = np.array([[1. for item in times] for key in keys])\n",
    "    ps_real_time_avg = []\n",
    "    for dly in delay_args:\n",
    "        ps = np.array([[uvp_plot.get_data(key)[time, dly]*uvp_plot.get_stats(\"autos_diag\", keys[0])[time,0].real\\\n",
    "                        /uvp_plot.get_stats(\"autos_diag\", key)[time, dly].real for time in times] for key in keys])\n",
    "        ps_real_time_avg.extend((np.sum(ps.real*blpt_weights, axis=1)/np.sum(blpt_weights, axis=1).clip(1e-10, np.inf)).flatten())\n",
    "    ps_real_time_avg = np.array(ps_real_time_avg) - np.mean(ps_real_time_avg)\n",
    "    # The ratio of error bars to the original one\n",
    "    psunits = uvp_plot.units\n",
    "    if \"h^-1\" in psunits: psunits = psunits.replace(\"h^-1\", \"h^{-1}\")\n",
    "    if \"h^-3\" in psunits: psunits = psunits.replace(\"h^-3\", \"h^{-3}\")\n",
    "    if \"Mpc\" in psunits and \"\\\\rm\" not in psunits: \n",
    "        psunits = psunits.replace(\"Mpc\", r\"{\\rm Mpc}\")\n",
    "    if \"pi\" in psunits and \"\\\\pi\" not in psunits: \n",
    "        psunits = psunits.replace(\"pi\", r\"\\pi\")\n",
    "    \n",
    "    ax = axes[col_idx]\n",
    "    Lap_sigma_list = np.zeros(num_time_samples)\n",
    "    for time in times:\n",
    "        Lap_sigma_list[time] = uvp_plot.get_stats(\"autos_diag\", keys[0])[time, 0].real \n",
    "    Gauss_sigma = np.sqrt(np.sum(Lap_sigma_list**2))/num_time_samples\n",
    "    vlim = 6*Gauss_sigma\n",
    "    n_in_bins, bins_edge, _ = ax.hist(ps_real_time_avg, log=True, density=True, bins=61, range=(-vlim, vlim), alpha=0.75,\n",
    "                           color='pink')\n",
    "    ax.set_xlim(-vlim, vlim)\n",
    "    ax.set_ylim(*ylim)\n",
    "    \n",
    "    px = np.linspace(-vlim, vlim, 100)\n",
    "    Lap_curve = np.zeros_like(px)\n",
    "    normalized_factor = 0\n",
    "    for time in times:\n",
    "        scale_factor = 1\n",
    "        for time_ in times:\n",
    "            if time_ != time:\n",
    "                scale_factor *= Lap_sigma_list[time]**2/(Lap_sigma_list[time]**2-Lap_sigma_list[time_]**2)\n",
    "        normalized_factor += scale_factor   \n",
    "        Lap_curve += np.exp(-np.sqrt(2)*np.abs(px)/Lap_sigma_list[time]*num_time_samples)/np.sqrt(2)/Lap_sigma_list[time]*num_time_samples*scale_factor\n",
    "    \n",
    "    # Calculate the equivalent Gaussian pdf\n",
    "    Gauss_curve = np.exp(-px**2/2/Gauss_sigma**2)/np.sqrt(2*np.pi*Gauss_sigma**2)\n",
    "    \n",
    "    if np.isclose(normalized_factor,1,rtol=5e-1):\n",
    "        ax.plot(px, Lap_curve, ls='-', lw=2, label=\"sum of Laplacian\", c='cyan')\n",
    "    ax.plot(px, Gauss_curve, ls='--', lw=2, label='Gaussian', c='slategrey')\n",
    "    \n",
    "    # confidence interval\n",
    "    ax.axvline(x=3*Gauss_sigma, c='k', lw=1, ls=':')\n",
    "    ax.axvline(x=-3*Gauss_sigma, c='k', lw=1, ls=':')\n",
    "    ax.axvline(x=5*Gauss_sigma, c='navy', lw=1, ls=':')\n",
    "    ax.axvline(x=-5*Gauss_sigma, c='navy', lw=1, ls=':')\n",
    "    if ax_idx == 0:\n",
    "        ax.text(2.2*Gauss_sigma, 9*1e-12, r'$3 \\sigma$', ha=\"center\", va=\"center\", rotation=0,\n",
    "            fontsize=14,\n",
    "            bbox=dict(boxstyle=\"rarrow\", fc=\"green\", alpha=0.5))\n",
    "        ax.text(4.2*Gauss_sigma, 1e-10, r'$5 \\sigma$', ha=\"center\", va=\"center\", rotation=0,\n",
    "            fontsize=14,\n",
    "            bbox=dict(boxstyle=\"rarrow\", fc=\"green\", alpha=0.5))\n",
    "        ax.text(-2.2*Gauss_sigma, 9*1e-12, r'$3 \\sigma$', ha=\"center\", va=\"center\", rotation=0,\n",
    "            fontsize=14,\n",
    "            bbox=dict(boxstyle=\"larrow\", fc=\"green\", alpha=0.5))\n",
    "        ax.text(-4.2*Gauss_sigma, 1e-10, r'$5 \\sigma$', ha=\"center\", va=\"center\", rotation=0,\n",
    "            fontsize=14,\n",
    "            bbox=dict(boxstyle=\"larrow\", fc=\"green\", alpha=0.5))\n",
    "    \n",
    "    ax.tick_params(which='both', labelsize=16, length=3, width=0.5)\n",
    "    ax.xaxis.set_minor_locator(ticker.MultipleLocator(1e9))\n",
    "    xticks = ax.get_xticks()\n",
    "    ax.set_xticklabels(xticks/1e10)\n",
    "    ax.set_xlabel(\"$P(k_\\parallel)$ $[\\\\times 10^{10}\\,%s]$\" % psunits, fontsize=16)\n",
    "    if col_idx == 0: \n",
    "        ax.set_ylabel(\"pdf\", fontsize=16)\n",
    "    if ax_idx == 0:\n",
    "        ax.legend(loc='lower right', fontsize=14)\n",
    "    ax.set_title(\"Average over \\n{} timestamp(s)\".format(num_time_samples),bbox=dict(fc='wheat', alpha=0.5), fontsize=16, pad=15)\n",
    "fig.subplots_adjust(top=0.8)\n",
    "fig.suptitle(suptitle, fontsize=20, bbox=dict(fc='gold', alpha=0.5), x=0.5, y=0.99)\n",
    "print(len(uvp_plot.get_all_keys())*len(delay_args))"
   ]
  },
  {
   "cell_type": "code",
   "execution_count": null,
   "id": "89bc1628",
   "metadata": {
    "papermill": {
     "duration": null,
     "end_time": null,
     "exception": null,
     "start_time": null,
     "status": "pending"
    },
    "tags": []
   },
   "outputs": [],
   "source": [
    "# used in paper\n",
    "# A larger window (500-1500), with normalization\n",
    "uvp_plot = uvp_PXC_cov_n\n",
    "num_time_samples_list = [1,5,15]\n",
    "ylim = (5*1e-13,1e-9)\n",
    "dlys = uvp_plot.get_dlys(0) * 1e9\n",
    "delay_args = np.append(np.argwhere((dlys< -500)*(dlys>-1500)), np.argwhere((dlys< 1500)*(dlys>500)))\n",
    "suptitle = \"Inpainted+xtalk removed+cable reflection removed, \" + r\"$500\\,{\\rm ns}<|\\tau|<1500\\,{\\rm ns}$\"\n",
    "\n",
    "fig, axes = plt.subplots(figsize=(20,6), ncols=3, nrows=1)\n",
    "for ax_idx, num_time_samples in enumerate(num_time_samples_list):\n",
    "    col_idx = ax_idx%3\n",
    "    times = np.arange(num_time_samples)\n",
    "   \n",
    "    # Get all keys\n",
    "    keys = uvp_plot.get_all_keys()\n",
    "    blpt_weights = np.array([[1. for item in times] for key in keys])\n",
    "    ps_real_time_avg = []\n",
    "    for dly in delay_args:\n",
    "        ps = np.array([[uvp_plot.get_data(key)[time, dly]*uvp_plot.get_stats(\"autos_diag\", keys[0])[time,0].real\\\n",
    "                        /uvp_plot.get_stats(\"autos_diag\", key)[time, dly].real for time in times] for key in keys])\n",
    "        ps_real_time_avg.extend((np.sum(ps.real*blpt_weights, axis=1)/np.sum(blpt_weights, axis=1).clip(1e-10, np.inf)).flatten())\n",
    "    ps_real_time_avg = np.array(ps_real_time_avg) - np.mean(ps_real_time_avg)\n",
    "    # The ratio of error bars to the original one\n",
    "    psunits = uvp_plot.units\n",
    "    if \"h^-1\" in psunits: psunits = psunits.replace(\"h^-1\", \"h^{-1}\")\n",
    "    if \"h^-3\" in psunits: psunits = psunits.replace(\"h^-3\", \"h^{-3}\")\n",
    "    if \"Mpc\" in psunits and \"\\\\rm\" not in psunits: \n",
    "        psunits = psunits.replace(\"Mpc\", r\"{\\rm Mpc}\")\n",
    "    if \"pi\" in psunits and \"\\\\pi\" not in psunits: \n",
    "        psunits = psunits.replace(\"pi\", r\"\\pi\")\n",
    "    \n",
    "    ax = axes[col_idx]\n",
    "    Lap_sigma_list = np.zeros(num_time_samples)\n",
    "    for time in times:\n",
    "        Lap_sigma_list[time] = uvp_plot.get_stats(\"autos_diag\", keys[0])[time, 0].real \n",
    "    Gauss_sigma = np.sqrt(np.sum(Lap_sigma_list**2))/num_time_samples\n",
    "    vlim = 6*Gauss_sigma\n",
    "    n_in_bins, bins_edge, _ = ax.hist(ps_real_time_avg, log=True, density=True, bins=61, range=(-vlim, vlim), alpha=0.75,\n",
    "                           color='pink')\n",
    "    ax.set_xlim(-vlim, vlim)\n",
    "    ax.set_ylim(*ylim)\n",
    "    \n",
    "    px = np.linspace(-vlim, vlim, 100)\n",
    "    Lap_curve = np.zeros_like(px)\n",
    "    normalized_factor = 0\n",
    "    for time in times:\n",
    "        scale_factor = 1\n",
    "        for time_ in times:\n",
    "            if time_ != time:\n",
    "                scale_factor *= Lap_sigma_list[time]**2/(Lap_sigma_list[time]**2-Lap_sigma_list[time_]**2)\n",
    "        normalized_factor += scale_factor   \n",
    "        Lap_curve += np.exp(-np.sqrt(2)*np.abs(px)/Lap_sigma_list[time]*num_time_samples)/np.sqrt(2)/Lap_sigma_list[time]*num_time_samples*scale_factor\n",
    "    \n",
    "    # Calculate the equivalent Gaussian pdf\n",
    "    Gauss_curve = np.exp(-px**2/2/Gauss_sigma**2)/np.sqrt(2*np.pi*Gauss_sigma**2)\n",
    "    \n",
    "    if np.isclose(normalized_factor,1,rtol=5e-1):\n",
    "        ax.plot(px, Lap_curve, ls='-', lw=2, label=\"sum of Laplacian\", c='cyan')\n",
    "    ax.plot(px, Gauss_curve, ls='--', lw=2, label='Gaussian', c='slategrey')\n",
    "    \n",
    "    # confidence interval\n",
    "    ax.axvline(x=3*Gauss_sigma, c='k', lw=1, ls=':')\n",
    "    ax.axvline(x=-3*Gauss_sigma, c='k', lw=1, ls=':')\n",
    "    ax.axvline(x=5*Gauss_sigma, c='navy', lw=1, ls=':')\n",
    "    ax.axvline(x=-5*Gauss_sigma, c='navy', lw=1, ls=':')\n",
    "    if ax_idx == 0:\n",
    "        ax.text(2.2*Gauss_sigma, 9*1e-12, r'$3 \\sigma$', ha=\"center\", va=\"center\", rotation=0,\n",
    "            fontsize=14,\n",
    "            bbox=dict(boxstyle=\"rarrow\", fc=\"green\", alpha=0.5))\n",
    "        ax.text(4.2*Gauss_sigma, 1e-10, r'$5 \\sigma$', ha=\"center\", va=\"center\", rotation=0,\n",
    "            fontsize=14,\n",
    "            bbox=dict(boxstyle=\"rarrow\", fc=\"green\", alpha=0.5))\n",
    "        ax.text(-2.2*Gauss_sigma, 9*1e-12, r'$3 \\sigma$', ha=\"center\", va=\"center\", rotation=0,\n",
    "            fontsize=14,\n",
    "            bbox=dict(boxstyle=\"larrow\", fc=\"green\", alpha=0.5))\n",
    "        ax.text(-4.2*Gauss_sigma, 1e-10, r'$5 \\sigma$', ha=\"center\", va=\"center\", rotation=0,\n",
    "            fontsize=14,\n",
    "            bbox=dict(boxstyle=\"larrow\", fc=\"green\", alpha=0.5))\n",
    "    \n",
    "    ax.tick_params(which='both', labelsize=16, length=3, width=0.5)\n",
    "    ax.xaxis.set_minor_locator(ticker.MultipleLocator(1e9))\n",
    "    xticks = ax.get_xticks()\n",
    "    ax.set_xticklabels(xticks/1e10)\n",
    "    ax.set_xlabel(\"$P(k_\\parallel)$ $[\\\\times 10^{10}\\,%s]$\" % psunits, fontsize=16)\n",
    "    if col_idx == 0: \n",
    "        ax.set_ylabel(\"pdf\", fontsize=16)\n",
    "    if ax_idx == 0:\n",
    "        ax.legend(loc='lower right', fontsize=14)\n",
    "    ax.set_title(\"Average over \\n{} timestamp(s)\".format(num_time_samples),bbox=dict(fc='wheat', alpha=0.5), fontsize=16, pad=15)\n",
    "fig.subplots_adjust(top=0.8)\n",
    "fig.suptitle(suptitle, fontsize=20, bbox=dict(fc='gold', alpha=0.5), x=0.5, y=0.99)\n",
    "print(len(uvp_plot.get_all_keys())*len(delay_args))"
   ]
  },
  {
   "cell_type": "code",
   "execution_count": null,
   "id": "f17c15e1",
   "metadata": {
    "papermill": {
     "duration": null,
     "end_time": null,
     "exception": null,
     "start_time": null,
     "status": "pending"
    },
    "tags": []
   },
   "outputs": [],
   "source": []
  }
 ],
 "metadata": {
  "kernelspec": {
   "display_name": "Python 3 (ipykernel)",
   "language": "python",
   "name": "python3"
  },
  "language_info": {
   "codemirror_mode": {
    "name": "ipython",
    "version": 3
   },
   "file_extension": ".py",
   "mimetype": "text/x-python",
   "name": "python",
   "nbconvert_exporter": "python",
   "pygments_lexer": "ipython3",
   "version": "3.9.6"
  },
  "papermill": {
   "default_parameters": {},
   "duration": null,
   "end_time": null,
   "environment_variables": {},
   "exception": null,
   "input_path": "PaperPlots-IDR2_2.ipynb",
   "output_path": "PaperPlots-IDR2_2_518135.ipynb",
   "parameters": {},
   "start_time": "2022-03-24T13:09:09.235113",
   "version": "2.3.4"
  }
 },
 "nbformat": 4,
 "nbformat_minor": 5
}