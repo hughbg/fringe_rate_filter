{
 "cells": [
  {
   "cell_type": "code",
   "execution_count": 1,
   "id": "55ea113f",
   "metadata": {
    "execution": {
     "iopub.execute_input": "2022-03-27T20:22:31.253063Z",
     "iopub.status.busy": "2022-03-27T20:22:31.251958Z",
     "iopub.status.idle": "2022-03-27T20:22:31.260211Z",
     "shell.execute_reply": "2022-03-27T20:22:31.261156Z"
    },
    "papermill": {
     "duration": 0.114081,
     "end_time": "2022-03-27T20:22:31.261403",
     "exception": false,
     "start_time": "2022-03-27T20:22:31.147322",
     "status": "completed"
    },
    "tags": []
   },
   "outputs": [
    {
     "data": {
      "text/html": [
       "\n",
       "<style>\n",
       "    div#notebook-container    { width: 95%; }\n",
       "    div#menubar-container     { width: 65%; }\n",
       "    div#maintoolbar-container { width: 99%; }\n",
       "</style>ilter\n"
      ],
      "text/plain": [
       "<IPython.core.display.HTML object>"
      ]
     },
     "metadata": {},
     "output_type": "display_data"
    },
    {
     "data": {
      "text/html": [
       "<style>div.output_scroll { height: 200em; }</style>"
      ],
      "text/plain": [
       "<IPython.core.display.HTML object>"
      ]
     },
     "metadata": {},
     "output_type": "display_data"
    }
   ],
   "source": [
    "from IPython.display import display, HTML\n",
    "\n",
    "display(HTML(data=\"\"\"\n",
    "<style>\n",
    "    div#notebook-container    { width: 95%; }\n",
    "    div#menubar-container     { width: 65%; }\n",
    "    div#maintoolbar-container { width: 99%; }\n",
    "</style>ilter\n",
    "\"\"\"))\n",
    "display(HTML(\"<style>div.output_scroll { height: 200em; }</style>\"))\n"
   ]
  },
  {
   "cell_type": "code",
   "execution_count": 2,
   "id": "ddd7f353",
   "metadata": {
    "execution": {
     "iopub.execute_input": "2022-03-27T20:22:31.367882Z",
     "iopub.status.busy": "2022-03-27T20:22:31.367413Z",
     "iopub.status.idle": "2022-03-27T20:22:31.369174Z",
     "shell.execute_reply": "2022-03-27T20:22:31.368238Z"
    },
    "papermill": {
     "duration": 0.052682,
     "end_time": "2022-03-27T20:22:31.369264",
     "exception": false,
     "start_time": "2022-03-27T20:22:31.316582",
     "status": "completed"
    },
    "tags": []
   },
   "outputs": [
    {
     "data": {
      "text/plain": [
       "'/lustre/aoc/projects/hera/hgarsden'"
      ]
     },
     "execution_count": 2,
     "metadata": {},
     "output_type": "execute_result"
    }
   ],
   "source": [
    "pwd"
   ]
  },
  {
   "cell_type": "code",
   "execution_count": 3,
   "id": "a32059ec",
   "metadata": {
    "execution": {
     "iopub.execute_input": "2022-03-27T20:22:31.463732Z",
     "iopub.status.busy": "2022-03-27T20:22:31.463341Z",
     "iopub.status.idle": "2022-03-27T20:22:31.609815Z",
     "shell.execute_reply": "2022-03-27T20:22:31.608733Z"
    },
    "papermill": {
     "duration": 0.194754,
     "end_time": "2022-03-27T20:22:31.610004",
     "exception": false,
     "start_time": "2022-03-27T20:22:31.415250",
     "status": "completed"
    },
    "tags": []
   },
   "outputs": [
    {
     "name": "stdout",
     "output_type": "stream",
     "text": [
      "PaperPlots-IDR2_2_437335.ipynb\r\n",
      "PaperPlots-IDR2_2_437336.ipynb\r\n",
      "PaperPlots-IDR2_2_437495.ipynb\r\n",
      "PaperPlots-IDR2_2_437503.ipynb\r\n",
      "PaperPlots-IDR2_2_437626.ipynb\r\n",
      "PaperPlots-IDR2_2_437635.ipynb\r\n",
      "PaperPlots-IDR2_2_463719.ipynb\r\n",
      "PaperPlots-IDR2_2_463726.ipynb\r\n",
      "PaperPlots-IDR2_2_478159.ipynb\r\n",
      "PaperPlots-IDR2_2_518135.ipynb\r\n",
      "PaperPlots-IDR2_2_555380.ipynb\r\n",
      "PaperPlots-IDR2_2.ipynb\r\n",
      "PaperPlots-IDR2_2_orig.ipynb\r\n",
      "PaperPlots-IDR2_2_out.ipynb\r\n",
      "PaperPlots-IDR2_2_sim_to_match_orig.ipynb\r\n",
      "PaperPlots-null_test_for_histed_noise_dominated_bandpowers.ipynb\r\n",
      "PaperPlots-null_test_for_histed_noise_dominated_bandpowers_orig.ipynb\r\n",
      "PaperPlots-null_test_for_histed_noise_dominated_bandpowers_out.ipynb\r\n",
      "Untitled.ipynb\r\n",
      "view.ipynb\r\n"
     ]
    }
   ],
   "source": [
    "ls *ipynb"
   ]
  },
  {
   "cell_type": "code",
   "execution_count": 4,
   "id": "b8a88041",
   "metadata": {
    "execution": {
     "iopub.execute_input": "2022-03-27T20:22:31.729588Z",
     "iopub.status.busy": "2022-03-27T20:22:31.729095Z",
     "iopub.status.idle": "2022-03-27T20:22:31.730320Z",
     "shell.execute_reply": "2022-03-27T20:22:31.729970Z"
    },
    "papermill": {
     "duration": 0.056526,
     "end_time": "2022-03-27T20:22:31.730413",
     "exception": false,
     "start_time": "2022-03-27T20:22:31.673887",
     "status": "completed"
    },
    "tags": []
   },
   "outputs": [],
   "source": [
    "import sys\n",
    "sys.path.append(\"/users/hgarsden/.local/lib/python3.9/site-packages\")"
   ]
  },
  {
   "cell_type": "code",
   "execution_count": 5,
   "id": "7cc2c5eb",
   "metadata": {
    "execution": {
     "iopub.execute_input": "2022-03-27T20:22:31.830291Z",
     "iopub.status.busy": "2022-03-27T20:22:31.829505Z",
     "iopub.status.idle": "2022-03-27T20:22:38.263860Z",
     "shell.execute_reply": "2022-03-27T20:22:38.264562Z"
    },
    "papermill": {
     "duration": 6.490904,
     "end_time": "2022-03-27T20:22:38.264703",
     "exception": false,
     "start_time": "2022-03-27T20:22:31.773799",
     "status": "completed"
    },
    "scrolled": true,
    "tags": []
   },
   "outputs": [],
   "source": [
    "%matplotlib inline\n",
    "#%load_ext line_profiler\n",
    "import numpy as np\n",
    "import matplotlib\n",
    "import matplotlib.pyplot as plt\n",
    "import glob\n",
    "import hera_cal as hc\n",
    "import hera_pspec as hp\n",
    "from hera_pspec.data import DATA_PATH\n",
    "from pyuvdata import UVData, UVCal, UVFlag, utils as uvutils\n",
    "from scipy import stats, signal, interpolate\n",
    "import copy\n",
    "import matplotlib.gridspec as gridspec\n",
    "from astropy import constants\n",
    "import uvtools as uvt\n",
    "import cycler\n",
    "import itertools\n",
    "import os\n",
    "from collections import OrderedDict as odict"
   ]
  },
  {
   "cell_type": "code",
   "execution_count": 6,
   "id": "ad2e25af",
   "metadata": {
    "execution": {
     "iopub.execute_input": "2022-03-27T20:22:38.354719Z",
     "iopub.status.busy": "2022-03-27T20:22:38.354242Z",
     "iopub.status.idle": "2022-03-27T20:22:38.370359Z",
     "shell.execute_reply": "2022-03-27T20:22:38.370622Z"
    },
    "papermill": {
     "duration": 0.059982,
     "end_time": "2022-03-27T20:22:38.370733",
     "exception": false,
     "start_time": "2022-03-27T20:22:38.310751",
     "status": "completed"
    },
    "tags": []
   },
   "outputs": [],
   "source": [
    "from mpl_toolkits.axes_grid1.inset_locator import inset_axes"
   ]
  },
  {
   "cell_type": "code",
   "execution_count": 7,
   "id": "97f567ec",
   "metadata": {
    "execution": {
     "iopub.execute_input": "2022-03-27T20:22:38.450600Z",
     "iopub.status.busy": "2022-03-27T20:22:38.450169Z",
     "iopub.status.idle": "2022-03-27T20:22:38.451227Z",
     "shell.execute_reply": "2022-03-27T20:22:38.450926Z"
    },
    "papermill": {
     "duration": 0.042671,
     "end_time": "2022-03-27T20:22:38.451308",
     "exception": false,
     "start_time": "2022-03-27T20:22:38.408637",
     "status": "completed"
    },
    "tags": []
   },
   "outputs": [],
   "source": [
    "import matplotlib.ticker as ticker"
   ]
  },
  {
   "cell_type": "code",
   "execution_count": 8,
   "id": "2db9c1e6",
   "metadata": {
    "execution": {
     "iopub.execute_input": "2022-03-27T20:22:38.532328Z",
     "iopub.status.busy": "2022-03-27T20:22:38.531897Z",
     "iopub.status.idle": "2022-03-27T20:22:38.532952Z",
     "shell.execute_reply": "2022-03-27T20:22:38.532648Z"
    },
    "papermill": {
     "duration": 0.043319,
     "end_time": "2022-03-27T20:22:38.533032",
     "exception": false,
     "start_time": "2022-03-27T20:22:38.489713",
     "status": "completed"
    },
    "tags": []
   },
   "outputs": [],
   "source": [
    "def fmt(x, pos):\n",
    "    a, b = '{:.2e}'.format(x).split('e')\n",
    "    b = int(b)\n",
    "    return r'${} \\times 10^{{{}}}$'.format(a, b)"
   ]
  },
  {
   "cell_type": "code",
   "execution_count": 9,
   "id": "56b8c002",
   "metadata": {
    "execution": {
     "iopub.execute_input": "2022-03-27T20:22:38.613224Z",
     "iopub.status.busy": "2022-03-27T20:22:38.612793Z",
     "iopub.status.idle": "2022-03-27T20:22:38.613827Z",
     "shell.execute_reply": "2022-03-27T20:22:38.613537Z"
    },
    "papermill": {
     "duration": 0.04288,
     "end_time": "2022-03-27T20:22:38.613916",
     "exception": false,
     "start_time": "2022-03-27T20:22:38.571036",
     "status": "completed"
    },
    "tags": []
   },
   "outputs": [],
   "source": [
    "import matplotlib.font_manager\n",
    "\n",
    "sim_file = \"fringe_rate_filter/cleaned_sim_1000_256.uvh5\""
   ]
  },
  {
   "cell_type": "markdown",
   "id": "14b30009",
   "metadata": {
    "papermill": {
     "duration": 0.038191,
     "end_time": "2022-03-27T20:22:38.690602",
     "exception": false,
     "start_time": "2022-03-27T20:22:38.652411",
     "status": "completed"
    },
    "tags": []
   },
   "source": [
    "### noise error bar"
   ]
  },
  {
   "cell_type": "code",
   "execution_count": 10,
   "id": "9081333d",
   "metadata": {
    "execution": {
     "iopub.execute_input": "2022-03-27T20:22:38.770333Z",
     "iopub.status.busy": "2022-03-27T20:22:38.769982Z",
     "iopub.status.idle": "2022-03-27T20:22:38.783682Z",
     "shell.execute_reply": "2022-03-27T20:22:38.783385Z"
    },
    "papermill": {
     "duration": 0.054983,
     "end_time": "2022-03-27T20:22:38.783770",
     "exception": false,
     "start_time": "2022-03-27T20:22:38.728787",
     "status": "completed"
    },
    "tags": []
   },
   "outputs": [],
   "source": [
    "# LST binned, Inpainted & xtalk subtracted files\n",
    "root = \"/lustre/aoc/projects/hera/H1C_IDR2/IDR2_2_pspec/v2/one_group/data/\"\n",
    "dfiles = sorted(glob.glob(root + \"zen.grp1.of1.LST.1*.HH.OCRSLP2X.uvh5\"))\n",
    "dfiles[5] = sim_file"
   ]
  },
  {
   "cell_type": "code",
   "execution_count": 11,
   "id": "66f30fad",
   "metadata": {
    "execution": {
     "iopub.execute_input": "2022-03-27T20:22:38.866277Z",
     "iopub.status.busy": "2022-03-27T20:22:38.865795Z",
     "iopub.status.idle": "2022-03-27T20:22:40.548312Z",
     "shell.execute_reply": "2022-03-27T20:22:40.548887Z"
    },
    "papermill": {
     "duration": 1.726492,
     "end_time": "2022-03-27T20:22:40.549009",
     "exception": false,
     "start_time": "2022-03-27T20:22:38.822517",
     "status": "completed"
    },
    "tags": []
   },
   "outputs": [
    {
     "name": "stdout",
     "output_type": "stream",
     "text": [
      "fringe_rate_filter/cleaned_sim_1000_256.uvh5\n"
     ]
    },
    {
     "name": "stderr",
     "output_type": "stream",
     "text": [
      "Telescope hera_sim is not in known_telescopes.\n"
     ]
    }
   ],
   "source": [
    "uvd_ = UVData()\n",
    "print(dfiles[5])\n",
    "uvd_.read(dfiles[5], read_data=False)"
   ]
  },
  {
   "cell_type": "code",
   "execution_count": 12,
   "id": "203e5a6c",
   "metadata": {
    "execution": {
     "iopub.execute_input": "2022-03-27T20:22:40.647935Z",
     "iopub.status.busy": "2022-03-27T20:22:40.647571Z",
     "iopub.status.idle": "2022-03-27T20:22:40.659272Z",
     "shell.execute_reply": "2022-03-27T20:22:40.659800Z"
    },
    "papermill": {
     "duration": 0.070861,
     "end_time": "2022-03-27T20:22:40.659929",
     "exception": false,
     "start_time": "2022-03-27T20:22:40.589068",
     "status": "completed"
    },
    "tags": []
   },
   "outputs": [],
   "source": [
    "ntimes = 60      # Use this many\n",
    "times = np.unique(uvd_.time_array)\n",
    "time_range = (times[times.size//2-ntimes//2], times[times.size//2+ntimes//2-1])\n",
    "\n",
    "xants = [0,2,11,24,50,53,54,67,69,98,122,136,139]"
   ]
  },
  {
   "cell_type": "code",
   "execution_count": 13,
   "id": "9378a882",
   "metadata": {
    "execution": {
     "iopub.execute_input": "2022-03-27T20:22:40.758938Z",
     "iopub.status.busy": "2022-03-27T20:22:40.758568Z",
     "iopub.status.idle": "2022-03-27T20:22:40.794566Z",
     "shell.execute_reply": "2022-03-27T20:22:40.795138Z"
    },
    "papermill": {
     "duration": 0.096098,
     "end_time": "2022-03-27T20:22:40.795264",
     "exception": false,
     "start_time": "2022-03-27T20:22:40.699166",
     "status": "completed"
    },
    "tags": []
   },
   "outputs": [],
   "source": [
    "# short baseline group\n",
    "bl_len_range = (14, 15)\n",
    "bl_deg_range = (0, 1)\n",
    "reds, lens, angs = hp.utils.get_reds(uvd_, bl_len_range=bl_len_range, bl_deg_range=bl_deg_range, xants=xants)\n",
    "bls = hp.utils.flatten(reds)"
   ]
  },
  {
   "cell_type": "code",
   "execution_count": 14,
   "id": "c620bad5",
   "metadata": {
    "execution": {
     "iopub.execute_input": "2022-03-27T20:22:40.880322Z",
     "iopub.status.busy": "2022-03-27T20:22:40.879903Z",
     "iopub.status.idle": "2022-03-27T20:22:40.880928Z",
     "shell.execute_reply": "2022-03-27T20:22:40.880632Z"
    },
    "papermill": {
     "duration": 0.04381,
     "end_time": "2022-03-27T20:22:40.881006",
     "exception": false,
     "start_time": "2022-03-27T20:22:40.837196",
     "status": "completed"
    },
    "tags": []
   },
   "outputs": [],
   "source": [
    "#uvd_.get"
   ]
  },
  {
   "cell_type": "code",
   "execution_count": 15,
   "id": "616561b0",
   "metadata": {
    "execution": {
     "iopub.execute_input": "2022-03-27T20:22:40.979869Z",
     "iopub.status.busy": "2022-03-27T20:22:40.979486Z",
     "iopub.status.idle": "2022-03-27T20:24:24.880375Z",
     "shell.execute_reply": "2022-03-27T20:24:24.880972Z"
    },
    "papermill": {
     "duration": 103.961105,
     "end_time": "2022-03-27T20:24:24.881097",
     "exception": false,
     "start_time": "2022-03-27T20:22:40.919992",
     "status": "completed"
    },
    "tags": []
   },
   "outputs": [
    {
     "name": "stdout",
     "output_type": "stream",
     "text": [
      "fringe_rate_filter/cleaned_sim_1000_256.uvh5\n"
     ]
    }
   ],
   "source": [
    "print(dfiles[5])\n",
    "uvd_.read(dfiles[5], time_range=time_range, antenna_nums=np.array(bls).flatten(), polarizations=['xx','yy'])"
   ]
  },
  {
   "cell_type": "code",
   "execution_count": 16,
   "id": "9df24948",
   "metadata": {
    "execution": {
     "iopub.execute_input": "2022-03-27T20:24:24.965632Z",
     "iopub.status.busy": "2022-03-27T20:24:24.965199Z",
     "iopub.status.idle": "2022-03-27T20:24:25.307079Z",
     "shell.execute_reply": "2022-03-27T20:24:25.308055Z"
    },
    "papermill": {
     "duration": 0.386903,
     "end_time": "2022-03-27T20:24:25.308247",
     "exception": false,
     "start_time": "2022-03-27T20:24:24.921344",
     "status": "completed"
    },
    "tags": []
   },
   "outputs": [],
   "source": [
    "beam = hp.PSpecBeamUV(\"/lustre/aoc/projects/hera/nkern/beams/NF_HERA_IQ_power_beam_healpix128.fits\")"
   ]
  },
  {
   "cell_type": "code",
   "execution_count": 17,
   "id": "3062f49f",
   "metadata": {
    "execution": {
     "iopub.execute_input": "2022-03-27T20:24:25.449054Z",
     "iopub.status.busy": "2022-03-27T20:24:25.448633Z",
     "iopub.status.idle": "2022-03-27T20:24:25.875311Z",
     "shell.execute_reply": "2022-03-27T20:24:25.875895Z"
    },
    "papermill": {
     "duration": 0.501271,
     "end_time": "2022-03-27T20:24:25.876021",
     "exception": false,
     "start_time": "2022-03-27T20:24:25.374750",
     "status": "completed"
    },
    "tags": []
   },
   "outputs": [],
   "source": [
    "uvd = hp.pstokes.construct_pstokes(uvd_, uvd_, pstokes='pI')"
   ]
  },
  {
   "cell_type": "code",
   "execution_count": 18,
   "id": "408a3c5d",
   "metadata": {
    "execution": {
     "iopub.execute_input": "2022-03-27T20:24:25.976929Z",
     "iopub.status.busy": "2022-03-27T20:24:25.976559Z",
     "iopub.status.idle": "2022-03-27T20:50:59.901634Z",
     "shell.execute_reply": "2022-03-27T20:50:59.902092Z"
    },
    "papermill": {
     "duration": 1593.985755,
     "end_time": "2022-03-27T20:50:59.902253",
     "exception": false,
     "start_time": "2022-03-27T20:24:25.916498",
     "status": "completed"
    },
    "tags": []
   },
   "outputs": [
    {
     "name": "stdout",
     "output_type": "stream",
     "text": [
      "bl range for pI_shortbl (14, 15)\n",
      "Warning: LST bins in dsets misaligned by more than 15 seconds\n"
     ]
    },
    {
     "name": "stdout",
     "output_type": "stream",
     "text": [
      "Warning: LST bins in dsets misaligned by more than 15 seconds\n"
     ]
    },
    {
     "name": "stderr",
     "output_type": "stream",
     "text": [
      "Casting complex values to real discards the imaginary part\n"
     ]
    },
    {
     "name": "stdout",
     "output_type": "stream",
     "text": [
      "\n"
     ]
    }
   ],
   "source": [
    "# pspec at cross time, short baseline group\n",
    "print(\"bl range for pI_shortbl\", bl_len_range)\n",
    "\n",
    "hp.pspecdata.pspec_run([copy.deepcopy(uvd)], 'pspec_nulltest.h5', groupname='pI_shortbl', spw_ranges=[(0, 180)],\n",
    "                       dset_pairs=[(0,0)], pol_pairs=['pI'], input_data_weight='identity', norm='I',\n",
    "                       rephase_to_dset=True, interleave_times=True, Jy2mK=True, overwrite=True, verbose=False,\n",
    "                       bl_len_range=bl_len_range, bl_deg_range=bl_deg_range, beam=beam, taper='bh',\n",
    "                       broadcast_dset_flags=True, time_thresh=0.99, store_cov_diag=True, cov_model='autos', \n",
    "                       exclude_auto_bls=True, exclude_cross_bls=False, exclude_permutations=True)\n",
    "\n",
    "print()"
   ]
  },
  {
   "cell_type": "code",
   "execution_count": 19,
   "id": "0bbc7d97",
   "metadata": {
    "execution": {
     "iopub.execute_input": "2022-03-27T20:51:00.052783Z",
     "iopub.status.busy": "2022-03-27T20:51:00.052393Z",
     "iopub.status.idle": "2022-03-27T20:51:00.064721Z",
     "shell.execute_reply": "2022-03-27T20:51:00.065245Z"
    },
    "papermill": {
     "duration": 0.086201,
     "end_time": "2022-03-27T20:51:00.065362",
     "exception": false,
     "start_time": "2022-03-27T20:50:59.979161",
     "status": "completed"
    },
    "tags": []
   },
   "outputs": [],
   "source": [
    "# intermediate baseline group\n",
    "bl_len_range = (40, 45)\n",
    "bl_deg_range = (0, 1)\n",
    "reds, lens, angs = hp.utils.get_reds(uvd_, bl_len_range=bl_len_range, bl_deg_range=bl_deg_range, xants=xants)\n",
    "bls = hp.utils.flatten(reds)"
   ]
  },
  {
   "cell_type": "code",
   "execution_count": 20,
   "id": "67613173",
   "metadata": {
    "execution": {
     "iopub.execute_input": "2022-03-27T20:51:00.171821Z",
     "iopub.status.busy": "2022-03-27T20:51:00.171467Z",
     "iopub.status.idle": "2022-03-27T20:57:33.280023Z",
     "shell.execute_reply": "2022-03-27T20:57:33.280427Z"
    },
    "papermill": {
     "duration": 393.172151,
     "end_time": "2022-03-27T20:57:33.280578",
     "exception": false,
     "start_time": "2022-03-27T20:51:00.108427",
     "status": "completed"
    },
    "tags": []
   },
   "outputs": [
    {
     "name": "stdout",
     "output_type": "stream",
     "text": [
      "bls range for pI_medbl (40, 45)\n"
     ]
    },
    {
     "name": "stdout",
     "output_type": "stream",
     "text": [
      "Warning: LST bins in dsets misaligned by more than 15 seconds\n"
     ]
    },
    {
     "name": "stdout",
     "output_type": "stream",
     "text": [
      "Warning: LST bins in dsets misaligned by more than 15 seconds\n"
     ]
    },
    {
     "name": "stderr",
     "output_type": "stream",
     "text": [
      "Casting complex values to real discards the imaginary part\n"
     ]
    },
    {
     "name": "stdout",
     "output_type": "stream",
     "text": [
      "\n"
     ]
    }
   ],
   "source": [
    "# pspec at cross time, med baseline group\n",
    "print(\"bls range for pI_medbl\", bl_len_range)\n",
    "\n",
    "hp.pspecdata.pspec_run([copy.deepcopy(uvd)], 'pspec_nulltest.h5', groupname='pI_medbl', spw_ranges=[(0, 180)],\n",
    "                       dset_pairs=[(0,0)], pol_pairs=['pI'], input_data_weight='identity', norm='I',\n",
    "                       rephase_to_dset=True, interleave_times=True, Jy2mK=True, overwrite=True, verbose=False,\n",
    "                       bl_len_range=bl_len_range, bl_deg_range=bl_deg_range, beam=beam, taper='bh',\n",
    "                       broadcast_dset_flags=True, time_thresh=0.99, store_cov_diag=True, cov_model='autos', \n",
    "                       exclude_auto_bls=True, exclude_cross_bls=False, exclude_permutations=True)\n",
    "                       \n",
    "print()"
   ]
  },
  {
   "cell_type": "markdown",
   "id": "c487dd04",
   "metadata": {
    "papermill": {
     "duration": 0.04658,
     "end_time": "2022-03-27T20:57:33.381315",
     "exception": false,
     "start_time": "2022-03-27T20:57:33.334735",
     "status": "completed"
    },
    "tags": []
   },
   "source": [
    "### foreground_dependent error bar"
   ]
  },
  {
   "cell_type": "code",
   "execution_count": 21,
   "id": "bc1c0c72",
   "metadata": {
    "execution": {
     "iopub.execute_input": "2022-03-27T20:57:33.470816Z",
     "iopub.status.busy": "2022-03-27T20:57:33.469562Z",
     "iopub.status.idle": "2022-03-27T20:57:33.471443Z",
     "shell.execute_reply": "2022-03-27T20:57:33.471149Z"
    },
    "papermill": {
     "duration": 0.04828,
     "end_time": "2022-03-27T20:57:33.471524",
     "exception": false,
     "start_time": "2022-03-27T20:57:33.423244",
     "status": "completed"
    },
    "tags": []
   },
   "outputs": [],
   "source": [
    "# LST binned, Inpainted & xtalk subtracted files\n",
    "root = \"/lustre/aoc/projects/hera/H1C_IDR2/IDR2_2_pspec/v2/one_group/data/\"\n",
    "dfiles = sorted(glob.glob(root + \"zen.grp1.of1.LST.1*.HH.OCRSLP2X.uvh5\"))\n",
    "dfiles[5] = sim_file"
   ]
  },
  {
   "cell_type": "code",
   "execution_count": 22,
   "id": "26dbbb52",
   "metadata": {
    "execution": {
     "iopub.execute_input": "2022-03-27T20:57:33.560015Z",
     "iopub.status.busy": "2022-03-27T20:57:33.559564Z",
     "iopub.status.idle": "2022-03-27T20:57:33.561176Z",
     "shell.execute_reply": "2022-03-27T20:57:33.560337Z"
    },
    "papermill": {
     "duration": 0.048248,
     "end_time": "2022-03-27T20:57:33.561260",
     "exception": false,
     "start_time": "2022-03-27T20:57:33.513012",
     "status": "completed"
    },
    "tags": []
   },
   "outputs": [
    {
     "data": {
      "text/plain": [
       "'fringe_rate_filter/cleaned_sim_1000_256.uvh5'"
      ]
     },
     "execution_count": 22,
     "metadata": {},
     "output_type": "execute_result"
    }
   ],
   "source": [
    "dfiles[5]"
   ]
  },
  {
   "cell_type": "code",
   "execution_count": 23,
   "id": "d29efce3",
   "metadata": {
    "execution": {
     "iopub.execute_input": "2022-03-27T20:57:33.664986Z",
     "iopub.status.busy": "2022-03-27T20:57:33.664613Z",
     "iopub.status.idle": "2022-03-27T20:57:34.309089Z",
     "shell.execute_reply": "2022-03-27T20:57:34.309669Z"
    },
    "papermill": {
     "duration": 0.706793,
     "end_time": "2022-03-27T20:57:34.309799",
     "exception": false,
     "start_time": "2022-03-27T20:57:33.603006",
     "status": "completed"
    },
    "tags": []
   },
   "outputs": [
    {
     "name": "stdout",
     "output_type": "stream",
     "text": [
      "fringe_rate_filter/cleaned_sim_1000_256.uvh5\n"
     ]
    },
    {
     "name": "stderr",
     "output_type": "stream",
     "text": [
      "Telescope hera_sim is not in known_telescopes.\n"
     ]
    }
   ],
   "source": [
    "uvd_ = UVData()\n",
    "print(dfiles[5])\n",
    "uvd_.read(dfiles[5], read_data=False)"
   ]
  },
  {
   "cell_type": "code",
   "execution_count": 24,
   "id": "dfc3fe77",
   "metadata": {
    "execution": {
     "iopub.execute_input": "2022-03-27T20:57:34.398514Z",
     "iopub.status.busy": "2022-03-27T20:57:34.398091Z",
     "iopub.status.idle": "2022-03-27T20:57:34.399129Z",
     "shell.execute_reply": "2022-03-27T20:57:34.398828Z"
    },
    "papermill": {
     "duration": 0.046803,
     "end_time": "2022-03-27T20:57:34.399209",
     "exception": false,
     "start_time": "2022-03-27T20:57:34.352406",
     "status": "completed"
    },
    "tags": []
   },
   "outputs": [],
   "source": [
    "xants = [0,2,11,24,50,53,54,67,69,98,122,136,139]"
   ]
  },
  {
   "cell_type": "code",
   "execution_count": 25,
   "id": "16e9e7b1",
   "metadata": {
    "execution": {
     "iopub.execute_input": "2022-03-27T20:57:34.503944Z",
     "iopub.status.busy": "2022-03-27T20:57:34.503558Z",
     "iopub.status.idle": "2022-03-27T20:57:34.517417Z",
     "shell.execute_reply": "2022-03-27T20:57:34.517977Z"
    },
    "papermill": {
     "duration": 0.077237,
     "end_time": "2022-03-27T20:57:34.518098",
     "exception": false,
     "start_time": "2022-03-27T20:57:34.440861",
     "status": "completed"
    },
    "tags": []
   },
   "outputs": [],
   "source": [
    "# short baseline group\n",
    "bl_len_range = (14, 15)\n",
    "bl_deg_range = (0, 1)\n",
    "reds, lens, angs = hp.utils.get_reds(uvd_, bl_len_range=bl_len_range, bl_deg_range=bl_deg_range, xants=xants)\n",
    "bls = hp.utils.flatten(reds)"
   ]
  },
  {
   "cell_type": "code",
   "execution_count": 26,
   "id": "bf5c120b",
   "metadata": {
    "execution": {
     "iopub.execute_input": "2022-03-27T20:57:34.609111Z",
     "iopub.status.busy": "2022-03-27T20:57:34.608672Z",
     "iopub.status.idle": "2022-03-27T20:57:34.609718Z",
     "shell.execute_reply": "2022-03-27T20:57:34.609427Z"
    },
    "papermill": {
     "duration": 0.047031,
     "end_time": "2022-03-27T20:57:34.609798",
     "exception": false,
     "start_time": "2022-03-27T20:57:34.562767",
     "status": "completed"
    },
    "tags": []
   },
   "outputs": [],
   "source": [
    "refcal = '/lustre/aoc/projects/hera/H1C_IDR2/IDR2_2_pspec/v2/one_group/data/zen.grp1.of1.LST.1.50345.HH.OCRSLP2.allspws.refcal_smooth.calfits'"
   ]
  },
  {
   "cell_type": "code",
   "execution_count": 27,
   "id": "67d7f21c",
   "metadata": {
    "execution": {
     "iopub.execute_input": "2022-03-27T20:57:34.697503Z",
     "iopub.status.busy": "2022-03-27T20:57:34.697080Z",
     "iopub.status.idle": "2022-03-27T20:57:34.698114Z",
     "shell.execute_reply": "2022-03-27T20:57:34.697813Z"
    },
    "papermill": {
     "duration": 0.046542,
     "end_time": "2022-03-27T20:57:34.698195",
     "exception": false,
     "start_time": "2022-03-27T20:57:34.651653",
     "status": "completed"
    },
    "tags": []
   },
   "outputs": [],
   "source": [
    "# intermediate baseline group\n",
    "#bl_len_range = (40, 45)\n",
    "#bl_deg_range = (0, 1)\n",
    "#reds, lens, angs = hp.utils.get_reds(uvd_, bl_len_range=bl_len_range, bl_deg_range=bl_deg_range, xants=xants)\n",
    "#bls = hp.utils.flatten(reds)"
   ]
  },
  {
   "cell_type": "code",
   "execution_count": 28,
   "id": "4a4ec556",
   "metadata": {
    "execution": {
     "iopub.execute_input": "2022-03-27T20:57:34.803866Z",
     "iopub.status.busy": "2022-03-27T20:57:34.803485Z",
     "iopub.status.idle": "2022-03-27T20:59:12.573784Z",
     "shell.execute_reply": "2022-03-27T20:59:12.574397Z"
    },
    "papermill": {
     "duration": 97.834239,
     "end_time": "2022-03-27T20:59:12.574523",
     "exception": false,
     "start_time": "2022-03-27T20:57:34.740284",
     "status": "completed"
    },
    "tags": []
   },
   "outputs": [
    {
     "name": "stdout",
     "output_type": "stream",
     "text": [
      "fringe_rate_filter/cleaned_sim_1000_256.uvh5\n"
     ]
    }
   ],
   "source": [
    "print(dfiles[5])\n",
    "uvd_.read(dfiles[5], time_range=time_range, antenna_nums=np.array(bls).flatten(), polarizations=['xx','yy'])"
   ]
  },
  {
   "cell_type": "markdown",
   "id": "beeb3ce4",
   "metadata": {
    "papermill": {
     "duration": 0.042565,
     "end_time": "2022-03-27T20:59:12.660432",
     "exception": false,
     "start_time": "2022-03-27T20:59:12.617867",
     "status": "completed"
    },
    "tags": []
   },
   "source": [
    "### some parameters"
   ]
  },
  {
   "cell_type": "code",
   "execution_count": 29,
   "id": "0e6a3c4e",
   "metadata": {
    "execution": {
     "iopub.execute_input": "2022-03-27T20:59:12.751008Z",
     "iopub.status.busy": "2022-03-27T20:59:12.750523Z",
     "iopub.status.idle": "2022-03-27T20:59:12.752200Z",
     "shell.execute_reply": "2022-03-27T20:59:12.751350Z"
    },
    "papermill": {
     "duration": 0.04977,
     "end_time": "2022-03-27T20:59:12.752289",
     "exception": false,
     "start_time": "2022-03-27T20:59:12.702519",
     "status": "completed"
    },
    "tags": []
   },
   "outputs": [
    {
     "name": "stdout",
     "output_type": "stream",
     "text": [
      "21.48000037266036\n"
     ]
    }
   ],
   "source": [
    "print(np.mean(np.diff(np.unique(uvd_.time_array)))*24*3600)"
   ]
  },
  {
   "cell_type": "code",
   "execution_count": 30,
   "id": "1ad565d8",
   "metadata": {
    "execution": {
     "iopub.execute_input": "2022-03-27T20:59:12.847353Z",
     "iopub.status.busy": "2022-03-27T20:59:12.846890Z",
     "iopub.status.idle": "2022-03-27T20:59:12.848520Z",
     "shell.execute_reply": "2022-03-27T20:59:12.847691Z"
    },
    "papermill": {
     "duration": 0.049982,
     "end_time": "2022-03-27T20:59:12.848606",
     "exception": false,
     "start_time": "2022-03-27T20:59:12.798624",
     "status": "completed"
    },
    "tags": []
   },
   "outputs": [
    {
     "name": "stdout",
     "output_type": "stream",
     "text": [
      "21.538810908041622\n"
     ]
    }
   ],
   "source": [
    "print(np.mean(np.diff(np.unique(uvd_.lst_array)))*24*3600/2/np.pi)"
   ]
  },
  {
   "cell_type": "code",
   "execution_count": 31,
   "id": "b4657ffc",
   "metadata": {
    "execution": {
     "iopub.execute_input": "2022-03-27T20:59:12.945290Z",
     "iopub.status.busy": "2022-03-27T20:59:12.944820Z",
     "iopub.status.idle": "2022-03-27T20:59:12.946558Z",
     "shell.execute_reply": "2022-03-27T20:59:12.945622Z"
    },
    "papermill": {
     "duration": 0.052149,
     "end_time": "2022-03-27T20:59:12.946650",
     "exception": false,
     "start_time": "2022-03-27T20:59:12.894501",
     "status": "completed"
    },
    "tags": []
   },
   "outputs": [
    {
     "data": {
      "text/plain": [
       "(8.55777389548382, 8.9107710742545)"
      ]
     },
     "execution_count": 31,
     "metadata": {},
     "output_type": "execute_result"
    }
   ],
   "source": [
    "np.unique(uvd_.lst_array)[0]/2/np.pi*24, np.unique(uvd_.lst_array)[-1]/2/np.pi*24"
   ]
  },
  {
   "cell_type": "code",
   "execution_count": 32,
   "id": "9a56f142",
   "metadata": {
    "execution": {
     "iopub.execute_input": "2022-03-27T20:59:13.040368Z",
     "iopub.status.busy": "2022-03-27T20:59:13.039943Z",
     "iopub.status.idle": "2022-03-27T20:59:13.041505Z",
     "shell.execute_reply": "2022-03-27T20:59:13.040681Z"
    },
    "papermill": {
     "duration": 0.049312,
     "end_time": "2022-03-27T20:59:13.041588",
     "exception": false,
     "start_time": "2022-03-27T20:59:12.992276",
     "status": "completed"
    },
    "tags": []
   },
   "outputs": [
    {
     "data": {
      "text/plain": [
       "60"
      ]
     },
     "execution_count": 32,
     "metadata": {},
     "output_type": "execute_result"
    }
   ],
   "source": [
    "uvd_.Ntimes"
   ]
  },
  {
   "cell_type": "code",
   "execution_count": 33,
   "id": "69b92456",
   "metadata": {
    "execution": {
     "iopub.execute_input": "2022-03-27T20:59:13.132452Z",
     "iopub.status.busy": "2022-03-27T20:59:13.132006Z",
     "iopub.status.idle": "2022-03-27T20:59:13.133689Z",
     "shell.execute_reply": "2022-03-27T20:59:13.132780Z"
    },
    "papermill": {
     "duration": 0.049601,
     "end_time": "2022-03-27T20:59:13.133776",
     "exception": false,
     "start_time": "2022-03-27T20:59:13.084175",
     "status": "completed"
    },
    "tags": []
   },
   "outputs": [
    {
     "data": {
      "text/plain": [
       "array([21.4799881, 21.4799881, 21.4799881, ..., 21.4799881, 21.4799881,\n",
       "       21.4799881])"
      ]
     },
     "execution_count": 33,
     "metadata": {},
     "output_type": "execute_result"
    }
   ],
   "source": [
    "uvd_.integration_time"
   ]
  },
  {
   "cell_type": "code",
   "execution_count": 34,
   "id": "83fc8f76",
   "metadata": {
    "execution": {
     "iopub.execute_input": "2022-03-27T20:59:13.230891Z",
     "iopub.status.busy": "2022-03-27T20:59:13.230451Z",
     "iopub.status.idle": "2022-03-27T20:59:13.232050Z",
     "shell.execute_reply": "2022-03-27T20:59:13.231206Z"
    },
    "papermill": {
     "duration": 0.052528,
     "end_time": "2022-03-27T20:59:13.232134",
     "exception": false,
     "start_time": "2022-03-27T20:59:13.179606",
     "status": "completed"
    },
    "tags": []
   },
   "outputs": [
    {
     "data": {
      "text/plain": [
       "(21.47998809814453,)"
      ]
     },
     "execution_count": 34,
     "metadata": {},
     "output_type": "execute_result"
    }
   ],
   "source": [
    "np.mean(uvd_.integration_time), "
   ]
  },
  {
   "cell_type": "code",
   "execution_count": 35,
   "id": "b37c539b",
   "metadata": {
    "execution": {
     "iopub.execute_input": "2022-03-27T20:59:13.323279Z",
     "iopub.status.busy": "2022-03-27T20:59:13.322834Z",
     "iopub.status.idle": "2022-03-27T20:59:13.915923Z",
     "shell.execute_reply": "2022-03-27T20:59:13.916517Z"
    },
    "papermill": {
     "duration": 0.641226,
     "end_time": "2022-03-27T20:59:13.916645",
     "exception": false,
     "start_time": "2022-03-27T20:59:13.275419",
     "status": "completed"
    },
    "tags": []
   },
   "outputs": [
    {
     "name": "stderr",
     "output_type": "stream",
     "text": [
      "telescope_location is not set. Using known values for HERA.\n",
      "antenna_positions is not set. Using known values for HERA.\n"
     ]
    }
   ],
   "source": [
    "uvcal_ref = UVCal()\n",
    "uvcal_ref.read_calfits(refcal)"
   ]
  },
  {
   "cell_type": "code",
   "execution_count": 36,
   "id": "2e33ef01",
   "metadata": {
    "execution": {
     "iopub.execute_input": "2022-03-27T20:59:14.009355Z",
     "iopub.status.busy": "2022-03-27T20:59:14.008941Z",
     "iopub.status.idle": "2022-03-27T20:59:14.009964Z",
     "shell.execute_reply": "2022-03-27T20:59:14.009665Z"
    },
    "papermill": {
     "duration": 0.048636,
     "end_time": "2022-03-27T20:59:14.010047",
     "exception": false,
     "start_time": "2022-03-27T20:59:13.961411",
     "status": "completed"
    },
    "tags": []
   },
   "outputs": [],
   "source": [
    "uvd_PXC_ = uvd_ #uvutils.uvcalibrate(uvd_, uvcal_ref, inplace=False, prop_flags=True, flag_missing=False)"
   ]
  },
  {
   "cell_type": "code",
   "execution_count": 37,
   "id": "7e9ece7c",
   "metadata": {
    "execution": {
     "iopub.execute_input": "2022-03-27T20:59:14.118895Z",
     "iopub.status.busy": "2022-03-27T20:59:14.118530Z",
     "iopub.status.idle": "2022-03-27T20:59:14.571245Z",
     "shell.execute_reply": "2022-03-27T20:59:14.571811Z"
    },
    "papermill": {
     "duration": 0.517874,
     "end_time": "2022-03-27T20:59:14.571947",
     "exception": false,
     "start_time": "2022-03-27T20:59:14.054073",
     "status": "completed"
    },
    "tags": []
   },
   "outputs": [],
   "source": [
    "uvd_PXC =hp.pstokes.construct_pstokes(uvd_PXC_, uvd_PXC_, pstokes='pI')"
   ]
  },
  {
   "cell_type": "code",
   "execution_count": 38,
   "id": "5cffb257",
   "metadata": {
    "execution": {
     "iopub.execute_input": "2022-03-27T20:59:14.680910Z",
     "iopub.status.busy": "2022-03-27T20:59:14.680545Z",
     "iopub.status.idle": "2022-03-27T20:59:15.124018Z",
     "shell.execute_reply": "2022-03-27T20:59:15.124607Z"
    },
    "papermill": {
     "duration": 0.508012,
     "end_time": "2022-03-27T20:59:15.124730",
     "exception": false,
     "start_time": "2022-03-27T20:59:14.616718",
     "status": "completed"
    },
    "tags": []
   },
   "outputs": [],
   "source": [
    "uvd = hp.pstokes.construct_pstokes(uvd_, uvd_, pstokes='pI')"
   ]
  },
  {
   "cell_type": "code",
   "execution_count": 39,
   "id": "82c857ea",
   "metadata": {
    "execution": {
     "iopub.execute_input": "2022-03-27T20:59:15.233975Z",
     "iopub.status.busy": "2022-03-27T20:59:15.233608Z",
     "iopub.status.idle": "2022-03-27T20:59:15.235771Z",
     "shell.execute_reply": "2022-03-27T20:59:15.236262Z"
    },
    "papermill": {
     "duration": 0.063138,
     "end_time": "2022-03-27T20:59:15.236373",
     "exception": false,
     "start_time": "2022-03-27T20:59:15.173235",
     "status": "completed"
    },
    "tags": []
   },
   "outputs": [],
   "source": [
    "beam = hp.PSpecBeamUV(\"/lustre/aoc/projects/hera/nkern/beams/NF_HERA_IQ_power_beam_healpix128.fits\")"
   ]
  },
  {
   "cell_type": "markdown",
   "id": "cf62b319",
   "metadata": {
    "papermill": {
     "duration": 0.044144,
     "end_time": "2022-03-27T20:59:15.324826",
     "exception": false,
     "start_time": "2022-03-27T20:59:15.280682",
     "status": "completed"
    },
    "tags": []
   },
   "source": [
    "get the differenced visibility"
   ]
  },
  {
   "cell_type": "code",
   "execution_count": 40,
   "id": "381b9ff5",
   "metadata": {
    "execution": {
     "iopub.execute_input": "2022-03-27T20:59:15.433918Z",
     "iopub.status.busy": "2022-03-27T20:59:15.433551Z",
     "iopub.status.idle": "2022-03-27T20:59:15.687066Z",
     "shell.execute_reply": "2022-03-27T20:59:15.687637Z"
    },
    "papermill": {
     "duration": 0.319009,
     "end_time": "2022-03-27T20:59:15.687761",
     "exception": false,
     "start_time": "2022-03-27T20:59:15.368752",
     "status": "completed"
    },
    "tags": []
   },
   "outputs": [],
   "source": [
    "uvd1 = uvd.select(times=np.unique(uvd.time_array)[0:-1:2],inplace=False)\n",
    "uvd2 = uvd.select(times=np.unique(uvd.time_array)[1::2],inplace=False)\n",
    "uvd_td = copy.deepcopy(uvd1)\n",
    "uvd_td.data_array = (uvd2.data_array - uvd1.data_array)/np.sqrt(2)"
   ]
  },
  {
   "cell_type": "code",
   "execution_count": 41,
   "id": "affd1441",
   "metadata": {
    "execution": {
     "iopub.execute_input": "2022-03-27T20:59:15.797904Z",
     "iopub.status.busy": "2022-03-27T20:59:15.797532Z",
     "iopub.status.idle": "2022-03-27T20:59:51.283336Z",
     "shell.execute_reply": "2022-03-27T20:59:51.283784Z"
    },
    "papermill": {
     "duration": 35.551485,
     "end_time": "2022-03-27T20:59:51.283956",
     "exception": false,
     "start_time": "2022-03-27T20:59:15.732471",
     "status": "completed"
    },
    "tags": []
   },
   "outputs": [
    {
     "name": "stderr",
     "output_type": "stream",
     "text": [
      "Casting complex values to real discards the imaginary part\n"
     ]
    },
    {
     "data": {
      "text/plain": [
       "<hera_pspec.pspecdata.PSpecData at 0x7f761491a940>"
      ]
     },
     "execution_count": 41,
     "metadata": {},
     "output_type": "execute_result"
    }
   ],
   "source": [
    "# pspec at cross time\n",
    "hp.pspecdata.pspec_run([copy.deepcopy(uvd_td)], 'pspec_crosstime.h5', groupname='pI_shortbl_timediff', spw_ranges=[(0, 180)],\n",
    "                       dset_pairs=[(0,0)], pol_pairs=['pI'], input_data_weight='identity', norm='I',\n",
    "                       rephase_to_dset=False, interleave_times=False, Jy2mK=True, overwrite=True, verbose=False,\n",
    "                       bl_len_range=bl_len_range, bl_deg_range=bl_deg_range, beam=beam, taper='bh',\n",
    "                       broadcast_dset_flags=True, time_thresh=0.99, exclude_auto_bls=True, exclude_cross_bls=False, exclude_permutations=True)"
   ]
  },
  {
   "cell_type": "code",
   "execution_count": 42,
   "id": "263abc9a",
   "metadata": {
    "execution": {
     "iopub.execute_input": "2022-03-27T20:59:51.422976Z",
     "iopub.status.busy": "2022-03-27T20:59:51.422592Z",
     "iopub.status.idle": "2022-03-27T21:35:47.550111Z",
     "shell.execute_reply": "2022-03-27T21:35:47.550429Z"
    },
    "papermill": {
     "duration": 2156.202014,
     "end_time": "2022-03-27T21:35:47.550553",
     "exception": false,
     "start_time": "2022-03-27T20:59:51.348539",
     "status": "completed"
    },
    "scrolled": true,
    "tags": []
   },
   "outputs": [
    {
     "name": "stdout",
     "output_type": "stream",
     "text": [
      "Warning: LST bins in dsets misaligned by more than 15 seconds\n"
     ]
    },
    {
     "name": "stdout",
     "output_type": "stream",
     "text": [
      "Warning: LST bins in dsets misaligned by more than 15 seconds\n"
     ]
    },
    {
     "name": "stderr",
     "output_type": "stream",
     "text": [
      "Casting complex values to real discards the imaginary part\n"
     ]
    },
    {
     "data": {
      "text/plain": [
       "<hera_pspec.pspecdata.PSpecData at 0x7f761492f1f0>"
      ]
     },
     "execution_count": 42,
     "metadata": {},
     "output_type": "execute_result"
    }
   ],
   "source": [
    "# pspec at cross time\n",
    "hp.pspecdata.pspec_run([copy.deepcopy(uvd)], 'pspec_crosstime.h5', groupname='pI_shortbl', spw_ranges=[(0, 180)],\n",
    "                       dset_pairs=[(0,0)], pol_pairs=['pI'], input_data_weight='identity', norm='I',\n",
    "                       rephase_to_dset=True, interleave_times=True, Jy2mK=True, overwrite=True, verbose=False,\n",
    "                       bl_len_range=bl_len_range, bl_deg_range=bl_deg_range, beam=beam, taper='bh',\n",
    "                       broadcast_dset_flags=True, time_thresh=0.99, store_cov_diag=True, cov_model='foreground_dependent', \n",
    "                       exclude_auto_bls=True, exclude_cross_bls=False, exclude_permutations=True)"
   ]
  },
  {
   "cell_type": "code",
   "execution_count": 43,
   "id": "7dc2f5d2",
   "metadata": {
    "execution": {
     "iopub.execute_input": "2022-03-27T21:35:47.702427Z",
     "iopub.status.busy": "2022-03-27T21:35:47.701928Z",
     "iopub.status.idle": "2022-03-27T21:35:48.517710Z",
     "shell.execute_reply": "2022-03-27T21:35:48.518275Z"
    },
    "papermill": {
     "duration": 0.909064,
     "end_time": "2022-03-27T21:35:48.518400",
     "exception": false,
     "start_time": "2022-03-27T21:35:47.609336",
     "status": "completed"
    },
    "tags": []
   },
   "outputs": [],
   "source": [
    "psc = hp.PSpecContainer('pspec_crosstime.h5', mode='rw', keep_open=True)\n",
    "uvp_cov_fg = psc.get_pspec('pI_shortbl', 'dset0_x_dset1')"
   ]
  },
  {
   "cell_type": "code",
   "execution_count": 44,
   "id": "adbfd6f7",
   "metadata": {
    "execution": {
     "iopub.execute_input": "2022-03-27T21:35:48.629866Z",
     "iopub.status.busy": "2022-03-27T21:35:48.629508Z",
     "iopub.status.idle": "2022-03-27T21:35:49.940409Z",
     "shell.execute_reply": "2022-03-27T21:35:49.941015Z"
    },
    "papermill": {
     "duration": 1.377031,
     "end_time": "2022-03-27T21:35:49.941146",
     "exception": false,
     "start_time": "2022-03-27T21:35:48.564115",
     "status": "completed"
    },
    "tags": []
   },
   "outputs": [],
   "source": [
    "auto_Tsys = hp.utils.uvd_to_Tsys(uvd, beam)\n",
    "hp.utils.uvp_noise_error(uvp_cov_fg, auto_Tsys, err_type=['P_N','P_SN'])"
   ]
  },
  {
   "cell_type": "code",
   "execution_count": 45,
   "id": "e089f4f3",
   "metadata": {
    "execution": {
     "iopub.execute_input": "2022-03-27T21:35:50.329602Z",
     "iopub.status.busy": "2022-03-27T21:35:50.329113Z",
     "iopub.status.idle": "2022-03-27T21:35:52.256896Z",
     "shell.execute_reply": "2022-03-27T21:35:52.257501Z"
    },
    "papermill": {
     "duration": 2.029019,
     "end_time": "2022-03-27T21:35:52.257656",
     "exception": false,
     "start_time": "2022-03-27T21:35:50.228637",
     "status": "completed"
    },
    "tags": []
   },
   "outputs": [],
   "source": [
    "psc.set_pspec('pI_shortbl', 'dset0_x_dset1', uvp_cov_fg, overwrite=True)"
   ]
  },
  {
   "cell_type": "markdown",
   "id": "115015a4",
   "metadata": {
    "papermill": {
     "duration": 0.045074,
     "end_time": "2022-03-27T21:35:52.350206",
     "exception": false,
     "start_time": "2022-03-27T21:35:52.305132",
     "status": "completed"
    },
    "tags": []
   },
   "source": [
    "## load power spectra"
   ]
  },
  {
   "cell_type": "code",
   "execution_count": 46,
   "id": "c52d4ae6",
   "metadata": {
    "execution": {
     "iopub.execute_input": "2022-03-27T21:35:52.445187Z",
     "iopub.status.busy": "2022-03-27T21:35:52.444123Z",
     "iopub.status.idle": "2022-03-27T21:35:54.319104Z",
     "shell.execute_reply": "2022-03-27T21:35:54.319736Z"
    },
    "papermill": {
     "duration": 1.924426,
     "end_time": "2022-03-27T21:35:54.319878",
     "exception": false,
     "start_time": "2022-03-27T21:35:52.395452",
     "status": "completed"
    },
    "tags": []
   },
   "outputs": [],
   "source": [
    "psc = hp.PSpecContainer('pspec_crosstime.h5', keep_open=False)\n",
    "uvp_cov_fg = psc.get_pspec('pI_shortbl', 'dset0_x_dset1')\n",
    "uvp_td = psc.get_pspec('pI_shortbl_timediff', 'dset0_x_dset0')"
   ]
  },
  {
   "cell_type": "code",
   "execution_count": 47,
   "id": "75b59d81",
   "metadata": {
    "execution": {
     "iopub.execute_input": "2022-03-27T21:35:54.428128Z",
     "iopub.status.busy": "2022-03-27T21:35:54.427754Z",
     "iopub.status.idle": "2022-03-27T21:35:55.712495Z",
     "shell.execute_reply": "2022-03-27T21:35:55.713107Z"
    },
    "papermill": {
     "duration": 1.343177,
     "end_time": "2022-03-27T21:35:55.713237",
     "exception": false,
     "start_time": "2022-03-27T21:35:54.370060",
     "status": "completed"
    },
    "tags": []
   },
   "outputs": [],
   "source": [
    "psc_ = hp.PSpecContainer('pspec_nulltest.h5', keep_open=False)\n",
    "uvp_cov_n = psc_.get_pspec('pI_shortbl', 'dset0_x_dset1')"
   ]
  },
  {
   "cell_type": "code",
   "execution_count": 48,
   "id": "16ce815f",
   "metadata": {
    "execution": {
     "iopub.execute_input": "2022-03-27T21:35:55.813500Z",
     "iopub.status.busy": "2022-03-27T21:35:55.813067Z",
     "iopub.status.idle": "2022-03-27T21:35:55.814126Z",
     "shell.execute_reply": "2022-03-27T21:35:55.813821Z"
    },
    "papermill": {
     "duration": 0.051201,
     "end_time": "2022-03-27T21:35:55.814203",
     "exception": false,
     "start_time": "2022-03-27T21:35:55.763002",
     "status": "completed"
    },
    "tags": []
   },
   "outputs": [],
   "source": [
    "delay_resolution = 1 / (uvp_cov_fg.freq_array[-1]-uvp_cov_fg.freq_array[0])*1e9"
   ]
  },
  {
   "cell_type": "markdown",
   "id": "4a7d75dc",
   "metadata": {
    "papermill": {
     "duration": 0.045359,
     "end_time": "2022-03-27T21:35:55.904718",
     "exception": false,
     "start_time": "2022-03-27T21:35:55.859359",
     "status": "completed"
    },
    "tags": []
   },
   "source": [
    "#### other systematics"
   ]
  },
  {
   "cell_type": "markdown",
   "id": "4d095562",
   "metadata": {
    "papermill": {
     "duration": 0.045091,
     "end_time": "2022-03-27T21:35:55.995379",
     "exception": false,
     "start_time": "2022-03-27T21:35:55.950288",
     "status": "completed"
    },
    "tags": []
   },
   "source": [
    "PXC"
   ]
  },
  {
   "cell_type": "code",
   "execution_count": 49,
   "id": "7191388e",
   "metadata": {
    "execution": {
     "iopub.execute_input": "2022-03-27T21:35:56.106897Z",
     "iopub.status.busy": "2022-03-27T21:35:56.106524Z",
     "iopub.status.idle": "2022-03-27T22:11:53.490318Z",
     "shell.execute_reply": "2022-03-27T22:11:53.490609Z"
    },
    "papermill": {
     "duration": 2157.450284,
     "end_time": "2022-03-27T22:11:53.490727",
     "exception": false,
     "start_time": "2022-03-27T21:35:56.040443",
     "status": "completed"
    },
    "tags": []
   },
   "outputs": [
    {
     "name": "stdout",
     "output_type": "stream",
     "text": [
      "Warning: LST bins in dsets misaligned by more than 15 seconds\n"
     ]
    },
    {
     "name": "stdout",
     "output_type": "stream",
     "text": [
      "Warning: LST bins in dsets misaligned by more than 15 seconds\n"
     ]
    },
    {
     "name": "stderr",
     "output_type": "stream",
     "text": [
      "Casting complex values to real discards the imaginary part\n"
     ]
    },
    {
     "data": {
      "text/plain": [
       "<hera_pspec.pspecdata.PSpecData at 0x7f761497e3d0>"
      ]
     },
     "execution_count": 49,
     "metadata": {},
     "output_type": "execute_result"
    }
   ],
   "source": [
    "# pspec at cross time\n",
    "hp.pspecdata.pspec_run([copy.deepcopy(uvd_PXC)], 'pspec_systematics.h5', groupname='pI_shortbl_fg_PXC', spw_ranges=[(0, 180)],\n",
    "                       dset_pairs=[(0,0)], pol_pairs=['pI'], input_data_weight='identity', norm='I',\n",
    "                       rephase_to_dset=True, interleave_times=True, Jy2mK=True, overwrite=True, verbose=False,\n",
    "                       bl_len_range=bl_len_range, bl_deg_range=bl_deg_range, beam=beam, taper='bh',\n",
    "                       broadcast_dset_flags=True, time_thresh=0.99, store_cov_diag=True, cov_model='foreground_dependent', \n",
    "                       exclude_auto_bls=True, exclude_cross_bls=False, exclude_permutations=True)"
   ]
  },
  {
   "cell_type": "code",
   "execution_count": 50,
   "id": "e399cb57",
   "metadata": {
    "execution": {
     "iopub.execute_input": "2022-03-27T22:11:53.616818Z",
     "iopub.status.busy": "2022-03-27T22:11:53.616422Z",
     "iopub.status.idle": "2022-03-27T22:38:19.615756Z",
     "shell.execute_reply": "2022-03-27T22:38:19.616068Z"
    },
    "papermill": {
     "duration": 1586.078731,
     "end_time": "2022-03-27T22:38:19.616187",
     "exception": false,
     "start_time": "2022-03-27T22:11:53.537456",
     "status": "completed"
    },
    "tags": []
   },
   "outputs": [
    {
     "name": "stdout",
     "output_type": "stream",
     "text": [
      "Warning: LST bins in dsets misaligned by more than 15 seconds\n"
     ]
    },
    {
     "name": "stdout",
     "output_type": "stream",
     "text": [
      "Warning: LST bins in dsets misaligned by more than 15 seconds\n"
     ]
    },
    {
     "name": "stderr",
     "output_type": "stream",
     "text": [
      "Casting complex values to real discards the imaginary part\n"
     ]
    },
    {
     "data": {
      "text/plain": [
       "<hera_pspec.pspecdata.PSpecData at 0x7f7614c07d90>"
      ]
     },
     "execution_count": 50,
     "metadata": {},
     "output_type": "execute_result"
    }
   ],
   "source": [
    "# pspec at cross time\n",
    "hp.pspecdata.pspec_run([copy.deepcopy(uvd_PXC)], 'pspec_systematics.h5', groupname='pI_shortbl_noise_PXC', spw_ranges=[(0, 180)],\n",
    "                       dset_pairs=[(0,0)], pol_pairs=['pI'], input_data_weight='identity', norm='I',\n",
    "                       rephase_to_dset=True, interleave_times=True, Jy2mK=True, overwrite=True, verbose=False,\n",
    "                       bl_len_range=bl_len_range, bl_deg_range=bl_deg_range, beam=beam, taper='bh',\n",
    "                       broadcast_dset_flags=True, time_thresh=0.99, store_cov_diag=True, cov_model='autos', \n",
    "                       exclude_auto_bls=True, exclude_cross_bls=False, exclude_permutations=True)"
   ]
  },
  {
   "cell_type": "markdown",
   "id": "984dc2d8",
   "metadata": {
    "papermill": {
     "duration": 0.081901,
     "end_time": "2022-03-27T22:38:19.785340",
     "exception": false,
     "start_time": "2022-03-27T22:38:19.703439",
     "status": "completed"
    },
    "tags": []
   },
   "source": [
    "P and PC"
   ]
  },
  {
   "cell_type": "code",
   "execution_count": 51,
   "id": "7481ef38",
   "metadata": {
    "execution": {
     "iopub.execute_input": "2022-03-27T22:38:19.904819Z",
     "iopub.status.busy": "2022-03-27T22:38:19.904466Z",
     "iopub.status.idle": "2022-03-27T22:38:19.929491Z",
     "shell.execute_reply": "2022-03-27T22:38:19.929179Z"
    },
    "papermill": {
     "duration": 0.0815,
     "end_time": "2022-03-27T22:38:19.929586",
     "exception": false,
     "start_time": "2022-03-27T22:38:19.848086",
     "status": "completed"
    },
    "tags": []
   },
   "outputs": [],
   "source": [
    "# LST binned, Inpainted files\n",
    "root = \"/lustre/aoc/projects/hera/H1C_IDR2/IDR2_2_pspec/v2/one_group/data/\"\n",
    "dfiles = sorted(glob.glob(root + \"zen.grp1.of1.LST.1*.HH.OCRSLP2.uvh5\"))\n",
    "dfiles[5] = sim_file"
   ]
  },
  {
   "cell_type": "code",
   "execution_count": 52,
   "id": "a8b49ac8",
   "metadata": {
    "execution": {
     "iopub.execute_input": "2022-03-27T22:38:20.029360Z",
     "iopub.status.busy": "2022-03-27T22:38:20.028934Z",
     "iopub.status.idle": "2022-03-27T22:38:20.030507Z",
     "shell.execute_reply": "2022-03-27T22:38:20.029672Z"
    },
    "papermill": {
     "duration": 0.053388,
     "end_time": "2022-03-27T22:38:20.030589",
     "exception": false,
     "start_time": "2022-03-27T22:38:19.977201",
     "status": "completed"
    },
    "tags": []
   },
   "outputs": [
    {
     "data": {
      "text/plain": [
       "'fringe_rate_filter/cleaned_sim_1000_256.uvh5'"
      ]
     },
     "execution_count": 52,
     "metadata": {},
     "output_type": "execute_result"
    }
   ],
   "source": [
    "dfiles[5]"
   ]
  },
  {
   "cell_type": "code",
   "execution_count": 53,
   "id": "eb90f66f",
   "metadata": {
    "execution": {
     "iopub.execute_input": "2022-03-27T22:38:20.129428Z",
     "iopub.status.busy": "2022-03-27T22:38:20.129074Z",
     "iopub.status.idle": "2022-03-27T22:38:21.335202Z",
     "shell.execute_reply": "2022-03-27T22:38:21.335775Z"
    },
    "papermill": {
     "duration": 1.257798,
     "end_time": "2022-03-27T22:38:21.335908",
     "exception": false,
     "start_time": "2022-03-27T22:38:20.078110",
     "status": "completed"
    },
    "tags": []
   },
   "outputs": [
    {
     "name": "stdout",
     "output_type": "stream",
     "text": [
      "fringe_rate_filter/cleaned_sim_1000_256.uvh5\n"
     ]
    },
    {
     "name": "stderr",
     "output_type": "stream",
     "text": [
      "Telescope hera_sim is not in known_telescopes.\n"
     ]
    }
   ],
   "source": [
    "uvd_P_ = UVData()\n",
    "print(dfiles[5])\n",
    "uvd_P_ .read(dfiles[5], read_data=False)"
   ]
  },
  {
   "cell_type": "code",
   "execution_count": 54,
   "id": "3a5cd901",
   "metadata": {
    "execution": {
     "iopub.execute_input": "2022-03-27T22:38:21.435416Z",
     "iopub.status.busy": "2022-03-27T22:38:21.434989Z",
     "iopub.status.idle": "2022-03-27T22:38:21.436022Z",
     "shell.execute_reply": "2022-03-27T22:38:21.435727Z"
    },
    "papermill": {
     "duration": 0.052186,
     "end_time": "2022-03-27T22:38:21.436102",
     "exception": false,
     "start_time": "2022-03-27T22:38:21.383916",
     "status": "completed"
    },
    "tags": []
   },
   "outputs": [],
   "source": [
    "xants = [0,2,11,24,50,53,54,67,69,98,122,136,139]"
   ]
  },
  {
   "cell_type": "code",
   "execution_count": 55,
   "id": "26932ad0",
   "metadata": {
    "execution": {
     "iopub.execute_input": "2022-03-27T22:38:21.551907Z",
     "iopub.status.busy": "2022-03-27T22:38:21.551519Z",
     "iopub.status.idle": "2022-03-27T22:38:21.567333Z",
     "shell.execute_reply": "2022-03-27T22:38:21.567903Z"
    },
    "papermill": {
     "duration": 0.084434,
     "end_time": "2022-03-27T22:38:21.568028",
     "exception": false,
     "start_time": "2022-03-27T22:38:21.483594",
     "status": "completed"
    },
    "tags": []
   },
   "outputs": [],
   "source": [
    "# short baseline group\n",
    "bl_len_range = (14, 15)\n",
    "bl_deg_range = (0, 1)\n",
    "reds, lens, angs = hp.utils.get_reds(uvd_P_, bl_len_range=bl_len_range, bl_deg_range=bl_deg_range, xants=xants)\n",
    "bls = hp.utils.flatten(reds)"
   ]
  },
  {
   "cell_type": "code",
   "execution_count": 56,
   "id": "79281189",
   "metadata": {
    "execution": {
     "iopub.execute_input": "2022-03-27T22:38:21.673516Z",
     "iopub.status.busy": "2022-03-27T22:38:21.673086Z",
     "iopub.status.idle": "2022-03-27T22:38:21.674131Z",
     "shell.execute_reply": "2022-03-27T22:38:21.673828Z"
    },
    "papermill": {
     "duration": 0.053598,
     "end_time": "2022-03-27T22:38:21.674211",
     "exception": false,
     "start_time": "2022-03-27T22:38:21.620613",
     "status": "completed"
    },
    "tags": []
   },
   "outputs": [],
   "source": [
    "refcal = '/lustre/aoc/projects/hera/H1C_IDR2/IDR2_2_pspec/v2/one_group/data/zen.grp1.of1.LST.1.50345.HH.OCRSLP2.allspws.refcal_smooth.calfits'"
   ]
  },
  {
   "cell_type": "code",
   "execution_count": 57,
   "id": "845f5365",
   "metadata": {
    "execution": {
     "iopub.execute_input": "2022-03-27T22:38:21.796827Z",
     "iopub.status.busy": "2022-03-27T22:38:21.796437Z",
     "iopub.status.idle": "2022-03-27T22:39:59.196812Z",
     "shell.execute_reply": "2022-03-27T22:39:59.197407Z"
    },
    "papermill": {
     "duration": 97.472024,
     "end_time": "2022-03-27T22:39:59.197532",
     "exception": false,
     "start_time": "2022-03-27T22:38:21.725508",
     "status": "completed"
    },
    "tags": []
   },
   "outputs": [
    {
     "name": "stdout",
     "output_type": "stream",
     "text": [
      "fringe_rate_filter/cleaned_sim_1000_256.uvh5\n"
     ]
    }
   ],
   "source": [
    "print(dfiles[5])\n",
    "uvd_P_.read(dfiles[5], time_range=time_range, antenna_nums=np.array(bls).flatten(), polarizations=['xx','yy'])"
   ]
  },
  {
   "cell_type": "code",
   "execution_count": 58,
   "id": "3a0f2174",
   "metadata": {
    "execution": {
     "iopub.execute_input": "2022-03-27T22:39:59.316029Z",
     "iopub.status.busy": "2022-03-27T22:39:59.315437Z",
     "iopub.status.idle": "2022-03-27T22:40:00.013902Z",
     "shell.execute_reply": "2022-03-27T22:40:00.014484Z"
    },
    "papermill": {
     "duration": 0.767601,
     "end_time": "2022-03-27T22:40:00.014617",
     "exception": false,
     "start_time": "2022-03-27T22:39:59.247016",
     "status": "completed"
    },
    "tags": []
   },
   "outputs": [
    {
     "name": "stderr",
     "output_type": "stream",
     "text": [
      "telescope_location is not set. Using known values for HERA.\n",
      "antenna_positions is not set. Using known values for HERA.\n"
     ]
    }
   ],
   "source": [
    "uvcal_ref = UVCal()\n",
    "uvcal_ref.read_calfits(refcal)"
   ]
  },
  {
   "cell_type": "code",
   "execution_count": 59,
   "id": "265683be",
   "metadata": {
    "execution": {
     "iopub.execute_input": "2022-03-27T22:40:00.116960Z",
     "iopub.status.busy": "2022-03-27T22:40:00.116527Z",
     "iopub.status.idle": "2022-03-27T22:40:00.117568Z",
     "shell.execute_reply": "2022-03-27T22:40:00.117276Z"
    },
    "papermill": {
     "duration": 0.053207,
     "end_time": "2022-03-27T22:40:00.117648",
     "exception": false,
     "start_time": "2022-03-27T22:40:00.064441",
     "status": "completed"
    },
    "tags": []
   },
   "outputs": [],
   "source": [
    "uvd_PC_ = uvd_P_ #uvutils.uvcalibrate(uvd_P_, uvcal_ref, inplace=False, prop_flags=True, flag_missing=True)"
   ]
  },
  {
   "cell_type": "code",
   "execution_count": 60,
   "id": "78acd4af",
   "metadata": {
    "execution": {
     "iopub.execute_input": "2022-03-27T22:40:00.234916Z",
     "iopub.status.busy": "2022-03-27T22:40:00.234548Z",
     "iopub.status.idle": "2022-03-27T22:40:00.708096Z",
     "shell.execute_reply": "2022-03-27T22:40:00.708657Z"
    },
    "papermill": {
     "duration": 0.542628,
     "end_time": "2022-03-27T22:40:00.708782",
     "exception": false,
     "start_time": "2022-03-27T22:40:00.166154",
     "status": "completed"
    },
    "tags": []
   },
   "outputs": [],
   "source": [
    "uvd_PC =hp.pstokes.construct_pstokes(uvd_PC_, uvd_PC_, pstokes='pI')"
   ]
  },
  {
   "cell_type": "code",
   "execution_count": 61,
   "id": "175bda79",
   "metadata": {
    "execution": {
     "iopub.execute_input": "2022-03-27T22:40:00.826930Z",
     "iopub.status.busy": "2022-03-27T22:40:00.826551Z",
     "iopub.status.idle": "2022-03-27T22:40:01.264086Z",
     "shell.execute_reply": "2022-03-27T22:40:01.264647Z"
    },
    "papermill": {
     "duration": 0.507262,
     "end_time": "2022-03-27T22:40:01.264772",
     "exception": false,
     "start_time": "2022-03-27T22:40:00.757510",
     "status": "completed"
    },
    "tags": []
   },
   "outputs": [],
   "source": [
    "uvd_P = hp.pstokes.construct_pstokes(uvd_P_, uvd_P_, pstokes='pI')"
   ]
  },
  {
   "cell_type": "code",
   "execution_count": 62,
   "id": "31c3cb2b",
   "metadata": {
    "execution": {
     "iopub.execute_input": "2022-03-27T22:40:01.366255Z",
     "iopub.status.busy": "2022-03-27T22:40:01.365904Z",
     "iopub.status.idle": "2022-03-27T22:40:01.446516Z",
     "shell.execute_reply": "2022-03-27T22:40:01.447100Z"
    },
    "papermill": {
     "duration": 0.133464,
     "end_time": "2022-03-27T22:40:01.447232",
     "exception": false,
     "start_time": "2022-03-27T22:40:01.313768",
     "status": "completed"
    },
    "tags": []
   },
   "outputs": [],
   "source": [
    "beam = hp.PSpecBeamUV(\"/lustre/aoc/projects/hera/nkern/beams/NF_HERA_IQ_power_beam_healpix128.fits\")"
   ]
  },
  {
   "cell_type": "code",
   "execution_count": 63,
   "id": "046bbdae",
   "metadata": {
    "execution": {
     "iopub.execute_input": "2022-03-27T22:40:01.585946Z",
     "iopub.status.busy": "2022-03-27T22:40:01.585564Z",
     "iopub.status.idle": "2022-03-27T23:16:19.140803Z",
     "shell.execute_reply": "2022-03-27T23:16:19.141263Z"
    },
    "papermill": {
     "duration": 2177.642323,
     "end_time": "2022-03-27T23:16:19.141420",
     "exception": false,
     "start_time": "2022-03-27T22:40:01.499097",
     "status": "completed"
    },
    "tags": []
   },
   "outputs": [
    {
     "name": "stdout",
     "output_type": "stream",
     "text": [
      "Warning: LST bins in dsets misaligned by more than 15 seconds\n"
     ]
    },
    {
     "name": "stdout",
     "output_type": "stream",
     "text": [
      "Warning: LST bins in dsets misaligned by more than 15 seconds\n"
     ]
    },
    {
     "name": "stderr",
     "output_type": "stream",
     "text": [
      "Casting complex values to real discards the imaginary part\n"
     ]
    },
    {
     "data": {
      "text/plain": [
       "<hera_pspec.pspecdata.PSpecData at 0x7f7614d46d90>"
      ]
     },
     "execution_count": 63,
     "metadata": {},
     "output_type": "execute_result"
    }
   ],
   "source": [
    "# pspec at cross time\n",
    "hp.pspecdata.pspec_run([copy.deepcopy(uvd_P)], 'pspec_systematics.h5', groupname='pI_shortbl_fg_P', spw_ranges=[(0, 180)],\n",
    "                       dset_pairs=[(0,0)], pol_pairs=['pI'], input_data_weight='identity', norm='I',\n",
    "                       rephase_to_dset=True, interleave_times=True, Jy2mK=True, overwrite=True, verbose=False,\n",
    "                       bl_len_range=bl_len_range, bl_deg_range=bl_deg_range, beam=beam, taper='bh',\n",
    "                       broadcast_dset_flags=True, time_thresh=0.99, store_cov_diag=True, cov_model='foreground_dependent', \n",
    "                       exclude_auto_bls=True, exclude_cross_bls=False, exclude_permutations=True)"
   ]
  },
  {
   "cell_type": "code",
   "execution_count": 64,
   "id": "ea25843a",
   "metadata": {
    "execution": {
     "iopub.execute_input": "2022-03-27T23:16:19.285896Z",
     "iopub.status.busy": "2022-03-27T23:16:19.285529Z",
     "iopub.status.idle": "2022-03-27T23:43:02.632053Z",
     "shell.execute_reply": "2022-03-27T23:43:02.631607Z"
    },
    "papermill": {
     "duration": 1603.422301,
     "end_time": "2022-03-27T23:43:02.632172",
     "exception": false,
     "start_time": "2022-03-27T23:16:19.209871",
     "status": "completed"
    },
    "tags": []
   },
   "outputs": [
    {
     "name": "stdout",
     "output_type": "stream",
     "text": [
      "Warning: LST bins in dsets misaligned by more than 15 seconds\n"
     ]
    },
    {
     "name": "stdout",
     "output_type": "stream",
     "text": [
      "Warning: LST bins in dsets misaligned by more than 15 seconds\n"
     ]
    },
    {
     "name": "stderr",
     "output_type": "stream",
     "text": [
      "Casting complex values to real discards the imaginary part\n"
     ]
    },
    {
     "data": {
      "text/plain": [
       "<hera_pspec.pspecdata.PSpecData at 0x7f7614b72fa0>"
      ]
     },
     "execution_count": 64,
     "metadata": {},
     "output_type": "execute_result"
    }
   ],
   "source": [
    "# pspec at cross time\n",
    "hp.pspecdata.pspec_run([copy.deepcopy(uvd_P)], 'pspec_systematics.h5', groupname='pI_shortbl_noise_P', spw_ranges=[(0, 180)],\n",
    "                       dset_pairs=[(0,0)], pol_pairs=['pI'], input_data_weight='identity', norm='I',\n",
    "                       rephase_to_dset=True, interleave_times=True, Jy2mK=True, overwrite=True, verbose=False,\n",
    "                       bl_len_range=bl_len_range, bl_deg_range=bl_deg_range, beam=beam, taper='bh',\n",
    "                       broadcast_dset_flags=True, time_thresh=0.99, store_cov_diag=True, cov_model='autos', \n",
    "                       exclude_auto_bls=True, exclude_cross_bls=False, exclude_permutations=True)"
   ]
  },
  {
   "cell_type": "code",
   "execution_count": 65,
   "id": "6162b286",
   "metadata": {
    "execution": {
     "iopub.execute_input": "2022-03-27T23:43:02.864645Z",
     "iopub.status.busy": "2022-03-27T23:43:02.864170Z",
     "iopub.status.idle": "2022-03-28T00:19:03.127266Z",
     "shell.execute_reply": "2022-03-28T00:19:03.127556Z"
    },
    "papermill": {
     "duration": 2160.385089,
     "end_time": "2022-03-28T00:19:03.127679",
     "exception": false,
     "start_time": "2022-03-27T23:43:02.742590",
     "status": "completed"
    },
    "tags": []
   },
   "outputs": [
    {
     "name": "stdout",
     "output_type": "stream",
     "text": [
      "Warning: LST bins in dsets misaligned by more than 15 seconds\n"
     ]
    },
    {
     "name": "stdout",
     "output_type": "stream",
     "text": [
      "Warning: LST bins in dsets misaligned by more than 15 seconds\n"
     ]
    },
    {
     "name": "stderr",
     "output_type": "stream",
     "text": [
      "Casting complex values to real discards the imaginary part\n"
     ]
    },
    {
     "data": {
      "text/plain": [
       "<hera_pspec.pspecdata.PSpecData at 0x7f7614b72e50>"
      ]
     },
     "execution_count": 65,
     "metadata": {},
     "output_type": "execute_result"
    }
   ],
   "source": [
    "# pspec at cross time\n",
    "hp.pspecdata.pspec_run([copy.deepcopy(uvd_PC)], 'pspec_systematics.h5', groupname='pI_shortbl_fg_PC', spw_ranges=[(0, 180)],\n",
    "                       dset_pairs=[(0,0)], pol_pairs=['pI'], input_data_weight='identity', norm='I',\n",
    "                       rephase_to_dset=True, interleave_times=True, Jy2mK=True, overwrite=True, verbose=False,\n",
    "                       bl_len_range=bl_len_range, bl_deg_range=bl_deg_range, beam=beam, taper='bh',\n",
    "                       broadcast_dset_flags=True, time_thresh=0.99, store_cov_diag=True, cov_model='foreground_dependent', \n",
    "                       exclude_auto_bls=True, exclude_cross_bls=False, exclude_permutations=True)"
   ]
  },
  {
   "cell_type": "code",
   "execution_count": 66,
   "id": "faec0f0c",
   "metadata": {
    "execution": {
     "iopub.execute_input": "2022-03-28T00:19:03.252825Z",
     "iopub.status.busy": "2022-03-28T00:19:03.252436Z",
     "iopub.status.idle": "2022-03-28T00:45:51.518738Z",
     "shell.execute_reply": "2022-03-28T00:45:51.519178Z"
    },
    "papermill": {
     "duration": 1608.340776,
     "end_time": "2022-03-28T00:45:51.519325",
     "exception": false,
     "start_time": "2022-03-28T00:19:03.178549",
     "status": "completed"
    },
    "tags": []
   },
   "outputs": [
    {
     "name": "stdout",
     "output_type": "stream",
     "text": [
      "Warning: LST bins in dsets misaligned by more than 15 seconds\n"
     ]
    },
    {
     "name": "stdout",
     "output_type": "stream",
     "text": [
      "Warning: LST bins in dsets misaligned by more than 15 seconds\n"
     ]
    },
    {
     "name": "stderr",
     "output_type": "stream",
     "text": [
      "Casting complex values to real discards the imaginary part\n"
     ]
    },
    {
     "data": {
      "text/plain": [
       "<hera_pspec.pspecdata.PSpecData at 0x7f7614b83d30>"
      ]
     },
     "execution_count": 66,
     "metadata": {},
     "output_type": "execute_result"
    }
   ],
   "source": [
    "# pspec at cross time\n",
    "hp.pspecdata.pspec_run([copy.deepcopy(uvd_PC)], 'pspec_systematics.h5', groupname='pI_shortbl_noise_PC', spw_ranges=[(0, 180)],\n",
    "                       dset_pairs=[(0,0)], pol_pairs=['pI'], input_data_weight='identity', norm='I',\n",
    "                       rephase_to_dset=True, interleave_times=True, Jy2mK=True, overwrite=True, verbose=False,\n",
    "                       bl_len_range=bl_len_range, bl_deg_range=bl_deg_range, beam=beam, taper='bh',\n",
    "                       broadcast_dset_flags=True, time_thresh=0.99, store_cov_diag=True, cov_model='autos', \n",
    "                       exclude_auto_bls=True, exclude_cross_bls=False, exclude_permutations=True)"
   ]
  },
  {
   "cell_type": "markdown",
   "id": "467f5453",
   "metadata": {
    "papermill": {
     "duration": 0.054522,
     "end_time": "2022-03-28T00:45:51.640003",
     "exception": false,
     "start_time": "2022-03-28T00:45:51.585481",
     "status": "completed"
    },
    "tags": []
   },
   "source": [
    "### some parameters"
   ]
  },
  {
   "cell_type": "code",
   "execution_count": 67,
   "id": "15b8ca79",
   "metadata": {
    "execution": {
     "iopub.execute_input": "2022-03-28T00:45:51.756258Z",
     "iopub.status.busy": "2022-03-28T00:45:51.755799Z",
     "iopub.status.idle": "2022-03-28T00:45:51.757477Z",
     "shell.execute_reply": "2022-03-28T00:45:51.756587Z"
    },
    "papermill": {
     "duration": 0.063385,
     "end_time": "2022-03-28T00:45:51.757571",
     "exception": false,
     "start_time": "2022-03-28T00:45:51.694186",
     "status": "completed"
    },
    "tags": []
   },
   "outputs": [
    {
     "data": {
      "text/plain": [
       "30"
      ]
     },
     "execution_count": 67,
     "metadata": {},
     "output_type": "execute_result"
    }
   ],
   "source": [
    "uvp_cov_fg.Ntimes"
   ]
  },
  {
   "cell_type": "code",
   "execution_count": 68,
   "id": "0c28d153",
   "metadata": {
    "execution": {
     "iopub.execute_input": "2022-03-28T00:45:51.867416Z",
     "iopub.status.busy": "2022-03-28T00:45:51.866953Z",
     "iopub.status.idle": "2022-03-28T00:45:51.868676Z",
     "shell.execute_reply": "2022-03-28T00:45:51.867768Z"
    },
    "papermill": {
     "duration": 0.059244,
     "end_time": "2022-03-28T00:45:51.868763",
     "exception": false,
     "start_time": "2022-03-28T00:45:51.809519",
     "status": "completed"
    },
    "tags": []
   },
   "outputs": [
    {
     "data": {
      "text/plain": [
       "array([2458116.52588191, 2458116.52637913, 2458116.52687635,\n",
       "       2458116.52737358, 2458116.5278708 , 2458116.52836802,\n",
       "       2458116.52886524, 2458116.52936246, 2458116.52985969,\n",
       "       2458116.53035691, 2458116.53085413, 2458116.53135135,\n",
       "       2458116.53184857, 2458116.5323458 , 2458116.53284302,\n",
       "       2458116.53334024, 2458116.53383746, 2458116.53433469,\n",
       "       2458116.53483191, 2458116.53532913, 2458116.53582635,\n",
       "       2458116.53632358, 2458116.5368208 , 2458116.53731802,\n",
       "       2458116.53781524, 2458116.53831246, 2458116.53880969,\n",
       "       2458116.53930691, 2458116.53980413, 2458116.54030135])"
      ]
     },
     "execution_count": 68,
     "metadata": {},
     "output_type": "execute_result"
    }
   ],
   "source": [
    "np.unique(uvp_cov_fg.time_avg_array)"
   ]
  },
  {
   "cell_type": "code",
   "execution_count": 69,
   "id": "bf03f803",
   "metadata": {
    "execution": {
     "iopub.execute_input": "2022-03-28T00:45:51.983596Z",
     "iopub.status.busy": "2022-03-28T00:45:51.983125Z",
     "iopub.status.idle": "2022-03-28T00:45:51.984839Z",
     "shell.execute_reply": "2022-03-28T00:45:51.983954Z"
    },
    "papermill": {
     "duration": 0.059723,
     "end_time": "2022-03-28T00:45:51.984940",
     "exception": false,
     "start_time": "2022-03-28T00:45:51.925217",
     "status": "completed"
    },
    "tags": []
   },
   "outputs": [
    {
     "data": {
      "text/plain": [
       "42.9599997812304"
      ]
     },
     "execution_count": 69,
     "metadata": {},
     "output_type": "execute_result"
    }
   ],
   "source": [
    "np.mean(np.diff(np.unique(uvp_cov_fg.time_avg_array)))*24*3600"
   ]
  },
  {
   "cell_type": "code",
   "execution_count": 70,
   "id": "e419fbc6",
   "metadata": {
    "execution": {
     "iopub.execute_input": "2022-03-28T00:45:52.100118Z",
     "iopub.status.busy": "2022-03-28T00:45:52.099644Z",
     "iopub.status.idle": "2022-03-28T00:45:52.101356Z",
     "shell.execute_reply": "2022-03-28T00:45:52.100464Z"
    },
    "papermill": {
     "duration": 0.059979,
     "end_time": "2022-03-28T00:45:52.101445",
     "exception": false,
     "start_time": "2022-03-28T00:45:52.041466",
     "status": "completed"
    },
    "tags": []
   },
   "outputs": [
    {
     "data": {
      "text/plain": [
       "43.07762154491905"
      ]
     },
     "execution_count": 70,
     "metadata": {},
     "output_type": "execute_result"
    }
   ],
   "source": [
    "np.mean(np.diff(np.unique(uvp_cov_fg.lst_avg_array)))/2/np.pi*24*3600"
   ]
  },
  {
   "cell_type": "code",
   "execution_count": 71,
   "id": "ec72a1c2",
   "metadata": {
    "execution": {
     "iopub.execute_input": "2022-03-28T00:45:52.217124Z",
     "iopub.status.busy": "2022-03-28T00:45:52.216645Z",
     "iopub.status.idle": "2022-03-28T00:45:52.218373Z",
     "shell.execute_reply": "2022-03-28T00:45:52.217466Z"
    },
    "papermill": {
     "duration": 0.060667,
     "end_time": "2022-03-28T00:45:52.218462",
     "exception": false,
     "start_time": "2022-03-28T00:45:52.157795",
     "status": "completed"
    },
    "tags": []
   },
   "outputs": [
    {
     "data": {
      "text/plain": [
       "array([8.5607654 , 8.57273141, 8.58469741, 8.59666342, 8.60862942,\n",
       "       8.62059543, 8.63256144, 8.64452744, 8.65649345, 8.66845945,\n",
       "       8.68042545, 8.69239147, 8.70435747, 8.71632347, 8.72828948,\n",
       "       8.74025548, 8.75222149, 8.76418749, 8.7761535 , 8.78811951,\n",
       "       8.80008551, 8.81205152, 8.82401752, 8.83598353, 8.84794954,\n",
       "       8.85991554, 8.87188155, 8.88384755, 8.89581356, 8.90777957])"
      ]
     },
     "execution_count": 71,
     "metadata": {},
     "output_type": "execute_result"
    }
   ],
   "source": [
    "np.unique(uvp_cov_fg.lst_avg_array)/2/np.pi*24"
   ]
  },
  {
   "cell_type": "code",
   "execution_count": 72,
   "id": "9461ecd5",
   "metadata": {
    "execution": {
     "iopub.execute_input": "2022-03-28T00:45:52.333737Z",
     "iopub.status.busy": "2022-03-28T00:45:52.333302Z",
     "iopub.status.idle": "2022-03-28T00:45:52.334896Z",
     "shell.execute_reply": "2022-03-28T00:45:52.334063Z"
    },
    "papermill": {
     "duration": 0.059485,
     "end_time": "2022-03-28T00:45:52.334980",
     "exception": false,
     "start_time": "2022-03-28T00:45:52.275495",
     "status": "completed"
    },
    "tags": []
   },
   "outputs": [
    {
     "data": {
      "text/plain": [
       "(117.48046875, 100.0)"
      ]
     },
     "execution_count": 72,
     "metadata": {},
     "output_type": "execute_result"
    }
   ],
   "source": [
    "uvp_cov_fg.freq_array[-1]/1e6, uvp_cov_fg.freq_array[0]/1e6"
   ]
  },
  {
   "cell_type": "markdown",
   "id": "ea7a8f23",
   "metadata": {
    "papermill": {
     "duration": 0.052238,
     "end_time": "2022-03-28T00:45:52.439966",
     "exception": false,
     "start_time": "2022-03-28T00:45:52.387728",
     "status": "completed"
    },
    "tags": []
   },
   "source": [
    "## make plots"
   ]
  },
  {
   "cell_type": "code",
   "execution_count": 73,
   "id": "958ef507",
   "metadata": {
    "execution": {
     "iopub.execute_input": "2022-03-28T00:45:52.619563Z",
     "iopub.status.busy": "2022-03-28T00:45:52.619121Z",
     "iopub.status.idle": "2022-03-28T00:45:52.620659Z",
     "shell.execute_reply": "2022-03-28T00:45:52.619882Z"
    },
    "papermill": {
     "duration": 0.062797,
     "end_time": "2022-03-28T00:45:52.620742",
     "exception": false,
     "start_time": "2022-03-28T00:45:52.557945",
     "status": "completed"
    },
    "tags": []
   },
   "outputs": [
    {
     "name": "stderr",
     "output_type": "stream",
     "text": [
      "invalid value encountered in true_divide\n"
     ]
    }
   ],
   "source": [
    "key = uvp_cov_fg.get_all_keys()[0]\n",
    "dlys = uvp_cov_fg.get_dlys(key[0]) * 1e9\n",
    "kparas = uvp_cov_fg.get_kparas(key[0])\n",
    "tau2k = (kparas/dlys)[0]"
   ]
  },
  {
   "cell_type": "code",
   "execution_count": 74,
   "id": "48e68e10",
   "metadata": {
    "execution": {
     "iopub.execute_input": "2022-03-28T00:45:52.735071Z",
     "iopub.status.busy": "2022-03-28T00:45:52.734601Z",
     "iopub.status.idle": "2022-03-28T00:45:52.736307Z",
     "shell.execute_reply": "2022-03-28T00:45:52.735414Z"
    },
    "papermill": {
     "duration": 0.062839,
     "end_time": "2022-03-28T00:45:52.736396",
     "exception": false,
     "start_time": "2022-03-28T00:45:52.673557",
     "status": "completed"
    },
    "tags": []
   },
   "outputs": [
    {
     "data": {
      "text/plain": [
       "276"
      ]
     },
     "execution_count": 74,
     "metadata": {},
     "output_type": "execute_result"
    }
   ],
   "source": [
    "len(uvp_cov_fg.get_all_keys())"
   ]
  },
  {
   "cell_type": "code",
   "execution_count": 75,
   "id": "aca6eebe",
   "metadata": {
    "execution": {
     "iopub.execute_input": "2022-03-28T00:45:52.865045Z",
     "iopub.status.busy": "2022-03-28T00:45:52.863796Z",
     "iopub.status.idle": "2022-03-28T00:45:52.866144Z",
     "shell.execute_reply": "2022-03-28T00:45:52.865368Z"
    },
    "papermill": {
     "duration": 0.072304,
     "end_time": "2022-03-28T00:45:52.866228",
     "exception": false,
     "start_time": "2022-03-28T00:45:52.793924",
     "status": "completed"
    },
    "tags": []
   },
   "outputs": [
    {
     "name": "stdout",
     "output_type": "stream",
     "text": [
      "(0, ((12, 13), (13, 14)), ('pI', 'pI'))\n"
     ]
    }
   ],
   "source": [
    "print(key)"
   ]
  },
  {
   "cell_type": "code",
   "execution_count": 76,
   "id": "dbde1021",
   "metadata": {
    "execution": {
     "iopub.execute_input": "2022-03-28T00:45:53.022549Z",
     "iopub.status.busy": "2022-03-28T00:45:53.021967Z",
     "iopub.status.idle": "2022-03-28T00:45:53.040881Z",
     "shell.execute_reply": "2022-03-28T00:45:53.040563Z"
    },
    "papermill": {
     "duration": 0.121103,
     "end_time": "2022-03-28T00:45:53.040976",
     "exception": false,
     "start_time": "2022-03-28T00:45:52.919873",
     "status": "completed"
    },
    "tags": []
   },
   "outputs": [],
   "source": [
    "def tau2k_(x):\n",
    "    return x * tau2k\n",
    "def k2tau_(x):\n",
    "    return x / tau2k"
   ]
  },
  {
   "cell_type": "code",
   "execution_count": 77,
   "id": "cd239439",
   "metadata": {
    "execution": {
     "iopub.execute_input": "2022-03-28T00:45:53.188482Z",
     "iopub.status.busy": "2022-03-28T00:45:53.187157Z",
     "iopub.status.idle": "2022-03-28T00:45:53.189114Z",
     "shell.execute_reply": "2022-03-28T00:45:53.188801Z"
    },
    "papermill": {
     "duration": 0.093833,
     "end_time": "2022-03-28T00:45:53.189199",
     "exception": false,
     "start_time": "2022-03-28T00:45:53.095366",
     "status": "completed"
    },
    "tags": []
   },
   "outputs": [],
   "source": [
    "from matplotlib.ticker import Locator\n",
    "class MinorSymLogLocator(Locator):\n",
    "    \"\"\"\n",
    "    Dynamically find minor tick positions based on the positions of\n",
    "    major ticks for a symlog scaling.\n",
    "    \"\"\"\n",
    "    def __init__(self, linthresh):\n",
    "        \"\"\"\n",
    "        Ticks will be placed between the major ticks.\n",
    "        The placement is linear for x between -linthresh and linthresh,\n",
    "        otherwise its logarithmically\n",
    "        \"\"\"\n",
    "        self.linthresh = linthresh\n",
    "\n",
    "    def __call__(self):\n",
    "        'Return the locations of the ticks'\n",
    "        majorlocs = self.axis.get_majorticklocs()\n",
    "\n",
    "        # iterate through minor locs\n",
    "        minorlocs = []\n",
    "\n",
    "        # handle the lowest part\n",
    "        for i in range(1, len(majorlocs)):\n",
    "            majorstep = majorlocs[i] - majorlocs[i-1]\n",
    "            if abs(majorlocs[i-1] + majorstep/2) < self.linthresh:\n",
    "                ndivs = 10\n",
    "            else:\n",
    "                ndivs = 9\n",
    "            minorstep = majorstep / ndivs\n",
    "            locs = np.arange(majorlocs[i-1], majorlocs[i], minorstep)[1:]\n",
    "            minorlocs.extend(locs)\n",
    "\n",
    "        return self.raise_if_exceeds(np.array(minorlocs))\n",
    "\n",
    "    def tick_values(self, vmin, vmax):\n",
    "        raise NotImplementedError('Cannot get tick locations for a '\n",
    "                                  '%s type.' % type(self))"
   ]
  },
  {
   "cell_type": "code",
   "execution_count": 78,
   "id": "71b64725",
   "metadata": {
    "execution": {
     "iopub.execute_input": "2022-03-28T00:45:53.305599Z",
     "iopub.status.busy": "2022-03-28T00:45:53.305148Z",
     "iopub.status.idle": "2022-03-28T00:45:53.306216Z",
     "shell.execute_reply": "2022-03-28T00:45:53.305921Z"
    },
    "papermill": {
     "duration": 0.063148,
     "end_time": "2022-03-28T00:45:53.306296",
     "exception": false,
     "start_time": "2022-03-28T00:45:53.243148",
     "status": "completed"
    },
    "tags": []
   },
   "outputs": [],
   "source": [
    "time_index = 0\n",
    "# Dicts of colors\n",
    "color_list = odict()\n",
    "# Dicts of labels\n",
    "label_list = odict()\n",
    "# Dicts of error bars\n",
    "error_list = odict()\n",
    "linestyle_list = odict()\n",
    "\n",
    "# The extra kinds of error bars\n",
    "error_list['PSN'] = uvp_cov_fg.get_stats('P_SN', key)[time_index].real\n",
    "label_list['PSN'] = r'$P_\\mathrm{SN}$'\n",
    "color_list['PSN'] = 'darkcyan' \n",
    "linestyle_list['PSN'] = \"-\"\n",
    "error_list['PN'] = uvp_cov_fg.get_stats('P_N', key)[time_index].real\n",
    "label_list['PN'] = r'$P_\\mathrm{N}$'\n",
    "color_list['PN'] = 'tomato' \n",
    "linestyle_list['PN'] = \"-\"\n",
    "# The power spectra of time difference data as error bars in noise dominant regions, \n",
    "error_list['fg'] = uvp_cov_fg.get_stats('foreground_dependent_diag', key)[time_index].real\n",
    "label_list['fg'] = r\"$\\sigma_\\mathrm{QE-SN}$\"\n",
    "color_list['fg'] = 'limegreen' \n",
    "linestyle_list['fg'] = \"-\"\n",
    "error_list['noise'] = uvp_cov_n.get_stats('autos_diag', key)[time_index].real\n",
    "label_list['noise'] = r\"$\\sigma_\\mathrm{QE-N}$\"\n",
    "color_list['noise'] = 'darkred' \n",
    "linestyle_list['noise'] = \"-\"\n",
    "error_list['Pdiff'] = np.abs(uvp_td.get_data(key)[time_index].real)\n",
    "color_list['Pdiff'] = 'orange' \n",
    "label_list['Pdiff'] = r'$P_\\mathrm{diff}$'\n",
    "linestyle_list['Pdiff'] = \"-.\"\n",
    "for error_type in error_list.keys():  \n",
    "    error_list[error_type] = np.array(error_list[error_type]).reshape(-1)\n",
    "\n",
    "# The power spectrum\n",
    "ps = (uvp_cov_fg.get_data(key)[time_index].real).reshape(-1)"
   ]
  },
  {
   "cell_type": "code",
   "execution_count": 79,
   "id": "02648113",
   "metadata": {
    "execution": {
     "iopub.execute_input": "2022-03-28T00:45:53.439161Z",
     "iopub.status.busy": "2022-03-28T00:45:53.438752Z",
     "iopub.status.idle": "2022-03-28T00:45:56.689129Z",
     "shell.execute_reply": "2022-03-28T00:45:56.505439Z"
    },
    "papermill": {
     "duration": 3.329529,
     "end_time": "2022-03-28T00:45:56.689236",
     "exception": false,
     "start_time": "2022-03-28T00:45:53.359707",
     "status": "completed"
    },
    "tags": []
   },
   "outputs": [
    {
     "data": {
      "text/plain": [
       "<matplotlib.lines.Line2D at 0x7f7613e89fa0>"
      ]
     },
     "execution_count": 79,
     "metadata": {},
     "output_type": "execute_result"
    },
    {
     "data": {
      "image/png": "[encoded data removed]",
      "text/plain": [
       "<Figure size 1152x1080 with 3 Axes>"
      ]
     },
     "metadata": {
      "needs_background": "light"
     },
     "output_type": "display_data"
    }
   ],
   "source": [
    "fig = plt.figure(figsize=(16,15), constrained_layout=True)\n",
    "gs = fig.add_gridspec(3, 2, wspace=0.02)\n",
    "psunits = uvp_cov_fg.units\n",
    "if \"h^-1\" in psunits: psunits = psunits.replace(\"h^-1\", \"h^{-1}\")\n",
    "if \"h^-3\" in psunits: psunits = psunits.replace(\"h^-3\", \"h^{-3}\")\n",
    "if \"Mpc\" in psunits and \"\\\\rm\" not in psunits: \n",
    "    psunits = psunits.replace(\"Mpc\", r\"{\\rm Mpc}\")\n",
    "if \"pi\" in psunits and \"\\\\pi\" not in psunits: \n",
    "    psunits = psunits.replace(\"pi\", r\"\\pi\")\n",
    "    \n",
    "# Plot different kinds of error bars\n",
    "ax = fig.add_subplot(gs[0,:])\n",
    "ax.plot(dlys[ps>=0.], ps[ps>=0.], \".\", label='power spectra'+ r'$(+)$', c='k', markersize=8, alpha = 0.6)\n",
    "ax.plot(dlys[ps<0.], np.abs(ps[ps<0.]), \".\", fillstyle='none', label='power spectra'+ r'$(-)$', c='k', markersize=8, alpha = 0.6)\n",
    "ax.set_xlim(-3000,3000)\n",
    "for error_type in error_list.keys():\n",
    "    ax.plot(dlys, error_list[error_type], ls=linestyle_list[error_type],label=label_list[error_type], c=color_list[error_type], lw=2)\n",
    "ax.set_ylabel(\"$P(k_\\parallel)$ $[%s]$\" % psunits, fontsize=16)\n",
    "#ax.set_xlabel(r\"$\\tau$ $[{\\rm ns}]$\", fontsize=20)\n",
    "ax.set_xticklabels([])\n",
    "ax.tick_params(axis='both', which='both', labelsize=16)\n",
    "ax.xaxis.set_minor_locator(ticker.MultipleLocator(500))\n",
    "ax.semilogy()\n",
    "ax.minorticks_on()\n",
    "ax.yaxis.set_minor_locator(ticker.LogLocator(base=10, subs=[0.2,0.4,0.6,0.8], numticks=20))\n",
    "ax.yaxis.set_minor_formatter(ticker.NullFormatter())\n",
    "ax.grid()\n",
    "ax.legend(loc='upper right', fontsize=14, ncol=3)\n",
    "ax.set_title('A single-time instance of power spectra from the HERA Phase I Data', bbox=dict(fc='wheat', alpha=0.5), fontsize=20, pad=15)\n",
    "ax.axvspan(-200, -20, facecolor='#2ca02c', alpha=0.2)\n",
    "ax.axvspan(20, 200, facecolor='#2ca02c', alpha=0.2)\n",
    "\n",
    "ax1 = ax.secondary_xaxis('top', functions=(tau2k_, k2tau_))\n",
    "ax1.tick_params(axis='both', which='both', labelsize=16, direction='out')\n",
    "ax1.xaxis.set_major_locator(ticker.MultipleLocator(1))\n",
    "ax1.xaxis.set_minor_locator(ticker.MultipleLocator(0.2))\n",
    "ax1.set_xlabel(r\"$k_\\parallel [h {\\rm Mpc}^{-1}]$\", fontsize=16)\n",
    "\n",
    "#handles, labels = ax.get_legend_handles_labels()\n",
    "#fig.legend(handles, labels, bbox_to_anchor=(0.53,1.15), loc='upper center', fontsize=14, ncol=3,)\n",
    "#fig.tight_layout()\n",
    "\n",
    "# Plot ratios of different kinds of error bars\n",
    "ax = fig.add_subplot(gs[1,:])\n",
    "for error_type in ['Pdiff','PN','fg']:\n",
    "    ax.plot(dlys, np.abs(error_list[error_type]/error_list['noise']-1), ls=linestyle_list[error_type],label=label_list[error_type], c=color_list[error_type], lw=2)\n",
    "ax.set_xticklabels([])\n",
    "ax.tick_params(axis='both', which='both', labelsize=16)\n",
    "ax.grid()\n",
    "ax.semilogy()\n",
    "ax.set_ylim(1e-3,1)\n",
    "ax.set_xlim(-3000,3000)\n",
    "ax.set_ylabel(\"abs\" + r\"$\\left(\\frac{\\sigma-\\sigma_{\\rm QE-N}}{\\sigma_{\\rm QE-N}}\\right)$\", fontsize=20)\n",
    "#ax.yaxis.set_minor_locator(MinorSymLogLocator(0.01))\n",
    "#ax.yaxis.set_minor_formatter(ticker.NullFormatter())\n",
    "ax.xaxis.set_minor_locator(ticker.MultipleLocator(500))\n",
    "ax.axvspan(-200, -20, facecolor='#2ca02c', alpha=0.2)\n",
    "ax.axvspan(20, 200, facecolor='#2ca02c', alpha=0.2)\n",
    "ax.axhline(y=0, c='k', lw=3)\n",
    "\n",
    "ax = fig.add_subplot(gs[2,:])\n",
    "for error_type in ['PSN']:\n",
    "    ax.plot(dlys, np.abs(error_list[error_type]/error_list['fg']-1), ls=linestyle_list[error_type], label=label_list[error_type], c=color_list[error_type], lw=2)\n",
    "ax.set_xlabel(r\"$\\tau$ $[{\\rm ns}]$\", fontsize=16)\n",
    "ax.tick_params(axis='both', which='both', labelsize=16)\n",
    "ax.grid()\n",
    "ax.set_xlim(-3000,3000)\n",
    "ax.semilogy()\n",
    "ax.set_ylim(1e-3,1)\n",
    "ax.xaxis.set_minor_locator(ticker.MultipleLocator(500))\n",
    "ax.set_ylabel(\"abs\" + r\"$\\left(\\frac{\\sigma-\\sigma_{\\rm QE-SN}}{\\sigma_{\\rm QE-SN}}\\right)$\", fontsize=20)\n",
    "ax.axvspan(-200, -20, facecolor='#2ca02c', alpha=0.2)\n",
    "ax.axvspan(20, 200, facecolor='#2ca02c', alpha=0.2)\n",
    "ax.axhline(y=0, c='k', lw=3)"
   ]
  },
  {
   "cell_type": "markdown",
   "id": "73e3ff14",
   "metadata": {
    "papermill": {
     "duration": 0.055958,
     "end_time": "2022-03-28T00:45:56.804796",
     "exception": false,
     "start_time": "2022-03-28T00:45:56.748838",
     "status": "completed"
    },
    "tags": []
   },
   "source": [
    "get the time average"
   ]
  },
  {
   "cell_type": "code",
   "execution_count": 80,
   "id": "e507a705",
   "metadata": {
    "execution": {
     "iopub.execute_input": "2022-03-28T00:45:56.984413Z",
     "iopub.status.busy": "2022-03-28T00:45:56.983936Z",
     "iopub.status.idle": "2022-03-28T00:45:56.985117Z",
     "shell.execute_reply": "2022-03-28T00:45:56.984771Z"
    },
    "papermill": {
     "duration": 0.083863,
     "end_time": "2022-03-28T00:45:56.985210",
     "exception": false,
     "start_time": "2022-03-28T00:45:56.901347",
     "status": "completed"
    },
    "tags": []
   },
   "outputs": [],
   "source": [
    "new_stats_array = odict()\n",
    "new_stats_array.update({'Pdiff_err': {0: np.abs(uvp_td.data_array[0].real)}})\n",
    "new_stats_array.update(uvp_cov_fg.stats_array)"
   ]
  },
  {
   "cell_type": "code",
   "execution_count": 81,
   "id": "a34236b1",
   "metadata": {
    "execution": {
     "iopub.execute_input": "2022-03-28T00:45:57.104784Z",
     "iopub.status.busy": "2022-03-28T00:45:57.104365Z",
     "iopub.status.idle": "2022-03-28T00:45:57.105401Z",
     "shell.execute_reply": "2022-03-28T00:45:57.105110Z"
    },
    "papermill": {
     "duration": 0.060698,
     "end_time": "2022-03-28T00:45:57.105482",
     "exception": false,
     "start_time": "2022-03-28T00:45:57.044784",
     "status": "completed"
    },
    "tags": []
   },
   "outputs": [],
   "source": [
    "uvp_cov_fg.stats_array = new_stats_array"
   ]
  },
  {
   "cell_type": "code",
   "execution_count": 82,
   "id": "97986a9d",
   "metadata": {
    "execution": {
     "iopub.execute_input": "2022-03-28T00:45:57.221271Z",
     "iopub.status.busy": "2022-03-28T00:45:57.220833Z",
     "iopub.status.idle": "2022-03-28T00:45:57.222375Z",
     "shell.execute_reply": "2022-03-28T00:45:57.221585Z"
    },
    "papermill": {
     "duration": 0.061173,
     "end_time": "2022-03-28T00:45:57.222458",
     "exception": false,
     "start_time": "2022-03-28T00:45:57.161285",
     "status": "completed"
    },
    "tags": []
   },
   "outputs": [
    {
     "name": "stdout",
     "output_type": "stream",
     "text": [
      "30\n"
     ]
    }
   ],
   "source": [
    "print(uvp_cov_fg.Ntimes)"
   ]
  },
  {
   "cell_type": "code",
   "execution_count": 83,
   "id": "fc4bfd3b",
   "metadata": {
    "execution": {
     "iopub.execute_input": "2022-03-28T00:45:57.359904Z",
     "iopub.status.busy": "2022-03-28T00:45:57.359536Z",
     "iopub.status.idle": "2022-03-28T00:46:01.073490Z",
     "shell.execute_reply": "2022-03-28T00:46:01.074216Z"
    },
    "papermill": {
     "duration": 3.795498,
     "end_time": "2022-03-28T00:46:01.074340",
     "exception": false,
     "start_time": "2022-03-28T00:45:57.278842",
     "status": "completed"
    },
    "tags": []
   },
   "outputs": [],
   "source": [
    "uvp_cov_fg_uni = uvp_cov_fg.average_spectra(time_avg=True, error_weights=None, error_field=['Pdiff_err',\"foreground_dependent_diag\", \"P_N\",\"P_SN\"],\n",
    "                              inplace=False)"
   ]
  },
  {
   "cell_type": "code",
   "execution_count": 84,
   "id": "39728be0",
   "metadata": {
    "execution": {
     "iopub.execute_input": "2022-03-28T00:46:01.203900Z",
     "iopub.status.busy": "2022-03-28T00:46:01.203537Z",
     "iopub.status.idle": "2022-03-28T00:46:04.782006Z",
     "shell.execute_reply": "2022-03-28T00:46:04.782577Z"
    },
    "papermill": {
     "duration": 3.651539,
     "end_time": "2022-03-28T00:46:04.782704",
     "exception": false,
     "start_time": "2022-03-28T00:46:01.131165",
     "status": "completed"
    },
    "tags": []
   },
   "outputs": [],
   "source": [
    "uvp_cov_n_uni = uvp_cov_n.average_spectra(time_avg=True, error_weights=None, error_field=[\"autos_diag\"], inplace=False)"
   ]
  },
  {
   "cell_type": "code",
   "execution_count": 85,
   "id": "95bc2127",
   "metadata": {
    "execution": {
     "iopub.execute_input": "2022-03-28T00:46:04.905710Z",
     "iopub.status.busy": "2022-03-28T00:46:04.905242Z",
     "iopub.status.idle": "2022-03-28T00:46:04.906377Z",
     "shell.execute_reply": "2022-03-28T00:46:04.906059Z"
    },
    "papermill": {
     "duration": 0.066965,
     "end_time": "2022-03-28T00:46:04.906467",
     "exception": false,
     "start_time": "2022-03-28T00:46:04.839502",
     "status": "completed"
    },
    "tags": []
   },
   "outputs": [],
   "source": [
    "key = uvp_cov_fg_uni.get_all_keys()[0]\n",
    "error_tavg_list = odict()\n",
    "error_tavg_list['PSN'] = uvp_cov_fg_uni.get_stats('P_SN', key)[0].real\n",
    "error_tavg_list['PN'] = uvp_cov_fg_uni.get_stats('P_N', key)[0].real\n",
    "error_tavg_list['fg'] = uvp_cov_fg_uni.get_stats('foreground_dependent_diag', key)[0].real\n",
    "error_tavg_list['noise'] = uvp_cov_n_uni.get_stats('autos_diag', key)[0].real\n",
    "error_tavg_list['Pdiff'] = uvp_cov_fg_uni.get_stats('Pdiff_err', key)[0].real\n",
    "# The power spectrum\n",
    "ps_tavg = (uvp_cov_fg_uni.get_data(key)[0].real).reshape(-1)"
   ]
  },
  {
   "cell_type": "markdown",
   "id": "815fe214",
   "metadata": {
    "papermill": {
     "duration": 0.057206,
     "end_time": "2022-03-28T00:46:05.024576",
     "exception": false,
     "start_time": "2022-03-28T00:46:04.967370",
     "status": "completed"
    },
    "tags": []
   },
   "source": [
    "bootstrap"
   ]
  },
  {
   "cell_type": "code",
   "execution_count": 86,
   "id": "db841e1a",
   "metadata": {
    "execution": {
     "iopub.execute_input": "2022-03-28T00:46:05.157941Z",
     "iopub.status.busy": "2022-03-28T00:46:05.157562Z",
     "iopub.status.idle": "2022-03-28T00:46:05.228481Z",
     "shell.execute_reply": "2022-03-28T00:46:05.229048Z"
    },
    "papermill": {
     "duration": 0.148114,
     "end_time": "2022-03-28T00:46:05.229173",
     "exception": false,
     "start_time": "2022-03-28T00:46:05.081059",
     "status": "completed"
    },
    "tags": []
   },
   "outputs": [],
   "source": [
    "boots = []\n",
    "spectra = uvp_cov_fg.get_data(key)\n",
    "for i in range(2000):\n",
    "    _select = np.random.choice(np.arange(spectra.shape[0]), spectra.shape[0], replace=True)\n",
    "    boots.append(np.mean(spectra[_select,:], axis=0))\n",
    "error_tavg_list['boot'] = np.std(np.real(boots), axis=0)"
   ]
  },
  {
   "cell_type": "code",
   "execution_count": 87,
   "id": "b8a89b4d",
   "metadata": {
    "execution": {
     "iopub.execute_input": "2022-03-28T00:46:05.346459Z",
     "iopub.status.busy": "2022-03-28T00:46:05.346042Z",
     "iopub.status.idle": "2022-03-28T00:46:05.347076Z",
     "shell.execute_reply": "2022-03-28T00:46:05.346770Z"
    },
    "papermill": {
     "duration": 0.061032,
     "end_time": "2022-03-28T00:46:05.347157",
     "exception": false,
     "start_time": "2022-03-28T00:46:05.286125",
     "status": "completed"
    },
    "tags": []
   },
   "outputs": [],
   "source": [
    "label_list['boot'] = r\"$\\sigma_\\mathrm{bs}$\"\n",
    "color_list['boot'] = 'indigo'\n",
    "linestyle_list['boot'] = '-.'"
   ]
  },
  {
   "cell_type": "code",
   "execution_count": 88,
   "id": "a1fec1ba",
   "metadata": {
    "execution": {
     "iopub.execute_input": "2022-03-28T00:46:05.464725Z",
     "iopub.status.busy": "2022-03-28T00:46:05.464278Z",
     "iopub.status.idle": "2022-03-28T00:46:05.465345Z",
     "shell.execute_reply": "2022-03-28T00:46:05.465047Z"
    },
    "papermill": {
     "duration": 0.061756,
     "end_time": "2022-03-28T00:46:05.465428",
     "exception": false,
     "start_time": "2022-03-28T00:46:05.403672",
     "status": "completed"
    },
    "tags": []
   },
   "outputs": [],
   "source": [
    "for error_type in error_tavg_list.keys():  \n",
    "    error_tavg_list[error_type] = np.array(error_tavg_list[error_type]).reshape(-1)"
   ]
  },
  {
   "cell_type": "code",
   "execution_count": 89,
   "id": "9ea12653",
   "metadata": {
    "execution": {
     "iopub.execute_input": "2022-03-28T00:46:05.604016Z",
     "iopub.status.busy": "2022-03-28T00:46:05.603588Z",
     "iopub.status.idle": "2022-03-28T00:46:07.583405Z",
     "shell.execute_reply": "2022-03-28T00:46:07.583915Z"
    },
    "papermill": {
     "duration": 2.062117,
     "end_time": "2022-03-28T00:46:07.584038",
     "exception": false,
     "start_time": "2022-03-28T00:46:05.521921",
     "status": "completed"
    },
    "tags": []
   },
   "outputs": [
    {
     "data": {
      "text/plain": [
       "<matplotlib.lines.Line2D at 0x7f761384c280>"
      ]
     },
     "execution_count": 89,
     "metadata": {},
     "output_type": "execute_result"
    },
    {
     "data": {
      "image/png": "[encoded data removed]",
      "text/plain": [
       "<Figure size 1152x1080 with 3 Axes>"
      ]
     },
     "metadata": {
      "needs_background": "light"
     },
     "output_type": "display_data"
    }
   ],
   "source": [
    "fig = plt.figure(figsize=(16,15), constrained_layout=True)\n",
    "gs = fig.add_gridspec(3, 2, wspace=0.02)\n",
    "psunits = uvp_cov_fg.units\n",
    "if \"h^-1\" in psunits: psunits = psunits.replace(\"h^-1\", \"h^{-1}\")\n",
    "if \"h^-3\" in psunits: psunits = psunits.replace(\"h^-3\", \"h^{-3}\")\n",
    "if \"Mpc\" in psunits and \"\\\\rm\" not in psunits: \n",
    "    psunits = psunits.replace(\"Mpc\", r\"{\\rm Mpc}\")\n",
    "if \"pi\" in psunits and \"\\\\pi\" not in psunits: \n",
    "    psunits = psunits.replace(\"pi\", r\"\\pi\")\n",
    "    \n",
    "# Plot different kinds of error bars\n",
    "ax = fig.add_subplot(gs[0,:])\n",
    "ax.plot(dlys[ps_tavg>=0.], ps_tavg[ps_tavg>=0.], \".\", label='power spectra'+ r'$(+)$', c='k', markersize=8, alpha = 0.6)\n",
    "ax.plot(dlys[ps_tavg<0.], np.abs(ps_tavg[ps_tavg<0.]), \".\", fillstyle='none', label='power spectra'+ r'$(-)$', c='k', markersize=8, alpha = 0.6)\n",
    "ax.set_xlim(-3000,3000)\n",
    "for error_type in error_tavg_list.keys():\n",
    "    ax.plot(dlys, error_tavg_list[error_type], ls=linestyle_list[error_type],label=label_list[error_type], c=color_list[error_type], lw=2)\n",
    "error_modified_fg = error_tavg_list['fg']-(np.sqrt(1+1/np.sqrt(np.pi))-1)*error_tavg_list['noise']\n",
    "ax.plot(dlys, error_modified_fg, label=r\"$\\tilde{\\sigma}_\\mathrm{QE-SN}$\", c=\"green\", ls=\"--\", lw=2)\n",
    "ax.set_ylabel(\"$P(k_\\parallel)$ $[%s]$\" % psunits, fontsize=16)\n",
    "#ax.set_xlabel(r\"$\\tau$ $[{\\rm ns}]$\", fontsize=20)\n",
    "ax.set_xticklabels([])\n",
    "ax.tick_params(axis='both', which='both', labelsize=16)\n",
    "ax.xaxis.set_minor_locator(ticker.MultipleLocator(500))\n",
    "ax.semilogy()\n",
    "ax.minorticks_on()\n",
    "ax.yaxis.set_minor_locator(ticker.LogLocator(base=10, subs=[0.2,0.4,0.6,0.8], numticks=20))\n",
    "ax.yaxis.set_minor_formatter(ticker.NullFormatter())\n",
    "ax.grid()\n",
    "ax.legend(loc='upper right', fontsize=14, ncol=3)\n",
    "ax.set_title('Time-averaged power spectra from the HERA Phase I Data', bbox=dict(fc='wheat', alpha=0.5), fontsize=20, pad=15)\n",
    "ax.axvspan(-200, -20, facecolor='#2ca02c', alpha=0.2)\n",
    "ax.axvspan(20, 200, facecolor='#2ca02c', alpha=0.2)\n",
    "\n",
    "ax1 = ax.secondary_xaxis('top', functions=(tau2k_, k2tau_))\n",
    "ax1.tick_params(axis='both', which='both', labelsize=16, direction='out')\n",
    "ax1.xaxis.set_major_locator(ticker.MultipleLocator(1))\n",
    "ax1.xaxis.set_minor_locator(ticker.MultipleLocator(0.2))\n",
    "ax1.set_xlabel(r\"$k_\\parallel [h {\\rm Mpc}^{-1}]$\", fontsize=16)\n",
    "\n",
    "#handles, labels = ax.get_legend_handles_labels()\n",
    "#fig.legend(handles, labels, bbox_to_anchor=(0.53,1.15), loc='upper center', fontsize=14, ncol=3,)\n",
    "#fig.tight_layout()\n",
    "\n",
    "# Plot ratios of different kinds of error bars\n",
    "ax = fig.add_subplot(gs[1,:])\n",
    "for error_type in ['Pdiff','PN','fg','boot']:\n",
    "    ax.plot(dlys, np.abs(error_tavg_list[error_type]/error_tavg_list['noise']-1), ls=linestyle_list[error_type], label=label_list[error_type], c=color_list[error_type], lw=2)\n",
    "ax.plot(dlys, np.abs(error_modified_fg/error_tavg_list['noise']-1), label=r\"$\\tilde{\\sigma}_\\mathrm{QE-SN}$\", c=\"green\", ls=\"--\", lw=2)\n",
    "ax.set_xticklabels([])\n",
    "ax.tick_params(axis='both', which='both', labelsize=16)\n",
    "ax.grid()\n",
    "ax.semilogy()\n",
    "ax.set_ylim(1e-3,1)\n",
    "ax.set_xlim(-3000,3000)\n",
    "ax.set_ylabel(\"abs\" + r\"$\\left(\\frac{\\sigma-\\sigma_{\\rm QE-N}}{\\sigma_{\\rm QE-N}}\\right)$\", fontsize=20)\n",
    "#ax.yaxis.set_minor_locator(MinorSymLogLocator(0.01))\n",
    "#ax.yaxis.set_minor_formatter(ticker.NullFormatter())\n",
    "ax.xaxis.set_minor_locator(ticker.MultipleLocator(500))\n",
    "ax.axvspan(-200, -20, facecolor='#2ca02c', alpha=0.2)\n",
    "ax.axvspan(20, 200, facecolor='#2ca02c', alpha=0.2)\n",
    "ax.axhline(y=0, c='k', lw=3)\n",
    "\n",
    "ax = fig.add_subplot(gs[2,:])\n",
    "for error_type in ['PSN','boot']:\n",
    "    ax.plot(dlys, np.abs(error_tavg_list[error_type]/error_tavg_list['fg']-1), ls=linestyle_list[error_type], label=label_list[error_type], c=color_list[error_type], lw=2)\n",
    "ax.plot(dlys, np.abs(error_modified_fg/error_tavg_list['fg']-1), label=r\"$\\tilde{\\sigma}_\\mathrm{QE-SN}$\", c=\"green\", ls=\"--\", lw=2)\n",
    "ax.set_xlabel(r\"$\\tau$ $[{\\rm ns}]$\", fontsize=16)\n",
    "ax.tick_params(axis='both', which='both', labelsize=16)\n",
    "ax.grid()\n",
    "ax.set_xlim(-3000,3000)\n",
    "ax.semilogy()\n",
    "ax.set_ylim(1e-3,1)\n",
    "ax.xaxis.set_minor_locator(ticker.MultipleLocator(500))\n",
    "ax.set_ylabel(\"abs\" + r\"$\\left(\\frac{\\sigma-\\sigma_{\\rm QE-SN}}{\\sigma_{\\rm QE-SN}}\\right)$\", fontsize=20)\n",
    "ax.axvspan(-200, -20, facecolor='#2ca02c', alpha=0.2)\n",
    "ax.axvspan(20, 200, facecolor='#2ca02c', alpha=0.2)\n",
    "ax.axhline(y=0, c='k', lw=3)"
   ]
  },
  {
   "cell_type": "markdown",
   "id": "40c6f0f2",
   "metadata": {
    "papermill": {
     "duration": 0.059009,
     "end_time": "2022-03-28T00:46:07.703729",
     "exception": false,
     "start_time": "2022-03-28T00:46:07.644720",
     "status": "completed"
    },
    "tags": []
   },
   "source": [
    "#### comparing systematics"
   ]
  },
  {
   "cell_type": "code",
   "execution_count": 90,
   "id": "7882007f",
   "metadata": {
    "execution": {
     "iopub.execute_input": "2022-03-28T00:46:07.873918Z",
     "iopub.status.busy": "2022-03-28T00:46:07.873524Z",
     "iopub.status.idle": "2022-03-28T00:46:13.244368Z",
     "shell.execute_reply": "2022-03-28T00:46:13.245663Z"
    },
    "papermill": {
     "duration": 5.483583,
     "end_time": "2022-03-28T00:46:13.245929",
     "exception": false,
     "start_time": "2022-03-28T00:46:07.762346",
     "status": "completed"
    },
    "tags": []
   },
   "outputs": [],
   "source": [
    "psc = hp.PSpecContainer('pspec_crosstime.h5', keep_open=False)\n",
    "uvp_PX_cov_fg = psc.get_pspec('pI_shortbl', 'dset0_x_dset1')"
   ]
  },
  {
   "cell_type": "code",
   "execution_count": 91,
   "id": "ee1c29e0",
   "metadata": {
    "execution": {
     "iopub.execute_input": "2022-03-28T00:46:13.466444Z",
     "iopub.status.busy": "2022-03-28T00:46:13.466034Z",
     "iopub.status.idle": "2022-03-28T00:46:19.092554Z",
     "shell.execute_reply": "2022-03-28T00:46:19.093819Z"
    },
    "papermill": {
     "duration": 5.730207,
     "end_time": "2022-03-28T00:46:19.094087",
     "exception": false,
     "start_time": "2022-03-28T00:46:13.363880",
     "status": "completed"
    },
    "tags": []
   },
   "outputs": [],
   "source": [
    "# load power spectra\n",
    "psc_ = hp.PSpecContainer('pspec_nulltest.h5', keep_open=False)\n",
    "uvp_PX_cov_n = psc_.get_pspec('pI_shortbl', 'dset0_x_dset1')"
   ]
  },
  {
   "cell_type": "code",
   "execution_count": 92,
   "id": "71ce92da",
   "metadata": {
    "execution": {
     "iopub.execute_input": "2022-03-28T00:46:19.292330Z",
     "iopub.status.busy": "2022-03-28T00:46:19.291840Z",
     "iopub.status.idle": "2022-03-28T00:46:19.293034Z",
     "shell.execute_reply": "2022-03-28T00:46:19.292688Z"
    },
    "papermill": {
     "duration": 0.083711,
     "end_time": "2022-03-28T00:46:19.293126",
     "exception": false,
     "start_time": "2022-03-28T00:46:19.209415",
     "status": "completed"
    },
    "tags": []
   },
   "outputs": [],
   "source": [
    "psc = hp.PSpecContainer('pspec_systematics.h5', keep_open=False)"
   ]
  },
  {
   "cell_type": "code",
   "execution_count": 93,
   "id": "4f1c8537",
   "metadata": {
    "execution": {
     "iopub.execute_input": "2022-03-28T00:46:19.432960Z",
     "iopub.status.busy": "2022-03-28T00:46:19.432558Z",
     "iopub.status.idle": "2022-03-28T00:46:27.436141Z",
     "shell.execute_reply": "2022-03-28T00:46:27.436784Z"
    },
    "papermill": {
     "duration": 8.080724,
     "end_time": "2022-03-28T00:46:27.436926",
     "exception": false,
     "start_time": "2022-03-28T00:46:19.356202",
     "status": "completed"
    },
    "tags": []
   },
   "outputs": [],
   "source": [
    "uvp_P_cov_fg = psc.get_pspec('pI_shortbl_fg_P', 'dset0_x_dset1')\n",
    "uvp_P_cov_n = psc.get_pspec('pI_shortbl_noise_P', 'dset0_x_dset1')"
   ]
  },
  {
   "cell_type": "code",
   "execution_count": 94,
   "id": "494e3079",
   "metadata": {
    "execution": {
     "iopub.execute_input": "2022-03-28T00:46:27.582928Z",
     "iopub.status.busy": "2022-03-28T00:46:27.582537Z",
     "iopub.status.idle": "2022-03-28T00:46:30.002317Z",
     "shell.execute_reply": "2022-03-28T00:46:30.002934Z"
    },
    "papermill": {
     "duration": 2.500144,
     "end_time": "2022-03-28T00:46:30.003066",
     "exception": false,
     "start_time": "2022-03-28T00:46:27.502922",
     "status": "completed"
    },
    "tags": []
   },
   "outputs": [],
   "source": [
    "uvp_PC_cov_fg = psc.get_pspec('pI_shortbl_fg_PC', 'dset0_x_dset1')\n",
    "uvp_PC_cov_n = psc.get_pspec('pI_shortbl_noise_PC', 'dset0_x_dset1')"
   ]
  },
  {
   "cell_type": "code",
   "execution_count": 95,
   "id": "c4450d39",
   "metadata": {
    "execution": {
     "iopub.execute_input": "2022-03-28T00:46:30.147148Z",
     "iopub.status.busy": "2022-03-28T00:46:30.146750Z",
     "iopub.status.idle": "2022-03-28T00:46:42.084709Z",
     "shell.execute_reply": "2022-03-28T00:46:42.086000Z"
    },
    "papermill": {
     "duration": 12.019265,
     "end_time": "2022-03-28T00:46:42.086250",
     "exception": false,
     "start_time": "2022-03-28T00:46:30.066985",
     "status": "completed"
    },
    "tags": []
   },
   "outputs": [],
   "source": [
    "uvp_PXC_cov_fg = psc.get_pspec('pI_shortbl_fg_PXC', 'dset0_x_dset1')\n",
    "uvp_PXC_cov_n = psc.get_pspec('pI_shortbl_noise_PXC', 'dset0_x_dset1')"
   ]
  },
  {
   "cell_type": "markdown",
   "id": "453383f6",
   "metadata": {
    "papermill": {
     "duration": 0.077822,
     "end_time": "2022-03-28T00:46:42.278111",
     "exception": false,
     "start_time": "2022-03-28T00:46:42.200289",
     "status": "completed"
    },
    "tags": []
   },
   "source": [
    "check match in timestamps"
   ]
  },
  {
   "cell_type": "code",
   "execution_count": 96,
   "id": "68c645b2",
   "metadata": {
    "execution": {
     "iopub.execute_input": "2022-03-28T00:46:42.405349Z",
     "iopub.status.busy": "2022-03-28T00:46:42.404884Z",
     "iopub.status.idle": "2022-03-28T00:46:42.406491Z",
     "shell.execute_reply": "2022-03-28T00:46:42.405674Z"
    },
    "papermill": {
     "duration": 0.06521,
     "end_time": "2022-03-28T00:46:42.406576",
     "exception": false,
     "start_time": "2022-03-28T00:46:42.341366",
     "status": "completed"
    },
    "tags": []
   },
   "outputs": [
    {
     "name": "stdout",
     "output_type": "stream",
     "text": [
      "[2.24120314 2.24433583 2.24746853 2.25060122 2.25373391 2.2568666\n",
      " 2.2599993  2.26313199 2.26626468 2.26939738 2.27253007 2.27566276\n",
      " 2.27879546 2.28192815 2.28506084 2.28819354 2.29132623 2.29445892\n",
      " 2.29759161 2.30072431 2.303857   2.30698969 2.31012239 2.31325508\n",
      " 2.31638777 2.31952047 2.32265316 2.32578585 2.32891855 2.33205124]\n"
     ]
    }
   ],
   "source": [
    "print(np.unique(uvp_P_cov_fg.lst_avg_array))"
   ]
  },
  {
   "cell_type": "code",
   "execution_count": 97,
   "id": "42637dfd",
   "metadata": {
    "execution": {
     "iopub.execute_input": "2022-03-28T00:46:42.533386Z",
     "iopub.status.busy": "2022-03-28T00:46:42.532918Z",
     "iopub.status.idle": "2022-03-28T00:46:42.534569Z",
     "shell.execute_reply": "2022-03-28T00:46:42.533721Z"
    },
    "papermill": {
     "duration": 0.066125,
     "end_time": "2022-03-28T00:46:42.534659",
     "exception": false,
     "start_time": "2022-03-28T00:46:42.468534",
     "status": "completed"
    },
    "tags": []
   },
   "outputs": [
    {
     "name": "stdout",
     "output_type": "stream",
     "text": [
      "[2.24120314 2.24433583 2.24746853 2.25060122 2.25373391 2.2568666\n",
      " 2.2599993  2.26313199 2.26626468 2.26939738 2.27253007 2.27566276\n",
      " 2.27879546 2.28192815 2.28506084 2.28819354 2.29132623 2.29445892\n",
      " 2.29759161 2.30072431 2.303857   2.30698969 2.31012239 2.31325508\n",
      " 2.31638777 2.31952047 2.32265316 2.32578585 2.32891855 2.33205124]\n"
     ]
    }
   ],
   "source": [
    "print(np.unique(uvp_PX_cov_fg.lst_avg_array))"
   ]
  },
  {
   "cell_type": "code",
   "execution_count": 98,
   "id": "0aa216f3",
   "metadata": {
    "execution": {
     "iopub.execute_input": "2022-03-28T00:46:42.665522Z",
     "iopub.status.busy": "2022-03-28T00:46:42.665074Z",
     "iopub.status.idle": "2022-03-28T00:46:42.666665Z",
     "shell.execute_reply": "2022-03-28T00:46:42.665862Z"
    },
    "papermill": {
     "duration": 0.067221,
     "end_time": "2022-03-28T00:46:42.666751",
     "exception": false,
     "start_time": "2022-03-28T00:46:42.599530",
     "status": "completed"
    },
    "tags": []
   },
   "outputs": [
    {
     "name": "stdout",
     "output_type": "stream",
     "text": [
      "[2.24120314 2.24433583 2.24746853 2.25060122 2.25373391 2.2568666\n",
      " 2.2599993  2.26313199 2.26626468 2.26939738 2.27253007 2.27566276\n",
      " 2.27879546 2.28192815 2.28506084 2.28819354 2.29132623 2.29445892\n",
      " 2.29759161 2.30072431 2.303857   2.30698969 2.31012239 2.31325508\n",
      " 2.31638777 2.31952047 2.32265316 2.32578585 2.32891855 2.33205124]\n"
     ]
    }
   ],
   "source": [
    "print(np.unique(uvp_PC_cov_fg.lst_avg_array))"
   ]
  },
  {
   "cell_type": "code",
   "execution_count": 99,
   "id": "814707e2",
   "metadata": {
    "execution": {
     "iopub.execute_input": "2022-03-28T00:46:42.794298Z",
     "iopub.status.busy": "2022-03-28T00:46:42.793835Z",
     "iopub.status.idle": "2022-03-28T00:46:42.795458Z",
     "shell.execute_reply": "2022-03-28T00:46:42.794632Z"
    },
    "papermill": {
     "duration": 0.066299,
     "end_time": "2022-03-28T00:46:42.795546",
     "exception": false,
     "start_time": "2022-03-28T00:46:42.729247",
     "status": "completed"
    },
    "tags": []
   },
   "outputs": [
    {
     "name": "stdout",
     "output_type": "stream",
     "text": [
      "[2.24120314 2.24433583 2.24746853 2.25060122 2.25373391 2.2568666\n",
      " 2.2599993  2.26313199 2.26626468 2.26939738 2.27253007 2.27566276\n",
      " 2.27879546 2.28192815 2.28506084 2.28819354 2.29132623 2.29445892\n",
      " 2.29759161 2.30072431 2.303857   2.30698969 2.31012239 2.31325508\n",
      " 2.31638777 2.31952047 2.32265316 2.32578585 2.32891855 2.33205124]\n"
     ]
    }
   ],
   "source": [
    "print(np.unique(uvp_PXC_cov_fg.lst_avg_array))"
   ]
  },
  {
   "cell_type": "markdown",
   "id": "2dbb819e",
   "metadata": {
    "papermill": {
     "duration": 0.060138,
     "end_time": "2022-03-28T00:46:42.918829",
     "exception": false,
     "start_time": "2022-03-28T00:46:42.858691",
     "status": "completed"
    },
    "tags": []
   },
   "source": [
    "#### inpainted data"
   ]
  },
  {
   "cell_type": "code",
   "execution_count": 100,
   "id": "585e1072",
   "metadata": {
    "execution": {
     "iopub.execute_input": "2022-03-28T00:46:43.064967Z",
     "iopub.status.busy": "2022-03-28T00:46:43.064565Z",
     "iopub.status.idle": "2022-03-28T00:50:20.557194Z",
     "shell.execute_reply": "2022-03-28T00:50:20.557704Z"
    },
    "papermill": {
     "duration": 217.57888,
     "end_time": "2022-03-28T00:50:20.557824",
     "exception": false,
     "start_time": "2022-03-28T00:46:42.978944",
     "status": "completed"
    },
    "tags": []
   },
   "outputs": [
    {
     "name": "stdout",
     "output_type": "stream",
     "text": [
      "beyond 3sigma 0.0 Gauss 0.0024281159983347896 Laplacian 0.013579845438731237\n"
     ]
    },
    {
     "name": "stderr",
     "output_type": "stream",
     "text": [
      "FixedFormatter should only be used together with FixedLocator\n"
     ]
    },
    {
     "name": "stdout",
     "output_type": "stream",
     "text": [
      "beyond 3sigma 0.0 Gauss 0.0024281159983348603 Laplacian 0.005949097443402376\n"
     ]
    },
    {
     "name": "stderr",
     "output_type": "stream",
     "text": [
      "FixedFormatter should only be used together with FixedLocator\n"
     ]
    },
    {
     "name": "stdout",
     "output_type": "stream",
     "text": [
      "beyond 3sigma 0.0 Gauss 0.00242811599833496 Laplacian 0.004153624969719853\n",
      "30084\n"
     ]
    },
    {
     "name": "stderr",
     "output_type": "stream",
     "text": [
      "FixedFormatter should only be used together with FixedLocator\n"
     ]
    },
    {
     "data": {
      "image/png": "[encoded data removed]",
      "text/plain": [
       "<Figure size 1440x432 with 3 Axes>"
      ]
     },
     "metadata": {
      "needs_background": "light"
     },
     "output_type": "display_data"
    }
   ],
   "source": [
    "# used in paper\n",
    "# A larger window (2000), with normalization\n",
    "uvp_plot = uvp_P_cov_n\n",
    "num_time_samples_list = [1,5,15]\n",
    "ylim = (5*1e-13,1e-9)\n",
    "dlys = uvp_plot.get_dlys(0) * 1e9\n",
    "delay_args = np.append(np.argwhere(dlys< -2000), np.argwhere(dlys> 2000))\n",
    "suptitle = \"Inpainted HERA Phase I Data, \"+r\"$|\\tau|>2000 {\\rm ns}$\"\n",
    "\n",
    "fig, axes = plt.subplots(figsize=(20,6), ncols=3, nrows=1)\n",
    "for ax_idx, num_time_samples in enumerate(num_time_samples_list):\n",
    "    col_idx = ax_idx%3\n",
    "    times = np.arange(num_time_samples)\n",
    "   \n",
    "    # Get all keys\n",
    "    keys = uvp_plot.get_all_keys()\n",
    "    blpt_weights = np.array([[1. for item in times] for key in keys])\n",
    "    ps_real_time_avg = []\n",
    "    for dly in delay_args:\n",
    "        ps = np.array([[uvp_plot.get_data(key)[time, dly]*uvp_plot.get_stats(\"autos_diag\", keys[0])[time,0].real\\\n",
    "                        /uvp_plot.get_stats(\"autos_diag\", key)[time, dly].real for time in times] for key in keys])\n",
    "        ps_real_time_avg.extend((np.sum(ps.real*blpt_weights, axis=1)/np.sum(blpt_weights, axis=1).clip(1e-10, np.inf)).flatten())\n",
    "    ps_real_time_avg = np.array(ps_real_time_avg) - np.mean(ps_real_time_avg)\n",
    "    # The ratio of error bars to the original one\n",
    "    psunits = uvp_plot.units\n",
    "    if \"h^-1\" in psunits: psunits = psunits.replace(\"h^-1\", \"h^{-1}\")\n",
    "    if \"h^-3\" in psunits: psunits = psunits.replace(\"h^-3\", \"h^{-3}\")\n",
    "    if \"Mpc\" in psunits and \"\\\\rm\" not in psunits: \n",
    "        psunits = psunits.replace(\"Mpc\", r\"{\\rm Mpc}\")\n",
    "    if \"pi\" in psunits and \"\\\\pi\" not in psunits: \n",
    "        psunits = psunits.replace(\"pi\", r\"\\pi\")\n",
    "    \n",
    "    ax = axes[col_idx]\n",
    "    Lap_sigma_list = np.zeros(num_time_samples)\n",
    "    for time in times:\n",
    "        Lap_sigma_list[time] = uvp_plot.get_stats(\"autos_diag\", keys[0])[time, 0].real \n",
    "    Gauss_sigma = np.sqrt(np.sum(Lap_sigma_list**2))/num_time_samples\n",
    "    vlim = 6*Gauss_sigma\n",
    "    n_in_bins, bins_edge, _ = ax.hist(ps_real_time_avg, log=True, density=True, bins=61, range=(-vlim, vlim), alpha=0.75,\n",
    "                           color='pink')\n",
    "    ax.set_xlim(-vlim, vlim)\n",
    "    ax.set_ylim(*ylim)\n",
    "    \n",
    "    px = np.linspace(-vlim, vlim, 100)\n",
    "    Lap_curve = np.zeros_like(px)\n",
    "    normalized_factor = 0\n",
    "    for time in times:\n",
    "        scale_factor = 1\n",
    "        for time_ in times:\n",
    "            if time_ != time:\n",
    "                scale_factor *= Lap_sigma_list[time]**2/(Lap_sigma_list[time]**2-Lap_sigma_list[time_]**2)\n",
    "        normalized_factor += scale_factor   \n",
    "        Lap_curve += np.exp(-np.sqrt(2)*np.abs(px)/Lap_sigma_list[time]*num_time_samples)/np.sqrt(2)/Lap_sigma_list[time]*num_time_samples*scale_factor\n",
    "    \n",
    "    # Calculate the equivalent Gaussian pdf\n",
    "    Gauss_curve = np.exp(-px**2/2/Gauss_sigma**2)/np.sqrt(2*np.pi*Gauss_sigma**2)\n",
    "    \n",
    "    if np.isclose(normalized_factor,1,rtol=5e-1):\n",
    "        ax.plot(px, Lap_curve, ls='-', lw=2, label=\"Sum of Laplacians\", c='cyan')\n",
    "    ax.plot(px, Gauss_curve, ls='--', lw=2, label='Gaussian', c='slategrey')\n",
    "    bins_center = (bins_edge[1:] + bins_edge[0:-1])/2\n",
    "    outlier_3sigma = (np.sum(n_in_bins)-np.sum(n_in_bins[(-3*Gauss_sigma<=bins_center)*(bins_center<=3*Gauss_sigma)]))/np.sum(n_in_bins)\n",
    "    print(\"beyond 3sigma {}\".format(outlier_3sigma), \\\n",
    "          \"Gauss {}\".format((np.sum(Gauss_curve)-np.sum(Gauss_curve[(-3*Gauss_sigma<=px)*(px<=3*Gauss_sigma)]))/np.sum(Gauss_curve)), \\\n",
    "          \"Laplacian {}\".format((np.sum(Lap_curve)-np.sum(Lap_curve[(-3*Gauss_sigma<=px)*(px<=3*Gauss_sigma)]))/np.sum(Lap_curve)))\n",
    "    \n",
    "    # confidence interval\n",
    "    ax.axvline(x=3*Gauss_sigma, c='k', lw=1, ls=':')\n",
    "    ax.axvline(x=-3*Gauss_sigma, c='k', lw=1, ls=':')\n",
    "    ax.axvline(x=5*Gauss_sigma, c='navy', lw=1, ls=':')\n",
    "    ax.axvline(x=-5*Gauss_sigma, c='navy', lw=1, ls=':')\n",
    "    if ax_idx == 0:\n",
    "        ax.text(2.2*Gauss_sigma, 9*1e-12, r'$3 \\sigma$', ha=\"center\", va=\"center\", rotation=0,\n",
    "            fontsize=14,\n",
    "            bbox=dict(boxstyle=\"rarrow\", fc=\"green\", alpha=0.5))\n",
    "        ax.text(4.2*Gauss_sigma, 1e-10, r'$5 \\sigma$', ha=\"center\", va=\"center\", rotation=0,\n",
    "            fontsize=14,\n",
    "            bbox=dict(boxstyle=\"rarrow\", fc=\"green\", alpha=0.5))\n",
    "        ax.text(-2.2*Gauss_sigma, 9*1e-12, r'$3 \\sigma$', ha=\"center\", va=\"center\", rotation=0,\n",
    "            fontsize=14,\n",
    "            bbox=dict(boxstyle=\"larrow\", fc=\"green\", alpha=0.5))\n",
    "        ax.text(-4.2*Gauss_sigma, 1e-10, r'$5 \\sigma$', ha=\"center\", va=\"center\", rotation=0,\n",
    "            fontsize=14,\n",
    "            bbox=dict(boxstyle=\"larrow\", fc=\"green\", alpha=0.5))\n",
    "    \n",
    "    ax.tick_params(which='both', labelsize=16, length=3, width=0.5)\n",
    "    ax.xaxis.set_minor_locator(ticker.MultipleLocator(1e9))\n",
    "    xticks = ax.get_xticks()\n",
    "    ax.set_xticklabels(xticks/1e10)\n",
    "    ax.set_xlabel(\"$P(k_\\parallel)$ $[\\\\times 10^{10}\\,%s]$\" % psunits, fontsize=16)\n",
    "    if col_idx == 0: \n",
    "        ax.set_ylabel(\"pdf\", fontsize=16)\n",
    "    if ax_idx == 0:\n",
    "        ax.legend(loc='lower right', fontsize=14)\n",
    "    ax.set_title(\"Average over \\n{} timestamp(s)\".format(num_time_samples),bbox=dict(fc='wheat', alpha=0.5), fontsize=16, pad=15)\n",
    "fig.subplots_adjust(top=0.8)\n",
    "fig.suptitle(suptitle, fontsize=20, bbox=dict(fc='gold', alpha=0.5), x=0.5, y=0.99)\n",
    "print(len(uvp_plot.get_all_keys())*len(delay_args))"
   ]
  },
  {
   "cell_type": "code",
   "execution_count": 101,
   "id": "ed2779f9",
   "metadata": {
    "execution": {
     "iopub.execute_input": "2022-03-28T00:50:20.709998Z",
     "iopub.status.busy": "2022-03-28T00:50:20.709570Z",
     "iopub.status.idle": "2022-03-28T00:51:36.599622Z",
     "shell.execute_reply": "2022-03-28T00:51:36.600140Z"
    },
    "papermill": {
     "duration": 75.978514,
     "end_time": "2022-03-28T00:51:36.600259",
     "exception": false,
     "start_time": "2022-03-28T00:50:20.621745",
     "status": "completed"
    },
    "tags": []
   },
   "outputs": [
    {
     "name": "stdout",
     "output_type": "stream",
     "text": [
      "beyond 3sigma 0.0 Gauss 0.0024281159983347896 Laplacian 0.013579845438731237\n"
     ]
    },
    {
     "name": "stderr",
     "output_type": "stream",
     "text": [
      "FixedFormatter should only be used together with FixedLocator\n"
     ]
    },
    {
     "name": "stdout",
     "output_type": "stream",
     "text": [
      "beyond 3sigma 0.0 Gauss 0.0024281159983348603 Laplacian 0.005949097443402376\n"
     ]
    },
    {
     "name": "stderr",
     "output_type": "stream",
     "text": [
      "FixedFormatter should only be used together with FixedLocator\n"
     ]
    },
    {
     "name": "stdout",
     "output_type": "stream",
     "text": [
      "beyond 3sigma 0.0 Gauss 0.00242811599833496 Laplacian 0.004153624969719853\n",
      "9936\n"
     ]
    },
    {
     "name": "stderr",
     "output_type": "stream",
     "text": [
      "FixedFormatter should only be used together with FixedLocator\n"
     ]
    },
    {
     "data": {
      "image/png": "[encoded data removed]",
      "text/plain": [
       "<Figure size 1440x432 with 3 Axes>"
      ]
     },
     "metadata": {
      "needs_background": "light"
     },
     "output_type": "display_data"
    }
   ],
   "source": [
    "# used in paper\n",
    "# A larger window (500-1500), with normalization\n",
    "uvp_plot = uvp_P_cov_n\n",
    "num_time_samples_list = [1,5,15]\n",
    "ylim = (5*1e-13,1e-9)\n",
    "dlys = uvp_plot.get_dlys(0) * 1e9\n",
    "delay_args = np.append(np.argwhere((dlys< -500)*(dlys>-1500)), np.argwhere((dlys< 1500)*(dlys>500)))\n",
    "suptitle = \"Inpainted HERA Phase I Data, \" + r\"$500\\,{\\rm ns}<|\\tau|<1500\\,{\\rm ns}$\"\n",
    "\n",
    "fig, axes = plt.subplots(figsize=(20,6), ncols=3, nrows=1)\n",
    "for ax_idx, num_time_samples in enumerate(num_time_samples_list):\n",
    "    col_idx = ax_idx%3\n",
    "    times = np.arange(num_time_samples)\n",
    "   \n",
    "    # Get all keys\n",
    "    keys = uvp_plot.get_all_keys()\n",
    "    blpt_weights = np.array([[1. for item in times] for key in keys])\n",
    "    ps_real_time_avg = []\n",
    "    for dly in delay_args:\n",
    "        ps = np.array([[uvp_plot.get_data(key)[time, dly]*uvp_plot.get_stats(\"autos_diag\", keys[0])[time,0].real\\\n",
    "                        /uvp_plot.get_stats(\"autos_diag\", key)[time, dly].real for time in times] for key in keys])\n",
    "        ps_real_time_avg.extend((np.sum(ps.real*blpt_weights, axis=1)/np.sum(blpt_weights, axis=1).clip(1e-10, np.inf)).flatten())\n",
    "    ps_real_time_avg = np.array(ps_real_time_avg) - np.mean(ps_real_time_avg)\n",
    "    # The ratio of error bars to the original one\n",
    "    psunits = uvp_plot.units\n",
    "    if \"h^-1\" in psunits: psunits = psunits.replace(\"h^-1\", \"h^{-1}\")\n",
    "    if \"h^-3\" in psunits: psunits = psunits.replace(\"h^-3\", \"h^{-3}\")\n",
    "    if \"Mpc\" in psunits and \"\\\\rm\" not in psunits: \n",
    "        psunits = psunits.replace(\"Mpc\", r\"{\\rm Mpc}\")\n",
    "    if \"pi\" in psunits and \"\\\\pi\" not in psunits: \n",
    "        psunits = psunits.replace(\"pi\", r\"\\pi\")\n",
    "    \n",
    "    ax = axes[col_idx]\n",
    "    Lap_sigma_list = np.zeros(num_time_samples)\n",
    "    for time in times:\n",
    "        Lap_sigma_list[time] = uvp_plot.get_stats(\"autos_diag\", keys[0])[time, 0].real \n",
    "    Gauss_sigma = np.sqrt(np.sum(Lap_sigma_list**2))/num_time_samples\n",
    "    vlim = 6*Gauss_sigma\n",
    "    n_in_bins, bins_edge, _ = ax.hist(ps_real_time_avg, log=True, density=True, bins=61, range=(-vlim, vlim), alpha=0.75,\n",
    "                           color='pink')\n",
    "    ax.set_xlim(-vlim, vlim)\n",
    "    ax.set_ylim(*ylim)\n",
    "    \n",
    "    px = np.linspace(-vlim, vlim, 100)\n",
    "    Lap_curve = np.zeros_like(px)\n",
    "    normalized_factor = 0\n",
    "    for time in times:\n",
    "        scale_factor = 1\n",
    "        for time_ in times:\n",
    "            if time_ != time:\n",
    "                scale_factor *= Lap_sigma_list[time]**2/(Lap_sigma_list[time]**2-Lap_sigma_list[time_]**2)\n",
    "        normalized_factor += scale_factor   \n",
    "        Lap_curve += np.exp(-np.sqrt(2)*np.abs(px)/Lap_sigma_list[time]*num_time_samples)/np.sqrt(2)/Lap_sigma_list[time]*num_time_samples*scale_factor\n",
    "    \n",
    "    # Calculate the equivalent Gaussian pdf\n",
    "    Gauss_curve = np.exp(-px**2/2/Gauss_sigma**2)/np.sqrt(2*np.pi*Gauss_sigma**2)\n",
    "    \n",
    "    if np.isclose(normalized_factor,1,rtol=5e-1):\n",
    "        ax.plot(px, Lap_curve, ls='-', lw=2, label=\"Sum of Laplacians\", c='cyan')\n",
    "    ax.plot(px, Gauss_curve, ls='--', lw=2, label='Gaussian', c='slategrey')\n",
    "    bins_center = (bins_edge[1:] + bins_edge[0:-1])/2\n",
    "    outlier_3sigma = (np.sum(n_in_bins)-np.sum(n_in_bins[(-3*Gauss_sigma<=bins_center)*(bins_center<=3*Gauss_sigma)]))/np.sum(n_in_bins)\n",
    "    print(\"beyond 3sigma {}\".format(outlier_3sigma), \\\n",
    "          \"Gauss {}\".format((np.sum(Gauss_curve)-np.sum(Gauss_curve[(-3*Gauss_sigma<=px)*(px<=3*Gauss_sigma)]))/np.sum(Gauss_curve)), \\\n",
    "          \"Laplacian {}\".format((np.sum(Lap_curve)-np.sum(Lap_curve[(-3*Gauss_sigma<=px)*(px<=3*Gauss_sigma)]))/np.sum(Lap_curve)))\n",
    "    # confidence interval\n",
    "    ax.axvline(x=3*Gauss_sigma, c='k', lw=1, ls=':')\n",
    "    ax.axvline(x=-3*Gauss_sigma, c='k', lw=1, ls=':')\n",
    "    ax.axvline(x=5*Gauss_sigma, c='navy', lw=1, ls=':')\n",
    "    ax.axvline(x=-5*Gauss_sigma, c='navy', lw=1, ls=':')\n",
    "    if ax_idx == 0:\n",
    "        ax.text(2.2*Gauss_sigma, 9*1e-12, r'$3 \\sigma$', ha=\"center\", va=\"center\", rotation=0,\n",
    "            fontsize=14,\n",
    "            bbox=dict(boxstyle=\"rarrow\", fc=\"green\", alpha=0.5))\n",
    "        ax.text(4.2*Gauss_sigma, 1e-10, r'$5 \\sigma$', ha=\"center\", va=\"center\", rotation=0,\n",
    "            fontsize=14,\n",
    "            bbox=dict(boxstyle=\"rarrow\", fc=\"green\", alpha=0.5))\n",
    "        ax.text(-2.2*Gauss_sigma, 9*1e-12, r'$3 \\sigma$', ha=\"center\", va=\"center\", rotation=0,\n",
    "            fontsize=14,\n",
    "            bbox=dict(boxstyle=\"larrow\", fc=\"green\", alpha=0.5))\n",
    "        ax.text(-4.2*Gauss_sigma, 1e-10, r'$5 \\sigma$', ha=\"center\", va=\"center\", rotation=0,\n",
    "            fontsize=14,\n",
    "            bbox=dict(boxstyle=\"larrow\", fc=\"green\", alpha=0.5))\n",
    "    \n",
    "    ax.tick_params(which='both', labelsize=16, length=3, width=0.5)\n",
    "    ax.xaxis.set_minor_locator(ticker.MultipleLocator(1e9))\n",
    "    xticks = ax.get_xticks()\n",
    "    ax.set_xticklabels(xticks/1e10)\n",
    "    ax.set_xlabel(\"$P(k_\\parallel)$ $[\\\\times 10^{10}\\,%s]$\" % psunits, fontsize=16)\n",
    "    if col_idx == 0: \n",
    "        ax.set_ylabel(\"pdf\", fontsize=16)\n",
    "    if ax_idx == 0:\n",
    "        ax.legend(loc='lower right', fontsize=14)\n",
    "    ax.set_title(\"Average over \\n{} timestamp(s)\".format(num_time_samples),bbox=dict(fc='wheat', alpha=0.5), fontsize=16, pad=15)\n",
    "fig.subplots_adjust(top=0.8)\n",
    "fig.suptitle(suptitle, fontsize=20, bbox=dict(fc='gold', alpha=0.5), x=0.5, y=0.99)\n",
    "print(len(uvp_plot.get_all_keys())*len(delay_args))"
   ]
  },
  {
   "cell_type": "markdown",
   "id": "58b0d654",
   "metadata": {
    "papermill": {
     "duration": 0.065918,
     "end_time": "2022-03-28T00:51:36.732592",
     "exception": false,
     "start_time": "2022-03-28T00:51:36.666674",
     "status": "completed"
    },
    "tags": []
   },
   "source": [
    "#### inpainted + reflection"
   ]
  },
  {
   "cell_type": "code",
   "execution_count": 102,
   "id": "52d42f6b",
   "metadata": {
    "execution": {
     "iopub.execute_input": "2022-03-28T00:51:36.903854Z",
     "iopub.status.busy": "2022-03-28T00:51:36.903413Z",
     "iopub.status.idle": "2022-03-28T00:55:15.474626Z",
     "shell.execute_reply": "2022-03-28T00:55:15.475150Z"
    },
    "papermill": {
     "duration": 218.663352,
     "end_time": "2022-03-28T00:55:15.475271",
     "exception": false,
     "start_time": "2022-03-28T00:51:36.811919",
     "status": "completed"
    },
    "tags": []
   },
   "outputs": [
    {
     "name": "stdout",
     "output_type": "stream",
     "text": [
      "beyond 3sigma 0.0\n"
     ]
    },
    {
     "name": "stderr",
     "output_type": "stream",
     "text": [
      "FixedFormatter should only be used together with FixedLocator\n"
     ]
    },
    {
     "name": "stdout",
     "output_type": "stream",
     "text": [
      "beyond 3sigma 0.0\n"
     ]
    },
    {
     "name": "stderr",
     "output_type": "stream",
     "text": [
      "FixedFormatter should only be used together with FixedLocator\n"
     ]
    },
    {
     "name": "stdout",
     "output_type": "stream",
     "text": [
      "beyond 3sigma 0.0\n",
      "30084\n"
     ]
    },
    {
     "name": "stderr",
     "output_type": "stream",
     "text": [
      "FixedFormatter should only be used together with FixedLocator\n"
     ]
    },
    {
     "data": {
      "image/png": "[encoded data removed]",
      "text/plain": [
       "<Figure size 1440x432 with 3 Axes>"
      ]
     },
     "metadata": {
      "needs_background": "light"
     },
     "output_type": "display_data"
    }
   ],
   "source": [
    "# used in paper\n",
    "# A larger window (2000), with normalization\n",
    "uvp_plot = uvp_PC_cov_n\n",
    "num_time_samples_list = [1,5,15]\n",
    "ylim = (5*1e-13,1e-9)\n",
    "dlys = uvp_plot.get_dlys(0) * 1e9\n",
    "delay_args = np.append(np.argwhere(dlys< -2000), np.argwhere(dlys> 2000))\n",
    "suptitle = \"Inpainted+cable reflection removed, \"+r\"$|\\tau|>2000 {\\rm ns}$\"\n",
    "\n",
    "fig, axes = plt.subplots(figsize=(20,6), ncols=3, nrows=1)\n",
    "for ax_idx, num_time_samples in enumerate(num_time_samples_list):\n",
    "    col_idx = ax_idx%3\n",
    "    times = np.arange(num_time_samples)\n",
    "   \n",
    "    # Get all keys\n",
    "    keys = uvp_plot.get_all_keys()\n",
    "    blpt_weights = np.array([[1. for item in times] for key in keys])\n",
    "    ps_real_time_avg = []\n",
    "    for dly in delay_args:\n",
    "        ps = np.array([[uvp_plot.get_data(key)[time, dly]*uvp_plot.get_stats(\"autos_diag\", keys[0])[time,0].real\\\n",
    "                        /uvp_plot.get_stats(\"autos_diag\", key)[time, dly].real for time in times] for key in keys])\n",
    "        ps_real_time_avg.extend((np.sum(ps.real*blpt_weights, axis=1)/np.sum(blpt_weights, axis=1).clip(1e-10, np.inf)).flatten())\n",
    "    ps_real_time_avg = np.array(ps_real_time_avg) - np.mean(ps_real_time_avg)\n",
    "    # The ratio of error bars to the original one\n",
    "    psunits = uvp_plot.units\n",
    "    if \"h^-1\" in psunits: psunits = psunits.replace(\"h^-1\", \"h^{-1}\")\n",
    "    if \"h^-3\" in psunits: psunits = psunits.replace(\"h^-3\", \"h^{-3}\")\n",
    "    if \"Mpc\" in psunits and \"\\\\rm\" not in psunits: \n",
    "        psunits = psunits.replace(\"Mpc\", r\"{\\rm Mpc}\")\n",
    "    if \"pi\" in psunits and \"\\\\pi\" not in psunits: \n",
    "        psunits = psunits.replace(\"pi\", r\"\\pi\")\n",
    "    \n",
    "    ax = axes[col_idx]\n",
    "    Lap_sigma_list = np.zeros(num_time_samples)\n",
    "    for time in times:\n",
    "        Lap_sigma_list[time] = uvp_plot.get_stats(\"autos_diag\", keys[0])[time, 0].real \n",
    "    Gauss_sigma = np.sqrt(np.sum(Lap_sigma_list**2))/num_time_samples\n",
    "    vlim = 6*Gauss_sigma\n",
    "    n_in_bins, bins_edge, _ = ax.hist(ps_real_time_avg, log=True, density=True, bins=61, range=(-vlim, vlim), alpha=0.75,\n",
    "                           color='pink')\n",
    "    ax.set_xlim(-vlim, vlim)\n",
    "    ax.set_ylim(*ylim)\n",
    "    \n",
    "    px = np.linspace(-vlim, vlim, 100)\n",
    "    Lap_curve = np.zeros_like(px)\n",
    "    normalized_factor = 0\n",
    "    for time in times:\n",
    "        scale_factor = 1\n",
    "        for time_ in times:\n",
    "            if time_ != time:\n",
    "                scale_factor *= Lap_sigma_list[time]**2/(Lap_sigma_list[time]**2-Lap_sigma_list[time_]**2)\n",
    "        normalized_factor += scale_factor   \n",
    "        Lap_curve += np.exp(-np.sqrt(2)*np.abs(px)/Lap_sigma_list[time]*num_time_samples)/np.sqrt(2)/Lap_sigma_list[time]*num_time_samples*scale_factor\n",
    "    \n",
    "    # Calculate the equivalent Gaussian pdf\n",
    "    Gauss_curve = np.exp(-px**2/2/Gauss_sigma**2)/np.sqrt(2*np.pi*Gauss_sigma**2)\n",
    "    \n",
    "    if np.isclose(normalized_factor,1,rtol=5e-1):\n",
    "        ax.plot(px, Lap_curve, ls='-', lw=2, label=\"Sum of Laplacian\", c='cyan')\n",
    "    ax.plot(px, Gauss_curve, ls='--', lw=2, label='Gaussian', c='slategrey')\n",
    "    bins_center = (bins_edge[1:] + bins_edge[0:-1])/2\n",
    "    outlier_3sigma = (np.sum(n_in_bins)-np.sum(n_in_bins[(-3*Gauss_sigma<=bins_center)*(bins_center<=3*Gauss_sigma)]))/np.sum(n_in_bins)\n",
    "    print(\"beyond 3sigma {}\".format(outlier_3sigma))\n",
    "    \n",
    "    # confidence interval\n",
    "    ax.axvline(x=3*Gauss_sigma, c='k', lw=1, ls=':')\n",
    "    ax.axvline(x=-3*Gauss_sigma, c='k', lw=1, ls=':')\n",
    "    ax.axvline(x=5*Gauss_sigma, c='navy', lw=1, ls=':')\n",
    "    ax.axvline(x=-5*Gauss_sigma, c='navy', lw=1, ls=':')\n",
    "    if ax_idx == 0:\n",
    "        ax.text(2.2*Gauss_sigma, 9*1e-12, r'$3 \\sigma$', ha=\"center\", va=\"center\", rotation=0,\n",
    "            fontsize=14,\n",
    "            bbox=dict(boxstyle=\"rarrow\", fc=\"green\", alpha=0.5))\n",
    "        ax.text(4.2*Gauss_sigma, 1e-10, r'$5 \\sigma$', ha=\"center\", va=\"center\", rotation=0,\n",
    "            fontsize=14,\n",
    "            bbox=dict(boxstyle=\"rarrow\", fc=\"green\", alpha=0.5))\n",
    "        ax.text(-2.2*Gauss_sigma, 9*1e-12, r'$3 \\sigma$', ha=\"center\", va=\"center\", rotation=0,\n",
    "            fontsize=14,\n",
    "            bbox=dict(boxstyle=\"larrow\", fc=\"green\", alpha=0.5))\n",
    "        ax.text(-4.2*Gauss_sigma, 1e-10, r'$5 \\sigma$', ha=\"center\", va=\"center\", rotation=0,\n",
    "            fontsize=14,\n",
    "            bbox=dict(boxstyle=\"larrow\", fc=\"green\", alpha=0.5))\n",
    "    \n",
    "    ax.tick_params(which='both', labelsize=16, length=3, width=0.5)\n",
    "    ax.xaxis.set_minor_locator(ticker.MultipleLocator(1e9))\n",
    "    xticks = ax.get_xticks()\n",
    "    ax.set_xticklabels(xticks/1e10)\n",
    "    ax.set_xlabel(\"$P(k_\\parallel)$ $[\\\\times 10^{10}\\,%s]$\" % psunits, fontsize=16)\n",
    "    if col_idx == 0: \n",
    "        ax.set_ylabel(\"pdf\", fontsize=16)\n",
    "    if ax_idx == 0:\n",
    "        ax.legend(loc='lower right', fontsize=14)\n",
    "    ax.set_title(\"Average over \\n{} timestamp(s)\".format(num_time_samples),bbox=dict(fc='wheat', alpha=0.5), fontsize=16, pad=15)\n",
    "fig.subplots_adjust(top=0.8)\n",
    "fig.suptitle(suptitle, fontsize=20, bbox=dict(fc='gold', alpha=0.5), x=0.5, y=0.99)\n",
    "print(len(uvp_plot.get_all_keys())*len(delay_args))"
   ]
  },
  {
   "cell_type": "code",
   "execution_count": 103,
   "id": "f09b48d2",
   "metadata": {
    "execution": {
     "iopub.execute_input": "2022-03-28T00:55:15.658017Z",
     "iopub.status.busy": "2022-03-28T00:55:15.657582Z",
     "iopub.status.idle": "2022-03-28T00:56:30.877472Z",
     "shell.execute_reply": "2022-03-28T00:56:30.878024Z"
    },
    "papermill": {
     "duration": 75.315514,
     "end_time": "2022-03-28T00:56:30.878148",
     "exception": false,
     "start_time": "2022-03-28T00:55:15.562634",
     "status": "completed"
    },
    "tags": []
   },
   "outputs": [
    {
     "name": "stderr",
     "output_type": "stream",
     "text": [
      "FixedFormatter should only be used together with FixedLocator\n"
     ]
    },
    {
     "name": "stderr",
     "output_type": "stream",
     "text": [
      "FixedFormatter should only be used together with FixedLocator\n"
     ]
    },
    {
     "name": "stderr",
     "output_type": "stream",
     "text": [
      "FixedFormatter should only be used together with FixedLocator\n"
     ]
    },
    {
     "name": "stdout",
     "output_type": "stream",
     "text": [
      "9936\n"
     ]
    },
    {
     "data": {
      "image/png": "[encoded data removed]",
      "text/plain": [
       "<Figure size 1440x432 with 3 Axes>"
      ]
     },
     "metadata": {
      "needs_background": "light"
     },
     "output_type": "display_data"
    }
   ],
   "source": [
    "# used in paper\n",
    "# A larger window (500-1500), with normalization\n",
    "uvp_plot = uvp_PC_cov_n\n",
    "num_time_samples_list = [1,5,15]\n",
    "ylim = (5*1e-13,1e-9)\n",
    "dlys = uvp_plot.get_dlys(0) * 1e9\n",
    "delay_args = np.append(np.argwhere((dlys< -500)*(dlys>-1500)), np.argwhere((dlys< 1500)*(dlys>500)))\n",
    "suptitle = \"Inpainted+cable reflection removed, \" + r\"$500\\,{\\rm ns}<|\\tau|<1500\\,{\\rm ns}$\"\n",
    "\n",
    "fig, axes = plt.subplots(figsize=(20,6), ncols=3, nrows=1)\n",
    "for ax_idx, num_time_samples in enumerate(num_time_samples_list):\n",
    "    col_idx = ax_idx%3\n",
    "    times = np.arange(num_time_samples)\n",
    "   \n",
    "    # Get all keys\n",
    "    keys = uvp_plot.get_all_keys()\n",
    "    blpt_weights = np.array([[1. for item in times] for key in keys])\n",
    "    ps_real_time_avg = []\n",
    "    for dly in delay_args:\n",
    "        ps = np.array([[uvp_plot.get_data(key)[time, dly]*uvp_plot.get_stats(\"autos_diag\", keys[0])[time,0].real\\\n",
    "                        /uvp_plot.get_stats(\"autos_diag\", key)[time, dly].real for time in times] for key in keys])\n",
    "        ps_real_time_avg.extend((np.sum(ps.real*blpt_weights, axis=1)/np.sum(blpt_weights, axis=1).clip(1e-10, np.inf)).flatten())\n",
    "    ps_real_time_avg = np.array(ps_real_time_avg) - np.mean(ps_real_time_avg)\n",
    "    # The ratio of error bars to the original one\n",
    "    psunits = uvp_plot.units\n",
    "    if \"h^-1\" in psunits: psunits = psunits.replace(\"h^-1\", \"h^{-1}\")\n",
    "    if \"h^-3\" in psunits: psunits = psunits.replace(\"h^-3\", \"h^{-3}\")\n",
    "    if \"Mpc\" in psunits and \"\\\\rm\" not in psunits: \n",
    "        psunits = psunits.replace(\"Mpc\", r\"{\\rm Mpc}\")\n",
    "    if \"pi\" in psunits and \"\\\\pi\" not in psunits: \n",
    "        psunits = psunits.replace(\"pi\", r\"\\pi\")\n",
    "    \n",
    "    ax = axes[col_idx]\n",
    "    Lap_sigma_list = np.zeros(num_time_samples)\n",
    "    for time in times:\n",
    "        Lap_sigma_list[time] = uvp_plot.get_stats(\"autos_diag\", keys[0])[time, 0].real \n",
    "    Gauss_sigma = np.sqrt(np.sum(Lap_sigma_list**2))/num_time_samples\n",
    "    vlim = 6*Gauss_sigma\n",
    "    n_in_bins, bins_edge, _ = ax.hist(ps_real_time_avg, log=True, density=True, bins=61, range=(-vlim, vlim), alpha=0.75,\n",
    "                           color='pink')\n",
    "    ax.set_xlim(-vlim, vlim)\n",
    "    ax.set_ylim(*ylim)\n",
    "    \n",
    "    px = np.linspace(-vlim, vlim, 100)\n",
    "    Lap_curve = np.zeros_like(px)\n",
    "    normalized_factor = 0\n",
    "    for time in times:\n",
    "        scale_factor = 1\n",
    "        for time_ in times:\n",
    "            if time_ != time:\n",
    "                scale_factor *= Lap_sigma_list[time]**2/(Lap_sigma_list[time]**2-Lap_sigma_list[time_]**2)\n",
    "        normalized_factor += scale_factor   \n",
    "        Lap_curve += np.exp(-np.sqrt(2)*np.abs(px)/Lap_sigma_list[time]*num_time_samples)/np.sqrt(2)/Lap_sigma_list[time]*num_time_samples*scale_factor\n",
    "    \n",
    "    # Calculate the equivalent Gaussian pdf\n",
    "    Gauss_curve = np.exp(-px**2/2/Gauss_sigma**2)/np.sqrt(2*np.pi*Gauss_sigma**2)\n",
    "    \n",
    "    if np.isclose(normalized_factor,1,rtol=5e-1):\n",
    "        ax.plot(px, Lap_curve, ls='-', lw=2, label=\"sum of Laplacian\", c='cyan')\n",
    "    ax.plot(px, Gauss_curve, ls='--', lw=2, label='Gaussian', c='slategrey')\n",
    "    \n",
    "    # confidence interval\n",
    "    ax.axvline(x=3*Gauss_sigma, c='k', lw=1, ls=':')\n",
    "    ax.axvline(x=-3*Gauss_sigma, c='k', lw=1, ls=':')\n",
    "    ax.axvline(x=5*Gauss_sigma, c='navy', lw=1, ls=':')\n",
    "    ax.axvline(x=-5*Gauss_sigma, c='navy', lw=1, ls=':')\n",
    "    if ax_idx == 0:\n",
    "        ax.text(2.2*Gauss_sigma, 9*1e-12, r'$3 \\sigma$', ha=\"center\", va=\"center\", rotation=0,\n",
    "            fontsize=14,\n",
    "            bbox=dict(boxstyle=\"rarrow\", fc=\"green\", alpha=0.5))\n",
    "        ax.text(4.2*Gauss_sigma, 1e-10, r'$5 \\sigma$', ha=\"center\", va=\"center\", rotation=0,\n",
    "            fontsize=14,\n",
    "            bbox=dict(boxstyle=\"rarrow\", fc=\"green\", alpha=0.5))\n",
    "        ax.text(-2.2*Gauss_sigma, 9*1e-12, r'$3 \\sigma$', ha=\"center\", va=\"center\", rotation=0,\n",
    "            fontsize=14,\n",
    "            bbox=dict(boxstyle=\"larrow\", fc=\"green\", alpha=0.5))\n",
    "        ax.text(-4.2*Gauss_sigma, 1e-10, r'$5 \\sigma$', ha=\"center\", va=\"center\", rotation=0,\n",
    "            fontsize=14,\n",
    "            bbox=dict(boxstyle=\"larrow\", fc=\"green\", alpha=0.5))\n",
    "    \n",
    "    ax.tick_params(which='both', labelsize=16, length=3, width=0.5)\n",
    "    ax.xaxis.set_minor_locator(ticker.MultipleLocator(1e9))\n",
    "    xticks = ax.get_xticks()\n",
    "    ax.set_xticklabels(xticks/1e10)\n",
    "    ax.set_xlabel(\"$P(k_\\parallel)$ $[\\\\times 10^{10}\\,%s]$\" % psunits, fontsize=16)\n",
    "    if col_idx == 0: \n",
    "        ax.set_ylabel(\"pdf\", fontsize=16)\n",
    "    if ax_idx == 0:\n",
    "        ax.legend(loc='lower right', fontsize=14)\n",
    "    ax.set_title(\"Average over \\n{} timestamp(s)\".format(num_time_samples),bbox=dict(fc='wheat', alpha=0.5), fontsize=16, pad=15)\n",
    "fig.subplots_adjust(top=0.8)\n",
    "fig.suptitle(suptitle, fontsize=20, bbox=dict(fc='gold', alpha=0.5), x=0.5, y=0.99)\n",
    "print(len(uvp_plot.get_all_keys())*len(delay_args))"
   ]
  },
  {
   "cell_type": "markdown",
   "id": "398209a0",
   "metadata": {
    "papermill": {
     "duration": 0.07052,
     "end_time": "2022-03-28T00:56:31.024537",
     "exception": false,
     "start_time": "2022-03-28T00:56:30.954017",
     "status": "completed"
    },
    "tags": []
   },
   "source": [
    "#### inpainted + xtalk + reflection"
   ]
  },
  {
   "cell_type": "code",
   "execution_count": 104,
   "id": "dac32c2c",
   "metadata": {
    "execution": {
     "iopub.execute_input": "2022-03-28T00:56:31.298199Z",
     "iopub.status.busy": "2022-03-28T00:56:31.297763Z",
     "iopub.status.idle": "2022-03-28T01:00:10.686932Z",
     "shell.execute_reply": "2022-03-28T01:00:10.687438Z"
    },
    "papermill": {
     "duration": 219.592877,
     "end_time": "2022-03-28T01:00:10.687558",
     "exception": false,
     "start_time": "2022-03-28T00:56:31.094681",
     "status": "completed"
    },
    "tags": []
   },
   "outputs": [
    {
     "name": "stderr",
     "output_type": "stream",
     "text": [
      "FixedFormatter should only be used together with FixedLocator\n"
     ]
    },
    {
     "name": "stderr",
     "output_type": "stream",
     "text": [
      "FixedFormatter should only be used together with FixedLocator\n"
     ]
    },
    {
     "name": "stderr",
     "output_type": "stream",
     "text": [
      "FixedFormatter should only be used together with FixedLocator\n"
     ]
    },
    {
     "name": "stdout",
     "output_type": "stream",
     "text": [
      "30084\n"
     ]
    },
    {
     "data": {
      "image/png": "[encoded data removed]",
      "text/plain": [
       "<Figure size 1440x432 with 3 Axes>"
      ]
     },
     "metadata": {
      "needs_background": "light"
     },
     "output_type": "display_data"
    }
   ],
   "source": [
    "# used in paper\n",
    "# A larger window (2000), with normalization\n",
    "uvp_plot = uvp_PXC_cov_n\n",
    "num_time_samples_list = [1,5,15]\n",
    "ylim = (5*1e-13,1e-9)\n",
    "dlys = uvp_plot.get_dlys(0) * 1e9\n",
    "delay_args = np.append(np.argwhere(dlys< -2000), np.argwhere(dlys> 2000))\n",
    "suptitle = \"Inpainted+xtalk removed+cable reflection removed, \"+r\"$|\\tau|>2000 {\\rm ns}$\"\n",
    "\n",
    "fig, axes = plt.subplots(figsize=(20,6), ncols=3, nrows=1)\n",
    "for ax_idx, num_time_samples in enumerate(num_time_samples_list):\n",
    "    col_idx = ax_idx%3\n",
    "    times = np.arange(num_time_samples)\n",
    "   \n",
    "    # Get all keys\n",
    "    keys = uvp_plot.get_all_keys()\n",
    "    blpt_weights = np.array([[1. for item in times] for key in keys])\n",
    "    ps_real_time_avg = []\n",
    "    for dly in delay_args:\n",
    "        ps = np.array([[uvp_plot.get_data(key)[time, dly]*uvp_plot.get_stats(\"autos_diag\", keys[0])[time,0].real\\\n",
    "                        /uvp_plot.get_stats(\"autos_diag\", key)[time, dly].real for time in times] for key in keys])\n",
    "        ps_real_time_avg.extend((np.sum(ps.real*blpt_weights, axis=1)/np.sum(blpt_weights, axis=1).clip(1e-10, np.inf)).flatten())\n",
    "    ps_real_time_avg = np.array(ps_real_time_avg) - np.mean(ps_real_time_avg)\n",
    "    # The ratio of error bars to the original one\n",
    "    psunits = uvp_plot.units\n",
    "    if \"h^-1\" in psunits: psunits = psunits.replace(\"h^-1\", \"h^{-1}\")\n",
    "    if \"h^-3\" in psunits: psunits = psunits.replace(\"h^-3\", \"h^{-3}\")\n",
    "    if \"Mpc\" in psunits and \"\\\\rm\" not in psunits: \n",
    "        psunits = psunits.replace(\"Mpc\", r\"{\\rm Mpc}\")\n",
    "    if \"pi\" in psunits and \"\\\\pi\" not in psunits: \n",
    "        psunits = psunits.replace(\"pi\", r\"\\pi\")\n",
    "    \n",
    "    ax = axes[col_idx]\n",
    "    Lap_sigma_list = np.zeros(num_time_samples)\n",
    "    for time in times:\n",
    "        Lap_sigma_list[time] = uvp_plot.get_stats(\"autos_diag\", keys[0])[time, 0].real \n",
    "    Gauss_sigma = np.sqrt(np.sum(Lap_sigma_list**2))/num_time_samples\n",
    "    vlim = 6*Gauss_sigma\n",
    "    n_in_bins, bins_edge, _ = ax.hist(ps_real_time_avg, log=True, density=True, bins=61, range=(-vlim, vlim), alpha=0.75,\n",
    "                           color='pink')\n",
    "    ax.set_xlim(-vlim, vlim)\n",
    "    ax.set_ylim(*ylim)\n",
    "    \n",
    "    px = np.linspace(-vlim, vlim, 100)\n",
    "    Lap_curve = np.zeros_like(px)\n",
    "    normalized_factor = 0\n",
    "    for time in times:\n",
    "        scale_factor = 1\n",
    "        for time_ in times:\n",
    "            if time_ != time:\n",
    "                scale_factor *= Lap_sigma_list[time]**2/(Lap_sigma_list[time]**2-Lap_sigma_list[time_]**2)\n",
    "        normalized_factor += scale_factor   \n",
    "        Lap_curve += np.exp(-np.sqrt(2)*np.abs(px)/Lap_sigma_list[time]*num_time_samples)/np.sqrt(2)/Lap_sigma_list[time]*num_time_samples*scale_factor\n",
    "    \n",
    "    # Calculate the equivalent Gaussian pdf\n",
    "    Gauss_curve = np.exp(-px**2/2/Gauss_sigma**2)/np.sqrt(2*np.pi*Gauss_sigma**2)\n",
    "    \n",
    "    if np.isclose(normalized_factor,1,rtol=5e-1):\n",
    "        ax.plot(px, Lap_curve, ls='-', lw=2, label=\"sum of Laplacian\", c='cyan')\n",
    "    ax.plot(px, Gauss_curve, ls='--', lw=2, label='Gaussian', c='slategrey')\n",
    "    \n",
    "    # confidence interval\n",
    "    ax.axvline(x=3*Gauss_sigma, c='k', lw=1, ls=':')\n",
    "    ax.axvline(x=-3*Gauss_sigma, c='k', lw=1, ls=':')\n",
    "    ax.axvline(x=5*Gauss_sigma, c='navy', lw=1, ls=':')\n",
    "    ax.axvline(x=-5*Gauss_sigma, c='navy', lw=1, ls=':')\n",
    "    if ax_idx == 0:\n",
    "        ax.text(2.2*Gauss_sigma, 9*1e-12, r'$3 \\sigma$', ha=\"center\", va=\"center\", rotation=0,\n",
    "            fontsize=14,\n",
    "            bbox=dict(boxstyle=\"rarrow\", fc=\"green\", alpha=0.5))\n",
    "        ax.text(4.2*Gauss_sigma, 1e-10, r'$5 \\sigma$', ha=\"center\", va=\"center\", rotation=0,\n",
    "            fontsize=14,\n",
    "            bbox=dict(boxstyle=\"rarrow\", fc=\"green\", alpha=0.5))\n",
    "        ax.text(-2.2*Gauss_sigma, 9*1e-12, r'$3 \\sigma$', ha=\"center\", va=\"center\", rotation=0,\n",
    "            fontsize=14,\n",
    "            bbox=dict(boxstyle=\"larrow\", fc=\"green\", alpha=0.5))\n",
    "        ax.text(-4.2*Gauss_sigma, 1e-10, r'$5 \\sigma$', ha=\"center\", va=\"center\", rotation=0,\n",
    "            fontsize=14,\n",
    "            bbox=dict(boxstyle=\"larrow\", fc=\"green\", alpha=0.5))\n",
    "    \n",
    "    ax.tick_params(which='both', labelsize=16, length=3, width=0.5)\n",
    "    ax.xaxis.set_minor_locator(ticker.MultipleLocator(1e9))\n",
    "    xticks = ax.get_xticks()\n",
    "    ax.set_xticklabels(xticks/1e10)\n",
    "    ax.set_xlabel(\"$P(k_\\parallel)$ $[\\\\times 10^{10}\\,%s]$\" % psunits, fontsize=16)\n",
    "    if col_idx == 0: \n",
    "        ax.set_ylabel(\"pdf\", fontsize=16)\n",
    "    if ax_idx == 0:\n",
    "        ax.legend(loc='lower right', fontsize=14)\n",
    "    ax.set_title(\"Average over \\n{} timestamp(s)\".format(num_time_samples),bbox=dict(fc='wheat', alpha=0.5), fontsize=16, pad=15)\n",
    "fig.subplots_adjust(top=0.8)\n",
    "fig.suptitle(suptitle, fontsize=20, bbox=dict(fc='gold', alpha=0.5), x=0.5, y=0.99)\n",
    "print(len(uvp_plot.get_all_keys())*len(delay_args))"
   ]
  },
  {
   "cell_type": "code",
   "execution_count": 105,
   "id": "506930f2",
   "metadata": {
    "execution": {
     "iopub.execute_input": "2022-03-28T01:00:10.859044Z",
     "iopub.status.busy": "2022-03-28T01:00:10.858602Z",
     "iopub.status.idle": "2022-03-28T01:01:26.235862Z",
     "shell.execute_reply": "2022-03-28T01:01:26.236378Z"
    },
    "papermill": {
     "duration": 75.476298,
     "end_time": "2022-03-28T01:01:26.236500",
     "exception": false,
     "start_time": "2022-03-28T01:00:10.760202",
     "status": "completed"
    },
    "tags": []
   },
   "outputs": [
    {
     "name": "stderr",
     "output_type": "stream",
     "text": [
      "FixedFormatter should only be used together with FixedLocator\n"
     ]
    },
    {
     "name": "stderr",
     "output_type": "stream",
     "text": [
      "FixedFormatter should only be used together with FixedLocator\n"
     ]
    },
    {
     "name": "stderr",
     "output_type": "stream",
     "text": [
      "FixedFormatter should only be used together with FixedLocator\n"
     ]
    },
    {
     "name": "stdout",
     "output_type": "stream",
     "text": [
      "9936\n"
     ]
    },
    {
     "data": {
      "image/png": "[encoded data removed]",
      "text/plain": [
       "<Figure size 1440x432 with 3 Axes>"
      ]
     },
     "metadata": {
      "needs_background": "light"
     },
     "output_type": "display_data"
    }
   ],
   "source": [
    "# used in paper\n",
    "# A larger window (500-1500), with normalization\n",
    "uvp_plot = uvp_PXC_cov_n\n",
    "num_time_samples_list = [1,5,15]\n",
    "ylim = (5*1e-13,1e-9)\n",
    "dlys = uvp_plot.get_dlys(0) * 1e9\n",
    "delay_args = np.append(np.argwhere((dlys< -500)*(dlys>-1500)), np.argwhere((dlys< 1500)*(dlys>500)))\n",
    "suptitle = \"Inpainted+xtalk removed+cable reflection removed, \" + r\"$500\\,{\\rm ns}<|\\tau|<1500\\,{\\rm ns}$\"\n",
    "\n",
    "fig, axes = plt.subplots(figsize=(20,6), ncols=3, nrows=1)\n",
    "for ax_idx, num_time_samples in enumerate(num_time_samples_list):\n",
    "    col_idx = ax_idx%3\n",
    "    times = np.arange(num_time_samples)\n",
    "   \n",
    "    # Get all keys\n",
    "    keys = uvp_plot.get_all_keys()\n",
    "    blpt_weights = np.array([[1. for item in times] for key in keys])\n",
    "    ps_real_time_avg = []\n",
    "    for dly in delay_args:\n",
    "        ps = np.array([[uvp_plot.get_data(key)[time, dly]*uvp_plot.get_stats(\"autos_diag\", keys[0])[time,0].real\\\n",
    "                        /uvp_plot.get_stats(\"autos_diag\", key)[time, dly].real for time in times] for key in keys])\n",
    "        ps_real_time_avg.extend((np.sum(ps.real*blpt_weights, axis=1)/np.sum(blpt_weights, axis=1).clip(1e-10, np.inf)).flatten())\n",
    "    ps_real_time_avg = np.array(ps_real_time_avg) - np.mean(ps_real_time_avg)\n",
    "    # The ratio of error bars to the original one\n",
    "    psunits = uvp_plot.units\n",
    "    if \"h^-1\" in psunits: psunits = psunits.replace(\"h^-1\", \"h^{-1}\")\n",
    "    if \"h^-3\" in psunits: psunits = psunits.replace(\"h^-3\", \"h^{-3}\")\n",
    "    if \"Mpc\" in psunits and \"\\\\rm\" not in psunits: \n",
    "        psunits = psunits.replace(\"Mpc\", r\"{\\rm Mpc}\")\n",
    "    if \"pi\" in psunits and \"\\\\pi\" not in psunits: \n",
    "        psunits = psunits.replace(\"pi\", r\"\\pi\")\n",
    "    \n",
    "    ax = axes[col_idx]\n",
    "    Lap_sigma_list = np.zeros(num_time_samples)\n",
    "    for time in times:\n",
    "        Lap_sigma_list[time] = uvp_plot.get_stats(\"autos_diag\", keys[0])[time, 0].real \n",
    "    Gauss_sigma = np.sqrt(np.sum(Lap_sigma_list**2))/num_time_samples\n",
    "    vlim = 6*Gauss_sigma\n",
    "    n_in_bins, bins_edge, _ = ax.hist(ps_real_time_avg, log=True, density=True, bins=61, range=(-vlim, vlim), alpha=0.75,\n",
    "                           color='pink')\n",
    "    ax.set_xlim(-vlim, vlim)\n",
    "    ax.set_ylim(*ylim)\n",
    "    \n",
    "    px = np.linspace(-vlim, vlim, 100)\n",
    "    Lap_curve = np.zeros_like(px)\n",
    "    normalized_factor = 0\n",
    "    for time in times:\n",
    "        scale_factor = 1\n",
    "        for time_ in times:\n",
    "            if time_ != time:\n",
    "                scale_factor *= Lap_sigma_list[time]**2/(Lap_sigma_list[time]**2-Lap_sigma_list[time_]**2)\n",
    "        normalized_factor += scale_factor   \n",
    "        Lap_curve += np.exp(-np.sqrt(2)*np.abs(px)/Lap_sigma_list[time]*num_time_samples)/np.sqrt(2)/Lap_sigma_list[time]*num_time_samples*scale_factor\n",
    "    \n",
    "    # Calculate the equivalent Gaussian pdf\n",
    "    Gauss_curve = np.exp(-px**2/2/Gauss_sigma**2)/np.sqrt(2*np.pi*Gauss_sigma**2)\n",
    "    \n",
    "    if np.isclose(normalized_factor,1,rtol=5e-1):\n",
    "        ax.plot(px, Lap_curve, ls='-', lw=2, label=\"sum of Laplacian\", c='cyan')\n",
    "    ax.plot(px, Gauss_curve, ls='--', lw=2, label='Gaussian', c='slategrey')\n",
    "    \n",
    "    # confidence interval\n",
    "    ax.axvline(x=3*Gauss_sigma, c='k', lw=1, ls=':')\n",
    "    ax.axvline(x=-3*Gauss_sigma, c='k', lw=1, ls=':')\n",
    "    ax.axvline(x=5*Gauss_sigma, c='navy', lw=1, ls=':')\n",
    "    ax.axvline(x=-5*Gauss_sigma, c='navy', lw=1, ls=':')\n",
    "    if ax_idx == 0:\n",
    "        ax.text(2.2*Gauss_sigma, 9*1e-12, r'$3 \\sigma$', ha=\"center\", va=\"center\", rotation=0,\n",
    "            fontsize=14,\n",
    "            bbox=dict(boxstyle=\"rarrow\", fc=\"green\", alpha=0.5))\n",
    "        ax.text(4.2*Gauss_sigma, 1e-10, r'$5 \\sigma$', ha=\"center\", va=\"center\", rotation=0,\n",
    "            fontsize=14,\n",
    "            bbox=dict(boxstyle=\"rarrow\", fc=\"green\", alpha=0.5))\n",
    "        ax.text(-2.2*Gauss_sigma, 9*1e-12, r'$3 \\sigma$', ha=\"center\", va=\"center\", rotation=0,\n",
    "            fontsize=14,\n",
    "            bbox=dict(boxstyle=\"larrow\", fc=\"green\", alpha=0.5))\n",
    "        ax.text(-4.2*Gauss_sigma, 1e-10, r'$5 \\sigma$', ha=\"center\", va=\"center\", rotation=0,\n",
    "            fontsize=14,\n",
    "            bbox=dict(boxstyle=\"larrow\", fc=\"green\", alpha=0.5))\n",
    "    \n",
    "    ax.tick_params(which='both', labelsize=16, length=3, width=0.5)\n",
    "    ax.xaxis.set_minor_locator(ticker.MultipleLocator(1e9))\n",
    "    xticks = ax.get_xticks()\n",
    "    ax.set_xticklabels(xticks/1e10)\n",
    "    ax.set_xlabel(\"$P(k_\\parallel)$ $[\\\\times 10^{10}\\,%s]$\" % psunits, fontsize=16)\n",
    "    if col_idx == 0: \n",
    "        ax.set_ylabel(\"pdf\", fontsize=16)\n",
    "    if ax_idx == 0:\n",
    "        ax.legend(loc='lower right', fontsize=14)\n",
    "    ax.set_title(\"Average over \\n{} timestamp(s)\".format(num_time_samples),bbox=dict(fc='wheat', alpha=0.5), fontsize=16, pad=15)\n",
    "fig.subplots_adjust(top=0.8)\n",
    "fig.suptitle(suptitle, fontsize=20, bbox=dict(fc='gold', alpha=0.5), x=0.5, y=0.99)\n",
    "print(len(uvp_plot.get_all_keys())*len(delay_args))"
   ]
  },
  {
   "cell_type": "code",
   "execution_count": null,
   "id": "88371565",
   "metadata": {
    "papermill": {
     "duration": 0.143434,
     "end_time": "2022-03-28T01:01:26.743747",
     "exception": false,
     "start_time": "2022-03-28T01:01:26.600313",
     "status": "completed"
    },
    "tags": []
   },
   "outputs": [],
   "source": []
  }
 ],
 "metadata": {
  "kernelspec": {
   "display_name": "Python 3 (ipykernel)",
   "language": "python",
   "name": "python3"
  },
  "language_info": {
   "codemirror_mode": {
    "name": "ipython",
    "version": 3
   },
   "file_extension": ".py",
   "mimetype": "text/x-python",
   "name": "python",
   "nbconvert_exporter": "python",
   "pygments_lexer": "ipython3",
   "version": "3.9.6"
  },
  "papermill": {
   "default_parameters": {},
   "duration": 16748.165944,
   "end_time": "2022-03-28T01:01:29.809471",
   "environment_variables": {},
   "exception": null,
   "input_path": "PaperPlots-IDR2_2.ipynb",
   "output_path": "PaperPlots-IDR2_2_555380.ipynb",
   "parameters": {},
   "start_time": "2022-03-27T20:22:21.643527",
   "version": "2.3.4"
  }
 },
 "nbformat": 4,
 "nbformat_minor": 5
}