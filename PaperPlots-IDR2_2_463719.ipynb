{
 "cells": [
  {
   "cell_type": "code",
   "execution_count": 1,
   "id": "f75d348a",
   "metadata": {
    "execution": {
     "iopub.execute_input": "2022-03-16T21:15:56.317234Z",
     "iopub.status.busy": "2022-03-16T21:15:56.315936Z",
     "iopub.status.idle": "2022-03-16T21:15:56.325159Z",
     "shell.execute_reply": "2022-03-16T21:15:56.326167Z"
    },
    "papermill": {
     "duration": 0.126113,
     "end_time": "2022-03-16T21:15:56.326443",
     "exception": false,
     "start_time": "2022-03-16T21:15:56.200330",
     "status": "completed"
    },
    "tags": []
   },
   "outputs": [
    {
     "data": {
      "text/html": [
       "\n",
       "<style>\n",
       "    div#notebook-container    { width: 95%; }\n",
       "    div#menubar-container     { width: 65%; }\n",
       "    div#maintoolbar-container { width: 99%; }\n",
       "</style>ilter\n"
      ],
      "text/plain": [
       "<IPython.core.display.HTML object>"
      ]
     },
     "metadata": {},
     "output_type": "display_data"
    },
    {
     "data": {
      "text/html": [
       "<style>div.output_scroll { height: 200em; }</style>"
      ],
      "text/plain": [
       "<IPython.core.display.HTML object>"
      ]
     },
     "metadata": {},
     "output_type": "display_data"
    }
   ],
   "source": [
    "from IPython.display import display, HTML\n",
    "\n",
    "display(HTML(data=\"\"\"\n",
    "<style>\n",
    "    div#notebook-container    { width: 95%; }\n",
    "    div#menubar-container     { width: 65%; }\n",
    "    div#maintoolbar-container { width: 99%; }\n",
    "</style>ilter\n",
    "\"\"\"))\n",
    "display(HTML(\"<style>div.output_scroll { height: 200em; }</style>\"))\n"
   ]
  },
  {
   "cell_type": "code",
   "execution_count": 2,
   "id": "674d621a",
   "metadata": {
    "execution": {
     "iopub.execute_input": "2022-03-16T21:15:56.441166Z",
     "iopub.status.busy": "2022-03-16T21:15:56.440666Z",
     "iopub.status.idle": "2022-03-16T21:15:56.442587Z",
     "shell.execute_reply": "2022-03-16T21:15:56.441587Z"
    },
    "papermill": {
     "duration": 0.054345,
     "end_time": "2022-03-16T21:15:56.442688",
     "exception": false,
     "start_time": "2022-03-16T21:15:56.388343",
     "status": "completed"
    },
    "tags": []
   },
   "outputs": [
    {
     "data": {
      "text/plain": [
       "'/lustre/aoc/projects/hera/hgarsden'"
      ]
     },
     "execution_count": 2,
     "metadata": {},
     "output_type": "execute_result"
    }
   ],
   "source": [
    "pwd"
   ]
  },
  {
   "cell_type": "code",
   "execution_count": 3,
   "id": "335fc959",
   "metadata": {
    "execution": {
     "iopub.execute_input": "2022-03-16T21:15:56.548099Z",
     "iopub.status.busy": "2022-03-16T21:15:56.547651Z",
     "iopub.status.idle": "2022-03-16T21:15:56.679151Z",
     "shell.execute_reply": "2022-03-16T21:15:56.677670Z"
    },
    "papermill": {
     "duration": 0.187193,
     "end_time": "2022-03-16T21:15:56.679384",
     "exception": false,
     "start_time": "2022-03-16T21:15:56.492191",
     "status": "completed"
    },
    "tags": []
   },
   "outputs": [
    {
     "name": "stdout",
     "output_type": "stream",
     "text": [
      "PaperPlots-IDR2_2_437335.ipynb\r\n",
      "PaperPlots-IDR2_2_437336.ipynb\r\n",
      "PaperPlots-IDR2_2_437495.ipynb\r\n",
      "PaperPlots-IDR2_2_437503.ipynb\r\n",
      "PaperPlots-IDR2_2_437626.ipynb\r\n",
      "PaperPlots-IDR2_2_437635.ipynb\r\n",
      "PaperPlots-IDR2_2_463719.ipynb\r\n",
      "PaperPlots-IDR2_2.ipynb\r\n",
      "PaperPlots-IDR2_2_orig.ipynb\r\n",
      "PaperPlots-IDR2_2_out.ipynb\r\n",
      "PaperPlots-IDR2_2_sim_to_match_orig.ipynb\r\n",
      "PaperPlots-null_test_for_histed_noise_dominated_bandpowers.ipynb\r\n",
      "PaperPlots-null_test_for_histed_noise_dominated_bandpowers_orig.ipynb\r\n",
      "PaperPlots-null_test_for_histed_noise_dominated_bandpowers_out.ipynb\r\n",
      "Untitled.ipynb\r\n"
     ]
    }
   ],
   "source": [
    "ls *ipynb"
   ]
  },
  {
   "cell_type": "code",
   "execution_count": 4,
   "id": "b9a4e030",
   "metadata": {
    "execution": {
     "iopub.execute_input": "2022-03-16T21:15:56.837159Z",
     "iopub.status.busy": "2022-03-16T21:15:56.836658Z",
     "iopub.status.idle": "2022-03-16T21:15:56.837969Z",
     "shell.execute_reply": "2022-03-16T21:15:56.837579Z"
    },
    "papermill": {
     "duration": 0.06627,
     "end_time": "2022-03-16T21:15:56.838060",
     "exception": false,
     "start_time": "2022-03-16T21:15:56.771790",
     "status": "completed"
    },
    "tags": []
   },
   "outputs": [],
   "source": [
    "import sys\n",
    "sys.path.append(\"/users/hgarsden/.local/lib/python3.9/site-packages\")"
   ]
  },
  {
   "cell_type": "code",
   "execution_count": 5,
   "id": "4f844fc7",
   "metadata": {
    "execution": {
     "iopub.execute_input": "2022-03-16T21:15:56.942556Z",
     "iopub.status.busy": "2022-03-16T21:15:56.942108Z",
     "iopub.status.idle": "2022-03-16T21:16:08.715455Z",
     "shell.execute_reply": "2022-03-16T21:16:08.716997Z"
    },
    "papermill": {
     "duration": 11.82956,
     "end_time": "2022-03-16T21:16:08.717269",
     "exception": false,
     "start_time": "2022-03-16T21:15:56.887709",
     "status": "completed"
    },
    "scrolled": true,
    "tags": []
   },
   "outputs": [],
   "source": [
    "%matplotlib inline\n",
    "#%load_ext line_profiler\n",
    "import numpy as np\n",
    "import matplotlib\n",
    "import matplotlib.pyplot as plt\n",
    "import glob\n",
    "import hera_cal as hc\n",
    "import hera_pspec as hp\n",
    "from hera_pspec.data import DATA_PATH\n",
    "from pyuvdata import UVData, UVCal, UVFlag, utils as uvutils\n",
    "from scipy import stats, signal, interpolate\n",
    "import copy\n",
    "import matplotlib.gridspec as gridspec\n",
    "from astropy import constants\n",
    "import uvtools as uvt\n",
    "import cycler\n",
    "import itertools\n",
    "import os\n",
    "from collections import OrderedDict as odict"
   ]
  },
  {
   "cell_type": "code",
   "execution_count": 6,
   "id": "dca5509c",
   "metadata": {
    "execution": {
     "iopub.execute_input": "2022-03-16T21:16:08.875740Z",
     "iopub.status.busy": "2022-03-16T21:16:08.875296Z",
     "iopub.status.idle": "2022-03-16T21:16:08.966572Z",
     "shell.execute_reply": "2022-03-16T21:16:08.967261Z"
    },
    "papermill": {
     "duration": 0.157699,
     "end_time": "2022-03-16T21:16:08.967469",
     "exception": false,
     "start_time": "2022-03-16T21:16:08.809770",
     "status": "completed"
    },
    "tags": []
   },
   "outputs": [],
   "source": [
    "from mpl_toolkits.axes_grid1.inset_locator import inset_axes"
   ]
  },
  {
   "cell_type": "code",
   "execution_count": 7,
   "id": "842b5673",
   "metadata": {
    "execution": {
     "iopub.execute_input": "2022-03-16T21:16:09.112679Z",
     "iopub.status.busy": "2022-03-16T21:16:09.111321Z",
     "iopub.status.idle": "2022-03-16T21:16:09.113471Z",
     "shell.execute_reply": "2022-03-16T21:16:09.113095Z"
    },
    "papermill": {
     "duration": 0.06366,
     "end_time": "2022-03-16T21:16:09.113562",
     "exception": false,
     "start_time": "2022-03-16T21:16:09.049902",
     "status": "completed"
    },
    "tags": []
   },
   "outputs": [],
   "source": [
    "import matplotlib.ticker as ticker"
   ]
  },
  {
   "cell_type": "code",
   "execution_count": 8,
   "id": "23bfb90f",
   "metadata": {
    "execution": {
     "iopub.execute_input": "2022-03-16T21:16:09.215750Z",
     "iopub.status.busy": "2022-03-16T21:16:09.215214Z",
     "iopub.status.idle": "2022-03-16T21:16:09.216564Z",
     "shell.execute_reply": "2022-03-16T21:16:09.216186Z"
    },
    "papermill": {
     "duration": 0.054189,
     "end_time": "2022-03-16T21:16:09.216672",
     "exception": false,
     "start_time": "2022-03-16T21:16:09.162483",
     "status": "completed"
    },
    "tags": []
   },
   "outputs": [],
   "source": [
    "def fmt(x, pos):\n",
    "    a, b = '{:.2e}'.format(x).split('e')\n",
    "    b = int(b)\n",
    "    return r'${} \\times 10^{{{}}}$'.format(a, b)"
   ]
  },
  {
   "cell_type": "code",
   "execution_count": 9,
   "id": "1e955307",
   "metadata": {
    "execution": {
     "iopub.execute_input": "2022-03-16T21:16:09.323786Z",
     "iopub.status.busy": "2022-03-16T21:16:09.322436Z",
     "iopub.status.idle": "2022-03-16T21:16:09.324575Z",
     "shell.execute_reply": "2022-03-16T21:16:09.324199Z"
    },
    "papermill": {
     "duration": 0.054685,
     "end_time": "2022-03-16T21:16:09.324676",
     "exception": false,
     "start_time": "2022-03-16T21:16:09.269991",
     "status": "completed"
    },
    "tags": []
   },
   "outputs": [],
   "source": [
    "import matplotlib.font_manager\n",
    "\n",
    "sim_file = \"fringe_rate_filter/sim_1000_256.uvh5\""
   ]
  },
  {
   "cell_type": "markdown",
   "id": "de3045b8",
   "metadata": {
    "papermill": {
     "duration": 0.048769,
     "end_time": "2022-03-16T21:16:09.422996",
     "exception": false,
     "start_time": "2022-03-16T21:16:09.374227",
     "status": "completed"
    },
    "tags": []
   },
   "source": [
    "### noise error bar"
   ]
  },
  {
   "cell_type": "code",
   "execution_count": 10,
   "id": "146e391a",
   "metadata": {
    "execution": {
     "iopub.execute_input": "2022-03-16T21:16:09.524401Z",
     "iopub.status.busy": "2022-03-16T21:16:09.523947Z",
     "iopub.status.idle": "2022-03-16T21:16:09.528540Z",
     "shell.execute_reply": "2022-03-16T21:16:09.528184Z"
    },
    "papermill": {
     "duration": 0.056785,
     "end_time": "2022-03-16T21:16:09.528632",
     "exception": false,
     "start_time": "2022-03-16T21:16:09.471847",
     "status": "completed"
    },
    "tags": []
   },
   "outputs": [],
   "source": [
    "# LST binned, Inpainted & xtalk subtracted files\n",
    "root = \"/lustre/aoc/projects/hera/H1C_IDR2/IDR2_2_pspec/v2/one_group/data/\"\n",
    "dfiles = sorted(glob.glob(root + \"zen.grp1.of1.LST.1*.HH.OCRSLP2X.uvh5\"))\n",
    "dfiles[5] = sim_file"
   ]
  },
  {
   "cell_type": "code",
   "execution_count": 11,
   "id": "e9f59c62",
   "metadata": {
    "execution": {
     "iopub.execute_input": "2022-03-16T21:16:09.632471Z",
     "iopub.status.busy": "2022-03-16T21:16:09.631811Z",
     "iopub.status.idle": "2022-03-16T21:16:11.890695Z",
     "shell.execute_reply": "2022-03-16T21:16:11.891303Z"
    },
    "papermill": {
     "duration": 2.313499,
     "end_time": "2022-03-16T21:16:11.891449",
     "exception": false,
     "start_time": "2022-03-16T21:16:09.577950",
     "status": "completed"
    },
    "tags": []
   },
   "outputs": [
    {
     "name": "stdout",
     "output_type": "stream",
     "text": [
      "fringe_rate_filter/sim_1000_256.uvh5\n"
     ]
    },
    {
     "name": "stderr",
     "output_type": "stream",
     "text": [
      "Telescope hera_sim is not in known_telescopes.\n"
     ]
    }
   ],
   "source": [
    "uvd_ = UVData()\n",
    "print(dfiles[5])\n",
    "uvd_.read(dfiles[5], read_data=False)"
   ]
  },
  {
   "cell_type": "code",
   "execution_count": 12,
   "id": "e62586d3",
   "metadata": {
    "execution": {
     "iopub.execute_input": "2022-03-16T21:16:12.014795Z",
     "iopub.status.busy": "2022-03-16T21:16:12.014342Z",
     "iopub.status.idle": "2022-03-16T21:16:12.025353Z",
     "shell.execute_reply": "2022-03-16T21:16:12.025947Z"
    },
    "papermill": {
     "duration": 0.082861,
     "end_time": "2022-03-16T21:16:12.026082",
     "exception": false,
     "start_time": "2022-03-16T21:16:11.943221",
     "status": "completed"
    },
    "tags": []
   },
   "outputs": [],
   "source": [
    "ntimes = 60      # Use this many\n",
    "times = np.unique(uvd_.time_array)\n",
    "time_range = (times[times.size//2-ntimes//2], times[times.size//2+ntimes//2-1])\n",
    "\n",
    "xants = [0,2,11,24,50,53,54,67,69,98,122,136,139]"
   ]
  },
  {
   "cell_type": "code",
   "execution_count": 13,
   "id": "930c0469",
   "metadata": {
    "execution": {
     "iopub.execute_input": "2022-03-16T21:16:12.147912Z",
     "iopub.status.busy": "2022-03-16T21:16:12.147459Z",
     "iopub.status.idle": "2022-03-16T21:16:12.189586Z",
     "shell.execute_reply": "2022-03-16T21:16:12.190165Z"
    },
    "papermill": {
     "duration": 0.113015,
     "end_time": "2022-03-16T21:16:12.190303",
     "exception": false,
     "start_time": "2022-03-16T21:16:12.077288",
     "status": "completed"
    },
    "tags": []
   },
   "outputs": [],
   "source": [
    "# short baseline group\n",
    "bl_len_range = (14, 15)\n",
    "bl_deg_range = (0, 1)\n",
    "reds, lens, angs = hp.utils.get_reds(uvd_, bl_len_range=bl_len_range, bl_deg_range=bl_deg_range, xants=xants)\n",
    "bls = hp.utils.flatten(reds)"
   ]
  },
  {
   "cell_type": "code",
   "execution_count": 14,
   "id": "bb49ba11",
   "metadata": {
    "execution": {
     "iopub.execute_input": "2022-03-16T21:16:12.295086Z",
     "iopub.status.busy": "2022-03-16T21:16:12.294585Z",
     "iopub.status.idle": "2022-03-16T21:16:12.295885Z",
     "shell.execute_reply": "2022-03-16T21:16:12.295499Z"
    },
    "papermill": {
     "duration": 0.054607,
     "end_time": "2022-03-16T21:16:12.295974",
     "exception": false,
     "start_time": "2022-03-16T21:16:12.241367",
     "status": "completed"
    },
    "tags": []
   },
   "outputs": [],
   "source": [
    "#uvd_.get"
   ]
  },
  {
   "cell_type": "code",
   "execution_count": 15,
   "id": "d98625a5",
   "metadata": {
    "execution": {
     "iopub.execute_input": "2022-03-16T21:16:12.429786Z",
     "iopub.status.busy": "2022-03-16T21:16:12.429309Z",
     "iopub.status.idle": "2022-03-16T21:18:04.417219Z",
     "shell.execute_reply": "2022-03-16T21:18:04.417836Z"
    },
    "papermill": {
     "duration": 112.071311,
     "end_time": "2022-03-16T21:18:04.417976",
     "exception": false,
     "start_time": "2022-03-16T21:16:12.346665",
     "status": "completed"
    },
    "tags": []
   },
   "outputs": [
    {
     "name": "stdout",
     "output_type": "stream",
     "text": [
      "fringe_rate_filter/sim_1000_256.uvh5\n"
     ]
    }
   ],
   "source": [
    "print(dfiles[5])\n",
    "uvd_.read(dfiles[5], time_range=time_range, antenna_nums=np.array(bls).flatten(), polarizations=['xx','yy'])"
   ]
  },
  {
   "cell_type": "code",
   "execution_count": 16,
   "id": "0af94949",
   "metadata": {
    "execution": {
     "iopub.execute_input": "2022-03-16T21:18:04.530511Z",
     "iopub.status.busy": "2022-03-16T21:18:04.529864Z",
     "iopub.status.idle": "2022-03-16T21:18:04.853619Z",
     "shell.execute_reply": "2022-03-16T21:18:04.854801Z"
    },
    "papermill": {
     "duration": 0.380404,
     "end_time": "2022-03-16T21:18:04.855038",
     "exception": false,
     "start_time": "2022-03-16T21:18:04.474634",
     "status": "completed"
    },
    "tags": []
   },
   "outputs": [],
   "source": [
    "beam = hp.PSpecBeamUV(\"/lustre/aoc/projects/hera/nkern/beams/NF_HERA_IQ_power_beam_healpix128.fits\")"
   ]
  },
  {
   "cell_type": "code",
   "execution_count": 17,
   "id": "6c719a74",
   "metadata": {
    "execution": {
     "iopub.execute_input": "2022-03-16T21:18:05.019208Z",
     "iopub.status.busy": "2022-03-16T21:18:05.018744Z",
     "iopub.status.idle": "2022-03-16T21:18:05.364587Z",
     "shell.execute_reply": "2022-03-16T21:18:05.365190Z"
    },
    "papermill": {
     "duration": 0.425005,
     "end_time": "2022-03-16T21:18:05.365363",
     "exception": false,
     "start_time": "2022-03-16T21:18:04.940358",
     "status": "completed"
    },
    "tags": []
   },
   "outputs": [],
   "source": [
    "uvd = hp.pstokes.construct_pstokes(uvd_, uvd_, pstokes='pI')"
   ]
  },
  {
   "cell_type": "code",
   "execution_count": 18,
   "id": "6f80c13b",
   "metadata": {
    "execution": {
     "iopub.execute_input": "2022-03-16T21:18:05.489948Z",
     "iopub.status.busy": "2022-03-16T21:18:05.489483Z",
     "iopub.status.idle": "2022-03-16T21:57:38.349583Z",
     "shell.execute_reply": "2022-03-16T21:57:38.349964Z"
    },
    "papermill": {
     "duration": 2372.93224,
     "end_time": "2022-03-16T21:57:38.350095",
     "exception": false,
     "start_time": "2022-03-16T21:18:05.417855",
     "status": "completed"
    },
    "tags": []
   },
   "outputs": [
    {
     "name": "stdout",
     "output_type": "stream",
     "text": [
      "bl range for pI_shortbl (14, 15)\n",
      "Warning: LST bins in dsets misaligned by more than 15 seconds\n"
     ]
    },
    {
     "name": "stdout",
     "output_type": "stream",
     "text": [
      "Warning: LST bins in dsets misaligned by more than 15 seconds\n"
     ]
    },
    {
     "name": "stderr",
     "output_type": "stream",
     "text": [
      "Casting complex values to real discards the imaginary part\n"
     ]
    },
    {
     "name": "stdout",
     "output_type": "stream",
     "text": [
      "\n"
     ]
    }
   ],
   "source": [
    "# pspec at cross time, short baseline group\n",
    "print(\"bl range for pI_shortbl\", bl_len_range)\n",
    "\n",
    "hp.pspecdata.pspec_run([copy.deepcopy(uvd)], 'pspec_nulltest.h5', groupname='pI_shortbl', spw_ranges=[(0, 180)],\n",
    "                       dset_pairs=[(0,0)], pol_pairs=['pI'], input_data_weight='identity', norm='I',\n",
    "                       rephase_to_dset=True, interleave_times=True, Jy2mK=True, overwrite=True, verbose=False,\n",
    "                       bl_len_range=bl_len_range, bl_deg_range=bl_deg_range, beam=beam, taper='bh',\n",
    "                       broadcast_dset_flags=True, time_thresh=0.99, store_cov_diag=True, cov_model='autos', \n",
    "                       exclude_auto_bls=True, exclude_cross_bls=False, exclude_permutations=True)\n",
    "\n",
    "print()"
   ]
  },
  {
   "cell_type": "code",
   "execution_count": 19,
   "id": "fe921991",
   "metadata": {
    "execution": {
     "iopub.execute_input": "2022-03-16T21:57:38.511698Z",
     "iopub.status.busy": "2022-03-16T21:57:38.511251Z",
     "iopub.status.idle": "2022-03-16T21:57:38.534205Z",
     "shell.execute_reply": "2022-03-16T21:57:38.534764Z"
    },
    "papermill": {
     "duration": 0.095992,
     "end_time": "2022-03-16T21:57:38.534874",
     "exception": false,
     "start_time": "2022-03-16T21:57:38.438882",
     "status": "completed"
    },
    "tags": []
   },
   "outputs": [],
   "source": [
    "# intermediate baseline group\n",
    "bl_len_range = (40, 45)\n",
    "bl_deg_range = (0, 1)\n",
    "reds, lens, angs = hp.utils.get_reds(uvd_, bl_len_range=bl_len_range, bl_deg_range=bl_deg_range, xants=xants)\n",
    "bls = hp.utils.flatten(reds)"
   ]
  },
  {
   "cell_type": "code",
   "execution_count": 20,
   "id": "ef57bce6",
   "metadata": {
    "execution": {
     "iopub.execute_input": "2022-03-16T21:57:38.659867Z",
     "iopub.status.busy": "2022-03-16T21:57:38.659410Z",
     "iopub.status.idle": "2022-03-16T22:07:21.858902Z",
     "shell.execute_reply": "2022-03-16T22:07:21.859411Z"
    },
    "papermill": {
     "duration": 583.272457,
     "end_time": "2022-03-16T22:07:21.859581",
     "exception": false,
     "start_time": "2022-03-16T21:57:38.587124",
     "status": "completed"
    },
    "tags": []
   },
   "outputs": [
    {
     "name": "stdout",
     "output_type": "stream",
     "text": [
      "bls range for pI_medbl (40, 45)\n"
     ]
    },
    {
     "name": "stdout",
     "output_type": "stream",
     "text": [
      "Warning: LST bins in dsets misaligned by more than 15 seconds\n"
     ]
    },
    {
     "name": "stdout",
     "output_type": "stream",
     "text": [
      "Warning: LST bins in dsets misaligned by more than 15 seconds\n"
     ]
    },
    {
     "name": "stderr",
     "output_type": "stream",
     "text": [
      "Casting complex values to real discards the imaginary part\n"
     ]
    },
    {
     "name": "stdout",
     "output_type": "stream",
     "text": [
      "\n"
     ]
    }
   ],
   "source": [
    "# pspec at cross time, med baseline group\n",
    "print(\"bls range for pI_medbl\", bl_len_range)\n",
    "\n",
    "hp.pspecdata.pspec_run([copy.deepcopy(uvd)], 'pspec_nulltest.h5', groupname='pI_medbl', spw_ranges=[(0, 180)],\n",
    "                       dset_pairs=[(0,0)], pol_pairs=['pI'], input_data_weight='identity', norm='I',\n",
    "                       rephase_to_dset=True, interleave_times=True, Jy2mK=True, overwrite=True, verbose=False,\n",
    "                       bl_len_range=bl_len_range, bl_deg_range=bl_deg_range, beam=beam, taper='bh',\n",
    "                       broadcast_dset_flags=True, time_thresh=0.99, store_cov_diag=True, cov_model='autos', \n",
    "                       exclude_auto_bls=True, exclude_cross_bls=False, exclude_permutations=True)\n",
    "                       \n",
    "print()"
   ]
  },
  {
   "cell_type": "markdown",
   "id": "84347c28",
   "metadata": {
    "papermill": {
     "duration": 0.059272,
     "end_time": "2022-03-16T22:07:21.979799",
     "exception": false,
     "start_time": "2022-03-16T22:07:21.920527",
     "status": "completed"
    },
    "tags": []
   },
   "source": [
    "### foreground_dependent error bar"
   ]
  },
  {
   "cell_type": "code",
   "execution_count": 21,
   "id": "e1b8ad8a",
   "metadata": {
    "execution": {
     "iopub.execute_input": "2022-03-16T22:07:22.089130Z",
     "iopub.status.busy": "2022-03-16T22:07:22.088691Z",
     "iopub.status.idle": "2022-03-16T22:07:22.097473Z",
     "shell.execute_reply": "2022-03-16T22:07:22.097117Z"
    },
    "papermill": {
     "duration": 0.064991,
     "end_time": "2022-03-16T22:07:22.097567",
     "exception": false,
     "start_time": "2022-03-16T22:07:22.032576",
     "status": "completed"
    },
    "tags": []
   },
   "outputs": [],
   "source": [
    "# LST binned, Inpainted & xtalk subtracted files\n",
    "root = \"/lustre/aoc/projects/hera/H1C_IDR2/IDR2_2_pspec/v2/one_group/data/\"\n",
    "dfiles = sorted(glob.glob(root + \"zen.grp1.of1.LST.1*.HH.OCRSLP2X.uvh5\"))\n",
    "dfiles[5] = sim_file"
   ]
  },
  {
   "cell_type": "code",
   "execution_count": 22,
   "id": "c753de78",
   "metadata": {
    "execution": {
     "iopub.execute_input": "2022-03-16T22:07:22.208624Z",
     "iopub.status.busy": "2022-03-16T22:07:22.207279Z",
     "iopub.status.idle": "2022-03-16T22:07:22.210065Z",
     "shell.execute_reply": "2022-03-16T22:07:22.209082Z"
    },
    "papermill": {
     "duration": 0.059561,
     "end_time": "2022-03-16T22:07:22.210155",
     "exception": false,
     "start_time": "2022-03-16T22:07:22.150594",
     "status": "completed"
    },
    "tags": []
   },
   "outputs": [
    {
     "data": {
      "text/plain": [
       "'fringe_rate_filter/sim_1000_256.uvh5'"
      ]
     },
     "execution_count": 22,
     "metadata": {},
     "output_type": "execute_result"
    }
   ],
   "source": [
    "dfiles[5]"
   ]
  },
  {
   "cell_type": "code",
   "execution_count": 23,
   "id": "5da0f102",
   "metadata": {
    "execution": {
     "iopub.execute_input": "2022-03-16T22:07:22.335778Z",
     "iopub.status.busy": "2022-03-16T22:07:22.335296Z",
     "iopub.status.idle": "2022-03-16T22:07:22.624690Z",
     "shell.execute_reply": "2022-03-16T22:07:22.625267Z"
    },
    "papermill": {
     "duration": 0.362075,
     "end_time": "2022-03-16T22:07:22.625406",
     "exception": false,
     "start_time": "2022-03-16T22:07:22.263331",
     "status": "completed"
    },
    "tags": []
   },
   "outputs": [
    {
     "name": "stdout",
     "output_type": "stream",
     "text": [
      "fringe_rate_filter/sim_1000_256.uvh5\n"
     ]
    },
    {
     "name": "stderr",
     "output_type": "stream",
     "text": [
      "Telescope hera_sim is not in known_telescopes.\n"
     ]
    }
   ],
   "source": [
    "uvd_ = UVData()\n",
    "print(dfiles[5])\n",
    "uvd_.read(dfiles[5], read_data=False)"
   ]
  },
  {
   "cell_type": "code",
   "execution_count": 24,
   "id": "c200b0bb",
   "metadata": {
    "execution": {
     "iopub.execute_input": "2022-03-16T22:07:22.745764Z",
     "iopub.status.busy": "2022-03-16T22:07:22.745246Z",
     "iopub.status.idle": "2022-03-16T22:07:22.746552Z",
     "shell.execute_reply": "2022-03-16T22:07:22.746177Z"
    },
    "papermill": {
     "duration": 0.066731,
     "end_time": "2022-03-16T22:07:22.746643",
     "exception": false,
     "start_time": "2022-03-16T22:07:22.679912",
     "status": "completed"
    },
    "tags": []
   },
   "outputs": [],
   "source": [
    "xants = [0,2,11,24,50,53,54,67,69,98,122,136,139]"
   ]
  },
  {
   "cell_type": "code",
   "execution_count": 25,
   "id": "c075ba2d",
   "metadata": {
    "execution": {
     "iopub.execute_input": "2022-03-16T22:07:22.874626Z",
     "iopub.status.busy": "2022-03-16T22:07:22.874193Z",
     "iopub.status.idle": "2022-03-16T22:07:22.896150Z",
     "shell.execute_reply": "2022-03-16T22:07:22.896701Z"
    },
    "papermill": {
     "duration": 0.096484,
     "end_time": "2022-03-16T22:07:22.896804",
     "exception": false,
     "start_time": "2022-03-16T22:07:22.800320",
     "status": "completed"
    },
    "tags": []
   },
   "outputs": [],
   "source": [
    "# short baseline group\n",
    "bl_len_range = (14, 15)\n",
    "bl_deg_range = (0, 1)\n",
    "reds, lens, angs = hp.utils.get_reds(uvd_, bl_len_range=bl_len_range, bl_deg_range=bl_deg_range, xants=xants)\n",
    "bls = hp.utils.flatten(reds)"
   ]
  },
  {
   "cell_type": "code",
   "execution_count": 26,
   "id": "2a113786",
   "metadata": {
    "execution": {
     "iopub.execute_input": "2022-03-16T22:07:23.008808Z",
     "iopub.status.busy": "2022-03-16T22:07:23.008264Z",
     "iopub.status.idle": "2022-03-16T22:07:23.009679Z",
     "shell.execute_reply": "2022-03-16T22:07:23.009262Z"
    },
    "papermill": {
     "duration": 0.05928,
     "end_time": "2022-03-16T22:07:23.009777",
     "exception": false,
     "start_time": "2022-03-16T22:07:22.950497",
     "status": "completed"
    },
    "tags": []
   },
   "outputs": [],
   "source": [
    "refcal = '/lustre/aoc/projects/hera/H1C_IDR2/IDR2_2_pspec/v2/one_group/data/zen.grp1.of1.LST.1.50345.HH.OCRSLP2.allspws.refcal_smooth.calfits'"
   ]
  },
  {
   "cell_type": "code",
   "execution_count": 27,
   "id": "5a854914",
   "metadata": {
    "execution": {
     "iopub.execute_input": "2022-03-16T22:07:23.121688Z",
     "iopub.status.busy": "2022-03-16T22:07:23.120337Z",
     "iopub.status.idle": "2022-03-16T22:07:23.122476Z",
     "shell.execute_reply": "2022-03-16T22:07:23.122101Z"
    },
    "papermill": {
     "duration": 0.058075,
     "end_time": "2022-03-16T22:07:23.122567",
     "exception": false,
     "start_time": "2022-03-16T22:07:23.064492",
     "status": "completed"
    },
    "tags": []
   },
   "outputs": [],
   "source": [
    "# intermediate baseline group\n",
    "#bl_len_range = (40, 45)\n",
    "#bl_deg_range = (0, 1)\n",
    "#reds, lens, angs = hp.utils.get_reds(uvd_, bl_len_range=bl_len_range, bl_deg_range=bl_deg_range, xants=xants)\n",
    "#bls = hp.utils.flatten(reds)"
   ]
  },
  {
   "cell_type": "code",
   "execution_count": 28,
   "id": "ce728953",
   "metadata": {
    "execution": {
     "iopub.execute_input": "2022-03-16T22:07:23.253831Z",
     "iopub.status.busy": "2022-03-16T22:07:23.253334Z",
     "iopub.status.idle": "2022-03-16T22:09:06.862475Z",
     "shell.execute_reply": "2022-03-16T22:09:06.863121Z"
    },
    "papermill": {
     "duration": 103.686394,
     "end_time": "2022-03-16T22:09:06.863260",
     "exception": false,
     "start_time": "2022-03-16T22:07:23.176866",
     "status": "completed"
    },
    "tags": []
   },
   "outputs": [
    {
     "name": "stdout",
     "output_type": "stream",
     "text": [
      "fringe_rate_filter/sim_1000_256.uvh5\n"
     ]
    }
   ],
   "source": [
    "print(dfiles[5])\n",
    "uvd_.read(dfiles[5], time_range=time_range, antenna_nums=np.array(bls).flatten(), polarizations=['xx','yy'])"
   ]
  },
  {
   "cell_type": "markdown",
   "id": "3d23bc98",
   "metadata": {
    "papermill": {
     "duration": 0.054819,
     "end_time": "2022-03-16T22:09:06.974255",
     "exception": false,
     "start_time": "2022-03-16T22:09:06.919436",
     "status": "completed"
    },
    "tags": []
   },
   "source": [
    "### some parameters"
   ]
  },
  {
   "cell_type": "code",
   "execution_count": 29,
   "id": "544c0db7",
   "metadata": {
    "execution": {
     "iopub.execute_input": "2022-03-16T22:09:07.089698Z",
     "iopub.status.busy": "2022-03-16T22:09:07.089190Z",
     "iopub.status.idle": "2022-03-16T22:09:07.091044Z",
     "shell.execute_reply": "2022-03-16T22:09:07.090113Z"
    },
    "papermill": {
     "duration": 0.062429,
     "end_time": "2022-03-16T22:09:07.091134",
     "exception": false,
     "start_time": "2022-03-16T22:09:07.028705",
     "status": "completed"
    },
    "tags": []
   },
   "outputs": [
    {
     "name": "stdout",
     "output_type": "stream",
     "text": [
      "21.48000037266036\n"
     ]
    }
   ],
   "source": [
    "print(np.mean(np.diff(np.unique(uvd_.time_array)))*24*3600)"
   ]
  },
  {
   "cell_type": "code",
   "execution_count": 30,
   "id": "87c39f90",
   "metadata": {
    "execution": {
     "iopub.execute_input": "2022-03-16T22:09:07.205498Z",
     "iopub.status.busy": "2022-03-16T22:09:07.205001Z",
     "iopub.status.idle": "2022-03-16T22:09:07.206882Z",
     "shell.execute_reply": "2022-03-16T22:09:07.205946Z"
    },
    "papermill": {
     "duration": 0.060998,
     "end_time": "2022-03-16T22:09:07.206974",
     "exception": false,
     "start_time": "2022-03-16T22:09:07.145976",
     "status": "completed"
    },
    "tags": []
   },
   "outputs": [
    {
     "name": "stdout",
     "output_type": "stream",
     "text": [
      "21.538810908041622\n"
     ]
    }
   ],
   "source": [
    "print(np.mean(np.diff(np.unique(uvd_.lst_array)))*24*3600/2/np.pi)"
   ]
  },
  {
   "cell_type": "code",
   "execution_count": 31,
   "id": "6ba346ba",
   "metadata": {
    "execution": {
     "iopub.execute_input": "2022-03-16T22:09:07.323453Z",
     "iopub.status.busy": "2022-03-16T22:09:07.322105Z",
     "iopub.status.idle": "2022-03-16T22:09:07.324859Z",
     "shell.execute_reply": "2022-03-16T22:09:07.323877Z"
    },
    "papermill": {
     "duration": 0.062937,
     "end_time": "2022-03-16T22:09:07.324951",
     "exception": false,
     "start_time": "2022-03-16T22:09:07.262014",
     "status": "completed"
    },
    "tags": []
   },
   "outputs": [
    {
     "data": {
      "text/plain": [
       "(8.55777389548382, 8.9107710742545)"
      ]
     },
     "execution_count": 31,
     "metadata": {},
     "output_type": "execute_result"
    }
   ],
   "source": [
    "np.unique(uvd_.lst_array)[0]/2/np.pi*24, np.unique(uvd_.lst_array)[-1]/2/np.pi*24"
   ]
  },
  {
   "cell_type": "code",
   "execution_count": 32,
   "id": "e5736c1b",
   "metadata": {
    "execution": {
     "iopub.execute_input": "2022-03-16T22:09:07.438395Z",
     "iopub.status.busy": "2022-03-16T22:09:07.437888Z",
     "iopub.status.idle": "2022-03-16T22:09:07.439842Z",
     "shell.execute_reply": "2022-03-16T22:09:07.438842Z"
    },
    "papermill": {
     "duration": 0.060418,
     "end_time": "2022-03-16T22:09:07.439933",
     "exception": false,
     "start_time": "2022-03-16T22:09:07.379515",
     "status": "completed"
    },
    "tags": []
   },
   "outputs": [
    {
     "data": {
      "text/plain": [
       "60"
      ]
     },
     "execution_count": 32,
     "metadata": {},
     "output_type": "execute_result"
    }
   ],
   "source": [
    "uvd_.Ntimes"
   ]
  },
  {
   "cell_type": "code",
   "execution_count": 33,
   "id": "dab3dc9f",
   "metadata": {
    "execution": {
     "iopub.execute_input": "2022-03-16T22:09:07.554507Z",
     "iopub.status.busy": "2022-03-16T22:09:07.554010Z",
     "iopub.status.idle": "2022-03-16T22:09:07.555958Z",
     "shell.execute_reply": "2022-03-16T22:09:07.554958Z"
    },
    "papermill": {
     "duration": 0.061113,
     "end_time": "2022-03-16T22:09:07.556049",
     "exception": false,
     "start_time": "2022-03-16T22:09:07.494936",
     "status": "completed"
    },
    "tags": []
   },
   "outputs": [
    {
     "data": {
      "text/plain": [
       "array([21.4799881, 21.4799881, 21.4799881, ..., 21.4799881, 21.4799881,\n",
       "       21.4799881])"
      ]
     },
     "execution_count": 33,
     "metadata": {},
     "output_type": "execute_result"
    }
   ],
   "source": [
    "uvd_.integration_time"
   ]
  },
  {
   "cell_type": "code",
   "execution_count": 34,
   "id": "0348e5ab",
   "metadata": {
    "execution": {
     "iopub.execute_input": "2022-03-16T22:09:07.671150Z",
     "iopub.status.busy": "2022-03-16T22:09:07.670641Z",
     "iopub.status.idle": "2022-03-16T22:09:07.672538Z",
     "shell.execute_reply": "2022-03-16T22:09:07.671563Z"
    },
    "papermill": {
     "duration": 0.061281,
     "end_time": "2022-03-16T22:09:07.672629",
     "exception": false,
     "start_time": "2022-03-16T22:09:07.611348",
     "status": "completed"
    },
    "tags": []
   },
   "outputs": [
    {
     "data": {
      "text/plain": [
       "(21.47998809814453,)"
      ]
     },
     "execution_count": 34,
     "metadata": {},
     "output_type": "execute_result"
    }
   ],
   "source": [
    "np.mean(uvd_.integration_time), "
   ]
  },
  {
   "cell_type": "code",
   "execution_count": 35,
   "id": "12b9b4ab",
   "metadata": {
    "execution": {
     "iopub.execute_input": "2022-03-16T22:09:07.789219Z",
     "iopub.status.busy": "2022-03-16T22:09:07.788746Z",
     "iopub.status.idle": "2022-03-16T22:09:08.440476Z",
     "shell.execute_reply": "2022-03-16T22:09:08.441061Z"
    },
    "papermill": {
     "duration": 0.712862,
     "end_time": "2022-03-16T22:09:08.441198",
     "exception": false,
     "start_time": "2022-03-16T22:09:07.728336",
     "status": "completed"
    },
    "tags": []
   },
   "outputs": [
    {
     "name": "stderr",
     "output_type": "stream",
     "text": [
      "telescope_location is not set. Using known values for HERA.\n",
      "antenna_positions is not set. Using known values for HERA.\n"
     ]
    }
   ],
   "source": [
    "uvcal_ref = UVCal()\n",
    "uvcal_ref.read_calfits(refcal)"
   ]
  },
  {
   "cell_type": "code",
   "execution_count": 36,
   "id": "b7f2aeda",
   "metadata": {
    "execution": {
     "iopub.execute_input": "2022-03-16T22:09:08.558436Z",
     "iopub.status.busy": "2022-03-16T22:09:08.557943Z",
     "iopub.status.idle": "2022-03-16T22:09:08.559233Z",
     "shell.execute_reply": "2022-03-16T22:09:08.558857Z"
    },
    "papermill": {
     "duration": 0.061024,
     "end_time": "2022-03-16T22:09:08.559324",
     "exception": false,
     "start_time": "2022-03-16T22:09:08.498300",
     "status": "completed"
    },
    "tags": []
   },
   "outputs": [],
   "source": [
    "uvd_PXC_ = uvd_ #uvutils.uvcalibrate(uvd_, uvcal_ref, inplace=False, prop_flags=True, flag_missing=False)"
   ]
  },
  {
   "cell_type": "code",
   "execution_count": 37,
   "id": "d52f8514",
   "metadata": {
    "execution": {
     "iopub.execute_input": "2022-03-16T22:09:08.691928Z",
     "iopub.status.busy": "2022-03-16T22:09:08.691470Z",
     "iopub.status.idle": "2022-03-16T22:09:09.039754Z",
     "shell.execute_reply": "2022-03-16T22:09:09.040338Z"
    },
    "papermill": {
     "duration": 0.42509,
     "end_time": "2022-03-16T22:09:09.040476",
     "exception": false,
     "start_time": "2022-03-16T22:09:08.615386",
     "status": "completed"
    },
    "tags": []
   },
   "outputs": [],
   "source": [
    "uvd_PXC =hp.pstokes.construct_pstokes(uvd_PXC_, uvd_PXC_, pstokes='pI')"
   ]
  },
  {
   "cell_type": "code",
   "execution_count": 38,
   "id": "d6225109",
   "metadata": {
    "execution": {
     "iopub.execute_input": "2022-03-16T22:09:09.178268Z",
     "iopub.status.busy": "2022-03-16T22:09:09.177803Z",
     "iopub.status.idle": "2022-03-16T22:09:09.516719Z",
     "shell.execute_reply": "2022-03-16T22:09:09.517314Z"
    },
    "papermill": {
     "duration": 0.419792,
     "end_time": "2022-03-16T22:09:09.517490",
     "exception": false,
     "start_time": "2022-03-16T22:09:09.097698",
     "status": "completed"
    },
    "tags": []
   },
   "outputs": [],
   "source": [
    "uvd = hp.pstokes.construct_pstokes(uvd_, uvd_, pstokes='pI')"
   ]
  },
  {
   "cell_type": "code",
   "execution_count": 39,
   "id": "5f681dcf",
   "metadata": {
    "execution": {
     "iopub.execute_input": "2022-03-16T22:09:09.650616Z",
     "iopub.status.busy": "2022-03-16T22:09:09.650171Z",
     "iopub.status.idle": "2022-03-16T22:09:09.652816Z",
     "shell.execute_reply": "2022-03-16T22:09:09.653376Z"
    },
    "papermill": {
     "duration": 0.078847,
     "end_time": "2022-03-16T22:09:09.653489",
     "exception": false,
     "start_time": "2022-03-16T22:09:09.574642",
     "status": "completed"
    },
    "tags": []
   },
   "outputs": [],
   "source": [
    "beam = hp.PSpecBeamUV(\"/lustre/aoc/projects/hera/nkern/beams/NF_HERA_IQ_power_beam_healpix128.fits\")"
   ]
  },
  {
   "cell_type": "markdown",
   "id": "d74dce0b",
   "metadata": {
    "papermill": {
     "duration": 0.056515,
     "end_time": "2022-03-16T22:09:09.766464",
     "exception": false,
     "start_time": "2022-03-16T22:09:09.709949",
     "status": "completed"
    },
    "tags": []
   },
   "source": [
    "get the differenced visibility"
   ]
  },
  {
   "cell_type": "code",
   "execution_count": 40,
   "id": "88515db1",
   "metadata": {
    "execution": {
     "iopub.execute_input": "2022-03-16T22:09:09.896108Z",
     "iopub.status.busy": "2022-03-16T22:09:09.895592Z",
     "iopub.status.idle": "2022-03-16T22:09:10.137231Z",
     "shell.execute_reply": "2022-03-16T22:09:10.137832Z"
    },
    "papermill": {
     "duration": 0.315116,
     "end_time": "2022-03-16T22:09:10.137974",
     "exception": false,
     "start_time": "2022-03-16T22:09:09.822858",
     "status": "completed"
    },
    "tags": []
   },
   "outputs": [],
   "source": [
    "uvd1 = uvd.select(times=np.unique(uvd.time_array)[0:-1:2],inplace=False)\n",
    "uvd2 = uvd.select(times=np.unique(uvd.time_array)[1::2],inplace=False)\n",
    "uvd_td = copy.deepcopy(uvd1)\n",
    "uvd_td.data_array = (uvd2.data_array - uvd1.data_array)/np.sqrt(2)"
   ]
  },
  {
   "cell_type": "code",
   "execution_count": 41,
   "id": "a703dd63",
   "metadata": {
    "execution": {
     "iopub.execute_input": "2022-03-16T22:09:10.272903Z",
     "iopub.status.busy": "2022-03-16T22:09:10.272439Z",
     "iopub.status.idle": "2022-03-16T22:09:51.107338Z",
     "shell.execute_reply": "2022-03-16T22:09:51.107824Z"
    },
    "papermill": {
     "duration": 40.911497,
     "end_time": "2022-03-16T22:09:51.107982",
     "exception": false,
     "start_time": "2022-03-16T22:09:10.196485",
     "status": "completed"
    },
    "tags": []
   },
   "outputs": [
    {
     "name": "stderr",
     "output_type": "stream",
     "text": [
      "Casting complex values to real discards the imaginary part\n"
     ]
    },
    {
     "data": {
      "text/plain": [
       "<hera_pspec.pspecdata.PSpecData at 0x7fe65011d070>"
      ]
     },
     "execution_count": 41,
     "metadata": {},
     "output_type": "execute_result"
    }
   ],
   "source": [
    "# pspec at cross time\n",
    "hp.pspecdata.pspec_run([copy.deepcopy(uvd_td)], 'pspec_crosstime.h5', groupname='pI_shortbl_timediff', spw_ranges=[(0, 180)],\n",
    "                       dset_pairs=[(0,0)], pol_pairs=['pI'], input_data_weight='identity', norm='I',\n",
    "                       rephase_to_dset=False, interleave_times=False, Jy2mK=True, overwrite=True, verbose=False,\n",
    "                       bl_len_range=bl_len_range, bl_deg_range=bl_deg_range, beam=beam, taper='bh',\n",
    "                       broadcast_dset_flags=True, time_thresh=0.99, exclude_auto_bls=True, exclude_cross_bls=False, exclude_permutations=True)"
   ]
  },
  {
   "cell_type": "code",
   "execution_count": 42,
   "id": "243734e6",
   "metadata": {
    "execution": {
     "iopub.execute_input": "2022-03-16T22:09:51.245915Z",
     "iopub.status.busy": "2022-03-16T22:09:51.245446Z",
     "iopub.status.idle": "2022-03-16T22:59:32.866540Z",
     "shell.execute_reply": "2022-03-16T22:59:32.866007Z"
    },
    "papermill": {
     "duration": 2981.699802,
     "end_time": "2022-03-16T22:59:32.866696",
     "exception": false,
     "start_time": "2022-03-16T22:09:51.166894",
     "status": "completed"
    },
    "scrolled": true,
    "tags": []
   },
   "outputs": [
    {
     "name": "stdout",
     "output_type": "stream",
     "text": [
      "Warning: LST bins in dsets misaligned by more than 15 seconds\n"
     ]
    },
    {
     "name": "stdout",
     "output_type": "stream",
     "text": [
      "Warning: LST bins in dsets misaligned by more than 15 seconds\n"
     ]
    },
    {
     "name": "stderr",
     "output_type": "stream",
     "text": [
      "Casting complex values to real discards the imaginary part\n"
     ]
    },
    {
     "data": {
      "text/plain": [
       "<hera_pspec.pspecdata.PSpecData at 0x7fe60bb6d340>"
      ]
     },
     "execution_count": 42,
     "metadata": {},
     "output_type": "execute_result"
    }
   ],
   "source": [
    "# pspec at cross time\n",
    "hp.pspecdata.pspec_run([copy.deepcopy(uvd)], 'pspec_crosstime.h5', groupname='pI_shortbl', spw_ranges=[(0, 180)],\n",
    "                       dset_pairs=[(0,0)], pol_pairs=['pI'], input_data_weight='identity', norm='I',\n",
    "                       rephase_to_dset=True, interleave_times=True, Jy2mK=True, overwrite=True, verbose=False,\n",
    "                       bl_len_range=bl_len_range, bl_deg_range=bl_deg_range, beam=beam, taper='bh',\n",
    "                       broadcast_dset_flags=True, time_thresh=0.99, store_cov_diag=True, cov_model='foreground_dependent', \n",
    "                       exclude_auto_bls=True, exclude_cross_bls=False, exclude_permutations=True)"
   ]
  },
  {
   "cell_type": "code",
   "execution_count": 43,
   "id": "ebee8636",
   "metadata": {
    "execution": {
     "iopub.execute_input": "2022-03-16T22:59:33.085540Z",
     "iopub.status.busy": "2022-03-16T22:59:33.084924Z",
     "iopub.status.idle": "2022-03-16T22:59:33.918410Z",
     "shell.execute_reply": "2022-03-16T22:59:33.919022Z"
    },
    "papermill": {
     "duration": 0.963715,
     "end_time": "2022-03-16T22:59:33.919170",
     "exception": false,
     "start_time": "2022-03-16T22:59:32.955455",
     "status": "completed"
    },
    "tags": []
   },
   "outputs": [],
   "source": [
    "psc = hp.PSpecContainer('pspec_crosstime.h5', mode='rw', keep_open=True)\n",
    "uvp_cov_fg = psc.get_pspec('pI_shortbl', 'dset0_x_dset1')"
   ]
  },
  {
   "cell_type": "code",
   "execution_count": 44,
   "id": "d2586dcc",
   "metadata": {
    "execution": {
     "iopub.execute_input": "2022-03-16T22:59:34.057923Z",
     "iopub.status.busy": "2022-03-16T22:59:34.057463Z",
     "iopub.status.idle": "2022-03-16T22:59:35.614862Z",
     "shell.execute_reply": "2022-03-16T22:59:35.615487Z"
    },
    "papermill": {
     "duration": 1.636923,
     "end_time": "2022-03-16T22:59:35.615628",
     "exception": false,
     "start_time": "2022-03-16T22:59:33.978705",
     "status": "completed"
    },
    "tags": []
   },
   "outputs": [],
   "source": [
    "auto_Tsys = hp.utils.uvd_to_Tsys(uvd, beam)\n",
    "hp.utils.uvp_noise_error(uvp_cov_fg, auto_Tsys, err_type=['P_N','P_SN'])"
   ]
  },
  {
   "cell_type": "code",
   "execution_count": 45,
   "id": "3225ea5b",
   "metadata": {
    "execution": {
     "iopub.execute_input": "2022-03-16T22:59:35.753889Z",
     "iopub.status.busy": "2022-03-16T22:59:35.753433Z",
     "iopub.status.idle": "2022-03-16T22:59:37.639460Z",
     "shell.execute_reply": "2022-03-16T22:59:37.640145Z"
    },
    "papermill": {
     "duration": 1.965424,
     "end_time": "2022-03-16T22:59:37.640296",
     "exception": false,
     "start_time": "2022-03-16T22:59:35.674872",
     "status": "completed"
    },
    "tags": []
   },
   "outputs": [],
   "source": [
    "psc.set_pspec('pI_shortbl', 'dset0_x_dset1', uvp_cov_fg, overwrite=True)"
   ]
  },
  {
   "cell_type": "markdown",
   "id": "2f5beb4f",
   "metadata": {
    "papermill": {
     "duration": 0.058117,
     "end_time": "2022-03-16T22:59:37.758549",
     "exception": false,
     "start_time": "2022-03-16T22:59:37.700432",
     "status": "completed"
    },
    "tags": []
   },
   "source": [
    "## load power spectra"
   ]
  },
  {
   "cell_type": "code",
   "execution_count": 46,
   "id": "7bb03cb6",
   "metadata": {
    "execution": {
     "iopub.execute_input": "2022-03-16T22:59:37.963279Z",
     "iopub.status.busy": "2022-03-16T22:59:37.961854Z",
     "iopub.status.idle": "2022-03-16T22:59:41.347619Z",
     "shell.execute_reply": "2022-03-16T22:59:41.348252Z"
    },
    "papermill": {
     "duration": 3.493808,
     "end_time": "2022-03-16T22:59:41.348390",
     "exception": false,
     "start_time": "2022-03-16T22:59:37.854582",
     "status": "completed"
    },
    "tags": []
   },
   "outputs": [],
   "source": [
    "psc = hp.PSpecContainer('pspec_crosstime.h5', keep_open=False)\n",
    "uvp_cov_fg = psc.get_pspec('pI_shortbl', 'dset0_x_dset1')\n",
    "uvp_td = psc.get_pspec('pI_shortbl_timediff', 'dset0_x_dset0')"
   ]
  },
  {
   "cell_type": "code",
   "execution_count": 47,
   "id": "b1ea9197",
   "metadata": {
    "execution": {
     "iopub.execute_input": "2022-03-16T22:59:41.481443Z",
     "iopub.status.busy": "2022-03-16T22:59:41.481007Z",
     "iopub.status.idle": "2022-03-16T22:59:46.220801Z",
     "shell.execute_reply": "2022-03-16T22:59:46.221711Z"
    },
    "papermill": {
     "duration": 4.813928,
     "end_time": "2022-03-16T22:59:46.221927",
     "exception": false,
     "start_time": "2022-03-16T22:59:41.407999",
     "status": "completed"
    },
    "tags": []
   },
   "outputs": [],
   "source": [
    "psc_ = hp.PSpecContainer('pspec_nulltest.h5', keep_open=False)\n",
    "uvp_cov_n = psc_.get_pspec('pI_shortbl', 'dset0_x_dset1')"
   ]
  },
  {
   "cell_type": "code",
   "execution_count": 48,
   "id": "25cc6f00",
   "metadata": {
    "execution": {
     "iopub.execute_input": "2022-03-16T22:59:46.360189Z",
     "iopub.status.busy": "2022-03-16T22:59:46.359669Z",
     "iopub.status.idle": "2022-03-16T22:59:46.361031Z",
     "shell.execute_reply": "2022-03-16T22:59:46.360605Z"
    },
    "papermill": {
     "duration": 0.064387,
     "end_time": "2022-03-16T22:59:46.361121",
     "exception": false,
     "start_time": "2022-03-16T22:59:46.296734",
     "status": "completed"
    },
    "tags": []
   },
   "outputs": [],
   "source": [
    "delay_resolution = 1 / (uvp_cov_fg.freq_array[-1]-uvp_cov_fg.freq_array[0])*1e9"
   ]
  },
  {
   "cell_type": "markdown",
   "id": "e598dd89",
   "metadata": {
    "papermill": {
     "duration": 0.057943,
     "end_time": "2022-03-16T22:59:46.477203",
     "exception": false,
     "start_time": "2022-03-16T22:59:46.419260",
     "status": "completed"
    },
    "tags": []
   },
   "source": [
    "#### other systematics"
   ]
  },
  {
   "cell_type": "markdown",
   "id": "de267fe7",
   "metadata": {
    "papermill": {
     "duration": 0.058549,
     "end_time": "2022-03-16T22:59:46.593886",
     "exception": false,
     "start_time": "2022-03-16T22:59:46.535337",
     "status": "completed"
    },
    "tags": []
   },
   "source": [
    "PXC"
   ]
  },
  {
   "cell_type": "code",
   "execution_count": 49,
   "id": "154e6c14",
   "metadata": {
    "execution": {
     "iopub.execute_input": "2022-03-16T22:59:46.730937Z",
     "iopub.status.busy": "2022-03-16T22:59:46.730467Z",
     "iopub.status.idle": "2022-03-16T23:49:06.525635Z",
     "shell.execute_reply": "2022-03-16T23:49:06.526140Z"
    },
    "papermill": {
     "duration": 2959.874059,
     "end_time": "2022-03-16T23:49:06.526313",
     "exception": false,
     "start_time": "2022-03-16T22:59:46.652254",
     "status": "completed"
    },
    "tags": []
   },
   "outputs": [
    {
     "name": "stdout",
     "output_type": "stream",
     "text": [
      "Warning: LST bins in dsets misaligned by more than 15 seconds\n"
     ]
    },
    {
     "name": "stdout",
     "output_type": "stream",
     "text": [
      "Warning: LST bins in dsets misaligned by more than 15 seconds\n"
     ]
    },
    {
     "name": "stderr",
     "output_type": "stream",
     "text": [
      "Casting complex values to real discards the imaginary part\n"
     ]
    },
    {
     "data": {
      "text/plain": [
       "<hera_pspec.pspecdata.PSpecData at 0x7fe60bb9b400>"
      ]
     },
     "execution_count": 49,
     "metadata": {},
     "output_type": "execute_result"
    }
   ],
   "source": [
    "# pspec at cross time\n",
    "hp.pspecdata.pspec_run([copy.deepcopy(uvd_PXC)], 'pspec_systematics.h5', groupname='pI_shortbl_fg_PXC', spw_ranges=[(0, 180)],\n",
    "                       dset_pairs=[(0,0)], pol_pairs=['pI'], input_data_weight='identity', norm='I',\n",
    "                       rephase_to_dset=True, interleave_times=True, Jy2mK=True, overwrite=True, verbose=False,\n",
    "                       bl_len_range=bl_len_range, bl_deg_range=bl_deg_range, beam=beam, taper='bh',\n",
    "                       broadcast_dset_flags=True, time_thresh=0.99, store_cov_diag=True, cov_model='foreground_dependent', \n",
    "                       exclude_auto_bls=True, exclude_cross_bls=False, exclude_permutations=True)"
   ]
  },
  {
   "cell_type": "code",
   "execution_count": 50,
   "id": "faf3ee3d",
   "metadata": {
    "execution": {
     "iopub.execute_input": "2022-03-16T23:49:06.671929Z",
     "iopub.status.busy": "2022-03-16T23:49:06.671466Z",
     "iopub.status.idle": "2022-03-17T00:28:25.711519Z",
     "shell.execute_reply": "2022-03-17T00:28:25.710966Z"
    },
    "papermill": {
     "duration": 2359.119378,
     "end_time": "2022-03-17T00:28:25.711670",
     "exception": false,
     "start_time": "2022-03-16T23:49:06.592292",
     "status": "completed"
    },
    "tags": []
   },
   "outputs": [
    {
     "name": "stdout",
     "output_type": "stream",
     "text": [
      "Warning: LST bins in dsets misaligned by more than 15 seconds\n"
     ]
    },
    {
     "name": "stdout",
     "output_type": "stream",
     "text": [
      "Warning: LST bins in dsets misaligned by more than 15 seconds\n"
     ]
    },
    {
     "name": "stderr",
     "output_type": "stream",
     "text": [
      "Casting complex values to real discards the imaginary part\n"
     ]
    },
    {
     "data": {
      "text/plain": [
       "<hera_pspec.pspecdata.PSpecData at 0x7fe60bb9bbe0>"
      ]
     },
     "execution_count": 50,
     "metadata": {},
     "output_type": "execute_result"
    }
   ],
   "source": [
    "# pspec at cross time\n",
    "hp.pspecdata.pspec_run([copy.deepcopy(uvd_PXC)], 'pspec_systematics.h5', groupname='pI_shortbl_noise_PXC', spw_ranges=[(0, 180)],\n",
    "                       dset_pairs=[(0,0)], pol_pairs=['pI'], input_data_weight='identity', norm='I',\n",
    "                       rephase_to_dset=True, interleave_times=True, Jy2mK=True, overwrite=True, verbose=False,\n",
    "                       bl_len_range=bl_len_range, bl_deg_range=bl_deg_range, beam=beam, taper='bh',\n",
    "                       broadcast_dset_flags=True, time_thresh=0.99, store_cov_diag=True, cov_model='autos', \n",
    "                       exclude_auto_bls=True, exclude_cross_bls=False, exclude_permutations=True)"
   ]
  },
  {
   "cell_type": "markdown",
   "id": "cdd0b838",
   "metadata": {
    "papermill": {
     "duration": 0.109493,
     "end_time": "2022-03-17T00:28:25.932521",
     "exception": false,
     "start_time": "2022-03-17T00:28:25.823028",
     "status": "completed"
    },
    "tags": []
   },
   "source": [
    "P and PC"
   ]
  },
  {
   "cell_type": "code",
   "execution_count": 51,
   "id": "cd0d484f",
   "metadata": {
    "execution": {
     "iopub.execute_input": "2022-03-17T00:28:26.100176Z",
     "iopub.status.busy": "2022-03-17T00:28:26.099230Z",
     "iopub.status.idle": "2022-03-17T00:28:26.214943Z",
     "shell.execute_reply": "2022-03-17T00:28:26.215799Z"
    },
    "papermill": {
     "duration": 0.213562,
     "end_time": "2022-03-17T00:28:26.216057",
     "exception": false,
     "start_time": "2022-03-17T00:28:26.002495",
     "status": "completed"
    },
    "tags": []
   },
   "outputs": [],
   "source": [
    "# LST binned, Inpainted files\n",
    "root = \"/lustre/aoc/projects/hera/H1C_IDR2/IDR2_2_pspec/v2/one_group/data/\"\n",
    "dfiles = sorted(glob.glob(root + \"zen.grp1.of1.LST.1*.HH.OCRSLP2.uvh5\"))\n",
    "dfiles[5] = sim_file"
   ]
  },
  {
   "cell_type": "code",
   "execution_count": 52,
   "id": "e9c66df9",
   "metadata": {
    "execution": {
     "iopub.execute_input": "2022-03-17T00:28:26.395333Z",
     "iopub.status.busy": "2022-03-17T00:28:26.394818Z",
     "iopub.status.idle": "2022-03-17T00:28:26.396781Z",
     "shell.execute_reply": "2022-03-17T00:28:26.395777Z"
    },
    "papermill": {
     "duration": 0.072448,
     "end_time": "2022-03-17T00:28:26.396872",
     "exception": false,
     "start_time": "2022-03-17T00:28:26.324424",
     "status": "completed"
    },
    "tags": []
   },
   "outputs": [
    {
     "data": {
      "text/plain": [
       "'fringe_rate_filter/sim_1000_256.uvh5'"
      ]
     },
     "execution_count": 52,
     "metadata": {},
     "output_type": "execute_result"
    }
   ],
   "source": [
    "dfiles[5]"
   ]
  },
  {
   "cell_type": "code",
   "execution_count": 53,
   "id": "9051a5b4",
   "metadata": {
    "execution": {
     "iopub.execute_input": "2022-03-17T00:28:26.522721Z",
     "iopub.status.busy": "2022-03-17T00:28:26.522279Z",
     "iopub.status.idle": "2022-03-17T00:28:27.351227Z",
     "shell.execute_reply": "2022-03-17T00:28:27.351814Z"
    },
    "papermill": {
     "duration": 0.89396,
     "end_time": "2022-03-17T00:28:27.351954",
     "exception": false,
     "start_time": "2022-03-17T00:28:26.457994",
     "status": "completed"
    },
    "tags": []
   },
   "outputs": [
    {
     "name": "stdout",
     "output_type": "stream",
     "text": [
      "fringe_rate_filter/sim_1000_256.uvh5\n"
     ]
    },
    {
     "name": "stderr",
     "output_type": "stream",
     "text": [
      "Telescope hera_sim is not in known_telescopes.\n"
     ]
    }
   ],
   "source": [
    "uvd_P_ = UVData()\n",
    "print(dfiles[5])\n",
    "uvd_P_ .read(dfiles[5], read_data=False)"
   ]
  },
  {
   "cell_type": "code",
   "execution_count": 54,
   "id": "5b69fee6",
   "metadata": {
    "execution": {
     "iopub.execute_input": "2022-03-17T00:28:27.478820Z",
     "iopub.status.busy": "2022-03-17T00:28:27.478310Z",
     "iopub.status.idle": "2022-03-17T00:28:27.479605Z",
     "shell.execute_reply": "2022-03-17T00:28:27.479232Z"
    },
    "papermill": {
     "duration": 0.066048,
     "end_time": "2022-03-17T00:28:27.479706",
     "exception": false,
     "start_time": "2022-03-17T00:28:27.413658",
     "status": "completed"
    },
    "tags": []
   },
   "outputs": [],
   "source": [
    "xants = [0,2,11,24,50,53,54,67,69,98,122,136,139]"
   ]
  },
  {
   "cell_type": "code",
   "execution_count": 55,
   "id": "94328773",
   "metadata": {
    "execution": {
     "iopub.execute_input": "2022-03-17T00:28:27.624621Z",
     "iopub.status.busy": "2022-03-17T00:28:27.624191Z",
     "iopub.status.idle": "2022-03-17T00:28:27.661035Z",
     "shell.execute_reply": "2022-03-17T00:28:27.661582Z"
    },
    "papermill": {
     "duration": 0.119855,
     "end_time": "2022-03-17T00:28:27.661696",
     "exception": false,
     "start_time": "2022-03-17T00:28:27.541841",
     "status": "completed"
    },
    "tags": []
   },
   "outputs": [],
   "source": [
    "# short baseline group\n",
    "bl_len_range = (14, 15)\n",
    "bl_deg_range = (0, 1)\n",
    "reds, lens, angs = hp.utils.get_reds(uvd_P_, bl_len_range=bl_len_range, bl_deg_range=bl_deg_range, xants=xants)\n",
    "bls = hp.utils.flatten(reds)"
   ]
  },
  {
   "cell_type": "code",
   "execution_count": 56,
   "id": "b6798189",
   "metadata": {
    "execution": {
     "iopub.execute_input": "2022-03-17T00:28:28.617957Z",
     "iopub.status.busy": "2022-03-17T00:28:28.617292Z",
     "iopub.status.idle": "2022-03-17T00:28:28.619019Z",
     "shell.execute_reply": "2022-03-17T00:28:28.618502Z"
    },
    "papermill": {
     "duration": 0.11863,
     "end_time": "2022-03-17T00:28:28.619144",
     "exception": false,
     "start_time": "2022-03-17T00:28:28.500514",
     "status": "completed"
    },
    "tags": []
   },
   "outputs": [],
   "source": [
    "refcal = '/lustre/aoc/projects/hera/H1C_IDR2/IDR2_2_pspec/v2/one_group/data/zen.grp1.of1.LST.1.50345.HH.OCRSLP2.allspws.refcal_smooth.calfits'"
   ]
  },
  {
   "cell_type": "code",
   "execution_count": 57,
   "id": "070df01d",
   "metadata": {
    "execution": {
     "iopub.execute_input": "2022-03-17T00:28:28.766838Z",
     "iopub.status.busy": "2022-03-17T00:28:28.766367Z",
     "iopub.status.idle": "2022-03-17T00:30:13.829532Z",
     "shell.execute_reply": "2022-03-17T00:30:13.830160Z"
    },
    "papermill": {
     "duration": 105.145147,
     "end_time": "2022-03-17T00:30:13.830299",
     "exception": false,
     "start_time": "2022-03-17T00:28:28.685152",
     "status": "completed"
    },
    "tags": []
   },
   "outputs": [
    {
     "name": "stdout",
     "output_type": "stream",
     "text": [
      "fringe_rate_filter/sim_1000_256.uvh5\n"
     ]
    }
   ],
   "source": [
    "print(dfiles[5])\n",
    "uvd_P_.read(dfiles[5], time_range=time_range, antenna_nums=np.array(bls).flatten(), polarizations=['xx','yy'])"
   ]
  },
  {
   "cell_type": "code",
   "execution_count": 58,
   "id": "f55ca1be",
   "metadata": {
    "execution": {
     "iopub.execute_input": "2022-03-17T00:30:13.972205Z",
     "iopub.status.busy": "2022-03-17T00:30:13.971765Z",
     "iopub.status.idle": "2022-03-17T00:30:14.709345Z",
     "shell.execute_reply": "2022-03-17T00:30:14.709993Z"
    },
    "papermill": {
     "duration": 0.815395,
     "end_time": "2022-03-17T00:30:14.710139",
     "exception": false,
     "start_time": "2022-03-17T00:30:13.894744",
     "status": "completed"
    },
    "tags": []
   },
   "outputs": [
    {
     "name": "stderr",
     "output_type": "stream",
     "text": [
      "telescope_location is not set. Using known values for HERA.\n",
      "antenna_positions is not set. Using known values for HERA.\n"
     ]
    }
   ],
   "source": [
    "uvcal_ref = UVCal()\n",
    "uvcal_ref.read_calfits(refcal)"
   ]
  },
  {
   "cell_type": "code",
   "execution_count": 59,
   "id": "e4658ae5",
   "metadata": {
    "execution": {
     "iopub.execute_input": "2022-03-17T00:30:14.841832Z",
     "iopub.status.busy": "2022-03-17T00:30:14.841326Z",
     "iopub.status.idle": "2022-03-17T00:30:14.842626Z",
     "shell.execute_reply": "2022-03-17T00:30:14.842247Z"
    },
    "papermill": {
     "duration": 0.066736,
     "end_time": "2022-03-17T00:30:14.842723",
     "exception": false,
     "start_time": "2022-03-17T00:30:14.775987",
     "status": "completed"
    },
    "tags": []
   },
   "outputs": [],
   "source": [
    "uvd_PC_ = uvd_P_ #uvutils.uvcalibrate(uvd_P_, uvcal_ref, inplace=False, prop_flags=True, flag_missing=True)"
   ]
  },
  {
   "cell_type": "code",
   "execution_count": 60,
   "id": "3087b79b",
   "metadata": {
    "execution": {
     "iopub.execute_input": "2022-03-17T00:30:14.990264Z",
     "iopub.status.busy": "2022-03-17T00:30:14.989803Z",
     "iopub.status.idle": "2022-03-17T00:30:15.329021Z",
     "shell.execute_reply": "2022-03-17T00:30:15.329619Z"
    },
    "papermill": {
     "duration": 0.42527,
     "end_time": "2022-03-17T00:30:15.329804",
     "exception": false,
     "start_time": "2022-03-17T00:30:14.904534",
     "status": "completed"
    },
    "tags": []
   },
   "outputs": [],
   "source": [
    "uvd_PC =hp.pstokes.construct_pstokes(uvd_PC_, uvd_PC_, pstokes='pI')"
   ]
  },
  {
   "cell_type": "code",
   "execution_count": 61,
   "id": "bb7639e9",
   "metadata": {
    "execution": {
     "iopub.execute_input": "2022-03-17T00:30:15.478941Z",
     "iopub.status.busy": "2022-03-17T00:30:15.478479Z",
     "iopub.status.idle": "2022-03-17T00:30:15.819349Z",
     "shell.execute_reply": "2022-03-17T00:30:15.819979Z"
    },
    "papermill": {
     "duration": 0.423325,
     "end_time": "2022-03-17T00:30:15.820120",
     "exception": false,
     "start_time": "2022-03-17T00:30:15.396795",
     "status": "completed"
    },
    "tags": []
   },
   "outputs": [],
   "source": [
    "uvd_P = hp.pstokes.construct_pstokes(uvd_P_, uvd_P_, pstokes='pI')"
   ]
  },
  {
   "cell_type": "code",
   "execution_count": 62,
   "id": "559ede92",
   "metadata": {
    "execution": {
     "iopub.execute_input": "2022-03-17T00:30:15.949807Z",
     "iopub.status.busy": "2022-03-17T00:30:15.949350Z",
     "iopub.status.idle": "2022-03-17T00:30:16.074161Z",
     "shell.execute_reply": "2022-03-17T00:30:16.075265Z"
    },
    "papermill": {
     "duration": 0.191536,
     "end_time": "2022-03-17T00:30:16.075474",
     "exception": false,
     "start_time": "2022-03-17T00:30:15.883938",
     "status": "completed"
    },
    "tags": []
   },
   "outputs": [],
   "source": [
    "beam = hp.PSpecBeamUV(\"/lustre/aoc/projects/hera/nkern/beams/NF_HERA_IQ_power_beam_healpix128.fits\")"
   ]
  },
  {
   "cell_type": "code",
   "execution_count": 63,
   "id": "6efdce32",
   "metadata": {
    "execution": {
     "iopub.execute_input": "2022-03-17T00:30:16.262940Z",
     "iopub.status.busy": "2022-03-17T00:30:16.262469Z",
     "iopub.status.idle": "2022-03-17T01:19:35.944202Z",
     "shell.execute_reply": "2022-03-17T01:19:35.944564Z"
    },
    "papermill": {
     "duration": 2959.768013,
     "end_time": "2022-03-17T01:19:35.944712",
     "exception": false,
     "start_time": "2022-03-17T00:30:16.176699",
     "status": "completed"
    },
    "tags": []
   },
   "outputs": [
    {
     "name": "stdout",
     "output_type": "stream",
     "text": [
      "Warning: LST bins in dsets misaligned by more than 15 seconds\n"
     ]
    },
    {
     "name": "stdout",
     "output_type": "stream",
     "text": [
      "Warning: LST bins in dsets misaligned by more than 15 seconds\n"
     ]
    },
    {
     "name": "stderr",
     "output_type": "stream",
     "text": [
      "Casting complex values to real discards the imaginary part\n"
     ]
    },
    {
     "data": {
      "text/plain": [
       "<hera_pspec.pspecdata.PSpecData at 0x7fe60bb83fd0>"
      ]
     },
     "execution_count": 63,
     "metadata": {},
     "output_type": "execute_result"
    }
   ],
   "source": [
    "# pspec at cross time\n",
    "hp.pspecdata.pspec_run([copy.deepcopy(uvd_P)], 'pspec_systematics.h5', groupname='pI_shortbl_fg_P', spw_ranges=[(0, 180)],\n",
    "                       dset_pairs=[(0,0)], pol_pairs=['pI'], input_data_weight='identity', norm='I',\n",
    "                       rephase_to_dset=True, interleave_times=True, Jy2mK=True, overwrite=True, verbose=False,\n",
    "                       bl_len_range=bl_len_range, bl_deg_range=bl_deg_range, beam=beam, taper='bh',\n",
    "                       broadcast_dset_flags=True, time_thresh=0.99, store_cov_diag=True, cov_model='foreground_dependent', \n",
    "                       exclude_auto_bls=True, exclude_cross_bls=False, exclude_permutations=True)"
   ]
  },
  {
   "cell_type": "code",
   "execution_count": 64,
   "id": "57b460c1",
   "metadata": {
    "execution": {
     "iopub.execute_input": "2022-03-17T01:19:36.093939Z",
     "iopub.status.busy": "2022-03-17T01:19:36.093466Z",
     "iopub.status.idle": "2022-03-17T01:58:54.235858Z",
     "shell.execute_reply": "2022-03-17T01:58:54.235104Z"
    },
    "papermill": {
     "duration": 2358.227178,
     "end_time": "2022-03-17T01:58:54.236056",
     "exception": false,
     "start_time": "2022-03-17T01:19:36.008878",
     "status": "completed"
    },
    "tags": []
   },
   "outputs": [
    {
     "name": "stdout",
     "output_type": "stream",
     "text": [
      "Warning: LST bins in dsets misaligned by more than 15 seconds\n"
     ]
    },
    {
     "name": "stdout",
     "output_type": "stream",
     "text": [
      "Warning: LST bins in dsets misaligned by more than 15 seconds\n"
     ]
    },
    {
     "name": "stderr",
     "output_type": "stream",
     "text": [
      "Casting complex values to real discards the imaginary part\n"
     ]
    },
    {
     "data": {
      "text/plain": [
       "<hera_pspec.pspecdata.PSpecData at 0x7fe60bebc1f0>"
      ]
     },
     "execution_count": 64,
     "metadata": {},
     "output_type": "execute_result"
    }
   ],
   "source": [
    "# pspec at cross time\n",
    "hp.pspecdata.pspec_run([copy.deepcopy(uvd_P)], 'pspec_systematics.h5', groupname='pI_shortbl_noise_P', spw_ranges=[(0, 180)],\n",
    "                       dset_pairs=[(0,0)], pol_pairs=['pI'], input_data_weight='identity', norm='I',\n",
    "                       rephase_to_dset=True, interleave_times=True, Jy2mK=True, overwrite=True, verbose=False,\n",
    "                       bl_len_range=bl_len_range, bl_deg_range=bl_deg_range, beam=beam, taper='bh',\n",
    "                       broadcast_dset_flags=True, time_thresh=0.99, store_cov_diag=True, cov_model='autos', \n",
    "                       exclude_auto_bls=True, exclude_cross_bls=False, exclude_permutations=True)"
   ]
  },
  {
   "cell_type": "code",
   "execution_count": 65,
   "id": "fb738c13",
   "metadata": {
    "execution": {
     "iopub.execute_input": "2022-03-17T01:58:54.603111Z",
     "iopub.status.busy": "2022-03-17T01:58:54.602095Z",
     "iopub.status.idle": "2022-03-17T02:48:14.530011Z",
     "shell.execute_reply": "2022-03-17T02:48:14.530474Z"
    },
    "papermill": {
     "duration": 2960.1239,
     "end_time": "2022-03-17T02:48:14.530642",
     "exception": false,
     "start_time": "2022-03-17T01:58:54.406742",
     "status": "completed"
    },
    "tags": []
   },
   "outputs": [
    {
     "name": "stdout",
     "output_type": "stream",
     "text": [
      "Warning: LST bins in dsets misaligned by more than 15 seconds\n"
     ]
    },
    {
     "name": "stdout",
     "output_type": "stream",
     "text": [
      "Warning: LST bins in dsets misaligned by more than 15 seconds\n"
     ]
    },
    {
     "name": "stderr",
     "output_type": "stream",
     "text": [
      "Casting complex values to real discards the imaginary part\n"
     ]
    },
    {
     "data": {
      "text/plain": [
       "<hera_pspec.pspecdata.PSpecData at 0x7fe60be0ea00>"
      ]
     },
     "execution_count": 65,
     "metadata": {},
     "output_type": "execute_result"
    }
   ],
   "source": [
    "# pspec at cross time\n",
    "hp.pspecdata.pspec_run([copy.deepcopy(uvd_PC)], 'pspec_systematics.h5', groupname='pI_shortbl_fg_PC', spw_ranges=[(0, 180)],\n",
    "                       dset_pairs=[(0,0)], pol_pairs=['pI'], input_data_weight='identity', norm='I',\n",
    "                       rephase_to_dset=True, interleave_times=True, Jy2mK=True, overwrite=True, verbose=False,\n",
    "                       bl_len_range=bl_len_range, bl_deg_range=bl_deg_range, beam=beam, taper='bh',\n",
    "                       broadcast_dset_flags=True, time_thresh=0.99, store_cov_diag=True, cov_model='foreground_dependent', \n",
    "                       exclude_auto_bls=True, exclude_cross_bls=False, exclude_permutations=True)"
   ]
  },
  {
   "cell_type": "code",
   "execution_count": 66,
   "id": "fef80fe2",
   "metadata": {
    "execution": {
     "iopub.execute_input": "2022-03-17T02:48:15.095919Z",
     "iopub.status.busy": "2022-03-17T02:48:15.095462Z",
     "iopub.status.idle": "2022-03-17T03:27:34.645041Z",
     "shell.execute_reply": "2022-03-17T03:27:34.644478Z"
    },
    "papermill": {
     "duration": 2359.663524,
     "end_time": "2022-03-17T03:27:34.645192",
     "exception": false,
     "start_time": "2022-03-17T02:48:14.981668",
     "status": "completed"
    },
    "tags": []
   },
   "outputs": [
    {
     "name": "stdout",
     "output_type": "stream",
     "text": [
      "Warning: LST bins in dsets misaligned by more than 15 seconds\n"
     ]
    },
    {
     "name": "stdout",
     "output_type": "stream",
     "text": [
      "Warning: LST bins in dsets misaligned by more than 15 seconds\n"
     ]
    },
    {
     "name": "stderr",
     "output_type": "stream",
     "text": [
      "Casting complex values to real discards the imaginary part\n"
     ]
    },
    {
     "data": {
      "text/plain": [
       "<hera_pspec.pspecdata.PSpecData at 0x7fe60be0e430>"
      ]
     },
     "execution_count": 66,
     "metadata": {},
     "output_type": "execute_result"
    }
   ],
   "source": [
    "# pspec at cross time\n",
    "hp.pspecdata.pspec_run([copy.deepcopy(uvd_PC)], 'pspec_systematics.h5', groupname='pI_shortbl_noise_PC', spw_ranges=[(0, 180)],\n",
    "                       dset_pairs=[(0,0)], pol_pairs=['pI'], input_data_weight='identity', norm='I',\n",
    "                       rephase_to_dset=True, interleave_times=True, Jy2mK=True, overwrite=True, verbose=False,\n",
    "                       bl_len_range=bl_len_range, bl_deg_range=bl_deg_range, beam=beam, taper='bh',\n",
    "                       broadcast_dset_flags=True, time_thresh=0.99, store_cov_diag=True, cov_model='autos', \n",
    "                       exclude_auto_bls=True, exclude_cross_bls=False, exclude_permutations=True)"
   ]
  },
  {
   "cell_type": "markdown",
   "id": "214d53d5",
   "metadata": {
    "papermill": {
     "duration": 0.110044,
     "end_time": "2022-03-17T03:27:34.889996",
     "exception": false,
     "start_time": "2022-03-17T03:27:34.779952",
     "status": "completed"
    },
    "tags": []
   },
   "source": [
    "### some parameters"
   ]
  },
  {
   "cell_type": "code",
   "execution_count": 67,
   "id": "64237b9b",
   "metadata": {
    "execution": {
     "iopub.execute_input": "2022-03-17T03:27:35.087823Z",
     "iopub.status.busy": "2022-03-17T03:27:35.086788Z",
     "iopub.status.idle": "2022-03-17T03:27:35.093577Z",
     "shell.execute_reply": "2022-03-17T03:27:35.094221Z"
    },
    "papermill": {
     "duration": 0.134634,
     "end_time": "2022-03-17T03:27:35.094401",
     "exception": false,
     "start_time": "2022-03-17T03:27:34.959767",
     "status": "completed"
    },
    "tags": []
   },
   "outputs": [
    {
     "data": {
      "text/plain": [
       "30"
      ]
     },
     "execution_count": 67,
     "metadata": {},
     "output_type": "execute_result"
    }
   ],
   "source": [
    "uvp_cov_fg.Ntimes"
   ]
  },
  {
   "cell_type": "code",
   "execution_count": 68,
   "id": "e64a44d4",
   "metadata": {
    "execution": {
     "iopub.execute_input": "2022-03-17T03:27:35.259441Z",
     "iopub.status.busy": "2022-03-17T03:27:35.258106Z",
     "iopub.status.idle": "2022-03-17T03:27:35.260965Z",
     "shell.execute_reply": "2022-03-17T03:27:35.259958Z"
    },
    "papermill": {
     "duration": 0.075032,
     "end_time": "2022-03-17T03:27:35.261067",
     "exception": false,
     "start_time": "2022-03-17T03:27:35.186035",
     "status": "completed"
    },
    "tags": []
   },
   "outputs": [
    {
     "data": {
      "text/plain": [
       "array([2458116.52588191, 2458116.52637913, 2458116.52687635,\n",
       "       2458116.52737358, 2458116.5278708 , 2458116.52836802,\n",
       "       2458116.52886524, 2458116.52936246, 2458116.52985969,\n",
       "       2458116.53035691, 2458116.53085413, 2458116.53135135,\n",
       "       2458116.53184857, 2458116.5323458 , 2458116.53284302,\n",
       "       2458116.53334024, 2458116.53383746, 2458116.53433469,\n",
       "       2458116.53483191, 2458116.53532913, 2458116.53582635,\n",
       "       2458116.53632358, 2458116.5368208 , 2458116.53731802,\n",
       "       2458116.53781524, 2458116.53831246, 2458116.53880969,\n",
       "       2458116.53930691, 2458116.53980413, 2458116.54030135])"
      ]
     },
     "execution_count": 68,
     "metadata": {},
     "output_type": "execute_result"
    }
   ],
   "source": [
    "np.unique(uvp_cov_fg.time_avg_array)"
   ]
  },
  {
   "cell_type": "code",
   "execution_count": 69,
   "id": "4a0f2b79",
   "metadata": {
    "execution": {
     "iopub.execute_input": "2022-03-17T03:27:35.400067Z",
     "iopub.status.busy": "2022-03-17T03:27:35.398698Z",
     "iopub.status.idle": "2022-03-17T03:27:35.401463Z",
     "shell.execute_reply": "2022-03-17T03:27:35.400480Z"
    },
    "papermill": {
     "duration": 0.073325,
     "end_time": "2022-03-17T03:27:35.401554",
     "exception": false,
     "start_time": "2022-03-17T03:27:35.328229",
     "status": "completed"
    },
    "tags": []
   },
   "outputs": [
    {
     "data": {
      "text/plain": [
       "42.9599997812304"
      ]
     },
     "execution_count": 69,
     "metadata": {},
     "output_type": "execute_result"
    }
   ],
   "source": [
    "np.mean(np.diff(np.unique(uvp_cov_fg.time_avg_array)))*24*3600"
   ]
  },
  {
   "cell_type": "code",
   "execution_count": 70,
   "id": "e66fe63a",
   "metadata": {
    "execution": {
     "iopub.execute_input": "2022-03-17T03:27:35.540478Z",
     "iopub.status.busy": "2022-03-17T03:27:35.539151Z",
     "iopub.status.idle": "2022-03-17T03:27:35.541887Z",
     "shell.execute_reply": "2022-03-17T03:27:35.540903Z"
    },
    "papermill": {
     "duration": 0.073715,
     "end_time": "2022-03-17T03:27:35.541977",
     "exception": false,
     "start_time": "2022-03-17T03:27:35.468262",
     "status": "completed"
    },
    "tags": []
   },
   "outputs": [
    {
     "data": {
      "text/plain": [
       "43.07762154491905"
      ]
     },
     "execution_count": 70,
     "metadata": {},
     "output_type": "execute_result"
    }
   ],
   "source": [
    "np.mean(np.diff(np.unique(uvp_cov_fg.lst_avg_array)))/2/np.pi*24*3600"
   ]
  },
  {
   "cell_type": "code",
   "execution_count": 71,
   "id": "4507b960",
   "metadata": {
    "execution": {
     "iopub.execute_input": "2022-03-17T03:27:35.684629Z",
     "iopub.status.busy": "2022-03-17T03:27:35.683272Z",
     "iopub.status.idle": "2022-03-17T03:27:35.686040Z",
     "shell.execute_reply": "2022-03-17T03:27:35.685053Z"
    },
    "papermill": {
     "duration": 0.074327,
     "end_time": "2022-03-17T03:27:35.686130",
     "exception": false,
     "start_time": "2022-03-17T03:27:35.611803",
     "status": "completed"
    },
    "tags": []
   },
   "outputs": [
    {
     "data": {
      "text/plain": [
       "array([8.5607654 , 8.57273141, 8.58469741, 8.59666342, 8.60862942,\n",
       "       8.62059543, 8.63256144, 8.64452744, 8.65649345, 8.66845945,\n",
       "       8.68042545, 8.69239147, 8.70435747, 8.71632347, 8.72828948,\n",
       "       8.74025548, 8.75222149, 8.76418749, 8.7761535 , 8.78811951,\n",
       "       8.80008551, 8.81205152, 8.82401752, 8.83598353, 8.84794954,\n",
       "       8.85991554, 8.87188155, 8.88384755, 8.89581356, 8.90777957])"
      ]
     },
     "execution_count": 71,
     "metadata": {},
     "output_type": "execute_result"
    }
   ],
   "source": [
    "np.unique(uvp_cov_fg.lst_avg_array)/2/np.pi*24"
   ]
  },
  {
   "cell_type": "code",
   "execution_count": 72,
   "id": "1ee5374d",
   "metadata": {
    "execution": {
     "iopub.execute_input": "2022-03-17T03:27:35.825624Z",
     "iopub.status.busy": "2022-03-17T03:27:35.824307Z",
     "iopub.status.idle": "2022-03-17T03:27:35.827082Z",
     "shell.execute_reply": "2022-03-17T03:27:35.826703Z"
    },
    "papermill": {
     "duration": 0.073834,
     "end_time": "2022-03-17T03:27:35.827171",
     "exception": false,
     "start_time": "2022-03-17T03:27:35.753337",
     "status": "completed"
    },
    "tags": []
   },
   "outputs": [
    {
     "data": {
      "text/plain": [
       "(117.48046875, 100.0)"
      ]
     },
     "execution_count": 72,
     "metadata": {},
     "output_type": "execute_result"
    }
   ],
   "source": [
    "uvp_cov_fg.freq_array[-1]/1e6, uvp_cov_fg.freq_array[0]/1e6"
   ]
  },
  {
   "cell_type": "markdown",
   "id": "8fadd8b7",
   "metadata": {
    "papermill": {
     "duration": 0.067468,
     "end_time": "2022-03-17T03:27:35.962230",
     "exception": false,
     "start_time": "2022-03-17T03:27:35.894762",
     "status": "completed"
    },
    "tags": []
   },
   "source": [
    "## make plots"
   ]
  },
  {
   "cell_type": "code",
   "execution_count": 73,
   "id": "6d85b238",
   "metadata": {
    "execution": {
     "iopub.execute_input": "2022-03-17T03:27:36.106529Z",
     "iopub.status.busy": "2022-03-17T03:27:36.106030Z",
     "iopub.status.idle": "2022-03-17T03:27:36.107876Z",
     "shell.execute_reply": "2022-03-17T03:27:36.106951Z"
    },
    "papermill": {
     "duration": 0.078452,
     "end_time": "2022-03-17T03:27:36.107967",
     "exception": false,
     "start_time": "2022-03-17T03:27:36.029515",
     "status": "completed"
    },
    "tags": []
   },
   "outputs": [
    {
     "name": "stderr",
     "output_type": "stream",
     "text": [
      "invalid value encountered in true_divide\n"
     ]
    }
   ],
   "source": [
    "key = uvp_cov_fg.get_all_keys()[0]\n",
    "dlys = uvp_cov_fg.get_dlys(key[0]) * 1e9\n",
    "kparas = uvp_cov_fg.get_kparas(key[0])\n",
    "tau2k = (kparas/dlys)[0]"
   ]
  },
  {
   "cell_type": "code",
   "execution_count": 74,
   "id": "154ddb9f",
   "metadata": {
    "execution": {
     "iopub.execute_input": "2022-03-17T03:27:36.251152Z",
     "iopub.status.busy": "2022-03-17T03:27:36.250644Z",
     "iopub.status.idle": "2022-03-17T03:27:36.252543Z",
     "shell.execute_reply": "2022-03-17T03:27:36.251560Z"
    },
    "papermill": {
     "duration": 0.077048,
     "end_time": "2022-03-17T03:27:36.252632",
     "exception": false,
     "start_time": "2022-03-17T03:27:36.175584",
     "status": "completed"
    },
    "tags": []
   },
   "outputs": [
    {
     "data": {
      "text/plain": [
       "276"
      ]
     },
     "execution_count": 74,
     "metadata": {},
     "output_type": "execute_result"
    }
   ],
   "source": [
    "len(uvp_cov_fg.get_all_keys())"
   ]
  },
  {
   "cell_type": "code",
   "execution_count": 75,
   "id": "36a9cfc0",
   "metadata": {
    "execution": {
     "iopub.execute_input": "2022-03-17T03:27:36.393216Z",
     "iopub.status.busy": "2022-03-17T03:27:36.391905Z",
     "iopub.status.idle": "2022-03-17T03:27:36.394605Z",
     "shell.execute_reply": "2022-03-17T03:27:36.394229Z"
    },
    "papermill": {
     "duration": 0.074401,
     "end_time": "2022-03-17T03:27:36.394705",
     "exception": false,
     "start_time": "2022-03-17T03:27:36.320304",
     "status": "completed"
    },
    "tags": []
   },
   "outputs": [
    {
     "name": "stdout",
     "output_type": "stream",
     "text": [
      "(0, ((12, 13), (13, 14)), ('pI', 'pI'))\n"
     ]
    }
   ],
   "source": [
    "print(key)"
   ]
  },
  {
   "cell_type": "code",
   "execution_count": 76,
   "id": "5586a85b",
   "metadata": {
    "execution": {
     "iopub.execute_input": "2022-03-17T03:27:36.556739Z",
     "iopub.status.busy": "2022-03-17T03:27:36.555423Z",
     "iopub.status.idle": "2022-03-17T03:27:36.557214Z",
     "shell.execute_reply": "2022-03-17T03:27:36.557566Z"
    },
    "papermill": {
     "duration": 0.094164,
     "end_time": "2022-03-17T03:27:36.557679",
     "exception": false,
     "start_time": "2022-03-17T03:27:36.463515",
     "status": "completed"
    },
    "tags": []
   },
   "outputs": [],
   "source": [
    "def tau2k_(x):\n",
    "    return x * tau2k\n",
    "def k2tau_(x):\n",
    "    return x / tau2k"
   ]
  },
  {
   "cell_type": "code",
   "execution_count": 77,
   "id": "a305e6fc",
   "metadata": {
    "execution": {
     "iopub.execute_input": "2022-03-17T03:27:36.706453Z",
     "iopub.status.busy": "2022-03-17T03:27:36.705026Z",
     "iopub.status.idle": "2022-03-17T03:27:36.707307Z",
     "shell.execute_reply": "2022-03-17T03:27:36.706907Z"
    },
    "papermill": {
     "duration": 0.080966,
     "end_time": "2022-03-17T03:27:36.707397",
     "exception": false,
     "start_time": "2022-03-17T03:27:36.626431",
     "status": "completed"
    },
    "tags": []
   },
   "outputs": [],
   "source": [
    "from matplotlib.ticker import Locator\n",
    "class MinorSymLogLocator(Locator):\n",
    "    \"\"\"\n",
    "    Dynamically find minor tick positions based on the positions of\n",
    "    major ticks for a symlog scaling.\n",
    "    \"\"\"\n",
    "    def __init__(self, linthresh):\n",
    "        \"\"\"\n",
    "        Ticks will be placed between the major ticks.\n",
    "        The placement is linear for x between -linthresh and linthresh,\n",
    "        otherwise its logarithmically\n",
    "        \"\"\"\n",
    "        self.linthresh = linthresh\n",
    "\n",
    "    def __call__(self):\n",
    "        'Return the locations of the ticks'\n",
    "        majorlocs = self.axis.get_majorticklocs()\n",
    "\n",
    "        # iterate through minor locs\n",
    "        minorlocs = []\n",
    "\n",
    "        # handle the lowest part\n",
    "        for i in range(1, len(majorlocs)):\n",
    "            majorstep = majorlocs[i] - majorlocs[i-1]\n",
    "            if abs(majorlocs[i-1] + majorstep/2) < self.linthresh:\n",
    "                ndivs = 10\n",
    "            else:\n",
    "                ndivs = 9\n",
    "            minorstep = majorstep / ndivs\n",
    "            locs = np.arange(majorlocs[i-1], majorlocs[i], minorstep)[1:]\n",
    "            minorlocs.extend(locs)\n",
    "\n",
    "        return self.raise_if_exceeds(np.array(minorlocs))\n",
    "\n",
    "    def tick_values(self, vmin, vmax):\n",
    "        raise NotImplementedError('Cannot get tick locations for a '\n",
    "                                  '%s type.' % type(self))"
   ]
  },
  {
   "cell_type": "code",
   "execution_count": 78,
   "id": "c22d9c31",
   "metadata": {
    "execution": {
     "iopub.execute_input": "2022-03-17T03:27:36.854363Z",
     "iopub.status.busy": "2022-03-17T03:27:36.853851Z",
     "iopub.status.idle": "2022-03-17T03:27:36.855162Z",
     "shell.execute_reply": "2022-03-17T03:27:36.854788Z"
    },
    "papermill": {
     "duration": 0.079002,
     "end_time": "2022-03-17T03:27:36.855253",
     "exception": false,
     "start_time": "2022-03-17T03:27:36.776251",
     "status": "completed"
    },
    "tags": []
   },
   "outputs": [],
   "source": [
    "time_index = 0\n",
    "# Dicts of colors\n",
    "color_list = odict()\n",
    "# Dicts of labels\n",
    "label_list = odict()\n",
    "# Dicts of error bars\n",
    "error_list = odict()\n",
    "linestyle_list = odict()\n",
    "\n",
    "# The extra kinds of error bars\n",
    "error_list['PSN'] = uvp_cov_fg.get_stats('P_SN', key)[time_index].real\n",
    "label_list['PSN'] = r'$P_\\mathrm{SN}$'\n",
    "color_list['PSN'] = 'darkcyan' \n",
    "linestyle_list['PSN'] = \"-\"\n",
    "error_list['PN'] = uvp_cov_fg.get_stats('P_N', key)[time_index].real\n",
    "label_list['PN'] = r'$P_\\mathrm{N}$'\n",
    "color_list['PN'] = 'tomato' \n",
    "linestyle_list['PN'] = \"-\"\n",
    "# The power spectra of time difference data as error bars in noise dominant regions, \n",
    "error_list['fg'] = uvp_cov_fg.get_stats('foreground_dependent_diag', key)[time_index].real\n",
    "label_list['fg'] = r\"$\\sigma_\\mathrm{QE-SN}$\"\n",
    "color_list['fg'] = 'limegreen' \n",
    "linestyle_list['fg'] = \"-\"\n",
    "error_list['noise'] = uvp_cov_n.get_stats('autos_diag', key)[time_index].real\n",
    "label_list['noise'] = r\"$\\sigma_\\mathrm{QE-N}$\"\n",
    "color_list['noise'] = 'darkred' \n",
    "linestyle_list['noise'] = \"-\"\n",
    "error_list['Pdiff'] = np.abs(uvp_td.get_data(key)[time_index].real)\n",
    "color_list['Pdiff'] = 'orange' \n",
    "label_list['Pdiff'] = r'$P_\\mathrm{diff}$'\n",
    "linestyle_list['Pdiff'] = \"-.\"\n",
    "for error_type in error_list.keys():  \n",
    "    error_list[error_type] = np.array(error_list[error_type]).reshape(-1)\n",
    "\n",
    "# The power spectrum\n",
    "ps = (uvp_cov_fg.get_data(key)[time_index].real).reshape(-1)"
   ]
  },
  {
   "cell_type": "code",
   "execution_count": 79,
   "id": "7f62102b",
   "metadata": {
    "execution": {
     "iopub.execute_input": "2022-03-17T03:27:37.014475Z",
     "iopub.status.busy": "2022-03-17T03:27:37.014015Z",
     "iopub.status.idle": "2022-03-17T03:27:41.161444Z",
     "shell.execute_reply": "2022-03-17T03:27:40.558595Z"
    },
    "papermill": {
     "duration": 4.238076,
     "end_time": "2022-03-17T03:27:41.161695",
     "exception": false,
     "start_time": "2022-03-17T03:27:36.923619",
     "status": "completed"
    },
    "tags": []
   },
   "outputs": [
    {
     "data": {
      "text/plain": [
       "<matplotlib.lines.Line2D at 0x7fe60b16b850>"
      ]
     },
     "execution_count": 79,
     "metadata": {},
     "output_type": "execute_result"
    },
    {
     "data": {
      "image/png": "[encoded data removed]",
      "text/plain": [
       "<Figure size 1152x1080 with 3 Axes>"
      ]
     },
     "metadata": {
      "needs_background": "light"
     },
     "output_type": "display_data"
    }
   ],
   "source": [
    "fig = plt.figure(figsize=(16,15), constrained_layout=True)\n",
    "gs = fig.add_gridspec(3, 2, wspace=0.02)\n",
    "psunits = uvp_cov_fg.units\n",
    "if \"h^-1\" in psunits: psunits = psunits.replace(\"h^-1\", \"h^{-1}\")\n",
    "if \"h^-3\" in psunits: psunits = psunits.replace(\"h^-3\", \"h^{-3}\")\n",
    "if \"Mpc\" in psunits and \"\\\\rm\" not in psunits: \n",
    "    psunits = psunits.replace(\"Mpc\", r\"{\\rm Mpc}\")\n",
    "if \"pi\" in psunits and \"\\\\pi\" not in psunits: \n",
    "    psunits = psunits.replace(\"pi\", r\"\\pi\")\n",
    "    \n",
    "# Plot different kinds of error bars\n",
    "ax = fig.add_subplot(gs[0,:])\n",
    "ax.plot(dlys[ps>=0.], ps[ps>=0.], \".\", label='power spectra'+ r'$(+)$', c='k', markersize=8, alpha = 0.6)\n",
    "ax.plot(dlys[ps<0.], np.abs(ps[ps<0.]), \".\", fillstyle='none', label='power spectra'+ r'$(-)$', c='k', markersize=8, alpha = 0.6)\n",
    "ax.set_xlim(-3000,3000)\n",
    "for error_type in error_list.keys():\n",
    "    ax.plot(dlys, error_list[error_type], ls=linestyle_list[error_type],label=label_list[error_type], c=color_list[error_type], lw=2)\n",
    "ax.set_ylabel(\"$P(k_\\parallel)$ $[%s]$\" % psunits, fontsize=16)\n",
    "#ax.set_xlabel(r\"$\\tau$ $[{\\rm ns}]$\", fontsize=20)\n",
    "ax.set_xticklabels([])\n",
    "ax.tick_params(axis='both', which='both', labelsize=16)\n",
    "ax.xaxis.set_minor_locator(ticker.MultipleLocator(500))\n",
    "ax.semilogy()\n",
    "ax.minorticks_on()\n",
    "ax.yaxis.set_minor_locator(ticker.LogLocator(base=10, subs=[0.2,0.4,0.6,0.8], numticks=20))\n",
    "ax.yaxis.set_minor_formatter(ticker.NullFormatter())\n",
    "ax.grid()\n",
    "ax.legend(loc='upper right', fontsize=14, ncol=3)\n",
    "ax.set_title('A single-time instance of power spectra from the HERA Phase I Data', bbox=dict(fc='wheat', alpha=0.5), fontsize=20, pad=15)\n",
    "ax.axvspan(-200, -20, facecolor='#2ca02c', alpha=0.2)\n",
    "ax.axvspan(20, 200, facecolor='#2ca02c', alpha=0.2)\n",
    "\n",
    "ax1 = ax.secondary_xaxis('top', functions=(tau2k_, k2tau_))\n",
    "ax1.tick_params(axis='both', which='both', labelsize=16, direction='out')\n",
    "ax1.xaxis.set_major_locator(ticker.MultipleLocator(1))\n",
    "ax1.xaxis.set_minor_locator(ticker.MultipleLocator(0.2))\n",
    "ax1.set_xlabel(r\"$k_\\parallel [h {\\rm Mpc}^{-1}]$\", fontsize=16)\n",
    "\n",
    "#handles, labels = ax.get_legend_handles_labels()\n",
    "#fig.legend(handles, labels, bbox_to_anchor=(0.53,1.15), loc='upper center', fontsize=14, ncol=3,)\n",
    "#fig.tight_layout()\n",
    "\n",
    "# Plot ratios of different kinds of error bars\n",
    "ax = fig.add_subplot(gs[1,:])\n",
    "for error_type in ['Pdiff','PN','fg']:\n",
    "    ax.plot(dlys, np.abs(error_list[error_type]/error_list['noise']-1), ls=linestyle_list[error_type],label=label_list[error_type], c=color_list[error_type], lw=2)\n",
    "ax.set_xticklabels([])\n",
    "ax.tick_params(axis='both', which='both', labelsize=16)\n",
    "ax.grid()\n",
    "ax.semilogy()\n",
    "ax.set_ylim(1e-3,1)\n",
    "ax.set_xlim(-3000,3000)\n",
    "ax.set_ylabel(\"abs\" + r\"$\\left(\\frac{\\sigma-\\sigma_{\\rm QE-N}}{\\sigma_{\\rm QE-N}}\\right)$\", fontsize=20)\n",
    "#ax.yaxis.set_minor_locator(MinorSymLogLocator(0.01))\n",
    "#ax.yaxis.set_minor_formatter(ticker.NullFormatter())\n",
    "ax.xaxis.set_minor_locator(ticker.MultipleLocator(500))\n",
    "ax.axvspan(-200, -20, facecolor='#2ca02c', alpha=0.2)\n",
    "ax.axvspan(20, 200, facecolor='#2ca02c', alpha=0.2)\n",
    "ax.axhline(y=0, c='k', lw=3)\n",
    "\n",
    "ax = fig.add_subplot(gs[2,:])\n",
    "for error_type in ['PSN']:\n",
    "    ax.plot(dlys, np.abs(error_list[error_type]/error_list['fg']-1), ls=linestyle_list[error_type], label=label_list[error_type], c=color_list[error_type], lw=2)\n",
    "ax.set_xlabel(r\"$\\tau$ $[{\\rm ns}]$\", fontsize=16)\n",
    "ax.tick_params(axis='both', which='both', labelsize=16)\n",
    "ax.grid()\n",
    "ax.set_xlim(-3000,3000)\n",
    "ax.semilogy()\n",
    "ax.set_ylim(1e-3,1)\n",
    "ax.xaxis.set_minor_locator(ticker.MultipleLocator(500))\n",
    "ax.set_ylabel(\"abs\" + r\"$\\left(\\frac{\\sigma-\\sigma_{\\rm QE-SN}}{\\sigma_{\\rm QE-SN}}\\right)$\", fontsize=20)\n",
    "ax.axvspan(-200, -20, facecolor='#2ca02c', alpha=0.2)\n",
    "ax.axvspan(20, 200, facecolor='#2ca02c', alpha=0.2)\n",
    "ax.axhline(y=0, c='k', lw=3)"
   ]
  },
  {
   "cell_type": "markdown",
   "id": "df5e9578",
   "metadata": {
    "papermill": {
     "duration": 0.072206,
     "end_time": "2022-03-17T03:27:41.357742",
     "exception": false,
     "start_time": "2022-03-17T03:27:41.285536",
     "status": "completed"
    },
    "tags": []
   },
   "source": [
    "get the time average"
   ]
  },
  {
   "cell_type": "code",
   "execution_count": 80,
   "id": "c39d5907",
   "metadata": {
    "execution": {
     "iopub.execute_input": "2022-03-17T03:27:41.506910Z",
     "iopub.status.busy": "2022-03-17T03:27:41.506398Z",
     "iopub.status.idle": "2022-03-17T03:27:41.507724Z",
     "shell.execute_reply": "2022-03-17T03:27:41.507323Z"
    },
    "papermill": {
     "duration": 0.079393,
     "end_time": "2022-03-17T03:27:41.507829",
     "exception": false,
     "start_time": "2022-03-17T03:27:41.428436",
     "status": "completed"
    },
    "tags": []
   },
   "outputs": [],
   "source": [
    "new_stats_array = odict()\n",
    "new_stats_array.update({'Pdiff_err': {0: np.abs(uvp_td.data_array[0].real)}})\n",
    "new_stats_array.update(uvp_cov_fg.stats_array)"
   ]
  },
  {
   "cell_type": "code",
   "execution_count": 81,
   "id": "188f2d1c",
   "metadata": {
    "execution": {
     "iopub.execute_input": "2022-03-17T03:27:41.654101Z",
     "iopub.status.busy": "2022-03-17T03:27:41.653591Z",
     "iopub.status.idle": "2022-03-17T03:27:41.654922Z",
     "shell.execute_reply": "2022-03-17T03:27:41.654511Z"
    },
    "papermill": {
     "duration": 0.075141,
     "end_time": "2022-03-17T03:27:41.655012",
     "exception": false,
     "start_time": "2022-03-17T03:27:41.579871",
     "status": "completed"
    },
    "tags": []
   },
   "outputs": [],
   "source": [
    "uvp_cov_fg.stats_array = new_stats_array"
   ]
  },
  {
   "cell_type": "code",
   "execution_count": 82,
   "id": "2694b5c4",
   "metadata": {
    "execution": {
     "iopub.execute_input": "2022-03-17T03:27:41.800261Z",
     "iopub.status.busy": "2022-03-17T03:27:41.799763Z",
     "iopub.status.idle": "2022-03-17T03:27:41.801606Z",
     "shell.execute_reply": "2022-03-17T03:27:41.800687Z"
    },
    "papermill": {
     "duration": 0.076129,
     "end_time": "2022-03-17T03:27:41.801707",
     "exception": false,
     "start_time": "2022-03-17T03:27:41.725578",
     "status": "completed"
    },
    "tags": []
   },
   "outputs": [
    {
     "name": "stdout",
     "output_type": "stream",
     "text": [
      "30\n"
     ]
    }
   ],
   "source": [
    "print(uvp_cov_fg.Ntimes)"
   ]
  },
  {
   "cell_type": "code",
   "execution_count": 83,
   "id": "fb14f8f5",
   "metadata": {
    "execution": {
     "iopub.execute_input": "2022-03-17T03:27:41.973915Z",
     "iopub.status.busy": "2022-03-17T03:27:41.973459Z",
     "iopub.status.idle": "2022-03-17T03:27:44.266250Z",
     "shell.execute_reply": "2022-03-17T03:27:44.266836Z"
    },
    "papermill": {
     "duration": 2.394363,
     "end_time": "2022-03-17T03:27:44.266978",
     "exception": false,
     "start_time": "2022-03-17T03:27:41.872615",
     "status": "completed"
    },
    "tags": []
   },
   "outputs": [],
   "source": [
    "uvp_cov_fg_uni = uvp_cov_fg.average_spectra(time_avg=True, error_weights=None, error_field=['Pdiff_err',\"foreground_dependent_diag\", \"P_N\",\"P_SN\"],\n",
    "                              inplace=False)"
   ]
  },
  {
   "cell_type": "code",
   "execution_count": 84,
   "id": "d84b77bb",
   "metadata": {
    "execution": {
     "iopub.execute_input": "2022-03-17T03:27:44.431986Z",
     "iopub.status.busy": "2022-03-17T03:27:44.431529Z",
     "iopub.status.idle": "2022-03-17T03:27:46.376833Z",
     "shell.execute_reply": "2022-03-17T03:27:46.377433Z"
    },
    "papermill": {
     "duration": 2.037508,
     "end_time": "2022-03-17T03:27:46.377596",
     "exception": false,
     "start_time": "2022-03-17T03:27:44.340088",
     "status": "completed"
    },
    "tags": []
   },
   "outputs": [],
   "source": [
    "uvp_cov_n_uni = uvp_cov_n.average_spectra(time_avg=True, error_weights=None, error_field=[\"autos_diag\"], inplace=False)"
   ]
  },
  {
   "cell_type": "code",
   "execution_count": 85,
   "id": "bf9a6144",
   "metadata": {
    "execution": {
     "iopub.execute_input": "2022-03-17T03:27:46.545978Z",
     "iopub.status.busy": "2022-03-17T03:27:46.545460Z",
     "iopub.status.idle": "2022-03-17T03:27:46.546784Z",
     "shell.execute_reply": "2022-03-17T03:27:46.546394Z"
    },
    "papermill": {
     "duration": 0.083115,
     "end_time": "2022-03-17T03:27:46.546878",
     "exception": false,
     "start_time": "2022-03-17T03:27:46.463763",
     "status": "completed"
    },
    "tags": []
   },
   "outputs": [],
   "source": [
    "key = uvp_cov_fg_uni.get_all_keys()[0]\n",
    "error_tavg_list = odict()\n",
    "error_tavg_list['PSN'] = uvp_cov_fg_uni.get_stats('P_SN', key)[0].real\n",
    "error_tavg_list['PN'] = uvp_cov_fg_uni.get_stats('P_N', key)[0].real\n",
    "error_tavg_list['fg'] = uvp_cov_fg_uni.get_stats('foreground_dependent_diag', key)[0].real\n",
    "error_tavg_list['noise'] = uvp_cov_n_uni.get_stats('autos_diag', key)[0].real\n",
    "error_tavg_list['Pdiff'] = uvp_cov_fg_uni.get_stats('Pdiff_err', key)[0].real\n",
    "# The power spectrum\n",
    "ps_tavg = (uvp_cov_fg_uni.get_data(key)[0].real).reshape(-1)"
   ]
  },
  {
   "cell_type": "markdown",
   "id": "1710567a",
   "metadata": {
    "papermill": {
     "duration": 0.070901,
     "end_time": "2022-03-17T03:27:46.689407",
     "exception": false,
     "start_time": "2022-03-17T03:27:46.618506",
     "status": "completed"
    },
    "tags": []
   },
   "source": [
    "bootstrap"
   ]
  },
  {
   "cell_type": "code",
   "execution_count": 86,
   "id": "b04f2767",
   "metadata": {
    "execution": {
     "iopub.execute_input": "2022-03-17T03:27:46.858633Z",
     "iopub.status.busy": "2022-03-17T03:27:46.858200Z",
     "iopub.status.idle": "2022-03-17T03:27:46.980003Z",
     "shell.execute_reply": "2022-03-17T03:27:46.980568Z"
    },
    "papermill": {
     "duration": 0.215916,
     "end_time": "2022-03-17T03:27:46.980706",
     "exception": false,
     "start_time": "2022-03-17T03:27:46.764790",
     "status": "completed"
    },
    "tags": []
   },
   "outputs": [],
   "source": [
    "boots = []\n",
    "spectra = uvp_cov_fg.get_data(key)\n",
    "for i in range(2000):\n",
    "    _select = np.random.choice(np.arange(spectra.shape[0]), spectra.shape[0], replace=True)\n",
    "    boots.append(np.mean(spectra[_select,:], axis=0))\n",
    "error_tavg_list['boot'] = np.std(np.real(boots), axis=0)"
   ]
  },
  {
   "cell_type": "code",
   "execution_count": 87,
   "id": "3ef63146",
   "metadata": {
    "execution": {
     "iopub.execute_input": "2022-03-17T03:27:47.127993Z",
     "iopub.status.busy": "2022-03-17T03:27:47.127484Z",
     "iopub.status.idle": "2022-03-17T03:27:47.128800Z",
     "shell.execute_reply": "2022-03-17T03:27:47.128409Z"
    },
    "papermill": {
     "duration": 0.076285,
     "end_time": "2022-03-17T03:27:47.128893",
     "exception": false,
     "start_time": "2022-03-17T03:27:47.052608",
     "status": "completed"
    },
    "tags": []
   },
   "outputs": [],
   "source": [
    "label_list['boot'] = r\"$\\sigma_\\mathrm{bs}$\"\n",
    "color_list['boot'] = 'indigo'\n",
    "linestyle_list['boot'] = '-.'"
   ]
  },
  {
   "cell_type": "code",
   "execution_count": 88,
   "id": "ff939fb6",
   "metadata": {
    "execution": {
     "iopub.execute_input": "2022-03-17T03:27:47.274424Z",
     "iopub.status.busy": "2022-03-17T03:27:47.273919Z",
     "iopub.status.idle": "2022-03-17T03:27:47.275226Z",
     "shell.execute_reply": "2022-03-17T03:27:47.274850Z"
    },
    "papermill": {
     "duration": 0.07502,
     "end_time": "2022-03-17T03:27:47.275316",
     "exception": false,
     "start_time": "2022-03-17T03:27:47.200296",
     "status": "completed"
    },
    "tags": []
   },
   "outputs": [],
   "source": [
    "for error_type in error_tavg_list.keys():  \n",
    "    error_tavg_list[error_type] = np.array(error_tavg_list[error_type]).reshape(-1)"
   ]
  },
  {
   "cell_type": "code",
   "execution_count": 89,
   "id": "60956954",
   "metadata": {
    "execution": {
     "iopub.execute_input": "2022-03-17T03:27:47.448672Z",
     "iopub.status.busy": "2022-03-17T03:27:47.448200Z",
     "iopub.status.idle": "2022-03-17T03:27:50.006821Z",
     "shell.execute_reply": "2022-03-17T03:27:50.007389Z"
    },
    "papermill": {
     "duration": 2.66021,
     "end_time": "2022-03-17T03:27:50.007524",
     "exception": false,
     "start_time": "2022-03-17T03:27:47.347314",
     "status": "completed"
    },
    "tags": []
   },
   "outputs": [
    {
     "data": {
      "text/plain": [
       "<matplotlib.lines.Line2D at 0x7fe60aae8eb0>"
      ]
     },
     "execution_count": 89,
     "metadata": {},
     "output_type": "execute_result"
    },
    {
     "data": {
      "image/png": "[encoded data removed]",
      "text/plain": [
       "<Figure size 1152x1080 with 3 Axes>"
      ]
     },
     "metadata": {
      "needs_background": "light"
     },
     "output_type": "display_data"
    }
   ],
   "source": [
    "fig = plt.figure(figsize=(16,15), constrained_layout=True)\n",
    "gs = fig.add_gridspec(3, 2, wspace=0.02)\n",
    "psunits = uvp_cov_fg.units\n",
    "if \"h^-1\" in psunits: psunits = psunits.replace(\"h^-1\", \"h^{-1}\")\n",
    "if \"h^-3\" in psunits: psunits = psunits.replace(\"h^-3\", \"h^{-3}\")\n",
    "if \"Mpc\" in psunits and \"\\\\rm\" not in psunits: \n",
    "    psunits = psunits.replace(\"Mpc\", r\"{\\rm Mpc}\")\n",
    "if \"pi\" in psunits and \"\\\\pi\" not in psunits: \n",
    "    psunits = psunits.replace(\"pi\", r\"\\pi\")\n",
    "    \n",
    "# Plot different kinds of error bars\n",
    "ax = fig.add_subplot(gs[0,:])\n",
    "ax.plot(dlys[ps_tavg>=0.], ps_tavg[ps_tavg>=0.], \".\", label='power spectra'+ r'$(+)$', c='k', markersize=8, alpha = 0.6)\n",
    "ax.plot(dlys[ps_tavg<0.], np.abs(ps_tavg[ps_tavg<0.]), \".\", fillstyle='none', label='power spectra'+ r'$(-)$', c='k', markersize=8, alpha = 0.6)\n",
    "ax.set_xlim(-3000,3000)\n",
    "for error_type in error_tavg_list.keys():\n",
    "    ax.plot(dlys, error_tavg_list[error_type], ls=linestyle_list[error_type],label=label_list[error_type], c=color_list[error_type], lw=2)\n",
    "error_modified_fg = error_tavg_list['fg']-(np.sqrt(1+1/np.sqrt(np.pi))-1)*error_tavg_list['noise']\n",
    "ax.plot(dlys, error_modified_fg, label=r\"$\\tilde{\\sigma}_\\mathrm{QE-SN}$\", c=\"green\", ls=\"--\", lw=2)\n",
    "ax.set_ylabel(\"$P(k_\\parallel)$ $[%s]$\" % psunits, fontsize=16)\n",
    "#ax.set_xlabel(r\"$\\tau$ $[{\\rm ns}]$\", fontsize=20)\n",
    "ax.set_xticklabels([])\n",
    "ax.tick_params(axis='both', which='both', labelsize=16)\n",
    "ax.xaxis.set_minor_locator(ticker.MultipleLocator(500))\n",
    "ax.semilogy()\n",
    "ax.minorticks_on()\n",
    "ax.yaxis.set_minor_locator(ticker.LogLocator(base=10, subs=[0.2,0.4,0.6,0.8], numticks=20))\n",
    "ax.yaxis.set_minor_formatter(ticker.NullFormatter())\n",
    "ax.grid()\n",
    "ax.legend(loc='upper right', fontsize=14, ncol=3)\n",
    "ax.set_title('Time-averaged power spectra from the HERA Phase I Data', bbox=dict(fc='wheat', alpha=0.5), fontsize=20, pad=15)\n",
    "ax.axvspan(-200, -20, facecolor='#2ca02c', alpha=0.2)\n",
    "ax.axvspan(20, 200, facecolor='#2ca02c', alpha=0.2)\n",
    "\n",
    "ax1 = ax.secondary_xaxis('top', functions=(tau2k_, k2tau_))\n",
    "ax1.tick_params(axis='both', which='both', labelsize=16, direction='out')\n",
    "ax1.xaxis.set_major_locator(ticker.MultipleLocator(1))\n",
    "ax1.xaxis.set_minor_locator(ticker.MultipleLocator(0.2))\n",
    "ax1.set_xlabel(r\"$k_\\parallel [h {\\rm Mpc}^{-1}]$\", fontsize=16)\n",
    "\n",
    "#handles, labels = ax.get_legend_handles_labels()\n",
    "#fig.legend(handles, labels, bbox_to_anchor=(0.53,1.15), loc='upper center', fontsize=14, ncol=3,)\n",
    "#fig.tight_layout()\n",
    "\n",
    "# Plot ratios of different kinds of error bars\n",
    "ax = fig.add_subplot(gs[1,:])\n",
    "for error_type in ['Pdiff','PN','fg','boot']:\n",
    "    ax.plot(dlys, np.abs(error_tavg_list[error_type]/error_tavg_list['noise']-1), ls=linestyle_list[error_type], label=label_list[error_type], c=color_list[error_type], lw=2)\n",
    "ax.plot(dlys, np.abs(error_modified_fg/error_tavg_list['noise']-1), label=r\"$\\tilde{\\sigma}_\\mathrm{QE-SN}$\", c=\"green\", ls=\"--\", lw=2)\n",
    "ax.set_xticklabels([])\n",
    "ax.tick_params(axis='both', which='both', labelsize=16)\n",
    "ax.grid()\n",
    "ax.semilogy()\n",
    "ax.set_ylim(1e-3,1)\n",
    "ax.set_xlim(-3000,3000)\n",
    "ax.set_ylabel(\"abs\" + r\"$\\left(\\frac{\\sigma-\\sigma_{\\rm QE-N}}{\\sigma_{\\rm QE-N}}\\right)$\", fontsize=20)\n",
    "#ax.yaxis.set_minor_locator(MinorSymLogLocator(0.01))\n",
    "#ax.yaxis.set_minor_formatter(ticker.NullFormatter())\n",
    "ax.xaxis.set_minor_locator(ticker.MultipleLocator(500))\n",
    "ax.axvspan(-200, -20, facecolor='#2ca02c', alpha=0.2)\n",
    "ax.axvspan(20, 200, facecolor='#2ca02c', alpha=0.2)\n",
    "ax.axhline(y=0, c='k', lw=3)\n",
    "\n",
    "ax = fig.add_subplot(gs[2,:])\n",
    "for error_type in ['PSN','boot']:\n",
    "    ax.plot(dlys, np.abs(error_tavg_list[error_type]/error_tavg_list['fg']-1), ls=linestyle_list[error_type], label=label_list[error_type], c=color_list[error_type], lw=2)\n",
    "ax.plot(dlys, np.abs(error_modified_fg/error_tavg_list['fg']-1), label=r\"$\\tilde{\\sigma}_\\mathrm{QE-SN}$\", c=\"green\", ls=\"--\", lw=2)\n",
    "ax.set_xlabel(r\"$\\tau$ $[{\\rm ns}]$\", fontsize=16)\n",
    "ax.tick_params(axis='both', which='both', labelsize=16)\n",
    "ax.grid()\n",
    "ax.set_xlim(-3000,3000)\n",
    "ax.semilogy()\n",
    "ax.set_ylim(1e-3,1)\n",
    "ax.xaxis.set_minor_locator(ticker.MultipleLocator(500))\n",
    "ax.set_ylabel(\"abs\" + r\"$\\left(\\frac{\\sigma-\\sigma_{\\rm QE-SN}}{\\sigma_{\\rm QE-SN}}\\right)$\", fontsize=20)\n",
    "ax.axvspan(-200, -20, facecolor='#2ca02c', alpha=0.2)\n",
    "ax.axvspan(20, 200, facecolor='#2ca02c', alpha=0.2)\n",
    "ax.axhline(y=0, c='k', lw=3)"
   ]
  },
  {
   "cell_type": "markdown",
   "id": "267db91c",
   "metadata": {
    "papermill": {
     "duration": 0.073256,
     "end_time": "2022-03-17T03:27:50.166711",
     "exception": false,
     "start_time": "2022-03-17T03:27:50.093455",
     "status": "completed"
    },
    "tags": []
   },
   "source": [
    "#### comparing systematics"
   ]
  },
  {
   "cell_type": "code",
   "execution_count": 90,
   "id": "529f4666",
   "metadata": {
    "execution": {
     "iopub.execute_input": "2022-03-17T03:27:50.336013Z",
     "iopub.status.busy": "2022-03-17T03:27:50.335563Z",
     "iopub.status.idle": "2022-03-17T03:27:55.067807Z",
     "shell.execute_reply": "2022-03-17T03:27:55.068680Z"
    },
    "papermill": {
     "duration": 4.828682,
     "end_time": "2022-03-17T03:27:55.068870",
     "exception": false,
     "start_time": "2022-03-17T03:27:50.240188",
     "status": "completed"
    },
    "tags": []
   },
   "outputs": [],
   "source": [
    "psc = hp.PSpecContainer('pspec_crosstime.h5', keep_open=False)\n",
    "uvp_PX_cov_fg = psc.get_pspec('pI_shortbl', 'dset0_x_dset1')"
   ]
  },
  {
   "cell_type": "code",
   "execution_count": 91,
   "id": "6fce26b8",
   "metadata": {
    "execution": {
     "iopub.execute_input": "2022-03-17T03:27:55.270969Z",
     "iopub.status.busy": "2022-03-17T03:27:55.270521Z",
     "iopub.status.idle": "2022-03-17T03:28:00.664104Z",
     "shell.execute_reply": "2022-03-17T03:28:00.665224Z"
    },
    "papermill": {
     "duration": 5.506837,
     "end_time": "2022-03-17T03:28:00.665459",
     "exception": false,
     "start_time": "2022-03-17T03:27:55.158622",
     "status": "completed"
    },
    "tags": []
   },
   "outputs": [],
   "source": [
    "# load power spectra\n",
    "psc_ = hp.PSpecContainer('pspec_nulltest.h5', keep_open=False)\n",
    "uvp_PX_cov_n = psc_.get_pspec('pI_shortbl', 'dset0_x_dset1')"
   ]
  },
  {
   "cell_type": "code",
   "execution_count": 92,
   "id": "ab0cd1b2",
   "metadata": {
    "execution": {
     "iopub.execute_input": "2022-03-17T03:28:00.860286Z",
     "iopub.status.busy": "2022-03-17T03:28:00.859793Z",
     "iopub.status.idle": "2022-03-17T03:28:00.861083Z",
     "shell.execute_reply": "2022-03-17T03:28:00.860705Z"
    },
    "papermill": {
     "duration": 0.07939,
     "end_time": "2022-03-17T03:28:00.861174",
     "exception": false,
     "start_time": "2022-03-17T03:28:00.781784",
     "status": "completed"
    },
    "tags": []
   },
   "outputs": [],
   "source": [
    "psc = hp.PSpecContainer('pspec_systematics.h5', keep_open=False)"
   ]
  },
  {
   "cell_type": "code",
   "execution_count": 93,
   "id": "d6738e9f",
   "metadata": {
    "execution": {
     "iopub.execute_input": "2022-03-17T03:28:01.032835Z",
     "iopub.status.busy": "2022-03-17T03:28:01.032330Z",
     "iopub.status.idle": "2022-03-17T03:28:02.571819Z",
     "shell.execute_reply": "2022-03-17T03:28:02.572413Z"
    },
    "papermill": {
     "duration": 1.637767,
     "end_time": "2022-03-17T03:28:02.572553",
     "exception": false,
     "start_time": "2022-03-17T03:28:00.934786",
     "status": "completed"
    },
    "tags": []
   },
   "outputs": [],
   "source": [
    "uvp_P_cov_fg = psc.get_pspec('pI_shortbl_fg_P', 'dset0_x_dset1')\n",
    "uvp_P_cov_n = psc.get_pspec('pI_shortbl_noise_P', 'dset0_x_dset1')"
   ]
  },
  {
   "cell_type": "code",
   "execution_count": 94,
   "id": "ff475dd1",
   "metadata": {
    "execution": {
     "iopub.execute_input": "2022-03-17T03:28:02.747801Z",
     "iopub.status.busy": "2022-03-17T03:28:02.747321Z",
     "iopub.status.idle": "2022-03-17T03:28:04.276219Z",
     "shell.execute_reply": "2022-03-17T03:28:04.276806Z"
    },
    "papermill": {
     "duration": 1.627572,
     "end_time": "2022-03-17T03:28:04.276946",
     "exception": false,
     "start_time": "2022-03-17T03:28:02.649374",
     "status": "completed"
    },
    "tags": []
   },
   "outputs": [],
   "source": [
    "uvp_PC_cov_fg = psc.get_pspec('pI_shortbl_fg_PC', 'dset0_x_dset1')\n",
    "uvp_PC_cov_n = psc.get_pspec('pI_shortbl_noise_PC', 'dset0_x_dset1')"
   ]
  },
  {
   "cell_type": "code",
   "execution_count": 95,
   "id": "a341720d",
   "metadata": {
    "execution": {
     "iopub.execute_input": "2022-03-17T03:28:04.446834Z",
     "iopub.status.busy": "2022-03-17T03:28:04.446364Z",
     "iopub.status.idle": "2022-03-17T03:28:05.985883Z",
     "shell.execute_reply": "2022-03-17T03:28:05.986453Z"
    },
    "papermill": {
     "duration": 1.634128,
     "end_time": "2022-03-17T03:28:05.986590",
     "exception": false,
     "start_time": "2022-03-17T03:28:04.352462",
     "status": "completed"
    },
    "tags": []
   },
   "outputs": [],
   "source": [
    "uvp_PXC_cov_fg = psc.get_pspec('pI_shortbl_fg_PXC', 'dset0_x_dset1')\n",
    "uvp_PXC_cov_n = psc.get_pspec('pI_shortbl_noise_PXC', 'dset0_x_dset1')"
   ]
  },
  {
   "cell_type": "markdown",
   "id": "e2425221",
   "metadata": {
    "papermill": {
     "duration": 0.073765,
     "end_time": "2022-03-17T03:28:06.136055",
     "exception": false,
     "start_time": "2022-03-17T03:28:06.062290",
     "status": "completed"
    },
    "tags": []
   },
   "source": [
    "check match in timestamps"
   ]
  },
  {
   "cell_type": "code",
   "execution_count": 96,
   "id": "095ad3ec",
   "metadata": {
    "execution": {
     "iopub.execute_input": "2022-03-17T03:28:06.293403Z",
     "iopub.status.busy": "2022-03-17T03:28:06.292893Z",
     "iopub.status.idle": "2022-03-17T03:28:06.294765Z",
     "shell.execute_reply": "2022-03-17T03:28:06.293835Z"
    },
    "papermill": {
     "duration": 0.079988,
     "end_time": "2022-03-17T03:28:06.294856",
     "exception": false,
     "start_time": "2022-03-17T03:28:06.214868",
     "status": "completed"
    },
    "tags": []
   },
   "outputs": [
    {
     "name": "stdout",
     "output_type": "stream",
     "text": [
      "[2.24120314 2.24433583 2.24746853 2.25060122 2.25373391 2.2568666\n",
      " 2.2599993  2.26313199 2.26626468 2.26939738 2.27253007 2.27566276\n",
      " 2.27879546 2.28192815 2.28506084 2.28819354 2.29132623 2.29445892\n",
      " 2.29759161 2.30072431 2.303857   2.30698969 2.31012239 2.31325508\n",
      " 2.31638777 2.31952047 2.32265316 2.32578585 2.32891855 2.33205124]\n"
     ]
    }
   ],
   "source": [
    "print(np.unique(uvp_P_cov_fg.lst_avg_array))"
   ]
  },
  {
   "cell_type": "code",
   "execution_count": 97,
   "id": "3f402821",
   "metadata": {
    "execution": {
     "iopub.execute_input": "2022-03-17T03:28:06.452062Z",
     "iopub.status.busy": "2022-03-17T03:28:06.451528Z",
     "iopub.status.idle": "2022-03-17T03:28:06.453392Z",
     "shell.execute_reply": "2022-03-17T03:28:06.452467Z"
    },
    "papermill": {
     "duration": 0.080867,
     "end_time": "2022-03-17T03:28:06.453484",
     "exception": false,
     "start_time": "2022-03-17T03:28:06.372617",
     "status": "completed"
    },
    "tags": []
   },
   "outputs": [
    {
     "name": "stdout",
     "output_type": "stream",
     "text": [
      "[2.24120314 2.24433583 2.24746853 2.25060122 2.25373391 2.2568666\n",
      " 2.2599993  2.26313199 2.26626468 2.26939738 2.27253007 2.27566276\n",
      " 2.27879546 2.28192815 2.28506084 2.28819354 2.29132623 2.29445892\n",
      " 2.29759161 2.30072431 2.303857   2.30698969 2.31012239 2.31325508\n",
      " 2.31638777 2.31952047 2.32265316 2.32578585 2.32891855 2.33205124]\n"
     ]
    }
   ],
   "source": [
    "print(np.unique(uvp_PX_cov_fg.lst_avg_array))"
   ]
  },
  {
   "cell_type": "code",
   "execution_count": 98,
   "id": "d1a26589",
   "metadata": {
    "execution": {
     "iopub.execute_input": "2022-03-17T03:28:06.611428Z",
     "iopub.status.busy": "2022-03-17T03:28:06.610910Z",
     "iopub.status.idle": "2022-03-17T03:28:06.612839Z",
     "shell.execute_reply": "2022-03-17T03:28:06.611857Z"
    },
    "papermill": {
     "duration": 0.082224,
     "end_time": "2022-03-17T03:28:06.612945",
     "exception": false,
     "start_time": "2022-03-17T03:28:06.530721",
     "status": "completed"
    },
    "tags": []
   },
   "outputs": [
    {
     "name": "stdout",
     "output_type": "stream",
     "text": [
      "[2.24120314 2.24433583 2.24746853 2.25060122 2.25373391 2.2568666\n",
      " 2.2599993  2.26313199 2.26626468 2.26939738 2.27253007 2.27566276\n",
      " 2.27879546 2.28192815 2.28506084 2.28819354 2.29132623 2.29445892\n",
      " 2.29759161 2.30072431 2.303857   2.30698969 2.31012239 2.31325508\n",
      " 2.31638777 2.31952047 2.32265316 2.32578585 2.32891855 2.33205124]\n"
     ]
    }
   ],
   "source": [
    "print(np.unique(uvp_PC_cov_fg.lst_avg_array))"
   ]
  },
  {
   "cell_type": "code",
   "execution_count": 99,
   "id": "bb84b364",
   "metadata": {
    "execution": {
     "iopub.execute_input": "2022-03-17T03:28:06.771868Z",
     "iopub.status.busy": "2022-03-17T03:28:06.771348Z",
     "iopub.status.idle": "2022-03-17T03:28:06.773226Z",
     "shell.execute_reply": "2022-03-17T03:28:06.772292Z"
    },
    "papermill": {
     "duration": 0.081533,
     "end_time": "2022-03-17T03:28:06.773316",
     "exception": false,
     "start_time": "2022-03-17T03:28:06.691783",
     "status": "completed"
    },
    "tags": []
   },
   "outputs": [
    {
     "name": "stdout",
     "output_type": "stream",
     "text": [
      "[2.24120314 2.24433583 2.24746853 2.25060122 2.25373391 2.2568666\n",
      " 2.2599993  2.26313199 2.26626468 2.26939738 2.27253007 2.27566276\n",
      " 2.27879546 2.28192815 2.28506084 2.28819354 2.29132623 2.29445892\n",
      " 2.29759161 2.30072431 2.303857   2.30698969 2.31012239 2.31325508\n",
      " 2.31638777 2.31952047 2.32265316 2.32578585 2.32891855 2.33205124]\n"
     ]
    }
   ],
   "source": [
    "print(np.unique(uvp_PXC_cov_fg.lst_avg_array))"
   ]
  },
  {
   "cell_type": "markdown",
   "id": "693d0774",
   "metadata": {
    "papermill": {
     "duration": 0.07631,
     "end_time": "2022-03-17T03:28:06.924900",
     "exception": false,
     "start_time": "2022-03-17T03:28:06.848590",
     "status": "completed"
    },
    "tags": []
   },
   "source": [
    "#### inpainted data"
   ]
  },
  {
   "cell_type": "code",
   "execution_count": 100,
   "id": "a3bb9ed8",
   "metadata": {
    "execution": {
     "iopub.execute_input": "2022-03-17T03:28:07.103714Z",
     "iopub.status.busy": "2022-03-17T03:28:07.103235Z",
     "iopub.status.idle": "2022-03-17T03:34:07.369907Z",
     "shell.execute_reply": "2022-03-17T03:34:07.370486Z"
    },
    "papermill": {
     "duration": 360.368423,
     "end_time": "2022-03-17T03:34:07.370622",
     "exception": false,
     "start_time": "2022-03-17T03:28:07.002199",
     "status": "completed"
    },
    "tags": []
   },
   "outputs": [
    {
     "name": "stdout",
     "output_type": "stream",
     "text": [
      "beyond 3sigma 0.0 Gauss 0.002428115998334827 Laplacian 0.013579845438731336\n"
     ]
    },
    {
     "name": "stderr",
     "output_type": "stream",
     "text": [
      "FixedFormatter should only be used together with FixedLocator\n"
     ]
    },
    {
     "name": "stdout",
     "output_type": "stream",
     "text": [
      "beyond 3sigma 0.0 Gauss 0.002428115998334987 Laplacian 0.005686664054733584\n"
     ]
    },
    {
     "name": "stderr",
     "output_type": "stream",
     "text": [
      "FixedFormatter should only be used together with FixedLocator\n"
     ]
    },
    {
     "name": "stderr",
     "output_type": "stream",
     "text": [
      "FixedFormatter should only be used together with FixedLocator\n",
      "Locator attempting to generate 5205 ticks ([-2602000000000.0, ..., 2602000000000.0]), which exceeds Locator.MAXTICKS (1000).\n"
     ]
    },
    {
     "name": "stdout",
     "output_type": "stream",
     "text": [
      "beyond 3sigma 0.0 Gauss 0.0024281159983350416 Laplacian 8.818933589763234e-07\n",
      "30084\n"
     ]
    },
    {
     "name": "stderr",
     "output_type": "stream",
     "text": [
      "Locator attempting to generate 5205 ticks ([-2602000000000.0, ..., 2602000000000.0]), which exceeds Locator.MAXTICKS (1000).\n"
     ]
    },
    {
     "name": "stderr",
     "output_type": "stream",
     "text": [
      "Locator attempting to generate 2335 ticks ([-1167000000000.0, ..., 1167000000000.0]), which exceeds Locator.MAXTICKS (1000).\n"
     ]
    },
    {
     "name": "stderr",
     "output_type": "stream",
     "text": [
      "Locator attempting to generate 2335 ticks ([-1167000000000.0, ..., 1167000000000.0]), which exceeds Locator.MAXTICKS (1000).\n"
     ]
    },
    {
     "name": "stderr",
     "output_type": "stream",
     "text": [
      "Locator attempting to generate 1351 ticks ([-675000000000.0, ..., 675000000000.0]), which exceeds Locator.MAXTICKS (1000).\n"
     ]
    },
    {
     "name": "stderr",
     "output_type": "stream",
     "text": [
      "Locator attempting to generate 1351 ticks ([-675000000000.0, ..., 675000000000.0]), which exceeds Locator.MAXTICKS (1000).\n"
     ]
    },
    {
     "name": "stderr",
     "output_type": "stream",
     "text": [
      "Locator attempting to generate 5205 ticks ([-2602000000000.0, ..., 2602000000000.0]), which exceeds Locator.MAXTICKS (1000).\n"
     ]
    },
    {
     "name": "stderr",
     "output_type": "stream",
     "text": [
      "Locator attempting to generate 5205 ticks ([-2602000000000.0, ..., 2602000000000.0]), which exceeds Locator.MAXTICKS (1000).\n"
     ]
    },
    {
     "name": "stderr",
     "output_type": "stream",
     "text": [
      "Locator attempting to generate 2335 ticks ([-1167000000000.0, ..., 1167000000000.0]), which exceeds Locator.MAXTICKS (1000).\n"
     ]
    },
    {
     "name": "stderr",
     "output_type": "stream",
     "text": [
      "Locator attempting to generate 2335 ticks ([-1167000000000.0, ..., 1167000000000.0]), which exceeds Locator.MAXTICKS (1000).\n"
     ]
    },
    {
     "name": "stderr",
     "output_type": "stream",
     "text": [
      "Locator attempting to generate 1351 ticks ([-675000000000.0, ..., 675000000000.0]), which exceeds Locator.MAXTICKS (1000).\n"
     ]
    },
    {
     "name": "stderr",
     "output_type": "stream",
     "text": [
      "Locator attempting to generate 1351 ticks ([-675000000000.0, ..., 675000000000.0]), which exceeds Locator.MAXTICKS (1000).\n"
     ]
    },
    {
     "name": "stderr",
     "output_type": "stream",
     "text": [
      "Locator attempting to generate 5205 ticks ([-2602000000000.0, ..., 2602000000000.0]), which exceeds Locator.MAXTICKS (1000).\n"
     ]
    },
    {
     "name": "stderr",
     "output_type": "stream",
     "text": [
      "Locator attempting to generate 5205 ticks ([-2602000000000.0, ..., 2602000000000.0]), which exceeds Locator.MAXTICKS (1000).\n"
     ]
    },
    {
     "name": "stderr",
     "output_type": "stream",
     "text": [
      "Locator attempting to generate 2335 ticks ([-1167000000000.0, ..., 1167000000000.0]), which exceeds Locator.MAXTICKS (1000).\n"
     ]
    },
    {
     "name": "stderr",
     "output_type": "stream",
     "text": [
      "Locator attempting to generate 2335 ticks ([-1167000000000.0, ..., 1167000000000.0]), which exceeds Locator.MAXTICKS (1000).\n"
     ]
    },
    {
     "name": "stderr",
     "output_type": "stream",
     "text": [
      "Locator attempting to generate 1351 ticks ([-675000000000.0, ..., 675000000000.0]), which exceeds Locator.MAXTICKS (1000).\n"
     ]
    },
    {
     "name": "stderr",
     "output_type": "stream",
     "text": [
      "Locator attempting to generate 1351 ticks ([-675000000000.0, ..., 675000000000.0]), which exceeds Locator.MAXTICKS (1000).\n"
     ]
    },
    {
     "name": "stderr",
     "output_type": "stream",
     "text": [
      "Locator attempting to generate 5205 ticks ([-2602000000000.0, ..., 2602000000000.0]), which exceeds Locator.MAXTICKS (1000).\n"
     ]
    },
    {
     "name": "stderr",
     "output_type": "stream",
     "text": [
      "Locator attempting to generate 5205 ticks ([-2602000000000.0, ..., 2602000000000.0]), which exceeds Locator.MAXTICKS (1000).\n"
     ]
    },
    {
     "name": "stderr",
     "output_type": "stream",
     "text": [
      "Locator attempting to generate 2335 ticks ([-1167000000000.0, ..., 1167000000000.0]), which exceeds Locator.MAXTICKS (1000).\n"
     ]
    },
    {
     "name": "stderr",
     "output_type": "stream",
     "text": [
      "Locator attempting to generate 2335 ticks ([-1167000000000.0, ..., 1167000000000.0]), which exceeds Locator.MAXTICKS (1000).\n"
     ]
    },
    {
     "name": "stderr",
     "output_type": "stream",
     "text": [
      "Locator attempting to generate 1351 ticks ([-675000000000.0, ..., 675000000000.0]), which exceeds Locator.MAXTICKS (1000).\n"
     ]
    },
    {
     "name": "stderr",
     "output_type": "stream",
     "text": [
      "Locator attempting to generate 1351 ticks ([-675000000000.0, ..., 675000000000.0]), which exceeds Locator.MAXTICKS (1000).\n"
     ]
    },
    {
     "name": "stderr",
     "output_type": "stream",
     "text": [
      "Locator attempting to generate 5205 ticks ([-2602000000000.0, ..., 2602000000000.0]), which exceeds Locator.MAXTICKS (1000).\n"
     ]
    },
    {
     "name": "stderr",
     "output_type": "stream",
     "text": [
      "Locator attempting to generate 5205 ticks ([-2602000000000.0, ..., 2602000000000.0]), which exceeds Locator.MAXTICKS (1000).\n"
     ]
    },
    {
     "name": "stderr",
     "output_type": "stream",
     "text": [
      "Locator attempting to generate 2335 ticks ([-1167000000000.0, ..., 1167000000000.0]), which exceeds Locator.MAXTICKS (1000).\n"
     ]
    },
    {
     "name": "stderr",
     "output_type": "stream",
     "text": [
      "Locator attempting to generate 2335 ticks ([-1167000000000.0, ..., 1167000000000.0]), which exceeds Locator.MAXTICKS (1000).\n"
     ]
    },
    {
     "name": "stderr",
     "output_type": "stream",
     "text": [
      "Locator attempting to generate 1351 ticks ([-675000000000.0, ..., 675000000000.0]), which exceeds Locator.MAXTICKS (1000).\n"
     ]
    },
    {
     "name": "stderr",
     "output_type": "stream",
     "text": [
      "Locator attempting to generate 1351 ticks ([-675000000000.0, ..., 675000000000.0]), which exceeds Locator.MAXTICKS (1000).\n"
     ]
    },
    {
     "name": "stderr",
     "output_type": "stream",
     "text": [
      "Locator attempting to generate 5205 ticks ([-2602000000000.0, ..., 2602000000000.0]), which exceeds Locator.MAXTICKS (1000).\n"
     ]
    },
    {
     "name": "stderr",
     "output_type": "stream",
     "text": [
      "Locator attempting to generate 5205 ticks ([-2602000000000.0, ..., 2602000000000.0]), which exceeds Locator.MAXTICKS (1000).\n"
     ]
    },
    {
     "name": "stderr",
     "output_type": "stream",
     "text": [
      "Locator attempting to generate 2335 ticks ([-1167000000000.0, ..., 1167000000000.0]), which exceeds Locator.MAXTICKS (1000).\n"
     ]
    },
    {
     "name": "stderr",
     "output_type": "stream",
     "text": [
      "Locator attempting to generate 2335 ticks ([-1167000000000.0, ..., 1167000000000.0]), which exceeds Locator.MAXTICKS (1000).\n"
     ]
    },
    {
     "name": "stderr",
     "output_type": "stream",
     "text": [
      "Locator attempting to generate 1351 ticks ([-675000000000.0, ..., 675000000000.0]), which exceeds Locator.MAXTICKS (1000).\n"
     ]
    },
    {
     "name": "stderr",
     "output_type": "stream",
     "text": [
      "Locator attempting to generate 1351 ticks ([-675000000000.0, ..., 675000000000.0]), which exceeds Locator.MAXTICKS (1000).\n"
     ]
    },
    {
     "data": {
      "image/png": "[encoded data removed]",
      "text/plain": [
       "<Figure size 1440x432 with 3 Axes>"
      ]
     },
     "metadata": {
      "needs_background": "light"
     },
     "output_type": "display_data"
    }
   ],
   "source": [
    "# used in paper\n",
    "# A larger window (2000), with normalization\n",
    "uvp_plot = uvp_P_cov_n\n",
    "num_time_samples_list = [1,5,15]\n",
    "ylim = (5*1e-13,1e-9)\n",
    "dlys = uvp_plot.get_dlys(0) * 1e9\n",
    "delay_args = np.append(np.argwhere(dlys< -2000), np.argwhere(dlys> 2000))\n",
    "suptitle = \"Inpainted HERA Phase I Data, \"+r\"$|\\tau|>2000 {\\rm ns}$\"\n",
    "\n",
    "fig, axes = plt.subplots(figsize=(20,6), ncols=3, nrows=1)\n",
    "for ax_idx, num_time_samples in enumerate(num_time_samples_list):\n",
    "    col_idx = ax_idx%3\n",
    "    times = np.arange(num_time_samples)\n",
    "   \n",
    "    # Get all keys\n",
    "    keys = uvp_plot.get_all_keys()\n",
    "    blpt_weights = np.array([[1. for item in times] for key in keys])\n",
    "    ps_real_time_avg = []\n",
    "    for dly in delay_args:\n",
    "        ps = np.array([[uvp_plot.get_data(key)[time, dly]*uvp_plot.get_stats(\"autos_diag\", keys[0])[time,0].real\\\n",
    "                        /uvp_plot.get_stats(\"autos_diag\", key)[time, dly].real for time in times] for key in keys])\n",
    "        ps_real_time_avg.extend((np.sum(ps.real*blpt_weights, axis=1)/np.sum(blpt_weights, axis=1).clip(1e-10, np.inf)).flatten())\n",
    "    ps_real_time_avg = np.array(ps_real_time_avg) - np.mean(ps_real_time_avg)\n",
    "    # The ratio of error bars to the original one\n",
    "    psunits = uvp_plot.units\n",
    "    if \"h^-1\" in psunits: psunits = psunits.replace(\"h^-1\", \"h^{-1}\")\n",
    "    if \"h^-3\" in psunits: psunits = psunits.replace(\"h^-3\", \"h^{-3}\")\n",
    "    if \"Mpc\" in psunits and \"\\\\rm\" not in psunits: \n",
    "        psunits = psunits.replace(\"Mpc\", r\"{\\rm Mpc}\")\n",
    "    if \"pi\" in psunits and \"\\\\pi\" not in psunits: \n",
    "        psunits = psunits.replace(\"pi\", r\"\\pi\")\n",
    "    \n",
    "    ax = axes[col_idx]\n",
    "    Lap_sigma_list = np.zeros(num_time_samples)\n",
    "    for time in times:\n",
    "        Lap_sigma_list[time] = uvp_plot.get_stats(\"autos_diag\", keys[0])[time, 0].real \n",
    "    Gauss_sigma = np.sqrt(np.sum(Lap_sigma_list**2))/num_time_samples\n",
    "    vlim = 6*Gauss_sigma\n",
    "    n_in_bins, bins_edge, _ = ax.hist(ps_real_time_avg, log=True, density=True, bins=61, range=(-vlim, vlim), alpha=0.75,\n",
    "                           color='pink')\n",
    "    ax.set_xlim(-vlim, vlim)\n",
    "    ax.set_ylim(*ylim)\n",
    "    \n",
    "    px = np.linspace(-vlim, vlim, 100)\n",
    "    Lap_curve = np.zeros_like(px)\n",
    "    normalized_factor = 0\n",
    "    for time in times:\n",
    "        scale_factor = 1\n",
    "        for time_ in times:\n",
    "            if time_ != time:\n",
    "                scale_factor *= Lap_sigma_list[time]**2/(Lap_sigma_list[time]**2-Lap_sigma_list[time_]**2)\n",
    "        normalized_factor += scale_factor   \n",
    "        Lap_curve += np.exp(-np.sqrt(2)*np.abs(px)/Lap_sigma_list[time]*num_time_samples)/np.sqrt(2)/Lap_sigma_list[time]*num_time_samples*scale_factor\n",
    "    \n",
    "    # Calculate the equivalent Gaussian pdf\n",
    "    Gauss_curve = np.exp(-px**2/2/Gauss_sigma**2)/np.sqrt(2*np.pi*Gauss_sigma**2)\n",
    "    \n",
    "    if np.isclose(normalized_factor,1,rtol=5e-1):\n",
    "        ax.plot(px, Lap_curve, ls='-', lw=2, label=\"Sum of Laplacians\", c='cyan')\n",
    "    ax.plot(px, Gauss_curve, ls='--', lw=2, label='Gaussian', c='slategrey')\n",
    "    bins_center = (bins_edge[1:] + bins_edge[0:-1])/2\n",
    "    outlier_3sigma = (np.sum(n_in_bins)-np.sum(n_in_bins[(-3*Gauss_sigma<=bins_center)*(bins_center<=3*Gauss_sigma)]))/np.sum(n_in_bins)\n",
    "    print(\"beyond 3sigma {}\".format(outlier_3sigma), \\\n",
    "          \"Gauss {}\".format((np.sum(Gauss_curve)-np.sum(Gauss_curve[(-3*Gauss_sigma<=px)*(px<=3*Gauss_sigma)]))/np.sum(Gauss_curve)), \\\n",
    "          \"Laplacian {}\".format((np.sum(Lap_curve)-np.sum(Lap_curve[(-3*Gauss_sigma<=px)*(px<=3*Gauss_sigma)]))/np.sum(Lap_curve)))\n",
    "    \n",
    "    # confidence interval\n",
    "    ax.axvline(x=3*Gauss_sigma, c='k', lw=1, ls=':')\n",
    "    ax.axvline(x=-3*Gauss_sigma, c='k', lw=1, ls=':')\n",
    "    ax.axvline(x=5*Gauss_sigma, c='navy', lw=1, ls=':')\n",
    "    ax.axvline(x=-5*Gauss_sigma, c='navy', lw=1, ls=':')\n",
    "    if ax_idx == 0:\n",
    "        ax.text(2.2*Gauss_sigma, 9*1e-12, r'$3 \\sigma$', ha=\"center\", va=\"center\", rotation=0,\n",
    "            fontsize=14,\n",
    "            bbox=dict(boxstyle=\"rarrow\", fc=\"green\", alpha=0.5))\n",
    "        ax.text(4.2*Gauss_sigma, 1e-10, r'$5 \\sigma$', ha=\"center\", va=\"center\", rotation=0,\n",
    "            fontsize=14,\n",
    "            bbox=dict(boxstyle=\"rarrow\", fc=\"green\", alpha=0.5))\n",
    "        ax.text(-2.2*Gauss_sigma, 9*1e-12, r'$3 \\sigma$', ha=\"center\", va=\"center\", rotation=0,\n",
    "            fontsize=14,\n",
    "            bbox=dict(boxstyle=\"larrow\", fc=\"green\", alpha=0.5))\n",
    "        ax.text(-4.2*Gauss_sigma, 1e-10, r'$5 \\sigma$', ha=\"center\", va=\"center\", rotation=0,\n",
    "            fontsize=14,\n",
    "            bbox=dict(boxstyle=\"larrow\", fc=\"green\", alpha=0.5))\n",
    "    \n",
    "    ax.tick_params(which='both', labelsize=16, length=3, width=0.5)\n",
    "    ax.xaxis.set_minor_locator(ticker.MultipleLocator(1e9))\n",
    "    xticks = ax.get_xticks()\n",
    "    ax.set_xticklabels(xticks/1e10)\n",
    "    ax.set_xlabel(\"$P(k_\\parallel)$ $[\\\\times 10^{10}\\,%s]$\" % psunits, fontsize=16)\n",
    "    if col_idx == 0: \n",
    "        ax.set_ylabel(\"pdf\", fontsize=16)\n",
    "    if ax_idx == 0:\n",
    "        ax.legend(loc='lower right', fontsize=14)\n",
    "    ax.set_title(\"Average over \\n{} timestamp(s)\".format(num_time_samples),bbox=dict(fc='wheat', alpha=0.5), fontsize=16, pad=15)\n",
    "fig.subplots_adjust(top=0.8)\n",
    "fig.suptitle(suptitle, fontsize=20, bbox=dict(fc='gold', alpha=0.5), x=0.5, y=0.99)\n",
    "print(len(uvp_plot.get_all_keys())*len(delay_args))"
   ]
  },
  {
   "cell_type": "code",
   "execution_count": 101,
   "id": "f4e130d9",
   "metadata": {
    "execution": {
     "iopub.execute_input": "2022-03-17T03:34:07.567710Z",
     "iopub.status.busy": "2022-03-17T03:34:07.567234Z",
     "iopub.status.idle": "2022-03-17T03:36:30.589834Z",
     "shell.execute_reply": "2022-03-17T03:36:30.590414Z"
    },
    "papermill": {
     "duration": 143.133497,
     "end_time": "2022-03-17T03:36:30.590552",
     "exception": false,
     "start_time": "2022-03-17T03:34:07.457055",
     "status": "completed"
    },
    "tags": []
   },
   "outputs": [
    {
     "name": "stdout",
     "output_type": "stream",
     "text": [
      "beyond 3sigma 0.0 Gauss 0.002428115998334827 Laplacian 0.013579845438731336\n"
     ]
    },
    {
     "name": "stderr",
     "output_type": "stream",
     "text": [
      "FixedFormatter should only be used together with FixedLocator\n"
     ]
    },
    {
     "name": "stdout",
     "output_type": "stream",
     "text": [
      "beyond 3sigma 0.0 Gauss 0.002428115998334987 Laplacian 0.005686664054733584\n"
     ]
    },
    {
     "name": "stderr",
     "output_type": "stream",
     "text": [
      "FixedFormatter should only be used together with FixedLocator\n"
     ]
    },
    {
     "name": "stderr",
     "output_type": "stream",
     "text": [
      "FixedFormatter should only be used together with FixedLocator\n",
      "Locator attempting to generate 5205 ticks ([-2602000000000.0, ..., 2602000000000.0]), which exceeds Locator.MAXTICKS (1000).\n"
     ]
    },
    {
     "name": "stdout",
     "output_type": "stream",
     "text": [
      "beyond 3sigma 0.0 Gauss 0.0024281159983350416 Laplacian 8.818933589763234e-07\n",
      "9936\n"
     ]
    },
    {
     "name": "stderr",
     "output_type": "stream",
     "text": [
      "Locator attempting to generate 5205 ticks ([-2602000000000.0, ..., 2602000000000.0]), which exceeds Locator.MAXTICKS (1000).\n"
     ]
    },
    {
     "name": "stderr",
     "output_type": "stream",
     "text": [
      "Locator attempting to generate 2335 ticks ([-1167000000000.0, ..., 1167000000000.0]), which exceeds Locator.MAXTICKS (1000).\n"
     ]
    },
    {
     "name": "stderr",
     "output_type": "stream",
     "text": [
      "Locator attempting to generate 2335 ticks ([-1167000000000.0, ..., 1167000000000.0]), which exceeds Locator.MAXTICKS (1000).\n"
     ]
    },
    {
     "name": "stderr",
     "output_type": "stream",
     "text": [
      "Locator attempting to generate 1351 ticks ([-675000000000.0, ..., 675000000000.0]), which exceeds Locator.MAXTICKS (1000).\n"
     ]
    },
    {
     "name": "stderr",
     "output_type": "stream",
     "text": [
      "Locator attempting to generate 1351 ticks ([-675000000000.0, ..., 675000000000.0]), which exceeds Locator.MAXTICKS (1000).\n"
     ]
    },
    {
     "name": "stderr",
     "output_type": "stream",
     "text": [
      "Locator attempting to generate 5205 ticks ([-2602000000000.0, ..., 2602000000000.0]), which exceeds Locator.MAXTICKS (1000).\n"
     ]
    },
    {
     "name": "stderr",
     "output_type": "stream",
     "text": [
      "Locator attempting to generate 5205 ticks ([-2602000000000.0, ..., 2602000000000.0]), which exceeds Locator.MAXTICKS (1000).\n"
     ]
    },
    {
     "name": "stderr",
     "output_type": "stream",
     "text": [
      "Locator attempting to generate 2335 ticks ([-1167000000000.0, ..., 1167000000000.0]), which exceeds Locator.MAXTICKS (1000).\n"
     ]
    },
    {
     "name": "stderr",
     "output_type": "stream",
     "text": [
      "Locator attempting to generate 2335 ticks ([-1167000000000.0, ..., 1167000000000.0]), which exceeds Locator.MAXTICKS (1000).\n"
     ]
    },
    {
     "name": "stderr",
     "output_type": "stream",
     "text": [
      "Locator attempting to generate 1351 ticks ([-675000000000.0, ..., 675000000000.0]), which exceeds Locator.MAXTICKS (1000).\n"
     ]
    },
    {
     "name": "stderr",
     "output_type": "stream",
     "text": [
      "Locator attempting to generate 1351 ticks ([-675000000000.0, ..., 675000000000.0]), which exceeds Locator.MAXTICKS (1000).\n"
     ]
    },
    {
     "name": "stderr",
     "output_type": "stream",
     "text": [
      "Locator attempting to generate 5205 ticks ([-2602000000000.0, ..., 2602000000000.0]), which exceeds Locator.MAXTICKS (1000).\n"
     ]
    },
    {
     "name": "stderr",
     "output_type": "stream",
     "text": [
      "Locator attempting to generate 5205 ticks ([-2602000000000.0, ..., 2602000000000.0]), which exceeds Locator.MAXTICKS (1000).\n"
     ]
    },
    {
     "name": "stderr",
     "output_type": "stream",
     "text": [
      "Locator attempting to generate 2335 ticks ([-1167000000000.0, ..., 1167000000000.0]), which exceeds Locator.MAXTICKS (1000).\n"
     ]
    },
    {
     "name": "stderr",
     "output_type": "stream",
     "text": [
      "Locator attempting to generate 2335 ticks ([-1167000000000.0, ..., 1167000000000.0]), which exceeds Locator.MAXTICKS (1000).\n"
     ]
    },
    {
     "name": "stderr",
     "output_type": "stream",
     "text": [
      "Locator attempting to generate 1351 ticks ([-675000000000.0, ..., 675000000000.0]), which exceeds Locator.MAXTICKS (1000).\n"
     ]
    },
    {
     "name": "stderr",
     "output_type": "stream",
     "text": [
      "Locator attempting to generate 1351 ticks ([-675000000000.0, ..., 675000000000.0]), which exceeds Locator.MAXTICKS (1000).\n"
     ]
    },
    {
     "name": "stderr",
     "output_type": "stream",
     "text": [
      "Locator attempting to generate 5205 ticks ([-2602000000000.0, ..., 2602000000000.0]), which exceeds Locator.MAXTICKS (1000).\n"
     ]
    },
    {
     "name": "stderr",
     "output_type": "stream",
     "text": [
      "Locator attempting to generate 5205 ticks ([-2602000000000.0, ..., 2602000000000.0]), which exceeds Locator.MAXTICKS (1000).\n"
     ]
    },
    {
     "name": "stderr",
     "output_type": "stream",
     "text": [
      "Locator attempting to generate 2335 ticks ([-1167000000000.0, ..., 1167000000000.0]), which exceeds Locator.MAXTICKS (1000).\n"
     ]
    },
    {
     "name": "stderr",
     "output_type": "stream",
     "text": [
      "Locator attempting to generate 2335 ticks ([-1167000000000.0, ..., 1167000000000.0]), which exceeds Locator.MAXTICKS (1000).\n"
     ]
    },
    {
     "name": "stderr",
     "output_type": "stream",
     "text": [
      "Locator attempting to generate 1351 ticks ([-675000000000.0, ..., 675000000000.0]), which exceeds Locator.MAXTICKS (1000).\n"
     ]
    },
    {
     "name": "stderr",
     "output_type": "stream",
     "text": [
      "Locator attempting to generate 1351 ticks ([-675000000000.0, ..., 675000000000.0]), which exceeds Locator.MAXTICKS (1000).\n"
     ]
    },
    {
     "name": "stderr",
     "output_type": "stream",
     "text": [
      "Locator attempting to generate 5205 ticks ([-2602000000000.0, ..., 2602000000000.0]), which exceeds Locator.MAXTICKS (1000).\n"
     ]
    },
    {
     "name": "stderr",
     "output_type": "stream",
     "text": [
      "Locator attempting to generate 5205 ticks ([-2602000000000.0, ..., 2602000000000.0]), which exceeds Locator.MAXTICKS (1000).\n"
     ]
    },
    {
     "name": "stderr",
     "output_type": "stream",
     "text": [
      "Locator attempting to generate 2335 ticks ([-1167000000000.0, ..., 1167000000000.0]), which exceeds Locator.MAXTICKS (1000).\n"
     ]
    },
    {
     "name": "stderr",
     "output_type": "stream",
     "text": [
      "Locator attempting to generate 2335 ticks ([-1167000000000.0, ..., 1167000000000.0]), which exceeds Locator.MAXTICKS (1000).\n"
     ]
    },
    {
     "name": "stderr",
     "output_type": "stream",
     "text": [
      "Locator attempting to generate 1351 ticks ([-675000000000.0, ..., 675000000000.0]), which exceeds Locator.MAXTICKS (1000).\n"
     ]
    },
    {
     "name": "stderr",
     "output_type": "stream",
     "text": [
      "Locator attempting to generate 1351 ticks ([-675000000000.0, ..., 675000000000.0]), which exceeds Locator.MAXTICKS (1000).\n"
     ]
    },
    {
     "name": "stderr",
     "output_type": "stream",
     "text": [
      "Locator attempting to generate 5205 ticks ([-2602000000000.0, ..., 2602000000000.0]), which exceeds Locator.MAXTICKS (1000).\n"
     ]
    },
    {
     "name": "stderr",
     "output_type": "stream",
     "text": [
      "Locator attempting to generate 5205 ticks ([-2602000000000.0, ..., 2602000000000.0]), which exceeds Locator.MAXTICKS (1000).\n"
     ]
    },
    {
     "name": "stderr",
     "output_type": "stream",
     "text": [
      "Locator attempting to generate 2335 ticks ([-1167000000000.0, ..., 1167000000000.0]), which exceeds Locator.MAXTICKS (1000).\n"
     ]
    },
    {
     "name": "stderr",
     "output_type": "stream",
     "text": [
      "Locator attempting to generate 2335 ticks ([-1167000000000.0, ..., 1167000000000.0]), which exceeds Locator.MAXTICKS (1000).\n"
     ]
    },
    {
     "name": "stderr",
     "output_type": "stream",
     "text": [
      "Locator attempting to generate 1351 ticks ([-675000000000.0, ..., 675000000000.0]), which exceeds Locator.MAXTICKS (1000).\n"
     ]
    },
    {
     "name": "stderr",
     "output_type": "stream",
     "text": [
      "Locator attempting to generate 1351 ticks ([-675000000000.0, ..., 675000000000.0]), which exceeds Locator.MAXTICKS (1000).\n"
     ]
    },
    {
     "data": {
      "image/png": "[encoded data removed]",
      "text/plain": [
       "<Figure size 1440x432 with 3 Axes>"
      ]
     },
     "metadata": {
      "needs_background": "light"
     },
     "output_type": "display_data"
    }
   ],
   "source": [
    "# used in paper\n",
    "# A larger window (500-1500), with normalization\n",
    "uvp_plot = uvp_P_cov_n\n",
    "num_time_samples_list = [1,5,15]\n",
    "ylim = (5*1e-13,1e-9)\n",
    "dlys = uvp_plot.get_dlys(0) * 1e9\n",
    "delay_args = np.append(np.argwhere((dlys< -500)*(dlys>-1500)), np.argwhere((dlys< 1500)*(dlys>500)))\n",
    "suptitle = \"Inpainted HERA Phase I Data, \" + r\"$500\\,{\\rm ns}<|\\tau|<1500\\,{\\rm ns}$\"\n",
    "\n",
    "fig, axes = plt.subplots(figsize=(20,6), ncols=3, nrows=1)\n",
    "for ax_idx, num_time_samples in enumerate(num_time_samples_list):\n",
    "    col_idx = ax_idx%3\n",
    "    times = np.arange(num_time_samples)\n",
    "   \n",
    "    # Get all keys\n",
    "    keys = uvp_plot.get_all_keys()\n",
    "    blpt_weights = np.array([[1. for item in times] for key in keys])\n",
    "    ps_real_time_avg = []\n",
    "    for dly in delay_args:\n",
    "        ps = np.array([[uvp_plot.get_data(key)[time, dly]*uvp_plot.get_stats(\"autos_diag\", keys[0])[time,0].real\\\n",
    "                        /uvp_plot.get_stats(\"autos_diag\", key)[time, dly].real for time in times] for key in keys])\n",
    "        ps_real_time_avg.extend((np.sum(ps.real*blpt_weights, axis=1)/np.sum(blpt_weights, axis=1).clip(1e-10, np.inf)).flatten())\n",
    "    ps_real_time_avg = np.array(ps_real_time_avg) - np.mean(ps_real_time_avg)\n",
    "    # The ratio of error bars to the original one\n",
    "    psunits = uvp_plot.units\n",
    "    if \"h^-1\" in psunits: psunits = psunits.replace(\"h^-1\", \"h^{-1}\")\n",
    "    if \"h^-3\" in psunits: psunits = psunits.replace(\"h^-3\", \"h^{-3}\")\n",
    "    if \"Mpc\" in psunits and \"\\\\rm\" not in psunits: \n",
    "        psunits = psunits.replace(\"Mpc\", r\"{\\rm Mpc}\")\n",
    "    if \"pi\" in psunits and \"\\\\pi\" not in psunits: \n",
    "        psunits = psunits.replace(\"pi\", r\"\\pi\")\n",
    "    \n",
    "    ax = axes[col_idx]\n",
    "    Lap_sigma_list = np.zeros(num_time_samples)\n",
    "    for time in times:\n",
    "        Lap_sigma_list[time] = uvp_plot.get_stats(\"autos_diag\", keys[0])[time, 0].real \n",
    "    Gauss_sigma = np.sqrt(np.sum(Lap_sigma_list**2))/num_time_samples\n",
    "    vlim = 6*Gauss_sigma\n",
    "    n_in_bins, bins_edge, _ = ax.hist(ps_real_time_avg, log=True, density=True, bins=61, range=(-vlim, vlim), alpha=0.75,\n",
    "                           color='pink')\n",
    "    ax.set_xlim(-vlim, vlim)\n",
    "    ax.set_ylim(*ylim)\n",
    "    \n",
    "    px = np.linspace(-vlim, vlim, 100)\n",
    "    Lap_curve = np.zeros_like(px)\n",
    "    normalized_factor = 0\n",
    "    for time in times:\n",
    "        scale_factor = 1\n",
    "        for time_ in times:\n",
    "            if time_ != time:\n",
    "                scale_factor *= Lap_sigma_list[time]**2/(Lap_sigma_list[time]**2-Lap_sigma_list[time_]**2)\n",
    "        normalized_factor += scale_factor   \n",
    "        Lap_curve += np.exp(-np.sqrt(2)*np.abs(px)/Lap_sigma_list[time]*num_time_samples)/np.sqrt(2)/Lap_sigma_list[time]*num_time_samples*scale_factor\n",
    "    \n",
    "    # Calculate the equivalent Gaussian pdf\n",
    "    Gauss_curve = np.exp(-px**2/2/Gauss_sigma**2)/np.sqrt(2*np.pi*Gauss_sigma**2)\n",
    "    \n",
    "    if np.isclose(normalized_factor,1,rtol=5e-1):\n",
    "        ax.plot(px, Lap_curve, ls='-', lw=2, label=\"Sum of Laplacians\", c='cyan')\n",
    "    ax.plot(px, Gauss_curve, ls='--', lw=2, label='Gaussian', c='slategrey')\n",
    "    bins_center = (bins_edge[1:] + bins_edge[0:-1])/2\n",
    "    outlier_3sigma = (np.sum(n_in_bins)-np.sum(n_in_bins[(-3*Gauss_sigma<=bins_center)*(bins_center<=3*Gauss_sigma)]))/np.sum(n_in_bins)\n",
    "    print(\"beyond 3sigma {}\".format(outlier_3sigma), \\\n",
    "          \"Gauss {}\".format((np.sum(Gauss_curve)-np.sum(Gauss_curve[(-3*Gauss_sigma<=px)*(px<=3*Gauss_sigma)]))/np.sum(Gauss_curve)), \\\n",
    "          \"Laplacian {}\".format((np.sum(Lap_curve)-np.sum(Lap_curve[(-3*Gauss_sigma<=px)*(px<=3*Gauss_sigma)]))/np.sum(Lap_curve)))\n",
    "    # confidence interval\n",
    "    ax.axvline(x=3*Gauss_sigma, c='k', lw=1, ls=':')\n",
    "    ax.axvline(x=-3*Gauss_sigma, c='k', lw=1, ls=':')\n",
    "    ax.axvline(x=5*Gauss_sigma, c='navy', lw=1, ls=':')\n",
    "    ax.axvline(x=-5*Gauss_sigma, c='navy', lw=1, ls=':')\n",
    "    if ax_idx == 0:\n",
    "        ax.text(2.2*Gauss_sigma, 9*1e-12, r'$3 \\sigma$', ha=\"center\", va=\"center\", rotation=0,\n",
    "            fontsize=14,\n",
    "            bbox=dict(boxstyle=\"rarrow\", fc=\"green\", alpha=0.5))\n",
    "        ax.text(4.2*Gauss_sigma, 1e-10, r'$5 \\sigma$', ha=\"center\", va=\"center\", rotation=0,\n",
    "            fontsize=14,\n",
    "            bbox=dict(boxstyle=\"rarrow\", fc=\"green\", alpha=0.5))\n",
    "        ax.text(-2.2*Gauss_sigma, 9*1e-12, r'$3 \\sigma$', ha=\"center\", va=\"center\", rotation=0,\n",
    "            fontsize=14,\n",
    "            bbox=dict(boxstyle=\"larrow\", fc=\"green\", alpha=0.5))\n",
    "        ax.text(-4.2*Gauss_sigma, 1e-10, r'$5 \\sigma$', ha=\"center\", va=\"center\", rotation=0,\n",
    "            fontsize=14,\n",
    "            bbox=dict(boxstyle=\"larrow\", fc=\"green\", alpha=0.5))\n",
    "    \n",
    "    ax.tick_params(which='both', labelsize=16, length=3, width=0.5)\n",
    "    ax.xaxis.set_minor_locator(ticker.MultipleLocator(1e9))\n",
    "    xticks = ax.get_xticks()\n",
    "    ax.set_xticklabels(xticks/1e10)\n",
    "    ax.set_xlabel(\"$P(k_\\parallel)$ $[\\\\times 10^{10}\\,%s]$\" % psunits, fontsize=16)\n",
    "    if col_idx == 0: \n",
    "        ax.set_ylabel(\"pdf\", fontsize=16)\n",
    "    if ax_idx == 0:\n",
    "        ax.legend(loc='lower right', fontsize=14)\n",
    "    ax.set_title(\"Average over \\n{} timestamp(s)\".format(num_time_samples),bbox=dict(fc='wheat', alpha=0.5), fontsize=16, pad=15)\n",
    "fig.subplots_adjust(top=0.8)\n",
    "fig.suptitle(suptitle, fontsize=20, bbox=dict(fc='gold', alpha=0.5), x=0.5, y=0.99)\n",
    "print(len(uvp_plot.get_all_keys())*len(delay_args))"
   ]
  },
  {
   "cell_type": "markdown",
   "id": "ed1ecd5d",
   "metadata": {
    "papermill": {
     "duration": 0.094065,
     "end_time": "2022-03-17T03:36:30.780210",
     "exception": false,
     "start_time": "2022-03-17T03:36:30.686145",
     "status": "completed"
    },
    "tags": []
   },
   "source": [
    "#### inpainted + reflection"
   ]
  },
  {
   "cell_type": "code",
   "execution_count": 102,
   "id": "83349595",
   "metadata": {
    "execution": {
     "iopub.execute_input": "2022-03-17T03:36:30.993701Z",
     "iopub.status.busy": "2022-03-17T03:36:30.993226Z",
     "iopub.status.idle": "2022-03-17T03:42:40.026919Z",
     "shell.execute_reply": "2022-03-17T03:42:40.027512Z"
    },
    "papermill": {
     "duration": 369.153132,
     "end_time": "2022-03-17T03:42:40.027656",
     "exception": false,
     "start_time": "2022-03-17T03:36:30.874524",
     "status": "completed"
    },
    "tags": []
   },
   "outputs": [
    {
     "name": "stdout",
     "output_type": "stream",
     "text": [
      "beyond 3sigma 0.0\n"
     ]
    },
    {
     "name": "stderr",
     "output_type": "stream",
     "text": [
      "FixedFormatter should only be used together with FixedLocator\n"
     ]
    },
    {
     "name": "stdout",
     "output_type": "stream",
     "text": [
      "beyond 3sigma 0.0\n"
     ]
    },
    {
     "name": "stderr",
     "output_type": "stream",
     "text": [
      "FixedFormatter should only be used together with FixedLocator\n"
     ]
    },
    {
     "name": "stderr",
     "output_type": "stream",
     "text": [
      "FixedFormatter should only be used together with FixedLocator\n",
      "Locator attempting to generate 5205 ticks ([-2602000000000.0, ..., 2602000000000.0]), which exceeds Locator.MAXTICKS (1000).\n"
     ]
    },
    {
     "name": "stdout",
     "output_type": "stream",
     "text": [
      "beyond 3sigma 0.0\n",
      "30084\n"
     ]
    },
    {
     "name": "stderr",
     "output_type": "stream",
     "text": [
      "Locator attempting to generate 5205 ticks ([-2602000000000.0, ..., 2602000000000.0]), which exceeds Locator.MAXTICKS (1000).\n"
     ]
    },
    {
     "name": "stderr",
     "output_type": "stream",
     "text": [
      "Locator attempting to generate 2335 ticks ([-1167000000000.0, ..., 1167000000000.0]), which exceeds Locator.MAXTICKS (1000).\n"
     ]
    },
    {
     "name": "stderr",
     "output_type": "stream",
     "text": [
      "Locator attempting to generate 2335 ticks ([-1167000000000.0, ..., 1167000000000.0]), which exceeds Locator.MAXTICKS (1000).\n"
     ]
    },
    {
     "name": "stderr",
     "output_type": "stream",
     "text": [
      "Locator attempting to generate 1351 ticks ([-675000000000.0, ..., 675000000000.0]), which exceeds Locator.MAXTICKS (1000).\n"
     ]
    },
    {
     "name": "stderr",
     "output_type": "stream",
     "text": [
      "Locator attempting to generate 1351 ticks ([-675000000000.0, ..., 675000000000.0]), which exceeds Locator.MAXTICKS (1000).\n"
     ]
    },
    {
     "name": "stderr",
     "output_type": "stream",
     "text": [
      "Locator attempting to generate 5205 ticks ([-2602000000000.0, ..., 2602000000000.0]), which exceeds Locator.MAXTICKS (1000).\n"
     ]
    },
    {
     "name": "stderr",
     "output_type": "stream",
     "text": [
      "Locator attempting to generate 5205 ticks ([-2602000000000.0, ..., 2602000000000.0]), which exceeds Locator.MAXTICKS (1000).\n"
     ]
    },
    {
     "name": "stderr",
     "output_type": "stream",
     "text": [
      "Locator attempting to generate 2335 ticks ([-1167000000000.0, ..., 1167000000000.0]), which exceeds Locator.MAXTICKS (1000).\n"
     ]
    },
    {
     "name": "stderr",
     "output_type": "stream",
     "text": [
      "Locator attempting to generate 2335 ticks ([-1167000000000.0, ..., 1167000000000.0]), which exceeds Locator.MAXTICKS (1000).\n"
     ]
    },
    {
     "name": "stderr",
     "output_type": "stream",
     "text": [
      "Locator attempting to generate 1351 ticks ([-675000000000.0, ..., 675000000000.0]), which exceeds Locator.MAXTICKS (1000).\n"
     ]
    },
    {
     "name": "stderr",
     "output_type": "stream",
     "text": [
      "Locator attempting to generate 1351 ticks ([-675000000000.0, ..., 675000000000.0]), which exceeds Locator.MAXTICKS (1000).\n"
     ]
    },
    {
     "name": "stderr",
     "output_type": "stream",
     "text": [
      "Locator attempting to generate 5205 ticks ([-2602000000000.0, ..., 2602000000000.0]), which exceeds Locator.MAXTICKS (1000).\n"
     ]
    },
    {
     "name": "stderr",
     "output_type": "stream",
     "text": [
      "Locator attempting to generate 5205 ticks ([-2602000000000.0, ..., 2602000000000.0]), which exceeds Locator.MAXTICKS (1000).\n"
     ]
    },
    {
     "name": "stderr",
     "output_type": "stream",
     "text": [
      "Locator attempting to generate 2335 ticks ([-1167000000000.0, ..., 1167000000000.0]), which exceeds Locator.MAXTICKS (1000).\n"
     ]
    },
    {
     "name": "stderr",
     "output_type": "stream",
     "text": [
      "Locator attempting to generate 2335 ticks ([-1167000000000.0, ..., 1167000000000.0]), which exceeds Locator.MAXTICKS (1000).\n"
     ]
    },
    {
     "name": "stderr",
     "output_type": "stream",
     "text": [
      "Locator attempting to generate 1351 ticks ([-675000000000.0, ..., 675000000000.0]), which exceeds Locator.MAXTICKS (1000).\n"
     ]
    },
    {
     "name": "stderr",
     "output_type": "stream",
     "text": [
      "Locator attempting to generate 1351 ticks ([-675000000000.0, ..., 675000000000.0]), which exceeds Locator.MAXTICKS (1000).\n"
     ]
    },
    {
     "name": "stderr",
     "output_type": "stream",
     "text": [
      "Locator attempting to generate 5205 ticks ([-2602000000000.0, ..., 2602000000000.0]), which exceeds Locator.MAXTICKS (1000).\n"
     ]
    },
    {
     "name": "stderr",
     "output_type": "stream",
     "text": [
      "Locator attempting to generate 5205 ticks ([-2602000000000.0, ..., 2602000000000.0]), which exceeds Locator.MAXTICKS (1000).\n"
     ]
    },
    {
     "name": "stderr",
     "output_type": "stream",
     "text": [
      "Locator attempting to generate 2335 ticks ([-1167000000000.0, ..., 1167000000000.0]), which exceeds Locator.MAXTICKS (1000).\n"
     ]
    },
    {
     "name": "stderr",
     "output_type": "stream",
     "text": [
      "Locator attempting to generate 2335 ticks ([-1167000000000.0, ..., 1167000000000.0]), which exceeds Locator.MAXTICKS (1000).\n"
     ]
    },
    {
     "name": "stderr",
     "output_type": "stream",
     "text": [
      "Locator attempting to generate 1351 ticks ([-675000000000.0, ..., 675000000000.0]), which exceeds Locator.MAXTICKS (1000).\n"
     ]
    },
    {
     "name": "stderr",
     "output_type": "stream",
     "text": [
      "Locator attempting to generate 1351 ticks ([-675000000000.0, ..., 675000000000.0]), which exceeds Locator.MAXTICKS (1000).\n"
     ]
    },
    {
     "name": "stderr",
     "output_type": "stream",
     "text": [
      "Locator attempting to generate 5205 ticks ([-2602000000000.0, ..., 2602000000000.0]), which exceeds Locator.MAXTICKS (1000).\n"
     ]
    },
    {
     "name": "stderr",
     "output_type": "stream",
     "text": [
      "Locator attempting to generate 5205 ticks ([-2602000000000.0, ..., 2602000000000.0]), which exceeds Locator.MAXTICKS (1000).\n"
     ]
    },
    {
     "name": "stderr",
     "output_type": "stream",
     "text": [
      "Locator attempting to generate 2335 ticks ([-1167000000000.0, ..., 1167000000000.0]), which exceeds Locator.MAXTICKS (1000).\n"
     ]
    },
    {
     "name": "stderr",
     "output_type": "stream",
     "text": [
      "Locator attempting to generate 2335 ticks ([-1167000000000.0, ..., 1167000000000.0]), which exceeds Locator.MAXTICKS (1000).\n"
     ]
    },
    {
     "name": "stderr",
     "output_type": "stream",
     "text": [
      "Locator attempting to generate 1351 ticks ([-675000000000.0, ..., 675000000000.0]), which exceeds Locator.MAXTICKS (1000).\n"
     ]
    },
    {
     "name": "stderr",
     "output_type": "stream",
     "text": [
      "Locator attempting to generate 1351 ticks ([-675000000000.0, ..., 675000000000.0]), which exceeds Locator.MAXTICKS (1000).\n"
     ]
    },
    {
     "name": "stderr",
     "output_type": "stream",
     "text": [
      "Locator attempting to generate 5205 ticks ([-2602000000000.0, ..., 2602000000000.0]), which exceeds Locator.MAXTICKS (1000).\n"
     ]
    },
    {
     "name": "stderr",
     "output_type": "stream",
     "text": [
      "Locator attempting to generate 5205 ticks ([-2602000000000.0, ..., 2602000000000.0]), which exceeds Locator.MAXTICKS (1000).\n"
     ]
    },
    {
     "name": "stderr",
     "output_type": "stream",
     "text": [
      "Locator attempting to generate 2335 ticks ([-1167000000000.0, ..., 1167000000000.0]), which exceeds Locator.MAXTICKS (1000).\n"
     ]
    },
    {
     "name": "stderr",
     "output_type": "stream",
     "text": [
      "Locator attempting to generate 2335 ticks ([-1167000000000.0, ..., 1167000000000.0]), which exceeds Locator.MAXTICKS (1000).\n"
     ]
    },
    {
     "name": "stderr",
     "output_type": "stream",
     "text": [
      "Locator attempting to generate 1351 ticks ([-675000000000.0, ..., 675000000000.0]), which exceeds Locator.MAXTICKS (1000).\n"
     ]
    },
    {
     "name": "stderr",
     "output_type": "stream",
     "text": [
      "Locator attempting to generate 1351 ticks ([-675000000000.0, ..., 675000000000.0]), which exceeds Locator.MAXTICKS (1000).\n"
     ]
    },
    {
     "data": {
      "image/png": "[encoded data removed]",
      "text/plain": [
       "<Figure size 1440x432 with 3 Axes>"
      ]
     },
     "metadata": {
      "needs_background": "light"
     },
     "output_type": "display_data"
    }
   ],
   "source": [
    "# used in paper\n",
    "# A larger window (2000), with normalization\n",
    "uvp_plot = uvp_PC_cov_n\n",
    "num_time_samples_list = [1,5,15]\n",
    "ylim = (5*1e-13,1e-9)\n",
    "dlys = uvp_plot.get_dlys(0) * 1e9\n",
    "delay_args = np.append(np.argwhere(dlys< -2000), np.argwhere(dlys> 2000))\n",
    "suptitle = \"Inpainted+cable reflection removed, \"+r\"$|\\tau|>2000 {\\rm ns}$\"\n",
    "\n",
    "fig, axes = plt.subplots(figsize=(20,6), ncols=3, nrows=1)\n",
    "for ax_idx, num_time_samples in enumerate(num_time_samples_list):\n",
    "    col_idx = ax_idx%3\n",
    "    times = np.arange(num_time_samples)\n",
    "   \n",
    "    # Get all keys\n",
    "    keys = uvp_plot.get_all_keys()\n",
    "    blpt_weights = np.array([[1. for item in times] for key in keys])\n",
    "    ps_real_time_avg = []\n",
    "    for dly in delay_args:\n",
    "        ps = np.array([[uvp_plot.get_data(key)[time, dly]*uvp_plot.get_stats(\"autos_diag\", keys[0])[time,0].real\\\n",
    "                        /uvp_plot.get_stats(\"autos_diag\", key)[time, dly].real for time in times] for key in keys])\n",
    "        ps_real_time_avg.extend((np.sum(ps.real*blpt_weights, axis=1)/np.sum(blpt_weights, axis=1).clip(1e-10, np.inf)).flatten())\n",
    "    ps_real_time_avg = np.array(ps_real_time_avg) - np.mean(ps_real_time_avg)\n",
    "    # The ratio of error bars to the original one\n",
    "    psunits = uvp_plot.units\n",
    "    if \"h^-1\" in psunits: psunits = psunits.replace(\"h^-1\", \"h^{-1}\")\n",
    "    if \"h^-3\" in psunits: psunits = psunits.replace(\"h^-3\", \"h^{-3}\")\n",
    "    if \"Mpc\" in psunits and \"\\\\rm\" not in psunits: \n",
    "        psunits = psunits.replace(\"Mpc\", r\"{\\rm Mpc}\")\n",
    "    if \"pi\" in psunits and \"\\\\pi\" not in psunits: \n",
    "        psunits = psunits.replace(\"pi\", r\"\\pi\")\n",
    "    \n",
    "    ax = axes[col_idx]\n",
    "    Lap_sigma_list = np.zeros(num_time_samples)\n",
    "    for time in times:\n",
    "        Lap_sigma_list[time] = uvp_plot.get_stats(\"autos_diag\", keys[0])[time, 0].real \n",
    "    Gauss_sigma = np.sqrt(np.sum(Lap_sigma_list**2))/num_time_samples\n",
    "    vlim = 6*Gauss_sigma\n",
    "    n_in_bins, bins_edge, _ = ax.hist(ps_real_time_avg, log=True, density=True, bins=61, range=(-vlim, vlim), alpha=0.75,\n",
    "                           color='pink')\n",
    "    ax.set_xlim(-vlim, vlim)\n",
    "    ax.set_ylim(*ylim)\n",
    "    \n",
    "    px = np.linspace(-vlim, vlim, 100)\n",
    "    Lap_curve = np.zeros_like(px)\n",
    "    normalized_factor = 0\n",
    "    for time in times:\n",
    "        scale_factor = 1\n",
    "        for time_ in times:\n",
    "            if time_ != time:\n",
    "                scale_factor *= Lap_sigma_list[time]**2/(Lap_sigma_list[time]**2-Lap_sigma_list[time_]**2)\n",
    "        normalized_factor += scale_factor   \n",
    "        Lap_curve += np.exp(-np.sqrt(2)*np.abs(px)/Lap_sigma_list[time]*num_time_samples)/np.sqrt(2)/Lap_sigma_list[time]*num_time_samples*scale_factor\n",
    "    \n",
    "    # Calculate the equivalent Gaussian pdf\n",
    "    Gauss_curve = np.exp(-px**2/2/Gauss_sigma**2)/np.sqrt(2*np.pi*Gauss_sigma**2)\n",
    "    \n",
    "    if np.isclose(normalized_factor,1,rtol=5e-1):\n",
    "        ax.plot(px, Lap_curve, ls='-', lw=2, label=\"Sum of Laplacian\", c='cyan')\n",
    "    ax.plot(px, Gauss_curve, ls='--', lw=2, label='Gaussian', c='slategrey')\n",
    "    bins_center = (bins_edge[1:] + bins_edge[0:-1])/2\n",
    "    outlier_3sigma = (np.sum(n_in_bins)-np.sum(n_in_bins[(-3*Gauss_sigma<=bins_center)*(bins_center<=3*Gauss_sigma)]))/np.sum(n_in_bins)\n",
    "    print(\"beyond 3sigma {}\".format(outlier_3sigma))\n",
    "    \n",
    "    # confidence interval\n",
    "    ax.axvline(x=3*Gauss_sigma, c='k', lw=1, ls=':')\n",
    "    ax.axvline(x=-3*Gauss_sigma, c='k', lw=1, ls=':')\n",
    "    ax.axvline(x=5*Gauss_sigma, c='navy', lw=1, ls=':')\n",
    "    ax.axvline(x=-5*Gauss_sigma, c='navy', lw=1, ls=':')\n",
    "    if ax_idx == 0:\n",
    "        ax.text(2.2*Gauss_sigma, 9*1e-12, r'$3 \\sigma$', ha=\"center\", va=\"center\", rotation=0,\n",
    "            fontsize=14,\n",
    "            bbox=dict(boxstyle=\"rarrow\", fc=\"green\", alpha=0.5))\n",
    "        ax.text(4.2*Gauss_sigma, 1e-10, r'$5 \\sigma$', ha=\"center\", va=\"center\", rotation=0,\n",
    "            fontsize=14,\n",
    "            bbox=dict(boxstyle=\"rarrow\", fc=\"green\", alpha=0.5))\n",
    "        ax.text(-2.2*Gauss_sigma, 9*1e-12, r'$3 \\sigma$', ha=\"center\", va=\"center\", rotation=0,\n",
    "            fontsize=14,\n",
    "            bbox=dict(boxstyle=\"larrow\", fc=\"green\", alpha=0.5))\n",
    "        ax.text(-4.2*Gauss_sigma, 1e-10, r'$5 \\sigma$', ha=\"center\", va=\"center\", rotation=0,\n",
    "            fontsize=14,\n",
    "            bbox=dict(boxstyle=\"larrow\", fc=\"green\", alpha=0.5))\n",
    "    \n",
    "    ax.tick_params(which='both', labelsize=16, length=3, width=0.5)\n",
    "    ax.xaxis.set_minor_locator(ticker.MultipleLocator(1e9))\n",
    "    xticks = ax.get_xticks()\n",
    "    ax.set_xticklabels(xticks/1e10)\n",
    "    ax.set_xlabel(\"$P(k_\\parallel)$ $[\\\\times 10^{10}\\,%s]$\" % psunits, fontsize=16)\n",
    "    if col_idx == 0: \n",
    "        ax.set_ylabel(\"pdf\", fontsize=16)\n",
    "    if ax_idx == 0:\n",
    "        ax.legend(loc='lower right', fontsize=14)\n",
    "    ax.set_title(\"Average over \\n{} timestamp(s)\".format(num_time_samples),bbox=dict(fc='wheat', alpha=0.5), fontsize=16, pad=15)\n",
    "fig.subplots_adjust(top=0.8)\n",
    "fig.suptitle(suptitle, fontsize=20, bbox=dict(fc='gold', alpha=0.5), x=0.5, y=0.99)\n",
    "print(len(uvp_plot.get_all_keys())*len(delay_args))"
   ]
  },
  {
   "cell_type": "code",
   "execution_count": 103,
   "id": "6bea2103",
   "metadata": {
    "execution": {
     "iopub.execute_input": "2022-03-17T03:42:40.260715Z",
     "iopub.status.busy": "2022-03-17T03:42:40.260244Z",
     "iopub.status.idle": "2022-03-17T03:45:02.977817Z",
     "shell.execute_reply": "2022-03-17T03:45:02.978425Z"
    },
    "papermill": {
     "duration": 142.846523,
     "end_time": "2022-03-17T03:45:02.978563",
     "exception": false,
     "start_time": "2022-03-17T03:42:40.132040",
     "status": "completed"
    },
    "tags": []
   },
   "outputs": [
    {
     "name": "stderr",
     "output_type": "stream",
     "text": [
      "FixedFormatter should only be used together with FixedLocator\n"
     ]
    },
    {
     "name": "stderr",
     "output_type": "stream",
     "text": [
      "FixedFormatter should only be used together with FixedLocator\n"
     ]
    },
    {
     "name": "stderr",
     "output_type": "stream",
     "text": [
      "FixedFormatter should only be used together with FixedLocator\n",
      "Locator attempting to generate 5205 ticks ([-2602000000000.0, ..., 2602000000000.0]), which exceeds Locator.MAXTICKS (1000).\n"
     ]
    },
    {
     "name": "stdout",
     "output_type": "stream",
     "text": [
      "9936\n"
     ]
    },
    {
     "name": "stderr",
     "output_type": "stream",
     "text": [
      "Locator attempting to generate 5205 ticks ([-2602000000000.0, ..., 2602000000000.0]), which exceeds Locator.MAXTICKS (1000).\n"
     ]
    },
    {
     "name": "stderr",
     "output_type": "stream",
     "text": [
      "Locator attempting to generate 2335 ticks ([-1167000000000.0, ..., 1167000000000.0]), which exceeds Locator.MAXTICKS (1000).\n"
     ]
    },
    {
     "name": "stderr",
     "output_type": "stream",
     "text": [
      "Locator attempting to generate 2335 ticks ([-1167000000000.0, ..., 1167000000000.0]), which exceeds Locator.MAXTICKS (1000).\n"
     ]
    },
    {
     "name": "stderr",
     "output_type": "stream",
     "text": [
      "Locator attempting to generate 1351 ticks ([-675000000000.0, ..., 675000000000.0]), which exceeds Locator.MAXTICKS (1000).\n"
     ]
    },
    {
     "name": "stderr",
     "output_type": "stream",
     "text": [
      "Locator attempting to generate 1351 ticks ([-675000000000.0, ..., 675000000000.0]), which exceeds Locator.MAXTICKS (1000).\n"
     ]
    },
    {
     "name": "stderr",
     "output_type": "stream",
     "text": [
      "Locator attempting to generate 5205 ticks ([-2602000000000.0, ..., 2602000000000.0]), which exceeds Locator.MAXTICKS (1000).\n"
     ]
    },
    {
     "name": "stderr",
     "output_type": "stream",
     "text": [
      "Locator attempting to generate 5205 ticks ([-2602000000000.0, ..., 2602000000000.0]), which exceeds Locator.MAXTICKS (1000).\n"
     ]
    },
    {
     "name": "stderr",
     "output_type": "stream",
     "text": [
      "Locator attempting to generate 2335 ticks ([-1167000000000.0, ..., 1167000000000.0]), which exceeds Locator.MAXTICKS (1000).\n"
     ]
    },
    {
     "name": "stderr",
     "output_type": "stream",
     "text": [
      "Locator attempting to generate 2335 ticks ([-1167000000000.0, ..., 1167000000000.0]), which exceeds Locator.MAXTICKS (1000).\n"
     ]
    },
    {
     "name": "stderr",
     "output_type": "stream",
     "text": [
      "Locator attempting to generate 1351 ticks ([-675000000000.0, ..., 675000000000.0]), which exceeds Locator.MAXTICKS (1000).\n"
     ]
    },
    {
     "name": "stderr",
     "output_type": "stream",
     "text": [
      "Locator attempting to generate 1351 ticks ([-675000000000.0, ..., 675000000000.0]), which exceeds Locator.MAXTICKS (1000).\n"
     ]
    },
    {
     "name": "stderr",
     "output_type": "stream",
     "text": [
      "Locator attempting to generate 5205 ticks ([-2602000000000.0, ..., 2602000000000.0]), which exceeds Locator.MAXTICKS (1000).\n"
     ]
    },
    {
     "name": "stderr",
     "output_type": "stream",
     "text": [
      "Locator attempting to generate 5205 ticks ([-2602000000000.0, ..., 2602000000000.0]), which exceeds Locator.MAXTICKS (1000).\n"
     ]
    },
    {
     "name": "stderr",
     "output_type": "stream",
     "text": [
      "Locator attempting to generate 2335 ticks ([-1167000000000.0, ..., 1167000000000.0]), which exceeds Locator.MAXTICKS (1000).\n"
     ]
    },
    {
     "name": "stderr",
     "output_type": "stream",
     "text": [
      "Locator attempting to generate 2335 ticks ([-1167000000000.0, ..., 1167000000000.0]), which exceeds Locator.MAXTICKS (1000).\n"
     ]
    },
    {
     "name": "stderr",
     "output_type": "stream",
     "text": [
      "Locator attempting to generate 1351 ticks ([-675000000000.0, ..., 675000000000.0]), which exceeds Locator.MAXTICKS (1000).\n"
     ]
    },
    {
     "name": "stderr",
     "output_type": "stream",
     "text": [
      "Locator attempting to generate 1351 ticks ([-675000000000.0, ..., 675000000000.0]), which exceeds Locator.MAXTICKS (1000).\n"
     ]
    },
    {
     "name": "stderr",
     "output_type": "stream",
     "text": [
      "Locator attempting to generate 5205 ticks ([-2602000000000.0, ..., 2602000000000.0]), which exceeds Locator.MAXTICKS (1000).\n"
     ]
    },
    {
     "name": "stderr",
     "output_type": "stream",
     "text": [
      "Locator attempting to generate 5205 ticks ([-2602000000000.0, ..., 2602000000000.0]), which exceeds Locator.MAXTICKS (1000).\n"
     ]
    },
    {
     "name": "stderr",
     "output_type": "stream",
     "text": [
      "Locator attempting to generate 2335 ticks ([-1167000000000.0, ..., 1167000000000.0]), which exceeds Locator.MAXTICKS (1000).\n"
     ]
    },
    {
     "name": "stderr",
     "output_type": "stream",
     "text": [
      "Locator attempting to generate 2335 ticks ([-1167000000000.0, ..., 1167000000000.0]), which exceeds Locator.MAXTICKS (1000).\n"
     ]
    },
    {
     "name": "stderr",
     "output_type": "stream",
     "text": [
      "Locator attempting to generate 1351 ticks ([-675000000000.0, ..., 675000000000.0]), which exceeds Locator.MAXTICKS (1000).\n"
     ]
    },
    {
     "name": "stderr",
     "output_type": "stream",
     "text": [
      "Locator attempting to generate 1351 ticks ([-675000000000.0, ..., 675000000000.0]), which exceeds Locator.MAXTICKS (1000).\n"
     ]
    },
    {
     "name": "stderr",
     "output_type": "stream",
     "text": [
      "Locator attempting to generate 5205 ticks ([-2602000000000.0, ..., 2602000000000.0]), which exceeds Locator.MAXTICKS (1000).\n"
     ]
    },
    {
     "name": "stderr",
     "output_type": "stream",
     "text": [
      "Locator attempting to generate 5205 ticks ([-2602000000000.0, ..., 2602000000000.0]), which exceeds Locator.MAXTICKS (1000).\n"
     ]
    },
    {
     "name": "stderr",
     "output_type": "stream",
     "text": [
      "Locator attempting to generate 2335 ticks ([-1167000000000.0, ..., 1167000000000.0]), which exceeds Locator.MAXTICKS (1000).\n"
     ]
    },
    {
     "name": "stderr",
     "output_type": "stream",
     "text": [
      "Locator attempting to generate 2335 ticks ([-1167000000000.0, ..., 1167000000000.0]), which exceeds Locator.MAXTICKS (1000).\n"
     ]
    },
    {
     "name": "stderr",
     "output_type": "stream",
     "text": [
      "Locator attempting to generate 1351 ticks ([-675000000000.0, ..., 675000000000.0]), which exceeds Locator.MAXTICKS (1000).\n"
     ]
    },
    {
     "name": "stderr",
     "output_type": "stream",
     "text": [
      "Locator attempting to generate 1351 ticks ([-675000000000.0, ..., 675000000000.0]), which exceeds Locator.MAXTICKS (1000).\n"
     ]
    },
    {
     "name": "stderr",
     "output_type": "stream",
     "text": [
      "Locator attempting to generate 5205 ticks ([-2602000000000.0, ..., 2602000000000.0]), which exceeds Locator.MAXTICKS (1000).\n"
     ]
    },
    {
     "name": "stderr",
     "output_type": "stream",
     "text": [
      "Locator attempting to generate 5205 ticks ([-2602000000000.0, ..., 2602000000000.0]), which exceeds Locator.MAXTICKS (1000).\n"
     ]
    },
    {
     "name": "stderr",
     "output_type": "stream",
     "text": [
      "Locator attempting to generate 2335 ticks ([-1167000000000.0, ..., 1167000000000.0]), which exceeds Locator.MAXTICKS (1000).\n"
     ]
    },
    {
     "name": "stderr",
     "output_type": "stream",
     "text": [
      "Locator attempting to generate 2335 ticks ([-1167000000000.0, ..., 1167000000000.0]), which exceeds Locator.MAXTICKS (1000).\n"
     ]
    },
    {
     "name": "stderr",
     "output_type": "stream",
     "text": [
      "Locator attempting to generate 1351 ticks ([-675000000000.0, ..., 675000000000.0]), which exceeds Locator.MAXTICKS (1000).\n"
     ]
    },
    {
     "name": "stderr",
     "output_type": "stream",
     "text": [
      "Locator attempting to generate 1351 ticks ([-675000000000.0, ..., 675000000000.0]), which exceeds Locator.MAXTICKS (1000).\n"
     ]
    },
    {
     "data": {
      "image/png": "[encoded data removed]",
      "text/plain": [
       "<Figure size 1440x432 with 3 Axes>"
      ]
     },
     "metadata": {
      "needs_background": "light"
     },
     "output_type": "display_data"
    }
   ],
   "source": [
    "# used in paper\n",
    "# A larger window (500-1500), with normalization\n",
    "uvp_plot = uvp_PC_cov_n\n",
    "num_time_samples_list = [1,5,15]\n",
    "ylim = (5*1e-13,1e-9)\n",
    "dlys = uvp_plot.get_dlys(0) * 1e9\n",
    "delay_args = np.append(np.argwhere((dlys< -500)*(dlys>-1500)), np.argwhere((dlys< 1500)*(dlys>500)))\n",
    "suptitle = \"Inpainted+cable reflection removed, \" + r\"$500\\,{\\rm ns}<|\\tau|<1500\\,{\\rm ns}$\"\n",
    "\n",
    "fig, axes = plt.subplots(figsize=(20,6), ncols=3, nrows=1)\n",
    "for ax_idx, num_time_samples in enumerate(num_time_samples_list):\n",
    "    col_idx = ax_idx%3\n",
    "    times = np.arange(num_time_samples)\n",
    "   \n",
    "    # Get all keys\n",
    "    keys = uvp_plot.get_all_keys()\n",
    "    blpt_weights = np.array([[1. for item in times] for key in keys])\n",
    "    ps_real_time_avg = []\n",
    "    for dly in delay_args:\n",
    "        ps = np.array([[uvp_plot.get_data(key)[time, dly]*uvp_plot.get_stats(\"autos_diag\", keys[0])[time,0].real\\\n",
    "                        /uvp_plot.get_stats(\"autos_diag\", key)[time, dly].real for time in times] for key in keys])\n",
    "        ps_real_time_avg.extend((np.sum(ps.real*blpt_weights, axis=1)/np.sum(blpt_weights, axis=1).clip(1e-10, np.inf)).flatten())\n",
    "    ps_real_time_avg = np.array(ps_real_time_avg) - np.mean(ps_real_time_avg)\n",
    "    # The ratio of error bars to the original one\n",
    "    psunits = uvp_plot.units\n",
    "    if \"h^-1\" in psunits: psunits = psunits.replace(\"h^-1\", \"h^{-1}\")\n",
    "    if \"h^-3\" in psunits: psunits = psunits.replace(\"h^-3\", \"h^{-3}\")\n",
    "    if \"Mpc\" in psunits and \"\\\\rm\" not in psunits: \n",
    "        psunits = psunits.replace(\"Mpc\", r\"{\\rm Mpc}\")\n",
    "    if \"pi\" in psunits and \"\\\\pi\" not in psunits: \n",
    "        psunits = psunits.replace(\"pi\", r\"\\pi\")\n",
    "    \n",
    "    ax = axes[col_idx]\n",
    "    Lap_sigma_list = np.zeros(num_time_samples)\n",
    "    for time in times:\n",
    "        Lap_sigma_list[time] = uvp_plot.get_stats(\"autos_diag\", keys[0])[time, 0].real \n",
    "    Gauss_sigma = np.sqrt(np.sum(Lap_sigma_list**2))/num_time_samples\n",
    "    vlim = 6*Gauss_sigma\n",
    "    n_in_bins, bins_edge, _ = ax.hist(ps_real_time_avg, log=True, density=True, bins=61, range=(-vlim, vlim), alpha=0.75,\n",
    "                           color='pink')\n",
    "    ax.set_xlim(-vlim, vlim)\n",
    "    ax.set_ylim(*ylim)\n",
    "    \n",
    "    px = np.linspace(-vlim, vlim, 100)\n",
    "    Lap_curve = np.zeros_like(px)\n",
    "    normalized_factor = 0\n",
    "    for time in times:\n",
    "        scale_factor = 1\n",
    "        for time_ in times:\n",
    "            if time_ != time:\n",
    "                scale_factor *= Lap_sigma_list[time]**2/(Lap_sigma_list[time]**2-Lap_sigma_list[time_]**2)\n",
    "        normalized_factor += scale_factor   \n",
    "        Lap_curve += np.exp(-np.sqrt(2)*np.abs(px)/Lap_sigma_list[time]*num_time_samples)/np.sqrt(2)/Lap_sigma_list[time]*num_time_samples*scale_factor\n",
    "    \n",
    "    # Calculate the equivalent Gaussian pdf\n",
    "    Gauss_curve = np.exp(-px**2/2/Gauss_sigma**2)/np.sqrt(2*np.pi*Gauss_sigma**2)\n",
    "    \n",
    "    if np.isclose(normalized_factor,1,rtol=5e-1):\n",
    "        ax.plot(px, Lap_curve, ls='-', lw=2, label=\"sum of Laplacian\", c='cyan')\n",
    "    ax.plot(px, Gauss_curve, ls='--', lw=2, label='Gaussian', c='slategrey')\n",
    "    \n",
    "    # confidence interval\n",
    "    ax.axvline(x=3*Gauss_sigma, c='k', lw=1, ls=':')\n",
    "    ax.axvline(x=-3*Gauss_sigma, c='k', lw=1, ls=':')\n",
    "    ax.axvline(x=5*Gauss_sigma, c='navy', lw=1, ls=':')\n",
    "    ax.axvline(x=-5*Gauss_sigma, c='navy', lw=1, ls=':')\n",
    "    if ax_idx == 0:\n",
    "        ax.text(2.2*Gauss_sigma, 9*1e-12, r'$3 \\sigma$', ha=\"center\", va=\"center\", rotation=0,\n",
    "            fontsize=14,\n",
    "            bbox=dict(boxstyle=\"rarrow\", fc=\"green\", alpha=0.5))\n",
    "        ax.text(4.2*Gauss_sigma, 1e-10, r'$5 \\sigma$', ha=\"center\", va=\"center\", rotation=0,\n",
    "            fontsize=14,\n",
    "            bbox=dict(boxstyle=\"rarrow\", fc=\"green\", alpha=0.5))\n",
    "        ax.text(-2.2*Gauss_sigma, 9*1e-12, r'$3 \\sigma$', ha=\"center\", va=\"center\", rotation=0,\n",
    "            fontsize=14,\n",
    "            bbox=dict(boxstyle=\"larrow\", fc=\"green\", alpha=0.5))\n",
    "        ax.text(-4.2*Gauss_sigma, 1e-10, r'$5 \\sigma$', ha=\"center\", va=\"center\", rotation=0,\n",
    "            fontsize=14,\n",
    "            bbox=dict(boxstyle=\"larrow\", fc=\"green\", alpha=0.5))\n",
    "    \n",
    "    ax.tick_params(which='both', labelsize=16, length=3, width=0.5)\n",
    "    ax.xaxis.set_minor_locator(ticker.MultipleLocator(1e9))\n",
    "    xticks = ax.get_xticks()\n",
    "    ax.set_xticklabels(xticks/1e10)\n",
    "    ax.set_xlabel(\"$P(k_\\parallel)$ $[\\\\times 10^{10}\\,%s]$\" % psunits, fontsize=16)\n",
    "    if col_idx == 0: \n",
    "        ax.set_ylabel(\"pdf\", fontsize=16)\n",
    "    if ax_idx == 0:\n",
    "        ax.legend(loc='lower right', fontsize=14)\n",
    "    ax.set_title(\"Average over \\n{} timestamp(s)\".format(num_time_samples),bbox=dict(fc='wheat', alpha=0.5), fontsize=16, pad=15)\n",
    "fig.subplots_adjust(top=0.8)\n",
    "fig.suptitle(suptitle, fontsize=20, bbox=dict(fc='gold', alpha=0.5), x=0.5, y=0.99)\n",
    "print(len(uvp_plot.get_all_keys())*len(delay_args))"
   ]
  },
  {
   "cell_type": "markdown",
   "id": "770ef63e",
   "metadata": {
    "papermill": {
     "duration": 0.111855,
     "end_time": "2022-03-17T03:45:03.206738",
     "exception": false,
     "start_time": "2022-03-17T03:45:03.094883",
     "status": "completed"
    },
    "tags": []
   },
   "source": [
    "#### inpainted + xtalk + reflection"
   ]
  },
  {
   "cell_type": "code",
   "execution_count": 104,
   "id": "bca97b29",
   "metadata": {
    "execution": {
     "iopub.execute_input": "2022-03-17T03:45:03.461724Z",
     "iopub.status.busy": "2022-03-17T03:45:03.461248Z",
     "iopub.status.idle": "2022-03-17T03:51:01.045652Z",
     "shell.execute_reply": "2022-03-17T03:51:01.046253Z"
    },
    "papermill": {
     "duration": 357.72157,
     "end_time": "2022-03-17T03:51:01.046390",
     "exception": false,
     "start_time": "2022-03-17T03:45:03.324820",
     "status": "completed"
    },
    "tags": []
   },
   "outputs": [
    {
     "name": "stderr",
     "output_type": "stream",
     "text": [
      "FixedFormatter should only be used together with FixedLocator\n"
     ]
    },
    {
     "name": "stderr",
     "output_type": "stream",
     "text": [
      "FixedFormatter should only be used together with FixedLocator\n"
     ]
    },
    {
     "name": "stderr",
     "output_type": "stream",
     "text": [
      "FixedFormatter should only be used together with FixedLocator\n",
      "Locator attempting to generate 5205 ticks ([-2602000000000.0, ..., 2602000000000.0]), which exceeds Locator.MAXTICKS (1000).\n"
     ]
    },
    {
     "name": "stdout",
     "output_type": "stream",
     "text": [
      "30084\n"
     ]
    },
    {
     "name": "stderr",
     "output_type": "stream",
     "text": [
      "Locator attempting to generate 5205 ticks ([-2602000000000.0, ..., 2602000000000.0]), which exceeds Locator.MAXTICKS (1000).\n"
     ]
    },
    {
     "name": "stderr",
     "output_type": "stream",
     "text": [
      "Locator attempting to generate 2335 ticks ([-1167000000000.0, ..., 1167000000000.0]), which exceeds Locator.MAXTICKS (1000).\n"
     ]
    },
    {
     "name": "stderr",
     "output_type": "stream",
     "text": [
      "Locator attempting to generate 2335 ticks ([-1167000000000.0, ..., 1167000000000.0]), which exceeds Locator.MAXTICKS (1000).\n"
     ]
    },
    {
     "name": "stderr",
     "output_type": "stream",
     "text": [
      "Locator attempting to generate 1351 ticks ([-675000000000.0, ..., 675000000000.0]), which exceeds Locator.MAXTICKS (1000).\n"
     ]
    },
    {
     "name": "stderr",
     "output_type": "stream",
     "text": [
      "Locator attempting to generate 1351 ticks ([-675000000000.0, ..., 675000000000.0]), which exceeds Locator.MAXTICKS (1000).\n"
     ]
    },
    {
     "name": "stderr",
     "output_type": "stream",
     "text": [
      "Locator attempting to generate 5205 ticks ([-2602000000000.0, ..., 2602000000000.0]), which exceeds Locator.MAXTICKS (1000).\n"
     ]
    },
    {
     "name": "stderr",
     "output_type": "stream",
     "text": [
      "Locator attempting to generate 5205 ticks ([-2602000000000.0, ..., 2602000000000.0]), which exceeds Locator.MAXTICKS (1000).\n"
     ]
    },
    {
     "name": "stderr",
     "output_type": "stream",
     "text": [
      "Locator attempting to generate 2335 ticks ([-1167000000000.0, ..., 1167000000000.0]), which exceeds Locator.MAXTICKS (1000).\n"
     ]
    },
    {
     "name": "stderr",
     "output_type": "stream",
     "text": [
      "Locator attempting to generate 2335 ticks ([-1167000000000.0, ..., 1167000000000.0]), which exceeds Locator.MAXTICKS (1000).\n"
     ]
    },
    {
     "name": "stderr",
     "output_type": "stream",
     "text": [
      "Locator attempting to generate 1351 ticks ([-675000000000.0, ..., 675000000000.0]), which exceeds Locator.MAXTICKS (1000).\n"
     ]
    },
    {
     "name": "stderr",
     "output_type": "stream",
     "text": [
      "Locator attempting to generate 1351 ticks ([-675000000000.0, ..., 675000000000.0]), which exceeds Locator.MAXTICKS (1000).\n"
     ]
    },
    {
     "name": "stderr",
     "output_type": "stream",
     "text": [
      "Locator attempting to generate 5205 ticks ([-2602000000000.0, ..., 2602000000000.0]), which exceeds Locator.MAXTICKS (1000).\n"
     ]
    },
    {
     "name": "stderr",
     "output_type": "stream",
     "text": [
      "Locator attempting to generate 5205 ticks ([-2602000000000.0, ..., 2602000000000.0]), which exceeds Locator.MAXTICKS (1000).\n"
     ]
    },
    {
     "name": "stderr",
     "output_type": "stream",
     "text": [
      "Locator attempting to generate 2335 ticks ([-1167000000000.0, ..., 1167000000000.0]), which exceeds Locator.MAXTICKS (1000).\n"
     ]
    },
    {
     "name": "stderr",
     "output_type": "stream",
     "text": [
      "Locator attempting to generate 2335 ticks ([-1167000000000.0, ..., 1167000000000.0]), which exceeds Locator.MAXTICKS (1000).\n"
     ]
    },
    {
     "name": "stderr",
     "output_type": "stream",
     "text": [
      "Locator attempting to generate 1351 ticks ([-675000000000.0, ..., 675000000000.0]), which exceeds Locator.MAXTICKS (1000).\n"
     ]
    },
    {
     "name": "stderr",
     "output_type": "stream",
     "text": [
      "Locator attempting to generate 1351 ticks ([-675000000000.0, ..., 675000000000.0]), which exceeds Locator.MAXTICKS (1000).\n"
     ]
    },
    {
     "name": "stderr",
     "output_type": "stream",
     "text": [
      "Locator attempting to generate 5205 ticks ([-2602000000000.0, ..., 2602000000000.0]), which exceeds Locator.MAXTICKS (1000).\n"
     ]
    },
    {
     "name": "stderr",
     "output_type": "stream",
     "text": [
      "Locator attempting to generate 5205 ticks ([-2602000000000.0, ..., 2602000000000.0]), which exceeds Locator.MAXTICKS (1000).\n"
     ]
    },
    {
     "name": "stderr",
     "output_type": "stream",
     "text": [
      "Locator attempting to generate 2335 ticks ([-1167000000000.0, ..., 1167000000000.0]), which exceeds Locator.MAXTICKS (1000).\n"
     ]
    },
    {
     "name": "stderr",
     "output_type": "stream",
     "text": [
      "Locator attempting to generate 2335 ticks ([-1167000000000.0, ..., 1167000000000.0]), which exceeds Locator.MAXTICKS (1000).\n"
     ]
    },
    {
     "name": "stderr",
     "output_type": "stream",
     "text": [
      "Locator attempting to generate 1351 ticks ([-675000000000.0, ..., 675000000000.0]), which exceeds Locator.MAXTICKS (1000).\n"
     ]
    },
    {
     "name": "stderr",
     "output_type": "stream",
     "text": [
      "Locator attempting to generate 1351 ticks ([-675000000000.0, ..., 675000000000.0]), which exceeds Locator.MAXTICKS (1000).\n"
     ]
    },
    {
     "name": "stderr",
     "output_type": "stream",
     "text": [
      "Locator attempting to generate 5205 ticks ([-2602000000000.0, ..., 2602000000000.0]), which exceeds Locator.MAXTICKS (1000).\n"
     ]
    },
    {
     "name": "stderr",
     "output_type": "stream",
     "text": [
      "Locator attempting to generate 5205 ticks ([-2602000000000.0, ..., 2602000000000.0]), which exceeds Locator.MAXTICKS (1000).\n"
     ]
    },
    {
     "name": "stderr",
     "output_type": "stream",
     "text": [
      "Locator attempting to generate 2335 ticks ([-1167000000000.0, ..., 1167000000000.0]), which exceeds Locator.MAXTICKS (1000).\n"
     ]
    },
    {
     "name": "stderr",
     "output_type": "stream",
     "text": [
      "Locator attempting to generate 2335 ticks ([-1167000000000.0, ..., 1167000000000.0]), which exceeds Locator.MAXTICKS (1000).\n"
     ]
    },
    {
     "name": "stderr",
     "output_type": "stream",
     "text": [
      "Locator attempting to generate 1351 ticks ([-675000000000.0, ..., 675000000000.0]), which exceeds Locator.MAXTICKS (1000).\n"
     ]
    },
    {
     "name": "stderr",
     "output_type": "stream",
     "text": [
      "Locator attempting to generate 1351 ticks ([-675000000000.0, ..., 675000000000.0]), which exceeds Locator.MAXTICKS (1000).\n"
     ]
    },
    {
     "name": "stderr",
     "output_type": "stream",
     "text": [
      "Locator attempting to generate 5205 ticks ([-2602000000000.0, ..., 2602000000000.0]), which exceeds Locator.MAXTICKS (1000).\n"
     ]
    },
    {
     "name": "stderr",
     "output_type": "stream",
     "text": [
      "Locator attempting to generate 5205 ticks ([-2602000000000.0, ..., 2602000000000.0]), which exceeds Locator.MAXTICKS (1000).\n"
     ]
    },
    {
     "name": "stderr",
     "output_type": "stream",
     "text": [
      "Locator attempting to generate 2335 ticks ([-1167000000000.0, ..., 1167000000000.0]), which exceeds Locator.MAXTICKS (1000).\n"
     ]
    },
    {
     "name": "stderr",
     "output_type": "stream",
     "text": [
      "Locator attempting to generate 2335 ticks ([-1167000000000.0, ..., 1167000000000.0]), which exceeds Locator.MAXTICKS (1000).\n"
     ]
    },
    {
     "name": "stderr",
     "output_type": "stream",
     "text": [
      "Locator attempting to generate 1351 ticks ([-675000000000.0, ..., 675000000000.0]), which exceeds Locator.MAXTICKS (1000).\n"
     ]
    },
    {
     "name": "stderr",
     "output_type": "stream",
     "text": [
      "Locator attempting to generate 1351 ticks ([-675000000000.0, ..., 675000000000.0]), which exceeds Locator.MAXTICKS (1000).\n"
     ]
    },
    {
     "data": {
      "image/png": "[encoded data removed]",
      "text/plain": [
       "<Figure size 1440x432 with 3 Axes>"
      ]
     },
     "metadata": {
      "needs_background": "light"
     },
     "output_type": "display_data"
    }
   ],
   "source": [
    "# used in paper\n",
    "# A larger window (2000), with normalization\n",
    "uvp_plot = uvp_PXC_cov_n\n",
    "num_time_samples_list = [1,5,15]\n",
    "ylim = (5*1e-13,1e-9)\n",
    "dlys = uvp_plot.get_dlys(0) * 1e9\n",
    "delay_args = np.append(np.argwhere(dlys< -2000), np.argwhere(dlys> 2000))\n",
    "suptitle = \"Inpainted+xtalk removed+cable reflection removed, \"+r\"$|\\tau|>2000 {\\rm ns}$\"\n",
    "\n",
    "fig, axes = plt.subplots(figsize=(20,6), ncols=3, nrows=1)\n",
    "for ax_idx, num_time_samples in enumerate(num_time_samples_list):\n",
    "    col_idx = ax_idx%3\n",
    "    times = np.arange(num_time_samples)\n",
    "   \n",
    "    # Get all keys\n",
    "    keys = uvp_plot.get_all_keys()\n",
    "    blpt_weights = np.array([[1. for item in times] for key in keys])\n",
    "    ps_real_time_avg = []\n",
    "    for dly in delay_args:\n",
    "        ps = np.array([[uvp_plot.get_data(key)[time, dly]*uvp_plot.get_stats(\"autos_diag\", keys[0])[time,0].real\\\n",
    "                        /uvp_plot.get_stats(\"autos_diag\", key)[time, dly].real for time in times] for key in keys])\n",
    "        ps_real_time_avg.extend((np.sum(ps.real*blpt_weights, axis=1)/np.sum(blpt_weights, axis=1).clip(1e-10, np.inf)).flatten())\n",
    "    ps_real_time_avg = np.array(ps_real_time_avg) - np.mean(ps_real_time_avg)\n",
    "    # The ratio of error bars to the original one\n",
    "    psunits = uvp_plot.units\n",
    "    if \"h^-1\" in psunits: psunits = psunits.replace(\"h^-1\", \"h^{-1}\")\n",
    "    if \"h^-3\" in psunits: psunits = psunits.replace(\"h^-3\", \"h^{-3}\")\n",
    "    if \"Mpc\" in psunits and \"\\\\rm\" not in psunits: \n",
    "        psunits = psunits.replace(\"Mpc\", r\"{\\rm Mpc}\")\n",
    "    if \"pi\" in psunits and \"\\\\pi\" not in psunits: \n",
    "        psunits = psunits.replace(\"pi\", r\"\\pi\")\n",
    "    \n",
    "    ax = axes[col_idx]\n",
    "    Lap_sigma_list = np.zeros(num_time_samples)\n",
    "    for time in times:\n",
    "        Lap_sigma_list[time] = uvp_plot.get_stats(\"autos_diag\", keys[0])[time, 0].real \n",
    "    Gauss_sigma = np.sqrt(np.sum(Lap_sigma_list**2))/num_time_samples\n",
    "    vlim = 6*Gauss_sigma\n",
    "    n_in_bins, bins_edge, _ = ax.hist(ps_real_time_avg, log=True, density=True, bins=61, range=(-vlim, vlim), alpha=0.75,\n",
    "                           color='pink')\n",
    "    ax.set_xlim(-vlim, vlim)\n",
    "    ax.set_ylim(*ylim)\n",
    "    \n",
    "    px = np.linspace(-vlim, vlim, 100)\n",
    "    Lap_curve = np.zeros_like(px)\n",
    "    normalized_factor = 0\n",
    "    for time in times:\n",
    "        scale_factor = 1\n",
    "        for time_ in times:\n",
    "            if time_ != time:\n",
    "                scale_factor *= Lap_sigma_list[time]**2/(Lap_sigma_list[time]**2-Lap_sigma_list[time_]**2)\n",
    "        normalized_factor += scale_factor   \n",
    "        Lap_curve += np.exp(-np.sqrt(2)*np.abs(px)/Lap_sigma_list[time]*num_time_samples)/np.sqrt(2)/Lap_sigma_list[time]*num_time_samples*scale_factor\n",
    "    \n",
    "    # Calculate the equivalent Gaussian pdf\n",
    "    Gauss_curve = np.exp(-px**2/2/Gauss_sigma**2)/np.sqrt(2*np.pi*Gauss_sigma**2)\n",
    "    \n",
    "    if np.isclose(normalized_factor,1,rtol=5e-1):\n",
    "        ax.plot(px, Lap_curve, ls='-', lw=2, label=\"sum of Laplacian\", c='cyan')\n",
    "    ax.plot(px, Gauss_curve, ls='--', lw=2, label='Gaussian', c='slategrey')\n",
    "    \n",
    "    # confidence interval\n",
    "    ax.axvline(x=3*Gauss_sigma, c='k', lw=1, ls=':')\n",
    "    ax.axvline(x=-3*Gauss_sigma, c='k', lw=1, ls=':')\n",
    "    ax.axvline(x=5*Gauss_sigma, c='navy', lw=1, ls=':')\n",
    "    ax.axvline(x=-5*Gauss_sigma, c='navy', lw=1, ls=':')\n",
    "    if ax_idx == 0:\n",
    "        ax.text(2.2*Gauss_sigma, 9*1e-12, r'$3 \\sigma$', ha=\"center\", va=\"center\", rotation=0,\n",
    "            fontsize=14,\n",
    "            bbox=dict(boxstyle=\"rarrow\", fc=\"green\", alpha=0.5))\n",
    "        ax.text(4.2*Gauss_sigma, 1e-10, r'$5 \\sigma$', ha=\"center\", va=\"center\", rotation=0,\n",
    "            fontsize=14,\n",
    "            bbox=dict(boxstyle=\"rarrow\", fc=\"green\", alpha=0.5))\n",
    "        ax.text(-2.2*Gauss_sigma, 9*1e-12, r'$3 \\sigma$', ha=\"center\", va=\"center\", rotation=0,\n",
    "            fontsize=14,\n",
    "            bbox=dict(boxstyle=\"larrow\", fc=\"green\", alpha=0.5))\n",
    "        ax.text(-4.2*Gauss_sigma, 1e-10, r'$5 \\sigma$', ha=\"center\", va=\"center\", rotation=0,\n",
    "            fontsize=14,\n",
    "            bbox=dict(boxstyle=\"larrow\", fc=\"green\", alpha=0.5))\n",
    "    \n",
    "    ax.tick_params(which='both', labelsize=16, length=3, width=0.5)\n",
    "    ax.xaxis.set_minor_locator(ticker.MultipleLocator(1e9))\n",
    "    xticks = ax.get_xticks()\n",
    "    ax.set_xticklabels(xticks/1e10)\n",
    "    ax.set_xlabel(\"$P(k_\\parallel)$ $[\\\\times 10^{10}\\,%s]$\" % psunits, fontsize=16)\n",
    "    if col_idx == 0: \n",
    "        ax.set_ylabel(\"pdf\", fontsize=16)\n",
    "    if ax_idx == 0:\n",
    "        ax.legend(loc='lower right', fontsize=14)\n",
    "    ax.set_title(\"Average over \\n{} timestamp(s)\".format(num_time_samples),bbox=dict(fc='wheat', alpha=0.5), fontsize=16, pad=15)\n",
    "fig.subplots_adjust(top=0.8)\n",
    "fig.suptitle(suptitle, fontsize=20, bbox=dict(fc='gold', alpha=0.5), x=0.5, y=0.99)\n",
    "print(len(uvp_plot.get_all_keys())*len(delay_args))"
   ]
  },
  {
   "cell_type": "code",
   "execution_count": 105,
   "id": "9dc1a6cb",
   "metadata": {
    "execution": {
     "iopub.execute_input": "2022-03-17T03:51:01.313722Z",
     "iopub.status.busy": "2022-03-17T03:51:01.313254Z",
     "iopub.status.idle": "2022-03-17T03:53:24.103800Z",
     "shell.execute_reply": "2022-03-17T03:53:24.105041Z"
    },
    "papermill": {
     "duration": 142.93683,
     "end_time": "2022-03-17T03:53:24.105291",
     "exception": false,
     "start_time": "2022-03-17T03:51:01.168461",
     "status": "completed"
    },
    "tags": []
   },
   "outputs": [
    {
     "name": "stderr",
     "output_type": "stream",
     "text": [
      "FixedFormatter should only be used together with FixedLocator\n"
     ]
    },
    {
     "name": "stderr",
     "output_type": "stream",
     "text": [
      "FixedFormatter should only be used together with FixedLocator\n"
     ]
    },
    {
     "name": "stderr",
     "output_type": "stream",
     "text": [
      "FixedFormatter should only be used together with FixedLocator\n",
      "Locator attempting to generate 5205 ticks ([-2602000000000.0, ..., 2602000000000.0]), which exceeds Locator.MAXTICKS (1000).\n"
     ]
    },
    {
     "name": "stdout",
     "output_type": "stream",
     "text": [
      "9936\n"
     ]
    },
    {
     "name": "stderr",
     "output_type": "stream",
     "text": [
      "Locator attempting to generate 5205 ticks ([-2602000000000.0, ..., 2602000000000.0]), which exceeds Locator.MAXTICKS (1000).\n"
     ]
    },
    {
     "name": "stderr",
     "output_type": "stream",
     "text": [
      "Locator attempting to generate 2335 ticks ([-1167000000000.0, ..., 1167000000000.0]), which exceeds Locator.MAXTICKS (1000).\n"
     ]
    },
    {
     "name": "stderr",
     "output_type": "stream",
     "text": [
      "Locator attempting to generate 2335 ticks ([-1167000000000.0, ..., 1167000000000.0]), which exceeds Locator.MAXTICKS (1000).\n"
     ]
    },
    {
     "name": "stderr",
     "output_type": "stream",
     "text": [
      "Locator attempting to generate 1351 ticks ([-675000000000.0, ..., 675000000000.0]), which exceeds Locator.MAXTICKS (1000).\n"
     ]
    },
    {
     "name": "stderr",
     "output_type": "stream",
     "text": [
      "Locator attempting to generate 1351 ticks ([-675000000000.0, ..., 675000000000.0]), which exceeds Locator.MAXTICKS (1000).\n"
     ]
    },
    {
     "name": "stderr",
     "output_type": "stream",
     "text": [
      "Locator attempting to generate 5205 ticks ([-2602000000000.0, ..., 2602000000000.0]), which exceeds Locator.MAXTICKS (1000).\n"
     ]
    },
    {
     "name": "stderr",
     "output_type": "stream",
     "text": [
      "Locator attempting to generate 5205 ticks ([-2602000000000.0, ..., 2602000000000.0]), which exceeds Locator.MAXTICKS (1000).\n"
     ]
    },
    {
     "name": "stderr",
     "output_type": "stream",
     "text": [
      "Locator attempting to generate 2335 ticks ([-1167000000000.0, ..., 1167000000000.0]), which exceeds Locator.MAXTICKS (1000).\n"
     ]
    },
    {
     "name": "stderr",
     "output_type": "stream",
     "text": [
      "Locator attempting to generate 2335 ticks ([-1167000000000.0, ..., 1167000000000.0]), which exceeds Locator.MAXTICKS (1000).\n"
     ]
    },
    {
     "name": "stderr",
     "output_type": "stream",
     "text": [
      "Locator attempting to generate 1351 ticks ([-675000000000.0, ..., 675000000000.0]), which exceeds Locator.MAXTICKS (1000).\n"
     ]
    },
    {
     "name": "stderr",
     "output_type": "stream",
     "text": [
      "Locator attempting to generate 1351 ticks ([-675000000000.0, ..., 675000000000.0]), which exceeds Locator.MAXTICKS (1000).\n"
     ]
    },
    {
     "name": "stderr",
     "output_type": "stream",
     "text": [
      "Locator attempting to generate 5205 ticks ([-2602000000000.0, ..., 2602000000000.0]), which exceeds Locator.MAXTICKS (1000).\n"
     ]
    },
    {
     "name": "stderr",
     "output_type": "stream",
     "text": [
      "Locator attempting to generate 5205 ticks ([-2602000000000.0, ..., 2602000000000.0]), which exceeds Locator.MAXTICKS (1000).\n"
     ]
    },
    {
     "name": "stderr",
     "output_type": "stream",
     "text": [
      "Locator attempting to generate 2335 ticks ([-1167000000000.0, ..., 1167000000000.0]), which exceeds Locator.MAXTICKS (1000).\n"
     ]
    },
    {
     "name": "stderr",
     "output_type": "stream",
     "text": [
      "Locator attempting to generate 2335 ticks ([-1167000000000.0, ..., 1167000000000.0]), which exceeds Locator.MAXTICKS (1000).\n"
     ]
    },
    {
     "name": "stderr",
     "output_type": "stream",
     "text": [
      "Locator attempting to generate 1351 ticks ([-675000000000.0, ..., 675000000000.0]), which exceeds Locator.MAXTICKS (1000).\n"
     ]
    },
    {
     "name": "stderr",
     "output_type": "stream",
     "text": [
      "Locator attempting to generate 1351 ticks ([-675000000000.0, ..., 675000000000.0]), which exceeds Locator.MAXTICKS (1000).\n"
     ]
    },
    {
     "name": "stderr",
     "output_type": "stream",
     "text": [
      "Locator attempting to generate 5205 ticks ([-2602000000000.0, ..., 2602000000000.0]), which exceeds Locator.MAXTICKS (1000).\n"
     ]
    },
    {
     "name": "stderr",
     "output_type": "stream",
     "text": [
      "Locator attempting to generate 5205 ticks ([-2602000000000.0, ..., 2602000000000.0]), which exceeds Locator.MAXTICKS (1000).\n"
     ]
    },
    {
     "name": "stderr",
     "output_type": "stream",
     "text": [
      "Locator attempting to generate 2335 ticks ([-1167000000000.0, ..., 1167000000000.0]), which exceeds Locator.MAXTICKS (1000).\n"
     ]
    },
    {
     "name": "stderr",
     "output_type": "stream",
     "text": [
      "Locator attempting to generate 2335 ticks ([-1167000000000.0, ..., 1167000000000.0]), which exceeds Locator.MAXTICKS (1000).\n"
     ]
    },
    {
     "name": "stderr",
     "output_type": "stream",
     "text": [
      "Locator attempting to generate 1351 ticks ([-675000000000.0, ..., 675000000000.0]), which exceeds Locator.MAXTICKS (1000).\n"
     ]
    },
    {
     "name": "stderr",
     "output_type": "stream",
     "text": [
      "Locator attempting to generate 1351 ticks ([-675000000000.0, ..., 675000000000.0]), which exceeds Locator.MAXTICKS (1000).\n"
     ]
    },
    {
     "name": "stderr",
     "output_type": "stream",
     "text": [
      "Locator attempting to generate 5205 ticks ([-2602000000000.0, ..., 2602000000000.0]), which exceeds Locator.MAXTICKS (1000).\n"
     ]
    },
    {
     "name": "stderr",
     "output_type": "stream",
     "text": [
      "Locator attempting to generate 5205 ticks ([-2602000000000.0, ..., 2602000000000.0]), which exceeds Locator.MAXTICKS (1000).\n"
     ]
    },
    {
     "name": "stderr",
     "output_type": "stream",
     "text": [
      "Locator attempting to generate 2335 ticks ([-1167000000000.0, ..., 1167000000000.0]), which exceeds Locator.MAXTICKS (1000).\n"
     ]
    },
    {
     "name": "stderr",
     "output_type": "stream",
     "text": [
      "Locator attempting to generate 2335 ticks ([-1167000000000.0, ..., 1167000000000.0]), which exceeds Locator.MAXTICKS (1000).\n"
     ]
    },
    {
     "name": "stderr",
     "output_type": "stream",
     "text": [
      "Locator attempting to generate 1351 ticks ([-675000000000.0, ..., 675000000000.0]), which exceeds Locator.MAXTICKS (1000).\n"
     ]
    },
    {
     "name": "stderr",
     "output_type": "stream",
     "text": [
      "Locator attempting to generate 1351 ticks ([-675000000000.0, ..., 675000000000.0]), which exceeds Locator.MAXTICKS (1000).\n"
     ]
    },
    {
     "name": "stderr",
     "output_type": "stream",
     "text": [
      "Locator attempting to generate 5205 ticks ([-2602000000000.0, ..., 2602000000000.0]), which exceeds Locator.MAXTICKS (1000).\n"
     ]
    },
    {
     "name": "stderr",
     "output_type": "stream",
     "text": [
      "Locator attempting to generate 5205 ticks ([-2602000000000.0, ..., 2602000000000.0]), which exceeds Locator.MAXTICKS (1000).\n"
     ]
    },
    {
     "name": "stderr",
     "output_type": "stream",
     "text": [
      "Locator attempting to generate 2335 ticks ([-1167000000000.0, ..., 1167000000000.0]), which exceeds Locator.MAXTICKS (1000).\n"
     ]
    },
    {
     "name": "stderr",
     "output_type": "stream",
     "text": [
      "Locator attempting to generate 2335 ticks ([-1167000000000.0, ..., 1167000000000.0]), which exceeds Locator.MAXTICKS (1000).\n"
     ]
    },
    {
     "name": "stderr",
     "output_type": "stream",
     "text": [
      "Locator attempting to generate 1351 ticks ([-675000000000.0, ..., 675000000000.0]), which exceeds Locator.MAXTICKS (1000).\n"
     ]
    },
    {
     "name": "stderr",
     "output_type": "stream",
     "text": [
      "Locator attempting to generate 1351 ticks ([-675000000000.0, ..., 675000000000.0]), which exceeds Locator.MAXTICKS (1000).\n"
     ]
    },
    {
     "data": {
      "image/png": "[encoded data removed]",
      "text/plain": [
       "<Figure size 1440x432 with 3 Axes>"
      ]
     },
     "metadata": {
      "needs_background": "light"
     },
     "output_type": "display_data"
    }
   ],
   "source": [
    "# used in paper\n",
    "# A larger window (500-1500), with normalization\n",
    "uvp_plot = uvp_PXC_cov_n\n",
    "num_time_samples_list = [1,5,15]\n",
    "ylim = (5*1e-13,1e-9)\n",
    "dlys = uvp_plot.get_dlys(0) * 1e9\n",
    "delay_args = np.append(np.argwhere((dlys< -500)*(dlys>-1500)), np.argwhere((dlys< 1500)*(dlys>500)))\n",
    "suptitle = \"Inpainted+xtalk removed+cable reflection removed, \" + r\"$500\\,{\\rm ns}<|\\tau|<1500\\,{\\rm ns}$\"\n",
    "\n",
    "fig, axes = plt.subplots(figsize=(20,6), ncols=3, nrows=1)\n",
    "for ax_idx, num_time_samples in enumerate(num_time_samples_list):\n",
    "    col_idx = ax_idx%3\n",
    "    times = np.arange(num_time_samples)\n",
    "   \n",
    "    # Get all keys\n",
    "    keys = uvp_plot.get_all_keys()\n",
    "    blpt_weights = np.array([[1. for item in times] for key in keys])\n",
    "    ps_real_time_avg = []\n",
    "    for dly in delay_args:\n",
    "        ps = np.array([[uvp_plot.get_data(key)[time, dly]*uvp_plot.get_stats(\"autos_diag\", keys[0])[time,0].real\\\n",
    "                        /uvp_plot.get_stats(\"autos_diag\", key)[time, dly].real for time in times] for key in keys])\n",
    "        ps_real_time_avg.extend((np.sum(ps.real*blpt_weights, axis=1)/np.sum(blpt_weights, axis=1).clip(1e-10, np.inf)).flatten())\n",
    "    ps_real_time_avg = np.array(ps_real_time_avg) - np.mean(ps_real_time_avg)\n",
    "    # The ratio of error bars to the original one\n",
    "    psunits = uvp_plot.units\n",
    "    if \"h^-1\" in psunits: psunits = psunits.replace(\"h^-1\", \"h^{-1}\")\n",
    "    if \"h^-3\" in psunits: psunits = psunits.replace(\"h^-3\", \"h^{-3}\")\n",
    "    if \"Mpc\" in psunits and \"\\\\rm\" not in psunits: \n",
    "        psunits = psunits.replace(\"Mpc\", r\"{\\rm Mpc}\")\n",
    "    if \"pi\" in psunits and \"\\\\pi\" not in psunits: \n",
    "        psunits = psunits.replace(\"pi\", r\"\\pi\")\n",
    "    \n",
    "    ax = axes[col_idx]\n",
    "    Lap_sigma_list = np.zeros(num_time_samples)\n",
    "    for time in times:\n",
    "        Lap_sigma_list[time] = uvp_plot.get_stats(\"autos_diag\", keys[0])[time, 0].real \n",
    "    Gauss_sigma = np.sqrt(np.sum(Lap_sigma_list**2))/num_time_samples\n",
    "    vlim = 6*Gauss_sigma\n",
    "    n_in_bins, bins_edge, _ = ax.hist(ps_real_time_avg, log=True, density=True, bins=61, range=(-vlim, vlim), alpha=0.75,\n",
    "                           color='pink')\n",
    "    ax.set_xlim(-vlim, vlim)\n",
    "    ax.set_ylim(*ylim)\n",
    "    \n",
    "    px = np.linspace(-vlim, vlim, 100)\n",
    "    Lap_curve = np.zeros_like(px)\n",
    "    normalized_factor = 0\n",
    "    for time in times:\n",
    "        scale_factor = 1\n",
    "        for time_ in times:\n",
    "            if time_ != time:\n",
    "                scale_factor *= Lap_sigma_list[time]**2/(Lap_sigma_list[time]**2-Lap_sigma_list[time_]**2)\n",
    "        normalized_factor += scale_factor   \n",
    "        Lap_curve += np.exp(-np.sqrt(2)*np.abs(px)/Lap_sigma_list[time]*num_time_samples)/np.sqrt(2)/Lap_sigma_list[time]*num_time_samples*scale_factor\n",
    "    \n",
    "    # Calculate the equivalent Gaussian pdf\n",
    "    Gauss_curve = np.exp(-px**2/2/Gauss_sigma**2)/np.sqrt(2*np.pi*Gauss_sigma**2)\n",
    "    \n",
    "    if np.isclose(normalized_factor,1,rtol=5e-1):\n",
    "        ax.plot(px, Lap_curve, ls='-', lw=2, label=\"sum of Laplacian\", c='cyan')\n",
    "    ax.plot(px, Gauss_curve, ls='--', lw=2, label='Gaussian', c='slategrey')\n",
    "    \n",
    "    # confidence interval\n",
    "    ax.axvline(x=3*Gauss_sigma, c='k', lw=1, ls=':')\n",
    "    ax.axvline(x=-3*Gauss_sigma, c='k', lw=1, ls=':')\n",
    "    ax.axvline(x=5*Gauss_sigma, c='navy', lw=1, ls=':')\n",
    "    ax.axvline(x=-5*Gauss_sigma, c='navy', lw=1, ls=':')\n",
    "    if ax_idx == 0:\n",
    "        ax.text(2.2*Gauss_sigma, 9*1e-12, r'$3 \\sigma$', ha=\"center\", va=\"center\", rotation=0,\n",
    "            fontsize=14,\n",
    "            bbox=dict(boxstyle=\"rarrow\", fc=\"green\", alpha=0.5))\n",
    "        ax.text(4.2*Gauss_sigma, 1e-10, r'$5 \\sigma$', ha=\"center\", va=\"center\", rotation=0,\n",
    "            fontsize=14,\n",
    "            bbox=dict(boxstyle=\"rarrow\", fc=\"green\", alpha=0.5))\n",
    "        ax.text(-2.2*Gauss_sigma, 9*1e-12, r'$3 \\sigma$', ha=\"center\", va=\"center\", rotation=0,\n",
    "            fontsize=14,\n",
    "            bbox=dict(boxstyle=\"larrow\", fc=\"green\", alpha=0.5))\n",
    "        ax.text(-4.2*Gauss_sigma, 1e-10, r'$5 \\sigma$', ha=\"center\", va=\"center\", rotation=0,\n",
    "            fontsize=14,\n",
    "            bbox=dict(boxstyle=\"larrow\", fc=\"green\", alpha=0.5))\n",
    "    \n",
    "    ax.tick_params(which='both', labelsize=16, length=3, width=0.5)\n",
    "    ax.xaxis.set_minor_locator(ticker.MultipleLocator(1e9))\n",
    "    xticks = ax.get_xticks()\n",
    "    ax.set_xticklabels(xticks/1e10)\n",
    "    ax.set_xlabel(\"$P(k_\\parallel)$ $[\\\\times 10^{10}\\,%s]$\" % psunits, fontsize=16)\n",
    "    if col_idx == 0: \n",
    "        ax.set_ylabel(\"pdf\", fontsize=16)\n",
    "    if ax_idx == 0:\n",
    "        ax.legend(loc='lower right', fontsize=14)\n",
    "    ax.set_title(\"Average over \\n{} timestamp(s)\".format(num_time_samples),bbox=dict(fc='wheat', alpha=0.5), fontsize=16, pad=15)\n",
    "fig.subplots_adjust(top=0.8)\n",
    "fig.suptitle(suptitle, fontsize=20, bbox=dict(fc='gold', alpha=0.5), x=0.5, y=0.99)\n",
    "print(len(uvp_plot.get_all_keys())*len(delay_args))"
   ]
  },
  {
   "cell_type": "code",
   "execution_count": null,
   "id": "709eee00",
   "metadata": {
    "papermill": {
     "duration": 0.137888,
     "end_time": "2022-03-17T03:53:24.419509",
     "exception": false,
     "start_time": "2022-03-17T03:53:24.281621",
     "status": "completed"
    },
    "tags": []
   },
   "outputs": [],
   "source": []
  }
 ],
 "metadata": {
  "kernelspec": {
   "display_name": "Python 3 (ipykernel)",
   "language": "python",
   "name": "python3"
  },
  "language_info": {
   "codemirror_mode": {
    "name": "ipython",
    "version": 3
   },
   "file_extension": ".py",
   "mimetype": "text/x-python",
   "name": "python",
   "nbconvert_exporter": "python",
   "pygments_lexer": "ipython3",
   "version": "3.9.6"
  },
  "papermill": {
   "default_parameters": {},
   "duration": 23856.955909,
   "end_time": "2022-03-17T03:53:26.821023",
   "environment_variables": {},
   "exception": null,
   "input_path": "PaperPlots-IDR2_2.ipynb",
   "output_path": "PaperPlots-IDR2_2_463719.ipynb",
   "parameters": {},
   "start_time": "2022-03-16T21:15:49.865114",
   "version": "2.3.4"
  }
 },
 "nbformat": 4,
 "nbformat_minor": 5
}