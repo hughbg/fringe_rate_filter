{
 "cells": [
  {
   "cell_type": "code",
   "execution_count": 1,
   "id": "38acfc0b",
   "metadata": {
    "execution": {
     "iopub.execute_input": "2022-03-22T21:17:35.221378Z",
     "iopub.status.busy": "2022-03-22T21:17:35.220780Z",
     "iopub.status.idle": "2022-03-22T21:17:35.228110Z",
     "shell.execute_reply": "2022-03-22T21:17:35.228997Z"
    },
    "papermill": {
     "duration": 0.112721,
     "end_time": "2022-03-22T21:17:35.229206",
     "exception": false,
     "start_time": "2022-03-22T21:17:35.116485",
     "status": "completed"
    },
    "tags": []
   },
   "outputs": [
    {
     "data": {
      "text/html": [
       "\n",
       "<style>\n",
       "    div#notebook-container    { width: 95%; }\n",
       "    div#menubar-container     { width: 65%; }\n",
       "    div#maintoolbar-container { width: 99%; }\n",
       "</style>ilter\n"
      ],
      "text/plain": [
       "<IPython.core.display.HTML object>"
      ]
     },
     "metadata": {},
     "output_type": "display_data"
    },
    {
     "data": {
      "text/html": [
       "<style>div.output_scroll { height: 200em; }</style>"
      ],
      "text/plain": [
       "<IPython.core.display.HTML object>"
      ]
     },
     "metadata": {},
     "output_type": "display_data"
    }
   ],
   "source": [
    "from IPython.display import display, HTML\n",
    "\n",
    "display(HTML(data=\"\"\"\n",
    "<style>\n",
    "    div#notebook-container    { width: 95%; }\n",
    "    div#menubar-container     { width: 65%; }\n",
    "    div#maintoolbar-container { width: 99%; }\n",
    "</style>ilter\n",
    "\"\"\"))\n",
    "display(HTML(\"<style>div.output_scroll { height: 200em; }</style>\"))\n"
   ]
  },
  {
   "cell_type": "code",
   "execution_count": 2,
   "id": "274708cc",
   "metadata": {
    "execution": {
     "iopub.execute_input": "2022-03-22T21:17:35.335802Z",
     "iopub.status.busy": "2022-03-22T21:17:35.334600Z",
     "iopub.status.idle": "2022-03-22T21:17:35.337035Z",
     "shell.execute_reply": "2022-03-22T21:17:35.336164Z"
    },
    "papermill": {
     "duration": 0.05175,
     "end_time": "2022-03-22T21:17:35.337114",
     "exception": false,
     "start_time": "2022-03-22T21:17:35.285364",
     "status": "completed"
    },
    "tags": []
   },
   "outputs": [
    {
     "data": {
      "text/plain": [
       "'/lustre/aoc/projects/hera/hgarsden'"
      ]
     },
     "execution_count": 2,
     "metadata": {},
     "output_type": "execute_result"
    }
   ],
   "source": [
    "pwd"
   ]
  },
  {
   "cell_type": "code",
   "execution_count": 3,
   "id": "f67dc3db",
   "metadata": {
    "execution": {
     "iopub.execute_input": "2022-03-22T21:17:35.421374Z",
     "iopub.status.busy": "2022-03-22T21:17:35.421036Z",
     "iopub.status.idle": "2022-03-22T21:17:35.547774Z",
     "shell.execute_reply": "2022-03-22T21:17:35.546886Z"
    },
    "papermill": {
     "duration": 0.169956,
     "end_time": "2022-03-22T21:17:35.547920",
     "exception": false,
     "start_time": "2022-03-22T21:17:35.377964",
     "status": "completed"
    },
    "tags": []
   },
   "outputs": [
    {
     "name": "stdout",
     "output_type": "stream",
     "text": [
      "PaperPlots-IDR2_2_437335.ipynb\r\n",
      "PaperPlots-IDR2_2_437336.ipynb\r\n",
      "PaperPlots-IDR2_2_437495.ipynb\r\n",
      "PaperPlots-IDR2_2_437503.ipynb\r\n",
      "PaperPlots-IDR2_2_437626.ipynb\r\n",
      "PaperPlots-IDR2_2_437635.ipynb\r\n",
      "PaperPlots-IDR2_2_463719.ipynb\r\n",
      "PaperPlots-IDR2_2_463726.ipynb\r\n",
      "PaperPlots-IDR2_2_478159.ipynb\r\n",
      "PaperPlots-IDR2_2.ipynb\r\n",
      "PaperPlots-IDR2_2_orig.ipynb\r\n",
      "PaperPlots-IDR2_2_out.ipynb\r\n",
      "PaperPlots-IDR2_2_sim_to_match_orig.ipynb\r\n",
      "PaperPlots-null_test_for_histed_noise_dominated_bandpowers.ipynb\r\n",
      "PaperPlots-null_test_for_histed_noise_dominated_bandpowers_orig.ipynb\r\n",
      "PaperPlots-null_test_for_histed_noise_dominated_bandpowers_out.ipynb\r\n",
      "Untitled.ipynb\r\n"
     ]
    }
   ],
   "source": [
    "ls *ipynb"
   ]
  },
  {
   "cell_type": "code",
   "execution_count": 4,
   "id": "2545a3c3",
   "metadata": {
    "execution": {
     "iopub.execute_input": "2022-03-22T21:17:35.666592Z",
     "iopub.status.busy": "2022-03-22T21:17:35.666114Z",
     "iopub.status.idle": "2022-03-22T21:17:35.667308Z",
     "shell.execute_reply": "2022-03-22T21:17:35.666971Z"
    },
    "papermill": {
     "duration": 0.056039,
     "end_time": "2022-03-22T21:17:35.667391",
     "exception": false,
     "start_time": "2022-03-22T21:17:35.611352",
     "status": "completed"
    },
    "tags": []
   },
   "outputs": [],
   "source": [
    "import sys\n",
    "sys.path.append(\"/users/hgarsden/.local/lib/python3.9/site-packages\")"
   ]
  },
  {
   "cell_type": "code",
   "execution_count": 5,
   "id": "0a72ad90",
   "metadata": {
    "execution": {
     "iopub.execute_input": "2022-03-22T21:17:35.753817Z",
     "iopub.status.busy": "2022-03-22T21:17:35.753484Z",
     "iopub.status.idle": "2022-03-22T21:17:45.895144Z",
     "shell.execute_reply": "2022-03-22T21:17:45.895907Z"
    },
    "papermill": {
     "duration": 10.185669,
     "end_time": "2022-03-22T21:17:45.896055",
     "exception": false,
     "start_time": "2022-03-22T21:17:35.710386",
     "status": "completed"
    },
    "scrolled": true,
    "tags": []
   },
   "outputs": [],
   "source": [
    "%matplotlib inline\n",
    "#%load_ext line_profiler\n",
    "import numpy as np\n",
    "import matplotlib\n",
    "import matplotlib.pyplot as plt\n",
    "import glob\n",
    "import hera_cal as hc\n",
    "import hera_pspec as hp\n",
    "from hera_pspec.data import DATA_PATH\n",
    "from pyuvdata import UVData, UVCal, UVFlag, utils as uvutils\n",
    "from scipy import stats, signal, interpolate\n",
    "import copy\n",
    "import matplotlib.gridspec as gridspec\n",
    "from astropy import constants\n",
    "import uvtools as uvt\n",
    "import cycler\n",
    "import itertools\n",
    "import os\n",
    "from collections import OrderedDict as odict"
   ]
  },
  {
   "cell_type": "code",
   "execution_count": 6,
   "id": "6fd74449",
   "metadata": {
    "execution": {
     "iopub.execute_input": "2022-03-22T21:17:45.998195Z",
     "iopub.status.busy": "2022-03-22T21:17:45.997815Z",
     "iopub.status.idle": "2022-03-22T21:17:46.019970Z",
     "shell.execute_reply": "2022-03-22T21:17:46.020236Z"
    },
    "papermill": {
     "duration": 0.072039,
     "end_time": "2022-03-22T21:17:46.020363",
     "exception": false,
     "start_time": "2022-03-22T21:17:45.948324",
     "status": "completed"
    },
    "tags": []
   },
   "outputs": [],
   "source": [
    "from mpl_toolkits.axes_grid1.inset_locator import inset_axes"
   ]
  },
  {
   "cell_type": "code",
   "execution_count": 7,
   "id": "2733c4da",
   "metadata": {
    "execution": {
     "iopub.execute_input": "2022-03-22T21:17:46.100344Z",
     "iopub.status.busy": "2022-03-22T21:17:46.099240Z",
     "iopub.status.idle": "2022-03-22T21:17:46.100954Z",
     "shell.execute_reply": "2022-03-22T21:17:46.100674Z"
    },
    "papermill": {
     "duration": 0.041731,
     "end_time": "2022-03-22T21:17:46.101029",
     "exception": false,
     "start_time": "2022-03-22T21:17:46.059298",
     "status": "completed"
    },
    "tags": []
   },
   "outputs": [],
   "source": [
    "import matplotlib.ticker as ticker"
   ]
  },
  {
   "cell_type": "code",
   "execution_count": 8,
   "id": "727d9a4a",
   "metadata": {
    "execution": {
     "iopub.execute_input": "2022-03-22T21:17:46.180550Z",
     "iopub.status.busy": "2022-03-22T21:17:46.179468Z",
     "iopub.status.idle": "2022-03-22T21:17:46.180935Z",
     "shell.execute_reply": "2022-03-22T21:17:46.181213Z"
    },
    "papermill": {
     "duration": 0.042964,
     "end_time": "2022-03-22T21:17:46.181297",
     "exception": false,
     "start_time": "2022-03-22T21:17:46.138333",
     "status": "completed"
    },
    "tags": []
   },
   "outputs": [],
   "source": [
    "def fmt(x, pos):\n",
    "    a, b = '{:.2e}'.format(x).split('e')\n",
    "    b = int(b)\n",
    "    return r'${} \\times 10^{{{}}}$'.format(a, b)"
   ]
  },
  {
   "cell_type": "code",
   "execution_count": 9,
   "id": "304539f2",
   "metadata": {
    "execution": {
     "iopub.execute_input": "2022-03-22T21:17:46.259596Z",
     "iopub.status.busy": "2022-03-22T21:17:46.258537Z",
     "iopub.status.idle": "2022-03-22T21:17:46.259970Z",
     "shell.execute_reply": "2022-03-22T21:17:46.260228Z"
    },
    "papermill": {
     "duration": 0.04158,
     "end_time": "2022-03-22T21:17:46.260310",
     "exception": false,
     "start_time": "2022-03-22T21:17:46.218730",
     "status": "completed"
    },
    "tags": []
   },
   "outputs": [],
   "source": [
    "import matplotlib.font_manager\n",
    "\n",
    "sim_file = \"fringe_rate_filter/cleaned_sim_1000_256_noise.uvh5\""
   ]
  },
  {
   "cell_type": "markdown",
   "id": "c4dbfe63",
   "metadata": {
    "papermill": {
     "duration": 0.037832,
     "end_time": "2022-03-22T21:17:46.335747",
     "exception": false,
     "start_time": "2022-03-22T21:17:46.297915",
     "status": "completed"
    },
    "tags": []
   },
   "source": [
    "### noise error bar"
   ]
  },
  {
   "cell_type": "code",
   "execution_count": 10,
   "id": "119c3a85",
   "metadata": {
    "execution": {
     "iopub.execute_input": "2022-03-22T21:17:46.414967Z",
     "iopub.status.busy": "2022-03-22T21:17:46.414600Z",
     "iopub.status.idle": "2022-03-22T21:17:46.418354Z",
     "shell.execute_reply": "2022-03-22T21:17:46.418085Z"
    },
    "papermill": {
     "duration": 0.044245,
     "end_time": "2022-03-22T21:17:46.418428",
     "exception": false,
     "start_time": "2022-03-22T21:17:46.374183",
     "status": "completed"
    },
    "tags": []
   },
   "outputs": [],
   "source": [
    "# LST binned, Inpainted & xtalk subtracted files\n",
    "root = \"/lustre/aoc/projects/hera/H1C_IDR2/IDR2_2_pspec/v2/one_group/data/\"\n",
    "dfiles = sorted(glob.glob(root + \"zen.grp1.of1.LST.1*.HH.OCRSLP2X.uvh5\"))\n",
    "dfiles[5] = sim_file"
   ]
  },
  {
   "cell_type": "code",
   "execution_count": 11,
   "id": "449761f7",
   "metadata": {
    "execution": {
     "iopub.execute_input": "2022-03-22T21:17:46.498866Z",
     "iopub.status.busy": "2022-03-22T21:17:46.498459Z",
     "iopub.status.idle": "2022-03-22T21:17:48.576900Z",
     "shell.execute_reply": "2022-03-22T21:17:48.577453Z"
    },
    "papermill": {
     "duration": 2.121389,
     "end_time": "2022-03-22T21:17:48.577572",
     "exception": false,
     "start_time": "2022-03-22T21:17:46.456183",
     "status": "completed"
    },
    "tags": []
   },
   "outputs": [
    {
     "name": "stdout",
     "output_type": "stream",
     "text": [
      "fringe_rate_filter/cleaned_sim_1000_256_noise.uvh5\n"
     ]
    },
    {
     "name": "stderr",
     "output_type": "stream",
     "text": [
      "Telescope hera_sim is not in known_telescopes.\n"
     ]
    }
   ],
   "source": [
    "uvd_ = UVData()\n",
    "print(dfiles[5])\n",
    "uvd_.read(dfiles[5], read_data=False)"
   ]
  },
  {
   "cell_type": "code",
   "execution_count": 12,
   "id": "d549ca92",
   "metadata": {
    "execution": {
     "iopub.execute_input": "2022-03-22T21:17:48.675749Z",
     "iopub.status.busy": "2022-03-22T21:17:48.675400Z",
     "iopub.status.idle": "2022-03-22T21:17:48.683944Z",
     "shell.execute_reply": "2022-03-22T21:17:48.684407Z"
    },
    "papermill": {
     "duration": 0.06739,
     "end_time": "2022-03-22T21:17:48.684510",
     "exception": false,
     "start_time": "2022-03-22T21:17:48.617120",
     "status": "completed"
    },
    "tags": []
   },
   "outputs": [],
   "source": [
    "ntimes = 60      # Use this many\n",
    "times = np.unique(uvd_.time_array)\n",
    "time_range = (times[times.size//2-ntimes//2], times[times.size//2+ntimes//2-1])\n",
    "\n",
    "xants = [0,2,11,24,50,53,54,67,69,98,122,136,139]"
   ]
  },
  {
   "cell_type": "code",
   "execution_count": 13,
   "id": "507d0fad",
   "metadata": {
    "execution": {
     "iopub.execute_input": "2022-03-22T21:17:48.781799Z",
     "iopub.status.busy": "2022-03-22T21:17:48.781458Z",
     "iopub.status.idle": "2022-03-22T21:17:48.813207Z",
     "shell.execute_reply": "2022-03-22T21:17:48.813721Z"
    },
    "papermill": {
     "duration": 0.091244,
     "end_time": "2022-03-22T21:17:48.813833",
     "exception": false,
     "start_time": "2022-03-22T21:17:48.722589",
     "status": "completed"
    },
    "tags": []
   },
   "outputs": [],
   "source": [
    "# short baseline group\n",
    "bl_len_range = (14, 15)\n",
    "bl_deg_range = (0, 1)\n",
    "reds, lens, angs = hp.utils.get_reds(uvd_, bl_len_range=bl_len_range, bl_deg_range=bl_deg_range, xants=xants)\n",
    "bls = hp.utils.flatten(reds)"
   ]
  },
  {
   "cell_type": "code",
   "execution_count": 14,
   "id": "23ae1a8e",
   "metadata": {
    "execution": {
     "iopub.execute_input": "2022-03-22T21:17:48.899488Z",
     "iopub.status.busy": "2022-03-22T21:17:48.898359Z",
     "iopub.status.idle": "2022-03-22T21:17:48.900105Z",
     "shell.execute_reply": "2022-03-22T21:17:48.899823Z"
    },
    "papermill": {
     "duration": 0.044101,
     "end_time": "2022-03-22T21:17:48.900181",
     "exception": false,
     "start_time": "2022-03-22T21:17:48.856080",
     "status": "completed"
    },
    "tags": []
   },
   "outputs": [],
   "source": [
    "#uvd_.get"
   ]
  },
  {
   "cell_type": "code",
   "execution_count": 15,
   "id": "ea0ee200",
   "metadata": {
    "execution": {
     "iopub.execute_input": "2022-03-22T21:17:48.999825Z",
     "iopub.status.busy": "2022-03-22T21:17:48.999465Z",
     "iopub.status.idle": "2022-03-22T21:19:29.925910Z",
     "shell.execute_reply": "2022-03-22T21:19:29.926514Z"
    },
    "papermill": {
     "duration": 100.987229,
     "end_time": "2022-03-22T21:19:29.926632",
     "exception": false,
     "start_time": "2022-03-22T21:17:48.939403",
     "status": "completed"
    },
    "tags": []
   },
   "outputs": [
    {
     "name": "stdout",
     "output_type": "stream",
     "text": [
      "fringe_rate_filter/cleaned_sim_1000_256_noise.uvh5\n"
     ]
    }
   ],
   "source": [
    "print(dfiles[5])\n",
    "uvd_.read(dfiles[5], time_range=time_range, antenna_nums=np.array(bls).flatten(), polarizations=['xx','yy'])"
   ]
  },
  {
   "cell_type": "code",
   "execution_count": 16,
   "id": "629d255b",
   "metadata": {
    "execution": {
     "iopub.execute_input": "2022-03-22T21:19:30.165675Z",
     "iopub.status.busy": "2022-03-22T21:19:30.164545Z",
     "iopub.status.idle": "2022-03-22T21:19:30.371093Z",
     "shell.execute_reply": "2022-03-22T21:19:30.372044Z"
    },
    "papermill": {
     "duration": 0.404016,
     "end_time": "2022-03-22T21:19:30.372235",
     "exception": false,
     "start_time": "2022-03-22T21:19:29.968219",
     "status": "completed"
    },
    "tags": []
   },
   "outputs": [],
   "source": [
    "beam = hp.PSpecBeamUV(\"/lustre/aoc/projects/hera/nkern/beams/NF_HERA_IQ_power_beam_healpix128.fits\")"
   ]
  },
  {
   "cell_type": "code",
   "execution_count": 17,
   "id": "e95b17cc",
   "metadata": {
    "execution": {
     "iopub.execute_input": "2022-03-22T21:19:30.514975Z",
     "iopub.status.busy": "2022-03-22T21:19:30.514566Z",
     "iopub.status.idle": "2022-03-22T21:19:30.949091Z",
     "shell.execute_reply": "2022-03-22T21:19:30.949677Z"
    },
    "papermill": {
     "duration": 0.509213,
     "end_time": "2022-03-22T21:19:30.949794",
     "exception": false,
     "start_time": "2022-03-22T21:19:30.440581",
     "status": "completed"
    },
    "tags": []
   },
   "outputs": [],
   "source": [
    "uvd = hp.pstokes.construct_pstokes(uvd_, uvd_, pstokes='pI')"
   ]
  },
  {
   "cell_type": "code",
   "execution_count": 18,
   "id": "2d4f5902",
   "metadata": {
    "execution": {
     "iopub.execute_input": "2022-03-22T21:19:31.049838Z",
     "iopub.status.busy": "2022-03-22T21:19:31.049494Z",
     "iopub.status.idle": "2022-03-22T21:22:23.908664Z",
     "shell.execute_reply": "2022-03-22T21:22:23.909119Z"
    },
    "papermill": {
     "duration": 172.919148,
     "end_time": "2022-03-22T21:22:23.909274",
     "exception": false,
     "start_time": "2022-03-22T21:19:30.990126",
     "status": "completed"
    },
    "tags": []
   },
   "outputs": [
    {
     "name": "stdout",
     "output_type": "stream",
     "text": [
      "bl range for pI_shortbl (14, 15)\n",
      "Warning: LST bins in dsets misaligned by more than 15 seconds\n"
     ]
    },
    {
     "name": "stdout",
     "output_type": "stream",
     "text": [
      "Warning: LST bins in dsets misaligned by more than 15 seconds\n"
     ]
    },
    {
     "name": "stderr",
     "output_type": "stream",
     "text": [
      "Producing time-uniform covariance matrices between bandpowers.\n",
      "Casting complex values to real discards the imaginary part\n"
     ]
    },
    {
     "name": "stdout",
     "output_type": "stream",
     "text": [
      "\n"
     ]
    }
   ],
   "source": [
    "# pspec at cross time, short baseline group\n",
    "print(\"bl range for pI_shortbl\", bl_len_range)\n",
    "\n",
    "hp.pspecdata.pspec_run([copy.deepcopy(uvd)], 'pspec_nulltest.h5', groupname='pI_shortbl', spw_ranges=[(0, 180)],\n",
    "                       dset_pairs=[(0,0)], pol_pairs=['pI'], input_data_weight='identity', norm='I',\n",
    "                       rephase_to_dset=True, interleave_times=True, Jy2mK=True, overwrite=True, verbose=False,\n",
    "                       bl_len_range=bl_len_range, bl_deg_range=bl_deg_range, beam=beam, taper='bh',\n",
    "                       broadcast_dset_flags=True, time_thresh=0.99, store_cov_diag=True, cov_model='autos', \n",
    "                       exclude_auto_bls=True, exclude_cross_bls=False, exclude_permutations=True)\n",
    "\n",
    "print()"
   ]
  },
  {
   "cell_type": "code",
   "execution_count": 19,
   "id": "eff86e0e",
   "metadata": {
    "execution": {
     "iopub.execute_input": "2022-03-22T21:22:24.037730Z",
     "iopub.status.busy": "2022-03-22T21:22:24.037372Z",
     "iopub.status.idle": "2022-03-22T21:22:24.052343Z",
     "shell.execute_reply": "2022-03-22T21:22:24.052815Z"
    },
    "papermill": {
     "duration": 0.08494,
     "end_time": "2022-03-22T21:22:24.052917",
     "exception": false,
     "start_time": "2022-03-22T21:22:23.967977",
     "status": "completed"
    },
    "tags": []
   },
   "outputs": [],
   "source": [
    "# intermediate baseline group\n",
    "bl_len_range = (40, 45)\n",
    "bl_deg_range = (0, 1)\n",
    "reds, lens, angs = hp.utils.get_reds(uvd_, bl_len_range=bl_len_range, bl_deg_range=bl_deg_range, xants=xants)\n",
    "bls = hp.utils.flatten(reds)"
   ]
  },
  {
   "cell_type": "code",
   "execution_count": 20,
   "id": "6e4b8672",
   "metadata": {
    "execution": {
     "iopub.execute_input": "2022-03-22T21:22:24.151649Z",
     "iopub.status.busy": "2022-03-22T21:22:24.151326Z",
     "iopub.status.idle": "2022-03-22T21:23:15.552823Z",
     "shell.execute_reply": "2022-03-22T21:23:15.553301Z"
    },
    "papermill": {
     "duration": 51.460526,
     "end_time": "2022-03-22T21:23:15.553456",
     "exception": false,
     "start_time": "2022-03-22T21:22:24.092930",
     "status": "completed"
    },
    "tags": []
   },
   "outputs": [
    {
     "name": "stdout",
     "output_type": "stream",
     "text": [
      "bls range for pI_medbl (40, 45)\n"
     ]
    },
    {
     "name": "stdout",
     "output_type": "stream",
     "text": [
      "Warning: LST bins in dsets misaligned by more than 15 seconds\n"
     ]
    },
    {
     "name": "stdout",
     "output_type": "stream",
     "text": [
      "Warning: LST bins in dsets misaligned by more than 15 seconds\n"
     ]
    },
    {
     "name": "stderr",
     "output_type": "stream",
     "text": [
      "Producing time-uniform covariance matrices between bandpowers.\n",
      "Casting complex values to real discards the imaginary part\n"
     ]
    },
    {
     "name": "stdout",
     "output_type": "stream",
     "text": [
      "\n"
     ]
    }
   ],
   "source": [
    "# pspec at cross time, med baseline group\n",
    "print(\"bls range for pI_medbl\", bl_len_range)\n",
    "\n",
    "hp.pspecdata.pspec_run([copy.deepcopy(uvd)], 'pspec_nulltest.h5', groupname='pI_medbl', spw_ranges=[(0, 180)],\n",
    "                       dset_pairs=[(0,0)], pol_pairs=['pI'], input_data_weight='identity', norm='I',\n",
    "                       rephase_to_dset=True, interleave_times=True, Jy2mK=True, overwrite=True, verbose=False,\n",
    "                       bl_len_range=bl_len_range, bl_deg_range=bl_deg_range, beam=beam, taper='bh',\n",
    "                       broadcast_dset_flags=True, time_thresh=0.99, store_cov_diag=True, cov_model='autos', \n",
    "                       exclude_auto_bls=True, exclude_cross_bls=False, exclude_permutations=True)\n",
    "                       \n",
    "print()"
   ]
  },
  {
   "cell_type": "markdown",
   "id": "052d978e",
   "metadata": {
    "papermill": {
     "duration": 0.05019,
     "end_time": "2022-03-22T21:23:15.664701",
     "exception": false,
     "start_time": "2022-03-22T21:23:15.614511",
     "status": "completed"
    },
    "tags": []
   },
   "source": [
    "### foreground_dependent error bar"
   ]
  },
  {
   "cell_type": "code",
   "execution_count": 21,
   "id": "357109c8",
   "metadata": {
    "execution": {
     "iopub.execute_input": "2022-03-22T21:23:15.754355Z",
     "iopub.status.busy": "2022-03-22T21:23:15.753314Z",
     "iopub.status.idle": "2022-03-22T21:23:15.754722Z",
     "shell.execute_reply": "2022-03-22T21:23:15.754999Z"
    },
    "papermill": {
     "duration": 0.046539,
     "end_time": "2022-03-22T21:23:15.755082",
     "exception": false,
     "start_time": "2022-03-22T21:23:15.708543",
     "status": "completed"
    },
    "tags": []
   },
   "outputs": [],
   "source": [
    "# LST binned, Inpainted & xtalk subtracted files\n",
    "root = \"/lustre/aoc/projects/hera/H1C_IDR2/IDR2_2_pspec/v2/one_group/data/\"\n",
    "dfiles = sorted(glob.glob(root + \"zen.grp1.of1.LST.1*.HH.OCRSLP2X.uvh5\"))\n",
    "dfiles[5] = sim_file"
   ]
  },
  {
   "cell_type": "code",
   "execution_count": 22,
   "id": "9633888c",
   "metadata": {
    "execution": {
     "iopub.execute_input": "2022-03-22T21:23:15.840268Z",
     "iopub.status.busy": "2022-03-22T21:23:15.839218Z",
     "iopub.status.idle": "2022-03-22T21:23:15.841402Z",
     "shell.execute_reply": "2022-03-22T21:23:15.841129Z"
    },
    "papermill": {
     "duration": 0.045725,
     "end_time": "2022-03-22T21:23:15.841469",
     "exception": false,
     "start_time": "2022-03-22T21:23:15.795744",
     "status": "completed"
    },
    "tags": []
   },
   "outputs": [
    {
     "data": {
      "text/plain": [
       "'fringe_rate_filter/cleaned_sim_1000_256_noise.uvh5'"
      ]
     },
     "execution_count": 22,
     "metadata": {},
     "output_type": "execute_result"
    }
   ],
   "source": [
    "dfiles[5]"
   ]
  },
  {
   "cell_type": "code",
   "execution_count": 23,
   "id": "b70a9512",
   "metadata": {
    "execution": {
     "iopub.execute_input": "2022-03-22T21:23:15.937636Z",
     "iopub.status.busy": "2022-03-22T21:23:15.937300Z",
     "iopub.status.idle": "2022-03-22T21:23:16.214318Z",
     "shell.execute_reply": "2022-03-22T21:23:16.214888Z"
    },
    "papermill": {
     "duration": 0.333427,
     "end_time": "2022-03-22T21:23:16.215008",
     "exception": false,
     "start_time": "2022-03-22T21:23:15.881581",
     "status": "completed"
    },
    "tags": []
   },
   "outputs": [
    {
     "name": "stdout",
     "output_type": "stream",
     "text": [
      "fringe_rate_filter/cleaned_sim_1000_256_noise.uvh5\n"
     ]
    },
    {
     "name": "stderr",
     "output_type": "stream",
     "text": [
      "Telescope hera_sim is not in known_telescopes.\n"
     ]
    }
   ],
   "source": [
    "uvd_ = UVData()\n",
    "print(dfiles[5])\n",
    "uvd_.read(dfiles[5], read_data=False)"
   ]
  },
  {
   "cell_type": "code",
   "execution_count": 24,
   "id": "0b02c2f5",
   "metadata": {
    "execution": {
     "iopub.execute_input": "2022-03-22T21:23:16.303012Z",
     "iopub.status.busy": "2022-03-22T21:23:16.301872Z",
     "iopub.status.idle": "2022-03-22T21:23:16.303611Z",
     "shell.execute_reply": "2022-03-22T21:23:16.303327Z"
    },
    "papermill": {
     "duration": 0.046023,
     "end_time": "2022-03-22T21:23:16.303686",
     "exception": false,
     "start_time": "2022-03-22T21:23:16.257663",
     "status": "completed"
    },
    "tags": []
   },
   "outputs": [],
   "source": [
    "xants = [0,2,11,24,50,53,54,67,69,98,122,136,139]"
   ]
  },
  {
   "cell_type": "code",
   "execution_count": 25,
   "id": "3d94fc4e",
   "metadata": {
    "execution": {
     "iopub.execute_input": "2022-03-22T21:23:16.435689Z",
     "iopub.status.busy": "2022-03-22T21:23:16.435355Z",
     "iopub.status.idle": "2022-03-22T21:23:16.447986Z",
     "shell.execute_reply": "2022-03-22T21:23:16.448455Z"
    },
    "papermill": {
     "duration": 0.103472,
     "end_time": "2022-03-22T21:23:16.448543",
     "exception": false,
     "start_time": "2022-03-22T21:23:16.345071",
     "status": "completed"
    },
    "tags": []
   },
   "outputs": [],
   "source": [
    "# short baseline group\n",
    "bl_len_range = (14, 15)\n",
    "bl_deg_range = (0, 1)\n",
    "reds, lens, angs = hp.utils.get_reds(uvd_, bl_len_range=bl_len_range, bl_deg_range=bl_deg_range, xants=xants)\n",
    "bls = hp.utils.flatten(reds)"
   ]
  },
  {
   "cell_type": "code",
   "execution_count": 26,
   "id": "0075549e",
   "metadata": {
    "execution": {
     "iopub.execute_input": "2022-03-22T21:23:16.534530Z",
     "iopub.status.busy": "2022-03-22T21:23:16.533476Z",
     "iopub.status.idle": "2022-03-22T21:23:16.534917Z",
     "shell.execute_reply": "2022-03-22T21:23:16.535182Z"
    },
    "papermill": {
     "duration": 0.044869,
     "end_time": "2022-03-22T21:23:16.535264",
     "exception": false,
     "start_time": "2022-03-22T21:23:16.490395",
     "status": "completed"
    },
    "tags": []
   },
   "outputs": [],
   "source": [
    "refcal = '/lustre/aoc/projects/hera/H1C_IDR2/IDR2_2_pspec/v2/one_group/data/zen.grp1.of1.LST.1.50345.HH.OCRSLP2.allspws.refcal_smooth.calfits'"
   ]
  },
  {
   "cell_type": "code",
   "execution_count": 27,
   "id": "3dbd1b82",
   "metadata": {
    "execution": {
     "iopub.execute_input": "2022-03-22T21:23:16.620143Z",
     "iopub.status.busy": "2022-03-22T21:23:16.619104Z",
     "iopub.status.idle": "2022-03-22T21:23:16.620517Z",
     "shell.execute_reply": "2022-03-22T21:23:16.620779Z"
    },
    "papermill": {
     "duration": 0.04462,
     "end_time": "2022-03-22T21:23:16.620866",
     "exception": false,
     "start_time": "2022-03-22T21:23:16.576246",
     "status": "completed"
    },
    "tags": []
   },
   "outputs": [],
   "source": [
    "# intermediate baseline group\n",
    "#bl_len_range = (40, 45)\n",
    "#bl_deg_range = (0, 1)\n",
    "#reds, lens, angs = hp.utils.get_reds(uvd_, bl_len_range=bl_len_range, bl_deg_range=bl_deg_range, xants=xants)\n",
    "#bls = hp.utils.flatten(reds)"
   ]
  },
  {
   "cell_type": "code",
   "execution_count": 28,
   "id": "a3d8fe42",
   "metadata": {
    "execution": {
     "iopub.execute_input": "2022-03-22T21:23:16.724795Z",
     "iopub.status.busy": "2022-03-22T21:23:16.724418Z",
     "iopub.status.idle": "2022-03-22T21:24:57.109008Z",
     "shell.execute_reply": "2022-03-22T21:24:57.109574Z"
    },
    "papermill": {
     "duration": 100.447553,
     "end_time": "2022-03-22T21:24:57.109692",
     "exception": false,
     "start_time": "2022-03-22T21:23:16.662139",
     "status": "completed"
    },
    "tags": []
   },
   "outputs": [
    {
     "name": "stdout",
     "output_type": "stream",
     "text": [
      "fringe_rate_filter/cleaned_sim_1000_256_noise.uvh5\n"
     ]
    }
   ],
   "source": [
    "print(dfiles[5])\n",
    "uvd_.read(dfiles[5], time_range=time_range, antenna_nums=np.array(bls).flatten(), polarizations=['xx','yy'])"
   ]
  },
  {
   "cell_type": "markdown",
   "id": "843fd092",
   "metadata": {
    "papermill": {
     "duration": 0.042987,
     "end_time": "2022-03-22T21:24:57.196794",
     "exception": false,
     "start_time": "2022-03-22T21:24:57.153807",
     "status": "completed"
    },
    "tags": []
   },
   "source": [
    "### some parameters"
   ]
  },
  {
   "cell_type": "code",
   "execution_count": 29,
   "id": "472465ad",
   "metadata": {
    "execution": {
     "iopub.execute_input": "2022-03-22T21:24:57.288864Z",
     "iopub.status.busy": "2022-03-22T21:24:57.288409Z",
     "iopub.status.idle": "2022-03-22T21:24:57.290029Z",
     "shell.execute_reply": "2022-03-22T21:24:57.289207Z"
    },
    "papermill": {
     "duration": 0.050591,
     "end_time": "2022-03-22T21:24:57.290117",
     "exception": false,
     "start_time": "2022-03-22T21:24:57.239526",
     "status": "completed"
    },
    "tags": []
   },
   "outputs": [
    {
     "name": "stdout",
     "output_type": "stream",
     "text": [
      "21.48000037266036\n"
     ]
    }
   ],
   "source": [
    "print(np.mean(np.diff(np.unique(uvd_.time_array)))*24*3600)"
   ]
  },
  {
   "cell_type": "code",
   "execution_count": 30,
   "id": "e214c312",
   "metadata": {
    "execution": {
     "iopub.execute_input": "2022-03-22T21:24:57.384981Z",
     "iopub.status.busy": "2022-03-22T21:24:57.384526Z",
     "iopub.status.idle": "2022-03-22T21:24:57.386175Z",
     "shell.execute_reply": "2022-03-22T21:24:57.385331Z"
    },
    "papermill": {
     "duration": 0.050382,
     "end_time": "2022-03-22T21:24:57.386264",
     "exception": false,
     "start_time": "2022-03-22T21:24:57.335882",
     "status": "completed"
    },
    "tags": []
   },
   "outputs": [
    {
     "name": "stdout",
     "output_type": "stream",
     "text": [
      "21.538810908041622\n"
     ]
    }
   ],
   "source": [
    "print(np.mean(np.diff(np.unique(uvd_.lst_array)))*24*3600/2/np.pi)"
   ]
  },
  {
   "cell_type": "code",
   "execution_count": 31,
   "id": "f304ea4c",
   "metadata": {
    "execution": {
     "iopub.execute_input": "2022-03-22T21:24:57.482583Z",
     "iopub.status.busy": "2022-03-22T21:24:57.482141Z",
     "iopub.status.idle": "2022-03-22T21:24:57.483771Z",
     "shell.execute_reply": "2022-03-22T21:24:57.482920Z"
    },
    "papermill": {
     "duration": 0.051941,
     "end_time": "2022-03-22T21:24:57.483864",
     "exception": false,
     "start_time": "2022-03-22T21:24:57.431923",
     "status": "completed"
    },
    "tags": []
   },
   "outputs": [
    {
     "data": {
      "text/plain": [
       "(8.55777389548382, 8.9107710742545)"
      ]
     },
     "execution_count": 31,
     "metadata": {},
     "output_type": "execute_result"
    }
   ],
   "source": [
    "np.unique(uvd_.lst_array)[0]/2/np.pi*24, np.unique(uvd_.lst_array)[-1]/2/np.pi*24"
   ]
  },
  {
   "cell_type": "code",
   "execution_count": 32,
   "id": "90beb4c8",
   "metadata": {
    "execution": {
     "iopub.execute_input": "2022-03-22T21:24:57.577264Z",
     "iopub.status.busy": "2022-03-22T21:24:57.576823Z",
     "iopub.status.idle": "2022-03-22T21:24:57.578385Z",
     "shell.execute_reply": "2022-03-22T21:24:57.577577Z"
    },
    "papermill": {
     "duration": 0.049057,
     "end_time": "2022-03-22T21:24:57.578463",
     "exception": false,
     "start_time": "2022-03-22T21:24:57.529406",
     "status": "completed"
    },
    "tags": []
   },
   "outputs": [
    {
     "data": {
      "text/plain": [
       "60"
      ]
     },
     "execution_count": 32,
     "metadata": {},
     "output_type": "execute_result"
    }
   ],
   "source": [
    "uvd_.Ntimes"
   ]
  },
  {
   "cell_type": "code",
   "execution_count": 33,
   "id": "36b7db94",
   "metadata": {
    "execution": {
     "iopub.execute_input": "2022-03-22T21:24:57.699097Z",
     "iopub.status.busy": "2022-03-22T21:24:57.698632Z",
     "iopub.status.idle": "2022-03-22T21:24:57.700358Z",
     "shell.execute_reply": "2022-03-22T21:24:57.699436Z"
    },
    "papermill": {
     "duration": 0.078827,
     "end_time": "2022-03-22T21:24:57.700447",
     "exception": false,
     "start_time": "2022-03-22T21:24:57.621620",
     "status": "completed"
    },
    "tags": []
   },
   "outputs": [
    {
     "data": {
      "text/plain": [
       "array([21.4799881, 21.4799881, 21.4799881, ..., 21.4799881, 21.4799881,\n",
       "       21.4799881])"
      ]
     },
     "execution_count": 33,
     "metadata": {},
     "output_type": "execute_result"
    }
   ],
   "source": [
    "uvd_.integration_time"
   ]
  },
  {
   "cell_type": "code",
   "execution_count": 34,
   "id": "03cc2fa3",
   "metadata": {
    "execution": {
     "iopub.execute_input": "2022-03-22T21:24:57.795963Z",
     "iopub.status.busy": "2022-03-22T21:24:57.795522Z",
     "iopub.status.idle": "2022-03-22T21:24:57.797086Z",
     "shell.execute_reply": "2022-03-22T21:24:57.796279Z"
    },
    "papermill": {
     "duration": 0.049907,
     "end_time": "2022-03-22T21:24:57.797166",
     "exception": false,
     "start_time": "2022-03-22T21:24:57.747259",
     "status": "completed"
    },
    "tags": []
   },
   "outputs": [
    {
     "data": {
      "text/plain": [
       "(21.47998809814453,)"
      ]
     },
     "execution_count": 34,
     "metadata": {},
     "output_type": "execute_result"
    }
   ],
   "source": [
    "np.mean(uvd_.integration_time), "
   ]
  },
  {
   "cell_type": "code",
   "execution_count": 35,
   "id": "cd6a4ff0",
   "metadata": {
    "execution": {
     "iopub.execute_input": "2022-03-22T21:24:57.891442Z",
     "iopub.status.busy": "2022-03-22T21:24:57.891044Z",
     "iopub.status.idle": "2022-03-22T21:24:58.497377Z",
     "shell.execute_reply": "2022-03-22T21:24:58.498039Z"
    },
    "papermill": {
     "duration": 0.653149,
     "end_time": "2022-03-22T21:24:58.498175",
     "exception": false,
     "start_time": "2022-03-22T21:24:57.845026",
     "status": "completed"
    },
    "tags": []
   },
   "outputs": [
    {
     "name": "stderr",
     "output_type": "stream",
     "text": [
      "telescope_location is not set. Using known values for HERA.\n",
      "antenna_positions is not set. Using known values for HERA.\n"
     ]
    }
   ],
   "source": [
    "uvcal_ref = UVCal()\n",
    "uvcal_ref.read_calfits(refcal)"
   ]
  },
  {
   "cell_type": "code",
   "execution_count": 36,
   "id": "60aa49cb",
   "metadata": {
    "execution": {
     "iopub.execute_input": "2022-03-22T21:24:58.595991Z",
     "iopub.status.busy": "2022-03-22T21:24:58.594814Z",
     "iopub.status.idle": "2022-03-22T21:24:58.596592Z",
     "shell.execute_reply": "2022-03-22T21:24:58.596308Z"
    },
    "papermill": {
     "duration": 0.04903,
     "end_time": "2022-03-22T21:24:58.596669",
     "exception": false,
     "start_time": "2022-03-22T21:24:58.547639",
     "status": "completed"
    },
    "tags": []
   },
   "outputs": [],
   "source": [
    "uvd_PXC_ = uvd_ #uvutils.uvcalibrate(uvd_, uvcal_ref, inplace=False, prop_flags=True, flag_missing=False)"
   ]
  },
  {
   "cell_type": "code",
   "execution_count": 37,
   "id": "5215d12b",
   "metadata": {
    "execution": {
     "iopub.execute_input": "2022-03-22T21:24:58.704642Z",
     "iopub.status.busy": "2022-03-22T21:24:58.704321Z",
     "iopub.status.idle": "2022-03-22T21:24:59.283457Z",
     "shell.execute_reply": "2022-03-22T21:24:59.284026Z"
    },
    "papermill": {
     "duration": 0.643696,
     "end_time": "2022-03-22T21:24:59.284147",
     "exception": false,
     "start_time": "2022-03-22T21:24:58.640451",
     "status": "completed"
    },
    "tags": []
   },
   "outputs": [],
   "source": [
    "uvd_PXC =hp.pstokes.construct_pstokes(uvd_PXC_, uvd_PXC_, pstokes='pI')"
   ]
  },
  {
   "cell_type": "code",
   "execution_count": 38,
   "id": "6593dd46",
   "metadata": {
    "execution": {
     "iopub.execute_input": "2022-03-22T21:24:59.392704Z",
     "iopub.status.busy": "2022-03-22T21:24:59.392371Z",
     "iopub.status.idle": "2022-03-22T21:24:59.821239Z",
     "shell.execute_reply": "2022-03-22T21:24:59.821821Z"
    },
    "papermill": {
     "duration": 0.493391,
     "end_time": "2022-03-22T21:24:59.821950",
     "exception": false,
     "start_time": "2022-03-22T21:24:59.328559",
     "status": "completed"
    },
    "tags": []
   },
   "outputs": [],
   "source": [
    "uvd = hp.pstokes.construct_pstokes(uvd_, uvd_, pstokes='pI')"
   ]
  },
  {
   "cell_type": "code",
   "execution_count": 39,
   "id": "93c78cac",
   "metadata": {
    "execution": {
     "iopub.execute_input": "2022-03-22T21:24:59.927032Z",
     "iopub.status.busy": "2022-03-22T21:24:59.926670Z",
     "iopub.status.idle": "2022-03-22T21:24:59.928739Z",
     "shell.execute_reply": "2022-03-22T21:24:59.929212Z"
    },
    "papermill": {
     "duration": 0.062247,
     "end_time": "2022-03-22T21:24:59.929313",
     "exception": false,
     "start_time": "2022-03-22T21:24:59.867066",
     "status": "completed"
    },
    "tags": []
   },
   "outputs": [],
   "source": [
    "beam = hp.PSpecBeamUV(\"/lustre/aoc/projects/hera/nkern/beams/NF_HERA_IQ_power_beam_healpix128.fits\")"
   ]
  },
  {
   "cell_type": "markdown",
   "id": "fec0d7af",
   "metadata": {
    "papermill": {
     "duration": 0.044198,
     "end_time": "2022-03-22T21:25:00.018113",
     "exception": false,
     "start_time": "2022-03-22T21:24:59.973915",
     "status": "completed"
    },
    "tags": []
   },
   "source": [
    "get the differenced visibility"
   ]
  },
  {
   "cell_type": "code",
   "execution_count": 40,
   "id": "515ec9cf",
   "metadata": {
    "execution": {
     "iopub.execute_input": "2022-03-22T21:25:00.124688Z",
     "iopub.status.busy": "2022-03-22T21:25:00.124355Z",
     "iopub.status.idle": "2022-03-22T21:25:00.332813Z",
     "shell.execute_reply": "2022-03-22T21:25:00.333316Z"
    },
    "papermill": {
     "duration": 0.272358,
     "end_time": "2022-03-22T21:25:00.333422",
     "exception": false,
     "start_time": "2022-03-22T21:25:00.061064",
     "status": "completed"
    },
    "tags": []
   },
   "outputs": [],
   "source": [
    "uvd1 = uvd.select(times=np.unique(uvd.time_array)[0:-1:2],inplace=False)\n",
    "uvd2 = uvd.select(times=np.unique(uvd.time_array)[1::2],inplace=False)\n",
    "uvd_td = copy.deepcopy(uvd1)\n",
    "uvd_td.data_array = (uvd2.data_array - uvd1.data_array)/np.sqrt(2)"
   ]
  },
  {
   "cell_type": "code",
   "execution_count": 41,
   "id": "0a7e41f8",
   "metadata": {
    "execution": {
     "iopub.execute_input": "2022-03-22T21:25:00.437730Z",
     "iopub.status.busy": "2022-03-22T21:25:00.437383Z",
     "iopub.status.idle": "2022-03-22T21:25:34.879388Z",
     "shell.execute_reply": "2022-03-22T21:25:34.879664Z"
    },
    "papermill": {
     "duration": 34.502637,
     "end_time": "2022-03-22T21:25:34.879772",
     "exception": false,
     "start_time": "2022-03-22T21:25:00.377135",
     "status": "completed"
    },
    "tags": []
   },
   "outputs": [
    {
     "name": "stderr",
     "output_type": "stream",
     "text": [
      "Casting complex values to real discards the imaginary part\n"
     ]
    },
    {
     "data": {
      "text/plain": [
       "<hera_pspec.pspecdata.PSpecData at 0x7f9c274eb7f0>"
      ]
     },
     "execution_count": 41,
     "metadata": {},
     "output_type": "execute_result"
    }
   ],
   "source": [
    "# pspec at cross time\n",
    "hp.pspecdata.pspec_run([copy.deepcopy(uvd_td)], 'pspec_crosstime.h5', groupname='pI_shortbl_timediff', spw_ranges=[(0, 180)],\n",
    "                       dset_pairs=[(0,0)], pol_pairs=['pI'], input_data_weight='identity', norm='I',\n",
    "                       rephase_to_dset=False, interleave_times=False, Jy2mK=True, overwrite=True, verbose=False,\n",
    "                       bl_len_range=bl_len_range, bl_deg_range=bl_deg_range, beam=beam, taper='bh',\n",
    "                       broadcast_dset_flags=True, time_thresh=0.99, exclude_auto_bls=True, exclude_cross_bls=False, exclude_permutations=True)"
   ]
  },
  {
   "cell_type": "code",
   "execution_count": 42,
   "id": "19f91ddc",
   "metadata": {
    "execution": {
     "iopub.execute_input": "2022-03-22T21:25:34.989661Z",
     "iopub.status.busy": "2022-03-22T21:25:34.989328Z",
     "iopub.status.idle": "2022-03-22T22:01:24.833013Z",
     "shell.execute_reply": "2022-03-22T22:01:24.833478Z"
    },
    "papermill": {
     "duration": 2149.909259,
     "end_time": "2022-03-22T22:01:24.833645",
     "exception": false,
     "start_time": "2022-03-22T21:25:34.924386",
     "status": "completed"
    },
    "scrolled": true,
    "tags": []
   },
   "outputs": [
    {
     "name": "stdout",
     "output_type": "stream",
     "text": [
      "Warning: LST bins in dsets misaligned by more than 15 seconds\n"
     ]
    },
    {
     "name": "stdout",
     "output_type": "stream",
     "text": [
      "Warning: LST bins in dsets misaligned by more than 15 seconds\n"
     ]
    },
    {
     "name": "stderr",
     "output_type": "stream",
     "text": [
      "Casting complex values to real discards the imaginary part\n"
     ]
    },
    {
     "data": {
      "text/plain": [
       "<hera_pspec.pspecdata.PSpecData at 0x7f9c277722e0>"
      ]
     },
     "execution_count": 42,
     "metadata": {},
     "output_type": "execute_result"
    }
   ],
   "source": [
    "# pspec at cross time\n",
    "hp.pspecdata.pspec_run([copy.deepcopy(uvd)], 'pspec_crosstime.h5', groupname='pI_shortbl', spw_ranges=[(0, 180)],\n",
    "                       dset_pairs=[(0,0)], pol_pairs=['pI'], input_data_weight='identity', norm='I',\n",
    "                       rephase_to_dset=True, interleave_times=True, Jy2mK=True, overwrite=True, verbose=False,\n",
    "                       bl_len_range=bl_len_range, bl_deg_range=bl_deg_range, beam=beam, taper='bh',\n",
    "                       broadcast_dset_flags=True, time_thresh=0.99, store_cov_diag=True, cov_model='foreground_dependent', \n",
    "                       exclude_auto_bls=True, exclude_cross_bls=False, exclude_permutations=True)"
   ]
  },
  {
   "cell_type": "code",
   "execution_count": 43,
   "id": "76e000de",
   "metadata": {
    "execution": {
     "iopub.execute_input": "2022-03-22T22:01:24.975947Z",
     "iopub.status.busy": "2022-03-22T22:01:24.975541Z",
     "iopub.status.idle": "2022-03-22T22:01:25.777868Z",
     "shell.execute_reply": "2022-03-22T22:01:25.778477Z"
    },
    "papermill": {
     "duration": 0.878699,
     "end_time": "2022-03-22T22:01:25.778608",
     "exception": false,
     "start_time": "2022-03-22T22:01:24.899909",
     "status": "completed"
    },
    "tags": []
   },
   "outputs": [],
   "source": [
    "psc = hp.PSpecContainer('pspec_crosstime.h5', mode='rw', keep_open=True)\n",
    "uvp_cov_fg = psc.get_pspec('pI_shortbl', 'dset0_x_dset1')"
   ]
  },
  {
   "cell_type": "code",
   "execution_count": 44,
   "id": "b64f23cc",
   "metadata": {
    "execution": {
     "iopub.execute_input": "2022-03-22T22:01:25.898993Z",
     "iopub.status.busy": "2022-03-22T22:01:25.898616Z",
     "iopub.status.idle": "2022-03-22T22:01:27.114977Z",
     "shell.execute_reply": "2022-03-22T22:01:27.115591Z"
    },
    "papermill": {
     "duration": 1.285602,
     "end_time": "2022-03-22T22:01:27.115721",
     "exception": false,
     "start_time": "2022-03-22T22:01:25.830119",
     "status": "completed"
    },
    "tags": []
   },
   "outputs": [],
   "source": [
    "auto_Tsys = hp.utils.uvd_to_Tsys(uvd, beam)\n",
    "hp.utils.uvp_noise_error(uvp_cov_fg, auto_Tsys, err_type=['P_N','P_SN'])"
   ]
  },
  {
   "cell_type": "code",
   "execution_count": 45,
   "id": "a5dd0de4",
   "metadata": {
    "execution": {
     "iopub.execute_input": "2022-03-22T22:01:27.235015Z",
     "iopub.status.busy": "2022-03-22T22:01:27.234632Z",
     "iopub.status.idle": "2022-03-22T22:01:30.178646Z",
     "shell.execute_reply": "2022-03-22T22:01:30.179718Z"
    },
    "papermill": {
     "duration": 3.013263,
     "end_time": "2022-03-22T22:01:30.179941",
     "exception": false,
     "start_time": "2022-03-22T22:01:27.166678",
     "status": "completed"
    },
    "tags": []
   },
   "outputs": [],
   "source": [
    "psc.set_pspec('pI_shortbl', 'dset0_x_dset1', uvp_cov_fg, overwrite=True)"
   ]
  },
  {
   "cell_type": "markdown",
   "id": "44bbe260",
   "metadata": {
    "papermill": {
     "duration": 0.062036,
     "end_time": "2022-03-22T22:01:30.326807",
     "exception": false,
     "start_time": "2022-03-22T22:01:30.264771",
     "status": "completed"
    },
    "tags": []
   },
   "source": [
    "## load power spectra"
   ]
  },
  {
   "cell_type": "code",
   "execution_count": 46,
   "id": "4f6fd055",
   "metadata": {
    "execution": {
     "iopub.execute_input": "2022-03-22T22:01:30.443904Z",
     "iopub.status.busy": "2022-03-22T22:01:30.443504Z",
     "iopub.status.idle": "2022-03-22T22:01:32.030756Z",
     "shell.execute_reply": "2022-03-22T22:01:32.031412Z"
    },
    "papermill": {
     "duration": 1.652513,
     "end_time": "2022-03-22T22:01:32.031548",
     "exception": false,
     "start_time": "2022-03-22T22:01:30.379035",
     "status": "completed"
    },
    "tags": []
   },
   "outputs": [],
   "source": [
    "psc = hp.PSpecContainer('pspec_crosstime.h5', keep_open=False)\n",
    "uvp_cov_fg = psc.get_pspec('pI_shortbl', 'dset0_x_dset1')\n",
    "uvp_td = psc.get_pspec('pI_shortbl_timediff', 'dset0_x_dset0')"
   ]
  },
  {
   "cell_type": "code",
   "execution_count": 47,
   "id": "20fca69d",
   "metadata": {
    "execution": {
     "iopub.execute_input": "2022-03-22T22:01:32.152923Z",
     "iopub.status.busy": "2022-03-22T22:01:32.152499Z",
     "iopub.status.idle": "2022-03-22T22:01:32.956215Z",
     "shell.execute_reply": "2022-03-22T22:01:32.956809Z"
    },
    "papermill": {
     "duration": 0.874212,
     "end_time": "2022-03-22T22:01:32.956944",
     "exception": false,
     "start_time": "2022-03-22T22:01:32.082732",
     "status": "completed"
    },
    "tags": []
   },
   "outputs": [],
   "source": [
    "psc_ = hp.PSpecContainer('pspec_nulltest.h5', keep_open=False)\n",
    "uvp_cov_n = psc_.get_pspec('pI_shortbl', 'dset0_x_dset1')"
   ]
  },
  {
   "cell_type": "code",
   "execution_count": 48,
   "id": "b9beb1af",
   "metadata": {
    "execution": {
     "iopub.execute_input": "2022-03-22T22:01:33.058992Z",
     "iopub.status.busy": "2022-03-22T22:01:33.058546Z",
     "iopub.status.idle": "2022-03-22T22:01:33.059600Z",
     "shell.execute_reply": "2022-03-22T22:01:33.059309Z"
    },
    "papermill": {
     "duration": 0.051995,
     "end_time": "2022-03-22T22:01:33.059687",
     "exception": false,
     "start_time": "2022-03-22T22:01:33.007692",
     "status": "completed"
    },
    "tags": []
   },
   "outputs": [],
   "source": [
    "delay_resolution = 1 / (uvp_cov_fg.freq_array[-1]-uvp_cov_fg.freq_array[0])*1e9"
   ]
  },
  {
   "cell_type": "markdown",
   "id": "bd56998d",
   "metadata": {
    "papermill": {
     "duration": 0.07109,
     "end_time": "2022-03-22T22:01:33.176849",
     "exception": false,
     "start_time": "2022-03-22T22:01:33.105759",
     "status": "completed"
    },
    "tags": []
   },
   "source": [
    "#### other systematics"
   ]
  },
  {
   "cell_type": "markdown",
   "id": "f4fa3ea1",
   "metadata": {
    "papermill": {
     "duration": 0.048969,
     "end_time": "2022-03-22T22:01:33.272381",
     "exception": false,
     "start_time": "2022-03-22T22:01:33.223412",
     "status": "completed"
    },
    "tags": []
   },
   "source": [
    "PXC"
   ]
  },
  {
   "cell_type": "code",
   "execution_count": 49,
   "id": "1cf7dab8",
   "metadata": {
    "execution": {
     "iopub.execute_input": "2022-03-22T22:01:33.387197Z",
     "iopub.status.busy": "2022-03-22T22:01:33.386798Z",
     "iopub.status.idle": "2022-03-22T22:38:13.291050Z",
     "shell.execute_reply": "2022-03-22T22:38:13.290532Z"
    },
    "papermill": {
     "duration": 2199.971873,
     "end_time": "2022-03-22T22:38:13.291184",
     "exception": false,
     "start_time": "2022-03-22T22:01:33.319311",
     "status": "completed"
    },
    "tags": []
   },
   "outputs": [
    {
     "name": "stdout",
     "output_type": "stream",
     "text": [
      "Warning: LST bins in dsets misaligned by more than 15 seconds\n"
     ]
    },
    {
     "name": "stdout",
     "output_type": "stream",
     "text": [
      "Warning: LST bins in dsets misaligned by more than 15 seconds\n"
     ]
    },
    {
     "name": "stderr",
     "output_type": "stream",
     "text": [
      "Casting complex values to real discards the imaginary part\n"
     ]
    },
    {
     "data": {
      "text/plain": [
       "<hera_pspec.pspecdata.PSpecData at 0x7f9c27772eb0>"
      ]
     },
     "execution_count": 49,
     "metadata": {},
     "output_type": "execute_result"
    }
   ],
   "source": [
    "# pspec at cross time\n",
    "hp.pspecdata.pspec_run([copy.deepcopy(uvd_PXC)], 'pspec_systematics.h5', groupname='pI_shortbl_fg_PXC', spw_ranges=[(0, 180)],\n",
    "                       dset_pairs=[(0,0)], pol_pairs=['pI'], input_data_weight='identity', norm='I',\n",
    "                       rephase_to_dset=True, interleave_times=True, Jy2mK=True, overwrite=True, verbose=False,\n",
    "                       bl_len_range=bl_len_range, bl_deg_range=bl_deg_range, beam=beam, taper='bh',\n",
    "                       broadcast_dset_flags=True, time_thresh=0.99, store_cov_diag=True, cov_model='foreground_dependent', \n",
    "                       exclude_auto_bls=True, exclude_cross_bls=False, exclude_permutations=True)"
   ]
  },
  {
   "cell_type": "code",
   "execution_count": 50,
   "id": "5dea8f86",
   "metadata": {
    "execution": {
     "iopub.execute_input": "2022-03-22T22:38:13.795133Z",
     "iopub.status.busy": "2022-03-22T22:38:13.794369Z",
     "iopub.status.idle": "2022-03-22T22:41:18.493682Z",
     "shell.execute_reply": "2022-03-22T22:41:18.493991Z"
    },
    "papermill": {
     "duration": 185.093916,
     "end_time": "2022-03-22T22:41:18.494115",
     "exception": false,
     "start_time": "2022-03-22T22:38:13.400199",
     "status": "completed"
    },
    "tags": []
   },
   "outputs": [
    {
     "name": "stdout",
     "output_type": "stream",
     "text": [
      "Warning: LST bins in dsets misaligned by more than 15 seconds\n"
     ]
    },
    {
     "name": "stdout",
     "output_type": "stream",
     "text": [
      "Warning: LST bins in dsets misaligned by more than 15 seconds\n"
     ]
    },
    {
     "name": "stderr",
     "output_type": "stream",
     "text": [
      "Producing time-uniform covariance matrices between bandpowers.\n",
      "Casting complex values to real discards the imaginary part\n"
     ]
    },
    {
     "data": {
      "text/plain": [
       "<hera_pspec.pspecdata.PSpecData at 0x7f9c2c944580>"
      ]
     },
     "execution_count": 50,
     "metadata": {},
     "output_type": "execute_result"
    }
   ],
   "source": [
    "# pspec at cross time\n",
    "hp.pspecdata.pspec_run([copy.deepcopy(uvd_PXC)], 'pspec_systematics.h5', groupname='pI_shortbl_noise_PXC', spw_ranges=[(0, 180)],\n",
    "                       dset_pairs=[(0,0)], pol_pairs=['pI'], input_data_weight='identity', norm='I',\n",
    "                       rephase_to_dset=True, interleave_times=True, Jy2mK=True, overwrite=True, verbose=False,\n",
    "                       bl_len_range=bl_len_range, bl_deg_range=bl_deg_range, beam=beam, taper='bh',\n",
    "                       broadcast_dset_flags=True, time_thresh=0.99, store_cov_diag=True, cov_model='autos', \n",
    "                       exclude_auto_bls=True, exclude_cross_bls=False, exclude_permutations=True)"
   ]
  },
  {
   "cell_type": "markdown",
   "id": "65769d8d",
   "metadata": {
    "papermill": {
     "duration": 0.048105,
     "end_time": "2022-03-22T22:41:18.590647",
     "exception": false,
     "start_time": "2022-03-22T22:41:18.542542",
     "status": "completed"
    },
    "tags": []
   },
   "source": [
    "P and PC"
   ]
  },
  {
   "cell_type": "code",
   "execution_count": 51,
   "id": "e338b72e",
   "metadata": {
    "execution": {
     "iopub.execute_input": "2022-03-22T22:41:18.694079Z",
     "iopub.status.busy": "2022-03-22T22:41:18.692657Z",
     "iopub.status.idle": "2022-03-22T22:41:18.694719Z",
     "shell.execute_reply": "2022-03-22T22:41:18.694413Z"
    },
    "papermill": {
     "duration": 0.055632,
     "end_time": "2022-03-22T22:41:18.694807",
     "exception": false,
     "start_time": "2022-03-22T22:41:18.639175",
     "status": "completed"
    },
    "tags": []
   },
   "outputs": [],
   "source": [
    "# LST binned, Inpainted files\n",
    "root = \"/lustre/aoc/projects/hera/H1C_IDR2/IDR2_2_pspec/v2/one_group/data/\"\n",
    "dfiles = sorted(glob.glob(root + \"zen.grp1.of1.LST.1*.HH.OCRSLP2.uvh5\"))\n",
    "dfiles[5] = sim_file"
   ]
  },
  {
   "cell_type": "code",
   "execution_count": 52,
   "id": "77a6bc88",
   "metadata": {
    "execution": {
     "iopub.execute_input": "2022-03-22T22:41:18.815512Z",
     "iopub.status.busy": "2022-03-22T22:41:18.815052Z",
     "iopub.status.idle": "2022-03-22T22:41:18.816718Z",
     "shell.execute_reply": "2022-03-22T22:41:18.815825Z"
    },
    "papermill": {
     "duration": 0.060992,
     "end_time": "2022-03-22T22:41:18.816807",
     "exception": false,
     "start_time": "2022-03-22T22:41:18.755815",
     "status": "completed"
    },
    "tags": []
   },
   "outputs": [
    {
     "data": {
      "text/plain": [
       "'fringe_rate_filter/cleaned_sim_1000_256_noise.uvh5'"
      ]
     },
     "execution_count": 52,
     "metadata": {},
     "output_type": "execute_result"
    }
   ],
   "source": [
    "dfiles[5]"
   ]
  },
  {
   "cell_type": "code",
   "execution_count": 53,
   "id": "28cb9e0c",
   "metadata": {
    "execution": {
     "iopub.execute_input": "2022-03-22T22:41:18.930769Z",
     "iopub.status.busy": "2022-03-22T22:41:18.930356Z",
     "iopub.status.idle": "2022-03-22T22:41:19.605495Z",
     "shell.execute_reply": "2022-03-22T22:41:19.606093Z"
    },
    "papermill": {
     "duration": 0.729659,
     "end_time": "2022-03-22T22:41:19.606222",
     "exception": false,
     "start_time": "2022-03-22T22:41:18.876563",
     "status": "completed"
    },
    "tags": []
   },
   "outputs": [
    {
     "name": "stdout",
     "output_type": "stream",
     "text": [
      "fringe_rate_filter/cleaned_sim_1000_256_noise.uvh5\n"
     ]
    },
    {
     "name": "stderr",
     "output_type": "stream",
     "text": [
      "Telescope hera_sim is not in known_telescopes.\n"
     ]
    }
   ],
   "source": [
    "uvd_P_ = UVData()\n",
    "print(dfiles[5])\n",
    "uvd_P_ .read(dfiles[5], read_data=False)"
   ]
  },
  {
   "cell_type": "code",
   "execution_count": 54,
   "id": "3f7ec5d2",
   "metadata": {
    "execution": {
     "iopub.execute_input": "2022-03-22T22:41:19.708841Z",
     "iopub.status.busy": "2022-03-22T22:41:19.708368Z",
     "iopub.status.idle": "2022-03-22T22:41:19.709461Z",
     "shell.execute_reply": "2022-03-22T22:41:19.709167Z"
    },
    "papermill": {
     "duration": 0.053898,
     "end_time": "2022-03-22T22:41:19.709549",
     "exception": false,
     "start_time": "2022-03-22T22:41:19.655651",
     "status": "completed"
    },
    "tags": []
   },
   "outputs": [],
   "source": [
    "xants = [0,2,11,24,50,53,54,67,69,98,122,136,139]"
   ]
  },
  {
   "cell_type": "code",
   "execution_count": 55,
   "id": "a0e46bc4",
   "metadata": {
    "execution": {
     "iopub.execute_input": "2022-03-22T22:41:19.833033Z",
     "iopub.status.busy": "2022-03-22T22:41:19.832624Z",
     "iopub.status.idle": "2022-03-22T22:41:19.848907Z",
     "shell.execute_reply": "2022-03-22T22:41:19.849511Z"
    },
    "papermill": {
     "duration": 0.085886,
     "end_time": "2022-03-22T22:41:19.849637",
     "exception": false,
     "start_time": "2022-03-22T22:41:19.763751",
     "status": "completed"
    },
    "tags": []
   },
   "outputs": [],
   "source": [
    "# short baseline group\n",
    "bl_len_range = (14, 15)\n",
    "bl_deg_range = (0, 1)\n",
    "reds, lens, angs = hp.utils.get_reds(uvd_P_, bl_len_range=bl_len_range, bl_deg_range=bl_deg_range, xants=xants)\n",
    "bls = hp.utils.flatten(reds)"
   ]
  },
  {
   "cell_type": "code",
   "execution_count": 56,
   "id": "c8c0e003",
   "metadata": {
    "execution": {
     "iopub.execute_input": "2022-03-22T22:41:19.956859Z",
     "iopub.status.busy": "2022-03-22T22:41:19.956404Z",
     "iopub.status.idle": "2022-03-22T22:41:19.957470Z",
     "shell.execute_reply": "2022-03-22T22:41:19.957175Z"
    },
    "papermill": {
     "duration": 0.054458,
     "end_time": "2022-03-22T22:41:19.957557",
     "exception": false,
     "start_time": "2022-03-22T22:41:19.903099",
     "status": "completed"
    },
    "tags": []
   },
   "outputs": [],
   "source": [
    "refcal = '/lustre/aoc/projects/hera/H1C_IDR2/IDR2_2_pspec/v2/one_group/data/zen.grp1.of1.LST.1.50345.HH.OCRSLP2.allspws.refcal_smooth.calfits'"
   ]
  },
  {
   "cell_type": "code",
   "execution_count": 57,
   "id": "f9a7cb5f",
   "metadata": {
    "execution": {
     "iopub.execute_input": "2022-03-22T22:41:20.076964Z",
     "iopub.status.busy": "2022-03-22T22:41:20.076570Z",
     "iopub.status.idle": "2022-03-22T22:42:59.115955Z",
     "shell.execute_reply": "2022-03-22T22:42:59.116565Z"
    },
    "papermill": {
     "duration": 99.109757,
     "end_time": "2022-03-22T22:42:59.116694",
     "exception": false,
     "start_time": "2022-03-22T22:41:20.006937",
     "status": "completed"
    },
    "tags": []
   },
   "outputs": [
    {
     "name": "stdout",
     "output_type": "stream",
     "text": [
      "fringe_rate_filter/cleaned_sim_1000_256_noise.uvh5\n"
     ]
    }
   ],
   "source": [
    "print(dfiles[5])\n",
    "uvd_P_.read(dfiles[5], time_range=time_range, antenna_nums=np.array(bls).flatten(), polarizations=['xx','yy'])"
   ]
  },
  {
   "cell_type": "code",
   "execution_count": 58,
   "id": "c4c76ff8",
   "metadata": {
    "execution": {
     "iopub.execute_input": "2022-03-22T22:42:59.238149Z",
     "iopub.status.busy": "2022-03-22T22:42:59.237712Z",
     "iopub.status.idle": "2022-03-22T22:42:59.905593Z",
     "shell.execute_reply": "2022-03-22T22:42:59.906172Z"
    },
    "papermill": {
     "duration": 0.73954,
     "end_time": "2022-03-22T22:42:59.906294",
     "exception": false,
     "start_time": "2022-03-22T22:42:59.166754",
     "status": "completed"
    },
    "tags": []
   },
   "outputs": [
    {
     "name": "stderr",
     "output_type": "stream",
     "text": [
      "telescope_location is not set. Using known values for HERA.\n",
      "antenna_positions is not set. Using known values for HERA.\n"
     ]
    }
   ],
   "source": [
    "uvcal_ref = UVCal()\n",
    "uvcal_ref.read_calfits(refcal)"
   ]
  },
  {
   "cell_type": "code",
   "execution_count": 59,
   "id": "387e436b",
   "metadata": {
    "execution": {
     "iopub.execute_input": "2022-03-22T22:43:00.009488Z",
     "iopub.status.busy": "2022-03-22T22:43:00.009054Z",
     "iopub.status.idle": "2022-03-22T22:43:00.010098Z",
     "shell.execute_reply": "2022-03-22T22:43:00.009797Z"
    },
    "papermill": {
     "duration": 0.054439,
     "end_time": "2022-03-22T22:43:00.010182",
     "exception": false,
     "start_time": "2022-03-22T22:42:59.955743",
     "status": "completed"
    },
    "tags": []
   },
   "outputs": [],
   "source": [
    "uvd_PC_ = uvd_P_ #uvutils.uvcalibrate(uvd_P_, uvcal_ref, inplace=False, prop_flags=True, flag_missing=True)"
   ]
  },
  {
   "cell_type": "code",
   "execution_count": 60,
   "id": "b631b1da",
   "metadata": {
    "execution": {
     "iopub.execute_input": "2022-03-22T22:43:00.129987Z",
     "iopub.status.busy": "2022-03-22T22:43:00.129610Z",
     "iopub.status.idle": "2022-03-22T22:43:00.572755Z",
     "shell.execute_reply": "2022-03-22T22:43:00.573372Z"
    },
    "papermill": {
     "duration": 0.514309,
     "end_time": "2022-03-22T22:43:00.573500",
     "exception": false,
     "start_time": "2022-03-22T22:43:00.059191",
     "status": "completed"
    },
    "tags": []
   },
   "outputs": [],
   "source": [
    "uvd_PC =hp.pstokes.construct_pstokes(uvd_PC_, uvd_PC_, pstokes='pI')"
   ]
  },
  {
   "cell_type": "code",
   "execution_count": 61,
   "id": "2df693fe",
   "metadata": {
    "execution": {
     "iopub.execute_input": "2022-03-22T22:43:00.695965Z",
     "iopub.status.busy": "2022-03-22T22:43:00.695596Z",
     "iopub.status.idle": "2022-03-22T22:43:01.141059Z",
     "shell.execute_reply": "2022-03-22T22:43:01.141662Z"
    },
    "papermill": {
     "duration": 0.51619,
     "end_time": "2022-03-22T22:43:01.141791",
     "exception": false,
     "start_time": "2022-03-22T22:43:00.625601",
     "status": "completed"
    },
    "tags": []
   },
   "outputs": [],
   "source": [
    "uvd_P = hp.pstokes.construct_pstokes(uvd_P_, uvd_P_, pstokes='pI')"
   ]
  },
  {
   "cell_type": "code",
   "execution_count": 62,
   "id": "1df2715a",
   "metadata": {
    "execution": {
     "iopub.execute_input": "2022-03-22T22:43:01.247178Z",
     "iopub.status.busy": "2022-03-22T22:43:01.246810Z",
     "iopub.status.idle": "2022-03-22T22:43:01.318775Z",
     "shell.execute_reply": "2022-03-22T22:43:01.319348Z"
    },
    "papermill": {
     "duration": 0.125933,
     "end_time": "2022-03-22T22:43:01.319471",
     "exception": false,
     "start_time": "2022-03-22T22:43:01.193538",
     "status": "completed"
    },
    "tags": []
   },
   "outputs": [],
   "source": [
    "beam = hp.PSpecBeamUV(\"/lustre/aoc/projects/hera/nkern/beams/NF_HERA_IQ_power_beam_healpix128.fits\")"
   ]
  },
  {
   "cell_type": "code",
   "execution_count": 63,
   "id": "d117a6bb",
   "metadata": {
    "execution": {
     "iopub.execute_input": "2022-03-22T22:43:01.438985Z",
     "iopub.status.busy": "2022-03-22T22:43:01.438599Z",
     "iopub.status.idle": "2022-03-22T23:19:55.222582Z",
     "shell.execute_reply": "2022-03-22T23:19:55.222883Z"
    },
    "papermill": {
     "duration": 2213.853788,
     "end_time": "2022-03-22T23:19:55.223009",
     "exception": false,
     "start_time": "2022-03-22T22:43:01.369221",
     "status": "completed"
    },
    "tags": []
   },
   "outputs": [
    {
     "name": "stdout",
     "output_type": "stream",
     "text": [
      "Warning: LST bins in dsets misaligned by more than 15 seconds\n"
     ]
    },
    {
     "name": "stdout",
     "output_type": "stream",
     "text": [
      "Warning: LST bins in dsets misaligned by more than 15 seconds\n"
     ]
    },
    {
     "name": "stderr",
     "output_type": "stream",
     "text": [
      "Casting complex values to real discards the imaginary part\n"
     ]
    },
    {
     "data": {
      "text/plain": [
       "<hera_pspec.pspecdata.PSpecData at 0x7f9c2d201af0>"
      ]
     },
     "execution_count": 63,
     "metadata": {},
     "output_type": "execute_result"
    }
   ],
   "source": [
    "# pspec at cross time\n",
    "hp.pspecdata.pspec_run([copy.deepcopy(uvd_P)], 'pspec_systematics.h5', groupname='pI_shortbl_fg_P', spw_ranges=[(0, 180)],\n",
    "                       dset_pairs=[(0,0)], pol_pairs=['pI'], input_data_weight='identity', norm='I',\n",
    "                       rephase_to_dset=True, interleave_times=True, Jy2mK=True, overwrite=True, verbose=False,\n",
    "                       bl_len_range=bl_len_range, bl_deg_range=bl_deg_range, beam=beam, taper='bh',\n",
    "                       broadcast_dset_flags=True, time_thresh=0.99, store_cov_diag=True, cov_model='foreground_dependent', \n",
    "                       exclude_auto_bls=True, exclude_cross_bls=False, exclude_permutations=True)"
   ]
  },
  {
   "cell_type": "code",
   "execution_count": 64,
   "id": "7a08981b",
   "metadata": {
    "execution": {
     "iopub.execute_input": "2022-03-22T23:19:55.349883Z",
     "iopub.status.busy": "2022-03-22T23:19:55.349474Z",
     "iopub.status.idle": "2022-03-22T23:22:58.937896Z",
     "shell.execute_reply": "2022-03-22T23:22:58.938250Z"
    },
    "papermill": {
     "duration": 183.664459,
     "end_time": "2022-03-22T23:22:58.938383",
     "exception": false,
     "start_time": "2022-03-22T23:19:55.273924",
     "status": "completed"
    },
    "tags": []
   },
   "outputs": [
    {
     "name": "stdout",
     "output_type": "stream",
     "text": [
      "Warning: LST bins in dsets misaligned by more than 15 seconds\n"
     ]
    },
    {
     "name": "stdout",
     "output_type": "stream",
     "text": [
      "Warning: LST bins in dsets misaligned by more than 15 seconds\n"
     ]
    },
    {
     "name": "stderr",
     "output_type": "stream",
     "text": [
      "Producing time-uniform covariance matrices between bandpowers.\n",
      "Casting complex values to real discards the imaginary part\n"
     ]
    },
    {
     "data": {
      "text/plain": [
       "<hera_pspec.pspecdata.PSpecData at 0x7f9c2d1c9e20>"
      ]
     },
     "execution_count": 64,
     "metadata": {},
     "output_type": "execute_result"
    }
   ],
   "source": [
    "# pspec at cross time\n",
    "hp.pspecdata.pspec_run([copy.deepcopy(uvd_P)], 'pspec_systematics.h5', groupname='pI_shortbl_noise_P', spw_ranges=[(0, 180)],\n",
    "                       dset_pairs=[(0,0)], pol_pairs=['pI'], input_data_weight='identity', norm='I',\n",
    "                       rephase_to_dset=True, interleave_times=True, Jy2mK=True, overwrite=True, verbose=False,\n",
    "                       bl_len_range=bl_len_range, bl_deg_range=bl_deg_range, beam=beam, taper='bh',\n",
    "                       broadcast_dset_flags=True, time_thresh=0.99, store_cov_diag=True, cov_model='autos', \n",
    "                       exclude_auto_bls=True, exclude_cross_bls=False, exclude_permutations=True)"
   ]
  },
  {
   "cell_type": "code",
   "execution_count": 65,
   "id": "c79b7262",
   "metadata": {
    "execution": {
     "iopub.execute_input": "2022-03-22T23:22:59.067906Z",
     "iopub.status.busy": "2022-03-22T23:22:59.067537Z",
     "iopub.status.idle": "2022-03-22T23:59:05.545559Z",
     "shell.execute_reply": "2022-03-22T23:59:05.545101Z"
    },
    "papermill": {
     "duration": 2166.549439,
     "end_time": "2022-03-22T23:59:05.545682",
     "exception": false,
     "start_time": "2022-03-22T23:22:58.996243",
     "status": "completed"
    },
    "tags": []
   },
   "outputs": [
    {
     "name": "stdout",
     "output_type": "stream",
     "text": [
      "Warning: LST bins in dsets misaligned by more than 15 seconds\n"
     ]
    },
    {
     "name": "stdout",
     "output_type": "stream",
     "text": [
      "Warning: LST bins in dsets misaligned by more than 15 seconds\n"
     ]
    },
    {
     "name": "stderr",
     "output_type": "stream",
     "text": [
      "Casting complex values to real discards the imaginary part\n"
     ]
    },
    {
     "data": {
      "text/plain": [
       "<hera_pspec.pspecdata.PSpecData at 0x7f9c2d1c94f0>"
      ]
     },
     "execution_count": 65,
     "metadata": {},
     "output_type": "execute_result"
    }
   ],
   "source": [
    "# pspec at cross time\n",
    "hp.pspecdata.pspec_run([copy.deepcopy(uvd_PC)], 'pspec_systematics.h5', groupname='pI_shortbl_fg_PC', spw_ranges=[(0, 180)],\n",
    "                       dset_pairs=[(0,0)], pol_pairs=['pI'], input_data_weight='identity', norm='I',\n",
    "                       rephase_to_dset=True, interleave_times=True, Jy2mK=True, overwrite=True, verbose=False,\n",
    "                       bl_len_range=bl_len_range, bl_deg_range=bl_deg_range, beam=beam, taper='bh',\n",
    "                       broadcast_dset_flags=True, time_thresh=0.99, store_cov_diag=True, cov_model='foreground_dependent', \n",
    "                       exclude_auto_bls=True, exclude_cross_bls=False, exclude_permutations=True)"
   ]
  },
  {
   "cell_type": "code",
   "execution_count": 66,
   "id": "166eaa56",
   "metadata": {
    "execution": {
     "iopub.execute_input": "2022-03-22T23:59:06.067482Z",
     "iopub.status.busy": "2022-03-22T23:59:06.066769Z",
     "iopub.status.idle": "2022-03-23T00:02:12.332360Z",
     "shell.execute_reply": "2022-03-23T00:02:12.332807Z"
    },
    "papermill": {
     "duration": 186.692163,
     "end_time": "2022-03-23T00:02:12.332988",
     "exception": false,
     "start_time": "2022-03-22T23:59:05.640825",
     "status": "completed"
    },
    "tags": []
   },
   "outputs": [
    {
     "name": "stdout",
     "output_type": "stream",
     "text": [
      "Warning: LST bins in dsets misaligned by more than 15 seconds\n"
     ]
    },
    {
     "name": "stdout",
     "output_type": "stream",
     "text": [
      "Warning: LST bins in dsets misaligned by more than 15 seconds\n"
     ]
    },
    {
     "name": "stderr",
     "output_type": "stream",
     "text": [
      "Producing time-uniform covariance matrices between bandpowers.\n",
      "Casting complex values to real discards the imaginary part\n"
     ]
    },
    {
     "data": {
      "text/plain": [
       "<hera_pspec.pspecdata.PSpecData at 0x7f9c2d1c9730>"
      ]
     },
     "execution_count": 66,
     "metadata": {},
     "output_type": "execute_result"
    }
   ],
   "source": [
    "# pspec at cross time\n",
    "hp.pspecdata.pspec_run([copy.deepcopy(uvd_PC)], 'pspec_systematics.h5', groupname='pI_shortbl_noise_PC', spw_ranges=[(0, 180)],\n",
    "                       dset_pairs=[(0,0)], pol_pairs=['pI'], input_data_weight='identity', norm='I',\n",
    "                       rephase_to_dset=True, interleave_times=True, Jy2mK=True, overwrite=True, verbose=False,\n",
    "                       bl_len_range=bl_len_range, bl_deg_range=bl_deg_range, beam=beam, taper='bh',\n",
    "                       broadcast_dset_flags=True, time_thresh=0.99, store_cov_diag=True, cov_model='autos', \n",
    "                       exclude_auto_bls=True, exclude_cross_bls=False, exclude_permutations=True)"
   ]
  },
  {
   "cell_type": "markdown",
   "id": "4dfb0e3b",
   "metadata": {
    "papermill": {
     "duration": 0.058876,
     "end_time": "2022-03-23T00:02:12.463639",
     "exception": false,
     "start_time": "2022-03-23T00:02:12.404763",
     "status": "completed"
    },
    "tags": []
   },
   "source": [
    "### some parameters"
   ]
  },
  {
   "cell_type": "code",
   "execution_count": 67,
   "id": "7ea45be6",
   "metadata": {
    "execution": {
     "iopub.execute_input": "2022-03-23T00:02:12.575033Z",
     "iopub.status.busy": "2022-03-23T00:02:12.574548Z",
     "iopub.status.idle": "2022-03-23T00:02:12.576247Z",
     "shell.execute_reply": "2022-03-23T00:02:12.575352Z"
    },
    "papermill": {
     "duration": 0.059736,
     "end_time": "2022-03-23T00:02:12.576340",
     "exception": false,
     "start_time": "2022-03-23T00:02:12.516604",
     "status": "completed"
    },
    "tags": []
   },
   "outputs": [
    {
     "data": {
      "text/plain": [
       "30"
      ]
     },
     "execution_count": 67,
     "metadata": {},
     "output_type": "execute_result"
    }
   ],
   "source": [
    "uvp_cov_fg.Ntimes"
   ]
  },
  {
   "cell_type": "code",
   "execution_count": 68,
   "id": "8985f889",
   "metadata": {
    "execution": {
     "iopub.execute_input": "2022-03-23T00:02:12.688918Z",
     "iopub.status.busy": "2022-03-23T00:02:12.688414Z",
     "iopub.status.idle": "2022-03-23T00:02:12.690229Z",
     "shell.execute_reply": "2022-03-23T00:02:12.689260Z"
    },
    "papermill": {
     "duration": 0.061107,
     "end_time": "2022-03-23T00:02:12.690326",
     "exception": false,
     "start_time": "2022-03-23T00:02:12.629219",
     "status": "completed"
    },
    "tags": []
   },
   "outputs": [
    {
     "data": {
      "text/plain": [
       "array([2458116.52588191, 2458116.52637913, 2458116.52687635,\n",
       "       2458116.52737358, 2458116.5278708 , 2458116.52836802,\n",
       "       2458116.52886524, 2458116.52936246, 2458116.52985969,\n",
       "       2458116.53035691, 2458116.53085413, 2458116.53135135,\n",
       "       2458116.53184857, 2458116.5323458 , 2458116.53284302,\n",
       "       2458116.53334024, 2458116.53383746, 2458116.53433469,\n",
       "       2458116.53483191, 2458116.53532913, 2458116.53582635,\n",
       "       2458116.53632358, 2458116.5368208 , 2458116.53731802,\n",
       "       2458116.53781524, 2458116.53831246, 2458116.53880969,\n",
       "       2458116.53930691, 2458116.53980413, 2458116.54030135])"
      ]
     },
     "execution_count": 68,
     "metadata": {},
     "output_type": "execute_result"
    }
   ],
   "source": [
    "np.unique(uvp_cov_fg.time_avg_array)"
   ]
  },
  {
   "cell_type": "code",
   "execution_count": 69,
   "id": "f8cd67ca",
   "metadata": {
    "execution": {
     "iopub.execute_input": "2022-03-23T00:02:12.807885Z",
     "iopub.status.busy": "2022-03-23T00:02:12.807387Z",
     "iopub.status.idle": "2022-03-23T00:02:12.809168Z",
     "shell.execute_reply": "2022-03-23T00:02:12.808231Z"
    },
    "papermill": {
     "duration": 0.061484,
     "end_time": "2022-03-23T00:02:12.809266",
     "exception": false,
     "start_time": "2022-03-23T00:02:12.747782",
     "status": "completed"
    },
    "tags": []
   },
   "outputs": [
    {
     "data": {
      "text/plain": [
       "42.9599997812304"
      ]
     },
     "execution_count": 69,
     "metadata": {},
     "output_type": "execute_result"
    }
   ],
   "source": [
    "np.mean(np.diff(np.unique(uvp_cov_fg.time_avg_array)))*24*3600"
   ]
  },
  {
   "cell_type": "code",
   "execution_count": 70,
   "id": "4a07ea1b",
   "metadata": {
    "execution": {
     "iopub.execute_input": "2022-03-23T00:02:12.927287Z",
     "iopub.status.busy": "2022-03-23T00:02:12.926754Z",
     "iopub.status.idle": "2022-03-23T00:02:12.928591Z",
     "shell.execute_reply": "2022-03-23T00:02:12.927630Z"
    },
    "papermill": {
     "duration": 0.061789,
     "end_time": "2022-03-23T00:02:12.928690",
     "exception": false,
     "start_time": "2022-03-23T00:02:12.866901",
     "status": "completed"
    },
    "tags": []
   },
   "outputs": [
    {
     "data": {
      "text/plain": [
       "43.07762154491905"
      ]
     },
     "execution_count": 70,
     "metadata": {},
     "output_type": "execute_result"
    }
   ],
   "source": [
    "np.mean(np.diff(np.unique(uvp_cov_fg.lst_avg_array)))/2/np.pi*24*3600"
   ]
  },
  {
   "cell_type": "code",
   "execution_count": 71,
   "id": "9ee12fb8",
   "metadata": {
    "execution": {
     "iopub.execute_input": "2022-03-23T00:02:13.046693Z",
     "iopub.status.busy": "2022-03-23T00:02:13.046214Z",
     "iopub.status.idle": "2022-03-23T00:02:13.048004Z",
     "shell.execute_reply": "2022-03-23T00:02:13.047048Z"
    },
    "papermill": {
     "duration": 0.06171,
     "end_time": "2022-03-23T00:02:13.048100",
     "exception": false,
     "start_time": "2022-03-23T00:02:12.986390",
     "status": "completed"
    },
    "tags": []
   },
   "outputs": [
    {
     "data": {
      "text/plain": [
       "array([8.5607654 , 8.57273141, 8.58469741, 8.59666342, 8.60862942,\n",
       "       8.62059543, 8.63256144, 8.64452744, 8.65649345, 8.66845945,\n",
       "       8.68042545, 8.69239147, 8.70435747, 8.71632347, 8.72828948,\n",
       "       8.74025548, 8.75222149, 8.76418749, 8.7761535 , 8.78811951,\n",
       "       8.80008551, 8.81205152, 8.82401752, 8.83598353, 8.84794954,\n",
       "       8.85991554, 8.87188155, 8.88384755, 8.89581356, 8.90777957])"
      ]
     },
     "execution_count": 71,
     "metadata": {},
     "output_type": "execute_result"
    }
   ],
   "source": [
    "np.unique(uvp_cov_fg.lst_avg_array)/2/np.pi*24"
   ]
  },
  {
   "cell_type": "code",
   "execution_count": 72,
   "id": "eaaecfe9",
   "metadata": {
    "execution": {
     "iopub.execute_input": "2022-03-23T00:02:13.166583Z",
     "iopub.status.busy": "2022-03-23T00:02:13.166124Z",
     "iopub.status.idle": "2022-03-23T00:02:13.167791Z",
     "shell.execute_reply": "2022-03-23T00:02:13.166910Z"
    },
    "papermill": {
     "duration": 0.061254,
     "end_time": "2022-03-23T00:02:13.167889",
     "exception": false,
     "start_time": "2022-03-23T00:02:13.106635",
     "status": "completed"
    },
    "tags": []
   },
   "outputs": [
    {
     "data": {
      "text/plain": [
       "(117.48046875, 100.0)"
      ]
     },
     "execution_count": 72,
     "metadata": {},
     "output_type": "execute_result"
    }
   ],
   "source": [
    "uvp_cov_fg.freq_array[-1]/1e6, uvp_cov_fg.freq_array[0]/1e6"
   ]
  },
  {
   "cell_type": "markdown",
   "id": "65f28cc0",
   "metadata": {
    "papermill": {
     "duration": 0.053911,
     "end_time": "2022-03-23T00:02:13.275203",
     "exception": false,
     "start_time": "2022-03-23T00:02:13.221292",
     "status": "completed"
    },
    "tags": []
   },
   "source": [
    "## make plots"
   ]
  },
  {
   "cell_type": "code",
   "execution_count": 73,
   "id": "201f8188",
   "metadata": {
    "execution": {
     "iopub.execute_input": "2022-03-23T00:02:13.392708Z",
     "iopub.status.busy": "2022-03-23T00:02:13.392232Z",
     "iopub.status.idle": "2022-03-23T00:02:13.393858Z",
     "shell.execute_reply": "2022-03-23T00:02:13.393035Z"
    },
    "papermill": {
     "duration": 0.064618,
     "end_time": "2022-03-23T00:02:13.393955",
     "exception": false,
     "start_time": "2022-03-23T00:02:13.329337",
     "status": "completed"
    },
    "tags": []
   },
   "outputs": [
    {
     "name": "stderr",
     "output_type": "stream",
     "text": [
      "invalid value encountered in true_divide\n"
     ]
    }
   ],
   "source": [
    "key = uvp_cov_fg.get_all_keys()[0]\n",
    "dlys = uvp_cov_fg.get_dlys(key[0]) * 1e9\n",
    "kparas = uvp_cov_fg.get_kparas(key[0])\n",
    "tau2k = (kparas/dlys)[0]"
   ]
  },
  {
   "cell_type": "code",
   "execution_count": 74,
   "id": "71fa54a3",
   "metadata": {
    "execution": {
     "iopub.execute_input": "2022-03-23T00:02:13.511536Z",
     "iopub.status.busy": "2022-03-23T00:02:13.511030Z",
     "iopub.status.idle": "2022-03-23T00:02:13.512825Z",
     "shell.execute_reply": "2022-03-23T00:02:13.511884Z"
    },
    "papermill": {
     "duration": 0.065111,
     "end_time": "2022-03-23T00:02:13.512934",
     "exception": false,
     "start_time": "2022-03-23T00:02:13.447823",
     "status": "completed"
    },
    "tags": []
   },
   "outputs": [
    {
     "data": {
      "text/plain": [
       "276"
      ]
     },
     "execution_count": 74,
     "metadata": {},
     "output_type": "execute_result"
    }
   ],
   "source": [
    "len(uvp_cov_fg.get_all_keys())"
   ]
  },
  {
   "cell_type": "code",
   "execution_count": 75,
   "id": "37d9d15a",
   "metadata": {
    "execution": {
     "iopub.execute_input": "2022-03-23T00:02:13.644744Z",
     "iopub.status.busy": "2022-03-23T00:02:13.644219Z",
     "iopub.status.idle": "2022-03-23T00:02:13.645911Z",
     "shell.execute_reply": "2022-03-23T00:02:13.645079Z"
    },
    "papermill": {
     "duration": 0.074212,
     "end_time": "2022-03-23T00:02:13.646005",
     "exception": false,
     "start_time": "2022-03-23T00:02:13.571793",
     "status": "completed"
    },
    "tags": []
   },
   "outputs": [
    {
     "name": "stdout",
     "output_type": "stream",
     "text": [
      "(0, ((12, 13), (13, 14)), ('pI', 'pI'))\n"
     ]
    }
   ],
   "source": [
    "print(key)"
   ]
  },
  {
   "cell_type": "code",
   "execution_count": 76,
   "id": "6c842407",
   "metadata": {
    "execution": {
     "iopub.execute_input": "2022-03-23T00:02:13.795575Z",
     "iopub.status.busy": "2022-03-23T00:02:13.795128Z",
     "iopub.status.idle": "2022-03-23T00:02:13.824035Z",
     "shell.execute_reply": "2022-03-23T00:02:13.823669Z"
    },
    "papermill": {
     "duration": 0.123474,
     "end_time": "2022-03-23T00:02:13.824153",
     "exception": false,
     "start_time": "2022-03-23T00:02:13.700679",
     "status": "completed"
    },
    "tags": []
   },
   "outputs": [],
   "source": [
    "def tau2k_(x):\n",
    "    return x * tau2k\n",
    "def k2tau_(x):\n",
    "    return x / tau2k"
   ]
  },
  {
   "cell_type": "code",
   "execution_count": 77,
   "id": "9e898e01",
   "metadata": {
    "execution": {
     "iopub.execute_input": "2022-03-23T00:02:13.954074Z",
     "iopub.status.busy": "2022-03-23T00:02:13.953518Z",
     "iopub.status.idle": "2022-03-23T00:02:13.954714Z",
     "shell.execute_reply": "2022-03-23T00:02:13.954404Z"
    },
    "papermill": {
     "duration": 0.075678,
     "end_time": "2022-03-23T00:02:13.954805",
     "exception": false,
     "start_time": "2022-03-23T00:02:13.879127",
     "status": "completed"
    },
    "tags": []
   },
   "outputs": [],
   "source": [
    "from matplotlib.ticker import Locator\n",
    "class MinorSymLogLocator(Locator):\n",
    "    \"\"\"\n",
    "    Dynamically find minor tick positions based on the positions of\n",
    "    major ticks for a symlog scaling.\n",
    "    \"\"\"\n",
    "    def __init__(self, linthresh):\n",
    "        \"\"\"\n",
    "        Ticks will be placed between the major ticks.\n",
    "        The placement is linear for x between -linthresh and linthresh,\n",
    "        otherwise its logarithmically\n",
    "        \"\"\"\n",
    "        self.linthresh = linthresh\n",
    "\n",
    "    def __call__(self):\n",
    "        'Return the locations of the ticks'\n",
    "        majorlocs = self.axis.get_majorticklocs()\n",
    "\n",
    "        # iterate through minor locs\n",
    "        minorlocs = []\n",
    "\n",
    "        # handle the lowest part\n",
    "        for i in range(1, len(majorlocs)):\n",
    "            majorstep = majorlocs[i] - majorlocs[i-1]\n",
    "            if abs(majorlocs[i-1] + majorstep/2) < self.linthresh:\n",
    "                ndivs = 10\n",
    "            else:\n",
    "                ndivs = 9\n",
    "            minorstep = majorstep / ndivs\n",
    "            locs = np.arange(majorlocs[i-1], majorlocs[i], minorstep)[1:]\n",
    "            minorlocs.extend(locs)\n",
    "\n",
    "        return self.raise_if_exceeds(np.array(minorlocs))\n",
    "\n",
    "    def tick_values(self, vmin, vmax):\n",
    "        raise NotImplementedError('Cannot get tick locations for a '\n",
    "                                  '%s type.' % type(self))"
   ]
  },
  {
   "cell_type": "code",
   "execution_count": 78,
   "id": "466ce7dd",
   "metadata": {
    "execution": {
     "iopub.execute_input": "2022-03-23T00:02:14.073866Z",
     "iopub.status.busy": "2022-03-23T00:02:14.073361Z",
     "iopub.status.idle": "2022-03-23T00:02:14.074499Z",
     "shell.execute_reply": "2022-03-23T00:02:14.074197Z"
    },
    "papermill": {
     "duration": 0.065135,
     "end_time": "2022-03-23T00:02:14.074590",
     "exception": false,
     "start_time": "2022-03-23T00:02:14.009455",
     "status": "completed"
    },
    "tags": []
   },
   "outputs": [],
   "source": [
    "time_index = 0\n",
    "# Dicts of colors\n",
    "color_list = odict()\n",
    "# Dicts of labels\n",
    "label_list = odict()\n",
    "# Dicts of error bars\n",
    "error_list = odict()\n",
    "linestyle_list = odict()\n",
    "\n",
    "# The extra kinds of error bars\n",
    "error_list['PSN'] = uvp_cov_fg.get_stats('P_SN', key)[time_index].real\n",
    "label_list['PSN'] = r'$P_\\mathrm{SN}$'\n",
    "color_list['PSN'] = 'darkcyan' \n",
    "linestyle_list['PSN'] = \"-\"\n",
    "error_list['PN'] = uvp_cov_fg.get_stats('P_N', key)[time_index].real\n",
    "label_list['PN'] = r'$P_\\mathrm{N}$'\n",
    "color_list['PN'] = 'tomato' \n",
    "linestyle_list['PN'] = \"-\"\n",
    "# The power spectra of time difference data as error bars in noise dominant regions, \n",
    "error_list['fg'] = uvp_cov_fg.get_stats('foreground_dependent_diag', key)[time_index].real\n",
    "label_list['fg'] = r\"$\\sigma_\\mathrm{QE-SN}$\"\n",
    "color_list['fg'] = 'limegreen' \n",
    "linestyle_list['fg'] = \"-\"\n",
    "error_list['noise'] = uvp_cov_n.get_stats('autos_diag', key)[time_index].real\n",
    "label_list['noise'] = r\"$\\sigma_\\mathrm{QE-N}$\"\n",
    "color_list['noise'] = 'darkred' \n",
    "linestyle_list['noise'] = \"-\"\n",
    "error_list['Pdiff'] = np.abs(uvp_td.get_data(key)[time_index].real)\n",
    "color_list['Pdiff'] = 'orange' \n",
    "label_list['Pdiff'] = r'$P_\\mathrm{diff}$'\n",
    "linestyle_list['Pdiff'] = \"-.\"\n",
    "for error_type in error_list.keys():  \n",
    "    error_list[error_type] = np.array(error_list[error_type]).reshape(-1)\n",
    "\n",
    "# The power spectrum\n",
    "ps = (uvp_cov_fg.get_data(key)[time_index].real).reshape(-1)"
   ]
  },
  {
   "cell_type": "code",
   "execution_count": 79,
   "id": "924f3ac5",
   "metadata": {
    "execution": {
     "iopub.execute_input": "2022-03-23T00:02:14.205755Z",
     "iopub.status.busy": "2022-03-23T00:02:14.205330Z",
     "iopub.status.idle": "2022-03-23T00:02:17.384092Z",
     "shell.execute_reply": "2022-03-23T00:02:17.157012Z"
    },
    "papermill": {
     "duration": 3.255166,
     "end_time": "2022-03-23T00:02:17.384313",
     "exception": false,
     "start_time": "2022-03-23T00:02:14.129147",
     "status": "completed"
    },
    "tags": []
   },
   "outputs": [
    {
     "name": "stderr",
     "output_type": "stream",
     "text": [
      "divide by zero encountered in true_divide\n",
      "invalid value encountered in true_divide\n",
      "invalid value encountered in true_divide\n",
      "invalid value encountered in true_divide\n"
     ]
    },
    {
     "data": {
      "text/plain": [
       "<matplotlib.lines.Line2D at 0x7f9c2d4613d0>"
      ]
     },
     "execution_count": 79,
     "metadata": {},
     "output_type": "execute_result"
    },
    {
     "data": {
      "image/png": "[encoded data removed]",
      "text/plain": [
       "<Figure size 1152x1080 with 3 Axes>"
      ]
     },
     "metadata": {
      "needs_background": "light"
     },
     "output_type": "display_data"
    }
   ],
   "source": [
    "fig = plt.figure(figsize=(16,15), constrained_layout=True)\n",
    "gs = fig.add_gridspec(3, 2, wspace=0.02)\n",
    "psunits = uvp_cov_fg.units\n",
    "if \"h^-1\" in psunits: psunits = psunits.replace(\"h^-1\", \"h^{-1}\")\n",
    "if \"h^-3\" in psunits: psunits = psunits.replace(\"h^-3\", \"h^{-3}\")\n",
    "if \"Mpc\" in psunits and \"\\\\rm\" not in psunits: \n",
    "    psunits = psunits.replace(\"Mpc\", r\"{\\rm Mpc}\")\n",
    "if \"pi\" in psunits and \"\\\\pi\" not in psunits: \n",
    "    psunits = psunits.replace(\"pi\", r\"\\pi\")\n",
    "    \n",
    "# Plot different kinds of error bars\n",
    "ax = fig.add_subplot(gs[0,:])\n",
    "ax.plot(dlys[ps>=0.], ps[ps>=0.], \".\", label='power spectra'+ r'$(+)$', c='k', markersize=8, alpha = 0.6)\n",
    "ax.plot(dlys[ps<0.], np.abs(ps[ps<0.]), \".\", fillstyle='none', label='power spectra'+ r'$(-)$', c='k', markersize=8, alpha = 0.6)\n",
    "ax.set_xlim(-3000,3000)\n",
    "for error_type in error_list.keys():\n",
    "    ax.plot(dlys, error_list[error_type], ls=linestyle_list[error_type],label=label_list[error_type], c=color_list[error_type], lw=2)\n",
    "ax.set_ylabel(\"$P(k_\\parallel)$ $[%s]$\" % psunits, fontsize=16)\n",
    "#ax.set_xlabel(r\"$\\tau$ $[{\\rm ns}]$\", fontsize=20)\n",
    "ax.set_xticklabels([])\n",
    "ax.tick_params(axis='both', which='both', labelsize=16)\n",
    "ax.xaxis.set_minor_locator(ticker.MultipleLocator(500))\n",
    "ax.semilogy()\n",
    "ax.minorticks_on()\n",
    "ax.yaxis.set_minor_locator(ticker.LogLocator(base=10, subs=[0.2,0.4,0.6,0.8], numticks=20))\n",
    "ax.yaxis.set_minor_formatter(ticker.NullFormatter())\n",
    "ax.grid()\n",
    "ax.legend(loc='upper right', fontsize=14, ncol=3)\n",
    "ax.set_title('A single-time instance of power spectra from the HERA Phase I Data', bbox=dict(fc='wheat', alpha=0.5), fontsize=20, pad=15)\n",
    "ax.axvspan(-200, -20, facecolor='#2ca02c', alpha=0.2)\n",
    "ax.axvspan(20, 200, facecolor='#2ca02c', alpha=0.2)\n",
    "\n",
    "ax1 = ax.secondary_xaxis('top', functions=(tau2k_, k2tau_))\n",
    "ax1.tick_params(axis='both', which='both', labelsize=16, direction='out')\n",
    "ax1.xaxis.set_major_locator(ticker.MultipleLocator(1))\n",
    "ax1.xaxis.set_minor_locator(ticker.MultipleLocator(0.2))\n",
    "ax1.set_xlabel(r\"$k_\\parallel [h {\\rm Mpc}^{-1}]$\", fontsize=16)\n",
    "\n",
    "#handles, labels = ax.get_legend_handles_labels()\n",
    "#fig.legend(handles, labels, bbox_to_anchor=(0.53,1.15), loc='upper center', fontsize=14, ncol=3,)\n",
    "#fig.tight_layout()\n",
    "\n",
    "# Plot ratios of different kinds of error bars\n",
    "ax = fig.add_subplot(gs[1,:])\n",
    "for error_type in ['Pdiff','PN','fg']:\n",
    "    ax.plot(dlys, np.abs(error_list[error_type]/error_list['noise']-1), ls=linestyle_list[error_type],label=label_list[error_type], c=color_list[error_type], lw=2)\n",
    "ax.set_xticklabels([])\n",
    "ax.tick_params(axis='both', which='both', labelsize=16)\n",
    "ax.grid()\n",
    "ax.semilogy()\n",
    "ax.set_ylim(1e-3,1)\n",
    "ax.set_xlim(-3000,3000)\n",
    "ax.set_ylabel(\"abs\" + r\"$\\left(\\frac{\\sigma-\\sigma_{\\rm QE-N}}{\\sigma_{\\rm QE-N}}\\right)$\", fontsize=20)\n",
    "#ax.yaxis.set_minor_locator(MinorSymLogLocator(0.01))\n",
    "#ax.yaxis.set_minor_formatter(ticker.NullFormatter())\n",
    "ax.xaxis.set_minor_locator(ticker.MultipleLocator(500))\n",
    "ax.axvspan(-200, -20, facecolor='#2ca02c', alpha=0.2)\n",
    "ax.axvspan(20, 200, facecolor='#2ca02c', alpha=0.2)\n",
    "ax.axhline(y=0, c='k', lw=3)\n",
    "\n",
    "ax = fig.add_subplot(gs[2,:])\n",
    "for error_type in ['PSN']:\n",
    "    ax.plot(dlys, np.abs(error_list[error_type]/error_list['fg']-1), ls=linestyle_list[error_type], label=label_list[error_type], c=color_list[error_type], lw=2)\n",
    "ax.set_xlabel(r\"$\\tau$ $[{\\rm ns}]$\", fontsize=16)\n",
    "ax.tick_params(axis='both', which='both', labelsize=16)\n",
    "ax.grid()\n",
    "ax.set_xlim(-3000,3000)\n",
    "ax.semilogy()\n",
    "ax.set_ylim(1e-3,1)\n",
    "ax.xaxis.set_minor_locator(ticker.MultipleLocator(500))\n",
    "ax.set_ylabel(\"abs\" + r\"$\\left(\\frac{\\sigma-\\sigma_{\\rm QE-SN}}{\\sigma_{\\rm QE-SN}}\\right)$\", fontsize=20)\n",
    "ax.axvspan(-200, -20, facecolor='#2ca02c', alpha=0.2)\n",
    "ax.axvspan(20, 200, facecolor='#2ca02c', alpha=0.2)\n",
    "ax.axhline(y=0, c='k', lw=3)"
   ]
  },
  {
   "cell_type": "markdown",
   "id": "e0aad5df",
   "metadata": {
    "papermill": {
     "duration": 0.076427,
     "end_time": "2022-03-23T00:02:17.574681",
     "exception": false,
     "start_time": "2022-03-23T00:02:17.498254",
     "status": "completed"
    },
    "tags": []
   },
   "source": [
    "get the time average"
   ]
  },
  {
   "cell_type": "code",
   "execution_count": 80,
   "id": "1ceefa98",
   "metadata": {
    "execution": {
     "iopub.execute_input": "2022-03-23T00:02:17.702455Z",
     "iopub.status.busy": "2022-03-23T00:02:17.701950Z",
     "iopub.status.idle": "2022-03-23T00:02:17.703091Z",
     "shell.execute_reply": "2022-03-23T00:02:17.702777Z"
    },
    "papermill": {
     "duration": 0.066105,
     "end_time": "2022-03-23T00:02:17.703186",
     "exception": false,
     "start_time": "2022-03-23T00:02:17.637081",
     "status": "completed"
    },
    "tags": []
   },
   "outputs": [],
   "source": [
    "new_stats_array = odict()\n",
    "new_stats_array.update({'Pdiff_err': {0: np.abs(uvp_td.data_array[0].real)}})\n",
    "new_stats_array.update(uvp_cov_fg.stats_array)"
   ]
  },
  {
   "cell_type": "code",
   "execution_count": 81,
   "id": "4c3bbab3",
   "metadata": {
    "execution": {
     "iopub.execute_input": "2022-03-23T00:02:17.821430Z",
     "iopub.status.busy": "2022-03-23T00:02:17.820955Z",
     "iopub.status.idle": "2022-03-23T00:02:17.822048Z",
     "shell.execute_reply": "2022-03-23T00:02:17.821745Z"
    },
    "papermill": {
     "duration": 0.061921,
     "end_time": "2022-03-23T00:02:17.822137",
     "exception": false,
     "start_time": "2022-03-23T00:02:17.760216",
     "status": "completed"
    },
    "tags": []
   },
   "outputs": [],
   "source": [
    "uvp_cov_fg.stats_array = new_stats_array"
   ]
  },
  {
   "cell_type": "code",
   "execution_count": 82,
   "id": "eb422fde",
   "metadata": {
    "execution": {
     "iopub.execute_input": "2022-03-23T00:02:17.948594Z",
     "iopub.status.busy": "2022-03-23T00:02:17.948100Z",
     "iopub.status.idle": "2022-03-23T00:02:17.949731Z",
     "shell.execute_reply": "2022-03-23T00:02:17.948918Z"
    },
    "papermill": {
     "duration": 0.07056,
     "end_time": "2022-03-23T00:02:17.949825",
     "exception": false,
     "start_time": "2022-03-23T00:02:17.879265",
     "status": "completed"
    },
    "tags": []
   },
   "outputs": [
    {
     "name": "stdout",
     "output_type": "stream",
     "text": [
      "30\n"
     ]
    }
   ],
   "source": [
    "print(uvp_cov_fg.Ntimes)"
   ]
  },
  {
   "cell_type": "code",
   "execution_count": 83,
   "id": "d8fdac50",
   "metadata": {
    "execution": {
     "iopub.execute_input": "2022-03-23T00:02:18.085006Z",
     "iopub.status.busy": "2022-03-23T00:02:18.084633Z",
     "iopub.status.idle": "2022-03-23T00:02:21.010220Z",
     "shell.execute_reply": "2022-03-23T00:02:21.010997Z"
    },
    "papermill": {
     "duration": 3.003834,
     "end_time": "2022-03-23T00:02:21.011129",
     "exception": false,
     "start_time": "2022-03-23T00:02:18.007295",
     "status": "completed"
    },
    "tags": []
   },
   "outputs": [],
   "source": [
    "uvp_cov_fg_uni = uvp_cov_fg.average_spectra(time_avg=True, error_weights=None, error_field=['Pdiff_err',\"foreground_dependent_diag\", \"P_N\",\"P_SN\"],\n",
    "                              inplace=False)"
   ]
  },
  {
   "cell_type": "code",
   "execution_count": 84,
   "id": "ac18a97b",
   "metadata": {
    "execution": {
     "iopub.execute_input": "2022-03-23T00:02:21.163999Z",
     "iopub.status.busy": "2022-03-23T00:02:21.163622Z",
     "iopub.status.idle": "2022-03-23T00:02:23.734515Z",
     "shell.execute_reply": "2022-03-23T00:02:23.735225Z"
    },
    "papermill": {
     "duration": 2.659123,
     "end_time": "2022-03-23T00:02:23.735356",
     "exception": false,
     "start_time": "2022-03-23T00:02:21.076233",
     "status": "completed"
    },
    "tags": []
   },
   "outputs": [],
   "source": [
    "uvp_cov_n_uni = uvp_cov_n.average_spectra(time_avg=True, error_weights=None, error_field=[\"autos_diag\"], inplace=False)"
   ]
  },
  {
   "cell_type": "code",
   "execution_count": 85,
   "id": "7af592c1",
   "metadata": {
    "execution": {
     "iopub.execute_input": "2022-03-23T00:02:23.862682Z",
     "iopub.status.busy": "2022-03-23T00:02:23.862138Z",
     "iopub.status.idle": "2022-03-23T00:02:23.863382Z",
     "shell.execute_reply": "2022-03-23T00:02:23.863051Z"
    },
    "papermill": {
     "duration": 0.06934,
     "end_time": "2022-03-23T00:02:23.863478",
     "exception": false,
     "start_time": "2022-03-23T00:02:23.794138",
     "status": "completed"
    },
    "tags": []
   },
   "outputs": [],
   "source": [
    "key = uvp_cov_fg_uni.get_all_keys()[0]\n",
    "error_tavg_list = odict()\n",
    "error_tavg_list['PSN'] = uvp_cov_fg_uni.get_stats('P_SN', key)[0].real\n",
    "error_tavg_list['PN'] = uvp_cov_fg_uni.get_stats('P_N', key)[0].real\n",
    "error_tavg_list['fg'] = uvp_cov_fg_uni.get_stats('foreground_dependent_diag', key)[0].real\n",
    "error_tavg_list['noise'] = uvp_cov_n_uni.get_stats('autos_diag', key)[0].real\n",
    "error_tavg_list['Pdiff'] = uvp_cov_fg_uni.get_stats('Pdiff_err', key)[0].real\n",
    "# The power spectrum\n",
    "ps_tavg = (uvp_cov_fg_uni.get_data(key)[0].real).reshape(-1)"
   ]
  },
  {
   "cell_type": "markdown",
   "id": "b08bbcda",
   "metadata": {
    "papermill": {
     "duration": 0.058166,
     "end_time": "2022-03-23T00:02:23.983904",
     "exception": false,
     "start_time": "2022-03-23T00:02:23.925738",
     "status": "completed"
    },
    "tags": []
   },
   "source": [
    "bootstrap"
   ]
  },
  {
   "cell_type": "code",
   "execution_count": 86,
   "id": "1bd51cbb",
   "metadata": {
    "execution": {
     "iopub.execute_input": "2022-03-23T00:02:24.151551Z",
     "iopub.status.busy": "2022-03-23T00:02:24.150941Z",
     "iopub.status.idle": "2022-03-23T00:02:24.261640Z",
     "shell.execute_reply": "2022-03-23T00:02:24.262316Z"
    },
    "papermill": {
     "duration": 0.22111,
     "end_time": "2022-03-23T00:02:24.262458",
     "exception": false,
     "start_time": "2022-03-23T00:02:24.041348",
     "status": "completed"
    },
    "tags": []
   },
   "outputs": [],
   "source": [
    "boots = []\n",
    "spectra = uvp_cov_fg.get_data(key)\n",
    "for i in range(2000):\n",
    "    _select = np.random.choice(np.arange(spectra.shape[0]), spectra.shape[0], replace=True)\n",
    "    boots.append(np.mean(spectra[_select,:], axis=0))\n",
    "error_tavg_list['boot'] = np.std(np.real(boots), axis=0)"
   ]
  },
  {
   "cell_type": "code",
   "execution_count": 87,
   "id": "8a1f87d0",
   "metadata": {
    "execution": {
     "iopub.execute_input": "2022-03-23T00:02:24.387137Z",
     "iopub.status.busy": "2022-03-23T00:02:24.386632Z",
     "iopub.status.idle": "2022-03-23T00:02:24.387752Z",
     "shell.execute_reply": "2022-03-23T00:02:24.387454Z"
    },
    "papermill": {
     "duration": 0.062908,
     "end_time": "2022-03-23T00:02:24.387849",
     "exception": false,
     "start_time": "2022-03-23T00:02:24.324941",
     "status": "completed"
    },
    "tags": []
   },
   "outputs": [],
   "source": [
    "label_list['boot'] = r\"$\\sigma_\\mathrm{bs}$\"\n",
    "color_list['boot'] = 'indigo'\n",
    "linestyle_list['boot'] = '-.'"
   ]
  },
  {
   "cell_type": "code",
   "execution_count": 88,
   "id": "cac55c2d",
   "metadata": {
    "execution": {
     "iopub.execute_input": "2022-03-23T00:02:24.507685Z",
     "iopub.status.busy": "2022-03-23T00:02:24.507205Z",
     "iopub.status.idle": "2022-03-23T00:02:24.508313Z",
     "shell.execute_reply": "2022-03-23T00:02:24.508014Z"
    },
    "papermill": {
     "duration": 0.062944,
     "end_time": "2022-03-23T00:02:24.508402",
     "exception": false,
     "start_time": "2022-03-23T00:02:24.445458",
     "status": "completed"
    },
    "tags": []
   },
   "outputs": [],
   "source": [
    "for error_type in error_tavg_list.keys():  \n",
    "    error_tavg_list[error_type] = np.array(error_tavg_list[error_type]).reshape(-1)"
   ]
  },
  {
   "cell_type": "code",
   "execution_count": 89,
   "id": "a3fac2e9",
   "metadata": {
    "execution": {
     "iopub.execute_input": "2022-03-23T00:02:24.650061Z",
     "iopub.status.busy": "2022-03-23T00:02:24.649629Z",
     "iopub.status.idle": "2022-03-23T00:02:26.637267Z",
     "shell.execute_reply": "2022-03-23T00:02:26.637865Z"
    },
    "papermill": {
     "duration": 2.071832,
     "end_time": "2022-03-23T00:02:26.637994",
     "exception": false,
     "start_time": "2022-03-23T00:02:24.566162",
     "status": "completed"
    },
    "tags": []
   },
   "outputs": [
    {
     "data": {
      "text/plain": [
       "<matplotlib.lines.Line2D at 0x7f9c2c351b20>"
      ]
     },
     "execution_count": 89,
     "metadata": {},
     "output_type": "execute_result"
    },
    {
     "data": {
      "image/png": "[encoded data removed]",
      "text/plain": [
       "<Figure size 1152x1080 with 3 Axes>"
      ]
     },
     "metadata": {
      "needs_background": "light"
     },
     "output_type": "display_data"
    }
   ],
   "source": [
    "fig = plt.figure(figsize=(16,15), constrained_layout=True)\n",
    "gs = fig.add_gridspec(3, 2, wspace=0.02)\n",
    "psunits = uvp_cov_fg.units\n",
    "if \"h^-1\" in psunits: psunits = psunits.replace(\"h^-1\", \"h^{-1}\")\n",
    "if \"h^-3\" in psunits: psunits = psunits.replace(\"h^-3\", \"h^{-3}\")\n",
    "if \"Mpc\" in psunits and \"\\\\rm\" not in psunits: \n",
    "    psunits = psunits.replace(\"Mpc\", r\"{\\rm Mpc}\")\n",
    "if \"pi\" in psunits and \"\\\\pi\" not in psunits: \n",
    "    psunits = psunits.replace(\"pi\", r\"\\pi\")\n",
    "    \n",
    "# Plot different kinds of error bars\n",
    "ax = fig.add_subplot(gs[0,:])\n",
    "ax.plot(dlys[ps_tavg>=0.], ps_tavg[ps_tavg>=0.], \".\", label='power spectra'+ r'$(+)$', c='k', markersize=8, alpha = 0.6)\n",
    "ax.plot(dlys[ps_tavg<0.], np.abs(ps_tavg[ps_tavg<0.]), \".\", fillstyle='none', label='power spectra'+ r'$(-)$', c='k', markersize=8, alpha = 0.6)\n",
    "ax.set_xlim(-3000,3000)\n",
    "for error_type in error_tavg_list.keys():\n",
    "    ax.plot(dlys, error_tavg_list[error_type], ls=linestyle_list[error_type],label=label_list[error_type], c=color_list[error_type], lw=2)\n",
    "error_modified_fg = error_tavg_list['fg']-(np.sqrt(1+1/np.sqrt(np.pi))-1)*error_tavg_list['noise']\n",
    "ax.plot(dlys, error_modified_fg, label=r\"$\\tilde{\\sigma}_\\mathrm{QE-SN}$\", c=\"green\", ls=\"--\", lw=2)\n",
    "ax.set_ylabel(\"$P(k_\\parallel)$ $[%s]$\" % psunits, fontsize=16)\n",
    "#ax.set_xlabel(r\"$\\tau$ $[{\\rm ns}]$\", fontsize=20)\n",
    "ax.set_xticklabels([])\n",
    "ax.tick_params(axis='both', which='both', labelsize=16)\n",
    "ax.xaxis.set_minor_locator(ticker.MultipleLocator(500))\n",
    "ax.semilogy()\n",
    "ax.minorticks_on()\n",
    "ax.yaxis.set_minor_locator(ticker.LogLocator(base=10, subs=[0.2,0.4,0.6,0.8], numticks=20))\n",
    "ax.yaxis.set_minor_formatter(ticker.NullFormatter())\n",
    "ax.grid()\n",
    "ax.legend(loc='upper right', fontsize=14, ncol=3)\n",
    "ax.set_title('Time-averaged power spectra from the HERA Phase I Data', bbox=dict(fc='wheat', alpha=0.5), fontsize=20, pad=15)\n",
    "ax.axvspan(-200, -20, facecolor='#2ca02c', alpha=0.2)\n",
    "ax.axvspan(20, 200, facecolor='#2ca02c', alpha=0.2)\n",
    "\n",
    "ax1 = ax.secondary_xaxis('top', functions=(tau2k_, k2tau_))\n",
    "ax1.tick_params(axis='both', which='both', labelsize=16, direction='out')\n",
    "ax1.xaxis.set_major_locator(ticker.MultipleLocator(1))\n",
    "ax1.xaxis.set_minor_locator(ticker.MultipleLocator(0.2))\n",
    "ax1.set_xlabel(r\"$k_\\parallel [h {\\rm Mpc}^{-1}]$\", fontsize=16)\n",
    "\n",
    "#handles, labels = ax.get_legend_handles_labels()\n",
    "#fig.legend(handles, labels, bbox_to_anchor=(0.53,1.15), loc='upper center', fontsize=14, ncol=3,)\n",
    "#fig.tight_layout()\n",
    "\n",
    "# Plot ratios of different kinds of error bars\n",
    "ax = fig.add_subplot(gs[1,:])\n",
    "for error_type in ['Pdiff','PN','fg','boot']:\n",
    "    ax.plot(dlys, np.abs(error_tavg_list[error_type]/error_tavg_list['noise']-1), ls=linestyle_list[error_type], label=label_list[error_type], c=color_list[error_type], lw=2)\n",
    "ax.plot(dlys, np.abs(error_modified_fg/error_tavg_list['noise']-1), label=r\"$\\tilde{\\sigma}_\\mathrm{QE-SN}$\", c=\"green\", ls=\"--\", lw=2)\n",
    "ax.set_xticklabels([])\n",
    "ax.tick_params(axis='both', which='both', labelsize=16)\n",
    "ax.grid()\n",
    "ax.semilogy()\n",
    "ax.set_ylim(1e-3,1)\n",
    "ax.set_xlim(-3000,3000)\n",
    "ax.set_ylabel(\"abs\" + r\"$\\left(\\frac{\\sigma-\\sigma_{\\rm QE-N}}{\\sigma_{\\rm QE-N}}\\right)$\", fontsize=20)\n",
    "#ax.yaxis.set_minor_locator(MinorSymLogLocator(0.01))\n",
    "#ax.yaxis.set_minor_formatter(ticker.NullFormatter())\n",
    "ax.xaxis.set_minor_locator(ticker.MultipleLocator(500))\n",
    "ax.axvspan(-200, -20, facecolor='#2ca02c', alpha=0.2)\n",
    "ax.axvspan(20, 200, facecolor='#2ca02c', alpha=0.2)\n",
    "ax.axhline(y=0, c='k', lw=3)\n",
    "\n",
    "ax = fig.add_subplot(gs[2,:])\n",
    "for error_type in ['PSN','boot']:\n",
    "    ax.plot(dlys, np.abs(error_tavg_list[error_type]/error_tavg_list['fg']-1), ls=linestyle_list[error_type], label=label_list[error_type], c=color_list[error_type], lw=2)\n",
    "ax.plot(dlys, np.abs(error_modified_fg/error_tavg_list['fg']-1), label=r\"$\\tilde{\\sigma}_\\mathrm{QE-SN}$\", c=\"green\", ls=\"--\", lw=2)\n",
    "ax.set_xlabel(r\"$\\tau$ $[{\\rm ns}]$\", fontsize=16)\n",
    "ax.tick_params(axis='both', which='both', labelsize=16)\n",
    "ax.grid()\n",
    "ax.set_xlim(-3000,3000)\n",
    "ax.semilogy()\n",
    "ax.set_ylim(1e-3,1)\n",
    "ax.xaxis.set_minor_locator(ticker.MultipleLocator(500))\n",
    "ax.set_ylabel(\"abs\" + r\"$\\left(\\frac{\\sigma-\\sigma_{\\rm QE-SN}}{\\sigma_{\\rm QE-SN}}\\right)$\", fontsize=20)\n",
    "ax.axvspan(-200, -20, facecolor='#2ca02c', alpha=0.2)\n",
    "ax.axvspan(20, 200, facecolor='#2ca02c', alpha=0.2)\n",
    "ax.axhline(y=0, c='k', lw=3)"
   ]
  },
  {
   "cell_type": "markdown",
   "id": "e9866a25",
   "metadata": {
    "papermill": {
     "duration": 0.059822,
     "end_time": "2022-03-23T00:02:26.758507",
     "exception": false,
     "start_time": "2022-03-23T00:02:26.698685",
     "status": "completed"
    },
    "tags": []
   },
   "source": [
    "#### comparing systematics"
   ]
  },
  {
   "cell_type": "code",
   "execution_count": 90,
   "id": "0bdbd129",
   "metadata": {
    "execution": {
     "iopub.execute_input": "2022-03-23T00:02:26.890056Z",
     "iopub.status.busy": "2022-03-23T00:02:26.889653Z",
     "iopub.status.idle": "2022-03-23T00:02:31.851387Z",
     "shell.execute_reply": "2022-03-23T00:02:31.852449Z"
    },
    "papermill": {
     "duration": 5.034353,
     "end_time": "2022-03-23T00:02:31.852662",
     "exception": false,
     "start_time": "2022-03-23T00:02:26.818309",
     "status": "completed"
    },
    "tags": []
   },
   "outputs": [],
   "source": [
    "psc = hp.PSpecContainer('pspec_crosstime.h5', keep_open=False)\n",
    "uvp_PX_cov_fg = psc.get_pspec('pI_shortbl', 'dset0_x_dset1')"
   ]
  },
  {
   "cell_type": "code",
   "execution_count": 91,
   "id": "39106081",
   "metadata": {
    "execution": {
     "iopub.execute_input": "2022-03-23T00:02:32.072287Z",
     "iopub.status.busy": "2022-03-23T00:02:32.071879Z",
     "iopub.status.idle": "2022-03-23T00:02:37.443466Z",
     "shell.execute_reply": "2022-03-23T00:02:37.444813Z"
    },
    "papermill": {
     "duration": 5.489714,
     "end_time": "2022-03-23T00:02:37.445093",
     "exception": false,
     "start_time": "2022-03-23T00:02:31.955379",
     "status": "completed"
    },
    "tags": []
   },
   "outputs": [],
   "source": [
    "# load power spectra\n",
    "psc_ = hp.PSpecContainer('pspec_nulltest.h5', keep_open=False)\n",
    "uvp_PX_cov_n = psc_.get_pspec('pI_shortbl', 'dset0_x_dset1')"
   ]
  },
  {
   "cell_type": "code",
   "execution_count": 92,
   "id": "dc436804",
   "metadata": {
    "execution": {
     "iopub.execute_input": "2022-03-23T00:02:37.651399Z",
     "iopub.status.busy": "2022-03-23T00:02:37.650902Z",
     "iopub.status.idle": "2022-03-23T00:02:37.652102Z",
     "shell.execute_reply": "2022-03-23T00:02:37.651756Z"
    },
    "papermill": {
     "duration": 0.085778,
     "end_time": "2022-03-23T00:02:37.652199",
     "exception": false,
     "start_time": "2022-03-23T00:02:37.566421",
     "status": "completed"
    },
    "tags": []
   },
   "outputs": [],
   "source": [
    "psc = hp.PSpecContainer('pspec_systematics.h5', keep_open=False)"
   ]
  },
  {
   "cell_type": "code",
   "execution_count": 93,
   "id": "6da4e441",
   "metadata": {
    "execution": {
     "iopub.execute_input": "2022-03-23T00:02:37.795228Z",
     "iopub.status.busy": "2022-03-23T00:02:37.794823Z",
     "iopub.status.idle": "2022-03-23T00:02:49.610778Z",
     "shell.execute_reply": "2022-03-23T00:02:49.611386Z"
    },
    "papermill": {
     "duration": 11.895872,
     "end_time": "2022-03-23T00:02:49.611517",
     "exception": false,
     "start_time": "2022-03-23T00:02:37.715645",
     "status": "completed"
    },
    "tags": []
   },
   "outputs": [],
   "source": [
    "uvp_P_cov_fg = psc.get_pspec('pI_shortbl_fg_P', 'dset0_x_dset1')\n",
    "uvp_P_cov_n = psc.get_pspec('pI_shortbl_noise_P', 'dset0_x_dset1')"
   ]
  },
  {
   "cell_type": "code",
   "execution_count": 94,
   "id": "086eb8b7",
   "metadata": {
    "execution": {
     "iopub.execute_input": "2022-03-23T00:02:49.757923Z",
     "iopub.status.busy": "2022-03-23T00:02:49.757532Z",
     "iopub.status.idle": "2022-03-23T00:02:51.398636Z",
     "shell.execute_reply": "2022-03-23T00:02:51.399249Z"
    },
    "papermill": {
     "duration": 1.722647,
     "end_time": "2022-03-23T00:02:51.399376",
     "exception": false,
     "start_time": "2022-03-23T00:02:49.676729",
     "status": "completed"
    },
    "tags": []
   },
   "outputs": [],
   "source": [
    "uvp_PC_cov_fg = psc.get_pspec('pI_shortbl_fg_PC', 'dset0_x_dset1')\n",
    "uvp_PC_cov_n = psc.get_pspec('pI_shortbl_noise_PC', 'dset0_x_dset1')"
   ]
  },
  {
   "cell_type": "code",
   "execution_count": 95,
   "id": "f98d2b9c",
   "metadata": {
    "execution": {
     "iopub.execute_input": "2022-03-23T00:02:51.542949Z",
     "iopub.status.busy": "2022-03-23T00:02:51.542550Z",
     "iopub.status.idle": "2022-03-23T00:03:01.931477Z",
     "shell.execute_reply": "2022-03-23T00:03:01.932474Z"
    },
    "papermill": {
     "duration": 10.468483,
     "end_time": "2022-03-23T00:03:01.932674",
     "exception": false,
     "start_time": "2022-03-23T00:02:51.464191",
     "status": "completed"
    },
    "tags": []
   },
   "outputs": [],
   "source": [
    "uvp_PXC_cov_fg = psc.get_pspec('pI_shortbl_fg_PXC', 'dset0_x_dset1')\n",
    "uvp_PXC_cov_n = psc.get_pspec('pI_shortbl_noise_PXC', 'dset0_x_dset1')"
   ]
  },
  {
   "cell_type": "markdown",
   "id": "dd4ad829",
   "metadata": {
    "papermill": {
     "duration": 0.073282,
     "end_time": "2022-03-23T00:03:02.105551",
     "exception": false,
     "start_time": "2022-03-23T00:03:02.032269",
     "status": "completed"
    },
    "tags": []
   },
   "source": [
    "check match in timestamps"
   ]
  },
  {
   "cell_type": "code",
   "execution_count": 96,
   "id": "ce3da8d8",
   "metadata": {
    "execution": {
     "iopub.execute_input": "2022-03-23T00:03:02.232198Z",
     "iopub.status.busy": "2022-03-23T00:03:02.231742Z",
     "iopub.status.idle": "2022-03-23T00:03:02.233367Z",
     "shell.execute_reply": "2022-03-23T00:03:02.232529Z"
    },
    "papermill": {
     "duration": 0.06615,
     "end_time": "2022-03-23T00:03:02.233455",
     "exception": false,
     "start_time": "2022-03-23T00:03:02.167305",
     "status": "completed"
    },
    "tags": []
   },
   "outputs": [
    {
     "name": "stdout",
     "output_type": "stream",
     "text": [
      "[2.24120314 2.24433583 2.24746853 2.25060122 2.25373391 2.2568666\n",
      " 2.2599993  2.26313199 2.26626468 2.26939738 2.27253007 2.27566276\n",
      " 2.27879546 2.28192815 2.28506084 2.28819354 2.29132623 2.29445892\n",
      " 2.29759161 2.30072431 2.303857   2.30698969 2.31012239 2.31325508\n",
      " 2.31638777 2.31952047 2.32265316 2.32578585 2.32891855 2.33205124]\n"
     ]
    }
   ],
   "source": [
    "print(np.unique(uvp_P_cov_fg.lst_avg_array))"
   ]
  },
  {
   "cell_type": "code",
   "execution_count": 97,
   "id": "90cdcbc6",
   "metadata": {
    "execution": {
     "iopub.execute_input": "2022-03-23T00:03:02.363622Z",
     "iopub.status.busy": "2022-03-23T00:03:02.363174Z",
     "iopub.status.idle": "2022-03-23T00:03:02.364793Z",
     "shell.execute_reply": "2022-03-23T00:03:02.363962Z"
    },
    "papermill": {
     "duration": 0.06649,
     "end_time": "2022-03-23T00:03:02.364891",
     "exception": false,
     "start_time": "2022-03-23T00:03:02.298401",
     "status": "completed"
    },
    "tags": []
   },
   "outputs": [
    {
     "name": "stdout",
     "output_type": "stream",
     "text": [
      "[2.24120314 2.24433583 2.24746853 2.25060122 2.25373391 2.2568666\n",
      " 2.2599993  2.26313199 2.26626468 2.26939738 2.27253007 2.27566276\n",
      " 2.27879546 2.28192815 2.28506084 2.28819354 2.29132623 2.29445892\n",
      " 2.29759161 2.30072431 2.303857   2.30698969 2.31012239 2.31325508\n",
      " 2.31638777 2.31952047 2.32265316 2.32578585 2.32891855 2.33205124]\n"
     ]
    }
   ],
   "source": [
    "print(np.unique(uvp_PX_cov_fg.lst_avg_array))"
   ]
  },
  {
   "cell_type": "code",
   "execution_count": 98,
   "id": "0b11c6be",
   "metadata": {
    "execution": {
     "iopub.execute_input": "2022-03-23T00:03:02.495548Z",
     "iopub.status.busy": "2022-03-23T00:03:02.495095Z",
     "iopub.status.idle": "2022-03-23T00:03:02.496727Z",
     "shell.execute_reply": "2022-03-23T00:03:02.495890Z"
    },
    "papermill": {
     "duration": 0.067264,
     "end_time": "2022-03-23T00:03:02.496817",
     "exception": false,
     "start_time": "2022-03-23T00:03:02.429553",
     "status": "completed"
    },
    "tags": []
   },
   "outputs": [
    {
     "name": "stdout",
     "output_type": "stream",
     "text": [
      "[2.24120314 2.24433583 2.24746853 2.25060122 2.25373391 2.2568666\n",
      " 2.2599993  2.26313199 2.26626468 2.26939738 2.27253007 2.27566276\n",
      " 2.27879546 2.28192815 2.28506084 2.28819354 2.29132623 2.29445892\n",
      " 2.29759161 2.30072431 2.303857   2.30698969 2.31012239 2.31325508\n",
      " 2.31638777 2.31952047 2.32265316 2.32578585 2.32891855 2.33205124]\n"
     ]
    }
   ],
   "source": [
    "print(np.unique(uvp_PC_cov_fg.lst_avg_array))"
   ]
  },
  {
   "cell_type": "code",
   "execution_count": 99,
   "id": "bd70339b",
   "metadata": {
    "execution": {
     "iopub.execute_input": "2022-03-23T00:03:02.627707Z",
     "iopub.status.busy": "2022-03-23T00:03:02.627263Z",
     "iopub.status.idle": "2022-03-23T00:03:02.628879Z",
     "shell.execute_reply": "2022-03-23T00:03:02.628047Z"
    },
    "papermill": {
     "duration": 0.067091,
     "end_time": "2022-03-23T00:03:02.628968",
     "exception": false,
     "start_time": "2022-03-23T00:03:02.561877",
     "status": "completed"
    },
    "tags": []
   },
   "outputs": [
    {
     "name": "stdout",
     "output_type": "stream",
     "text": [
      "[2.24120314 2.24433583 2.24746853 2.25060122 2.25373391 2.2568666\n",
      " 2.2599993  2.26313199 2.26626468 2.26939738 2.27253007 2.27566276\n",
      " 2.27879546 2.28192815 2.28506084 2.28819354 2.29132623 2.29445892\n",
      " 2.29759161 2.30072431 2.303857   2.30698969 2.31012239 2.31325508\n",
      " 2.31638777 2.31952047 2.32265316 2.32578585 2.32891855 2.33205124]\n"
     ]
    }
   ],
   "source": [
    "print(np.unique(uvp_PXC_cov_fg.lst_avg_array))"
   ]
  },
  {
   "cell_type": "markdown",
   "id": "63c65422",
   "metadata": {
    "papermill": {
     "duration": 0.065438,
     "end_time": "2022-03-23T00:03:02.759730",
     "exception": false,
     "start_time": "2022-03-23T00:03:02.694292",
     "status": "completed"
    },
    "tags": []
   },
   "source": [
    "#### inpainted data"
   ]
  },
  {
   "cell_type": "code",
   "execution_count": 100,
   "id": "4ba9cfd1",
   "metadata": {
    "execution": {
     "iopub.execute_input": "2022-03-23T00:03:02.906963Z",
     "iopub.status.busy": "2022-03-23T00:03:02.906565Z",
     "iopub.status.idle": "2022-03-23T00:06:52.615705Z",
     "shell.execute_reply": "2022-03-23T00:06:52.616339Z"
    },
    "papermill": {
     "duration": 229.79581,
     "end_time": "2022-03-23T00:06:52.616467",
     "exception": false,
     "start_time": "2022-03-23T00:03:02.820657",
     "status": "completed"
    },
    "tags": []
   },
   "outputs": [
    {
     "name": "stderr",
     "output_type": "stream",
     "text": [
      "invalid value encountered in cdouble_scalars\n"
     ]
    },
    {
     "name": "stderr",
     "output_type": "stream",
     "text": [
      "invalid value encountered in true_divide\n",
      "Attempting to set identical left == right == -0.0 results in singular transformations; automatically expanding.\n",
      "invalid value encountered in true_divide\n",
      "invalid value encountered in true_divide\n",
      "FixedFormatter should only be used together with FixedLocator\n",
      "invalid value encountered in cdouble_scalars\n"
     ]
    },
    {
     "name": "stdout",
     "output_type": "stream",
     "text": [
      "beyond 3sigma nan Gauss nan Laplacian nan\n"
     ]
    },
    {
     "name": "stderr",
     "output_type": "stream",
     "text": [
      "invalid value encountered in true_divide\n",
      "Attempting to set identical left == right == -0.0 results in singular transformations; automatically expanding.\n",
      "invalid value encountered in double_scalars\n",
      "invalid value encountered in true_divide\n",
      "invalid value encountered in true_divide\n",
      "FixedFormatter should only be used together with FixedLocator\n",
      "invalid value encountered in cdouble_scalars\n"
     ]
    },
    {
     "name": "stdout",
     "output_type": "stream",
     "text": [
      "beyond 3sigma nan Gauss nan Laplacian nan\n"
     ]
    },
    {
     "name": "stderr",
     "output_type": "stream",
     "text": [
      "invalid value encountered in true_divide\n",
      "Attempting to set identical left == right == -0.0 results in singular transformations; automatically expanding.\n",
      "invalid value encountered in double_scalars\n",
      "invalid value encountered in true_divide\n",
      "invalid value encountered in true_divide\n",
      "FixedFormatter should only be used together with FixedLocator\n"
     ]
    },
    {
     "name": "stdout",
     "output_type": "stream",
     "text": [
      "beyond 3sigma nan Gauss nan Laplacian nan\n",
      "30084\n"
     ]
    },
    {
     "data": {
      "image/png": "[encoded data removed]",
      "text/plain": [
       "<Figure size 1440x432 with 3 Axes>"
      ]
     },
     "metadata": {
      "needs_background": "light"
     },
     "output_type": "display_data"
    }
   ],
   "source": [
    "# used in paper\n",
    "# A larger window (2000), with normalization\n",
    "uvp_plot = uvp_P_cov_n\n",
    "num_time_samples_list = [1,5,15]\n",
    "ylim = (5*1e-13,1e-9)\n",
    "dlys = uvp_plot.get_dlys(0) * 1e9\n",
    "delay_args = np.append(np.argwhere(dlys< -2000), np.argwhere(dlys> 2000))\n",
    "suptitle = \"Inpainted HERA Phase I Data, \"+r\"$|\\tau|>2000 {\\rm ns}$\"\n",
    "\n",
    "fig, axes = plt.subplots(figsize=(20,6), ncols=3, nrows=1)\n",
    "for ax_idx, num_time_samples in enumerate(num_time_samples_list):\n",
    "    col_idx = ax_idx%3\n",
    "    times = np.arange(num_time_samples)\n",
    "   \n",
    "    # Get all keys\n",
    "    keys = uvp_plot.get_all_keys()\n",
    "    blpt_weights = np.array([[1. for item in times] for key in keys])\n",
    "    ps_real_time_avg = []\n",
    "    for dly in delay_args:\n",
    "        ps = np.array([[uvp_plot.get_data(key)[time, dly]*uvp_plot.get_stats(\"autos_diag\", keys[0])[time,0].real\\\n",
    "                        /uvp_plot.get_stats(\"autos_diag\", key)[time, dly].real for time in times] for key in keys])\n",
    "        ps_real_time_avg.extend((np.sum(ps.real*blpt_weights, axis=1)/np.sum(blpt_weights, axis=1).clip(1e-10, np.inf)).flatten())\n",
    "    ps_real_time_avg = np.array(ps_real_time_avg) - np.mean(ps_real_time_avg)\n",
    "    # The ratio of error bars to the original one\n",
    "    psunits = uvp_plot.units\n",
    "    if \"h^-1\" in psunits: psunits = psunits.replace(\"h^-1\", \"h^{-1}\")\n",
    "    if \"h^-3\" in psunits: psunits = psunits.replace(\"h^-3\", \"h^{-3}\")\n",
    "    if \"Mpc\" in psunits and \"\\\\rm\" not in psunits: \n",
    "        psunits = psunits.replace(\"Mpc\", r\"{\\rm Mpc}\")\n",
    "    if \"pi\" in psunits and \"\\\\pi\" not in psunits: \n",
    "        psunits = psunits.replace(\"pi\", r\"\\pi\")\n",
    "    \n",
    "    ax = axes[col_idx]\n",
    "    Lap_sigma_list = np.zeros(num_time_samples)\n",
    "    for time in times:\n",
    "        Lap_sigma_list[time] = uvp_plot.get_stats(\"autos_diag\", keys[0])[time, 0].real \n",
    "    Gauss_sigma = np.sqrt(np.sum(Lap_sigma_list**2))/num_time_samples\n",
    "    vlim = 6*Gauss_sigma\n",
    "    n_in_bins, bins_edge, _ = ax.hist(ps_real_time_avg, log=True, density=True, bins=61, range=(-vlim, vlim), alpha=0.75,\n",
    "                           color='pink')\n",
    "    ax.set_xlim(-vlim, vlim)\n",
    "    ax.set_ylim(*ylim)\n",
    "    \n",
    "    px = np.linspace(-vlim, vlim, 100)\n",
    "    Lap_curve = np.zeros_like(px)\n",
    "    normalized_factor = 0\n",
    "    for time in times:\n",
    "        scale_factor = 1\n",
    "        for time_ in times:\n",
    "            if time_ != time:\n",
    "                scale_factor *= Lap_sigma_list[time]**2/(Lap_sigma_list[time]**2-Lap_sigma_list[time_]**2)\n",
    "        normalized_factor += scale_factor   \n",
    "        Lap_curve += np.exp(-np.sqrt(2)*np.abs(px)/Lap_sigma_list[time]*num_time_samples)/np.sqrt(2)/Lap_sigma_list[time]*num_time_samples*scale_factor\n",
    "    \n",
    "    # Calculate the equivalent Gaussian pdf\n",
    "    Gauss_curve = np.exp(-px**2/2/Gauss_sigma**2)/np.sqrt(2*np.pi*Gauss_sigma**2)\n",
    "    \n",
    "    if np.isclose(normalized_factor,1,rtol=5e-1):\n",
    "        ax.plot(px, Lap_curve, ls='-', lw=2, label=\"Sum of Laplacians\", c='cyan')\n",
    "    ax.plot(px, Gauss_curve, ls='--', lw=2, label='Gaussian', c='slategrey')\n",
    "    bins_center = (bins_edge[1:] + bins_edge[0:-1])/2\n",
    "    outlier_3sigma = (np.sum(n_in_bins)-np.sum(n_in_bins[(-3*Gauss_sigma<=bins_center)*(bins_center<=3*Gauss_sigma)]))/np.sum(n_in_bins)\n",
    "    print(\"beyond 3sigma {}\".format(outlier_3sigma), \\\n",
    "          \"Gauss {}\".format((np.sum(Gauss_curve)-np.sum(Gauss_curve[(-3*Gauss_sigma<=px)*(px<=3*Gauss_sigma)]))/np.sum(Gauss_curve)), \\\n",
    "          \"Laplacian {}\".format((np.sum(Lap_curve)-np.sum(Lap_curve[(-3*Gauss_sigma<=px)*(px<=3*Gauss_sigma)]))/np.sum(Lap_curve)))\n",
    "    \n",
    "    # confidence interval\n",
    "    ax.axvline(x=3*Gauss_sigma, c='k', lw=1, ls=':')\n",
    "    ax.axvline(x=-3*Gauss_sigma, c='k', lw=1, ls=':')\n",
    "    ax.axvline(x=5*Gauss_sigma, c='navy', lw=1, ls=':')\n",
    "    ax.axvline(x=-5*Gauss_sigma, c='navy', lw=1, ls=':')\n",
    "    if ax_idx == 0:\n",
    "        ax.text(2.2*Gauss_sigma, 9*1e-12, r'$3 \\sigma$', ha=\"center\", va=\"center\", rotation=0,\n",
    "            fontsize=14,\n",
    "            bbox=dict(boxstyle=\"rarrow\", fc=\"green\", alpha=0.5))\n",
    "        ax.text(4.2*Gauss_sigma, 1e-10, r'$5 \\sigma$', ha=\"center\", va=\"center\", rotation=0,\n",
    "            fontsize=14,\n",
    "            bbox=dict(boxstyle=\"rarrow\", fc=\"green\", alpha=0.5))\n",
    "        ax.text(-2.2*Gauss_sigma, 9*1e-12, r'$3 \\sigma$', ha=\"center\", va=\"center\", rotation=0,\n",
    "            fontsize=14,\n",
    "            bbox=dict(boxstyle=\"larrow\", fc=\"green\", alpha=0.5))\n",
    "        ax.text(-4.2*Gauss_sigma, 1e-10, r'$5 \\sigma$', ha=\"center\", va=\"center\", rotation=0,\n",
    "            fontsize=14,\n",
    "            bbox=dict(boxstyle=\"larrow\", fc=\"green\", alpha=0.5))\n",
    "    \n",
    "    ax.tick_params(which='both', labelsize=16, length=3, width=0.5)\n",
    "    ax.xaxis.set_minor_locator(ticker.MultipleLocator(1e9))\n",
    "    xticks = ax.get_xticks()\n",
    "    ax.set_xticklabels(xticks/1e10)\n",
    "    ax.set_xlabel(\"$P(k_\\parallel)$ $[\\\\times 10^{10}\\,%s]$\" % psunits, fontsize=16)\n",
    "    if col_idx == 0: \n",
    "        ax.set_ylabel(\"pdf\", fontsize=16)\n",
    "    if ax_idx == 0:\n",
    "        ax.legend(loc='lower right', fontsize=14)\n",
    "    ax.set_title(\"Average over \\n{} timestamp(s)\".format(num_time_samples),bbox=dict(fc='wheat', alpha=0.5), fontsize=16, pad=15)\n",
    "fig.subplots_adjust(top=0.8)\n",
    "fig.suptitle(suptitle, fontsize=20, bbox=dict(fc='gold', alpha=0.5), x=0.5, y=0.99)\n",
    "print(len(uvp_plot.get_all_keys())*len(delay_args))"
   ]
  },
  {
   "cell_type": "code",
   "execution_count": 101,
   "id": "c3bf1818",
   "metadata": {
    "execution": {
     "iopub.execute_input": "2022-03-23T00:06:52.769057Z",
     "iopub.status.busy": "2022-03-23T00:06:52.768622Z",
     "iopub.status.idle": "2022-03-23T00:08:09.102865Z",
     "shell.execute_reply": "2022-03-23T00:08:09.103381Z"
    },
    "papermill": {
     "duration": 76.423201,
     "end_time": "2022-03-23T00:08:09.103500",
     "exception": false,
     "start_time": "2022-03-23T00:06:52.680299",
     "status": "completed"
    },
    "tags": []
   },
   "outputs": [
    {
     "name": "stderr",
     "output_type": "stream",
     "text": [
      "invalid value encountered in cdouble_scalars\n"
     ]
    },
    {
     "name": "stderr",
     "output_type": "stream",
     "text": [
      "invalid value encountered in true_divide\n",
      "Attempting to set identical left == right == -0.0 results in singular transformations; automatically expanding.\n",
      "invalid value encountered in true_divide\n",
      "invalid value encountered in true_divide\n",
      "FixedFormatter should only be used together with FixedLocator\n",
      "invalid value encountered in cdouble_scalars\n"
     ]
    },
    {
     "name": "stdout",
     "output_type": "stream",
     "text": [
      "beyond 3sigma nan Gauss nan Laplacian nan\n"
     ]
    },
    {
     "name": "stderr",
     "output_type": "stream",
     "text": [
      "invalid value encountered in true_divide\n",
      "Attempting to set identical left == right == -0.0 results in singular transformations; automatically expanding.\n",
      "invalid value encountered in double_scalars\n",
      "invalid value encountered in true_divide\n",
      "invalid value encountered in true_divide\n",
      "FixedFormatter should only be used together with FixedLocator\n",
      "invalid value encountered in cdouble_scalars\n"
     ]
    },
    {
     "name": "stdout",
     "output_type": "stream",
     "text": [
      "beyond 3sigma nan Gauss nan Laplacian nan\n"
     ]
    },
    {
     "name": "stderr",
     "output_type": "stream",
     "text": [
      "invalid value encountered in true_divide\n",
      "Attempting to set identical left == right == -0.0 results in singular transformations; automatically expanding.\n",
      "invalid value encountered in double_scalars\n",
      "invalid value encountered in true_divide\n",
      "invalid value encountered in true_divide\n",
      "FixedFormatter should only be used together with FixedLocator\n"
     ]
    },
    {
     "name": "stdout",
     "output_type": "stream",
     "text": [
      "beyond 3sigma nan Gauss nan Laplacian nan\n",
      "9936\n"
     ]
    },
    {
     "data": {
      "image/png": "[encoded data removed]",
      "text/plain": [
       "<Figure size 1440x432 with 3 Axes>"
      ]
     },
     "metadata": {
      "needs_background": "light"
     },
     "output_type": "display_data"
    }
   ],
   "source": [
    "# used in paper\n",
    "# A larger window (500-1500), with normalization\n",
    "uvp_plot = uvp_P_cov_n\n",
    "num_time_samples_list = [1,5,15]\n",
    "ylim = (5*1e-13,1e-9)\n",
    "dlys = uvp_plot.get_dlys(0) * 1e9\n",
    "delay_args = np.append(np.argwhere((dlys< -500)*(dlys>-1500)), np.argwhere((dlys< 1500)*(dlys>500)))\n",
    "suptitle = \"Inpainted HERA Phase I Data, \" + r\"$500\\,{\\rm ns}<|\\tau|<1500\\,{\\rm ns}$\"\n",
    "\n",
    "fig, axes = plt.subplots(figsize=(20,6), ncols=3, nrows=1)\n",
    "for ax_idx, num_time_samples in enumerate(num_time_samples_list):\n",
    "    col_idx = ax_idx%3\n",
    "    times = np.arange(num_time_samples)\n",
    "   \n",
    "    # Get all keys\n",
    "    keys = uvp_plot.get_all_keys()\n",
    "    blpt_weights = np.array([[1. for item in times] for key in keys])\n",
    "    ps_real_time_avg = []\n",
    "    for dly in delay_args:\n",
    "        ps = np.array([[uvp_plot.get_data(key)[time, dly]*uvp_plot.get_stats(\"autos_diag\", keys[0])[time,0].real\\\n",
    "                        /uvp_plot.get_stats(\"autos_diag\", key)[time, dly].real for time in times] for key in keys])\n",
    "        ps_real_time_avg.extend((np.sum(ps.real*blpt_weights, axis=1)/np.sum(blpt_weights, axis=1).clip(1e-10, np.inf)).flatten())\n",
    "    ps_real_time_avg = np.array(ps_real_time_avg) - np.mean(ps_real_time_avg)\n",
    "    # The ratio of error bars to the original one\n",
    "    psunits = uvp_plot.units\n",
    "    if \"h^-1\" in psunits: psunits = psunits.replace(\"h^-1\", \"h^{-1}\")\n",
    "    if \"h^-3\" in psunits: psunits = psunits.replace(\"h^-3\", \"h^{-3}\")\n",
    "    if \"Mpc\" in psunits and \"\\\\rm\" not in psunits: \n",
    "        psunits = psunits.replace(\"Mpc\", r\"{\\rm Mpc}\")\n",
    "    if \"pi\" in psunits and \"\\\\pi\" not in psunits: \n",
    "        psunits = psunits.replace(\"pi\", r\"\\pi\")\n",
    "    \n",
    "    ax = axes[col_idx]\n",
    "    Lap_sigma_list = np.zeros(num_time_samples)\n",
    "    for time in times:\n",
    "        Lap_sigma_list[time] = uvp_plot.get_stats(\"autos_diag\", keys[0])[time, 0].real \n",
    "    Gauss_sigma = np.sqrt(np.sum(Lap_sigma_list**2))/num_time_samples\n",
    "    vlim = 6*Gauss_sigma\n",
    "    n_in_bins, bins_edge, _ = ax.hist(ps_real_time_avg, log=True, density=True, bins=61, range=(-vlim, vlim), alpha=0.75,\n",
    "                           color='pink')\n",
    "    ax.set_xlim(-vlim, vlim)\n",
    "    ax.set_ylim(*ylim)\n",
    "    \n",
    "    px = np.linspace(-vlim, vlim, 100)\n",
    "    Lap_curve = np.zeros_like(px)\n",
    "    normalized_factor = 0\n",
    "    for time in times:\n",
    "        scale_factor = 1\n",
    "        for time_ in times:\n",
    "            if time_ != time:\n",
    "                scale_factor *= Lap_sigma_list[time]**2/(Lap_sigma_list[time]**2-Lap_sigma_list[time_]**2)\n",
    "        normalized_factor += scale_factor   \n",
    "        Lap_curve += np.exp(-np.sqrt(2)*np.abs(px)/Lap_sigma_list[time]*num_time_samples)/np.sqrt(2)/Lap_sigma_list[time]*num_time_samples*scale_factor\n",
    "    \n",
    "    # Calculate the equivalent Gaussian pdf\n",
    "    Gauss_curve = np.exp(-px**2/2/Gauss_sigma**2)/np.sqrt(2*np.pi*Gauss_sigma**2)\n",
    "    \n",
    "    if np.isclose(normalized_factor,1,rtol=5e-1):\n",
    "        ax.plot(px, Lap_curve, ls='-', lw=2, label=\"Sum of Laplacians\", c='cyan')\n",
    "    ax.plot(px, Gauss_curve, ls='--', lw=2, label='Gaussian', c='slategrey')\n",
    "    bins_center = (bins_edge[1:] + bins_edge[0:-1])/2\n",
    "    outlier_3sigma = (np.sum(n_in_bins)-np.sum(n_in_bins[(-3*Gauss_sigma<=bins_center)*(bins_center<=3*Gauss_sigma)]))/np.sum(n_in_bins)\n",
    "    print(\"beyond 3sigma {}\".format(outlier_3sigma), \\\n",
    "          \"Gauss {}\".format((np.sum(Gauss_curve)-np.sum(Gauss_curve[(-3*Gauss_sigma<=px)*(px<=3*Gauss_sigma)]))/np.sum(Gauss_curve)), \\\n",
    "          \"Laplacian {}\".format((np.sum(Lap_curve)-np.sum(Lap_curve[(-3*Gauss_sigma<=px)*(px<=3*Gauss_sigma)]))/np.sum(Lap_curve)))\n",
    "    # confidence interval\n",
    "    ax.axvline(x=3*Gauss_sigma, c='k', lw=1, ls=':')\n",
    "    ax.axvline(x=-3*Gauss_sigma, c='k', lw=1, ls=':')\n",
    "    ax.axvline(x=5*Gauss_sigma, c='navy', lw=1, ls=':')\n",
    "    ax.axvline(x=-5*Gauss_sigma, c='navy', lw=1, ls=':')\n",
    "    if ax_idx == 0:\n",
    "        ax.text(2.2*Gauss_sigma, 9*1e-12, r'$3 \\sigma$', ha=\"center\", va=\"center\", rotation=0,\n",
    "            fontsize=14,\n",
    "            bbox=dict(boxstyle=\"rarrow\", fc=\"green\", alpha=0.5))\n",
    "        ax.text(4.2*Gauss_sigma, 1e-10, r'$5 \\sigma$', ha=\"center\", va=\"center\", rotation=0,\n",
    "            fontsize=14,\n",
    "            bbox=dict(boxstyle=\"rarrow\", fc=\"green\", alpha=0.5))\n",
    "        ax.text(-2.2*Gauss_sigma, 9*1e-12, r'$3 \\sigma$', ha=\"center\", va=\"center\", rotation=0,\n",
    "            fontsize=14,\n",
    "            bbox=dict(boxstyle=\"larrow\", fc=\"green\", alpha=0.5))\n",
    "        ax.text(-4.2*Gauss_sigma, 1e-10, r'$5 \\sigma$', ha=\"center\", va=\"center\", rotation=0,\n",
    "            fontsize=14,\n",
    "            bbox=dict(boxstyle=\"larrow\", fc=\"green\", alpha=0.5))\n",
    "    \n",
    "    ax.tick_params(which='both', labelsize=16, length=3, width=0.5)\n",
    "    ax.xaxis.set_minor_locator(ticker.MultipleLocator(1e9))\n",
    "    xticks = ax.get_xticks()\n",
    "    ax.set_xticklabels(xticks/1e10)\n",
    "    ax.set_xlabel(\"$P(k_\\parallel)$ $[\\\\times 10^{10}\\,%s]$\" % psunits, fontsize=16)\n",
    "    if col_idx == 0: \n",
    "        ax.set_ylabel(\"pdf\", fontsize=16)\n",
    "    if ax_idx == 0:\n",
    "        ax.legend(loc='lower right', fontsize=14)\n",
    "    ax.set_title(\"Average over \\n{} timestamp(s)\".format(num_time_samples),bbox=dict(fc='wheat', alpha=0.5), fontsize=16, pad=15)\n",
    "fig.subplots_adjust(top=0.8)\n",
    "fig.suptitle(suptitle, fontsize=20, bbox=dict(fc='gold', alpha=0.5), x=0.5, y=0.99)\n",
    "print(len(uvp_plot.get_all_keys())*len(delay_args))"
   ]
  },
  {
   "cell_type": "markdown",
   "id": "02d1ebca",
   "metadata": {
    "papermill": {
     "duration": 0.065777,
     "end_time": "2022-03-23T00:08:09.235521",
     "exception": false,
     "start_time": "2022-03-23T00:08:09.169744",
     "status": "completed"
    },
    "tags": []
   },
   "source": [
    "#### inpainted + reflection"
   ]
  },
  {
   "cell_type": "code",
   "execution_count": 102,
   "id": "45761ae9",
   "metadata": {
    "execution": {
     "iopub.execute_input": "2022-03-23T00:08:09.394935Z",
     "iopub.status.busy": "2022-03-23T00:08:09.394470Z",
     "iopub.status.idle": "2022-03-23T00:11:58.078904Z",
     "shell.execute_reply": "2022-03-23T00:11:58.079425Z"
    },
    "papermill": {
     "duration": 228.777926,
     "end_time": "2022-03-23T00:11:58.079546",
     "exception": false,
     "start_time": "2022-03-23T00:08:09.301620",
     "status": "completed"
    },
    "tags": []
   },
   "outputs": [
    {
     "name": "stderr",
     "output_type": "stream",
     "text": [
      "invalid value encountered in cdouble_scalars\n"
     ]
    },
    {
     "name": "stderr",
     "output_type": "stream",
     "text": [
      "invalid value encountered in true_divide\n",
      "Attempting to set identical left == right == -0.0 results in singular transformations; automatically expanding.\n",
      "invalid value encountered in true_divide\n",
      "invalid value encountered in true_divide\n",
      "FixedFormatter should only be used together with FixedLocator\n",
      "invalid value encountered in cdouble_scalars\n"
     ]
    },
    {
     "name": "stdout",
     "output_type": "stream",
     "text": [
      "beyond 3sigma nan\n"
     ]
    },
    {
     "name": "stderr",
     "output_type": "stream",
     "text": [
      "invalid value encountered in true_divide\n",
      "Attempting to set identical left == right == -0.0 results in singular transformations; automatically expanding.\n",
      "invalid value encountered in double_scalars\n",
      "invalid value encountered in true_divide\n",
      "invalid value encountered in true_divide\n",
      "FixedFormatter should only be used together with FixedLocator\n",
      "invalid value encountered in cdouble_scalars\n"
     ]
    },
    {
     "name": "stdout",
     "output_type": "stream",
     "text": [
      "beyond 3sigma nan\n"
     ]
    },
    {
     "name": "stderr",
     "output_type": "stream",
     "text": [
      "invalid value encountered in true_divide\n",
      "Attempting to set identical left == right == -0.0 results in singular transformations; automatically expanding.\n",
      "invalid value encountered in double_scalars\n",
      "invalid value encountered in true_divide\n",
      "invalid value encountered in true_divide\n",
      "FixedFormatter should only be used together with FixedLocator\n"
     ]
    },
    {
     "name": "stdout",
     "output_type": "stream",
     "text": [
      "beyond 3sigma nan\n",
      "30084\n"
     ]
    },
    {
     "data": {
      "image/png": "[encoded data removed]",
      "text/plain": [
       "<Figure size 1440x432 with 3 Axes>"
      ]
     },
     "metadata": {
      "needs_background": "light"
     },
     "output_type": "display_data"
    }
   ],
   "source": [
    "# used in paper\n",
    "# A larger window (2000), with normalization\n",
    "uvp_plot = uvp_PC_cov_n\n",
    "num_time_samples_list = [1,5,15]\n",
    "ylim = (5*1e-13,1e-9)\n",
    "dlys = uvp_plot.get_dlys(0) * 1e9\n",
    "delay_args = np.append(np.argwhere(dlys< -2000), np.argwhere(dlys> 2000))\n",
    "suptitle = \"Inpainted+cable reflection removed, \"+r\"$|\\tau|>2000 {\\rm ns}$\"\n",
    "\n",
    "fig, axes = plt.subplots(figsize=(20,6), ncols=3, nrows=1)\n",
    "for ax_idx, num_time_samples in enumerate(num_time_samples_list):\n",
    "    col_idx = ax_idx%3\n",
    "    times = np.arange(num_time_samples)\n",
    "   \n",
    "    # Get all keys\n",
    "    keys = uvp_plot.get_all_keys()\n",
    "    blpt_weights = np.array([[1. for item in times] for key in keys])\n",
    "    ps_real_time_avg = []\n",
    "    for dly in delay_args:\n",
    "        ps = np.array([[uvp_plot.get_data(key)[time, dly]*uvp_plot.get_stats(\"autos_diag\", keys[0])[time,0].real\\\n",
    "                        /uvp_plot.get_stats(\"autos_diag\", key)[time, dly].real for time in times] for key in keys])\n",
    "        ps_real_time_avg.extend((np.sum(ps.real*blpt_weights, axis=1)/np.sum(blpt_weights, axis=1).clip(1e-10, np.inf)).flatten())\n",
    "    ps_real_time_avg = np.array(ps_real_time_avg) - np.mean(ps_real_time_avg)\n",
    "    # The ratio of error bars to the original one\n",
    "    psunits = uvp_plot.units\n",
    "    if \"h^-1\" in psunits: psunits = psunits.replace(\"h^-1\", \"h^{-1}\")\n",
    "    if \"h^-3\" in psunits: psunits = psunits.replace(\"h^-3\", \"h^{-3}\")\n",
    "    if \"Mpc\" in psunits and \"\\\\rm\" not in psunits: \n",
    "        psunits = psunits.replace(\"Mpc\", r\"{\\rm Mpc}\")\n",
    "    if \"pi\" in psunits and \"\\\\pi\" not in psunits: \n",
    "        psunits = psunits.replace(\"pi\", r\"\\pi\")\n",
    "    \n",
    "    ax = axes[col_idx]\n",
    "    Lap_sigma_list = np.zeros(num_time_samples)\n",
    "    for time in times:\n",
    "        Lap_sigma_list[time] = uvp_plot.get_stats(\"autos_diag\", keys[0])[time, 0].real \n",
    "    Gauss_sigma = np.sqrt(np.sum(Lap_sigma_list**2))/num_time_samples\n",
    "    vlim = 6*Gauss_sigma\n",
    "    n_in_bins, bins_edge, _ = ax.hist(ps_real_time_avg, log=True, density=True, bins=61, range=(-vlim, vlim), alpha=0.75,\n",
    "                           color='pink')\n",
    "    ax.set_xlim(-vlim, vlim)\n",
    "    ax.set_ylim(*ylim)\n",
    "    \n",
    "    px = np.linspace(-vlim, vlim, 100)\n",
    "    Lap_curve = np.zeros_like(px)\n",
    "    normalized_factor = 0\n",
    "    for time in times:\n",
    "        scale_factor = 1\n",
    "        for time_ in times:\n",
    "            if time_ != time:\n",
    "                scale_factor *= Lap_sigma_list[time]**2/(Lap_sigma_list[time]**2-Lap_sigma_list[time_]**2)\n",
    "        normalized_factor += scale_factor   \n",
    "        Lap_curve += np.exp(-np.sqrt(2)*np.abs(px)/Lap_sigma_list[time]*num_time_samples)/np.sqrt(2)/Lap_sigma_list[time]*num_time_samples*scale_factor\n",
    "    \n",
    "    # Calculate the equivalent Gaussian pdf\n",
    "    Gauss_curve = np.exp(-px**2/2/Gauss_sigma**2)/np.sqrt(2*np.pi*Gauss_sigma**2)\n",
    "    \n",
    "    if np.isclose(normalized_factor,1,rtol=5e-1):\n",
    "        ax.plot(px, Lap_curve, ls='-', lw=2, label=\"Sum of Laplacian\", c='cyan')\n",
    "    ax.plot(px, Gauss_curve, ls='--', lw=2, label='Gaussian', c='slategrey')\n",
    "    bins_center = (bins_edge[1:] + bins_edge[0:-1])/2\n",
    "    outlier_3sigma = (np.sum(n_in_bins)-np.sum(n_in_bins[(-3*Gauss_sigma<=bins_center)*(bins_center<=3*Gauss_sigma)]))/np.sum(n_in_bins)\n",
    "    print(\"beyond 3sigma {}\".format(outlier_3sigma))\n",
    "    \n",
    "    # confidence interval\n",
    "    ax.axvline(x=3*Gauss_sigma, c='k', lw=1, ls=':')\n",
    "    ax.axvline(x=-3*Gauss_sigma, c='k', lw=1, ls=':')\n",
    "    ax.axvline(x=5*Gauss_sigma, c='navy', lw=1, ls=':')\n",
    "    ax.axvline(x=-5*Gauss_sigma, c='navy', lw=1, ls=':')\n",
    "    if ax_idx == 0:\n",
    "        ax.text(2.2*Gauss_sigma, 9*1e-12, r'$3 \\sigma$', ha=\"center\", va=\"center\", rotation=0,\n",
    "            fontsize=14,\n",
    "            bbox=dict(boxstyle=\"rarrow\", fc=\"green\", alpha=0.5))\n",
    "        ax.text(4.2*Gauss_sigma, 1e-10, r'$5 \\sigma$', ha=\"center\", va=\"center\", rotation=0,\n",
    "            fontsize=14,\n",
    "            bbox=dict(boxstyle=\"rarrow\", fc=\"green\", alpha=0.5))\n",
    "        ax.text(-2.2*Gauss_sigma, 9*1e-12, r'$3 \\sigma$', ha=\"center\", va=\"center\", rotation=0,\n",
    "            fontsize=14,\n",
    "            bbox=dict(boxstyle=\"larrow\", fc=\"green\", alpha=0.5))\n",
    "        ax.text(-4.2*Gauss_sigma, 1e-10, r'$5 \\sigma$', ha=\"center\", va=\"center\", rotation=0,\n",
    "            fontsize=14,\n",
    "            bbox=dict(boxstyle=\"larrow\", fc=\"green\", alpha=0.5))\n",
    "    \n",
    "    ax.tick_params(which='both', labelsize=16, length=3, width=0.5)\n",
    "    ax.xaxis.set_minor_locator(ticker.MultipleLocator(1e9))\n",
    "    xticks = ax.get_xticks()\n",
    "    ax.set_xticklabels(xticks/1e10)\n",
    "    ax.set_xlabel(\"$P(k_\\parallel)$ $[\\\\times 10^{10}\\,%s]$\" % psunits, fontsize=16)\n",
    "    if col_idx == 0: \n",
    "        ax.set_ylabel(\"pdf\", fontsize=16)\n",
    "    if ax_idx == 0:\n",
    "        ax.legend(loc='lower right', fontsize=14)\n",
    "    ax.set_title(\"Average over \\n{} timestamp(s)\".format(num_time_samples),bbox=dict(fc='wheat', alpha=0.5), fontsize=16, pad=15)\n",
    "fig.subplots_adjust(top=0.8)\n",
    "fig.suptitle(suptitle, fontsize=20, bbox=dict(fc='gold', alpha=0.5), x=0.5, y=0.99)\n",
    "print(len(uvp_plot.get_all_keys())*len(delay_args))"
   ]
  },
  {
   "cell_type": "code",
   "execution_count": 103,
   "id": "67916da6",
   "metadata": {
    "execution": {
     "iopub.execute_input": "2022-03-23T00:11:58.274189Z",
     "iopub.status.busy": "2022-03-23T00:11:58.273786Z",
     "iopub.status.idle": "2022-03-23T00:13:15.215502Z",
     "shell.execute_reply": "2022-03-23T00:13:15.216046Z"
    },
    "papermill": {
     "duration": 77.067916,
     "end_time": "2022-03-23T00:13:15.216167",
     "exception": false,
     "start_time": "2022-03-23T00:11:58.148251",
     "status": "completed"
    },
    "tags": []
   },
   "outputs": [
    {
     "name": "stderr",
     "output_type": "stream",
     "text": [
      "invalid value encountered in cdouble_scalars\n"
     ]
    },
    {
     "name": "stderr",
     "output_type": "stream",
     "text": [
      "invalid value encountered in true_divide\n",
      "Attempting to set identical left == right == -0.0 results in singular transformations; automatically expanding.\n",
      "invalid value encountered in true_divide\n",
      "invalid value encountered in true_divide\n",
      "FixedFormatter should only be used together with FixedLocator\n",
      "invalid value encountered in cdouble_scalars\n"
     ]
    },
    {
     "name": "stderr",
     "output_type": "stream",
     "text": [
      "invalid value encountered in true_divide\n",
      "Attempting to set identical left == right == -0.0 results in singular transformations; automatically expanding.\n",
      "invalid value encountered in double_scalars\n",
      "invalid value encountered in true_divide\n",
      "invalid value encountered in true_divide\n",
      "FixedFormatter should only be used together with FixedLocator\n",
      "invalid value encountered in cdouble_scalars\n"
     ]
    },
    {
     "name": "stderr",
     "output_type": "stream",
     "text": [
      "invalid value encountered in true_divide\n",
      "Attempting to set identical left == right == -0.0 results in singular transformations; automatically expanding.\n",
      "invalid value encountered in double_scalars\n",
      "invalid value encountered in true_divide\n",
      "invalid value encountered in true_divide\n",
      "FixedFormatter should only be used together with FixedLocator\n"
     ]
    },
    {
     "name": "stdout",
     "output_type": "stream",
     "text": [
      "9936\n"
     ]
    },
    {
     "data": {
      "image/png": "[encoded data removed]",
      "text/plain": [
       "<Figure size 1440x432 with 3 Axes>"
      ]
     },
     "metadata": {
      "needs_background": "light"
     },
     "output_type": "display_data"
    }
   ],
   "source": [
    "# used in paper\n",
    "# A larger window (500-1500), with normalization\n",
    "uvp_plot = uvp_PC_cov_n\n",
    "num_time_samples_list = [1,5,15]\n",
    "ylim = (5*1e-13,1e-9)\n",
    "dlys = uvp_plot.get_dlys(0) * 1e9\n",
    "delay_args = np.append(np.argwhere((dlys< -500)*(dlys>-1500)), np.argwhere((dlys< 1500)*(dlys>500)))\n",
    "suptitle = \"Inpainted+cable reflection removed, \" + r\"$500\\,{\\rm ns}<|\\tau|<1500\\,{\\rm ns}$\"\n",
    "\n",
    "fig, axes = plt.subplots(figsize=(20,6), ncols=3, nrows=1)\n",
    "for ax_idx, num_time_samples in enumerate(num_time_samples_list):\n",
    "    col_idx = ax_idx%3\n",
    "    times = np.arange(num_time_samples)\n",
    "   \n",
    "    # Get all keys\n",
    "    keys = uvp_plot.get_all_keys()\n",
    "    blpt_weights = np.array([[1. for item in times] for key in keys])\n",
    "    ps_real_time_avg = []\n",
    "    for dly in delay_args:\n",
    "        ps = np.array([[uvp_plot.get_data(key)[time, dly]*uvp_plot.get_stats(\"autos_diag\", keys[0])[time,0].real\\\n",
    "                        /uvp_plot.get_stats(\"autos_diag\", key)[time, dly].real for time in times] for key in keys])\n",
    "        ps_real_time_avg.extend((np.sum(ps.real*blpt_weights, axis=1)/np.sum(blpt_weights, axis=1).clip(1e-10, np.inf)).flatten())\n",
    "    ps_real_time_avg = np.array(ps_real_time_avg) - np.mean(ps_real_time_avg)\n",
    "    # The ratio of error bars to the original one\n",
    "    psunits = uvp_plot.units\n",
    "    if \"h^-1\" in psunits: psunits = psunits.replace(\"h^-1\", \"h^{-1}\")\n",
    "    if \"h^-3\" in psunits: psunits = psunits.replace(\"h^-3\", \"h^{-3}\")\n",
    "    if \"Mpc\" in psunits and \"\\\\rm\" not in psunits: \n",
    "        psunits = psunits.replace(\"Mpc\", r\"{\\rm Mpc}\")\n",
    "    if \"pi\" in psunits and \"\\\\pi\" not in psunits: \n",
    "        psunits = psunits.replace(\"pi\", r\"\\pi\")\n",
    "    \n",
    "    ax = axes[col_idx]\n",
    "    Lap_sigma_list = np.zeros(num_time_samples)\n",
    "    for time in times:\n",
    "        Lap_sigma_list[time] = uvp_plot.get_stats(\"autos_diag\", keys[0])[time, 0].real \n",
    "    Gauss_sigma = np.sqrt(np.sum(Lap_sigma_list**2))/num_time_samples\n",
    "    vlim = 6*Gauss_sigma\n",
    "    n_in_bins, bins_edge, _ = ax.hist(ps_real_time_avg, log=True, density=True, bins=61, range=(-vlim, vlim), alpha=0.75,\n",
    "                           color='pink')\n",
    "    ax.set_xlim(-vlim, vlim)\n",
    "    ax.set_ylim(*ylim)\n",
    "    \n",
    "    px = np.linspace(-vlim, vlim, 100)\n",
    "    Lap_curve = np.zeros_like(px)\n",
    "    normalized_factor = 0\n",
    "    for time in times:\n",
    "        scale_factor = 1\n",
    "        for time_ in times:\n",
    "            if time_ != time:\n",
    "                scale_factor *= Lap_sigma_list[time]**2/(Lap_sigma_list[time]**2-Lap_sigma_list[time_]**2)\n",
    "        normalized_factor += scale_factor   \n",
    "        Lap_curve += np.exp(-np.sqrt(2)*np.abs(px)/Lap_sigma_list[time]*num_time_samples)/np.sqrt(2)/Lap_sigma_list[time]*num_time_samples*scale_factor\n",
    "    \n",
    "    # Calculate the equivalent Gaussian pdf\n",
    "    Gauss_curve = np.exp(-px**2/2/Gauss_sigma**2)/np.sqrt(2*np.pi*Gauss_sigma**2)\n",
    "    \n",
    "    if np.isclose(normalized_factor,1,rtol=5e-1):\n",
    "        ax.plot(px, Lap_curve, ls='-', lw=2, label=\"sum of Laplacian\", c='cyan')\n",
    "    ax.plot(px, Gauss_curve, ls='--', lw=2, label='Gaussian', c='slategrey')\n",
    "    \n",
    "    # confidence interval\n",
    "    ax.axvline(x=3*Gauss_sigma, c='k', lw=1, ls=':')\n",
    "    ax.axvline(x=-3*Gauss_sigma, c='k', lw=1, ls=':')\n",
    "    ax.axvline(x=5*Gauss_sigma, c='navy', lw=1, ls=':')\n",
    "    ax.axvline(x=-5*Gauss_sigma, c='navy', lw=1, ls=':')\n",
    "    if ax_idx == 0:\n",
    "        ax.text(2.2*Gauss_sigma, 9*1e-12, r'$3 \\sigma$', ha=\"center\", va=\"center\", rotation=0,\n",
    "            fontsize=14,\n",
    "            bbox=dict(boxstyle=\"rarrow\", fc=\"green\", alpha=0.5))\n",
    "        ax.text(4.2*Gauss_sigma, 1e-10, r'$5 \\sigma$', ha=\"center\", va=\"center\", rotation=0,\n",
    "            fontsize=14,\n",
    "            bbox=dict(boxstyle=\"rarrow\", fc=\"green\", alpha=0.5))\n",
    "        ax.text(-2.2*Gauss_sigma, 9*1e-12, r'$3 \\sigma$', ha=\"center\", va=\"center\", rotation=0,\n",
    "            fontsize=14,\n",
    "            bbox=dict(boxstyle=\"larrow\", fc=\"green\", alpha=0.5))\n",
    "        ax.text(-4.2*Gauss_sigma, 1e-10, r'$5 \\sigma$', ha=\"center\", va=\"center\", rotation=0,\n",
    "            fontsize=14,\n",
    "            bbox=dict(boxstyle=\"larrow\", fc=\"green\", alpha=0.5))\n",
    "    \n",
    "    ax.tick_params(which='both', labelsize=16, length=3, width=0.5)\n",
    "    ax.xaxis.set_minor_locator(ticker.MultipleLocator(1e9))\n",
    "    xticks = ax.get_xticks()\n",
    "    ax.set_xticklabels(xticks/1e10)\n",
    "    ax.set_xlabel(\"$P(k_\\parallel)$ $[\\\\times 10^{10}\\,%s]$\" % psunits, fontsize=16)\n",
    "    if col_idx == 0: \n",
    "        ax.set_ylabel(\"pdf\", fontsize=16)\n",
    "    if ax_idx == 0:\n",
    "        ax.legend(loc='lower right', fontsize=14)\n",
    "    ax.set_title(\"Average over \\n{} timestamp(s)\".format(num_time_samples),bbox=dict(fc='wheat', alpha=0.5), fontsize=16, pad=15)\n",
    "fig.subplots_adjust(top=0.8)\n",
    "fig.suptitle(suptitle, fontsize=20, bbox=dict(fc='gold', alpha=0.5), x=0.5, y=0.99)\n",
    "print(len(uvp_plot.get_all_keys())*len(delay_args))"
   ]
  },
  {
   "cell_type": "markdown",
   "id": "98bc3a5f",
   "metadata": {
    "papermill": {
     "duration": 0.070368,
     "end_time": "2022-03-23T00:13:15.357154",
     "exception": false,
     "start_time": "2022-03-23T00:13:15.286786",
     "status": "completed"
    },
    "tags": []
   },
   "source": [
    "#### inpainted + xtalk + reflection"
   ]
  },
  {
   "cell_type": "code",
   "execution_count": 104,
   "id": "9165c610",
   "metadata": {
    "execution": {
     "iopub.execute_input": "2022-03-23T00:13:15.524034Z",
     "iopub.status.busy": "2022-03-23T00:13:15.523604Z",
     "iopub.status.idle": "2022-03-23T00:17:04.606607Z",
     "shell.execute_reply": "2022-03-23T00:17:04.607186Z"
    },
    "papermill": {
     "duration": 229.179872,
     "end_time": "2022-03-23T00:17:04.607307",
     "exception": false,
     "start_time": "2022-03-23T00:13:15.427435",
     "status": "completed"
    },
    "tags": []
   },
   "outputs": [
    {
     "name": "stderr",
     "output_type": "stream",
     "text": [
      "invalid value encountered in cdouble_scalars\n"
     ]
    },
    {
     "name": "stderr",
     "output_type": "stream",
     "text": [
      "invalid value encountered in true_divide\n",
      "Attempting to set identical left == right == -0.0 results in singular transformations; automatically expanding.\n",
      "invalid value encountered in true_divide\n",
      "invalid value encountered in true_divide\n",
      "FixedFormatter should only be used together with FixedLocator\n",
      "invalid value encountered in cdouble_scalars\n"
     ]
    },
    {
     "name": "stderr",
     "output_type": "stream",
     "text": [
      "invalid value encountered in true_divide\n",
      "Attempting to set identical left == right == -0.0 results in singular transformations; automatically expanding.\n",
      "invalid value encountered in double_scalars\n",
      "invalid value encountered in true_divide\n",
      "invalid value encountered in true_divide\n",
      "FixedFormatter should only be used together with FixedLocator\n",
      "invalid value encountered in cdouble_scalars\n"
     ]
    },
    {
     "name": "stderr",
     "output_type": "stream",
     "text": [
      "invalid value encountered in true_divide\n",
      "Attempting to set identical left == right == -0.0 results in singular transformations; automatically expanding.\n",
      "invalid value encountered in double_scalars\n",
      "invalid value encountered in true_divide\n",
      "invalid value encountered in true_divide\n",
      "FixedFormatter should only be used together with FixedLocator\n"
     ]
    },
    {
     "name": "stdout",
     "output_type": "stream",
     "text": [
      "30084\n"
     ]
    },
    {
     "data": {
      "image/png": "[encoded data removed]",
      "text/plain": [
       "<Figure size 1440x432 with 3 Axes>"
      ]
     },
     "metadata": {
      "needs_background": "light"
     },
     "output_type": "display_data"
    }
   ],
   "source": [
    "# used in paper\n",
    "# A larger window (2000), with normalization\n",
    "uvp_plot = uvp_PXC_cov_n\n",
    "num_time_samples_list = [1,5,15]\n",
    "ylim = (5*1e-13,1e-9)\n",
    "dlys = uvp_plot.get_dlys(0) * 1e9\n",
    "delay_args = np.append(np.argwhere(dlys< -2000), np.argwhere(dlys> 2000))\n",
    "suptitle = \"Inpainted+xtalk removed+cable reflection removed, \"+r\"$|\\tau|>2000 {\\rm ns}$\"\n",
    "\n",
    "fig, axes = plt.subplots(figsize=(20,6), ncols=3, nrows=1)\n",
    "for ax_idx, num_time_samples in enumerate(num_time_samples_list):\n",
    "    col_idx = ax_idx%3\n",
    "    times = np.arange(num_time_samples)\n",
    "   \n",
    "    # Get all keys\n",
    "    keys = uvp_plot.get_all_keys()\n",
    "    blpt_weights = np.array([[1. for item in times] for key in keys])\n",
    "    ps_real_time_avg = []\n",
    "    for dly in delay_args:\n",
    "        ps = np.array([[uvp_plot.get_data(key)[time, dly]*uvp_plot.get_stats(\"autos_diag\", keys[0])[time,0].real\\\n",
    "                        /uvp_plot.get_stats(\"autos_diag\", key)[time, dly].real for time in times] for key in keys])\n",
    "        ps_real_time_avg.extend((np.sum(ps.real*blpt_weights, axis=1)/np.sum(blpt_weights, axis=1).clip(1e-10, np.inf)).flatten())\n",
    "    ps_real_time_avg = np.array(ps_real_time_avg) - np.mean(ps_real_time_avg)\n",
    "    # The ratio of error bars to the original one\n",
    "    psunits = uvp_plot.units\n",
    "    if \"h^-1\" in psunits: psunits = psunits.replace(\"h^-1\", \"h^{-1}\")\n",
    "    if \"h^-3\" in psunits: psunits = psunits.replace(\"h^-3\", \"h^{-3}\")\n",
    "    if \"Mpc\" in psunits and \"\\\\rm\" not in psunits: \n",
    "        psunits = psunits.replace(\"Mpc\", r\"{\\rm Mpc}\")\n",
    "    if \"pi\" in psunits and \"\\\\pi\" not in psunits: \n",
    "        psunits = psunits.replace(\"pi\", r\"\\pi\")\n",
    "    \n",
    "    ax = axes[col_idx]\n",
    "    Lap_sigma_list = np.zeros(num_time_samples)\n",
    "    for time in times:\n",
    "        Lap_sigma_list[time] = uvp_plot.get_stats(\"autos_diag\", keys[0])[time, 0].real \n",
    "    Gauss_sigma = np.sqrt(np.sum(Lap_sigma_list**2))/num_time_samples\n",
    "    vlim = 6*Gauss_sigma\n",
    "    n_in_bins, bins_edge, _ = ax.hist(ps_real_time_avg, log=True, density=True, bins=61, range=(-vlim, vlim), alpha=0.75,\n",
    "                           color='pink')\n",
    "    ax.set_xlim(-vlim, vlim)\n",
    "    ax.set_ylim(*ylim)\n",
    "    \n",
    "    px = np.linspace(-vlim, vlim, 100)\n",
    "    Lap_curve = np.zeros_like(px)\n",
    "    normalized_factor = 0\n",
    "    for time in times:\n",
    "        scale_factor = 1\n",
    "        for time_ in times:\n",
    "            if time_ != time:\n",
    "                scale_factor *= Lap_sigma_list[time]**2/(Lap_sigma_list[time]**2-Lap_sigma_list[time_]**2)\n",
    "        normalized_factor += scale_factor   \n",
    "        Lap_curve += np.exp(-np.sqrt(2)*np.abs(px)/Lap_sigma_list[time]*num_time_samples)/np.sqrt(2)/Lap_sigma_list[time]*num_time_samples*scale_factor\n",
    "    \n",
    "    # Calculate the equivalent Gaussian pdf\n",
    "    Gauss_curve = np.exp(-px**2/2/Gauss_sigma**2)/np.sqrt(2*np.pi*Gauss_sigma**2)\n",
    "    \n",
    "    if np.isclose(normalized_factor,1,rtol=5e-1):\n",
    "        ax.plot(px, Lap_curve, ls='-', lw=2, label=\"sum of Laplacian\", c='cyan')\n",
    "    ax.plot(px, Gauss_curve, ls='--', lw=2, label='Gaussian', c='slategrey')\n",
    "    \n",
    "    # confidence interval\n",
    "    ax.axvline(x=3*Gauss_sigma, c='k', lw=1, ls=':')\n",
    "    ax.axvline(x=-3*Gauss_sigma, c='k', lw=1, ls=':')\n",
    "    ax.axvline(x=5*Gauss_sigma, c='navy', lw=1, ls=':')\n",
    "    ax.axvline(x=-5*Gauss_sigma, c='navy', lw=1, ls=':')\n",
    "    if ax_idx == 0:\n",
    "        ax.text(2.2*Gauss_sigma, 9*1e-12, r'$3 \\sigma$', ha=\"center\", va=\"center\", rotation=0,\n",
    "            fontsize=14,\n",
    "            bbox=dict(boxstyle=\"rarrow\", fc=\"green\", alpha=0.5))\n",
    "        ax.text(4.2*Gauss_sigma, 1e-10, r'$5 \\sigma$', ha=\"center\", va=\"center\", rotation=0,\n",
    "            fontsize=14,\n",
    "            bbox=dict(boxstyle=\"rarrow\", fc=\"green\", alpha=0.5))\n",
    "        ax.text(-2.2*Gauss_sigma, 9*1e-12, r'$3 \\sigma$', ha=\"center\", va=\"center\", rotation=0,\n",
    "            fontsize=14,\n",
    "            bbox=dict(boxstyle=\"larrow\", fc=\"green\", alpha=0.5))\n",
    "        ax.text(-4.2*Gauss_sigma, 1e-10, r'$5 \\sigma$', ha=\"center\", va=\"center\", rotation=0,\n",
    "            fontsize=14,\n",
    "            bbox=dict(boxstyle=\"larrow\", fc=\"green\", alpha=0.5))\n",
    "    \n",
    "    ax.tick_params(which='both', labelsize=16, length=3, width=0.5)\n",
    "    ax.xaxis.set_minor_locator(ticker.MultipleLocator(1e9))\n",
    "    xticks = ax.get_xticks()\n",
    "    ax.set_xticklabels(xticks/1e10)\n",
    "    ax.set_xlabel(\"$P(k_\\parallel)$ $[\\\\times 10^{10}\\,%s]$\" % psunits, fontsize=16)\n",
    "    if col_idx == 0: \n",
    "        ax.set_ylabel(\"pdf\", fontsize=16)\n",
    "    if ax_idx == 0:\n",
    "        ax.legend(loc='lower right', fontsize=14)\n",
    "    ax.set_title(\"Average over \\n{} timestamp(s)\".format(num_time_samples),bbox=dict(fc='wheat', alpha=0.5), fontsize=16, pad=15)\n",
    "fig.subplots_adjust(top=0.8)\n",
    "fig.suptitle(suptitle, fontsize=20, bbox=dict(fc='gold', alpha=0.5), x=0.5, y=0.99)\n",
    "print(len(uvp_plot.get_all_keys())*len(delay_args))"
   ]
  },
  {
   "cell_type": "code",
   "execution_count": 105,
   "id": "52fad9d0",
   "metadata": {
    "execution": {
     "iopub.execute_input": "2022-03-23T00:17:04.779038Z",
     "iopub.status.busy": "2022-03-23T00:17:04.778606Z",
     "iopub.status.idle": "2022-03-23T00:18:20.676519Z",
     "shell.execute_reply": "2022-03-23T00:18:20.677116Z"
    },
    "papermill": {
     "duration": 75.997206,
     "end_time": "2022-03-23T00:18:20.677238",
     "exception": false,
     "start_time": "2022-03-23T00:17:04.680032",
     "status": "completed"
    },
    "tags": []
   },
   "outputs": [
    {
     "name": "stderr",
     "output_type": "stream",
     "text": [
      "invalid value encountered in cdouble_scalars\n"
     ]
    },
    {
     "name": "stderr",
     "output_type": "stream",
     "text": [
      "invalid value encountered in true_divide\n",
      "Attempting to set identical left == right == -0.0 results in singular transformations; automatically expanding.\n",
      "invalid value encountered in true_divide\n",
      "invalid value encountered in true_divide\n",
      "FixedFormatter should only be used together with FixedLocator\n",
      "invalid value encountered in cdouble_scalars\n"
     ]
    },
    {
     "name": "stderr",
     "output_type": "stream",
     "text": [
      "invalid value encountered in true_divide\n",
      "Attempting to set identical left == right == -0.0 results in singular transformations; automatically expanding.\n",
      "invalid value encountered in double_scalars\n",
      "invalid value encountered in true_divide\n",
      "invalid value encountered in true_divide\n",
      "FixedFormatter should only be used together with FixedLocator\n",
      "invalid value encountered in cdouble_scalars\n"
     ]
    },
    {
     "name": "stderr",
     "output_type": "stream",
     "text": [
      "invalid value encountered in true_divide\n",
      "Attempting to set identical left == right == -0.0 results in singular transformations; automatically expanding.\n",
      "invalid value encountered in double_scalars\n",
      "invalid value encountered in true_divide\n",
      "invalid value encountered in true_divide\n",
      "FixedFormatter should only be used together with FixedLocator\n"
     ]
    },
    {
     "name": "stdout",
     "output_type": "stream",
     "text": [
      "9936\n"
     ]
    },
    {
     "data": {
      "image/png": "[encoded data removed]",
      "text/plain": [
       "<Figure size 1440x432 with 3 Axes>"
      ]
     },
     "metadata": {
      "needs_background": "light"
     },
     "output_type": "display_data"
    }
   ],
   "source": [
    "# used in paper\n",
    "# A larger window (500-1500), with normalization\n",
    "uvp_plot = uvp_PXC_cov_n\n",
    "num_time_samples_list = [1,5,15]\n",
    "ylim = (5*1e-13,1e-9)\n",
    "dlys = uvp_plot.get_dlys(0) * 1e9\n",
    "delay_args = np.append(np.argwhere((dlys< -500)*(dlys>-1500)), np.argwhere((dlys< 1500)*(dlys>500)))\n",
    "suptitle = \"Inpainted+xtalk removed+cable reflection removed, \" + r\"$500\\,{\\rm ns}<|\\tau|<1500\\,{\\rm ns}$\"\n",
    "\n",
    "fig, axes = plt.subplots(figsize=(20,6), ncols=3, nrows=1)\n",
    "for ax_idx, num_time_samples in enumerate(num_time_samples_list):\n",
    "    col_idx = ax_idx%3\n",
    "    times = np.arange(num_time_samples)\n",
    "   \n",
    "    # Get all keys\n",
    "    keys = uvp_plot.get_all_keys()\n",
    "    blpt_weights = np.array([[1. for item in times] for key in keys])\n",
    "    ps_real_time_avg = []\n",
    "    for dly in delay_args:\n",
    "        ps = np.array([[uvp_plot.get_data(key)[time, dly]*uvp_plot.get_stats(\"autos_diag\", keys[0])[time,0].real\\\n",
    "                        /uvp_plot.get_stats(\"autos_diag\", key)[time, dly].real for time in times] for key in keys])\n",
    "        ps_real_time_avg.extend((np.sum(ps.real*blpt_weights, axis=1)/np.sum(blpt_weights, axis=1).clip(1e-10, np.inf)).flatten())\n",
    "    ps_real_time_avg = np.array(ps_real_time_avg) - np.mean(ps_real_time_avg)\n",
    "    # The ratio of error bars to the original one\n",
    "    psunits = uvp_plot.units\n",
    "    if \"h^-1\" in psunits: psunits = psunits.replace(\"h^-1\", \"h^{-1}\")\n",
    "    if \"h^-3\" in psunits: psunits = psunits.replace(\"h^-3\", \"h^{-3}\")\n",
    "    if \"Mpc\" in psunits and \"\\\\rm\" not in psunits: \n",
    "        psunits = psunits.replace(\"Mpc\", r\"{\\rm Mpc}\")\n",
    "    if \"pi\" in psunits and \"\\\\pi\" not in psunits: \n",
    "        psunits = psunits.replace(\"pi\", r\"\\pi\")\n",
    "    \n",
    "    ax = axes[col_idx]\n",
    "    Lap_sigma_list = np.zeros(num_time_samples)\n",
    "    for time in times:\n",
    "        Lap_sigma_list[time] = uvp_plot.get_stats(\"autos_diag\", keys[0])[time, 0].real \n",
    "    Gauss_sigma = np.sqrt(np.sum(Lap_sigma_list**2))/num_time_samples\n",
    "    vlim = 6*Gauss_sigma\n",
    "    n_in_bins, bins_edge, _ = ax.hist(ps_real_time_avg, log=True, density=True, bins=61, range=(-vlim, vlim), alpha=0.75,\n",
    "                           color='pink')\n",
    "    ax.set_xlim(-vlim, vlim)\n",
    "    ax.set_ylim(*ylim)\n",
    "    \n",
    "    px = np.linspace(-vlim, vlim, 100)\n",
    "    Lap_curve = np.zeros_like(px)\n",
    "    normalized_factor = 0\n",
    "    for time in times:\n",
    "        scale_factor = 1\n",
    "        for time_ in times:\n",
    "            if time_ != time:\n",
    "                scale_factor *= Lap_sigma_list[time]**2/(Lap_sigma_list[time]**2-Lap_sigma_list[time_]**2)\n",
    "        normalized_factor += scale_factor   \n",
    "        Lap_curve += np.exp(-np.sqrt(2)*np.abs(px)/Lap_sigma_list[time]*num_time_samples)/np.sqrt(2)/Lap_sigma_list[time]*num_time_samples*scale_factor\n",
    "    \n",
    "    # Calculate the equivalent Gaussian pdf\n",
    "    Gauss_curve = np.exp(-px**2/2/Gauss_sigma**2)/np.sqrt(2*np.pi*Gauss_sigma**2)\n",
    "    \n",
    "    if np.isclose(normalized_factor,1,rtol=5e-1):\n",
    "        ax.plot(px, Lap_curve, ls='-', lw=2, label=\"sum of Laplacian\", c='cyan')\n",
    "    ax.plot(px, Gauss_curve, ls='--', lw=2, label='Gaussian', c='slategrey')\n",
    "    \n",
    "    # confidence interval\n",
    "    ax.axvline(x=3*Gauss_sigma, c='k', lw=1, ls=':')\n",
    "    ax.axvline(x=-3*Gauss_sigma, c='k', lw=1, ls=':')\n",
    "    ax.axvline(x=5*Gauss_sigma, c='navy', lw=1, ls=':')\n",
    "    ax.axvline(x=-5*Gauss_sigma, c='navy', lw=1, ls=':')\n",
    "    if ax_idx == 0:\n",
    "        ax.text(2.2*Gauss_sigma, 9*1e-12, r'$3 \\sigma$', ha=\"center\", va=\"center\", rotation=0,\n",
    "            fontsize=14,\n",
    "            bbox=dict(boxstyle=\"rarrow\", fc=\"green\", alpha=0.5))\n",
    "        ax.text(4.2*Gauss_sigma, 1e-10, r'$5 \\sigma$', ha=\"center\", va=\"center\", rotation=0,\n",
    "            fontsize=14,\n",
    "            bbox=dict(boxstyle=\"rarrow\", fc=\"green\", alpha=0.5))\n",
    "        ax.text(-2.2*Gauss_sigma, 9*1e-12, r'$3 \\sigma$', ha=\"center\", va=\"center\", rotation=0,\n",
    "            fontsize=14,\n",
    "            bbox=dict(boxstyle=\"larrow\", fc=\"green\", alpha=0.5))\n",
    "        ax.text(-4.2*Gauss_sigma, 1e-10, r'$5 \\sigma$', ha=\"center\", va=\"center\", rotation=0,\n",
    "            fontsize=14,\n",
    "            bbox=dict(boxstyle=\"larrow\", fc=\"green\", alpha=0.5))\n",
    "    \n",
    "    ax.tick_params(which='both', labelsize=16, length=3, width=0.5)\n",
    "    ax.xaxis.set_minor_locator(ticker.MultipleLocator(1e9))\n",
    "    xticks = ax.get_xticks()\n",
    "    ax.set_xticklabels(xticks/1e10)\n",
    "    ax.set_xlabel(\"$P(k_\\parallel)$ $[\\\\times 10^{10}\\,%s]$\" % psunits, fontsize=16)\n",
    "    if col_idx == 0: \n",
    "        ax.set_ylabel(\"pdf\", fontsize=16)\n",
    "    if ax_idx == 0:\n",
    "        ax.legend(loc='lower right', fontsize=14)\n",
    "    ax.set_title(\"Average over \\n{} timestamp(s)\".format(num_time_samples),bbox=dict(fc='wheat', alpha=0.5), fontsize=16, pad=15)\n",
    "fig.subplots_adjust(top=0.8)\n",
    "fig.suptitle(suptitle, fontsize=20, bbox=dict(fc='gold', alpha=0.5), x=0.5, y=0.99)\n",
    "print(len(uvp_plot.get_all_keys())*len(delay_args))"
   ]
  },
  {
   "cell_type": "code",
   "execution_count": null,
   "id": "361c85d3",
   "metadata": {
    "papermill": {
     "duration": 0.107323,
     "end_time": "2022-03-23T00:18:20.951274",
     "exception": false,
     "start_time": "2022-03-23T00:18:20.843951",
     "status": "completed"
    },
    "tags": []
   },
   "outputs": [],
   "source": []
  }
 ],
 "metadata": {
  "kernelspec": {
   "display_name": "Python 3 (ipykernel)",
   "language": "python",
   "name": "python3"
  },
  "language_info": {
   "codemirror_mode": {
    "name": "ipython",
    "version": 3
   },
   "file_extension": ".py",
   "mimetype": "text/x-python",
   "name": "python",
   "nbconvert_exporter": "python",
   "pygments_lexer": "ipython3",
   "version": "3.9.6"
  },
  "papermill": {
   "default_parameters": {},
   "duration": 10853.343137,
   "end_time": "2022-03-23T00:18:23.605456",
   "environment_variables": {},
   "exception": null,
   "input_path": "PaperPlots-IDR2_2.ipynb",
   "output_path": "PaperPlots-IDR2_2_478159.ipynb",
   "parameters": {},
   "start_time": "2022-03-22T21:17:30.262319",
   "version": "2.3.4"
  }
 },
 "nbformat": 4,
 "nbformat_minor": 5
}